{
 "cells": [
  {
   "cell_type": "code",
   "execution_count": 1,
   "metadata": {},
   "outputs": [
    {
     "name": "stderr",
     "output_type": "stream",
     "text": [
      "\n",
      "Bad key \"text.kerning_factor\" on line 4 in\n",
      "/uscms_data/d3/dhoang/miniconda3/lib/python3.7/site-packages/matplotlib/mpl-data/stylelib/_classic_test_patch.mplstyle.\n",
      "You probably need to get an updated matplotlibrc file from\n",
      "https://github.com/matplotlib/matplotlib/blob/v3.1.3/matplotlibrc.template\n",
      "or from the matplotlib source distribution\n"
     ]
    }
   ],
   "source": [
    "#Data processing\n",
    "import os\n",
    "import pandas as pd\n",
    "import numpy as np\n",
    "import matplotlib.pyplot as plt\n",
    "import scipy.stats\n",
    "from collections import Counter\n",
    "import time\n",
    "#from nptdms import TdmsFile #Process raw ramping file"
   ]
  },
  {
   "cell_type": "code",
   "execution_count": null,
   "metadata": {},
   "outputs": [],
   "source": [
    "def load_sensor(dir_path, sensor, time_range = None):\n",
    "    \n",
    "    data = pd.DataFrame(data = {sensor: np.load(dir_path + sensor + \".npy\"),\n",
    "                                \"time\": np.load(dir_path + \"time.npy\")})\n",
    "    \n",
    "    start = min(data[\"time\"])\n",
    "    end = max(data[\"time\"])\n",
    "    \n",
    "    if time_range:\n",
    "        start = time_range[0]\n",
    "        end = time_range[1]\n",
    "    \n",
    "    \n",
    "    data = data[(data[\"time\"] > start) & (data[\"time\"] < end)]\n",
    "   \n",
    "    %reset -f in\n",
    "    \n",
    "    return data[sensor]\n",
    "\n",
    "def load_time(dir_path, time_range = None):\n",
    "    \n",
    "    tdata = np.load(dir_path + \"time.npy\")\n",
    "    \n",
    "    start = min(tdata)\n",
    "    end = max(tdata)\n",
    "    \n",
    "    if time_range:\n",
    "        start = time_range[0]\n",
    "        end = time_range[1]\n",
    "    \n",
    "    \n",
    "    tdata = tdata[(tdata > start) & (tdata < end)]\n",
    "   \n",
    "    %reset -f in\n",
    "    \n",
    "    return tdata\n",
    "\n",
    "#########-------Zero crossings---------###########\n",
    "\n",
    "def zero_crossings(array):\n",
    "    \n",
    "    #Set values outside of range (0.001, 0.1) = 0\n",
    "    array[abs(array) > 0.1] = 0\n",
    "    array[abs(array) < 0.015] = 0\n",
    "    \n",
    "    #Calculate number of zero-crossing points, normalized by the window size\n",
    "    zero_crossings = ((array[:-1] * array[1:]) < 0).sum()/array.size\n",
    "    \n",
    "    return zero_crossings\n",
    "\n",
    "\n",
    "def plot_zero_crossings(dir_path, channel, time_range = None, window = 2000, step = 10):\n",
    "    \n",
    "    time_axis = load_time(dir_path, time_range)[window-1::step]\n",
    "    zero_sensor = load_sensor(dir_path, channel, time_range = time_range).rolling(window=window).apply(zero_crossings, raw = True).to_numpy()[window-1::step]\n",
    "    \n",
    "    #Zero crossings plot\n",
    "    plt.figure(figsize=(20,2))\n",
    "    plt.plot(time_axis, zero_sensor,\n",
    "             label = \"Number of normalized zero-crossings\",\n",
    "             color = 'orange')\n",
    "    plt.xlabel(\"Time (s)\")\n",
    "    plt.title(\"Variable {}'s normalized Zero crossings\".format(channel))\n",
    "    plt.show()\n",
    "    \n",
    "    %reset -f in\n",
    "        \n",
    "def plot_zero_crossings_product(dir_path, time_range = None, window = 25000, step = 10):\n",
    "    time_axis = load_time(dir_path, time_range)[window-1::step]\n",
    "    ai0 = load_sensor(dir_path, \"ai0\", time_range = time_range).rolling(window=window).apply(zero_crossings, raw = True).to_numpy()[window-1::step]\n",
    "    ai1 = load_sensor(dir_path, \"ai1\", time_range = time_range).rolling(window=window).apply(zero_crossings, raw = True).to_numpy()[window-1::step]\n",
    "    ai2 = load_sensor(dir_path, \"ai2\", time_range = time_range).rolling(window=window).apply(zero_crossings, raw = True).to_numpy()[window-1::step]\n",
    "    ai3 = load_sensor(dir_path, \"ai3\", time_range = time_range).rolling(window=window).apply(zero_crossings, raw = True).to_numpy()[window-1::step]\n",
    "    ai4 = load_sensor(dir_path, \"ai4\", time_range = time_range).rolling(window=window).apply(zero_crossings, raw = True).to_numpy()[window-1::step]\n",
    "    \n",
    "    product = ai0*ai1*ai2*ai3*ai4\n",
    "    \n",
    "    #Plot\n",
    "    plt.figure(figsize=(20,2))\n",
    "    plt.plot(time_axis, product)\n",
    "    plt.xlabel(\"Time (s)\")\n",
    "    plt.title(\"Product of zero crossings across all sensors.\")\n",
    "    \n",
    "    %reset -f in\n",
    "    \n",
    "def load_and_plot(dir_path, channel, time_range):\n",
    "    \n",
    "    signal = load_sensor(dir_path, channel, time_range)\n",
    "    time_axis = load_time(dir_path, time_range)\n",
    "    \n",
    "    plt.figure(figsize=(20,2))\n",
    "    plt.plot(time_axis, signal)\n",
    "    \n",
    "    plt.xlabel(\"Time (s)\")\n",
    "    plt.grid(True)\n",
    "    \n",
    "    %reset -f in\n",
    "    \n",
    "def save_cross(dir_path, time_range = None, window = 25000, step = 10):\n",
    "    \n",
    "    time_axis = load_time(dir_path, time_range)[window-1::step]\n",
    "    ai0 = load_sensor(dir_path, \"ai0\", time_range = time_range).rolling(window=window).apply(zero_crossings, raw = True).to_numpy()[window-1::step]\n",
    "    ai1 = load_sensor(dir_path, \"ai1\", time_range = time_range).rolling(window=window).apply(zero_crossings, raw = True).to_numpy()[window-1::step]\n",
    "    ai2 = load_sensor(dir_path, \"ai2\", time_range = time_range).rolling(window=window).apply(zero_crossings, raw = True).to_numpy()[window-1::step]\n",
    "    ai3 = load_sensor(dir_path, \"ai3\", time_range = time_range).rolling(window=window).apply(zero_crossings, raw = True).to_numpy()[window-1::step]\n",
    "    ai4 = load_sensor(dir_path, \"ai4\", time_range = time_range).rolling(window=window).apply(zero_crossings, raw = True).to_numpy()[window-1::step]\n",
    "    \n",
    "    product = ai0*ai1*ai2*ai3*ai4\n",
    "    \n",
    "    %reset -f in\n",
    "    \n",
    "    np.save(dir_path + \"cross-product\", product)"
   ]
  },
  {
   "cell_type": "markdown",
   "metadata": {},
   "source": [
    "-------"
   ]
  },
  {
   "cell_type": "code",
   "execution_count": 5,
   "metadata": {},
   "outputs": [],
   "source": [
    "X = np.load(\"./data/Ramp20/cross-product.npy\")"
   ]
  },
  {
   "cell_type": "code",
   "execution_count": 20,
   "metadata": {},
   "outputs": [
    {
     "data": {
      "text/plain": [
       "[<matplotlib.lines.Line2D at 0x7f05c3fef890>]"
      ]
     },
     "execution_count": 20,
     "metadata": {},
     "output_type": "execute_result"
    },
    {
     "data": {
      "image/png": "[encoded data removed]",
      "text/plain": [
       "<Figure size 1440x144 with 1 Axes>"
      ]
     },
     "metadata": {
      "needs_background": "light"
     },
     "output_type": "display_data"
    }
   ],
   "source": [
    "plt.figure(figsize=(20,2))\n",
    "plt.plot(X**4.5)"
   ]
  },
  {
   "cell_type": "code",
   "execution_count": 13,
   "metadata": {},
   "outputs": [],
   "source": [
    "Y = np.load(\"./data/Ramp19/cross-product.npy\")"
   ]
  },
  {
   "cell_type": "code",
   "execution_count": 17,
   "metadata": {},
   "outputs": [
    {
     "data": {
      "text/plain": [
       "[<matplotlib.lines.Line2D at 0x7f05c87a9210>]"
      ]
     },
     "execution_count": 17,
     "metadata": {},
     "output_type": "execute_result"
    },
    {
     "data": {
      "image/png": "[encoded data removed]",
      "text/plain": [
       "<Figure size 1440x144 with 1 Axes>"
      ]
     },
     "metadata": {
      "needs_background": "light"
     },
     "output_type": "display_data"
    }
   ],
   "source": [
    "plt.figure(figsize=(20,2))\n",
    "plt.plot(Y**4.5)"
   ]
  },
  {
   "cell_type": "code",
   "execution_count": null,
   "metadata": {},
   "outputs": [],
   "source": []
  }
 ],
 "metadata": {
  "kernelspec": {
   "display_name": "Python 3",
   "language": "python",
   "name": "python3"
  },
  "language_info": {
   "codemirror_mode": {
    "name": "ipython",
    "version": 3
   },
   "file_extension": ".py",
   "mimetype": "text/x-python",
   "name": "python",
   "nbconvert_exporter": "python",
   "pygments_lexer": "ipython3",
   "version": "3.7.6"
  }
 },
 "nbformat": 4,
 "nbformat_minor": 4
}
