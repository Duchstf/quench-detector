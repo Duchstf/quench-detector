{
 "cells": [
  {
   "cell_type": "markdown",
   "metadata": {},
   "source": [
    "# Ramp 29 - All sensors - 2"
   ]
  },
  {
   "cell_type": "code",
   "execution_count": 1,
   "metadata": {},
   "outputs": [
    {
     "name": "stderr",
     "output_type": "stream",
     "text": [
      "\n",
      "Bad key \"text.kerning_factor\" on line 4 in\n",
      "/uscms_data/d3/dhoang/miniconda3/lib/python3.7/site-packages/matplotlib/mpl-data/stylelib/_classic_test_patch.mplstyle.\n",
      "You probably need to get an updated matplotlibrc file from\n",
      "https://github.com/matplotlib/matplotlib/blob/v3.1.3/matplotlibrc.template\n",
      "or from the matplotlib source distribution\n",
      "Using TensorFlow backend.\n"
     ]
    }
   ],
   "source": [
    "#Data processing\n",
    "import os\n",
    "import pandas as pd\n",
    "import numpy as np\n",
    "import matplotlib.pyplot as plt\n",
    "import seaborn as sns\n",
    "from nptdms import TdmsFile #Process ramping file\n",
    "\n",
    "#For building ML models\n",
    "import keras\n",
    "import keras.models as models\n",
    "from keras.layers.core import Dense\n",
    "from keras import regularizers"
   ]
  },
  {
   "cell_type": "markdown",
   "metadata": {},
   "source": [
    "## 0. Helper functions"
   ]
  },
  {
   "cell_type": "code",
   "execution_count": 2,
   "metadata": {},
   "outputs": [],
   "source": [
    "def load_channel_and_time(dir_path, channel):\n",
    "    data_frame = pd.DataFrame(data = {channel: np.load(dir_path + channel + \".npy\"),\n",
    "                                     \"time\": np.load(dir_path + \"time.npy\")})\n",
    "    return data_frame\n",
    "    \n",
    "def generate_data(dir_path, channel, time_range, window = 1000, step = 10):\n",
    "    #Load the data\n",
    "    data = load_channel_and_time(dir_path, channel)\n",
    "    \n",
    "    #Select the part\n",
    "    start = time_range[0]\n",
    "    end = time_range[1]\n",
    "    data = data[(data[\"time\"] > start) & (data[\"time\"] < end)]\n",
    "    \n",
    "    #Calculate the statistics\n",
    "    #data[\"Mean\"] = data.loc[:, channel].abs().rolling(window=window).mean()\n",
    "    data[\"SD\"] = data.loc[:, channel].rolling(window=window).std()\n",
    "    #data[\"Kurtosis\"] = data.loc[:, channel].rolling(window=window).kurt()\n",
    "    #data[\"Skew\"] = data.loc[:, channel].rolling(window=window).skew()\n",
    "    \n",
    "    select_list = [\"SD\"]\n",
    "    \n",
    "    assert data[select_list].to_numpy()[window-1::step].shape[0] == data['time'].to_numpy()[window-1::step].shape[0]\n",
    "    \n",
    "    %reset -f in\n",
    "    \n",
    "    return data[select_list].to_numpy()[window-1::step], data['time'].to_numpy()[window-1::step]\n",
    "\n",
    "def generate_data_no_time(dir_path, channel, time_range, window = 1000, step = 10):\n",
    "    #Load the data\n",
    "    data = load_channel_and_time(dir_path, channel)\n",
    "    \n",
    "    #Select the part\n",
    "    start = time_range[0]\n",
    "    end = time_range[1]\n",
    "    data = data[(data[\"time\"] > start) & (data[\"time\"] < end)]\n",
    "    \n",
    "    #Calculate the statistics\n",
    "    #data[\"Mean\"] = data.loc[:, channel].abs().rolling(window=window).mean()\n",
    "    data[\"SD\"] = data.loc[:, channel].rolling(window=window).std()\n",
    "    #data[\"Kurtosis\"] = data.loc[:, channel].rolling(window=window).kurt()\n",
    "    #data[\"Skew\"] = data.loc[:, channel].rolling(window=window).skew()\n",
    "    \n",
    "    select_list = [\"SD\"]\n",
    "    \n",
    "    %reset -f in\n",
    "    \n",
    "    return data[select_list].to_numpy()[window-1::step]\n",
    "\n",
    "def generate_data_all_sensors(dir_path, time_range, window = 1000, step = 10):\n",
    "    \n",
    "    ai0, time = generate_data(dir_path, \"ai0\", time_range = time_range, window = window, step = step)\n",
    "    ai1 = generate_data_no_time(dir_path, \"ai1\", time_range = time_range, window = window, step = step)\n",
    "    ai2 = generate_data_no_time(dir_path, \"ai2\", time_range = time_range, window = window, step = step)\n",
    "    ai3 = generate_data_no_time(dir_path, \"ai3\", time_range = time_range, window = window, step = step)\n",
    "    ai4 = generate_data_no_time(dir_path, \"ai4\", time_range = time_range, window = window, step = step)\n",
    "    \n",
    "    #Multiply them all together\n",
    "    product_var = ai0*ai1*ai2*ai3*ai4\n",
    "    \n",
    "    \n",
    "    all_channels = np.concatenate((ai0,ai1,ai2,ai3,ai4,product_var), axis = 1)\n",
    "    \n",
    "    %reset -f in\n",
    "    \n",
    "    return all_channels, time\n",
    "\n",
    "def plot_moving_mean(dir_path, channel, time_range, window = 1000, step = 10):\n",
    "    #Load the data\n",
    "    data = load_channel_and_time(dir_path, channel)\n",
    "    \n",
    "    #Select the part\n",
    "    start = time_range[0]\n",
    "    end = time_range[1]\n",
    "    data = data[(data[\"time\"] > start) & (data[\"time\"] < end)]\n",
    "    \n",
    "    #Calculate the mean\n",
    "    data[\"Mean\"] = data.loc[:, channel].abs().rolling(window=window).mean()\n",
    "    \n",
    "    #Plot\n",
    "    plt.figure(figsize=(20,2))\n",
    "    plt.plot(data['time'].to_numpy()[window-1::step], data[\"Mean\"].to_numpy()[window-1::step], label = \"Mean of abs(data)\")\n",
    "    plt.legend(loc = \"upper right\")\n",
    "    plt.xlabel(\"Time (s)\")\n",
    "    plt.title(\"Sensor {}'s moving mean\".format(channel))\n",
    "    \n",
    "    %reset -f in\n",
    "    \n",
    "def load_sensor(dir_path, sensor, time_range = None):\n",
    "    \n",
    "    data = pd.DataFrame(data = {sensor: np.load(dir_path + sensor + \".npy\"),\n",
    "                                \"time\": np.load(dir_path + \"time.npy\")})\n",
    "    \n",
    "    start = min(data[\"time\"])\n",
    "    end = max(data[\"time\"])\n",
    "    \n",
    "    if time_range:\n",
    "        start = time_range[0]\n",
    "        end = time_range[1]\n",
    "    \n",
    "    \n",
    "    data = data[(data[\"time\"] > start) & (data[\"time\"] < end)]\n",
    "   \n",
    "    %reset -f in\n",
    "    \n",
    "    return data\n",
    "    \n",
    "def plot_product_mean(dir_path, time_range, window = 1000, step = 10):\n",
    "    #Load the data\n",
    "    ai0 = load_sensor(dir_path, \"ai0\", time_range = time_range)\n",
    "    ai1 = load_sensor(dir_path, \"ai1\", time_range = time_range)[\"ai1\"].abs().rolling(window=window).mean().to_numpy()[window-1::step]\n",
    "    ai2 = load_sensor(dir_path, \"ai2\", time_range = time_range)[\"ai2\"].abs().rolling(window=window).mean().to_numpy()[window-1::step]\n",
    "    ai3 = load_sensor(dir_path, \"ai3\", time_range = time_range)[\"ai3\"].abs().rolling(window=window).mean().to_numpy()[window-1::step]\n",
    "    ai4 = load_sensor(dir_path, \"ai4\", time_range = time_range)[\"ai4\"].abs().rolling(window=window).mean().to_numpy()[window-1::step]\n",
    "    \n",
    "    time_axis = ai0['time'].to_numpy()[window-1::step]\n",
    "    \n",
    "    ai0 = ai0[\"ai0\"].abs().rolling(window=window).mean().to_numpy()[window-1::step]\n",
    "    \n",
    "    product = ai0*ai1*ai2*ai3*ai4\n",
    "    \n",
    "    #Plot\n",
    "    plt.figure(figsize=(20,2))\n",
    "    plt.plot(time_axis, product)\n",
    "    plt.xlabel(\"Time (s)\")\n",
    "    plt.title(\"Product of moving means\")\n",
    "    \n",
    "def plot_SD(dir_path, channel, time_range, window = 2000, step = 10):\n",
    "    \n",
    "    #Load the data\n",
    "    data = load_channel_and_time(dir_path, channel)\n",
    "    \n",
    "    #Select the part\n",
    "    start = time_range[0]\n",
    "    end = time_range[1]\n",
    "    data = data[(data[\"time\"] > start) & (data[\"time\"] < end)]\n",
    "    \n",
    "    #Calculate the mean\n",
    "    data[\"SD\"] = data.loc[:, channel].abs().rolling(window=window).std()\n",
    "    \n",
    "    #Plot\n",
    "    plt.figure(figsize=(20,2))\n",
    "    plt.plot(data['time'].to_numpy()[window-1::step], data[\"SD\"].to_numpy()[window-1::step], label = \"Standard deviation\", color = \"red\")\n",
    "    plt.legend(loc = \"upper right\")\n",
    "    plt.xlabel(\"Time (s)\")\n",
    "    plt.title(\"Sensor {}'s moving standard deviation\".format(channel))\n",
    "    \n",
    "    %reset -f in\n",
    "\n",
    "\n",
    "def plot_product_SD(dir_path, time_range, window = 1000, step = 10):\n",
    "    #Load the data\n",
    "    ai0 = load_sensor(dir_path, \"ai0\", time_range = time_range)\n",
    "    ai1 = load_sensor(dir_path, \"ai1\", time_range = time_range)[\"ai1\"].rolling(window=window).std().to_numpy()[window-1::step]\n",
    "    ai2 = load_sensor(dir_path, \"ai2\", time_range = time_range)[\"ai2\"].rolling(window=window).std().to_numpy()[window-1::step]\n",
    "    ai3 = load_sensor(dir_path, \"ai3\", time_range = time_range)[\"ai3\"].rolling(window=window).std().to_numpy()[window-1::step]\n",
    "    ai4 = load_sensor(dir_path, \"ai4\", time_range = time_range)[\"ai4\"].rolling(window=window).std().to_numpy()[window-1::step]\n",
    "    \n",
    "    time_axis = ai0['time'].to_numpy()[window-1::step]\n",
    "    \n",
    "    ai0 = ai0[\"ai0\"].rolling(window=window).std().to_numpy()[window-1::step]\n",
    "    \n",
    "    product = ai0*ai1*ai2*ai3*ai4\n",
    "    \n",
    "    #Plot\n",
    "    plt.figure(figsize=(20,2))\n",
    "    plt.plot(time_axis, product, color = \"red\")\n",
    "    plt.xlabel(\"Time (s)\")\n",
    "    plt.title(\"Product of moving standard deviations\")"
   ]
  },
  {
   "cell_type": "code",
   "execution_count": 3,
   "metadata": {},
   "outputs": [],
   "source": [
    "def generate_mean_data(dir_path, time_range, window = 2000, step = 10):\n",
    "    #Load the data\n",
    "    ai0 = load_sensor(dir_path, \"ai0\", time_range = time_range)[\"ai0\"].abs().rolling(window=window).mean().to_numpy()[window-1::step]\n",
    "    ai1 = load_sensor(dir_path, \"ai1\", time_range = time_range)[\"ai1\"].abs().rolling(window=window).mean().to_numpy()[window-1::step]\n",
    "    ai2 = load_sensor(dir_path, \"ai2\", time_range = time_range)[\"ai2\"].abs().rolling(window=window).mean().to_numpy()[window-1::step]\n",
    "    ai3 = load_sensor(dir_path, \"ai3\", time_range = time_range)[\"ai3\"].abs().rolling(window=window).mean().to_numpy()[window-1::step]\n",
    "    ai4 = load_sensor(dir_path, \"ai4\", time_range = time_range)[\"ai4\"].abs().rolling(window=window).mean().to_numpy()[window-1::step]\n",
    "    \n",
    "    #Calculate the product\n",
    "    product = ai0*ai1*ai2*ai3*ai4\n",
    "    \n",
    "    #Stack them together\n",
    "    all_mean = np.vstack((ai0,ai1,ai2,ai3,ai4, product)).transpose()\n",
    "    \n",
    "    %reset -f in\n",
    "    \n",
    "    return all_mean\n",
    "\n",
    "def generate_sd_data(dir_path, time_range, window = 2000, step = 10):\n",
    "    #Load the data\n",
    "    ai0 = load_sensor(dir_path, \"ai0\", time_range = time_range)[\"ai0\"].rolling(window=window).std().to_numpy()[window-1::step]\n",
    "    ai1 = load_sensor(dir_path, \"ai1\", time_range = time_range)[\"ai1\"].rolling(window=window).std().to_numpy()[window-1::step]\n",
    "    ai2 = load_sensor(dir_path, \"ai2\", time_range = time_range)[\"ai2\"].rolling(window=window).std().to_numpy()[window-1::step]\n",
    "    ai3 = load_sensor(dir_path, \"ai3\", time_range = time_range)[\"ai3\"].rolling(window=window).std().to_numpy()[window-1::step]\n",
    "    ai4 = load_sensor(dir_path, \"ai4\", time_range = time_range)[\"ai4\"].rolling(window=window).std().to_numpy()[window-1::step]\n",
    "    \n",
    "    #Calculate the product\n",
    "    product = ai0*ai1*ai2*ai3*ai4\n",
    "    \n",
    "    #Stack them together\n",
    "    all_sd = np.vstack((ai0,ai1,ai2,ai3,ai4, product)).transpose()\n",
    "    \n",
    "    %reset -f in\n",
    "    \n",
    "    return all_sd\n",
    "\n",
    "def load_time_label(dir_path, time_range, window = 2000, step = 10):\n",
    "    \n",
    "    time_label =  np.load(dir_path + \"time.npy\")\n",
    "    \n",
    "    start = min(time_label)\n",
    "    end = max(time_label)\n",
    "    \n",
    "    if time_range:\n",
    "        start = time_range[0]\n",
    "        end = time_range[1]\n",
    "    \n",
    "    \n",
    "    time_label = time_label[(time_label > start) & (time_label < end)][window-1::step]\n",
    "    \n",
    "    %reset -f in\n",
    "    \n",
    "    return time_label\n",
    "    \n",
    "\n",
    "def generate_data(dir_path, time_range, window = 2000, step = 10):\n",
    "    \n",
    "    moving_mean = generate_mean_data(dir_path, time_range, window = 2000, step = 10)\n",
    "    moving_sd = generate_sd_data(dir_path, time_range, window = 2000, step = 10)\n",
    "    time_label = load_time_label(dir_path, time_range, window = 2000, step = 10)\n",
    "    \n",
    "    all_data = np.concatenate((moving_mean, moving_sd), axis = 1)\n",
    "    \n",
    "    %reset -f in\n",
    "    \n",
    "    return all_data, time_label"
   ]
  },
  {
   "cell_type": "markdown",
   "metadata": {},
   "source": [
    "## 1. ML!"
   ]
  },
  {
   "cell_type": "code",
   "execution_count": 4,
   "metadata": {},
   "outputs": [
    {
     "name": "stdout",
     "output_type": "stream",
     "text": [
      "Flushing input history\n",
      "Flushing input history\n",
      "Flushing input history\n",
      "Flushing input history\n",
      "Flushing input history\n",
      "Flushing input history\n",
      "Flushing input history\n",
      "Flushing input history\n",
      "Flushing input history\n",
      "Flushing input history\n",
      "Flushing input history\n",
      "Flushing input history\n",
      "Flushing input history\n",
      "Flushing input history\n",
      "Flushing input history\n",
      "Flushing input history\n",
      "Flushing input history\n",
      "Flushing input history\n",
      "Flushing input history\n",
      "Flushing input history\n",
      "Flushing input history\n",
      "Flushing input history\n",
      "Flushing input history\n",
      "Flushing input history\n",
      "Flushing input history\n",
      "Flushing input history\n",
      "Flushing input history\n",
      "Flushing input history\n",
      "X_train's shape:  (999800, 12)\n",
      "X_test's shape:  (499800, 12)\n"
     ]
    }
   ],
   "source": [
    "X_train, train_time = generate_data(\"./data/Ramp29/\", time_range = (-450, -350), window = 2000, step = 10)\n",
    "X_test, test_time = generate_data(\"./data/Ramp29/\", time_range = (-50, 0), window = 2000, step = 10)\n",
    "print(\"X_train's shape: \", X_train.shape)\n",
    "print(\"X_test's shape: \", X_test.shape)"
   ]
  },
  {
   "cell_type": "code",
   "execution_count": 5,
   "metadata": {},
   "outputs": [],
   "source": [
    "from sklearn.preprocessing import MinMaxScaler\n",
    "\n",
    "scaler = MinMaxScaler()\n",
    "\n",
    "scaler.fit(X_train)\n",
    "\n",
    "X_train = scaler.transform(X_train)\n",
    "\n",
    "X_test = scaler.transform(X_test)"
   ]
  },
  {
   "cell_type": "code",
   "execution_count": 6,
   "metadata": {},
   "outputs": [
    {
     "name": "stdout",
     "output_type": "stream",
     "text": [
      "Using Keras version:  2.3.1\n",
      "Model: \"sequential_1\"\n",
      "_________________________________________________________________\n",
      "Layer (type)                 Output Shape              Param #   \n",
      "=================================================================\n",
      "dense_1 (Dense)              (None, 6)                 78        \n",
      "_________________________________________________________________\n",
      "dense_2 (Dense)              (None, 3)                 21        \n",
      "_________________________________________________________________\n",
      "dense_3 (Dense)              (None, 6)                 24        \n",
      "_________________________________________________________________\n",
      "dense_4 (Dense)              (None, 12)                84        \n",
      "=================================================================\n",
      "Total params: 207\n",
      "Trainable params: 207\n",
      "Non-trainable params: 0\n",
      "_________________________________________________________________\n"
     ]
    }
   ],
   "source": [
    "#================BUILD THE MODEL====================\n",
    "print(\"Using Keras version: \", keras.__version__)\n",
    "\n",
    "# Simple model\n",
    "model = models.Sequential()\n",
    "\n",
    "model.add(Dense(6, activation = 'elu', kernel_initializer='glorot_uniform',\n",
    "                kernel_regularizer=regularizers.l2(0.0),\n",
    "                input_dim=X_train.shape[1]))\n",
    "\n",
    "model.add(Dense(3,activation='elu',\n",
    "                kernel_initializer='glorot_uniform'))\n",
    "\n",
    "model.add(Dense(6,activation='elu',\n",
    "                kernel_initializer='glorot_uniform'))\n",
    "\n",
    "model.add(Dense(X_train.shape[1],\n",
    "                kernel_initializer='glorot_uniform'))\n",
    "\n",
    "model.compile(loss='mse',optimizer='adam')\n",
    "\n",
    "model.summary()"
   ]
  },
  {
   "cell_type": "code",
   "execution_count": 7,
   "metadata": {},
   "outputs": [
    {
     "name": "stdout",
     "output_type": "stream",
     "text": [
      "Train on 899820 samples, validate on 99980 samples\n",
      "Epoch 1/50\n",
      "899820/899820 [==============================] - 6s 7us/step - loss: 0.0015 - val_loss: 0.0010\n",
      "Epoch 2/50\n",
      "899820/899820 [==============================] - 5s 5us/step - loss: 4.9174e-04 - val_loss: 4.1942e-04\n",
      "Epoch 3/50\n",
      "899820/899820 [==============================] - 5s 5us/step - loss: 3.3519e-04 - val_loss: 3.8982e-04\n",
      "Epoch 4/50\n",
      "899820/899820 [==============================] - 5s 5us/step - loss: 3.1362e-04 - val_loss: 3.7738e-04\n",
      "Epoch 5/50\n",
      "899820/899820 [==============================] - 4s 5us/step - loss: 2.9275e-04 - val_loss: 3.6157e-04\n",
      "Epoch 6/50\n",
      "899820/899820 [==============================] - 5s 5us/step - loss: 2.8508e-04 - val_loss: 3.5121e-04\n",
      "Epoch 7/50\n",
      "899820/899820 [==============================] - 4s 5us/step - loss: 2.8229e-04 - val_loss: 3.4514e-04\n",
      "Epoch 8/50\n",
      "899820/899820 [==============================] - 5s 5us/step - loss: 2.8039e-04 - val_loss: 3.4276e-04\n",
      "Epoch 9/50\n",
      "899820/899820 [==============================] - 4s 5us/step - loss: 2.7844e-04 - val_loss: 3.4739e-04\n",
      "Epoch 10/50\n",
      "899820/899820 [==============================] - 4s 4us/step - loss: 2.7618e-04 - val_loss: 3.4409e-04\n",
      "Epoch 11/50\n",
      "899820/899820 [==============================] - 5s 5us/step - loss: 2.7205e-04 - val_loss: 3.5088e-04\n",
      "Epoch 12/50\n",
      "899820/899820 [==============================] - 4s 5us/step - loss: 2.5988e-04 - val_loss: 3.3919e-04\n",
      "Epoch 13/50\n",
      "899820/899820 [==============================] - 5s 5us/step - loss: 2.3870e-04 - val_loss: 2.8402e-04\n",
      "Epoch 14/50\n",
      "899820/899820 [==============================] - 5s 6us/step - loss: 2.2657e-04 - val_loss: 2.5395e-04\n",
      "Epoch 15/50\n",
      "899820/899820 [==============================] - 4s 5us/step - loss: 2.1890e-04 - val_loss: 2.3109e-04\n",
      "Epoch 16/50\n",
      "899820/899820 [==============================] - 5s 5us/step - loss: 2.1358e-04 - val_loss: 2.1725e-04\n",
      "Epoch 17/50\n",
      "899820/899820 [==============================] - 5s 6us/step - loss: 2.1090e-04 - val_loss: 2.2101e-04\n",
      "Epoch 18/50\n",
      "899820/899820 [==============================] - 5s 6us/step - loss: 2.0905e-04 - val_loss: 2.1308e-04\n",
      "Epoch 19/50\n",
      "899820/899820 [==============================] - 5s 5us/step - loss: 2.0759e-04 - val_loss: 2.0597e-04\n",
      "Epoch 20/50\n",
      "899820/899820 [==============================] - 5s 6us/step - loss: 2.0637e-04 - val_loss: 2.1428e-04\n",
      "Epoch 21/50\n",
      "899820/899820 [==============================] - 5s 5us/step - loss: 2.0524e-04 - val_loss: 2.0491e-04\n",
      "Epoch 22/50\n",
      "899820/899820 [==============================] - 5s 5us/step - loss: 2.0422e-04 - val_loss: 2.0286e-04\n",
      "Epoch 23/50\n",
      "899820/899820 [==============================] - 4s 5us/step - loss: 2.0328e-04 - val_loss: 2.0380e-04\n",
      "Epoch 24/50\n",
      "899820/899820 [==============================] - 5s 5us/step - loss: 2.0235e-04 - val_loss: 2.0513e-04\n",
      "Epoch 25/50\n",
      "899820/899820 [==============================] - 4s 5us/step - loss: 2.0158e-04 - val_loss: 2.0020e-04\n",
      "Epoch 26/50\n",
      "899820/899820 [==============================] - 4s 5us/step - loss: 2.0078e-04 - val_loss: 1.9979e-04\n",
      "Epoch 27/50\n",
      "899820/899820 [==============================] - 5s 5us/step - loss: 2.0006e-04 - val_loss: 1.9803e-04\n",
      "Epoch 28/50\n",
      "899820/899820 [==============================] - 4s 4us/step - loss: 1.9948e-04 - val_loss: 1.9593e-04\n",
      "Epoch 29/50\n",
      "899820/899820 [==============================] - 4s 5us/step - loss: 1.9875e-04 - val_loss: 1.9539e-04\n",
      "Epoch 30/50\n",
      "899820/899820 [==============================] - 4s 5us/step - loss: 1.9824e-04 - val_loss: 1.9424e-04\n",
      "Epoch 31/50\n",
      "899820/899820 [==============================] - 4s 5us/step - loss: 1.9759e-04 - val_loss: 1.9177e-04\n",
      "Epoch 32/50\n",
      "899820/899820 [==============================] - 4s 5us/step - loss: 1.9710e-04 - val_loss: 1.9184e-04\n",
      "Epoch 33/50\n",
      "899820/899820 [==============================] - 4s 5us/step - loss: 1.9665e-04 - val_loss: 1.9191e-04\n",
      "Epoch 34/50\n",
      "899820/899820 [==============================] - 4s 5us/step - loss: 1.9614e-04 - val_loss: 1.9117e-04\n",
      "Epoch 35/50\n",
      "899820/899820 [==============================] - 4s 5us/step - loss: 1.9570e-04 - val_loss: 1.9295e-04\n",
      "Epoch 36/50\n",
      "899820/899820 [==============================] - 4s 5us/step - loss: 1.9521e-04 - val_loss: 1.8943e-04\n",
      "Epoch 37/50\n",
      "899820/899820 [==============================] - 4s 5us/step - loss: 1.9476e-04 - val_loss: 1.8567e-04\n",
      "Epoch 38/50\n",
      "899820/899820 [==============================] - 4s 5us/step - loss: 1.9446e-04 - val_loss: 1.9145e-04\n",
      "Epoch 39/50\n",
      "899820/899820 [==============================] - 5s 5us/step - loss: 1.9411e-04 - val_loss: 1.8470e-04\n",
      "Epoch 40/50\n",
      "899820/899820 [==============================] - 4s 5us/step - loss: 1.9369e-04 - val_loss: 1.8733e-04\n",
      "Epoch 41/50\n",
      "899820/899820 [==============================] - 4s 5us/step - loss: 1.9334e-04 - val_loss: 1.8900e-04\n",
      "Epoch 42/50\n",
      "899820/899820 [==============================] - 5s 6us/step - loss: 1.9297e-04 - val_loss: 1.8736e-04\n",
      "Epoch 43/50\n",
      "899820/899820 [==============================] - 5s 5us/step - loss: 1.9268e-04 - val_loss: 1.8469e-04\n",
      "Epoch 44/50\n",
      "899820/899820 [==============================] - 4s 5us/step - loss: 1.9239e-04 - val_loss: 1.8288e-04\n",
      "Epoch 45/50\n",
      "899820/899820 [==============================] - 5s 5us/step - loss: 1.9194e-04 - val_loss: 1.8467e-04\n",
      "Epoch 46/50\n",
      "899820/899820 [==============================] - 4s 5us/step - loss: 1.9169e-04 - val_loss: 1.8027e-04\n",
      "Epoch 47/50\n",
      "899820/899820 [==============================] - 5s 5us/step - loss: 1.9132e-04 - val_loss: 1.8361e-04\n",
      "Epoch 48/50\n",
      "899820/899820 [==============================] - 4s 5us/step - loss: 1.9113e-04 - val_loss: 1.8890e-04\n",
      "Epoch 49/50\n",
      "899820/899820 [==============================] - 5s 5us/step - loss: 1.9082e-04 - val_loss: 1.8353e-04\n",
      "Epoch 50/50\n",
      "899820/899820 [==============================] - 4s 5us/step - loss: 1.9040e-04 - val_loss: 1.8360e-04\n"
     ]
    }
   ],
   "source": [
    "# Train model for 100 epochs, batch size of 10: \n",
    "NUM_EPOCHS=50\n",
    "BATCH_SIZE=1028\n",
    "\n",
    "history=model.fit(X_train, X_train,\n",
    "                  batch_size=BATCH_SIZE, \n",
    "                  epochs=NUM_EPOCHS,\n",
    "                  validation_split=0.1,\n",
    "                  verbose = 1)"
   ]
  },
  {
   "cell_type": "markdown",
   "metadata": {},
   "source": [
    "## 2. Analyze the results"
   ]
  },
  {
   "cell_type": "code",
   "execution_count": 8,
   "metadata": {},
   "outputs": [],
   "source": [
    "X_pred = model.predict(X_train)\n",
    "scored = pd.DataFrame()\n",
    "scored['Loss_mse'] = np.mean(np.abs(X_pred-X_train), axis = 1)"
   ]
  },
  {
   "cell_type": "code",
   "execution_count": 9,
   "metadata": {},
   "outputs": [],
   "source": [
    "X_pred_test = model.predict(X_test)\n",
    "scored_test = pd.DataFrame()\n",
    "scored_test['Loss_mse'] = np.mean(np.abs(X_pred_test-X_test), axis = 1)"
   ]
  },
  {
   "cell_type": "code",
   "execution_count": 10,
   "metadata": {},
   "outputs": [
    {
     "data": {
      "text/plain": [
       "Text(0.5, 0, 'Time (s)')"
      ]
     },
     "execution_count": 10,
     "metadata": {},
     "output_type": "execute_result"
    },
    {
     "data": {
      "image/png": "[encoded data removed]",
      "text/plain": [
       "<Figure size 1440x144 with 1 Axes>"
      ]
     },
     "metadata": {
      "needs_background": "light"
     },
     "output_type": "display_data"
    }
   ],
   "source": [
    "plt.figure(figsize=(20,2))\n",
    "plt.plot(train_time, scored['Loss_mse'])\n",
    "plt.ylim([0, 20])\n",
    "plt.xlabel(\"Time (s)\")"
   ]
  },
  {
   "cell_type": "code",
   "execution_count": 11,
   "metadata": {},
   "outputs": [
    {
     "data": {
      "text/plain": [
       "Text(0.5, 0, 'Time (s)')"
      ]
     },
     "execution_count": 11,
     "metadata": {},
     "output_type": "execute_result"
    },
    {
     "data": {
      "image/png": "[encoded data removed]",
      "text/plain": [
       "<Figure size 1440x144 with 1 Axes>"
      ]
     },
     "metadata": {
      "needs_background": "light"
     },
     "output_type": "display_data"
    }
   ],
   "source": [
    "plt.figure(figsize=(20,2))\n",
    "plt.plot(test_time, scored_test['Loss_mse'])\n",
    "plt.ylim([0,20])\n",
    "#plt.xlim([-1,0])\n",
    "plt.xlabel(\"Time (s)\")"
   ]
  },
  {
   "cell_type": "code",
   "execution_count": 11,
   "metadata": {},
   "outputs": [
    {
     "data": {
      "text/plain": [
       "Text(0.5, 0, 'Time (s)')"
      ]
     },
     "execution_count": 11,
     "metadata": {},
     "output_type": "execute_result"
    },
    {
     "data": {
      "image/png": "[encoded data removed]",
      "text/plain": [
       "<Figure size 1440x144 with 1 Axes>"
      ]
     },
     "metadata": {
      "needs_background": "light"
     },
     "output_type": "display_data"
    }
   ],
   "source": [
    "plt.figure(figsize=(20,2))\n",
    "plt.plot(test_time, scored_test['Loss_mse'])\n",
    "plt.ylim([0,20])\n",
    "#plt.xlim([-1,0])\n",
    "plt.xlabel(\"Time (s)\")"
   ]
  },
  {
   "cell_type": "code",
   "execution_count": 12,
   "metadata": {},
   "outputs": [
    {
     "data": {
      "text/plain": [
       "Text(0.5, 0, 'Time (s)')"
      ]
     },
     "execution_count": 12,
     "metadata": {},
     "output_type": "execute_result"
    },
    {
     "data": {
      "image/png": "[encoded data removed]",
      "text/plain": [
       "<Figure size 1440x144 with 1 Axes>"
      ]
     },
     "metadata": {
      "needs_background": "light"
     },
     "output_type": "display_data"
    }
   ],
   "source": [
    "plt.figure(figsize=(20,2))\n",
    "plt.plot(test_time, scored_test['Loss_mse'])\n",
    "plt.ylim([0,20])\n",
    "plt.xlim([-20e-3,0])\n",
    "plt.xlabel(\"Time (s)\")"
   ]
  },
  {
   "cell_type": "markdown",
   "metadata": {},
   "source": [
    "## 3. Check on other testing ranges"
   ]
  },
  {
   "cell_type": "markdown",
   "metadata": {},
   "source": [
    "## 3.1 (-200,-50)s"
   ]
  },
  {
   "cell_type": "code",
   "execution_count": 4,
   "metadata": {
    "collapsed": true
   },
   "outputs": [
    {
     "name": "stdout",
     "output_type": "stream",
     "text": [
      "Flushing input history\n",
      "Flushing input history\n",
      "Flushing input history\n",
      "Flushing input history\n",
      "Flushing input history\n",
      "Flushing input history\n",
      "Flushing input history\n",
      "Flushing input history\n",
      "Flushing input history\n",
      "Flushing input history\n",
      "Flushing input history\n",
      "Flushing input history\n",
      "Flushing input history\n",
      "Flushing input history\n",
      "Flushing input history\n",
      "Flushing input history\n",
      "Flushing input history\n",
      "Flushing input history\n",
      "Flushing input history\n",
      "Flushing input history\n",
      "Flushing input history\n",
      "Flushing input history\n",
      "Flushing input history\n",
      "Flushing input history\n",
      "Flushing input history\n",
      "Flushing input history\n",
      "Flushing input history\n",
      "Flushing input history\n",
      "X_train's shape:  (999800, 12)\n",
      "X_test's shape:  (1499800, 12)\n"
     ]
    }
   ],
   "source": [
    "X_train, train_time = generate_data(\"./data/Ramp29/\", time_range = (-450, -350), window = 2000, step = 10)\n",
    "X_test, test_time = generate_data(\"./data/Ramp29/\", time_range = (-200, -50), window = 2000, step = 10)\n",
    "print(\"X_train's shape: \", X_train.shape)\n",
    "print(\"X_test's shape: \", X_test.shape)"
   ]
  },
  {
   "cell_type": "code",
   "execution_count": 5,
   "metadata": {},
   "outputs": [],
   "source": [
    "from sklearn.preprocessing import MinMaxScaler\n",
    "\n",
    "scaler = MinMaxScaler()\n",
    "\n",
    "scaler.fit(X_train)\n",
    "\n",
    "X_train = scaler.transform(X_train)\n",
    "\n",
    "X_test = scaler.transform(X_test)"
   ]
  },
  {
   "cell_type": "code",
   "execution_count": 6,
   "metadata": {
    "collapsed": true
   },
   "outputs": [
    {
     "name": "stdout",
     "output_type": "stream",
     "text": [
      "Using Keras version:  2.3.1\n",
      "Model: \"sequential_1\"\n",
      "_________________________________________________________________\n",
      "Layer (type)                 Output Shape              Param #   \n",
      "=================================================================\n",
      "dense_1 (Dense)              (None, 6)                 78        \n",
      "_________________________________________________________________\n",
      "dense_2 (Dense)              (None, 3)                 21        \n",
      "_________________________________________________________________\n",
      "dense_3 (Dense)              (None, 6)                 24        \n",
      "_________________________________________________________________\n",
      "dense_4 (Dense)              (None, 12)                84        \n",
      "=================================================================\n",
      "Total params: 207\n",
      "Trainable params: 207\n",
      "Non-trainable params: 0\n",
      "_________________________________________________________________\n"
     ]
    }
   ],
   "source": [
    "#================BUILD THE MODEL====================\n",
    "print(\"Using Keras version: \", keras.__version__)\n",
    "\n",
    "# Simple model\n",
    "model = models.Sequential()\n",
    "\n",
    "model.add(Dense(6, activation = 'elu', kernel_initializer='glorot_uniform',\n",
    "                kernel_regularizer=regularizers.l2(0.0),\n",
    "                input_dim=X_train.shape[1]))\n",
    "\n",
    "model.add(Dense(3,activation='elu',\n",
    "                kernel_initializer='glorot_uniform'))\n",
    "\n",
    "model.add(Dense(6,activation='elu',\n",
    "                kernel_initializer='glorot_uniform'))\n",
    "\n",
    "model.add(Dense(X_train.shape[1],\n",
    "                kernel_initializer='glorot_uniform'))\n",
    "\n",
    "model.compile(loss='mse',optimizer='adam')\n",
    "\n",
    "model.summary()"
   ]
  },
  {
   "cell_type": "code",
   "execution_count": 7,
   "metadata": {
    "collapsed": true
   },
   "outputs": [
    {
     "name": "stdout",
     "output_type": "stream",
     "text": [
      "Train on 899820 samples, validate on 99980 samples\n",
      "Epoch 1/50\n",
      "899820/899820 [==============================] - 5s 6us/step - loss: 9.7546e-04 - val_loss: 4.3346e-04\n",
      "Epoch 2/50\n",
      "899820/899820 [==============================] - 4s 5us/step - loss: 3.3218e-04 - val_loss: 3.7533e-04\n",
      "Epoch 3/50\n",
      "899820/899820 [==============================] - 4s 5us/step - loss: 3.0165e-04 - val_loss: 3.6136e-04\n",
      "Epoch 4/50\n",
      "899820/899820 [==============================] - 4s 4us/step - loss: 2.8648e-04 - val_loss: 3.5394e-04\n",
      "Epoch 5/50\n",
      "899820/899820 [==============================] - 4s 4us/step - loss: 2.8006e-04 - val_loss: 3.5169e-04\n",
      "Epoch 6/50\n",
      "899820/899820 [==============================] - 4s 5us/step - loss: 2.7439e-04 - val_loss: 3.4137e-04\n",
      "Epoch 7/50\n",
      "899820/899820 [==============================] - 5s 5us/step - loss: 2.5838e-04 - val_loss: 3.2220e-04\n",
      "Epoch 8/50\n",
      "899820/899820 [==============================] - 4s 5us/step - loss: 2.3274e-04 - val_loss: 2.9550e-04\n",
      "Epoch 9/50\n",
      "899820/899820 [==============================] - 4s 4us/step - loss: 2.2487e-04 - val_loss: 2.9179e-04\n",
      "Epoch 10/50\n",
      "899820/899820 [==============================] - 4s 5us/step - loss: 2.2079e-04 - val_loss: 2.8518e-04\n",
      "Epoch 11/50\n",
      "899820/899820 [==============================] - 5s 5us/step - loss: 2.1711e-04 - val_loss: 2.7913e-04\n",
      "Epoch 12/50\n",
      "899820/899820 [==============================] - 5s 5us/step - loss: 2.1359e-04 - val_loss: 2.7474e-04\n",
      "Epoch 13/50\n",
      "899820/899820 [==============================] - 4s 5us/step - loss: 2.1030e-04 - val_loss: 2.6792e-04\n",
      "Epoch 14/50\n",
      "899820/899820 [==============================] - 4s 5us/step - loss: 2.0725e-04 - val_loss: 2.6453e-04\n",
      "Epoch 15/50\n",
      "899820/899820 [==============================] - 4s 5us/step - loss: 2.0481e-04 - val_loss: 2.6044e-04\n",
      "Epoch 16/50\n",
      "899820/899820 [==============================] - 5s 6us/step - loss: 2.0285e-04 - val_loss: 2.5031e-04\n",
      "Epoch 17/50\n",
      "899820/899820 [==============================] - 4s 5us/step - loss: 2.0128e-04 - val_loss: 2.5097e-04\n",
      "Epoch 18/50\n",
      "899820/899820 [==============================] - 4s 4us/step - loss: 1.9991e-04 - val_loss: 2.4476e-04\n",
      "Epoch 19/50\n",
      "899820/899820 [==============================] - 4s 5us/step - loss: 1.9865e-04 - val_loss: 2.4557e-04\n",
      "Epoch 20/50\n",
      "899820/899820 [==============================] - 4s 5us/step - loss: 1.9735e-04 - val_loss: 2.4147e-04\n",
      "Epoch 21/50\n",
      "899820/899820 [==============================] - 4s 4us/step - loss: 1.9610e-04 - val_loss: 2.4282e-04\n",
      "Epoch 22/50\n",
      "899820/899820 [==============================] - 4s 5us/step - loss: 1.9475e-04 - val_loss: 2.3319e-04\n",
      "Epoch 23/50\n",
      "899820/899820 [==============================] - 4s 5us/step - loss: 1.9336e-04 - val_loss: 2.3618e-04\n",
      "Epoch 24/50\n",
      "899820/899820 [==============================] - 4s 5us/step - loss: 1.9167e-04 - val_loss: 2.3086e-04\n",
      "Epoch 25/50\n",
      "899820/899820 [==============================] - 4s 5us/step - loss: 1.9005e-04 - val_loss: 2.2492e-04\n",
      "Epoch 26/50\n",
      "899820/899820 [==============================] - 4s 4us/step - loss: 1.8827e-04 - val_loss: 2.2165e-04\n",
      "Epoch 27/50\n",
      "899820/899820 [==============================] - 5s 6us/step - loss: 1.8633e-04 - val_loss: 2.2257e-04\n",
      "Epoch 28/50\n",
      "899820/899820 [==============================] - 4s 5us/step - loss: 1.8466e-04 - val_loss: 2.1461e-04\n",
      "Epoch 29/50\n",
      "899820/899820 [==============================] - 4s 5us/step - loss: 1.8334e-04 - val_loss: 2.0841e-04\n",
      "Epoch 30/50\n",
      "899820/899820 [==============================] - 4s 5us/step - loss: 1.8224e-04 - val_loss: 2.1295e-04\n",
      "Epoch 31/50\n",
      "899820/899820 [==============================] - 4s 5us/step - loss: 1.8122e-04 - val_loss: 2.0611e-04\n",
      "Epoch 32/50\n",
      "899820/899820 [==============================] - 4s 4us/step - loss: 1.8036e-04 - val_loss: 2.0720e-04\n",
      "Epoch 33/50\n",
      "899820/899820 [==============================] - 4s 4us/step - loss: 1.7973e-04 - val_loss: 2.0529e-04\n",
      "Epoch 34/50\n",
      "899820/899820 [==============================] - 4s 4us/step - loss: 1.7902e-04 - val_loss: 2.0646e-04\n",
      "Epoch 35/50\n",
      "899820/899820 [==============================] - 4s 4us/step - loss: 1.7840e-04 - val_loss: 1.9954e-04\n",
      "Epoch 36/50\n",
      "899820/899820 [==============================] - 4s 4us/step - loss: 1.7785e-04 - val_loss: 1.9734e-04\n",
      "Epoch 37/50\n",
      "899820/899820 [==============================] - 4s 4us/step - loss: 1.7731e-04 - val_loss: 2.0091e-04\n",
      "Epoch 38/50\n",
      "899820/899820 [==============================] - 5s 5us/step - loss: 1.7674e-04 - val_loss: 1.9925e-04\n",
      "Epoch 39/50\n",
      "899820/899820 [==============================] - 4s 5us/step - loss: 1.7643e-04 - val_loss: 1.9955e-04\n",
      "Epoch 40/50\n",
      "899820/899820 [==============================] - 4s 5us/step - loss: 1.7591e-04 - val_loss: 1.9964e-04\n",
      "Epoch 41/50\n",
      "899820/899820 [==============================] - 4s 5us/step - loss: 1.7543e-04 - val_loss: 1.9675e-04\n",
      "Epoch 42/50\n",
      "899820/899820 [==============================] - 4s 5us/step - loss: 1.7509e-04 - val_loss: 1.9936e-04\n",
      "Epoch 43/50\n",
      "899820/899820 [==============================] - 5s 5us/step - loss: 1.7464e-04 - val_loss: 1.9724e-04\n",
      "Epoch 44/50\n",
      "899820/899820 [==============================] - 5s 5us/step - loss: 1.7419e-04 - val_loss: 1.9247e-04\n",
      "Epoch 45/50\n",
      "899820/899820 [==============================] - 5s 6us/step - loss: 1.7394e-04 - val_loss: 1.9333e-04\n",
      "Epoch 46/50\n",
      "899820/899820 [==============================] - 4s 5us/step - loss: 1.7363e-04 - val_loss: 1.9441e-04\n",
      "Epoch 47/50\n",
      "899820/899820 [==============================] - 5s 5us/step - loss: 1.7321e-04 - val_loss: 1.9651e-04\n",
      "Epoch 48/50\n",
      "899820/899820 [==============================] - 5s 5us/step - loss: 1.7297e-04 - val_loss: 1.9680e-04\n",
      "Epoch 49/50\n",
      "899820/899820 [==============================] - 5s 5us/step - loss: 1.7262e-04 - val_loss: 1.9626e-04\n",
      "Epoch 50/50\n",
      "899820/899820 [==============================] - 5s 5us/step - loss: 1.7249e-04 - val_loss: 1.9585e-04\n"
     ]
    }
   ],
   "source": [
    "# Train model for 100 epochs, batch size of 10: \n",
    "NUM_EPOCHS=50\n",
    "BATCH_SIZE=1028\n",
    "\n",
    "history=model.fit(X_train, X_train,\n",
    "                  batch_size=BATCH_SIZE, \n",
    "                  epochs=NUM_EPOCHS,\n",
    "                  validation_split=0.1,\n",
    "                  verbose = 1)"
   ]
  },
  {
   "cell_type": "code",
   "execution_count": 8,
   "metadata": {},
   "outputs": [],
   "source": [
    "X_pred = model.predict(X_train)\n",
    "scored = pd.DataFrame()\n",
    "scored['Loss_mse'] = np.mean(np.abs(X_pred-X_train), axis = 1)"
   ]
  },
  {
   "cell_type": "code",
   "execution_count": 9,
   "metadata": {},
   "outputs": [],
   "source": [
    "X_pred_test = model.predict(X_test)\n",
    "scored_test = pd.DataFrame()\n",
    "scored_test['Loss_mse'] = np.mean(np.abs(X_pred_test-X_test), axis = 1)"
   ]
  },
  {
   "cell_type": "code",
   "execution_count": 10,
   "metadata": {
    "collapsed": true
   },
   "outputs": [
    {
     "data": {
      "text/plain": [
       "Text(0.5, 0, 'Time (s)')"
      ]
     },
     "execution_count": 10,
     "metadata": {},
     "output_type": "execute_result"
    },
    {
     "data": {
      "image/png": "[encoded data removed]",
      "text/plain": [
       "<Figure size 1440x144 with 1 Axes>"
      ]
     },
     "metadata": {
      "needs_background": "light"
     },
     "output_type": "display_data"
    }
   ],
   "source": [
    "plt.figure(figsize=(20,2))\n",
    "plt.plot(train_time, scored['Loss_mse'])\n",
    "plt.ylim([0, 20])\n",
    "plt.xlabel(\"Time (s)\")"
   ]
  },
  {
   "cell_type": "code",
   "execution_count": 11,
   "metadata": {
    "collapsed": true
   },
   "outputs": [
    {
     "data": {
      "text/plain": [
       "Text(0.5, 0, 'Time (s)')"
      ]
     },
     "execution_count": 11,
     "metadata": {},
     "output_type": "execute_result"
    },
    {
     "data": {
      "image/png": "[encoded data removed]",
      "text/plain": [
       "<Figure size 1440x144 with 1 Axes>"
      ]
     },
     "metadata": {
      "needs_background": "light"
     },
     "output_type": "display_data"
    }
   ],
   "source": [
    "plt.figure(figsize=(20,2))\n",
    "plt.plot(test_time, scored_test['Loss_mse'])\n",
    "plt.ylim([0,20])\n",
    "#plt.xlim([-1,0])\n",
    "plt.xlabel(\"Time (s)\")"
   ]
  },
  {
   "cell_type": "markdown",
   "metadata": {},
   "source": [
    "## 3.1 (-350,-200)s"
   ]
  },
  {
   "cell_type": "code",
   "execution_count": 4,
   "metadata": {
    "collapsed": true
   },
   "outputs": [
    {
     "name": "stdout",
     "output_type": "stream",
     "text": [
      "Flushing input history\n",
      "Flushing input history\n",
      "Flushing input history\n",
      "Flushing input history\n",
      "Flushing input history\n",
      "Flushing input history\n",
      "Flushing input history\n",
      "Flushing input history\n",
      "Flushing input history\n",
      "Flushing input history\n",
      "Flushing input history\n",
      "Flushing input history\n",
      "Flushing input history\n",
      "Flushing input history\n",
      "Flushing input history\n",
      "Flushing input history\n",
      "Flushing input history\n",
      "Flushing input history\n",
      "Flushing input history\n",
      "Flushing input history\n",
      "Flushing input history\n",
      "Flushing input history\n",
      "Flushing input history\n",
      "Flushing input history\n",
      "Flushing input history\n",
      "Flushing input history\n",
      "Flushing input history\n",
      "Flushing input history\n",
      "X_train's shape:  (999800, 12)\n",
      "X_test's shape:  (1499800, 12)\n"
     ]
    }
   ],
   "source": [
    "X_train, train_time = generate_data(\"./data/Ramp29/\", time_range = (-450, -350), window = 2000, step = 10)\n",
    "X_test, test_time = generate_data(\"./data/Ramp29/\", time_range = (-350, -200), window = 2000, step = 10)\n",
    "print(\"X_train's shape: \", X_train.shape)\n",
    "print(\"X_test's shape: \", X_test.shape)"
   ]
  },
  {
   "cell_type": "code",
   "execution_count": 5,
   "metadata": {},
   "outputs": [],
   "source": [
    "from sklearn.preprocessing import MinMaxScaler\n",
    "\n",
    "scaler = MinMaxScaler()\n",
    "\n",
    "scaler.fit(X_train)\n",
    "\n",
    "X_train = scaler.transform(X_train)\n",
    "\n",
    "X_test = scaler.transform(X_test)"
   ]
  },
  {
   "cell_type": "code",
   "execution_count": 6,
   "metadata": {
    "collapsed": true
   },
   "outputs": [
    {
     "name": "stdout",
     "output_type": "stream",
     "text": [
      "Using Keras version:  2.3.1\n",
      "Model: \"sequential_1\"\n",
      "_________________________________________________________________\n",
      "Layer (type)                 Output Shape              Param #   \n",
      "=================================================================\n",
      "dense_1 (Dense)              (None, 6)                 78        \n",
      "_________________________________________________________________\n",
      "dense_2 (Dense)              (None, 3)                 21        \n",
      "_________________________________________________________________\n",
      "dense_3 (Dense)              (None, 6)                 24        \n",
      "_________________________________________________________________\n",
      "dense_4 (Dense)              (None, 12)                84        \n",
      "=================================================================\n",
      "Total params: 207\n",
      "Trainable params: 207\n",
      "Non-trainable params: 0\n",
      "_________________________________________________________________\n"
     ]
    }
   ],
   "source": [
    "#================BUILD THE MODEL====================\n",
    "print(\"Using Keras version: \", keras.__version__)\n",
    "\n",
    "# Simple model\n",
    "model = models.Sequential()\n",
    "\n",
    "model.add(Dense(6, activation = 'elu', kernel_initializer='glorot_uniform',\n",
    "                kernel_regularizer=regularizers.l2(0.0),\n",
    "                input_dim=X_train.shape[1]))\n",
    "\n",
    "model.add(Dense(3,activation='elu',\n",
    "                kernel_initializer='glorot_uniform'))\n",
    "\n",
    "model.add(Dense(6,activation='elu',\n",
    "                kernel_initializer='glorot_uniform'))\n",
    "\n",
    "model.add(Dense(X_train.shape[1],\n",
    "                kernel_initializer='glorot_uniform'))\n",
    "\n",
    "model.compile(loss='mse',optimizer='adam')\n",
    "\n",
    "model.summary()"
   ]
  },
  {
   "cell_type": "code",
   "execution_count": 7,
   "metadata": {
    "collapsed": true
   },
   "outputs": [
    {
     "name": "stdout",
     "output_type": "stream",
     "text": [
      "Train on 899820 samples, validate on 99980 samples\n",
      "Epoch 1/50\n",
      "899820/899820 [==============================] - 6s 6us/step - loss: 0.0017 - val_loss: 8.0559e-04\n",
      "Epoch 2/50\n",
      "899820/899820 [==============================] - 4s 5us/step - loss: 4.1633e-04 - val_loss: 4.4826e-04\n",
      "Epoch 3/50\n",
      "899820/899820 [==============================] - 4s 5us/step - loss: 3.5552e-04 - val_loss: 4.0606e-04\n",
      "Epoch 4/50\n",
      "899820/899820 [==============================] - 4s 5us/step - loss: 3.4032e-04 - val_loss: 3.7939e-04\n",
      "Epoch 5/50\n",
      "899820/899820 [==============================] - 4s 5us/step - loss: 3.2431e-04 - val_loss: 3.6692e-04\n",
      "Epoch 6/50\n",
      "899820/899820 [==============================] - 5s 5us/step - loss: 2.9246e-04 - val_loss: 3.5732e-04\n",
      "Epoch 7/50\n",
      "899820/899820 [==============================] - 5s 5us/step - loss: 2.8410e-04 - val_loss: 3.5141e-04\n",
      "Epoch 8/50\n",
      "899820/899820 [==============================] - 5s 5us/step - loss: 2.8172e-04 - val_loss: 3.4749e-04\n",
      "Epoch 9/50\n",
      "899820/899820 [==============================] - 5s 5us/step - loss: 2.7958e-04 - val_loss: 3.4552e-04\n",
      "Epoch 10/50\n",
      "899820/899820 [==============================] - 5s 5us/step - loss: 2.7736e-04 - val_loss: 3.4929e-04\n",
      "Epoch 11/50\n",
      "899820/899820 [==============================] - 4s 5us/step - loss: 2.7580e-04 - val_loss: 3.3929e-04\n",
      "Epoch 12/50\n",
      "899820/899820 [==============================] - 4s 5us/step - loss: 2.7428e-04 - val_loss: 3.3705e-04\n",
      "Epoch 13/50\n",
      "899820/899820 [==============================] - 5s 5us/step - loss: 2.7250e-04 - val_loss: 3.3926e-04\n",
      "Epoch 14/50\n",
      "899820/899820 [==============================] - 5s 5us/step - loss: 2.7068e-04 - val_loss: 3.4069e-04\n",
      "Epoch 15/50\n",
      "899820/899820 [==============================] - 5s 6us/step - loss: 2.6889e-04 - val_loss: 3.3520e-04\n",
      "Epoch 16/50\n",
      "899820/899820 [==============================] - 4s 5us/step - loss: 2.6645e-04 - val_loss: 3.4024e-04\n",
      "Epoch 17/50\n",
      "899820/899820 [==============================] - 4s 5us/step - loss: 2.6214e-04 - val_loss: 3.3387e-04\n",
      "Epoch 18/50\n",
      "899820/899820 [==============================] - 4s 5us/step - loss: 2.5440e-04 - val_loss: 3.2711e-04\n",
      "Epoch 19/50\n",
      "899820/899820 [==============================] - 4s 5us/step - loss: 2.4213e-04 - val_loss: 3.1221e-04\n",
      "Epoch 20/50\n",
      "899820/899820 [==============================] - 5s 5us/step - loss: 2.2820e-04 - val_loss: 2.8976e-04\n",
      "Epoch 21/50\n",
      "899820/899820 [==============================] - 5s 5us/step - loss: 2.1764e-04 - val_loss: 2.6773e-04\n",
      "Epoch 22/50\n",
      "899820/899820 [==============================] - 5s 5us/step - loss: 2.1121e-04 - val_loss: 2.6261e-04\n",
      "Epoch 23/50\n",
      "899820/899820 [==============================] - 5s 5us/step - loss: 2.0753e-04 - val_loss: 2.5390e-04\n",
      "Epoch 24/50\n",
      "899820/899820 [==============================] - 5s 6us/step - loss: 2.0524e-04 - val_loss: 2.4802e-04\n",
      "Epoch 25/50\n",
      "899820/899820 [==============================] - 5s 6us/step - loss: 2.0362e-04 - val_loss: 2.5028e-04\n",
      "Epoch 26/50\n",
      "899820/899820 [==============================] - 5s 5us/step - loss: 2.0266e-04 - val_loss: 2.4291e-04\n",
      "Epoch 27/50\n",
      "899820/899820 [==============================] - 4s 5us/step - loss: 2.0184e-04 - val_loss: 2.3909e-04\n",
      "Epoch 28/50\n",
      "899820/899820 [==============================] - 4s 5us/step - loss: 2.0126e-04 - val_loss: 2.3879e-04\n",
      "Epoch 29/50\n",
      "899820/899820 [==============================] - 4s 5us/step - loss: 2.0075e-04 - val_loss: 2.3937e-04\n",
      "Epoch 30/50\n",
      "899820/899820 [==============================] - 4s 5us/step - loss: 2.0042e-04 - val_loss: 2.3660e-04\n",
      "Epoch 31/50\n",
      "899820/899820 [==============================] - 4s 4us/step - loss: 2.0013e-04 - val_loss: 2.3982e-04\n",
      "Epoch 32/50\n",
      "899820/899820 [==============================] - 4s 5us/step - loss: 1.9995e-04 - val_loss: 2.4074e-04\n",
      "Epoch 33/50\n",
      "899820/899820 [==============================] - 4s 5us/step - loss: 1.9951e-04 - val_loss: 2.3234e-04\n",
      "Epoch 34/50\n",
      "899820/899820 [==============================] - 4s 5us/step - loss: 1.9933e-04 - val_loss: 2.3402e-04\n",
      "Epoch 35/50\n",
      "899820/899820 [==============================] - 5s 5us/step - loss: 1.9921e-04 - val_loss: 2.3175e-04\n",
      "Epoch 36/50\n",
      "899820/899820 [==============================] - 5s 5us/step - loss: 1.9904e-04 - val_loss: 2.3288e-04\n",
      "Epoch 37/50\n",
      "899820/899820 [==============================] - 5s 5us/step - loss: 1.9880e-04 - val_loss: 2.3232e-04\n",
      "Epoch 38/50\n",
      "899820/899820 [==============================] - 5s 5us/step - loss: 1.9881e-04 - val_loss: 2.3062e-04\n",
      "Epoch 39/50\n",
      "899820/899820 [==============================] - 5s 5us/step - loss: 1.9859e-04 - val_loss: 2.3534e-04\n",
      "Epoch 40/50\n",
      "899820/899820 [==============================] - 5s 6us/step - loss: 1.9855e-04 - val_loss: 2.3701e-04\n",
      "Epoch 41/50\n",
      "899820/899820 [==============================] - 4s 5us/step - loss: 1.9835e-04 - val_loss: 2.3002e-04\n",
      "Epoch 42/50\n",
      "899820/899820 [==============================] - 4s 5us/step - loss: 1.9821e-04 - val_loss: 2.2957e-04\n",
      "Epoch 43/50\n",
      "899820/899820 [==============================] - 5s 5us/step - loss: 1.9813e-04 - val_loss: 2.3572e-04\n",
      "Epoch 44/50\n",
      "899820/899820 [==============================] - 5s 6us/step - loss: 1.9807e-04 - val_loss: 2.2743e-04\n",
      "Epoch 45/50\n",
      "899820/899820 [==============================] - 4s 5us/step - loss: 1.9785e-04 - val_loss: 2.2684e-04\n",
      "Epoch 46/50\n",
      "899820/899820 [==============================] - 5s 5us/step - loss: 1.9774e-04 - val_loss: 2.3006e-04\n",
      "Epoch 47/50\n",
      "899820/899820 [==============================] - 5s 5us/step - loss: 1.9764e-04 - val_loss: 2.2362e-04\n",
      "Epoch 48/50\n",
      "899820/899820 [==============================] - 5s 5us/step - loss: 1.9756e-04 - val_loss: 2.3134e-04\n",
      "Epoch 49/50\n",
      "899820/899820 [==============================] - 5s 5us/step - loss: 1.9736e-04 - val_loss: 2.3258e-04\n",
      "Epoch 50/50\n",
      "899820/899820 [==============================] - 5s 6us/step - loss: 1.9734e-04 - val_loss: 2.2819e-04\n"
     ]
    }
   ],
   "source": [
    "# Train model for 100 epochs, batch size of 10: \n",
    "NUM_EPOCHS=50\n",
    "BATCH_SIZE=1028\n",
    "\n",
    "history=model.fit(X_train, X_train,\n",
    "                  batch_size=BATCH_SIZE, \n",
    "                  epochs=NUM_EPOCHS,\n",
    "                  validation_split=0.1,\n",
    "                  verbose = 1)"
   ]
  },
  {
   "cell_type": "code",
   "execution_count": 8,
   "metadata": {},
   "outputs": [],
   "source": [
    "X_pred = model.predict(X_train)\n",
    "scored = pd.DataFrame()\n",
    "scored['Loss_mse'] = np.mean(np.abs(X_pred-X_train), axis = 1)"
   ]
  },
  {
   "cell_type": "code",
   "execution_count": 9,
   "metadata": {},
   "outputs": [],
   "source": [
    "X_pred_test = model.predict(X_test)\n",
    "scored_test = pd.DataFrame()\n",
    "scored_test['Loss_mse'] = np.mean(np.abs(X_pred_test-X_test), axis = 1)"
   ]
  },
  {
   "cell_type": "code",
   "execution_count": 10,
   "metadata": {
    "collapsed": true
   },
   "outputs": [
    {
     "data": {
      "text/plain": [
       "Text(0.5, 0, 'Time (s)')"
      ]
     },
     "execution_count": 10,
     "metadata": {},
     "output_type": "execute_result"
    },
    {
     "data": {
      "image/png": "[encoded data removed]",
      "text/plain": [
       "<Figure size 1440x144 with 1 Axes>"
      ]
     },
     "metadata": {
      "needs_background": "light"
     },
     "output_type": "display_data"
    }
   ],
   "source": [
    "plt.figure(figsize=(20,2))\n",
    "plt.plot(train_time, scored['Loss_mse'])\n",
    "plt.ylim([0, 20])\n",
    "plt.xlabel(\"Time (s)\")"
   ]
  },
  {
   "cell_type": "code",
   "execution_count": 11,
   "metadata": {},
   "outputs": [
    {
     "data": {
      "text/plain": [
       "Text(0.5, 0, 'Time (s)')"
      ]
     },
     "execution_count": 11,
     "metadata": {},
     "output_type": "execute_result"
    },
    {
     "data": {
      "image/png": "[encoded data removed]",
      "text/plain": [
       "<Figure size 1440x144 with 1 Axes>"
      ]
     },
     "metadata": {
      "needs_background": "light"
     },
     "output_type": "display_data"
    }
   ],
   "source": [
    "plt.figure(figsize=(20,2))\n",
    "plt.plot(test_time, scored_test['Loss_mse'])\n",
    "plt.ylim([0,20])\n",
    "#plt.xlim([-1,0])\n",
    "plt.xlabel(\"Time (s)\")"
   ]
  },
  {
   "cell_type": "code",
   "execution_count": null,
   "metadata": {},
   "outputs": [],
   "source": []
  }
 ],
 "metadata": {
  "kernelspec": {
   "display_name": "Python 3",
   "language": "python",
   "name": "python3"
  },
  "language_info": {
   "codemirror_mode": {
    "name": "ipython",
    "version": 3
   },
   "file_extension": ".py",
   "mimetype": "text/x-python",
   "name": "python",
   "nbconvert_exporter": "python",
   "pygments_lexer": "ipython3",
   "version": "3.7.6"
  }
 },
 "nbformat": 4,
 "nbformat_minor": 4
}
