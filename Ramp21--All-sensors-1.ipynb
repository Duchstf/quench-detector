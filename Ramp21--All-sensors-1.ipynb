{
 "cells": [
  {
   "cell_type": "markdown",
   "metadata": {},
   "source": [
    "# Ramp 21 -- Variances and mean of abs(signal)"
   ]
  },
  {
   "cell_type": "code",
   "execution_count": 2,
   "metadata": {},
   "outputs": [
    {
     "name": "stderr",
     "output_type": "stream",
     "text": [
      "\n",
      "Bad key \"text.kerning_factor\" on line 4 in\n",
      "/uscms_data/d3/dhoang/miniconda3/lib/python3.7/site-packages/matplotlib/mpl-data/stylelib/_classic_test_patch.mplstyle.\n",
      "You probably need to get an updated matplotlibrc file from\n",
      "https://github.com/matplotlib/matplotlib/blob/v3.1.3/matplotlibrc.template\n",
      "or from the matplotlib source distribution\n",
      "Using TensorFlow backend.\n"
     ]
    }
   ],
   "source": [
    "#Data processing\n",
    "import os\n",
    "import pandas as pd\n",
    "import numpy as np\n",
    "import matplotlib.pyplot as plt\n",
    "import seaborn as sns\n",
    "from nptdms import TdmsFile #Process ramping file\n",
    "\n",
    "#For building ML models\n",
    "import keras\n",
    "import keras.models as models\n",
    "from keras.layers.core import Dense\n",
    "from keras import regularizers"
   ]
  },
  {
   "cell_type": "code",
   "execution_count": 3,
   "metadata": {},
   "outputs": [],
   "source": [
    "def load_channel_and_time(dir_path, channel):\n",
    "    data_frame = pd.DataFrame(data = {channel: np.load(dir_path + channel + \".npy\"),\n",
    "                                     \"time\": np.load(dir_path + \"time.npy\")})\n",
    "    return data_frame\n",
    "    \n",
    "def generate_data_0(dir_path, channel, time_range, window = 1000, step = 10):\n",
    "    #Load the data\n",
    "    data = load_channel_and_time(dir_path, channel)\n",
    "    \n",
    "    #Select the part\n",
    "    start = time_range[0]\n",
    "    end = time_range[1]\n",
    "    data = data[(data[\"time\"] > start) & (data[\"time\"] < end)]\n",
    "    \n",
    "    #Calculate the statistics\n",
    "    #data[\"Mean\"] = data.loc[:, channel].abs().rolling(window=window).mean()\n",
    "    data[\"SD\"] = data.loc[:, channel].rolling(window=window).std()\n",
    "    #data[\"Kurtosis\"] = data.loc[:, channel].rolling(window=window).kurt()\n",
    "    #data[\"Skew\"] = data.loc[:, channel].rolling(window=window).skew()\n",
    "    \n",
    "    select_list = [\"SD\"]\n",
    "    \n",
    "    assert data[select_list].to_numpy()[window-1::step].shape[0] == data['time'].to_numpy()[window-1::step].shape[0]\n",
    "    \n",
    "    %reset -f in\n",
    "    \n",
    "    return data[select_list].to_numpy()[window-1::step], data['time'].to_numpy()[window-1::step]\n",
    "\n",
    "def generate_data_no_time(dir_path, channel, time_range, window = 1000, step = 10):\n",
    "    #Load the data\n",
    "    data = load_channel_and_time(dir_path, channel)\n",
    "    \n",
    "    #Select the part\n",
    "    start = time_range[0]\n",
    "    end = time_range[1]\n",
    "    data = data[(data[\"time\"] > start) & (data[\"time\"] < end)]\n",
    "    \n",
    "    #Calculate the statistics\n",
    "    #data[\"Mean\"] = data.loc[:, channel].abs().rolling(window=window).mean()\n",
    "    data[\"SD\"] = data.loc[:, channel].rolling(window=window).std()\n",
    "    #data[\"Kurtosis\"] = data.loc[:, channel].rolling(window=window).kurt()\n",
    "    #data[\"Skew\"] = data.loc[:, channel].rolling(window=window).skew()\n",
    "    \n",
    "    select_list = [\"SD\"]\n",
    "    \n",
    "    %reset -f in\n",
    "    \n",
    "    return data[select_list].to_numpy()[window-1::step]\n",
    "\n",
    "def generate_data_all_sensors(dir_path, time_range, window = 1000, step = 10):\n",
    "    \n",
    "    ai0, time = generate_data(dir_path, \"ai0\", time_range = time_range, window = window, step = step)\n",
    "    ai1 = generate_data_no_time(dir_path, \"ai1\", time_range = time_range, window = window, step = step)\n",
    "    ai2 = generate_data_no_time(dir_path, \"ai2\", time_range = time_range, window = window, step = step)\n",
    "    ai3 = generate_data_no_time(dir_path, \"ai3\", time_range = time_range, window = window, step = step)\n",
    "    ai4 = generate_data_no_time(dir_path, \"ai4\", time_range = time_range, window = window, step = step)\n",
    "    \n",
    "    #Multiply them all together\n",
    "    product_var = ai0*ai1*ai2*ai3*ai4\n",
    "    \n",
    "    \n",
    "    all_channels = np.concatenate((ai0,ai1,ai2,ai3,ai4,product_var), axis = 1)\n",
    "    \n",
    "    %reset -f in\n",
    "    \n",
    "    return all_channels, time\n",
    "\n",
    "def plot_moving_mean(dir_path, channel, time_range, window = 1000, step = 10):\n",
    "    #Load the data\n",
    "    data = load_channel_and_time(dir_path, channel)\n",
    "    \n",
    "    #Select the part\n",
    "    start = time_range[0]\n",
    "    end = time_range[1]\n",
    "    data = data[(data[\"time\"] > start) & (data[\"time\"] < end)]\n",
    "    \n",
    "    #Calculate the mean\n",
    "    data[\"Mean\"] = data.loc[:, channel].abs().rolling(window=window).mean()\n",
    "    \n",
    "    #Plot\n",
    "    plt.figure(figsize=(20,2))\n",
    "    plt.plot(data['time'].to_numpy()[window-1::step], data[\"Mean\"].to_numpy()[window-1::step], label = \"Mean of abs(data)\")\n",
    "    plt.legend(loc = \"upper right\")\n",
    "    plt.xlabel(\"Time (s)\")\n",
    "    plt.title(\"Sensor {}'s moving mean\".format(channel))\n",
    "    \n",
    "    %reset -f in\n",
    "    \n",
    "def load_sensor(dir_path, sensor, time_range = None):\n",
    "    \n",
    "    data = pd.DataFrame(data = {sensor: np.load(dir_path + sensor + \".npy\"),\n",
    "                                \"time\": np.load(dir_path + \"time.npy\")})\n",
    "    \n",
    "    start = min(data[\"time\"])\n",
    "    end = max(data[\"time\"])\n",
    "    \n",
    "    if time_range:\n",
    "        start = time_range[0]\n",
    "        end = time_range[1]\n",
    "    \n",
    "    \n",
    "    data = data[(data[\"time\"] > start) & (data[\"time\"] < end)]\n",
    "   \n",
    "    %reset -f in\n",
    "    \n",
    "    return data\n",
    "    \n",
    "def plot_product_mean(dir_path, time_range, window = 1000, step = 10):\n",
    "    #Load the data\n",
    "    ai0 = load_sensor(dir_path, \"ai0\", time_range = time_range)\n",
    "    ai1 = load_sensor(dir_path, \"ai1\", time_range = time_range)[\"ai1\"].abs().rolling(window=window).mean().to_numpy()[window-1::step]\n",
    "    ai2 = load_sensor(dir_path, \"ai2\", time_range = time_range)[\"ai2\"].abs().rolling(window=window).mean().to_numpy()[window-1::step]\n",
    "    ai3 = load_sensor(dir_path, \"ai3\", time_range = time_range)[\"ai3\"].abs().rolling(window=window).mean().to_numpy()[window-1::step]\n",
    "    ai4 = load_sensor(dir_path, \"ai4\", time_range = time_range)[\"ai4\"].abs().rolling(window=window).mean().to_numpy()[window-1::step]\n",
    "    \n",
    "    time_axis = ai0['time'].to_numpy()[window-1::step]\n",
    "    \n",
    "    ai0 = ai0[\"ai0\"].abs().rolling(window=window).mean().to_numpy()[window-1::step]\n",
    "    \n",
    "    product = ai0*ai1*ai2*ai3*ai4\n",
    "    \n",
    "    #Plot\n",
    "    plt.figure(figsize=(20,2))\n",
    "    plt.plot(time_axis, product)\n",
    "    plt.xlabel(\"Time (s)\")\n",
    "    plt.title(\"Product of moving means\")\n",
    "    \n",
    "def plot_SD(dir_path, channel, time_range, window = 2000, step = 10):\n",
    "    \n",
    "    #Load the data\n",
    "    data = load_channel_and_time(dir_path, channel)\n",
    "    \n",
    "    #Select the part\n",
    "    start = time_range[0]\n",
    "    end = time_range[1]\n",
    "    data = data[(data[\"time\"] > start) & (data[\"time\"] < end)]\n",
    "    \n",
    "    #Calculate the mean\n",
    "    data[\"SD\"] = data.loc[:, channel].abs().rolling(window=window).std()\n",
    "    \n",
    "    #Plot\n",
    "    plt.figure(figsize=(20,2))\n",
    "    plt.plot(data['time'].to_numpy()[window-1::step], data[\"SD\"].to_numpy()[window-1::step], label = \"Standard deviation\", color = \"red\")\n",
    "    plt.legend(loc = \"upper right\")\n",
    "    plt.xlabel(\"Time (s)\")\n",
    "    plt.title(\"Sensor {}'s moving standard deviation\".format(channel))\n",
    "    \n",
    "    %reset -f in\n",
    "\n",
    "\n",
    "def plot_product_SD(dir_path, time_range, window = 1000, step = 10):\n",
    "    #Load the data\n",
    "    ai0 = load_sensor(dir_path, \"ai0\", time_range = time_range)\n",
    "    ai1 = load_sensor(dir_path, \"ai1\", time_range = time_range)[\"ai1\"].rolling(window=window).std().to_numpy()[window-1::step]\n",
    "    ai2 = load_sensor(dir_path, \"ai2\", time_range = time_range)[\"ai2\"].rolling(window=window).std().to_numpy()[window-1::step]\n",
    "    ai3 = load_sensor(dir_path, \"ai3\", time_range = time_range)[\"ai3\"].rolling(window=window).std().to_numpy()[window-1::step]\n",
    "    ai4 = load_sensor(dir_path, \"ai4\", time_range = time_range)[\"ai4\"].rolling(window=window).std().to_numpy()[window-1::step]\n",
    "    \n",
    "    time_axis = ai0['time'].to_numpy()[window-1::step]\n",
    "    \n",
    "    ai0 = ai0[\"ai0\"].rolling(window=window).std().to_numpy()[window-1::step]\n",
    "    \n",
    "    product = ai0*ai1*ai2*ai3*ai4\n",
    "    \n",
    "    #Plot\n",
    "    plt.figure(figsize=(20,2))\n",
    "    plt.plot(time_axis, product, color = \"red\")\n",
    "    plt.xlabel(\"Time (s)\")\n",
    "    plt.title(\"Product of moving standard deviations\")\n",
    "    \n",
    "def generate_mean_data(dir_path, time_range, window = 2000, step = 10):\n",
    "    #Load the data\n",
    "    ai0 = load_sensor(dir_path, \"ai0\", time_range = time_range)[\"ai0\"].abs().rolling(window=window).mean().to_numpy()[window-1::step]\n",
    "    ai1 = load_sensor(dir_path, \"ai1\", time_range = time_range)[\"ai1\"].abs().rolling(window=window).mean().to_numpy()[window-1::step]\n",
    "    ai2 = load_sensor(dir_path, \"ai2\", time_range = time_range)[\"ai2\"].abs().rolling(window=window).mean().to_numpy()[window-1::step]\n",
    "    ai3 = load_sensor(dir_path, \"ai3\", time_range = time_range)[\"ai3\"].abs().rolling(window=window).mean().to_numpy()[window-1::step]\n",
    "    ai4 = load_sensor(dir_path, \"ai4\", time_range = time_range)[\"ai4\"].abs().rolling(window=window).mean().to_numpy()[window-1::step]\n",
    "    \n",
    "    #Calculate the product\n",
    "    product = ai0*ai1*ai2*ai3*ai4\n",
    "    \n",
    "    #Stack them together\n",
    "    all_mean = np.vstack((ai0,ai1,ai2,ai3,ai4, product)).transpose()\n",
    "    \n",
    "    %reset -f in\n",
    "    \n",
    "    return all_mean\n",
    "\n",
    "def generate_sd_data(dir_path, time_range, window = 2000, step = 10):\n",
    "    #Load the data\n",
    "    ai0 = load_sensor(dir_path, \"ai0\", time_range = time_range)[\"ai0\"].rolling(window=window).std().to_numpy()[window-1::step]\n",
    "    ai1 = load_sensor(dir_path, \"ai1\", time_range = time_range)[\"ai1\"].rolling(window=window).std().to_numpy()[window-1::step]\n",
    "    ai2 = load_sensor(dir_path, \"ai2\", time_range = time_range)[\"ai2\"].rolling(window=window).std().to_numpy()[window-1::step]\n",
    "    ai3 = load_sensor(dir_path, \"ai3\", time_range = time_range)[\"ai3\"].rolling(window=window).std().to_numpy()[window-1::step]\n",
    "    ai4 = load_sensor(dir_path, \"ai4\", time_range = time_range)[\"ai4\"].rolling(window=window).std().to_numpy()[window-1::step]\n",
    "    \n",
    "    #Calculate the product\n",
    "    product = ai0*ai1*ai2*ai3*ai4\n",
    "    \n",
    "    #Stack them together\n",
    "    all_sd = np.vstack((ai0,ai1,ai2,ai3,ai4, product)).transpose()\n",
    "    \n",
    "    %reset -f in\n",
    "    \n",
    "    return all_sd\n",
    "\n",
    "def load_time_label(dir_path, time_range, window = 2000, step = 10):\n",
    "    \n",
    "    time_label =  np.load(dir_path + \"time.npy\")\n",
    "    \n",
    "    start = min(time_label)\n",
    "    end = max(time_label)\n",
    "    \n",
    "    if time_range:\n",
    "        start = time_range[0]\n",
    "        end = time_range[1]\n",
    "    \n",
    "    \n",
    "    time_label = time_label[(time_label > start) & (time_label < end)][window-1::step]\n",
    "    \n",
    "    %reset -f in\n",
    "    \n",
    "    return time_label\n",
    "    \n",
    "\n",
    "def generate_data(dir_path, time_range, window = 2000, step = 10):\n",
    "    \n",
    "    moving_mean = generate_mean_data(dir_path, time_range, window = 2000, step = 10)\n",
    "    moving_sd = generate_sd_data(dir_path, time_range, window = 2000, step = 10)\n",
    "    time_label = load_time_label(dir_path, time_range, window = 2000, step = 10)\n",
    "    \n",
    "    all_data = np.concatenate((moving_mean, moving_sd), axis = 1)\n",
    "    \n",
    "    %reset -f in\n",
    "    \n",
    "    return all_data, time_label"
   ]
  },
  {
   "cell_type": "markdown",
   "metadata": {},
   "source": [
    "## 1. Starting point"
   ]
  },
  {
   "cell_type": "code",
   "execution_count": 4,
   "metadata": {},
   "outputs": [
    {
     "name": "stdout",
     "output_type": "stream",
     "text": [
      "Flushing input history\n",
      "Flushing input history\n",
      "Flushing input history\n",
      "Flushing input history\n",
      "Flushing input history\n",
      "Flushing input history\n",
      "Flushing input history\n",
      "Flushing input history\n",
      "Flushing input history\n",
      "Flushing input history\n",
      "Flushing input history\n",
      "Flushing input history\n",
      "Flushing input history\n",
      "Flushing input history\n",
      "Flushing input history\n",
      "Flushing input history\n",
      "Flushing input history\n",
      "Flushing input history\n",
      "Flushing input history\n",
      "Flushing input history\n",
      "Flushing input history\n",
      "Flushing input history\n",
      "Flushing input history\n",
      "Flushing input history\n",
      "Flushing input history\n",
      "Flushing input history\n",
      "Flushing input history\n",
      "Flushing input history\n",
      "X_train's shape:  (999800, 12)\n",
      "X_test's shape:  (499800, 12)\n"
     ]
    }
   ],
   "source": [
    "X_train, train_time = generate_data(\"./data/Ramp21/\", time_range = (-450, -350), window = 2000, step = 10)\n",
    "X_test, test_time = generate_data(\"./data/Ramp21/\", time_range = (-50, 0), window = 2000, step = 10)\n",
    "print(\"X_train's shape: \", X_train.shape)\n",
    "print(\"X_test's shape: \", X_test.shape)"
   ]
  },
  {
   "cell_type": "code",
   "execution_count": 5,
   "metadata": {},
   "outputs": [],
   "source": [
    "from sklearn.preprocessing import MinMaxScaler\n",
    "\n",
    "scaler = MinMaxScaler()\n",
    "\n",
    "scaler.fit(X_train)\n",
    "\n",
    "X_train = scaler.transform(X_train)\n",
    "\n",
    "X_test = scaler.transform(X_test)"
   ]
  },
  {
   "cell_type": "code",
   "execution_count": 6,
   "metadata": {},
   "outputs": [
    {
     "name": "stdout",
     "output_type": "stream",
     "text": [
      "Using Keras version:  2.3.1\n",
      "Model: \"sequential_1\"\n",
      "_________________________________________________________________\n",
      "Layer (type)                 Output Shape              Param #   \n",
      "=================================================================\n",
      "dense_1 (Dense)              (None, 6)                 78        \n",
      "_________________________________________________________________\n",
      "dense_2 (Dense)              (None, 3)                 21        \n",
      "_________________________________________________________________\n",
      "dense_3 (Dense)              (None, 6)                 24        \n",
      "_________________________________________________________________\n",
      "dense_4 (Dense)              (None, 12)                84        \n",
      "=================================================================\n",
      "Total params: 207\n",
      "Trainable params: 207\n",
      "Non-trainable params: 0\n",
      "_________________________________________________________________\n"
     ]
    }
   ],
   "source": [
    "#================BUILD THE MODEL====================\n",
    "print(\"Using Keras version: \", keras.__version__)\n",
    "\n",
    "# Simple model\n",
    "model = models.Sequential()\n",
    "\n",
    "model.add(Dense(6, activation = 'elu', kernel_initializer='glorot_uniform',\n",
    "                kernel_regularizer=regularizers.l2(0.0),\n",
    "                input_dim=X_train.shape[1]))\n",
    "\n",
    "model.add(Dense(3,activation='elu',\n",
    "                kernel_initializer='glorot_uniform'))\n",
    "\n",
    "model.add(Dense(6,activation='elu',\n",
    "                kernel_initializer='glorot_uniform'))\n",
    "\n",
    "model.add(Dense(X_train.shape[1],\n",
    "                kernel_initializer='glorot_uniform'))\n",
    "\n",
    "model.compile(loss='mse',optimizer='adam')\n",
    "\n",
    "model.summary()"
   ]
  },
  {
   "cell_type": "code",
   "execution_count": 7,
   "metadata": {},
   "outputs": [
    {
     "name": "stdout",
     "output_type": "stream",
     "text": [
      "Train on 899820 samples, validate on 99980 samples\n",
      "Epoch 1/50\n",
      "899820/899820 [==============================] - 6s 6us/step - loss: 4.6238e-04 - val_loss: 7.5318e-05\n",
      "Epoch 2/50\n",
      "899820/899820 [==============================] - 5s 5us/step - loss: 1.1847e-04 - val_loss: 6.0783e-05\n",
      "Epoch 3/50\n",
      "899820/899820 [==============================] - 5s 6us/step - loss: 9.8719e-05 - val_loss: 5.6483e-05\n",
      "Epoch 4/50\n",
      "899820/899820 [==============================] - 5s 6us/step - loss: 8.9993e-05 - val_loss: 5.2300e-05\n",
      "Epoch 5/50\n",
      "899820/899820 [==============================] - 5s 6us/step - loss: 8.5756e-05 - val_loss: 5.0795e-05\n",
      "Epoch 6/50\n",
      "899820/899820 [==============================] - 5s 5us/step - loss: 8.2643e-05 - val_loss: 4.7131e-05\n",
      "Epoch 7/50\n",
      "899820/899820 [==============================] - 5s 5us/step - loss: 8.0342e-05 - val_loss: 4.4887e-05\n",
      "Epoch 8/50\n",
      "899820/899820 [==============================] - 5s 5us/step - loss: 7.8651e-05 - val_loss: 4.4547e-05\n",
      "Epoch 9/50\n",
      "899820/899820 [==============================] - 5s 6us/step - loss: 7.7494e-05 - val_loss: 4.0386e-05\n",
      "Epoch 10/50\n",
      "899820/899820 [==============================] - 5s 6us/step - loss: 7.6560e-05 - val_loss: 4.2343e-05\n",
      "Epoch 11/50\n",
      "899820/899820 [==============================] - 5s 6us/step - loss: 7.5998e-05 - val_loss: 4.2839e-05\n",
      "Epoch 12/50\n",
      "899820/899820 [==============================] - 6s 6us/step - loss: 7.5542e-05 - val_loss: 4.4795e-05\n",
      "Epoch 13/50\n",
      "899820/899820 [==============================] - 5s 5us/step - loss: 7.5162e-05 - val_loss: 4.5826e-05\n",
      "Epoch 14/50\n",
      "899820/899820 [==============================] - 5s 5us/step - loss: 7.4784e-05 - val_loss: 4.1621e-05\n",
      "Epoch 15/50\n",
      "899820/899820 [==============================] - 5s 5us/step - loss: 7.4406e-05 - val_loss: 3.9882e-05\n",
      "Epoch 16/50\n",
      "899820/899820 [==============================] - 5s 5us/step - loss: 7.3957e-05 - val_loss: 4.0770e-05\n",
      "Epoch 17/50\n",
      "899820/899820 [==============================] - 5s 6us/step - loss: 7.3526e-05 - val_loss: 4.1312e-05\n",
      "Epoch 18/50\n",
      "899820/899820 [==============================] - 5s 6us/step - loss: 7.3004e-05 - val_loss: 4.2634e-05\n",
      "Epoch 19/50\n",
      "899820/899820 [==============================] - 5s 6us/step - loss: 7.2357e-05 - val_loss: 4.1767e-05\n",
      "Epoch 20/50\n",
      "899820/899820 [==============================] - 5s 6us/step - loss: 7.1657e-05 - val_loss: 4.1938e-05\n",
      "Epoch 21/50\n",
      "899820/899820 [==============================] - 5s 5us/step - loss: 7.0741e-05 - val_loss: 4.2242e-05\n",
      "Epoch 22/50\n",
      "899820/899820 [==============================] - 5s 6us/step - loss: 6.9784e-05 - val_loss: 4.3522e-05\n",
      "Epoch 23/50\n",
      "899820/899820 [==============================] - 5s 5us/step - loss: 6.8754e-05 - val_loss: 4.0492e-05\n",
      "Epoch 24/50\n",
      "899820/899820 [==============================] - 5s 6us/step - loss: 6.7829e-05 - val_loss: 4.1527e-05\n",
      "Epoch 25/50\n",
      "899820/899820 [==============================] - 5s 6us/step - loss: 6.6838e-05 - val_loss: 4.1595e-05\n",
      "Epoch 26/50\n",
      "899820/899820 [==============================] - 5s 6us/step - loss: 6.6046e-05 - val_loss: 4.2392e-05\n",
      "Epoch 27/50\n",
      "899820/899820 [==============================] - 5s 5us/step - loss: 6.5282e-05 - val_loss: 4.0853e-05\n",
      "Epoch 28/50\n",
      "899820/899820 [==============================] - 5s 5us/step - loss: 6.4621e-05 - val_loss: 4.1208e-05\n",
      "Epoch 29/50\n",
      "899820/899820 [==============================] - 5s 6us/step - loss: 6.4154e-05 - val_loss: 4.1320e-05\n",
      "Epoch 30/50\n",
      "899820/899820 [==============================] - 5s 5us/step - loss: 6.3758e-05 - val_loss: 4.1729e-05\n",
      "Epoch 31/50\n",
      "899820/899820 [==============================] - 5s 5us/step - loss: 6.3422e-05 - val_loss: 4.1475e-05\n",
      "Epoch 32/50\n",
      "899820/899820 [==============================] - 5s 6us/step - loss: 6.3155e-05 - val_loss: 4.0299e-05\n",
      "Epoch 33/50\n",
      "899820/899820 [==============================] - 5s 6us/step - loss: 6.2925e-05 - val_loss: 4.2542e-05\n",
      "Epoch 34/50\n",
      "899820/899820 [==============================] - 5s 6us/step - loss: 6.2669e-05 - val_loss: 3.9950e-05\n",
      "Epoch 35/50\n",
      "899820/899820 [==============================] - 5s 5us/step - loss: 6.2480e-05 - val_loss: 4.1382e-05\n",
      "Epoch 36/50\n",
      "899820/899820 [==============================] - 5s 6us/step - loss: 6.2320e-05 - val_loss: 4.0806e-05\n",
      "Epoch 37/50\n",
      "899820/899820 [==============================] - 5s 6us/step - loss: 6.2158e-05 - val_loss: 4.0887e-05\n",
      "Epoch 38/50\n",
      "899820/899820 [==============================] - 5s 5us/step - loss: 6.1976e-05 - val_loss: 3.9386e-05\n",
      "Epoch 39/50\n",
      "899820/899820 [==============================] - 5s 5us/step - loss: 6.1892e-05 - val_loss: 4.4902e-05\n",
      "Epoch 40/50\n",
      "899820/899820 [==============================] - 5s 6us/step - loss: 6.1649e-05 - val_loss: 4.2477e-05\n",
      "Epoch 41/50\n",
      "899820/899820 [==============================] - 5s 6us/step - loss: 6.1574e-05 - val_loss: 3.8916e-05\n",
      "Epoch 42/50\n",
      "899820/899820 [==============================] - 6s 6us/step - loss: 6.1435e-05 - val_loss: 3.9647e-05\n",
      "Epoch 43/50\n",
      "899820/899820 [==============================] - 5s 6us/step - loss: 6.1287e-05 - val_loss: 4.0725e-05\n",
      "Epoch 44/50\n",
      "899820/899820 [==============================] - 5s 6us/step - loss: 6.1188e-05 - val_loss: 4.1699e-05\n",
      "Epoch 45/50\n",
      "899820/899820 [==============================] - 5s 6us/step - loss: 6.1066e-05 - val_loss: 3.8753e-05\n",
      "Epoch 46/50\n",
      "899820/899820 [==============================] - 4s 5us/step - loss: 6.0936e-05 - val_loss: 4.0004e-05\n",
      "Epoch 47/50\n",
      "899820/899820 [==============================] - 5s 6us/step - loss: 6.0880e-05 - val_loss: 3.9076e-05\n",
      "Epoch 48/50\n",
      "899820/899820 [==============================] - 5s 6us/step - loss: 6.0729e-05 - val_loss: 4.0629e-05\n",
      "Epoch 49/50\n",
      "899820/899820 [==============================] - 5s 6us/step - loss: 6.0703e-05 - val_loss: 3.8137e-05\n",
      "Epoch 50/50\n",
      "899820/899820 [==============================] - 5s 6us/step - loss: 6.0570e-05 - val_loss: 3.7080e-05\n"
     ]
    }
   ],
   "source": [
    "# Train model for 100 epochs, batch size of 10: \n",
    "NUM_EPOCHS=50\n",
    "BATCH_SIZE=1028\n",
    "\n",
    "history=model.fit(X_train, X_train,\n",
    "                  batch_size=BATCH_SIZE, \n",
    "                  epochs=NUM_EPOCHS,\n",
    "                  validation_split=0.1,\n",
    "                  verbose = 1)"
   ]
  },
  {
   "cell_type": "code",
   "execution_count": 8,
   "metadata": {},
   "outputs": [],
   "source": [
    "X_pred = model.predict(X_train)\n",
    "scored = pd.DataFrame()\n",
    "scored['Loss_mse'] = np.mean(np.abs(X_pred-X_train), axis = 1)"
   ]
  },
  {
   "cell_type": "code",
   "execution_count": 9,
   "metadata": {},
   "outputs": [],
   "source": [
    "X_pred_test = model.predict(X_test)\n",
    "scored_test = pd.DataFrame()\n",
    "scored_test['Loss_mse'] = np.mean(np.abs(X_pred_test-X_test), axis = 1)"
   ]
  },
  {
   "cell_type": "code",
   "execution_count": 10,
   "metadata": {},
   "outputs": [
    {
     "data": {
      "text/plain": [
       "Text(0.5, 0, 'Time (s)')"
      ]
     },
     "execution_count": 10,
     "metadata": {},
     "output_type": "execute_result"
    },
    {
     "data": {
      "image/png": "[encoded data removed]",
      "text/plain": [
       "<Figure size 1440x144 with 1 Axes>"
      ]
     },
     "metadata": {
      "needs_background": "light"
     },
     "output_type": "display_data"
    }
   ],
   "source": [
    "plt.figure(figsize=(20,2))\n",
    "plt.plot(train_time, scored['Loss_mse'])\n",
    "plt.ylim([0, 600])\n",
    "plt.xlabel(\"Time (s)\")"
   ]
  },
  {
   "cell_type": "code",
   "execution_count": 14,
   "metadata": {},
   "outputs": [
    {
     "data": {
      "text/plain": [
       "Text(0.5, 0, 'Time (s)')"
      ]
     },
     "execution_count": 14,
     "metadata": {},
     "output_type": "execute_result"
    },
    {
     "data": {
      "image/png": "[encoded data removed]",
      "text/plain": [
       "<Figure size 1440x144 with 1 Axes>"
      ]
     },
     "metadata": {
      "needs_background": "light"
     },
     "output_type": "display_data"
    }
   ],
   "source": [
    "plt.figure(figsize=(20,2))\n",
    "plt.plot(test_time, scored_test['Loss_mse'])\n",
    "plt.ylim([0, 600])\n",
    "plt.xlim([-11.8,-11.6])\n",
    "plt.xlabel(\"Time (s)\")"
   ]
  },
  {
   "cell_type": "markdown",
   "metadata": {},
   "source": [
    "## 2. Try other ranges"
   ]
  },
  {
   "cell_type": "markdown",
   "metadata": {},
   "source": [
    "### 2.1 (-250,-50)s"
   ]
  },
  {
   "cell_type": "code",
   "execution_count": 3,
   "metadata": {
    "collapsed": true
   },
   "outputs": [
    {
     "name": "stdout",
     "output_type": "stream",
     "text": [
      "Flushing input history\n",
      "Flushing input history\n",
      "Flushing input history\n",
      "Flushing input history\n",
      "Flushing input history\n",
      "Flushing input history\n",
      "Flushing input history\n",
      "Flushing input history\n",
      "Flushing input history\n",
      "Flushing input history\n",
      "Flushing input history\n",
      "Flushing input history\n",
      "Flushing input history\n",
      "Flushing input history\n",
      "Flushing input history\n",
      "Flushing input history\n",
      "Flushing input history\n",
      "Flushing input history\n",
      "Flushing input history\n",
      "Flushing input history\n",
      "Flushing input history\n",
      "Flushing input history\n",
      "Flushing input history\n",
      "Flushing input history\n",
      "Flushing input history\n",
      "Flushing input history\n",
      "Flushing input history\n",
      "Flushing input history\n",
      "X_train's shape:  (999800, 12)\n",
      "X_test's shape:  (1999800, 12)\n"
     ]
    }
   ],
   "source": [
    "X_train, train_time = generate_data(\"./data/Ramp21/\", time_range = (-450, -350), window = 2000, step = 10)\n",
    "X_test, test_time = generate_data(\"./data/Ramp21/\", time_range = (-250, -50), window = 2000, step = 10)\n",
    "print(\"X_train's shape: \", X_train.shape)\n",
    "print(\"X_test's shape: \", X_test.shape)"
   ]
  },
  {
   "cell_type": "code",
   "execution_count": 4,
   "metadata": {},
   "outputs": [],
   "source": [
    "from sklearn.preprocessing import MinMaxScaler\n",
    "\n",
    "scaler = MinMaxScaler()\n",
    "\n",
    "scaler.fit(X_train)\n",
    "\n",
    "X_train = scaler.transform(X_train)\n",
    "\n",
    "X_test = scaler.transform(X_test)"
   ]
  },
  {
   "cell_type": "code",
   "execution_count": 5,
   "metadata": {
    "collapsed": true
   },
   "outputs": [
    {
     "name": "stdout",
     "output_type": "stream",
     "text": [
      "Using Keras version:  2.3.1\n",
      "Model: \"sequential_1\"\n",
      "_________________________________________________________________\n",
      "Layer (type)                 Output Shape              Param #   \n",
      "=================================================================\n",
      "dense_1 (Dense)              (None, 6)                 78        \n",
      "_________________________________________________________________\n",
      "dense_2 (Dense)              (None, 3)                 21        \n",
      "_________________________________________________________________\n",
      "dense_3 (Dense)              (None, 6)                 24        \n",
      "_________________________________________________________________\n",
      "dense_4 (Dense)              (None, 12)                84        \n",
      "=================================================================\n",
      "Total params: 207\n",
      "Trainable params: 207\n",
      "Non-trainable params: 0\n",
      "_________________________________________________________________\n"
     ]
    }
   ],
   "source": [
    "#================BUILD THE MODEL====================\n",
    "print(\"Using Keras version: \", keras.__version__)\n",
    "\n",
    "# Simple model\n",
    "model = models.Sequential()\n",
    "\n",
    "model.add(Dense(6, activation = 'elu', kernel_initializer='glorot_uniform',\n",
    "                kernel_regularizer=regularizers.l2(0.0),\n",
    "                input_dim=X_train.shape[1]))\n",
    "\n",
    "model.add(Dense(3,activation='elu',\n",
    "                kernel_initializer='glorot_uniform'))\n",
    "\n",
    "model.add(Dense(6,activation='elu',\n",
    "                kernel_initializer='glorot_uniform'))\n",
    "\n",
    "model.add(Dense(X_train.shape[1],\n",
    "                kernel_initializer='glorot_uniform'))\n",
    "\n",
    "model.compile(loss='mse',optimizer='adam')\n",
    "\n",
    "model.summary()"
   ]
  },
  {
   "cell_type": "code",
   "execution_count": 6,
   "metadata": {
    "collapsed": true
   },
   "outputs": [
    {
     "name": "stdout",
     "output_type": "stream",
     "text": [
      "Train on 899820 samples, validate on 99980 samples\n",
      "Epoch 1/50\n",
      "899820/899820 [==============================] - 5s 5us/step - loss: 3.6266e-04 - val_loss: 7.6136e-05\n",
      "Epoch 2/50\n",
      "899820/899820 [==============================] - 4s 4us/step - loss: 1.2108e-04 - val_loss: 6.6456e-05\n",
      "Epoch 3/50\n",
      "899820/899820 [==============================] - 4s 5us/step - loss: 1.0634e-04 - val_loss: 6.5474e-05\n",
      "Epoch 4/50\n",
      "899820/899820 [==============================] - 4s 5us/step - loss: 1.0308e-04 - val_loss: 6.5802e-05\n",
      "Epoch 5/50\n",
      "899820/899820 [==============================] - 4s 5us/step - loss: 1.0105e-04 - val_loss: 6.4016e-05\n",
      "Epoch 6/50\n",
      "899820/899820 [==============================] - 4s 4us/step - loss: 9.8942e-05 - val_loss: 6.4241e-05\n",
      "Epoch 7/50\n",
      "899820/899820 [==============================] - 5s 5us/step - loss: 9.7073e-05 - val_loss: 6.3354e-05\n",
      "Epoch 8/50\n",
      "899820/899820 [==============================] - 5s 5us/step - loss: 9.5863e-05 - val_loss: 6.1482e-05\n",
      "Epoch 9/50\n",
      "899820/899820 [==============================] - 5s 5us/step - loss: 9.5093e-05 - val_loss: 6.1410e-05\n",
      "Epoch 10/50\n",
      "899820/899820 [==============================] - 5s 5us/step - loss: 9.4127e-05 - val_loss: 5.9247e-05\n",
      "Epoch 11/50\n",
      "899820/899820 [==============================] - 4s 5us/step - loss: 9.2003e-05 - val_loss: 5.2288e-05\n",
      "Epoch 12/50\n",
      "899820/899820 [==============================] - 4s 5us/step - loss: 8.2701e-05 - val_loss: 4.2583e-05\n",
      "Epoch 13/50\n",
      "899820/899820 [==============================] - 4s 5us/step - loss: 7.2936e-05 - val_loss: 3.5947e-05\n",
      "Epoch 14/50\n",
      "899820/899820 [==============================] - 4s 5us/step - loss: 6.8476e-05 - val_loss: 3.4186e-05\n",
      "Epoch 15/50\n",
      "899820/899820 [==============================] - 5s 6us/step - loss: 6.5966e-05 - val_loss: 3.3639e-05\n",
      "Epoch 16/50\n",
      "899820/899820 [==============================] - 4s 5us/step - loss: 6.4151e-05 - val_loss: 3.3798e-05\n",
      "Epoch 17/50\n",
      "899820/899820 [==============================] - 5s 5us/step - loss: 6.2932e-05 - val_loss: 3.1817e-05\n",
      "Epoch 18/50\n",
      "899820/899820 [==============================] - 4s 5us/step - loss: 6.2013e-05 - val_loss: 3.3772e-05\n",
      "Epoch 19/50\n",
      "899820/899820 [==============================] - 4s 5us/step - loss: 6.1292e-05 - val_loss: 3.2178e-05\n",
      "Epoch 20/50\n",
      "899820/899820 [==============================] - 4s 5us/step - loss: 6.0632e-05 - val_loss: 2.8990e-05\n",
      "Epoch 21/50\n",
      "899820/899820 [==============================] - 5s 5us/step - loss: 6.0102e-05 - val_loss: 3.1275e-05\n",
      "Epoch 22/50\n",
      "899820/899820 [==============================] - 5s 5us/step - loss: 5.9648e-05 - val_loss: 3.0951e-05\n",
      "Epoch 23/50\n",
      "899820/899820 [==============================] - 5s 5us/step - loss: 5.9186e-05 - val_loss: 3.1215e-05\n",
      "Epoch 24/50\n",
      "899820/899820 [==============================] - 4s 5us/step - loss: 5.8825e-05 - val_loss: 3.0929e-05\n",
      "Epoch 25/50\n",
      "899820/899820 [==============================] - 4s 5us/step - loss: 5.8527e-05 - val_loss: 2.8689e-05\n",
      "Epoch 26/50\n",
      "899820/899820 [==============================] - 5s 5us/step - loss: 5.8225e-05 - val_loss: 2.8437e-05\n",
      "Epoch 27/50\n",
      "899820/899820 [==============================] - 4s 5us/step - loss: 5.8013e-05 - val_loss: 3.0566e-05\n",
      "Epoch 28/50\n",
      "899820/899820 [==============================] - 5s 5us/step - loss: 5.7751e-05 - val_loss: 3.1294e-05\n",
      "Epoch 29/50\n",
      "899820/899820 [==============================] - 5s 5us/step - loss: 5.7589e-05 - val_loss: 2.9918e-05\n",
      "Epoch 30/50\n",
      "899820/899820 [==============================] - 5s 5us/step - loss: 5.7413e-05 - val_loss: 2.8660e-05\n",
      "Epoch 31/50\n",
      "899820/899820 [==============================] - 4s 5us/step - loss: 5.7179e-05 - val_loss: 2.9774e-05\n",
      "Epoch 32/50\n",
      "899820/899820 [==============================] - 5s 5us/step - loss: 5.7078e-05 - val_loss: 2.8399e-05\n",
      "Epoch 33/50\n",
      "899820/899820 [==============================] - 5s 5us/step - loss: 5.6921e-05 - val_loss: 3.1228e-05\n",
      "Epoch 34/50\n",
      "899820/899820 [==============================] - 5s 5us/step - loss: 5.6819e-05 - val_loss: 2.9516e-05\n",
      "Epoch 35/50\n",
      "899820/899820 [==============================] - 5s 6us/step - loss: 5.6677e-05 - val_loss: 2.7107e-05\n",
      "Epoch 36/50\n",
      "899820/899820 [==============================] - 5s 6us/step - loss: 5.6601e-05 - val_loss: 3.0805e-05\n",
      "Epoch 37/50\n",
      "899820/899820 [==============================] - 5s 5us/step - loss: 5.6524e-05 - val_loss: 2.8643e-05\n",
      "Epoch 38/50\n",
      "899820/899820 [==============================] - 5s 6us/step - loss: 5.6389e-05 - val_loss: 2.9080e-05\n",
      "Epoch 39/50\n",
      "899820/899820 [==============================] - 5s 5us/step - loss: 5.6332e-05 - val_loss: 2.8853e-05\n",
      "Epoch 40/50\n",
      "899820/899820 [==============================] - 5s 6us/step - loss: 5.6205e-05 - val_loss: 2.9715e-05\n",
      "Epoch 41/50\n",
      "899820/899820 [==============================] - 4s 5us/step - loss: 5.6121e-05 - val_loss: 2.8451e-05\n",
      "Epoch 42/50\n",
      "899820/899820 [==============================] - 4s 4us/step - loss: 5.6042e-05 - val_loss: 2.8156e-05\n",
      "Epoch 43/50\n",
      "899820/899820 [==============================] - 4s 5us/step - loss: 5.5990e-05 - val_loss: 3.1406e-05\n",
      "Epoch 44/50\n",
      "899820/899820 [==============================] - 4s 5us/step - loss: 5.5872e-05 - val_loss: 2.9248e-05\n",
      "Epoch 45/50\n",
      "899820/899820 [==============================] - 4s 5us/step - loss: 5.5828e-05 - val_loss: 2.7840e-05\n",
      "Epoch 46/50\n",
      "899820/899820 [==============================] - 4s 5us/step - loss: 5.5786e-05 - val_loss: 2.8766e-05\n",
      "Epoch 47/50\n",
      "899820/899820 [==============================] - 4s 5us/step - loss: 5.5752e-05 - val_loss: 3.2238e-05\n",
      "Epoch 48/50\n",
      "899820/899820 [==============================] - 5s 5us/step - loss: 5.5657e-05 - val_loss: 3.2131e-05\n",
      "Epoch 49/50\n",
      "899820/899820 [==============================] - 4s 4us/step - loss: 5.5591e-05 - val_loss: 2.8327e-05\n",
      "Epoch 50/50\n",
      "899820/899820 [==============================] - 4s 5us/step - loss: 5.5609e-05 - val_loss: 2.9762e-05\n"
     ]
    }
   ],
   "source": [
    "# Train model for 100 epochs, batch size of 10: \n",
    "NUM_EPOCHS=50\n",
    "BATCH_SIZE=1028\n",
    "\n",
    "history=model.fit(X_train, X_train,\n",
    "                  batch_size=BATCH_SIZE, \n",
    "                  epochs=NUM_EPOCHS,\n",
    "                  validation_split=0.1,\n",
    "                  verbose = 1)"
   ]
  },
  {
   "cell_type": "code",
   "execution_count": 7,
   "metadata": {},
   "outputs": [],
   "source": [
    "X_pred = model.predict(X_train)\n",
    "scored = pd.DataFrame()\n",
    "scored['Loss_mse'] = np.mean(np.abs(X_pred-X_train), axis = 1)"
   ]
  },
  {
   "cell_type": "code",
   "execution_count": 8,
   "metadata": {},
   "outputs": [],
   "source": [
    "X_pred_test = model.predict(X_test)\n",
    "scored_test = pd.DataFrame()\n",
    "scored_test['Loss_mse'] = np.mean(np.abs(X_pred_test-X_test), axis = 1)"
   ]
  },
  {
   "cell_type": "code",
   "execution_count": 9,
   "metadata": {
    "collapsed": true
   },
   "outputs": [
    {
     "data": {
      "text/plain": [
       "Text(0.5, 0, 'Time (s)')"
      ]
     },
     "execution_count": 9,
     "metadata": {},
     "output_type": "execute_result"
    },
    {
     "data": {
      "image/png": "[encoded data removed]",
      "text/plain": [
       "<Figure size 1440x144 with 1 Axes>"
      ]
     },
     "metadata": {
      "needs_background": "light"
     },
     "output_type": "display_data"
    }
   ],
   "source": [
    "plt.figure(figsize=(20,2))\n",
    "plt.plot(train_time, scored['Loss_mse'])\n",
    "plt.ylim([0, 600])\n",
    "plt.xlabel(\"Time (s)\")"
   ]
  },
  {
   "cell_type": "code",
   "execution_count": 10,
   "metadata": {
    "collapsed": true
   },
   "outputs": [
    {
     "data": {
      "text/plain": [
       "Text(0.5, 0, 'Time (s)')"
      ]
     },
     "execution_count": 10,
     "metadata": {},
     "output_type": "execute_result"
    },
    {
     "data": {
      "image/png": "[encoded data removed]",
      "text/plain": [
       "<Figure size 1440x144 with 1 Axes>"
      ]
     },
     "metadata": {
      "needs_background": "light"
     },
     "output_type": "display_data"
    }
   ],
   "source": [
    "plt.figure(figsize=(20,2))\n",
    "plt.plot(test_time, scored_test['Loss_mse'])\n",
    "plt.ylim([0, 600])\n",
    "#plt.xlim([-10,-8])\n",
    "plt.xlabel(\"Time (s)\")"
   ]
  },
  {
   "cell_type": "markdown",
   "metadata": {},
   "source": [
    "### 2.1 (-350,-250)s"
   ]
  },
  {
   "cell_type": "code",
   "execution_count": 3,
   "metadata": {
    "collapsed": true
   },
   "outputs": [
    {
     "name": "stdout",
     "output_type": "stream",
     "text": [
      "Flushing input history\n",
      "Flushing input history\n",
      "Flushing input history\n",
      "Flushing input history\n",
      "Flushing input history\n",
      "Flushing input history\n",
      "Flushing input history\n",
      "Flushing input history\n",
      "Flushing input history\n",
      "Flushing input history\n",
      "Flushing input history\n",
      "Flushing input history\n",
      "Flushing input history\n",
      "Flushing input history\n",
      "Flushing input history\n",
      "Flushing input history\n",
      "Flushing input history\n",
      "Flushing input history\n",
      "Flushing input history\n",
      "Flushing input history\n",
      "Flushing input history\n",
      "Flushing input history\n",
      "Flushing input history\n",
      "Flushing input history\n",
      "Flushing input history\n",
      "Flushing input history\n",
      "Flushing input history\n",
      "Flushing input history\n",
      "X_train's shape:  (999800, 12)\n",
      "X_test's shape:  (999800, 12)\n"
     ]
    }
   ],
   "source": [
    "X_train, train_time = generate_data(\"./data/Ramp21/\", time_range = (-450, -350), window = 2000, step = 10)\n",
    "X_test, test_time = generate_data(\"./data/Ramp21/\", time_range = (-350, -250), window = 2000, step = 10)\n",
    "print(\"X_train's shape: \", X_train.shape)\n",
    "print(\"X_test's shape: \", X_test.shape)"
   ]
  },
  {
   "cell_type": "code",
   "execution_count": 4,
   "metadata": {},
   "outputs": [],
   "source": [
    "from sklearn.preprocessing import MinMaxScaler\n",
    "\n",
    "scaler = MinMaxScaler()\n",
    "\n",
    "scaler.fit(X_train)\n",
    "\n",
    "X_train = scaler.transform(X_train)\n",
    "\n",
    "X_test = scaler.transform(X_test)"
   ]
  },
  {
   "cell_type": "code",
   "execution_count": 5,
   "metadata": {
    "collapsed": true
   },
   "outputs": [
    {
     "name": "stdout",
     "output_type": "stream",
     "text": [
      "Using Keras version:  2.3.1\n",
      "Model: \"sequential_1\"\n",
      "_________________________________________________________________\n",
      "Layer (type)                 Output Shape              Param #   \n",
      "=================================================================\n",
      "dense_1 (Dense)              (None, 6)                 78        \n",
      "_________________________________________________________________\n",
      "dense_2 (Dense)              (None, 3)                 21        \n",
      "_________________________________________________________________\n",
      "dense_3 (Dense)              (None, 6)                 24        \n",
      "_________________________________________________________________\n",
      "dense_4 (Dense)              (None, 12)                84        \n",
      "=================================================================\n",
      "Total params: 207\n",
      "Trainable params: 207\n",
      "Non-trainable params: 0\n",
      "_________________________________________________________________\n"
     ]
    }
   ],
   "source": [
    "#================BUILD THE MODEL====================\n",
    "print(\"Using Keras version: \", keras.__version__)\n",
    "\n",
    "# Simple model\n",
    "model = models.Sequential()\n",
    "\n",
    "model.add(Dense(6, activation = 'elu', kernel_initializer='glorot_uniform',\n",
    "                kernel_regularizer=regularizers.l2(0.0),\n",
    "                input_dim=X_train.shape[1]))\n",
    "\n",
    "model.add(Dense(3,activation='elu',\n",
    "                kernel_initializer='glorot_uniform'))\n",
    "\n",
    "model.add(Dense(6,activation='elu',\n",
    "                kernel_initializer='glorot_uniform'))\n",
    "\n",
    "model.add(Dense(X_train.shape[1],\n",
    "                kernel_initializer='glorot_uniform'))\n",
    "\n",
    "model.compile(loss='mse',optimizer='adam')\n",
    "\n",
    "model.summary()"
   ]
  },
  {
   "cell_type": "code",
   "execution_count": 6,
   "metadata": {
    "collapsed": true
   },
   "outputs": [
    {
     "name": "stdout",
     "output_type": "stream",
     "text": [
      "Train on 899820 samples, validate on 99980 samples\n",
      "Epoch 1/50\n",
      "899820/899820 [==============================] - 5s 5us/step - loss: 4.6857e-04 - val_loss: 9.3638e-05\n",
      "Epoch 2/50\n",
      "899820/899820 [==============================] - 4s 4us/step - loss: 1.2114e-04 - val_loss: 6.7140e-05\n",
      "Epoch 3/50\n",
      "899820/899820 [==============================] - 5s 5us/step - loss: 9.9871e-05 - val_loss: 5.5632e-05\n",
      "Epoch 4/50\n",
      "899820/899820 [==============================] - 5s 6us/step - loss: 8.6186e-05 - val_loss: 4.4626e-05\n",
      "Epoch 5/50\n",
      "899820/899820 [==============================] - 4s 5us/step - loss: 7.9346e-05 - val_loss: 4.2514e-05\n",
      "Epoch 6/50\n",
      "899820/899820 [==============================] - 5s 5us/step - loss: 7.7482e-05 - val_loss: 4.3088e-05\n",
      "Epoch 7/50\n",
      "899820/899820 [==============================] - 5s 5us/step - loss: 7.6487e-05 - val_loss: 4.2577e-05\n",
      "Epoch 8/50\n",
      "899820/899820 [==============================] - 5s 5us/step - loss: 7.5841e-05 - val_loss: 4.0843e-05\n",
      "Epoch 9/50\n",
      "899820/899820 [==============================] - 5s 6us/step - loss: 7.5389e-05 - val_loss: 3.9650e-05\n",
      "Epoch 10/50\n",
      "899820/899820 [==============================] - 5s 5us/step - loss: 7.4840e-05 - val_loss: 4.1768e-05\n",
      "Epoch 11/50\n",
      "899820/899820 [==============================] - 5s 5us/step - loss: 7.4284e-05 - val_loss: 3.9312e-05\n",
      "Epoch 12/50\n",
      "899820/899820 [==============================] - 5s 5us/step - loss: 7.3705e-05 - val_loss: 4.1718e-05\n",
      "Epoch 13/50\n",
      "899820/899820 [==============================] - 4s 5us/step - loss: 7.2982e-05 - val_loss: 4.3775e-05\n",
      "Epoch 14/50\n",
      "899820/899820 [==============================] - 4s 5us/step - loss: 7.1925e-05 - val_loss: 3.9808e-05\n",
      "Epoch 15/50\n",
      "899820/899820 [==============================] - 5s 6us/step - loss: 7.0602e-05 - val_loss: 3.6266e-05\n",
      "Epoch 16/50\n",
      "899820/899820 [==============================] - 5s 5us/step - loss: 6.9159e-05 - val_loss: 3.7752e-05\n",
      "Epoch 17/50\n",
      "899820/899820 [==============================] - 5s 5us/step - loss: 6.7825e-05 - val_loss: 3.9813e-05\n",
      "Epoch 18/50\n",
      "899820/899820 [==============================] - 4s 4us/step - loss: 6.6611e-05 - val_loss: 3.5585e-05\n",
      "Epoch 19/50\n",
      "899820/899820 [==============================] - 4s 5us/step - loss: 6.5803e-05 - val_loss: 3.2871e-05\n",
      "Epoch 20/50\n",
      "899820/899820 [==============================] - 4s 5us/step - loss: 6.5090e-05 - val_loss: 3.3311e-05\n",
      "Epoch 21/50\n",
      "899820/899820 [==============================] - 5s 6us/step - loss: 6.4543e-05 - val_loss: 3.3609e-05\n",
      "Epoch 22/50\n",
      "899820/899820 [==============================] - 5s 5us/step - loss: 6.4176e-05 - val_loss: 3.3128e-05\n",
      "Epoch 23/50\n",
      "899820/899820 [==============================] - 5s 5us/step - loss: 6.3835e-05 - val_loss: 3.4667e-05\n",
      "Epoch 24/50\n",
      "899820/899820 [==============================] - 5s 5us/step - loss: 6.3611e-05 - val_loss: 3.2402e-05\n",
      "Epoch 25/50\n",
      "899820/899820 [==============================] - 5s 5us/step - loss: 6.3465e-05 - val_loss: 3.2658e-05\n",
      "Epoch 26/50\n",
      "899820/899820 [==============================] - 5s 5us/step - loss: 6.3250e-05 - val_loss: 3.1652e-05\n",
      "Epoch 27/50\n",
      "899820/899820 [==============================] - 5s 6us/step - loss: 6.3119e-05 - val_loss: 3.1231e-05\n",
      "Epoch 28/50\n",
      "899820/899820 [==============================] - 5s 5us/step - loss: 6.2988e-05 - val_loss: 3.2877e-05\n",
      "Epoch 29/50\n",
      "899820/899820 [==============================] - 4s 5us/step - loss: 6.2913e-05 - val_loss: 3.0394e-05\n",
      "Epoch 30/50\n",
      "899820/899820 [==============================] - 5s 5us/step - loss: 6.2762e-05 - val_loss: 3.1445e-05\n",
      "Epoch 31/50\n",
      "899820/899820 [==============================] - 5s 6us/step - loss: 6.2694e-05 - val_loss: 3.0159e-05\n",
      "Epoch 32/50\n",
      "899820/899820 [==============================] - 5s 5us/step - loss: 6.2626e-05 - val_loss: 2.8424e-05\n",
      "Epoch 33/50\n",
      "899820/899820 [==============================] - 5s 5us/step - loss: 6.2475e-05 - val_loss: 3.1549e-05\n",
      "Epoch 34/50\n",
      "899820/899820 [==============================] - 5s 5us/step - loss: 6.2449e-05 - val_loss: 3.2696e-05\n",
      "Epoch 35/50\n",
      "899820/899820 [==============================] - 5s 5us/step - loss: 6.2386e-05 - val_loss: 3.1576e-05\n",
      "Epoch 36/50\n",
      "899820/899820 [==============================] - 4s 4us/step - loss: 6.2298e-05 - val_loss: 2.9995e-05\n",
      "Epoch 37/50\n",
      "899820/899820 [==============================] - 5s 5us/step - loss: 6.2251e-05 - val_loss: 3.0719e-05\n",
      "Epoch 38/50\n",
      "899820/899820 [==============================] - 5s 6us/step - loss: 6.2222e-05 - val_loss: 2.9823e-05\n",
      "Epoch 39/50\n",
      "899820/899820 [==============================] - 5s 6us/step - loss: 6.2149e-05 - val_loss: 3.0886e-05\n",
      "Epoch 40/50\n",
      "899820/899820 [==============================] - 5s 6us/step - loss: 6.2115e-05 - val_loss: 3.0085e-05\n",
      "Epoch 41/50\n",
      "899820/899820 [==============================] - 5s 6us/step - loss: 6.2042e-05 - val_loss: 3.1170e-05\n",
      "Epoch 42/50\n",
      "899820/899820 [==============================] - 5s 6us/step - loss: 6.2019e-05 - val_loss: 3.0962e-05\n",
      "Epoch 43/50\n",
      "899820/899820 [==============================] - 5s 5us/step - loss: 6.1974e-05 - val_loss: 3.1763e-05\n",
      "Epoch 44/50\n",
      "899820/899820 [==============================] - 5s 5us/step - loss: 6.1953e-05 - val_loss: 2.8799e-05\n",
      "Epoch 45/50\n",
      "899820/899820 [==============================] - 5s 5us/step - loss: 6.1877e-05 - val_loss: 2.8030e-05\n",
      "Epoch 46/50\n",
      "899820/899820 [==============================] - 5s 6us/step - loss: 6.1831e-05 - val_loss: 2.7946e-05\n",
      "Epoch 47/50\n",
      "899820/899820 [==============================] - 5s 6us/step - loss: 6.1750e-05 - val_loss: 3.0397e-05\n",
      "Epoch 48/50\n",
      "899820/899820 [==============================] - 5s 5us/step - loss: 6.1710e-05 - val_loss: 2.9167e-05\n",
      "Epoch 49/50\n",
      "899820/899820 [==============================] - 5s 5us/step - loss: 6.1481e-05 - val_loss: 2.8516e-05\n",
      "Epoch 50/50\n",
      "899820/899820 [==============================] - 5s 5us/step - loss: 6.1231e-05 - val_loss: 2.8680e-05\n"
     ]
    }
   ],
   "source": [
    "# Train model for 100 epochs, batch size of 10: \n",
    "NUM_EPOCHS=50\n",
    "BATCH_SIZE=1028\n",
    "\n",
    "history=model.fit(X_train, X_train,\n",
    "                  batch_size=BATCH_SIZE, \n",
    "                  epochs=NUM_EPOCHS,\n",
    "                  validation_split=0.1,\n",
    "                  verbose = 1)"
   ]
  },
  {
   "cell_type": "code",
   "execution_count": 7,
   "metadata": {},
   "outputs": [],
   "source": [
    "X_pred = model.predict(X_train)\n",
    "scored = pd.DataFrame()\n",
    "scored['Loss_mse'] = np.mean(np.abs(X_pred-X_train), axis = 1)"
   ]
  },
  {
   "cell_type": "code",
   "execution_count": 8,
   "metadata": {},
   "outputs": [],
   "source": [
    "X_pred_test = model.predict(X_test)\n",
    "scored_test = pd.DataFrame()\n",
    "scored_test['Loss_mse'] = np.mean(np.abs(X_pred_test-X_test), axis = 1)"
   ]
  },
  {
   "cell_type": "code",
   "execution_count": 9,
   "metadata": {
    "collapsed": true
   },
   "outputs": [
    {
     "data": {
      "text/plain": [
       "Text(0.5, 0, 'Time (s)')"
      ]
     },
     "execution_count": 9,
     "metadata": {},
     "output_type": "execute_result"
    },
    {
     "data": {
      "image/png": "[encoded data removed]",
      "text/plain": [
       "<Figure size 1440x144 with 1 Axes>"
      ]
     },
     "metadata": {
      "needs_background": "light"
     },
     "output_type": "display_data"
    }
   ],
   "source": [
    "plt.figure(figsize=(20,2))\n",
    "plt.plot(train_time, scored['Loss_mse'])\n",
    "plt.ylim([0, 600])\n",
    "plt.xlabel(\"Time (s)\")"
   ]
  },
  {
   "cell_type": "code",
   "execution_count": 10,
   "metadata": {
    "collapsed": true
   },
   "outputs": [
    {
     "data": {
      "text/plain": [
       "Text(0.5, 0, 'Time (s)')"
      ]
     },
     "execution_count": 10,
     "metadata": {},
     "output_type": "execute_result"
    },
    {
     "data": {
      "image/png": "[encoded data removed]",
      "text/plain": [
       "<Figure size 1440x144 with 1 Axes>"
      ]
     },
     "metadata": {
      "needs_background": "light"
     },
     "output_type": "display_data"
    }
   ],
   "source": [
    "plt.figure(figsize=(20,2))\n",
    "plt.plot(test_time, scored_test['Loss_mse'])\n",
    "plt.ylim([0, 600])\n",
    "#plt.xlim([-10,-8])\n",
    "plt.xlabel(\"Time (s)\")"
   ]
  },
  {
   "cell_type": "code",
   "execution_count": null,
   "metadata": {},
   "outputs": [],
   "source": []
  }
 ],
 "metadata": {
  "kernelspec": {
   "display_name": "Python 3",
   "language": "python",
   "name": "python3"
  },
  "language_info": {
   "codemirror_mode": {
    "name": "ipython",
    "version": 3
   },
   "file_extension": ".py",
   "mimetype": "text/x-python",
   "name": "python",
   "nbconvert_exporter": "python",
   "pygments_lexer": "ipython3",
   "version": "3.7.6"
  }
 },
 "nbformat": 4,
 "nbformat_minor": 4
}
