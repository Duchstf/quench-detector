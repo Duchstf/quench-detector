{
 "cells": [
  {
   "cell_type": "markdown",
   "metadata": {},
   "source": [
    "# Ramp 20 with all sensors' data"
   ]
  },
  {
   "cell_type": "code",
   "execution_count": 1,
   "metadata": {},
   "outputs": [
    {
     "name": "stderr",
     "output_type": "stream",
     "text": [
      "\n",
      "Bad key \"text.kerning_factor\" on line 4 in\n",
      "/uscms_data/d3/dhoang/miniconda3/lib/python3.7/site-packages/matplotlib/mpl-data/stylelib/_classic_test_patch.mplstyle.\n",
      "You probably need to get an updated matplotlibrc file from\n",
      "https://github.com/matplotlib/matplotlib/blob/v3.1.3/matplotlibrc.template\n",
      "or from the matplotlib source distribution\n",
      "Using TensorFlow backend.\n"
     ]
    }
   ],
   "source": [
    "#Data processing\n",
    "import os\n",
    "import pandas as pd\n",
    "import numpy as np\n",
    "import matplotlib.pyplot as plt\n",
    "import seaborn as sns\n",
    "from nptdms import TdmsFile #Process ramping file\n",
    "\n",
    "#For building ML models\n",
    "import keras\n",
    "import keras.models as models\n",
    "from keras.layers.core import Dense\n",
    "from keras import regularizers"
   ]
  },
  {
   "cell_type": "markdown",
   "metadata": {},
   "source": [
    "## 0. Helper functions"
   ]
  },
  {
   "cell_type": "code",
   "execution_count": 2,
   "metadata": {},
   "outputs": [],
   "source": [
    "def read_data_from_single_file(filepath):\n",
    "    \"\"\"Read in quench data from a given file, return a pandas dafa frame\"\"\"\n",
    "    \n",
    "    data_dict= {}\n",
    "    \n",
    "    with open(filepath) as f:\n",
    "        content = f.readlines()\n",
    "    #Remove`\\n` at the end of each line\n",
    "    content = [x.strip() for x in content]\n",
    "    \n",
    "    column_names = content[0].split(\" \")\n",
    "    data = [content[i].split(\"   \") for i in range(1, len(content))] \n",
    "    \n",
    "    for i in range(len(column_names)):\n",
    "        data_dict[column_names[i]] = [float(x[i]) for x in data]\n",
    "        \n",
    "    data_frame = pd.DataFrame(data_dict)\n",
    "    \n",
    "    return data_frame\n",
    "\n",
    "def read_quench_data(area_path, quench_name):\n",
    "    \"\"\"\n",
    "    Read the quench data from the provided file path, note that there are five quenches so we need to concatenate them together.\n",
    "    Just need to provide the quench's name, for e.g: \"./data/mqxfs1b.Quench.161011115654\"\n",
    "    \"\"\"\n",
    "    \n",
    "    data_list = []\n",
    "    \n",
    "    \n",
    "    num_file = 0 #Number of separate data files for this quench, assuming at least one\n",
    "    \n",
    "    for filename in os.listdir(area_path):\n",
    "        if filename.startswith(quench_name) and not filename.endswith(\".tar.gz\"):\n",
    "            #print(\"Reading file ... \" + filename)\n",
    "            if num_file == 0:\n",
    "                try:\n",
    "                    data_list.append(read_data_from_single_file(area_path + filename)) #read first file separately\n",
    "                except:\n",
    "                    pass\n",
    "            else:\n",
    "                try:\n",
    "                    data_list.append(read_data_from_single_file(area_path + filename).drop(columns = [\"time\"])) #Time is already saved in the first file\n",
    "                except:\n",
    "                    pass\n",
    "            num_file += 1\n",
    "                                 \n",
    "    #print(\"Total number of data files for {}: \".format(quench_name), num_file)\n",
    "    \n",
    "    if len(data_list) != 0:\n",
    "        data = pd.concat(data_list, axis = 1) #Concatenate all data files together\n",
    "        return data\n",
    "    else:\n",
    "        print(\"Returning None due to file errors in \" + quench_name)\n",
    "        return None\n",
    "\n",
    "def read_all_quench_in_area(area_path):\n",
    "    \"\"\"\n",
    "    Read all quench's files in the area and return a dictionary of different quench's data. name is the magnet's name\n",
    "    \"\"\"\n",
    "    data = {}\n",
    "    \n",
    "    index = 1 #For indexing different quench\n",
    "\n",
    "    for filename in os.listdir(area_path):\n",
    "        if filename.endswith(\".tar.gz\"): \n",
    "            #print(\"Reading data from ... \" + filename[0:-7])\n",
    "            data[filename[0:-7]] = read_quench_data(area_path, filename[0:-7])\n",
    "            index += 1\n",
    "            \n",
    "    #print(\"Completed. There are {} quenches in total.\".format(str(index - 1)))\n",
    "    \n",
    "    return data\n",
    "\n",
    "def plot_variables_with_time(data, variables = None, time_range = None):\n",
    "    \"\"\"\n",
    "    Take a data frame, and plot all other variables with time.\n",
    "    Optional argument: time_range to specify the range to plot, default is to plot all time. Example argument\n",
    "    is (start_time, end_time)\n",
    "    \"\"\"\n",
    "    start = min(data[\"time\"])\n",
    "    end = max(data[\"time\"])\n",
    "    \n",
    "    if time_range:\n",
    "        start = time_range[0]\n",
    "        end = time_range[1]\n",
    "        \n",
    "    data = data[(data[\"time\"] > start) & (data[\"time\"] < end)]\n",
    "    \n",
    "    if variables:\n",
    "        for variable in variables:\n",
    "            plt.figure(figsize=(20,2))\n",
    "            plt.plot(data[\"time\"], data[variable])\n",
    "            plt.xlabel(\"Time (s)\")\n",
    "            plt.title(\"Variable {}\".format(variable))\n",
    "            plt.show()\n",
    "        \n",
    "    else:      \n",
    "        #If variables not specified then just plot all \n",
    "        for variable in data.columns[1:]:\n",
    "            plt.figure(figsize=(25,2))\n",
    "            plt.plot(data[\"time\"], data[variable])\n",
    "            plt.xlabel(\"Time (s)\")\n",
    "            plt.title(\"Variable {}\".format(variable))\n",
    "            plt.show()\n",
    "\n",
    "def plot_statistics(data, variables = None, time_range = None, window = 100):\n",
    "    \"\"\"Take a data frame and plot the variable with its moving average and real data in the specified range, if\n",
    "    variables are not specified then just plot all variables by default\"\"\"\n",
    "    #Pickout the data\n",
    "    start = min(data[\"time\"])\n",
    "    end = max(data[\"time\"])\n",
    "    \n",
    "    if time_range:\n",
    "        start = time_range[0]\n",
    "        end = time_range[1]\n",
    "        \n",
    "    data = data[(data[\"time\"] > start) & (data[\"time\"] < end)]\n",
    "    \n",
    "    def plot_signal_and_statistics(variable):\n",
    "        # Plotted by calculating Simple Moving Average (SMA)\n",
    "        plt.figure(figsize=(20,2))\n",
    "        plt.plot(data[\"time\"], data[variable], label = \"Signal with noise\")\n",
    "        plt.plot(data[\"time\"], data.loc[:, variable].rolling(window=window).mean(),label = \"Moving average\")\n",
    "        #plt.plot(data[\"time\"], data.loc[:, variable].rolling(window=window).min(),label = \"Moving min\")\n",
    "        #plt.plot(data[\"time\"], data.loc[:, variable].rolling(window=window).max(),label = \"Moving max\")\n",
    "        plt.legend(loc = \"best\")\n",
    "        plt.xlabel(\"Time (s)\")\n",
    "        plt.title(\"Variable {}\".format(variable))\n",
    "        plt.show()\n",
    "        \n",
    "        \n",
    "        #Variance\n",
    "        plt.figure(figsize=(20,2))\n",
    "        plt.plot(data[\"time\"], data.loc[:, variable].rolling(window=window).std(),\n",
    "                 label = \"Variance\",\n",
    "                 color = 'red')\n",
    "        plt.xlabel(\"Time (s)\")\n",
    "        plt.title(\"Variable {}'s Variance\".format(variable))\n",
    "        plt.show()\n",
    "        \n",
    "        #Kurtosis\n",
    "        plt.figure(figsize=(20,2))\n",
    "        plt.plot(data[\"time\"], data.loc[:, variable].rolling(window=window).kurt(),\n",
    "                 label = \"Kurtosis\",\n",
    "                 color = 'green')\n",
    "        plt.xlabel(\"Time (s)\")\n",
    "        plt.title(\"Variable {}'s Kurtosis\".format(variable))\n",
    "        plt.show()\n",
    "        \n",
    "        #Skew\n",
    "        plt.figure(figsize=(20,2))\n",
    "        plt.plot(data[\"time\"], data.loc[:, variable].rolling(window=window).skew(),\n",
    "                 label = \"Skew\",\n",
    "                 color = 'purple')\n",
    "        plt.xlabel(\"Time (s)\")\n",
    "        plt.title(\"Variable {}'s Skew\".format(variable))\n",
    "        plt.show()\n",
    "        \n",
    "        \"\"\"\n",
    "        #Quantile\n",
    "        plt.figure(figsize=(20,2))\n",
    "        plt.plot(data[\"time\"], data.loc[:, variable].rolling(window=window).quantile(0.25), label = \"Quantile 25\",\n",
    "                 color = 'red')\n",
    "        plt.plot(data[\"time\"], data.loc[:, variable].rolling(window=window).quantile(0.75), label = \"Quantile 75\",\n",
    "                 color = 'orange')\n",
    "        plt.plot(data[\"time\"], data.loc[:, variable].rolling(window=window).quantile(0.50), label = \"Quantile 50\",\n",
    "                 color = 'green')\n",
    "        plt.legend(loc = \"best\")\n",
    "        plt.title(\"Variable {}'s Quantile\".format(variable))\n",
    "        plt.show()\n",
    "        \"\"\"\n",
    "        \n",
    "    #Plot\n",
    "    if variables:\n",
    "        for variable in variables:\n",
    "            print(variable)\n",
    "            plot_signal_and_statistics(variable)         \n",
    "    else:\n",
    "        for variable in data.columns[1:]:\n",
    "            print(variable)\n",
    "            plot_signal_and_statistics(variable)\n",
    "    \n",
    "    %reset -f in\n",
    "\n",
    "def plot_variable(data_dict, variable, time_range = None, window = 100):\n",
    "    for quench_name in data_dict.keys():\n",
    "        print(\"Quench's index: \" + quench_name)\n",
    "        if data_dict[quench_name] is not None:\n",
    "            if variable[0] in list(data_dict[quench_name].columns):\n",
    "                plot_statistics(data_dict[quench_name], variables = variable, time_range=time_range, window=window)"
   ]
  },
  {
   "cell_type": "code",
   "execution_count": 3,
   "metadata": {},
   "outputs": [],
   "source": [
    "def read_data_from_single_file(filepath):\n",
    "    \"\"\"Read in quench data from a given file, return a pandas dafa frame\"\"\"\n",
    "    \n",
    "    data_dict= {}\n",
    "    \n",
    "    with open(filepath) as f:\n",
    "        content = f.readlines()\n",
    "    #Remove`\\n` at the end of each line\n",
    "    content = [x.strip() for x in content]\n",
    "    \n",
    "    column_names = content[0].split(\" \")\n",
    "    data = [content[i].split(\"   \") for i in range(1, len(content))] \n",
    "    \n",
    "    for i in range(len(column_names)):\n",
    "        data_dict[column_names[i]] = [float(x[i]) for x in data]\n",
    "        \n",
    "    data_frame = pd.DataFrame(data_dict)\n",
    "    \n",
    "    return data_frame\n",
    "\n",
    "def read_quench_data(area_path, quench_name):\n",
    "    \"\"\"\n",
    "    Read the quench data from the provided file path, note that there are five quenches so we need to concatenate them together.\n",
    "    Just need to provide the quench's name, for e.g: \"./data/mqxfs1b.Quench.161011115654\"\n",
    "    \"\"\"\n",
    "    \n",
    "    data_list = []\n",
    "    \n",
    "    \n",
    "    num_file = 0 #Number of separate data files for this quench, assuming at least one\n",
    "    \n",
    "    for filename in os.listdir(area_path):\n",
    "        if filename.startswith(quench_name) and not filename.endswith(\".tar.gz\"):\n",
    "            #print(\"Reading file ... \" + filename)\n",
    "            if num_file == 0:\n",
    "                try:\n",
    "                    data_list.append(read_data_from_single_file(area_path + filename)) #read first file separately\n",
    "                except:\n",
    "                    pass\n",
    "            else:\n",
    "                try:\n",
    "                    data_list.append(read_data_from_single_file(area_path + filename).drop(columns = [\"time\"])) #Time is already saved in the first file\n",
    "                except:\n",
    "                    pass\n",
    "            num_file += 1\n",
    "                                 \n",
    "    #print(\"Total number of data files for {}: \".format(quench_name), num_file)\n",
    "    \n",
    "    if len(data_list) != 0:\n",
    "        data = pd.concat(data_list, axis = 1) #Concatenate all data files together\n",
    "        return data\n",
    "    else:\n",
    "        print(\"Returning None due to file errors in \" + quench_name)\n",
    "        return None\n",
    "\n",
    "def read_all_quench_in_area(area_path):\n",
    "    \"\"\"\n",
    "    Read all quench's files in the area and return a dictionary of different quench's data. name is the magnet's name\n",
    "    \"\"\"\n",
    "    data = {}\n",
    "    \n",
    "    index = 1 #For indexing different quench\n",
    "\n",
    "    for filename in os.listdir(area_path):\n",
    "        if filename.endswith(\".tar.gz\"): \n",
    "            #print(\"Reading data from ... \" + filename[0:-7])\n",
    "            data[filename[0:-7]] = read_quench_data(area_path, filename[0:-7])\n",
    "            index += 1\n",
    "            \n",
    "    #print(\"Completed. There are {} quenches in total.\".format(str(index - 1)))\n",
    "    \n",
    "    return data\n",
    "\n",
    "def plot_variables_with_time(data, variables = None, time_range = None):\n",
    "    \"\"\"\n",
    "    Take a data frame, and plot all other variables with time.\n",
    "    Optional argument: time_range to specify the range to plot, default is to plot all time. Example argument\n",
    "    is (start_time, end_time)\n",
    "    \"\"\"\n",
    "    start = min(data[\"time\"])\n",
    "    end = max(data[\"time\"])\n",
    "    \n",
    "    if time_range:\n",
    "        start = time_range[0]\n",
    "        end = time_range[1]\n",
    "        \n",
    "    data = data[(data[\"time\"] > start) & (data[\"time\"] < end)]\n",
    "    \n",
    "    if variables:\n",
    "        for variable in variables:\n",
    "            plt.figure(figsize=(20,2))\n",
    "            plt.plot(data[\"time\"], data[variable])\n",
    "            plt.xlabel(\"Time (s)\")\n",
    "            plt.title(\"Variable {}\".format(variable))\n",
    "            plt.show()\n",
    "        \n",
    "    else:      \n",
    "        #If variables not specified then just plot all \n",
    "        for variable in data.columns[1:]:\n",
    "            plt.figure(figsize=(25,2))\n",
    "            plt.plot(data[\"time\"], data[variable])\n",
    "            plt.xlabel(\"Time (s)\")\n",
    "            plt.title(\"Variable {}\".format(variable))\n",
    "            plt.show()\n",
    "\n",
    "def plot_statistics(data, variables = None, time_range = None, window = 100):\n",
    "    \"\"\"Take a data frame and plot the variable with its moving average and real data in the specified range, if\n",
    "    variables are not specified then just plot all variables by default\"\"\"\n",
    "    #Pickout the data\n",
    "    start = min(data[\"time\"])\n",
    "    end = max(data[\"time\"])\n",
    "    \n",
    "    if time_range:\n",
    "        start = time_range[0]\n",
    "        end = time_range[1]\n",
    "        \n",
    "    data = data[(data[\"time\"] > start) & (data[\"time\"] < end)]\n",
    "    \n",
    "    def plot_signal_and_statistics(variable):\n",
    "        # Plotted by calculating Simple Moving Average (SMA)\n",
    "        plt.figure(figsize=(20,2))\n",
    "        \n",
    "        plt.plot(data[\"time\"], data[variable], label = \"Signal with noise\")\n",
    "        \n",
    "        #plt.plot(data[\"time\"], data.loc[:, variable].rolling(window=window).mean(),label = \"Moving average\")\n",
    "        #plt.plot(data[\"time\"], data.loc[:, variable].rolling(window=window).min(),label = \"Moving min\")\n",
    "        #plt.plot(data[\"time\"], data.loc[:, variable].rolling(window=window).max(),label = \"Moving max\")\n",
    "        plt.legend(loc = \"best\")\n",
    "        plt.xlabel(\"Time (s)\")\n",
    "        plt.title(\"Variable {}\".format(variable))\n",
    "        plt.show()\n",
    "        \n",
    "\n",
    "        #Variance\n",
    "        plt.figure(figsize=(20,2))\n",
    "        plt.plot(data[\"time\"], data.loc[:, variable].rolling(window=window).std(),\n",
    "                 label = \"Standard Deviation\",\n",
    "                 color = 'red')\n",
    "        plt.xlabel(\"Time (s)\")\n",
    "        plt.title(\"Variable {}'s Standard Deviation\".format(variable))\n",
    "        plt.show()\n",
    "        \n",
    "        #Kurtosis\n",
    "        plt.figure(figsize=(20,2))\n",
    "        plt.plot(data[\"time\"], data.loc[:, variable].rolling(window=window).kurt(),\n",
    "                 label = \"Kurtosis\",\n",
    "                 color = 'green')\n",
    "        plt.xlabel(\"Time (s)\")\n",
    "        plt.title(\"Variable {}'s Kurtosis\".format(variable))\n",
    "        plt.show()\n",
    "        \n",
    "        #Skew\n",
    "        plt.figure(figsize=(20,2))\n",
    "        plt.plot(data[\"time\"], data.loc[:, variable].rolling(window=window).skew(),\n",
    "                 label = \"Skew\",\n",
    "                 color = 'purple')\n",
    "        plt.xlabel(\"Time (s)\")\n",
    "        plt.title(\"Variable {}'s Skew\".format(variable))\n",
    "        plt.show()\n",
    "        \n",
    "        \"\"\"\n",
    "        #Quantile\n",
    "        plt.figure(figsize=(20,2))\n",
    "        plt.plot(data[\"time\"], data.loc[:, variable].rolling(window=window).quantile(0.25), label = \"Quantile 25\",\n",
    "                 color = 'red')\n",
    "        plt.plot(data[\"time\"], data.loc[:, variable].rolling(window=window).quantile(0.75), label = \"Quantile 75\",\n",
    "                 color = 'orange')\n",
    "        plt.plot(data[\"time\"], data.loc[:, variable].rolling(window=window).quantile(0.50), label = \"Quantile 50\",\n",
    "                 color = 'green')\n",
    "        plt.legend(loc = \"best\")\n",
    "        plt.title(\"Variable {}'s Quantile\".format(variable))\n",
    "        plt.show()\n",
    "        \"\"\"\n",
    "        \n",
    "    #Plot\n",
    "    if variables:\n",
    "        for variable in variables:\n",
    "            print(variable)\n",
    "            plot_signal_and_statistics(variable)         \n",
    "    else:\n",
    "        for variable in data.columns[1:]:\n",
    "            print(variable)\n",
    "            plot_signal_and_statistics(variable)\n",
    "    \n",
    "    %reset -f in\n",
    "\n",
    "def plot_variable(data_dict, variable, time_range = None, window = 100):\n",
    "    for quench_name in data_dict.keys():\n",
    "        print(\"Quench's index: \" + quench_name)\n",
    "        if data_dict[quench_name] is not None:\n",
    "            if variable[0] in list(data_dict[quench_name].columns):\n",
    "                plot_statistics(data_dict[quench_name], variables = variable, time_range=time_range, window=window)\n",
    "\n",
    "\n",
    "########### PROCESS RAMPING DATA ###############\n",
    "def read_tdms_file(filepath):\n",
    "    \"\"\"Read the tdms file from a given path, return a pandas data frame of the tdms file\"\"\"\n",
    "    tdms_file = TdmsFile.read(data_path)\n",
    "    \n",
    "    data_frame = tdms_file.as_dataframe()\n",
    "    \n",
    "    del tdms_file\n",
    "    \n",
    "    #Just the last 3 symbols in columns name matter ('/'_unnamedTask<3>'/'PXI2Slot14/ai0') -> ai0\n",
    "    #Rename the columns\n",
    "    rename_map = []\n",
    "    \n",
    "    for column in data_frame.columns:\n",
    "        rename_map.append(column[-4:-1])\n",
    "    \n",
    "    data_frame.columns = rename_map\n",
    "    \n",
    "    #Add time axis relative to the time when quench happens\n",
    "    time_range = np.asarray(range(data_frame.shape[0]))\n",
    "    \n",
    "\n",
    "    #Center around the max value (quench happens at 0 time)\n",
    "    max_index = data_frame['ai7'].idxmax()\n",
    "    time_range -= max_index\n",
    "    time_range = time_range.astype('float32')\n",
    "    \n",
    "    #Multiply by datarate\n",
    "    time_range = np.multiply(time_range, 1e-5, out=time_range, casting=\"unsafe\")\n",
    "    \n",
    "    data_frame['time'] = time_range\n",
    "    \n",
    "    return data_frame\n",
    "\n",
    "def break_tdms_to_files(file_path):\n",
    "    \"\"\"Read the tdms file and break it into several files according to channels in a new directory\"\"\"\n",
    "    tdms_file = TdmsFile.read(file_path)\n",
    "    \n",
    "    data_frame = tdms_file.as_dataframe()\n",
    "    \n",
    "    del tdms_file\n",
    "    \n",
    "    os.mkdir(\"./data/\" + file_path[-10:-5])\n",
    "    \n",
    "    for channel in data_frame.columns:\n",
    "        np.save(\"./data/{}/{}\".format(file_path[-10:-5], channel[-4:-1]), data_frame.loc[:, channel].to_numpy())\n",
    "\n",
    "def calculate_time(dir_path):\n",
    "    \"\"\"Take a tdms file directory path (after the file is broken up), and calculate and output a time file.\"\"\"\n",
    "    \n",
    "    ai7 = np.load(dir_path + \"ai7.npy\")\n",
    "    \n",
    "    #Add time axis relative to the time when quench happens\n",
    "    time_range = np.asarray(range(ai7.shape[0]))\n",
    "    \n",
    "    #Center around the max value (quench happens at 0 time)\n",
    "    max_index = np.argmax(ai7)\n",
    "    time_range -= max_index\n",
    "    time_range = time_range.astype('float32')\n",
    "    \n",
    "    #Multiply by datarate\n",
    "    time_range = np.multiply(time_range, 1e-5, out=time_range, casting=\"unsafe\")\n",
    "    \n",
    "    np.save(dir_path + \"time\", time_range)\n",
    "\n",
    "def load_channel_and_time(dir_path, channel):\n",
    "    data_frame = pd.DataFrame(data = {channel: np.load(dir_path + channel + \".npy\"),\n",
    "                                     \"time\": np.load(dir_path + \"time.npy\")})\n",
    "    return data_frame\n",
    "\n",
    "def plot_channel(data, channel, time_range = None):\n",
    "    start = min(data[\"time\"])\n",
    "    end = max(data[\"time\"])\n",
    "    \n",
    "    if time_range:\n",
    "        start = time_range[0]\n",
    "        end = time_range[1]\n",
    "        \n",
    "    data = data[(data[\"time\"] > start) & (data[\"time\"] < end)]\n",
    "    \n",
    "    plt.figure(figsize=(20,2))\n",
    "    plt.plot(data[\"time\"], data[channel])\n",
    "    plt.title(\"Variable {}\".format(channel))\n",
    "    plt.show()\n",
    "    \n",
    "    %reset -f in\n",
    "\n",
    "def load_and_plot(dir_path, channel, time_range = None, stat = False, window = 100):\n",
    "    ai = load_channel_and_time(dir_path, channel)\n",
    "    \n",
    "    if stat:\n",
    "        plot_statistics(ai, variables = [channel], time_range = time_range, window = window)\n",
    "    else:\n",
    "        plot_channel(ai, channel, time_range = time_range)\n",
    "    \n",
    "    %reset -f in"
   ]
  },
  {
   "cell_type": "code",
   "execution_count": 4,
   "metadata": {},
   "outputs": [],
   "source": [
    "def generate_data(dir_path, channel, time_range, window = 1000, step = 10):\n",
    "    #Load the data\n",
    "    data = load_channel_and_time(dir_path, channel)\n",
    "    \n",
    "    #Select the part\n",
    "    start = time_range[0]\n",
    "    end = time_range[1]\n",
    "    data = data[(data[\"time\"] > start) & (data[\"time\"] < end)]\n",
    "    \n",
    "    #Calculate the statistics\n",
    "    #data[\"Mean\"] = data.loc[:, channel].rolling(window=window).mean()\n",
    "    data[\"SD\"] = data.loc[:, channel].rolling(window=window).std()\n",
    "    data[\"Kurtosis\"] = data.loc[:, channel].rolling(window=window).kurt()\n",
    "    data[\"Skew\"] = data.loc[:, channel].rolling(window=window).skew()\n",
    "    \n",
    "    select_list = [channel, \"SD\", \"Kurtosis\", \"Skew\"]\n",
    "    \n",
    "    assert data[select_list].to_numpy()[window-1::step].shape[0] == data['time'].to_numpy()[window-1::step].shape[0]\n",
    "    \n",
    "    %reset -f in\n",
    "    \n",
    "    return data[select_list].to_numpy()[window-1::step], data['time'].to_numpy()[window-1::step]\n",
    "\n",
    "def generate_data_no_time(dir_path, channel, time_range, window = 1000, step = 10):\n",
    "    #Load the data\n",
    "    data = load_channel_and_time(dir_path, channel)\n",
    "    \n",
    "    #Select the part\n",
    "    start = time_range[0]\n",
    "    end = time_range[1]\n",
    "    data = data[(data[\"time\"] > start) & (data[\"time\"] < end)]\n",
    "    \n",
    "    #Calculate the statistics\n",
    "    #data[\"Mean\"] = data.loc[:, channel].rolling(window=window).mean()\n",
    "    data[\"SD\"] = data.loc[:, channel].rolling(window=window).std()\n",
    "    data[\"Kurtosis\"] = data.loc[:, channel].rolling(window=window).kurt()\n",
    "    data[\"Skew\"] = data.loc[:, channel].rolling(window=window).skew()\n",
    "    \n",
    "    select_list = [channel, \"SD\", \"Kurtosis\", \"Skew\"]\n",
    "    \n",
    "    %reset -f in\n",
    "    \n",
    "    return data[select_list].to_numpy()[window-1::step]\n",
    "\n",
    "def generate_data_all_sensors(dir_path, time_range, window = 1000, step = 10):\n",
    "    \n",
    "    ai0, time = generate_data(dir_path, \"ai0\", time_range = time_range, window = window, step = step)\n",
    "    ai1 = generate_data_no_time(dir_path, \"ai1\", time_range = time_range, window = window, step = step)\n",
    "    ai2 = generate_data_no_time(dir_path, \"ai2\", time_range = time_range, window = window, step = step)\n",
    "    ai3 = generate_data_no_time(dir_path, \"ai3\", time_range = time_range, window = window, step = step)\n",
    "    ai4 = generate_data_no_time(dir_path, \"ai4\", time_range = time_range, window = window, step = step)\n",
    "    \n",
    "    all_channels = np.concatenate((ai0,ai1,ai2,ai3,ai4), axis = 1)\n",
    "    \n",
    "    %reset -f in\n",
    "    \n",
    "    return all_channels, time"
   ]
  },
  {
   "cell_type": "markdown",
   "metadata": {},
   "source": [
    "## 1. Window size: 10ms; Step size: 100us"
   ]
  },
  {
   "cell_type": "code",
   "execution_count": 6,
   "metadata": {
    "collapsed": true
   },
   "outputs": [
    {
     "name": "stdout",
     "output_type": "stream",
     "text": [
      "Flushing input history\n",
      "Flushing input history\n",
      "Flushing input history\n",
      "Flushing input history\n",
      "Flushing input history\n",
      "Flushing input history\n",
      "Flushing input history\n",
      "Flushing input history\n",
      "Flushing input history\n",
      "Flushing input history\n",
      "Flushing input history\n",
      "Flushing input history\n",
      "X_train's shape:  (999900, 20)\n",
      "X_test's shape:  (199900, 20)\n"
     ]
    }
   ],
   "source": [
    "X_train, train_time = generate_data_all_sensors(\"./data/Ramp22/\", time_range = (-450, -350), window = 1000, step = 10)\n",
    "X_test, test_time = generate_data_all_sensors(\"./data/Ramp22/\", time_range = (-40, 0), window = 1000, step = 10)\n",
    "print(\"X_train's shape: \", X_train.shape)\n",
    "print(\"X_test's shape: \", X_test.shape)"
   ]
  },
  {
   "cell_type": "code",
   "execution_count": 7,
   "metadata": {
    "collapsed": true
   },
   "outputs": [
    {
     "name": "stdout",
     "output_type": "stream",
     "text": [
      "Using Keras version:  2.3.1\n",
      "Model: \"sequential_1\"\n",
      "_________________________________________________________________\n",
      "Layer (type)                 Output Shape              Param #   \n",
      "=================================================================\n",
      "dense_1 (Dense)              (None, 15)                315       \n",
      "_________________________________________________________________\n",
      "dense_2 (Dense)              (None, 10)                160       \n",
      "_________________________________________________________________\n",
      "dense_3 (Dense)              (None, 7)                 77        \n",
      "_________________________________________________________________\n",
      "dense_4 (Dense)              (None, 10)                80        \n",
      "_________________________________________________________________\n",
      "dense_5 (Dense)              (None, 15)                165       \n",
      "_________________________________________________________________\n",
      "dense_6 (Dense)              (None, 20)                320       \n",
      "=================================================================\n",
      "Total params: 1,117\n",
      "Trainable params: 1,117\n",
      "Non-trainable params: 0\n",
      "_________________________________________________________________\n"
     ]
    }
   ],
   "source": [
    "#================BUILD THE MODEL====================\n",
    "print(\"Using Keras version: \", keras.__version__)\n",
    "\n",
    "# Simple model\n",
    "model = models.Sequential()\n",
    "\n",
    "model.add(Dense(15, activation = 'elu', kernel_initializer='glorot_uniform',\n",
    "                kernel_regularizer=regularizers.l2(0.0),\n",
    "                input_dim=X_train.shape[1]))\n",
    "\n",
    "model.add(Dense(10,activation='elu',\n",
    "                kernel_initializer='glorot_uniform'))\n",
    "\n",
    "model.add(Dense(7,activation='elu',\n",
    "                kernel_initializer='glorot_uniform'))\n",
    "\n",
    "model.add(Dense(10,activation='elu',\n",
    "                kernel_initializer='glorot_uniform'))\n",
    "\n",
    "model.add(Dense(15,activation='elu',\n",
    "                kernel_initializer='glorot_uniform'))\n",
    "\n",
    "model.add(Dense(X_train.shape[1],\n",
    "                kernel_initializer='glorot_uniform'))\n",
    "\n",
    "model.compile(loss='mse',optimizer='adam')\n",
    "\n",
    "model.summary()"
   ]
  },
  {
   "cell_type": "code",
   "execution_count": 8,
   "metadata": {
    "collapsed": true
   },
   "outputs": [
    {
     "name": "stdout",
     "output_type": "stream",
     "text": [
      "Train on 899910 samples, validate on 99990 samples\n",
      "Epoch 1/50\n",
      "899910/899910 [==============================] - 8s 9us/step - loss: 4.4922 - val_loss: 0.9577\n",
      "Epoch 2/50\n",
      "899910/899910 [==============================] - 5s 6us/step - loss: 0.4574 - val_loss: 0.0723\n",
      "Epoch 3/50\n",
      "899910/899910 [==============================] - 5s 5us/step - loss: 0.0416 - val_loss: 0.0497\n",
      "Epoch 4/50\n",
      "899910/899910 [==============================] - 5s 6us/step - loss: 0.0323 - val_loss: 0.0437\n",
      "Epoch 5/50\n",
      "899910/899910 [==============================] - 5s 6us/step - loss: 0.0304 - val_loss: 0.0418\n",
      "Epoch 6/50\n",
      "899910/899910 [==============================] - 5s 6us/step - loss: 0.0296 - val_loss: 0.0387\n",
      "Epoch 7/50\n",
      "899910/899910 [==============================] - 5s 5us/step - loss: 0.0291 - val_loss: 0.0473\n",
      "Epoch 8/50\n",
      "899910/899910 [==============================] - 5s 6us/step - loss: 0.0288 - val_loss: 0.0379\n",
      "Epoch 9/50\n",
      "899910/899910 [==============================] - 5s 6us/step - loss: 0.0285 - val_loss: 0.0462\n",
      "Epoch 10/50\n",
      "899910/899910 [==============================] - 5s 6us/step - loss: 0.0282 - val_loss: 0.0380\n",
      "Epoch 11/50\n",
      "899910/899910 [==============================] - 5s 6us/step - loss: 0.0281 - val_loss: 0.0402\n",
      "Epoch 12/50\n",
      "899910/899910 [==============================] - 5s 5us/step - loss: 0.0277 - val_loss: 0.0377\n",
      "Epoch 13/50\n",
      "899910/899910 [==============================] - 5s 6us/step - loss: 0.0271 - val_loss: 0.0355\n",
      "Epoch 14/50\n",
      "899910/899910 [==============================] - 5s 6us/step - loss: 0.0264 - val_loss: 0.0354\n",
      "Epoch 15/50\n",
      "899910/899910 [==============================] - 5s 6us/step - loss: 0.0258 - val_loss: 0.0343\n",
      "Epoch 16/50\n",
      "899910/899910 [==============================] - 5s 6us/step - loss: 0.0251 - val_loss: 0.0350\n",
      "Epoch 17/50\n",
      "899910/899910 [==============================] - 6s 6us/step - loss: 0.0245 - val_loss: 0.0342\n",
      "Epoch 18/50\n",
      "899910/899910 [==============================] - 5s 6us/step - loss: 0.0213 - val_loss: 0.0233\n",
      "Epoch 19/50\n",
      "899910/899910 [==============================] - 6s 6us/step - loss: 0.0168 - val_loss: 0.0205\n",
      "Epoch 20/50\n",
      "899910/899910 [==============================] - 5s 5us/step - loss: 0.0162 - val_loss: 0.0199\n",
      "Epoch 21/50\n",
      "899910/899910 [==============================] - 5s 6us/step - loss: 0.0158 - val_loss: 0.0192\n",
      "Epoch 22/50\n",
      "899910/899910 [==============================] - 5s 6us/step - loss: 0.0155 - val_loss: 0.0193\n",
      "Epoch 23/50\n",
      "899910/899910 [==============================] - 5s 6us/step - loss: 0.0154 - val_loss: 0.0188\n",
      "Epoch 24/50\n",
      "899910/899910 [==============================] - 5s 5us/step - loss: 0.0151 - val_loss: 0.0179\n",
      "Epoch 25/50\n",
      "899910/899910 [==============================] - 5s 6us/step - loss: 0.0151 - val_loss: 0.0184\n",
      "Epoch 26/50\n",
      "899910/899910 [==============================] - 5s 6us/step - loss: 0.0150 - val_loss: 0.0175\n",
      "Epoch 27/50\n",
      "899910/899910 [==============================] - 5s 6us/step - loss: 0.0149 - val_loss: 0.0189\n",
      "Epoch 28/50\n",
      "899910/899910 [==============================] - 5s 6us/step - loss: 0.0148 - val_loss: 0.0180\n",
      "Epoch 29/50\n",
      "899910/899910 [==============================] - 5s 6us/step - loss: 0.0147 - val_loss: 0.0175\n",
      "Epoch 30/50\n",
      "899910/899910 [==============================] - 5s 6us/step - loss: 0.0147 - val_loss: 0.0173\n",
      "Epoch 31/50\n",
      "899910/899910 [==============================] - 5s 6us/step - loss: 0.0146 - val_loss: 0.0176\n",
      "Epoch 32/50\n",
      "899910/899910 [==============================] - 5s 6us/step - loss: 0.0145 - val_loss: 0.0191\n",
      "Epoch 33/50\n",
      "899910/899910 [==============================] - 4s 4us/step - loss: 0.0144 - val_loss: 0.0176\n",
      "Epoch 34/50\n",
      "899910/899910 [==============================] - 4s 4us/step - loss: 0.0143 - val_loss: 0.0169\n",
      "Epoch 35/50\n",
      "899910/899910 [==============================] - 5s 6us/step - loss: 0.0142 - val_loss: 0.0168\n",
      "Epoch 36/50\n",
      "899910/899910 [==============================] - 5s 5us/step - loss: 0.0141 - val_loss: 0.0173\n",
      "Epoch 37/50\n",
      "899910/899910 [==============================] - 5s 5us/step - loss: 0.0142 - val_loss: 0.0205\n",
      "Epoch 38/50\n",
      "899910/899910 [==============================] - 5s 6us/step - loss: 0.0140 - val_loss: 0.0164\n",
      "Epoch 39/50\n",
      "899910/899910 [==============================] - 6s 6us/step - loss: 0.0140 - val_loss: 0.0172\n",
      "Epoch 40/50\n",
      "899910/899910 [==============================] - 5s 6us/step - loss: 0.0140 - val_loss: 0.0186\n",
      "Epoch 41/50\n",
      "899910/899910 [==============================] - 5s 6us/step - loss: 0.0139 - val_loss: 0.0164\n",
      "Epoch 42/50\n",
      "899910/899910 [==============================] - 4s 5us/step - loss: 0.0138 - val_loss: 0.0165\n",
      "Epoch 43/50\n",
      "899910/899910 [==============================] - 5s 6us/step - loss: 0.0138 - val_loss: 0.0159\n",
      "Epoch 44/50\n",
      "899910/899910 [==============================] - 5s 5us/step - loss: 0.0137 - val_loss: 0.0165\n",
      "Epoch 45/50\n",
      "899910/899910 [==============================] - 5s 6us/step - loss: 0.0137 - val_loss: 0.0158\n",
      "Epoch 46/50\n",
      "899910/899910 [==============================] - 6s 6us/step - loss: 0.0136 - val_loss: 0.0154\n",
      "Epoch 47/50\n",
      "899910/899910 [==============================] - 5s 5us/step - loss: 0.0133 - val_loss: 0.0156\n",
      "Epoch 48/50\n",
      "899910/899910 [==============================] - 5s 6us/step - loss: 0.0132 - val_loss: 0.0149\n",
      "Epoch 49/50\n",
      "899910/899910 [==============================] - 6s 6us/step - loss: 0.0130 - val_loss: 0.0146\n",
      "Epoch 50/50\n",
      "899910/899910 [==============================] - 5s 6us/step - loss: 0.0126 - val_loss: 0.0143\n"
     ]
    }
   ],
   "source": [
    "# Train model for 100 epochs, batch size of 10: \n",
    "NUM_EPOCHS=50\n",
    "BATCH_SIZE=2000\n",
    "\n",
    "history=model.fit(X_train, X_train,\n",
    "                  batch_size=BATCH_SIZE, \n",
    "                  epochs=NUM_EPOCHS,\n",
    "                  validation_split=0.1,\n",
    "                  verbose = 1)"
   ]
  },
  {
   "cell_type": "code",
   "execution_count": 9,
   "metadata": {},
   "outputs": [],
   "source": [
    "model.save(\"./models/All-Ramp22-10mswin-100usstep.h5\")"
   ]
  },
  {
   "cell_type": "code",
   "execution_count": 10,
   "metadata": {
    "collapsed": true
   },
   "outputs": [
    {
     "data": {
      "image/png": "[encoded data removed]",
      "text/plain": [
       "<Figure size 432x288 with 1 Axes>"
      ]
     },
     "metadata": {
      "needs_background": "light"
     },
     "output_type": "display_data"
    }
   ],
   "source": [
    "plt.plot(history.history['loss'],\n",
    "         'b',\n",
    "         label='Training loss')\n",
    "plt.plot(history.history['val_loss'],\n",
    "         'r',\n",
    "         label='Validation loss')\n",
    "plt.legend(loc='upper right')\n",
    "plt.xlabel('Epochs')\n",
    "plt.ylabel('Loss, [mse]')\n",
    "plt.show()"
   ]
  },
  {
   "cell_type": "code",
   "execution_count": 11,
   "metadata": {},
   "outputs": [],
   "source": [
    "X_pred = model.predict(np.array(X_train))\n",
    "scored = pd.DataFrame()\n",
    "scored['Loss_mse'] = np.mean(np.abs(X_pred-X_train), axis = 1)"
   ]
  },
  {
   "cell_type": "code",
   "execution_count": 21,
   "metadata": {},
   "outputs": [],
   "source": [
    "X_pred_test = model.predict(np.array(X_test))\n",
    "scored_test = pd.DataFrame()\n",
    "scored_test['Loss_mse'] = np.mean(np.abs(X_pred_test-X_test), axis = 1)"
   ]
  },
  {
   "cell_type": "code",
   "execution_count": 24,
   "metadata": {},
   "outputs": [
    {
     "data": {
      "text/plain": [
       "Text(0.5, 0, 'Time (s)')"
      ]
     },
     "execution_count": 24,
     "metadata": {},
     "output_type": "execute_result"
    },
    {
     "data": {
      "image/png": "[encoded data removed]",
      "text/plain": [
       "<Figure size 1440x144 with 1 Axes>"
      ]
     },
     "metadata": {
      "needs_background": "light"
     },
     "output_type": "display_data"
    }
   ],
   "source": [
    "plt.figure(figsize=(20,2))\n",
    "plt.plot(train_time, scored['Loss_mse'])\n",
    "plt.ylim([0,6])\n",
    "plt.xlabel(\"Time (s)\")"
   ]
  },
  {
   "cell_type": "code",
   "execution_count": 27,
   "metadata": {},
   "outputs": [
    {
     "data": {
      "text/plain": [
       "Text(0.5, 0, 'Time (s)')"
      ]
     },
     "execution_count": 27,
     "metadata": {},
     "output_type": "execute_result"
    },
    {
     "data": {
      "image/png": "[encoded data removed]",
      "text/plain": [
       "<Figure size 1440x144 with 1 Axes>"
      ]
     },
     "metadata": {
      "needs_background": "light"
     },
     "output_type": "display_data"
    }
   ],
   "source": [
    "plt.figure(figsize=(20,2))\n",
    "plt.plot(test_time, scored_test['Loss_mse'])\n",
    "plt.ylim([0,6])\n",
    "plt.xlim([-100e-3,0])\n",
    "plt.xlabel(\"Time (s)\")"
   ]
  },
  {
   "cell_type": "markdown",
   "metadata": {},
   "source": [
    "## 2. Window size: 100ms; Step size: 100us"
   ]
  },
  {
   "cell_type": "code",
   "execution_count": 5,
   "metadata": {},
   "outputs": [
    {
     "name": "stdout",
     "output_type": "stream",
     "text": [
      "Flushing input history\n",
      "Flushing input history\n",
      "Flushing input history\n",
      "Flushing input history\n",
      "Flushing input history\n",
      "Flushing input history\n",
      "Flushing input history\n",
      "Flushing input history\n",
      "Flushing input history\n",
      "Flushing input history\n",
      "Flushing input history\n",
      "Flushing input history\n",
      "X_train's shape:  (999000, 20)\n",
      "X_test's shape:  (299000, 20)\n"
     ]
    }
   ],
   "source": [
    "X_train, train_time = generate_data_all_sensors(\"./data/Ramp22/\", time_range = (-450, -350), window = 10000, step = 10)\n",
    "X_test, test_time = generate_data_all_sensors(\"./data/Ramp22/\", time_range = (-30, 0), window = 10000, step = 10)\n",
    "print(\"X_train's shape: \", X_train.shape)\n",
    "print(\"X_test's shape: \", X_test.shape)"
   ]
  },
  {
   "cell_type": "code",
   "execution_count": 6,
   "metadata": {
    "collapsed": true
   },
   "outputs": [
    {
     "name": "stdout",
     "output_type": "stream",
     "text": [
      "Using Keras version:  2.3.1\n",
      "Model: \"sequential_1\"\n",
      "_________________________________________________________________\n",
      "Layer (type)                 Output Shape              Param #   \n",
      "=================================================================\n",
      "dense_1 (Dense)              (None, 15)                315       \n",
      "_________________________________________________________________\n",
      "dense_2 (Dense)              (None, 10)                160       \n",
      "_________________________________________________________________\n",
      "dense_3 (Dense)              (None, 7)                 77        \n",
      "_________________________________________________________________\n",
      "dense_4 (Dense)              (None, 10)                80        \n",
      "_________________________________________________________________\n",
      "dense_5 (Dense)              (None, 15)                165       \n",
      "_________________________________________________________________\n",
      "dense_6 (Dense)              (None, 20)                320       \n",
      "=================================================================\n",
      "Total params: 1,117\n",
      "Trainable params: 1,117\n",
      "Non-trainable params: 0\n",
      "_________________________________________________________________\n"
     ]
    }
   ],
   "source": [
    "#================BUILD THE MODEL====================\n",
    "print(\"Using Keras version: \", keras.__version__)\n",
    "\n",
    "# Simple model\n",
    "model = models.Sequential()\n",
    "\n",
    "model.add(Dense(15, activation = 'elu', kernel_initializer='glorot_uniform',\n",
    "                kernel_regularizer=regularizers.l2(0.0),\n",
    "                input_dim=X_train.shape[1]))\n",
    "\n",
    "model.add(Dense(10,activation='elu',\n",
    "                kernel_initializer='glorot_uniform'))\n",
    "\n",
    "model.add(Dense(7,activation='elu',\n",
    "                kernel_initializer='glorot_uniform'))\n",
    "\n",
    "model.add(Dense(10,activation='elu',\n",
    "                kernel_initializer='glorot_uniform'))\n",
    "\n",
    "model.add(Dense(15,activation='elu',\n",
    "                kernel_initializer='glorot_uniform'))\n",
    "\n",
    "model.add(Dense(X_train.shape[1],\n",
    "                kernel_initializer='glorot_uniform'))\n",
    "\n",
    "model.compile(loss='mse',optimizer='adam')\n",
    "\n",
    "model.summary()"
   ]
  },
  {
   "cell_type": "code",
   "execution_count": 7,
   "metadata": {
    "collapsed": true
   },
   "outputs": [
    {
     "name": "stdout",
     "output_type": "stream",
     "text": [
      "Train on 899100 samples, validate on 99900 samples\n",
      "Epoch 1/50\n",
      "899100/899100 [==============================] - 7s 8us/step - loss: 143.3161 - val_loss: 25.6122\n",
      "Epoch 2/50\n",
      "899100/899100 [==============================] - 6s 6us/step - loss: 3.6563 - val_loss: 2.0897\n",
      "Epoch 3/50\n",
      "899100/899100 [==============================] - 6s 7us/step - loss: 0.5676 - val_loss: 0.4994\n",
      "Epoch 4/50\n",
      "899100/899100 [==============================] - 6s 7us/step - loss: 0.1820 - val_loss: 0.3794\n",
      "Epoch 5/50\n",
      "899100/899100 [==============================] - 6s 7us/step - loss: 0.1041 - val_loss: 0.2682\n",
      "Epoch 6/50\n",
      "899100/899100 [==============================] - 6s 7us/step - loss: 0.0729 - val_loss: 0.2211\n",
      "Epoch 7/50\n",
      "899100/899100 [==============================] - 6s 7us/step - loss: 0.0610 - val_loss: 0.2024\n",
      "Epoch 8/50\n",
      "899100/899100 [==============================] - 6s 7us/step - loss: 0.0575 - val_loss: 0.1813\n",
      "Epoch 9/50\n",
      "899100/899100 [==============================] - 6s 7us/step - loss: 0.0557 - val_loss: 0.1715\n",
      "Epoch 10/50\n",
      "899100/899100 [==============================] - 6s 7us/step - loss: 0.0529 - val_loss: 0.1618\n",
      "Epoch 11/50\n",
      "899100/899100 [==============================] - 6s 7us/step - loss: 0.0526 - val_loss: 0.1520\n",
      "Epoch 12/50\n",
      "899100/899100 [==============================] - 7s 7us/step - loss: 0.0515 - val_loss: 0.1541\n",
      "Epoch 13/50\n",
      "899100/899100 [==============================] - 7s 8us/step - loss: 0.0511 - val_loss: 0.1321\n",
      "Epoch 14/50\n",
      "899100/899100 [==============================] - 6s 7us/step - loss: 0.0512 - val_loss: 0.1292\n",
      "Epoch 15/50\n",
      "899100/899100 [==============================] - 6s 7us/step - loss: 0.0497 - val_loss: 0.1246\n",
      "Epoch 16/50\n",
      "899100/899100 [==============================] - 7s 8us/step - loss: 0.0513 - val_loss: 0.1253\n",
      "Epoch 17/50\n",
      "899100/899100 [==============================] - 7s 7us/step - loss: 0.0477 - val_loss: 0.1164\n",
      "Epoch 18/50\n",
      "899100/899100 [==============================] - 7s 8us/step - loss: 0.0509 - val_loss: 0.1175\n",
      "Epoch 19/50\n",
      "899100/899100 [==============================] - 7s 8us/step - loss: 0.0485 - val_loss: 0.1117\n",
      "Epoch 20/50\n",
      "899100/899100 [==============================] - 7s 7us/step - loss: 0.0489 - val_loss: 0.1238\n",
      "Epoch 21/50\n",
      "899100/899100 [==============================] - 6s 7us/step - loss: 0.0486 - val_loss: 0.1065\n",
      "Epoch 22/50\n",
      "899100/899100 [==============================] - 6s 7us/step - loss: 0.0499 - val_loss: 0.1078\n",
      "Epoch 23/50\n",
      "899100/899100 [==============================] - 6s 7us/step - loss: 0.0482 - val_loss: 0.1107\n",
      "Epoch 24/50\n",
      "899100/899100 [==============================] - 5s 6us/step - loss: 0.0506 - val_loss: 0.1191\n",
      "Epoch 25/50\n",
      "899100/899100 [==============================] - 6s 7us/step - loss: 0.0473 - val_loss: 0.1060\n",
      "Epoch 26/50\n",
      "899100/899100 [==============================] - 6s 7us/step - loss: 0.0483 - val_loss: 0.1030\n",
      "Epoch 27/50\n",
      "899100/899100 [==============================] - 6s 7us/step - loss: 0.0493 - val_loss: 0.1075\n",
      "Epoch 28/50\n",
      "899100/899100 [==============================] - 7s 7us/step - loss: 0.0481 - val_loss: 0.1062\n",
      "Epoch 29/50\n",
      "899100/899100 [==============================] - 6s 7us/step - loss: 0.0490 - val_loss: 0.1047\n",
      "Epoch 30/50\n",
      "899100/899100 [==============================] - 7s 8us/step - loss: 0.0484 - val_loss: 0.0998\n",
      "Epoch 31/50\n",
      "899100/899100 [==============================] - 7s 8us/step - loss: 0.0482 - val_loss: 0.1034\n",
      "Epoch 32/50\n",
      "899100/899100 [==============================] - 7s 8us/step - loss: 0.0481 - val_loss: 0.1017\n",
      "Epoch 33/50\n",
      "899100/899100 [==============================] - 7s 8us/step - loss: 0.0505 - val_loss: 0.1040\n",
      "Epoch 34/50\n",
      "899100/899100 [==============================] - 9s 10us/step - loss: 0.0478 - val_loss: 0.1045\n",
      "Epoch 35/50\n",
      "899100/899100 [==============================] - 8s 9us/step - loss: 0.0486 - val_loss: 0.1110\n",
      "Epoch 36/50\n",
      "899100/899100 [==============================] - 8s 9us/step - loss: 0.0475 - val_loss: 0.1008\n",
      "Epoch 37/50\n",
      "899100/899100 [==============================] - 8s 8us/step - loss: 0.0495 - val_loss: 0.1013\n",
      "Epoch 38/50\n",
      "899100/899100 [==============================] - 8s 9us/step - loss: 0.0476 - val_loss: 0.0985\n",
      "Epoch 39/50\n",
      "899100/899100 [==============================] - 8s 9us/step - loss: 0.0472 - val_loss: 0.0881\n",
      "Epoch 40/50\n",
      "899100/899100 [==============================] - 8s 9us/step - loss: 0.0394 - val_loss: 0.0766\n",
      "Epoch 41/50\n",
      "899100/899100 [==============================] - 8s 9us/step - loss: 0.0376 - val_loss: 0.0742\n",
      "Epoch 42/50\n",
      "899100/899100 [==============================] - 8s 9us/step - loss: 0.0365 - val_loss: 0.1047\n",
      "Epoch 43/50\n",
      "899100/899100 [==============================] - 9s 9us/step - loss: 0.0365 - val_loss: 0.0727\n",
      "Epoch 44/50\n",
      "899100/899100 [==============================] - 8s 9us/step - loss: 0.0376 - val_loss: 0.0793\n",
      "Epoch 45/50\n",
      "899100/899100 [==============================] - 8s 9us/step - loss: 0.0359 - val_loss: 0.0712\n",
      "Epoch 46/50\n",
      "899100/899100 [==============================] - 8s 9us/step - loss: 0.0361 - val_loss: 0.0732\n",
      "Epoch 47/50\n",
      "899100/899100 [==============================] - 8s 9us/step - loss: 0.0361 - val_loss: 0.0708\n",
      "Epoch 48/50\n",
      "899100/899100 [==============================] - 7s 8us/step - loss: 0.0366 - val_loss: 0.0711\n",
      "Epoch 49/50\n",
      "899100/899100 [==============================] - 7s 8us/step - loss: 0.0369 - val_loss: 0.0771\n",
      "Epoch 50/50\n",
      "899100/899100 [==============================] - 8s 8us/step - loss: 0.0356 - val_loss: 0.0707\n"
     ]
    }
   ],
   "source": [
    "# Train model for 100 epochs, batch size of 10: \n",
    "NUM_EPOCHS=50\n",
    "BATCH_SIZE=2000\n",
    "\n",
    "history=model.fit(X_train, X_train,\n",
    "                  batch_size=BATCH_SIZE, \n",
    "                  epochs=NUM_EPOCHS,\n",
    "                  validation_split=0.1,\n",
    "                  verbose = 1)"
   ]
  },
  {
   "cell_type": "code",
   "execution_count": 8,
   "metadata": {},
   "outputs": [],
   "source": [
    "model.save(\"./models/All-Ramp22-100mswin-100usstep.h5\")"
   ]
  },
  {
   "cell_type": "code",
   "execution_count": 9,
   "metadata": {
    "collapsed": true
   },
   "outputs": [
    {
     "data": {
      "image/png": "[encoded data removed]",
      "text/plain": [
       "<Figure size 432x288 with 1 Axes>"
      ]
     },
     "metadata": {
      "needs_background": "light"
     },
     "output_type": "display_data"
    }
   ],
   "source": [
    "plt.plot(history.history['loss'],\n",
    "         'b',\n",
    "         label='Training loss')\n",
    "plt.plot(history.history['val_loss'],\n",
    "         'r',\n",
    "         label='Validation loss')\n",
    "plt.legend(loc='upper right')\n",
    "plt.xlabel('Epochs')\n",
    "plt.ylabel('Loss, [mse]')\n",
    "plt.show()"
   ]
  },
  {
   "cell_type": "code",
   "execution_count": 10,
   "metadata": {},
   "outputs": [],
   "source": [
    "X_pred = model.predict(np.array(X_train))\n",
    "scored = pd.DataFrame()\n",
    "scored['Loss_mse'] = np.mean(np.abs(X_pred-X_train), axis = 1)"
   ]
  },
  {
   "cell_type": "code",
   "execution_count": 11,
   "metadata": {},
   "outputs": [],
   "source": [
    "X_pred_test = model.predict(np.array(X_test))\n",
    "scored_test = pd.DataFrame()\n",
    "scored_test['Loss_mse'] = np.mean(np.abs(X_pred_test-X_test), axis = 1)"
   ]
  },
  {
   "cell_type": "code",
   "execution_count": 14,
   "metadata": {
    "collapsed": true
   },
   "outputs": [
    {
     "data": {
      "text/plain": [
       "Text(0.5, 0, 'Time (s)')"
      ]
     },
     "execution_count": 14,
     "metadata": {},
     "output_type": "execute_result"
    },
    {
     "data": {
      "image/png": "[encoded data removed]",
      "text/plain": [
       "<Figure size 1440x144 with 1 Axes>"
      ]
     },
     "metadata": {
      "needs_background": "light"
     },
     "output_type": "display_data"
    }
   ],
   "source": [
    "plt.figure(figsize=(20,2))\n",
    "plt.plot(train_time, scored['Loss_mse'])\n",
    "plt.ylim([0,15])\n",
    "plt.xlabel(\"Time (s)\")"
   ]
  },
  {
   "cell_type": "code",
   "execution_count": 20,
   "metadata": {
    "collapsed": true
   },
   "outputs": [
    {
     "data": {
      "text/plain": [
       "Text(0.5, 0, 'Time (s)')"
      ]
     },
     "execution_count": 20,
     "metadata": {},
     "output_type": "execute_result"
    },
    {
     "data": {
      "image/png": "[encoded data removed]",
      "text/plain": [
       "<Figure size 1440x144 with 1 Axes>"
      ]
     },
     "metadata": {
      "needs_background": "light"
     },
     "output_type": "display_data"
    }
   ],
   "source": [
    "plt.figure(figsize=(20,2))\n",
    "plt.plot(test_time, scored_test['Loss_mse'])\n",
    "plt.ylim([0,15])\n",
    "plt.xlim([-100e-3,0])\n",
    "plt.xlabel(\"Time (s)\")"
   ]
  },
  {
   "cell_type": "markdown",
   "metadata": {},
   "source": [
    "## 3. Window size: 1s; Step size: 100us"
   ]
  },
  {
   "cell_type": "code",
   "execution_count": 7,
   "metadata": {
    "collapsed": true
   },
   "outputs": [
    {
     "name": "stdout",
     "output_type": "stream",
     "text": [
      "Flushing input history\n",
      "Flushing input history\n",
      "Flushing input history\n",
      "Flushing input history\n",
      "Flushing input history\n",
      "Flushing input history\n",
      "Flushing input history\n",
      "Flushing input history\n",
      "Flushing input history\n",
      "Flushing input history\n",
      "Flushing input history\n",
      "Flushing input history\n",
      "X_train's shape:  (990000, 20)\n",
      "X_test's shape:  (290000, 20)\n"
     ]
    }
   ],
   "source": [
    "X_train, train_time = generate_data_all_sensors(\"./data/Ramp22/\", time_range = (-450, -350), window = 100000, step = 10)\n",
    "X_test, test_time = generate_data_all_sensors(\"./data/Ramp22/\", time_range = (-30, 0), window = 100000, step = 10)\n",
    "print(\"X_train's shape: \", X_train.shape)\n",
    "print(\"X_test's shape: \", X_test.shape)"
   ]
  },
  {
   "cell_type": "code",
   "execution_count": 8,
   "metadata": {
    "collapsed": true
   },
   "outputs": [
    {
     "name": "stdout",
     "output_type": "stream",
     "text": [
      "Using Keras version:  2.3.1\n",
      "Model: \"sequential_1\"\n",
      "_________________________________________________________________\n",
      "Layer (type)                 Output Shape              Param #   \n",
      "=================================================================\n",
      "dense_1 (Dense)              (None, 15)                315       \n",
      "_________________________________________________________________\n",
      "dense_2 (Dense)              (None, 10)                160       \n",
      "_________________________________________________________________\n",
      "dense_3 (Dense)              (None, 7)                 77        \n",
      "_________________________________________________________________\n",
      "dense_4 (Dense)              (None, 10)                80        \n",
      "_________________________________________________________________\n",
      "dense_5 (Dense)              (None, 15)                165       \n",
      "_________________________________________________________________\n",
      "dense_6 (Dense)              (None, 20)                320       \n",
      "=================================================================\n",
      "Total params: 1,117\n",
      "Trainable params: 1,117\n",
      "Non-trainable params: 0\n",
      "_________________________________________________________________\n"
     ]
    }
   ],
   "source": [
    "#================BUILD THE MODEL====================\n",
    "print(\"Using Keras version: \", keras.__version__)\n",
    "\n",
    "# Simple model\n",
    "model = models.Sequential()\n",
    "\n",
    "model.add(Dense(15, activation = 'elu', kernel_initializer='glorot_uniform',\n",
    "                kernel_regularizer=regularizers.l2(0.0),\n",
    "                input_dim=X_train.shape[1]))\n",
    "\n",
    "model.add(Dense(10,activation='elu',\n",
    "                kernel_initializer='glorot_uniform'))\n",
    "\n",
    "model.add(Dense(7,activation='elu',\n",
    "                kernel_initializer='glorot_uniform'))\n",
    "\n",
    "model.add(Dense(10,activation='elu',\n",
    "                kernel_initializer='glorot_uniform'))\n",
    "\n",
    "model.add(Dense(15,activation='elu',\n",
    "                kernel_initializer='glorot_uniform'))\n",
    "\n",
    "model.add(Dense(X_train.shape[1],\n",
    "                kernel_initializer='glorot_uniform'))\n",
    "\n",
    "model.compile(loss='mse',optimizer='adam')\n",
    "\n",
    "model.summary()"
   ]
  },
  {
   "cell_type": "code",
   "execution_count": 9,
   "metadata": {
    "collapsed": true
   },
   "outputs": [
    {
     "name": "stdout",
     "output_type": "stream",
     "text": [
      "Train on 891000 samples, validate on 99000 samples\n",
      "Epoch 1/50\n",
      "891000/891000 [==============================] - 6s 7us/step - loss: 1152.4723 - val_loss: 463.6522\n",
      "Epoch 2/50\n",
      "891000/891000 [==============================] - 5s 6us/step - loss: 223.4306 - val_loss: 324.0986\n",
      "Epoch 3/50\n",
      "891000/891000 [==============================] - 6s 6us/step - loss: 97.3647 - val_loss: 213.8215\n",
      "Epoch 4/50\n",
      "891000/891000 [==============================] - 6s 6us/step - loss: 49.4050 - val_loss: 168.3842\n",
      "Epoch 5/50\n",
      "891000/891000 [==============================] - 5s 6us/step - loss: 12.7450 - val_loss: 37.9220\n",
      "Epoch 6/50\n",
      "891000/891000 [==============================] - 7s 8us/step - loss: 6.1319 - val_loss: 20.8092\n",
      "Epoch 7/50\n",
      "891000/891000 [==============================] - 8s 9us/step - loss: 3.3633 - val_loss: 9.5868\n",
      "Epoch 8/50\n",
      "891000/891000 [==============================] - 6s 7us/step - loss: 2.1407 - val_loss: 7.3935\n",
      "Epoch 9/50\n",
      "891000/891000 [==============================] - 6s 6us/step - loss: 1.0358 - val_loss: 7.0847\n",
      "Epoch 10/50\n",
      "891000/891000 [==============================] - 6s 7us/step - loss: 0.7872 - val_loss: 3.7891\n",
      "Epoch 11/50\n",
      "891000/891000 [==============================] - 6s 6us/step - loss: 0.6547 - val_loss: 3.4299\n",
      "Epoch 12/50\n",
      "891000/891000 [==============================] - 6s 7us/step - loss: 0.5131 - val_loss: 3.3442\n",
      "Epoch 13/50\n",
      "891000/891000 [==============================] - 6s 6us/step - loss: 0.4942 - val_loss: 3.0016\n",
      "Epoch 14/50\n",
      "891000/891000 [==============================] - 5s 6us/step - loss: 0.4919 - val_loss: 3.2342\n",
      "Epoch 15/50\n",
      "891000/891000 [==============================] - 5s 6us/step - loss: 0.3885 - val_loss: 2.7547\n",
      "Epoch 16/50\n",
      "891000/891000 [==============================] - 6s 7us/step - loss: 0.3736 - val_loss: 4.1898\n",
      "Epoch 17/50\n",
      "891000/891000 [==============================] - 6s 7us/step - loss: 0.3369 - val_loss: 0.9920\n",
      "Epoch 18/50\n",
      "891000/891000 [==============================] - 8s 9us/step - loss: 0.3679 - val_loss: 0.7159\n",
      "Epoch 19/50\n",
      "891000/891000 [==============================] - 7s 7us/step - loss: 0.3398 - val_loss: 0.6052\n",
      "Epoch 20/50\n",
      "891000/891000 [==============================] - 6s 6us/step - loss: 0.3220 - val_loss: 0.7134\n",
      "Epoch 21/50\n",
      "891000/891000 [==============================] - 5s 6us/step - loss: 0.2980 - val_loss: 0.5670\n",
      "Epoch 22/50\n",
      "891000/891000 [==============================] - 5s 6us/step - loss: 0.2846 - val_loss: 0.6750\n",
      "Epoch 23/50\n",
      "891000/891000 [==============================] - 6s 6us/step - loss: 0.3286 - val_loss: 0.5764\n",
      "Epoch 24/50\n",
      "891000/891000 [==============================] - 6s 6us/step - loss: 0.2740 - val_loss: 0.6094\n",
      "Epoch 25/50\n",
      "891000/891000 [==============================] - 5s 6us/step - loss: 0.2856 - val_loss: 0.5864\n",
      "Epoch 26/50\n",
      "891000/891000 [==============================] - 6s 6us/step - loss: 0.3741 - val_loss: 0.6704\n",
      "Epoch 27/50\n",
      "891000/891000 [==============================] - 6s 7us/step - loss: 0.2472 - val_loss: 0.5893\n",
      "Epoch 28/50\n",
      "891000/891000 [==============================] - 7s 7us/step - loss: 0.2826 - val_loss: 0.5794\n",
      "Epoch 29/50\n",
      "891000/891000 [==============================] - 6s 7us/step - loss: 0.2907 - val_loss: 0.6122\n",
      "Epoch 30/50\n",
      "891000/891000 [==============================] - 6s 7us/step - loss: 0.2224 - val_loss: 0.5547\n",
      "Epoch 31/50\n",
      "891000/891000 [==============================] - 6s 7us/step - loss: 0.2115 - val_loss: 0.8052\n",
      "Epoch 32/50\n",
      "891000/891000 [==============================] - 5s 6us/step - loss: 0.2570 - val_loss: 0.5700\n",
      "Epoch 33/50\n",
      "891000/891000 [==============================] - 6s 7us/step - loss: 0.2719 - val_loss: 0.6682\n",
      "Epoch 34/50\n",
      "891000/891000 [==============================] - 6s 7us/step - loss: 0.2201 - val_loss: 0.5847\n",
      "Epoch 35/50\n",
      "891000/891000 [==============================] - 6s 6us/step - loss: 0.1662 - val_loss: 0.5686\n",
      "Epoch 36/50\n",
      "891000/891000 [==============================] - 6s 7us/step - loss: 0.2142 - val_loss: 0.6428\n",
      "Epoch 37/50\n",
      "891000/891000 [==============================] - 6s 7us/step - loss: 0.1653 - val_loss: 0.5589\n",
      "Epoch 38/50\n",
      "891000/891000 [==============================] - 5s 6us/step - loss: 0.1902 - val_loss: 2.2035\n",
      "Epoch 39/50\n",
      "891000/891000 [==============================] - 6s 7us/step - loss: 0.1899 - val_loss: 0.7479\n",
      "Epoch 40/50\n",
      "891000/891000 [==============================] - 6s 7us/step - loss: 0.1474 - val_loss: 0.5828\n",
      "Epoch 41/50\n",
      "891000/891000 [==============================] - 6s 6us/step - loss: 0.1720 - val_loss: 0.6337\n",
      "Epoch 42/50\n",
      "891000/891000 [==============================] - 6s 6us/step - loss: 0.1077 - val_loss: 0.5906\n",
      "Epoch 43/50\n",
      "891000/891000 [==============================] - 6s 7us/step - loss: 0.2154 - val_loss: 0.5264\n",
      "Epoch 44/50\n",
      "891000/891000 [==============================] - 6s 6us/step - loss: 0.2780 - val_loss: 0.5707\n",
      "Epoch 45/50\n",
      "891000/891000 [==============================] - 5s 6us/step - loss: 0.1056 - val_loss: 0.5461\n",
      "Epoch 46/50\n",
      "891000/891000 [==============================] - 6s 6us/step - loss: 0.1225 - val_loss: 0.7130\n",
      "Epoch 47/50\n",
      "891000/891000 [==============================] - 6s 6us/step - loss: 0.1330 - val_loss: 0.5839\n",
      "Epoch 48/50\n",
      "891000/891000 [==============================] - 6s 7us/step - loss: 0.1458 - val_loss: 0.5786\n",
      "Epoch 49/50\n",
      "891000/891000 [==============================] - 6s 7us/step - loss: 0.1136 - val_loss: 0.7446\n",
      "Epoch 50/50\n",
      "891000/891000 [==============================] - 6s 7us/step - loss: 0.0860 - val_loss: 0.5433\n"
     ]
    }
   ],
   "source": [
    "# Train model for 100 epochs, batch size of 10: \n",
    "NUM_EPOCHS=50\n",
    "BATCH_SIZE=2000\n",
    "\n",
    "history=model.fit(X_train, X_train,\n",
    "                  batch_size=BATCH_SIZE, \n",
    "                  epochs=NUM_EPOCHS,\n",
    "                  validation_split=0.1,\n",
    "                  verbose = 1)"
   ]
  },
  {
   "cell_type": "code",
   "execution_count": 10,
   "metadata": {},
   "outputs": [],
   "source": [
    "model.save(\"./models/All-Ramp22-1swin-100usstep.h5\")"
   ]
  },
  {
   "cell_type": "code",
   "execution_count": 11,
   "metadata": {
    "collapsed": true
   },
   "outputs": [
    {
     "data": {
      "image/png": "[encoded data removed]",
      "text/plain": [
       "<Figure size 432x288 with 1 Axes>"
      ]
     },
     "metadata": {
      "needs_background": "light"
     },
     "output_type": "display_data"
    }
   ],
   "source": [
    "plt.plot(history.history['loss'],\n",
    "         'b',\n",
    "         label='Training loss')\n",
    "plt.plot(history.history['val_loss'],\n",
    "         'r',\n",
    "         label='Validation loss')\n",
    "plt.legend(loc='upper right')\n",
    "plt.xlabel('Epochs')\n",
    "plt.ylabel('Loss, [mse]')\n",
    "plt.show()"
   ]
  },
  {
   "cell_type": "code",
   "execution_count": 12,
   "metadata": {},
   "outputs": [],
   "source": [
    "X_pred = model.predict(np.array(X_train))\n",
    "scored = pd.DataFrame()\n",
    "scored['Loss_mse'] = np.mean(np.abs(X_pred-X_train), axis = 1)"
   ]
  },
  {
   "cell_type": "code",
   "execution_count": 13,
   "metadata": {},
   "outputs": [],
   "source": [
    "X_pred_test = model.predict(np.array(X_test))\n",
    "scored_test = pd.DataFrame()\n",
    "scored_test['Loss_mse'] = np.mean(np.abs(X_pred_test-X_test), axis = 1)"
   ]
  },
  {
   "cell_type": "code",
   "execution_count": 24,
   "metadata": {
    "collapsed": true
   },
   "outputs": [
    {
     "data": {
      "text/plain": [
       "Text(0.5, 0, 'Time (s)')"
      ]
     },
     "execution_count": 24,
     "metadata": {},
     "output_type": "execute_result"
    },
    {
     "data": {
      "image/png": "[encoded data removed]",
      "text/plain": [
       "<Figure size 1440x144 with 1 Axes>"
      ]
     },
     "metadata": {
      "needs_background": "light"
     },
     "output_type": "display_data"
    }
   ],
   "source": [
    "plt.figure(figsize=(20,2))\n",
    "plt.plot(train_time, scored['Loss_mse'])\n",
    "plt.ylim([0,100])\n",
    "plt.xlabel(\"Time (s)\")"
   ]
  },
  {
   "cell_type": "code",
   "execution_count": 29,
   "metadata": {
    "collapsed": true
   },
   "outputs": [
    {
     "data": {
      "text/plain": [
       "Text(0.5, 0, 'Time (s)')"
      ]
     },
     "execution_count": 29,
     "metadata": {},
     "output_type": "execute_result"
    },
    {
     "data": {
      "image/png": "[encoded data removed]",
      "text/plain": [
       "<Figure size 1440x144 with 1 Axes>"
      ]
     },
     "metadata": {
      "needs_background": "light"
     },
     "output_type": "display_data"
    }
   ],
   "source": [
    "plt.figure(figsize=(20,2))\n",
    "plt.plot(test_time, scored_test['Loss_mse'])\n",
    "plt.ylim([0,100])\n",
    "plt.xlim([-100e-3,0])\n",
    "plt.xlabel(\"Time (s)\")"
   ]
  },
  {
   "cell_type": "markdown",
   "metadata": {},
   "source": [
    "## 4. Window size: 2s; Step size: 100us"
   ]
  },
  {
   "cell_type": "code",
   "execution_count": 5,
   "metadata": {
    "collapsed": true
   },
   "outputs": [
    {
     "name": "stdout",
     "output_type": "stream",
     "text": [
      "Flushing input history\n",
      "Flushing input history\n",
      "Flushing input history\n",
      "Flushing input history\n",
      "Flushing input history\n",
      "Flushing input history\n",
      "Flushing input history\n",
      "Flushing input history\n",
      "Flushing input history\n",
      "Flushing input history\n",
      "Flushing input history\n",
      "Flushing input history\n",
      "X_train's shape:  (980000, 20)\n",
      "X_test's shape:  (280000, 20)\n"
     ]
    }
   ],
   "source": [
    "X_train, train_time = generate_data_all_sensors(\"./data/Ramp22/\", time_range = (-450, -350), window = 200000, step = 10)\n",
    "X_test, test_time = generate_data_all_sensors(\"./data/Ramp22/\", time_range = (-30, 0), window = 200000, step = 10)\n",
    "print(\"X_train's shape: \", X_train.shape)\n",
    "print(\"X_test's shape: \", X_test.shape)"
   ]
  },
  {
   "cell_type": "code",
   "execution_count": 6,
   "metadata": {
    "collapsed": true
   },
   "outputs": [
    {
     "name": "stdout",
     "output_type": "stream",
     "text": [
      "Using Keras version:  2.3.1\n",
      "Model: \"sequential_1\"\n",
      "_________________________________________________________________\n",
      "Layer (type)                 Output Shape              Param #   \n",
      "=================================================================\n",
      "dense_1 (Dense)              (None, 15)                315       \n",
      "_________________________________________________________________\n",
      "dense_2 (Dense)              (None, 10)                160       \n",
      "_________________________________________________________________\n",
      "dense_3 (Dense)              (None, 7)                 77        \n",
      "_________________________________________________________________\n",
      "dense_4 (Dense)              (None, 10)                80        \n",
      "_________________________________________________________________\n",
      "dense_5 (Dense)              (None, 15)                165       \n",
      "_________________________________________________________________\n",
      "dense_6 (Dense)              (None, 20)                320       \n",
      "=================================================================\n",
      "Total params: 1,117\n",
      "Trainable params: 1,117\n",
      "Non-trainable params: 0\n",
      "_________________________________________________________________\n"
     ]
    }
   ],
   "source": [
    "#================BUILD THE MODEL====================\n",
    "print(\"Using Keras version: \", keras.__version__)\n",
    "\n",
    "# Simple model\n",
    "model = models.Sequential()\n",
    "\n",
    "model.add(Dense(15, activation = 'elu', kernel_initializer='glorot_uniform',\n",
    "                kernel_regularizer=regularizers.l2(0.0),\n",
    "                input_dim=X_train.shape[1]))\n",
    "\n",
    "model.add(Dense(10,activation='elu',\n",
    "                kernel_initializer='glorot_uniform'))\n",
    "\n",
    "model.add(Dense(7,activation='elu',\n",
    "                kernel_initializer='glorot_uniform'))\n",
    "\n",
    "model.add(Dense(10,activation='elu',\n",
    "                kernel_initializer='glorot_uniform'))\n",
    "\n",
    "model.add(Dense(15,activation='elu',\n",
    "                kernel_initializer='glorot_uniform'))\n",
    "\n",
    "model.add(Dense(X_train.shape[1],\n",
    "                kernel_initializer='glorot_uniform'))\n",
    "\n",
    "model.compile(loss='mse',optimizer='adam')\n",
    "\n",
    "model.summary()"
   ]
  },
  {
   "cell_type": "code",
   "execution_count": 7,
   "metadata": {
    "collapsed": true
   },
   "outputs": [
    {
     "name": "stdout",
     "output_type": "stream",
     "text": [
      "Train on 882000 samples, validate on 98000 samples\n",
      "Epoch 1/80\n",
      "882000/882000 [==============================] - 11s 12us/step - loss: 2090.2024 - val_loss: 1306.1392\n",
      "Epoch 2/80\n",
      "882000/882000 [==============================] - 9s 11us/step - loss: 95.4346 - val_loss: 1176.4276\n",
      "Epoch 3/80\n",
      "882000/882000 [==============================] - 8s 10us/step - loss: 48.7418 - val_loss: 737.6249\n",
      "Epoch 4/80\n",
      "882000/882000 [==============================] - 7s 8us/step - loss: 27.3533 - val_loss: 549.8414\n",
      "Epoch 5/80\n",
      "882000/882000 [==============================] - 7s 8us/step - loss: 17.9652 - val_loss: 392.1921\n",
      "Epoch 6/80\n",
      "882000/882000 [==============================] - 6s 6us/step - loss: 12.6807 - val_loss: 349.0103\n",
      "Epoch 7/80\n",
      "882000/882000 [==============================] - 7s 8us/step - loss: 9.9062 - val_loss: 364.8735\n",
      "Epoch 8/80\n",
      "882000/882000 [==============================] - 9s 10us/step - loss: 8.4010 - val_loss: 355.7869\n",
      "Epoch 9/80\n",
      "882000/882000 [==============================] - 11s 12us/step - loss: 7.8586 - val_loss: 362.5205\n",
      "Epoch 10/80\n",
      "882000/882000 [==============================] - 13s 15us/step - loss: 7.3066 - val_loss: 333.8256\n",
      "Epoch 11/80\n",
      "882000/882000 [==============================] - 12s 14us/step - loss: 6.6936 - val_loss: 362.8476\n",
      "Epoch 12/80\n",
      "882000/882000 [==============================] - 12s 13us/step - loss: 6.4912 - val_loss: 377.4840\n",
      "Epoch 13/80\n",
      "882000/882000 [==============================] - 12s 14us/step - loss: 6.3999 - val_loss: 364.1177\n",
      "Epoch 14/80\n",
      "882000/882000 [==============================] - 11s 12us/step - loss: 6.4757 - val_loss: 332.4536\n",
      "Epoch 15/80\n",
      "882000/882000 [==============================] - 13s 15us/step - loss: 6.2415 - val_loss: 362.9292\n",
      "Epoch 16/80\n",
      "882000/882000 [==============================] - 11s 13us/step - loss: 6.2568 - val_loss: 350.5779\n",
      "Epoch 17/80\n",
      "882000/882000 [==============================] - 13s 15us/step - loss: 6.1781 - val_loss: 356.6014\n",
      "Epoch 18/80\n",
      "882000/882000 [==============================] - 13s 15us/step - loss: 6.2876 - val_loss: 343.5670\n",
      "Epoch 19/80\n",
      "882000/882000 [==============================] - 11s 13us/step - loss: 5.9866 - val_loss: 356.5620\n",
      "Epoch 20/80\n",
      "882000/882000 [==============================] - 11s 12us/step - loss: 6.2434 - val_loss: 323.2740\n",
      "Epoch 21/80\n",
      "882000/882000 [==============================] - 12s 14us/step - loss: 6.1060 - val_loss: 354.3621\n",
      "Epoch 22/80\n",
      "882000/882000 [==============================] - 12s 14us/step - loss: 6.1512 - val_loss: 388.5942\n",
      "Epoch 23/80\n",
      "882000/882000 [==============================] - 11s 12us/step - loss: 5.9998 - val_loss: 358.6359\n",
      "Epoch 24/80\n",
      "882000/882000 [==============================] - 12s 13us/step - loss: 6.4244 - val_loss: 358.3101\n",
      "Epoch 25/80\n",
      "882000/882000 [==============================] - 12s 14us/step - loss: 5.9726 - val_loss: 355.9290\n",
      "Epoch 26/80\n",
      "882000/882000 [==============================] - 12s 13us/step - loss: 5.9675 - val_loss: 347.5829\n",
      "Epoch 27/80\n",
      "882000/882000 [==============================] - 12s 13us/step - loss: 5.8501 - val_loss: 359.8841\n",
      "Epoch 28/80\n",
      "882000/882000 [==============================] - 13s 15us/step - loss: 5.9882 - val_loss: 359.1840\n",
      "Epoch 29/80\n",
      "882000/882000 [==============================] - 12s 14us/step - loss: 5.8219 - val_loss: 350.0566\n",
      "Epoch 30/80\n",
      "882000/882000 [==============================] - 11s 13us/step - loss: 5.9555 - val_loss: 538.2987\n",
      "Epoch 31/80\n",
      "882000/882000 [==============================] - 12s 13us/step - loss: 5.8751 - val_loss: 354.9412\n",
      "Epoch 32/80\n",
      "882000/882000 [==============================] - 12s 13us/step - loss: 5.9854 - val_loss: 361.8761\n",
      "Epoch 33/80\n",
      "882000/882000 [==============================] - 13s 14us/step - loss: 6.0094 - val_loss: 401.8415\n",
      "Epoch 34/80\n",
      "882000/882000 [==============================] - 12s 14us/step - loss: 6.2887 - val_loss: 353.1954\n",
      "Epoch 35/80\n",
      "882000/882000 [==============================] - 12s 13us/step - loss: 5.6499 - val_loss: 364.6637\n",
      "Epoch 36/80\n",
      "882000/882000 [==============================] - 12s 13us/step - loss: 5.7950 - val_loss: 376.0902\n",
      "Epoch 37/80\n",
      "882000/882000 [==============================] - 12s 13us/step - loss: 5.9795 - val_loss: 369.8828\n",
      "Epoch 38/80\n",
      "882000/882000 [==============================] - 13s 14us/step - loss: 5.6486 - val_loss: 354.5060\n",
      "Epoch 39/80\n",
      "882000/882000 [==============================] - 13s 15us/step - loss: 5.7826 - val_loss: 349.0025\n",
      "Epoch 40/80\n",
      "882000/882000 [==============================] - 12s 14us/step - loss: 5.6070 - val_loss: 353.4245\n",
      "Epoch 41/80\n",
      "882000/882000 [==============================] - 11s 13us/step - loss: 5.5779 - val_loss: 330.7846\n",
      "Epoch 42/80\n",
      "882000/882000 [==============================] - 12s 14us/step - loss: 5.7802 - val_loss: 314.3773\n",
      "Epoch 43/80\n",
      "882000/882000 [==============================] - 12s 14us/step - loss: 4.5773 - val_loss: 278.6732\n",
      "Epoch 44/80\n",
      "882000/882000 [==============================] - 13s 15us/step - loss: 3.6618 - val_loss: 197.3728\n",
      "Epoch 45/80\n",
      "882000/882000 [==============================] - 13s 15us/step - loss: 2.5274 - val_loss: 99.1243\n",
      "Epoch 46/80\n",
      "882000/882000 [==============================] - 12s 14us/step - loss: 0.8726 - val_loss: 38.6513\n",
      "Epoch 47/80\n",
      "882000/882000 [==============================] - 11s 13us/step - loss: 0.4241 - val_loss: 14.3243\n",
      "Epoch 48/80\n",
      "882000/882000 [==============================] - 11s 13us/step - loss: 0.5142 - val_loss: 4.0412\n",
      "Epoch 49/80\n",
      "882000/882000 [==============================] - 11s 12us/step - loss: 0.5691 - val_loss: 2.0798\n",
      "Epoch 50/80\n",
      "882000/882000 [==============================] - 10s 11us/step - loss: 0.1256 - val_loss: 1.0939\n",
      "Epoch 51/80\n",
      "882000/882000 [==============================] - 12s 13us/step - loss: 0.6230 - val_loss: 1.0304\n",
      "Epoch 52/80\n",
      "882000/882000 [==============================] - 12s 14us/step - loss: 0.2800 - val_loss: 1.0366\n",
      "Epoch 53/80\n",
      "882000/882000 [==============================] - 11s 13us/step - loss: 0.2679 - val_loss: 8.8757\n",
      "Epoch 54/80\n",
      "882000/882000 [==============================] - 11s 13us/step - loss: 0.1467 - val_loss: 2.9295\n",
      "Epoch 55/80\n",
      "882000/882000 [==============================] - 11s 12us/step - loss: 0.2796 - val_loss: 1.1956\n",
      "Epoch 56/80\n",
      "882000/882000 [==============================] - 12s 14us/step - loss: 0.2464 - val_loss: 0.7715\n",
      "Epoch 57/80\n",
      "882000/882000 [==============================] - 12s 14us/step - loss: 0.3555 - val_loss: 0.8105\n",
      "Epoch 58/80\n",
      "882000/882000 [==============================] - 14s 15us/step - loss: 0.5717 - val_loss: 0.7199\n",
      "Epoch 59/80\n",
      "882000/882000 [==============================] - 12s 14us/step - loss: 0.1096 - val_loss: 1.7728\n",
      "Epoch 60/80\n",
      "882000/882000 [==============================] - 13s 14us/step - loss: 0.3989 - val_loss: 0.7211\n",
      "Epoch 61/80\n",
      "882000/882000 [==============================] - 11s 13us/step - loss: 0.1815 - val_loss: 0.7405\n",
      "Epoch 62/80\n",
      "882000/882000 [==============================] - 10s 12us/step - loss: 0.5955 - val_loss: 0.8022\n",
      "Epoch 63/80\n",
      "882000/882000 [==============================] - 10s 12us/step - loss: 0.1059 - val_loss: 0.7662\n",
      "Epoch 64/80\n",
      "882000/882000 [==============================] - 11s 12us/step - loss: 0.3541 - val_loss: 0.6807\n",
      "Epoch 65/80\n",
      "882000/882000 [==============================] - 10s 11us/step - loss: 0.2096 - val_loss: 0.7794\n",
      "Epoch 66/80\n",
      "882000/882000 [==============================] - 7s 8us/step - loss: 0.3600 - val_loss: 0.7270\n",
      "Epoch 67/80\n",
      "882000/882000 [==============================] - 8s 9us/step - loss: 0.1200 - val_loss: 1.9247\n",
      "Epoch 68/80\n",
      "882000/882000 [==============================] - 10s 12us/step - loss: 0.3095 - val_loss: 0.6946\n",
      "Epoch 69/80\n",
      "882000/882000 [==============================] - 10s 11us/step - loss: 0.4389 - val_loss: 2.4919\n",
      "Epoch 70/80\n",
      "882000/882000 [==============================] - 9s 11us/step - loss: 0.4416 - val_loss: 0.7301\n",
      "Epoch 71/80\n",
      "882000/882000 [==============================] - 8s 9us/step - loss: 0.0823 - val_loss: 0.6865\n",
      "Epoch 72/80\n",
      "882000/882000 [==============================] - 9s 10us/step - loss: 0.3018 - val_loss: 0.6845\n",
      "Epoch 73/80\n",
      "882000/882000 [==============================] - 8s 9us/step - loss: 0.2344 - val_loss: 0.6972\n",
      "Epoch 74/80\n",
      "882000/882000 [==============================] - 7s 7us/step - loss: 0.3397 - val_loss: 0.6805\n",
      "Epoch 75/80\n"
     ]
    },
    {
     "name": "stdout",
     "output_type": "stream",
     "text": [
      "882000/882000 [==============================] - 7s 7us/step - loss: 0.3014 - val_loss: 3.4605\n",
      "Epoch 76/80\n",
      "882000/882000 [==============================] - 7s 8us/step - loss: 0.1524 - val_loss: 0.6851\n",
      "Epoch 77/80\n",
      "882000/882000 [==============================] - 6s 7us/step - loss: 0.4699 - val_loss: 0.6386\n",
      "Epoch 78/80\n",
      "882000/882000 [==============================] - 7s 8us/step - loss: 0.1064 - val_loss: 0.7093\n",
      "Epoch 79/80\n",
      "882000/882000 [==============================] - 7s 8us/step - loss: 0.2069 - val_loss: 0.6777\n",
      "Epoch 80/80\n",
      "882000/882000 [==============================] - 6s 7us/step - loss: 0.3189 - val_loss: 0.7490\n"
     ]
    }
   ],
   "source": [
    "# Train model for 100 epochs, batch size of 10: \n",
    "NUM_EPOCHS=80\n",
    "BATCH_SIZE=1000\n",
    "\n",
    "history=model.fit(X_train, X_train,\n",
    "                  batch_size=BATCH_SIZE, \n",
    "                  epochs=NUM_EPOCHS,\n",
    "                  validation_split=0.1,\n",
    "                  verbose = 1,\n",
    "                 )"
   ]
  },
  {
   "cell_type": "code",
   "execution_count": 8,
   "metadata": {},
   "outputs": [],
   "source": [
    "model.save(\"./models/All-Ramp22-2swin-100usstep.h5\")"
   ]
  },
  {
   "cell_type": "code",
   "execution_count": 9,
   "metadata": {
    "collapsed": true
   },
   "outputs": [
    {
     "data": {
      "image/png": "[encoded data removed]",
      "text/plain": [
       "<Figure size 432x288 with 1 Axes>"
      ]
     },
     "metadata": {
      "needs_background": "light"
     },
     "output_type": "display_data"
    }
   ],
   "source": [
    "plt.plot(history.history['loss'],\n",
    "         'b',\n",
    "         label='Training loss')\n",
    "plt.plot(history.history['val_loss'],\n",
    "         'r',\n",
    "         label='Validation loss')\n",
    "plt.legend(loc='upper right')\n",
    "plt.xlabel('Epochs')\n",
    "plt.ylabel('Loss, [mse]')\n",
    "plt.show()"
   ]
  },
  {
   "cell_type": "code",
   "execution_count": 10,
   "metadata": {},
   "outputs": [],
   "source": [
    "X_pred = model.predict(np.array(X_train))\n",
    "scored = pd.DataFrame()\n",
    "scored['Loss_mse'] = np.mean(np.abs(X_pred-X_train), axis = 1)"
   ]
  },
  {
   "cell_type": "code",
   "execution_count": 11,
   "metadata": {},
   "outputs": [],
   "source": [
    "X_pred_test = model.predict(np.array(X_test))\n",
    "scored_test = pd.DataFrame()\n",
    "scored_test['Loss_mse'] = np.mean(np.abs(X_pred_test-X_test), axis = 1)"
   ]
  },
  {
   "cell_type": "code",
   "execution_count": 21,
   "metadata": {
    "collapsed": true
   },
   "outputs": [
    {
     "data": {
      "text/plain": [
       "Text(0.5, 0, 'Time (s)')"
      ]
     },
     "execution_count": 21,
     "metadata": {},
     "output_type": "execute_result"
    },
    {
     "data": {
      "image/png": "[encoded data removed]",
      "text/plain": [
       "<Figure size 1440x144 with 1 Axes>"
      ]
     },
     "metadata": {
      "needs_background": "light"
     },
     "output_type": "display_data"
    }
   ],
   "source": [
    "plt.figure(figsize=(20,2))\n",
    "plt.plot(train_time, scored['Loss_mse'])\n",
    "plt.ylim([0,100])\n",
    "plt.xlabel(\"Time (s)\")"
   ]
  },
  {
   "cell_type": "code",
   "execution_count": 24,
   "metadata": {
    "collapsed": true
   },
   "outputs": [
    {
     "data": {
      "text/plain": [
       "Text(0.5, 0, 'Time (s)')"
      ]
     },
     "execution_count": 24,
     "metadata": {},
     "output_type": "execute_result"
    },
    {
     "data": {
      "image/png": "[encoded data removed]",
      "text/plain": [
       "<Figure size 1440x144 with 1 Axes>"
      ]
     },
     "metadata": {
      "needs_background": "light"
     },
     "output_type": "display_data"
    }
   ],
   "source": [
    "plt.figure(figsize=(20,2))\n",
    "plt.plot(test_time, scored_test['Loss_mse'])\n",
    "plt.ylim([0,100])\n",
    "plt.xlim([-100e-3,0])\n",
    "plt.xlabel(\"Time (s)\")"
   ]
  },
  {
   "cell_type": "markdown",
   "metadata": {},
   "source": [
    "## Try adding kurtosis"
   ]
  },
  {
   "cell_type": "code",
   "execution_count": null,
   "metadata": {},
   "outputs": [],
   "source": []
  }
 ],
 "metadata": {
  "kernelspec": {
   "display_name": "Python 3",
   "language": "python",
   "name": "python3"
  },
  "language_info": {
   "codemirror_mode": {
    "name": "ipython",
    "version": 3
   },
   "file_extension": ".py",
   "mimetype": "text/x-python",
   "name": "python",
   "nbconvert_exporter": "python",
   "pygments_lexer": "ipython3",
   "version": "3.7.6"
  }
 },
 "nbformat": 4,
 "nbformat_minor": 4
}
