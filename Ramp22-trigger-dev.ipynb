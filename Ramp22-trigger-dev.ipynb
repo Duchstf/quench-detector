{
 "cells": [
  {
   "cell_type": "markdown",
   "metadata": {},
   "source": [
    "# Ramp22 Trigger system"
   ]
  },
  {
   "cell_type": "code",
   "execution_count": 1,
   "metadata": {},
   "outputs": [
    {
     "name": "stderr",
     "output_type": "stream",
     "text": [
      "\n",
      "Bad key \"text.kerning_factor\" on line 4 in\n",
      "/uscms_data/d3/dhoang/miniconda3/lib/python3.7/site-packages/matplotlib/mpl-data/stylelib/_classic_test_patch.mplstyle.\n",
      "You probably need to get an updated matplotlibrc file from\n",
      "https://github.com/matplotlib/matplotlib/blob/v3.1.3/matplotlibrc.template\n",
      "or from the matplotlib source distribution\n",
      "Using TensorFlow backend.\n"
     ]
    }
   ],
   "source": [
    "#Data processing\n",
    "import os\n",
    "import pandas as pd\n",
    "import numpy as np\n",
    "import matplotlib.pyplot as plt\n",
    "import seaborn as sns\n",
    "from nptdms import TdmsFile #Process ramping file\n",
    "\n",
    "#For building ML models\n",
    "import keras\n",
    "import keras.models as models\n",
    "from keras.layers.core import Dense\n",
    "from keras import regularizers\n",
    "\n",
    "#Random seeds\n",
    "import numpy as np\n",
    "np.random.seed(1337) # for reproducibility"
   ]
  },
  {
   "cell_type": "code",
   "execution_count": 2,
   "metadata": {},
   "outputs": [],
   "source": [
    "def load_sensor(dir_path, sensor, time_range = None):\n",
    "    \n",
    "    data = pd.DataFrame(data = {sensor: np.load(dir_path + sensor + \".npy\"),\n",
    "                                \"time\": np.load(dir_path + \"time.npy\")})\n",
    "    \n",
    "    start = min(data[\"time\"])\n",
    "    end = max(data[\"time\"])\n",
    "    \n",
    "    if time_range:\n",
    "        start = time_range[0]\n",
    "        end = time_range[1]\n",
    "    \n",
    "    \n",
    "    data = data[(data[\"time\"] > start) & (data[\"time\"] < end)]\n",
    "   \n",
    "    %reset -f in\n",
    "    \n",
    "    return data[sensor]\n",
    "\n",
    "def load_time_label(dir_path, time_range, window = 2000, step = 10):\n",
    "    \n",
    "    time_label =  np.load(dir_path + \"time.npy\")\n",
    "    \n",
    "    start = min(time_label)\n",
    "    end = max(time_label)\n",
    "    \n",
    "    if time_range:\n",
    "        start = time_range[0]\n",
    "        end = time_range[1]\n",
    "    \n",
    "    \n",
    "    time_label = time_label[(time_label > start) & (time_label < end)][window-1::step]\n",
    "    \n",
    "    %reset -f in\n",
    "    \n",
    "    return time_label\n",
    "\n",
    "#### Mean of abs(signal)\n",
    "def generate_mean_data(dir_path, time_range, window = 2000, step = 10):\n",
    "    #Load the data\n",
    "    ai0 = load_sensor(dir_path, \"ai0\", time_range = time_range).abs().rolling(window=window).mean().to_numpy()[window-1::step]\n",
    "    ai1 = load_sensor(dir_path, \"ai1\", time_range = time_range).abs().rolling(window=window).mean().to_numpy()[window-1::step]\n",
    "    ai2 = load_sensor(dir_path, \"ai2\", time_range = time_range).abs().rolling(window=window).mean().to_numpy()[window-1::step]\n",
    "    ai3 = load_sensor(dir_path, \"ai3\", time_range = time_range).abs().rolling(window=window).mean().to_numpy()[window-1::step]\n",
    "    ai4 = load_sensor(dir_path, \"ai4\", time_range = time_range).abs().rolling(window=window).mean().to_numpy()[window-1::step]\n",
    "    \n",
    "    #Calculate the product\n",
    "    product = ai0*ai1*ai2*ai3*ai4\n",
    "    \n",
    "    #Stack them together\n",
    "    all_mean = np.vstack((ai0,ai1,ai2,ai3,ai4, product)).transpose()\n",
    "    \n",
    "    %reset -f in\n",
    "    \n",
    "    return all_mean\n",
    "\n",
    "#### SD of signal\n",
    "def generate_sd_data(dir_path, time_range, window = 2000, step = 10):\n",
    "    #Load the data\n",
    "    ai0 = load_sensor(dir_path, \"ai0\", time_range = time_range).rolling(window=window).std().to_numpy()[window-1::step]\n",
    "    ai1 = load_sensor(dir_path, \"ai1\", time_range = time_range).rolling(window=window).std().to_numpy()[window-1::step]\n",
    "    ai2 = load_sensor(dir_path, \"ai2\", time_range = time_range).rolling(window=window).std().to_numpy()[window-1::step]\n",
    "    ai3 = load_sensor(dir_path, \"ai3\", time_range = time_range).rolling(window=window).std().to_numpy()[window-1::step]\n",
    "    ai4 = load_sensor(dir_path, \"ai4\", time_range = time_range).rolling(window=window).std().to_numpy()[window-1::step]\n",
    "    \n",
    "    #Calculate the product\n",
    "    product = ai0*ai1*ai2*ai3*ai4\n",
    "    \n",
    "    #Stack them together\n",
    "    all_sd = np.vstack((ai0,ai1,ai2,ai3,ai4, product)).transpose()\n",
    "    \n",
    "    %reset -f in\n",
    "    \n",
    "    return all_sd\n",
    "\n",
    "### Threshold crossings\n",
    "def thres_cross(array):\n",
    "    \n",
    "    return (array > 0.01).sum()/array.size\n",
    "\n",
    "def generate_thres_data(dir_path, time_range, window = 2000, step = 10):\n",
    "    #Load the data\n",
    "    ai0 = load_sensor(dir_path, \"ai0\", time_range = time_range).abs().rolling(window=window).apply(thres_cross, raw = True).to_numpy()[window-1::step]\n",
    "    ai1 = load_sensor(dir_path, \"ai1\", time_range = time_range).abs().rolling(window=window).apply(thres_cross, raw = True).to_numpy()[window-1::step]\n",
    "    ai2 = load_sensor(dir_path, \"ai2\", time_range = time_range).abs().rolling(window=window).apply(thres_cross, raw = True).to_numpy()[window-1::step]\n",
    "    ai3 = load_sensor(dir_path, \"ai3\", time_range = time_range).abs().rolling(window=window).apply(thres_cross, raw = True).to_numpy()[window-1::step]\n",
    "    ai4 = load_sensor(dir_path, \"ai4\", time_range = time_range).abs().rolling(window=window).apply(thres_cross, raw = True).to_numpy()[window-1::step]\n",
    "    \n",
    "    #Calculate the product\n",
    "    product = ai0*ai1*ai2*ai3*ai4\n",
    "    \n",
    "    #Stack them together\n",
    "    all_sd = np.vstack((ai0,ai1,ai2,ai3,ai4, product)).transpose()\n",
    "    \n",
    "    %reset -f in\n",
    "    \n",
    "    return all_sd\n",
    "\n",
    "def generate_data(dir_path, time_range, window = 2000, thres_win = 25000, step = 10):\n",
    "    \n",
    "    selection_index = int((thres_win -2000)/10)\n",
    "    \n",
    "    moving_mean = generate_mean_data(dir_path, time_range, window = window, step = 10)[selection_index:]\n",
    "    moving_sd = generate_sd_data(dir_path, time_range, window = window, step = 10)[selection_index:]\n",
    "    moving_thres_crossings = generate_thres_data(dir_path, time_range, window = thres_win, step = 10)\n",
    "    time_label = load_time_label(dir_path, time_range, window = window, step = 10)[selection_index:]\n",
    "    \n",
    "    all_data = np.concatenate((moving_mean, moving_sd, moving_thres_crossings), axis = 1)\n",
    "    \n",
    "    %reset -f in\n",
    "    \n",
    "    return all_data, time_label\n",
    "\n",
    "def generate_data_1(dir_path, time_range, window = 2000, step = 10):\n",
    "    \n",
    "    moving_mean = generate_mean_data(dir_path, time_range, window = 2000, step = 10)\n",
    "    moving_sd = generate_sd_data(dir_path, time_range, window = 2000, step = 10)\n",
    "    time_label = load_time_label(dir_path, time_range, window = 2000, step = 10)\n",
    "    \n",
    "    all_data = np.concatenate((moving_mean, moving_sd), axis = 1)\n",
    "    \n",
    "    %reset -f in\n",
    "    \n",
    "    return all_data, time_label"
   ]
  },
  {
   "cell_type": "code",
   "execution_count": 3,
   "metadata": {
    "scrolled": true
   },
   "outputs": [
    {
     "name": "stdout",
     "output_type": "stream",
     "text": [
      "Flushing input history\n",
      "Flushing input history\n",
      "Flushing input history\n",
      "Flushing input history\n",
      "Flushing input history\n",
      "Flushing input history\n",
      "Flushing input history\n",
      "Flushing input history\n",
      "Flushing input history\n",
      "Flushing input history\n",
      "Flushing input history\n",
      "Flushing input history\n",
      "Flushing input history\n",
      "Flushing input history\n",
      "Flushing input history\n",
      "Flushing input history\n",
      "Flushing input history\n",
      "Flushing input history\n",
      "Flushing input history\n",
      "Flushing input history\n",
      "Flushing input history\n",
      "Flushing input history\n",
      "Flushing input history\n",
      "Flushing input history\n",
      "Flushing input history\n",
      "Flushing input history\n",
      "Flushing input history\n",
      "Flushing input history\n",
      "Flushing input history\n",
      "Flushing input history\n",
      "Flushing input history\n",
      "Flushing input history\n",
      "Flushing input history\n",
      "Flushing input history\n",
      "Flushing input history\n",
      "Flushing input history\n",
      "Flushing input history\n",
      "Flushing input history\n",
      "Flushing input history\n",
      "Flushing input history\n",
      "X_train's shape:  (597500, 18)\n",
      "X_test's shape:  (197500, 18)\n"
     ]
    }
   ],
   "source": [
    "X_train, train_time = generate_data(\"./data/Ramp22/\", time_range = (-450, -390), window = 2000, step = 10)\n",
    "X_test, test_time = generate_data(\"./data/Ramp22/\", time_range = (-20, 0), window = 2000, step = 10)\n",
    "print(\"X_train's shape: \", X_train.shape)\n",
    "print(\"X_test's shape: \", X_test.shape)"
   ]
  },
  {
   "cell_type": "code",
   "execution_count": 4,
   "metadata": {},
   "outputs": [],
   "source": [
    "from sklearn.preprocessing import MinMaxScaler\n",
    "\n",
    "scaler = MinMaxScaler()\n",
    "\n",
    "scaler.fit(X_train)\n",
    "\n",
    "X_train = scaler.transform(X_train)\n",
    "\n",
    "X_test = scaler.transform(X_test)"
   ]
  },
  {
   "cell_type": "code",
   "execution_count": 5,
   "metadata": {},
   "outputs": [
    {
     "name": "stdout",
     "output_type": "stream",
     "text": [
      "Using Keras version:  2.3.1\n",
      "Model: \"sequential_1\"\n",
      "_________________________________________________________________\n",
      "Layer (type)                 Output Shape              Param #   \n",
      "=================================================================\n",
      "dense_1 (Dense)              (None, 12)                228       \n",
      "_________________________________________________________________\n",
      "dense_2 (Dense)              (None, 9)                 117       \n",
      "_________________________________________________________________\n",
      "dense_3 (Dense)              (None, 6)                 60        \n",
      "_________________________________________________________________\n",
      "dense_4 (Dense)              (None, 9)                 63        \n",
      "_________________________________________________________________\n",
      "dense_5 (Dense)              (None, 12)                120       \n",
      "_________________________________________________________________\n",
      "dense_6 (Dense)              (None, 18)                234       \n",
      "=================================================================\n",
      "Total params: 822\n",
      "Trainable params: 822\n",
      "Non-trainable params: 0\n",
      "_________________________________________________________________\n"
     ]
    }
   ],
   "source": [
    "#================BUILD THE MODEL====================\n",
    "print(\"Using Keras version: \", keras.__version__)\n",
    "\n",
    "# Simple model\n",
    "model = models.Sequential()\n",
    "\n",
    "model.add(Dense(12, activation = 'elu', kernel_initializer='glorot_uniform',\n",
    "                kernel_regularizer=regularizers.l2(0.0),\n",
    "                input_dim=X_train.shape[1]))\n",
    "\n",
    "model.add(Dense(9,activation='elu',\n",
    "                kernel_initializer='glorot_uniform'))\n",
    "\n",
    "model.add(Dense(6,activation='elu',\n",
    "                kernel_initializer='glorot_uniform'))\n",
    "\n",
    "model.add(Dense(9,activation='elu',\n",
    "                kernel_initializer='glorot_uniform'))\n",
    "\n",
    "model.add(Dense(12,activation='elu',\n",
    "                kernel_initializer='glorot_uniform'))\n",
    "\n",
    "model.add(Dense(X_train.shape[1],\n",
    "                kernel_initializer='glorot_uniform'))\n",
    "\n",
    "model.compile(loss='mse',optimizer='adam')\n",
    "\n",
    "model.summary()"
   ]
  },
  {
   "cell_type": "code",
   "execution_count": 6,
   "metadata": {
    "scrolled": true
   },
   "outputs": [
    {
     "name": "stdout",
     "output_type": "stream",
     "text": [
      "Train on 537750 samples, validate on 59750 samples\n",
      "Epoch 1/50\n",
      "537750/537750 [==============================] - 5s 9us/step - loss: 8.4680e-04 - val_loss: 1.0990e-04\n",
      "Epoch 2/50\n",
      "537750/537750 [==============================] - 4s 7us/step - loss: 1.5155e-04 - val_loss: 7.8956e-05\n",
      "Epoch 3/50\n",
      "537750/537750 [==============================] - 4s 7us/step - loss: 9.7077e-05 - val_loss: 5.0900e-05\n",
      "Epoch 4/50\n",
      "537750/537750 [==============================] - 4s 7us/step - loss: 5.4470e-05 - val_loss: 3.9422e-05\n",
      "Epoch 5/50\n",
      "537750/537750 [==============================] - 4s 7us/step - loss: 4.3702e-05 - val_loss: 3.4871e-05\n",
      "Epoch 6/50\n",
      "537750/537750 [==============================] - 4s 8us/step - loss: 3.9169e-05 - val_loss: 3.1615e-05\n",
      "Epoch 7/50\n",
      "537750/537750 [==============================] - 4s 7us/step - loss: 3.5348e-05 - val_loss: 2.7425e-05\n",
      "Epoch 8/50\n",
      "537750/537750 [==============================] - 4s 8us/step - loss: 3.1112e-05 - val_loss: 2.3592e-05\n",
      "Epoch 9/50\n",
      "537750/537750 [==============================] - 4s 8us/step - loss: 2.8131e-05 - val_loss: 2.1060e-05\n",
      "Epoch 10/50\n",
      "537750/537750 [==============================] - 4s 7us/step - loss: 2.6348e-05 - val_loss: 1.9918e-05\n",
      "Epoch 11/50\n",
      "537750/537750 [==============================] - 4s 8us/step - loss: 2.5118e-05 - val_loss: 1.9254e-05\n",
      "Epoch 12/50\n",
      "537750/537750 [==============================] - 4s 7us/step - loss: 2.4378e-05 - val_loss: 1.8927e-05\n",
      "Epoch 13/50\n",
      "537750/537750 [==============================] - 4s 7us/step - loss: 2.3846e-05 - val_loss: 1.8397e-05\n",
      "Epoch 14/50\n",
      "537750/537750 [==============================] - 4s 8us/step - loss: 2.3479e-05 - val_loss: 1.8426e-05\n",
      "Epoch 15/50\n",
      "537750/537750 [==============================] - 4s 7us/step - loss: 2.3191e-05 - val_loss: 1.8253e-05\n",
      "Epoch 16/50\n",
      "537750/537750 [==============================] - 4s 7us/step - loss: 2.3028e-05 - val_loss: 1.7893e-05\n",
      "Epoch 17/50\n",
      "537750/537750 [==============================] - 4s 7us/step - loss: 2.2727e-05 - val_loss: 1.7940e-05\n",
      "Epoch 18/50\n",
      "537750/537750 [==============================] - 4s 7us/step - loss: 2.2563e-05 - val_loss: 1.7592e-05\n",
      "Epoch 19/50\n",
      "537750/537750 [==============================] - 4s 7us/step - loss: 2.2335e-05 - val_loss: 1.7618e-05\n",
      "Epoch 20/50\n",
      "537750/537750 [==============================] - 4s 7us/step - loss: 2.2209e-05 - val_loss: 1.7531e-05\n",
      "Epoch 21/50\n",
      "537750/537750 [==============================] - 4s 7us/step - loss: 2.1998e-05 - val_loss: 1.7445e-05\n",
      "Epoch 22/50\n",
      "537750/537750 [==============================] - 4s 7us/step - loss: 2.1799e-05 - val_loss: 1.7272e-05\n",
      "Epoch 23/50\n",
      "537750/537750 [==============================] - 4s 7us/step - loss: 2.1545e-05 - val_loss: 1.7799e-05\n",
      "Epoch 24/50\n",
      "537750/537750 [==============================] - 4s 8us/step - loss: 2.1277e-05 - val_loss: 1.7519e-05\n",
      "Epoch 25/50\n",
      "537750/537750 [==============================] - 4s 7us/step - loss: 2.0940e-05 - val_loss: 1.6987e-05\n",
      "Epoch 26/50\n",
      "537750/537750 [==============================] - 3s 6us/step - loss: 2.0475e-05 - val_loss: 1.7733e-05\n",
      "Epoch 27/50\n",
      "537750/537750 [==============================] - 4s 8us/step - loss: 2.0011e-05 - val_loss: 1.7622e-05\n",
      "Epoch 28/50\n",
      "537750/537750 [==============================] - 3s 6us/step - loss: 1.9574e-05 - val_loss: 1.7617e-05\n",
      "Epoch 29/50\n",
      "537750/537750 [==============================] - 4s 7us/step - loss: 1.9297e-05 - val_loss: 1.7735e-05\n",
      "Epoch 30/50\n",
      "537750/537750 [==============================] - 4s 8us/step - loss: 1.9006e-05 - val_loss: 1.7699e-05\n",
      "Epoch 31/50\n",
      "537750/537750 [==============================] - 4s 7us/step - loss: 1.8855e-05 - val_loss: 1.6897e-05\n",
      "Epoch 32/50\n",
      "537750/537750 [==============================] - 3s 6us/step - loss: 1.8724e-05 - val_loss: 1.6959e-05\n",
      "Epoch 33/50\n",
      "537750/537750 [==============================] - 4s 7us/step - loss: 1.8559e-05 - val_loss: 1.7227e-05\n",
      "Epoch 34/50\n",
      "537750/537750 [==============================] - 4s 7us/step - loss: 1.8411e-05 - val_loss: 1.7431e-05\n",
      "Epoch 35/50\n",
      "537750/537750 [==============================] - 4s 7us/step - loss: 1.8323e-05 - val_loss: 1.6871e-05\n",
      "Epoch 36/50\n",
      "537750/537750 [==============================] - 4s 7us/step - loss: 1.8194e-05 - val_loss: 1.6559e-05\n",
      "Epoch 37/50\n",
      "537750/537750 [==============================] - 3s 6us/step - loss: 1.8049e-05 - val_loss: 1.6955e-05\n",
      "Epoch 38/50\n",
      "537750/537750 [==============================] - 4s 7us/step - loss: 1.8008e-05 - val_loss: 1.7123e-05\n",
      "Epoch 39/50\n",
      "537750/537750 [==============================] - 4s 7us/step - loss: 1.7888e-05 - val_loss: 1.6292e-05\n",
      "Epoch 40/50\n",
      "537750/537750 [==============================] - 4s 7us/step - loss: 1.7737e-05 - val_loss: 1.6252e-05\n",
      "Epoch 41/50\n",
      "537750/537750 [==============================] - 4s 7us/step - loss: 1.7667e-05 - val_loss: 1.6301e-05\n",
      "Epoch 42/50\n",
      "537750/537750 [==============================] - 4s 7us/step - loss: 1.7537e-05 - val_loss: 1.7027e-05\n",
      "Epoch 43/50\n",
      "537750/537750 [==============================] - 4s 7us/step - loss: 1.7432e-05 - val_loss: 1.6635e-05\n",
      "Epoch 44/50\n",
      "537750/537750 [==============================] - 4s 7us/step - loss: 1.7350e-05 - val_loss: 1.5862e-05\n",
      "Epoch 45/50\n",
      "537750/537750 [==============================] - 4s 7us/step - loss: 1.7248e-05 - val_loss: 1.7027e-05\n",
      "Epoch 46/50\n",
      "537750/537750 [==============================] - 4s 7us/step - loss: 1.7151e-05 - val_loss: 1.6486e-05\n",
      "Epoch 47/50\n",
      "537750/537750 [==============================] - 4s 7us/step - loss: 1.7039e-05 - val_loss: 1.6076e-05\n",
      "Epoch 48/50\n",
      "537750/537750 [==============================] - 3s 6us/step - loss: 1.6939e-05 - val_loss: 1.6041e-05\n",
      "Epoch 49/50\n",
      "537750/537750 [==============================] - 4s 7us/step - loss: 1.6847e-05 - val_loss: 1.6195e-05\n",
      "Epoch 50/50\n",
      "537750/537750 [==============================] - 4s 7us/step - loss: 1.6775e-05 - val_loss: 1.6807e-05\n"
     ]
    }
   ],
   "source": [
    "# Train model for 100 epochs, batch size of 10: \n",
    "NUM_EPOCHS=50\n",
    "BATCH_SIZE=1028\n",
    "\n",
    "history=model.fit(X_train, X_train,\n",
    "                  batch_size=BATCH_SIZE, \n",
    "                  epochs=NUM_EPOCHS,\n",
    "                  validation_split=0.1,\n",
    "                  verbose = 1)"
   ]
  },
  {
   "cell_type": "code",
   "execution_count": 7,
   "metadata": {},
   "outputs": [],
   "source": [
    "#Train loss\n",
    "X_pred = model.predict(X_train)\n",
    "train_loss = np.mean(np.abs(X_pred-X_train), axis = 1)\n",
    "\n",
    "#Test loss\n",
    "X_pred_test = model.predict(X_test)\n",
    "test_loss = np.mean(np.abs(X_pred_test-X_test), axis = 1)"
   ]
  },
  {
   "cell_type": "markdown",
   "metadata": {},
   "source": [
    "## Trigger - 1"
   ]
  },
  {
   "cell_type": "code",
   "execution_count": 8,
   "metadata": {},
   "outputs": [
    {
     "data": {
      "text/plain": [
       "Text(0.5, 0, 'Time (s)')"
      ]
     },
     "execution_count": 8,
     "metadata": {},
     "output_type": "execute_result"
    },
    {
     "data": {
      "image/png": "[encoded data removed]",
      "text/plain": [
       "<Figure size 1440x144 with 1 Axes>"
      ]
     },
     "metadata": {
      "needs_background": "light"
     },
     "output_type": "display_data"
    }
   ],
   "source": [
    "plt.figure(figsize=(20,2))\n",
    "plt.plot(test_time, test_loss)\n",
    "#plt.ylim([0, 0.2])\n",
    "plt.xlabel(\"Time (s)\")"
   ]
  },
  {
   "cell_type": "code",
   "execution_count": 9,
   "metadata": {},
   "outputs": [],
   "source": [
    "sd_test_loss= (test_loss-np.mean(train_loss))/np.std(train_loss)"
   ]
  },
  {
   "cell_type": "code",
   "execution_count": 10,
   "metadata": {},
   "outputs": [
    {
     "data": {
      "text/plain": [
       "[<matplotlib.lines.Line2D at 0x7f3f70560e50>]"
      ]
     },
     "execution_count": 10,
     "metadata": {},
     "output_type": "execute_result"
    },
    {
     "data": {
      "image/png": "[encoded data removed]",
      "text/plain": [
       "<Figure size 432x288 with 1 Axes>"
      ]
     },
     "metadata": {
      "needs_background": "light"
     },
     "output_type": "display_data"
    }
   ],
   "source": [
    "plt.plot(test_time, sd_test_loss)"
   ]
  },
  {
   "cell_type": "code",
   "execution_count": 25,
   "metadata": {},
   "outputs": [],
   "source": [
    "def trigger(train_loss, test_loss, test_time):\n",
    "    \n",
    "    sd_test_loss = (test_loss-np.mean(train_loss))/np.std(train_loss)\n",
    "    \n",
    "    #Find the trigger time\n",
    "    trigger_time = test_time[np.argmax(sd_test_loss > 100)]\n",
    "    print(\"Triggered at: \", trigger_time)\n",
    "    \n",
    "    #Plot sds and trigger point. \n",
    "    plt.figure(figsize=(20,2))\n",
    "    plt.plot(test_time, sd_test_loss, color = \"firebrick\")\n",
    "    plt.xlabel(\"Time (s)\")\n",
    "    plt.ylabel(\"Pseudo-Mahalanobis distance.\")\n",
    "    plt.ylim([0, 50])\n",
    "    plt.title(\"Number of SDs away from the train distribution\")\n",
    "    \n",
    "    #Plot the trigger point\n",
    "    plt.vlines(trigger_time, sd_test_loss.min(), sd_test_loss.max(), color = \"blue\", linestyles = \"dashed\", label = \"Trigger time\")\n",
    "    plt.legend(loc = \"upper left\")"
   ]
  },
  {
   "cell_type": "code",
   "execution_count": 26,
   "metadata": {},
   "outputs": [
    {
     "name": "stdout",
     "output_type": "stream",
     "text": [
      "Triggered at:  -0.86759996\n"
     ]
    },
    {
     "data": {
      "image/png": "[encoded data removed]",
      "text/plain": [
       "<Figure size 1440x144 with 1 Axes>"
      ]
     },
     "metadata": {
      "needs_background": "light"
     },
     "output_type": "display_data"
    }
   ],
   "source": [
    "trigger(train_loss, test_loss, test_time)"
   ]
  },
  {
   "cell_type": "code",
   "execution_count": null,
   "metadata": {},
   "outputs": [],
   "source": []
  }
 ],
 "metadata": {
  "kernelspec": {
   "display_name": "Python 3",
   "language": "python",
   "name": "python3"
  },
  "language_info": {
   "codemirror_mode": {
    "name": "ipython",
    "version": 3
   },
   "file_extension": ".py",
   "mimetype": "text/x-python",
   "name": "python",
   "nbconvert_exporter": "python",
   "pygments_lexer": "ipython3",
   "version": "3.7.6"
  }
 },
 "nbformat": 4,
 "nbformat_minor": 4
}
