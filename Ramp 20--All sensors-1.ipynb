{
 "cells": [
  {
   "cell_type": "markdown",
   "metadata": {},
   "source": [
    "# Ramp 20 Variances + Means"
   ]
  },
  {
   "cell_type": "code",
   "execution_count": 1,
   "metadata": {},
   "outputs": [
    {
     "name": "stderr",
     "output_type": "stream",
     "text": [
      "\n",
      "Bad key \"text.kerning_factor\" on line 4 in\n",
      "/uscms_data/d3/dhoang/miniconda3/lib/python3.7/site-packages/matplotlib/mpl-data/stylelib/_classic_test_patch.mplstyle.\n",
      "You probably need to get an updated matplotlibrc file from\n",
      "https://github.com/matplotlib/matplotlib/blob/v3.1.3/matplotlibrc.template\n",
      "or from the matplotlib source distribution\n",
      "Using TensorFlow backend.\n"
     ]
    }
   ],
   "source": [
    "#Data processing\n",
    "import os\n",
    "import pandas as pd\n",
    "import numpy as np\n",
    "import matplotlib.pyplot as plt\n",
    "import seaborn as sns\n",
    "from nptdms import TdmsFile #Process ramping file\n",
    "\n",
    "#For building ML models\n",
    "import keras\n",
    "import keras.models as models\n",
    "from keras.layers.core import Dense\n",
    "from keras import regularizers"
   ]
  },
  {
   "cell_type": "code",
   "execution_count": 2,
   "metadata": {},
   "outputs": [],
   "source": [
    "def load_channel_and_time(dir_path, channel):\n",
    "    data_frame = pd.DataFrame(data = {channel: np.load(dir_path + channel + \".npy\"),\n",
    "                                     \"time\": np.load(dir_path + \"time.npy\")})\n",
    "    return data_frame\n",
    "    \n",
    "def generate_data_0(dir_path, channel, time_range, window = 1000, step = 10):\n",
    "    #Load the data\n",
    "    data = load_channel_and_time(dir_path, channel)\n",
    "    \n",
    "    #Select the part\n",
    "    start = time_range[0]\n",
    "    end = time_range[1]\n",
    "    data = data[(data[\"time\"] > start) & (data[\"time\"] < end)]\n",
    "    \n",
    "    #Calculate the statistics\n",
    "    #data[\"Mean\"] = data.loc[:, channel].abs().rolling(window=window).mean()\n",
    "    data[\"SD\"] = data.loc[:, channel].rolling(window=window).std()\n",
    "    #data[\"Kurtosis\"] = data.loc[:, channel].rolling(window=window).kurt()\n",
    "    #data[\"Skew\"] = data.loc[:, channel].rolling(window=window).skew()\n",
    "    \n",
    "    select_list = [\"SD\"]\n",
    "    \n",
    "    assert data[select_list].to_numpy()[window-1::step].shape[0] == data['time'].to_numpy()[window-1::step].shape[0]\n",
    "    \n",
    "    %reset -f in\n",
    "    \n",
    "    return data[select_list].to_numpy()[window-1::step], data['time'].to_numpy()[window-1::step]\n",
    "\n",
    "def generate_data_no_time(dir_path, channel, time_range, window = 1000, step = 10):\n",
    "    #Load the data\n",
    "    data = load_channel_and_time(dir_path, channel)\n",
    "    \n",
    "    #Select the part\n",
    "    start = time_range[0]\n",
    "    end = time_range[1]\n",
    "    data = data[(data[\"time\"] > start) & (data[\"time\"] < end)]\n",
    "    \n",
    "    #Calculate the statistics\n",
    "    #data[\"Mean\"] = data.loc[:, channel].abs().rolling(window=window).mean()\n",
    "    data[\"SD\"] = data.loc[:, channel].rolling(window=window).std()\n",
    "    #data[\"Kurtosis\"] = data.loc[:, channel].rolling(window=window).kurt()\n",
    "    #data[\"Skew\"] = data.loc[:, channel].rolling(window=window).skew()\n",
    "    \n",
    "    select_list = [\"SD\"]\n",
    "    \n",
    "    %reset -f in\n",
    "    \n",
    "    return data[select_list].to_numpy()[window-1::step]\n",
    "\n",
    "def generate_data_all_sensors(dir_path, time_range, window = 1000, step = 10):\n",
    "    \n",
    "    ai0, time = generate_data(dir_path, \"ai0\", time_range = time_range, window = window, step = step)\n",
    "    ai1 = generate_data_no_time(dir_path, \"ai1\", time_range = time_range, window = window, step = step)\n",
    "    ai2 = generate_data_no_time(dir_path, \"ai2\", time_range = time_range, window = window, step = step)\n",
    "    ai3 = generate_data_no_time(dir_path, \"ai3\", time_range = time_range, window = window, step = step)\n",
    "    ai4 = generate_data_no_time(dir_path, \"ai4\", time_range = time_range, window = window, step = step)\n",
    "    \n",
    "    #Multiply them all together\n",
    "    product_var = ai0*ai1*ai2*ai3*ai4\n",
    "    \n",
    "    \n",
    "    all_channels = np.concatenate((ai0,ai1,ai2,ai3,ai4,product_var), axis = 1)\n",
    "    \n",
    "    %reset -f in\n",
    "    \n",
    "    return all_channels, time\n",
    "\n",
    "def plot_moving_mean(dir_path, channel, time_range, window = 1000, step = 10):\n",
    "    #Load the data\n",
    "    data = load_channel_and_time(dir_path, channel)\n",
    "    \n",
    "    #Select the part\n",
    "    start = time_range[0]\n",
    "    end = time_range[1]\n",
    "    data = data[(data[\"time\"] > start) & (data[\"time\"] < end)]\n",
    "    \n",
    "    #Calculate the mean\n",
    "    data[\"Mean\"] = data.loc[:, channel].abs().rolling(window=window).mean()\n",
    "    \n",
    "    #Plot\n",
    "    plt.figure(figsize=(20,2))\n",
    "    plt.plot(data['time'].to_numpy()[window-1::step], data[\"Mean\"].to_numpy()[window-1::step], label = \"Mean of abs(data)\")\n",
    "    plt.legend(loc = \"upper right\")\n",
    "    plt.xlabel(\"Time (s)\")\n",
    "    plt.title(\"Sensor {}'s moving mean\".format(channel))\n",
    "    \n",
    "    %reset -f in\n",
    "    \n",
    "def load_sensor(dir_path, sensor, time_range = None):\n",
    "    \n",
    "    data = pd.DataFrame(data = {sensor: np.load(dir_path + sensor + \".npy\"),\n",
    "                                \"time\": np.load(dir_path + \"time.npy\")})\n",
    "    \n",
    "    start = min(data[\"time\"])\n",
    "    end = max(data[\"time\"])\n",
    "    \n",
    "    if time_range:\n",
    "        start = time_range[0]\n",
    "        end = time_range[1]\n",
    "    \n",
    "    \n",
    "    data = data[(data[\"time\"] > start) & (data[\"time\"] < end)]\n",
    "   \n",
    "    %reset -f in\n",
    "    \n",
    "    return data\n",
    "    \n",
    "def plot_product_mean(dir_path, time_range, window = 1000, step = 10):\n",
    "    #Load the data\n",
    "    ai0 = load_sensor(dir_path, \"ai0\", time_range = time_range)\n",
    "    ai1 = load_sensor(dir_path, \"ai1\", time_range = time_range)[\"ai1\"].abs().rolling(window=window).mean().to_numpy()[window-1::step]\n",
    "    ai2 = load_sensor(dir_path, \"ai2\", time_range = time_range)[\"ai2\"].abs().rolling(window=window).mean().to_numpy()[window-1::step]\n",
    "    ai3 = load_sensor(dir_path, \"ai3\", time_range = time_range)[\"ai3\"].abs().rolling(window=window).mean().to_numpy()[window-1::step]\n",
    "    ai4 = load_sensor(dir_path, \"ai4\", time_range = time_range)[\"ai4\"].abs().rolling(window=window).mean().to_numpy()[window-1::step]\n",
    "    \n",
    "    time_axis = ai0['time'].to_numpy()[window-1::step]\n",
    "    \n",
    "    ai0 = ai0[\"ai0\"].abs().rolling(window=window).mean().to_numpy()[window-1::step]\n",
    "    \n",
    "    product = ai0*ai1*ai2*ai3*ai4\n",
    "    \n",
    "    #Plot\n",
    "    plt.figure(figsize=(20,2))\n",
    "    plt.plot(time_axis, product)\n",
    "    plt.xlabel(\"Time (s)\")\n",
    "    plt.title(\"Product of moving means\")\n",
    "    \n",
    "def plot_SD(dir_path, channel, time_range, window = 2000, step = 10):\n",
    "    \n",
    "    #Load the data\n",
    "    data = load_channel_and_time(dir_path, channel)\n",
    "    \n",
    "    #Select the part\n",
    "    start = time_range[0]\n",
    "    end = time_range[1]\n",
    "    data = data[(data[\"time\"] > start) & (data[\"time\"] < end)]\n",
    "    \n",
    "    #Calculate the mean\n",
    "    data[\"SD\"] = data.loc[:, channel].abs().rolling(window=window).std()\n",
    "    \n",
    "    #Plot\n",
    "    plt.figure(figsize=(20,2))\n",
    "    plt.plot(data['time'].to_numpy()[window-1::step], data[\"SD\"].to_numpy()[window-1::step], label = \"Standard deviation\", color = \"red\")\n",
    "    plt.legend(loc = \"upper right\")\n",
    "    plt.xlabel(\"Time (s)\")\n",
    "    plt.title(\"Sensor {}'s moving standard deviation\".format(channel))\n",
    "    \n",
    "    %reset -f in\n",
    "\n",
    "\n",
    "def plot_product_SD(dir_path, time_range, window = 1000, step = 10):\n",
    "    #Load the data\n",
    "    ai0 = load_sensor(dir_path, \"ai0\", time_range = time_range)\n",
    "    ai1 = load_sensor(dir_path, \"ai1\", time_range = time_range)[\"ai1\"].rolling(window=window).std().to_numpy()[window-1::step]\n",
    "    ai2 = load_sensor(dir_path, \"ai2\", time_range = time_range)[\"ai2\"].rolling(window=window).std().to_numpy()[window-1::step]\n",
    "    ai3 = load_sensor(dir_path, \"ai3\", time_range = time_range)[\"ai3\"].rolling(window=window).std().to_numpy()[window-1::step]\n",
    "    ai4 = load_sensor(dir_path, \"ai4\", time_range = time_range)[\"ai4\"].rolling(window=window).std().to_numpy()[window-1::step]\n",
    "    \n",
    "    time_axis = ai0['time'].to_numpy()[window-1::step]\n",
    "    \n",
    "    ai0 = ai0[\"ai0\"].rolling(window=window).std().to_numpy()[window-1::step]\n",
    "    \n",
    "    product = ai0*ai1*ai2*ai3*ai4\n",
    "    \n",
    "    #Plot\n",
    "    plt.figure(figsize=(20,2))\n",
    "    plt.plot(time_axis, product, color = \"red\")\n",
    "    plt.xlabel(\"Time (s)\")\n",
    "    plt.title(\"Product of moving standard deviations\")\n",
    "    \n",
    "def generate_mean_data(dir_path, time_range, window = 2000, step = 10):\n",
    "    #Load the data\n",
    "    ai0 = load_sensor(dir_path, \"ai0\", time_range = time_range)[\"ai0\"].abs().rolling(window=window).mean().to_numpy()[window-1::step]\n",
    "    ai1 = load_sensor(dir_path, \"ai1\", time_range = time_range)[\"ai1\"].abs().rolling(window=window).mean().to_numpy()[window-1::step]\n",
    "    ai2 = load_sensor(dir_path, \"ai2\", time_range = time_range)[\"ai2\"].abs().rolling(window=window).mean().to_numpy()[window-1::step]\n",
    "    ai3 = load_sensor(dir_path, \"ai3\", time_range = time_range)[\"ai3\"].abs().rolling(window=window).mean().to_numpy()[window-1::step]\n",
    "    ai4 = load_sensor(dir_path, \"ai4\", time_range = time_range)[\"ai4\"].abs().rolling(window=window).mean().to_numpy()[window-1::step]\n",
    "    \n",
    "    #Calculate the product\n",
    "    product = ai0*ai1*ai2*ai3*ai4\n",
    "    \n",
    "    #Stack them together\n",
    "    all_mean = np.vstack((ai0,ai1,ai2,ai3,ai4, product)).transpose()\n",
    "    \n",
    "    %reset -f in\n",
    "    \n",
    "    return all_mean\n",
    "\n",
    "def generate_sd_data(dir_path, time_range, window = 2000, step = 10):\n",
    "    #Load the data\n",
    "    ai0 = load_sensor(dir_path, \"ai0\", time_range = time_range)[\"ai0\"].rolling(window=window).std().to_numpy()[window-1::step]\n",
    "    ai1 = load_sensor(dir_path, \"ai1\", time_range = time_range)[\"ai1\"].rolling(window=window).std().to_numpy()[window-1::step]\n",
    "    ai2 = load_sensor(dir_path, \"ai2\", time_range = time_range)[\"ai2\"].rolling(window=window).std().to_numpy()[window-1::step]\n",
    "    ai3 = load_sensor(dir_path, \"ai3\", time_range = time_range)[\"ai3\"].rolling(window=window).std().to_numpy()[window-1::step]\n",
    "    ai4 = load_sensor(dir_path, \"ai4\", time_range = time_range)[\"ai4\"].rolling(window=window).std().to_numpy()[window-1::step]\n",
    "    \n",
    "    #Calculate the product\n",
    "    product = ai0*ai1*ai2*ai3*ai4\n",
    "    \n",
    "    #Stack them together\n",
    "    all_sd = np.vstack((ai0,ai1,ai2,ai3,ai4, product)).transpose()\n",
    "    \n",
    "    %reset -f in\n",
    "    \n",
    "    return all_sd\n",
    "\n",
    "def load_time_label(dir_path, time_range, window = 2000, step = 10):\n",
    "    \n",
    "    time_label =  np.load(dir_path + \"time.npy\")\n",
    "    \n",
    "    start = min(time_label)\n",
    "    end = max(time_label)\n",
    "    \n",
    "    if time_range:\n",
    "        start = time_range[0]\n",
    "        end = time_range[1]\n",
    "    \n",
    "    \n",
    "    time_label = time_label[(time_label > start) & (time_label < end)][window-1::step]\n",
    "    \n",
    "    %reset -f in\n",
    "    \n",
    "    return time_label\n",
    "    \n",
    "\n",
    "def generate_data(dir_path, time_range, window = 2000, step = 10):\n",
    "    \n",
    "    moving_mean = generate_mean_data(dir_path, time_range, window = 2000, step = 10)\n",
    "    moving_sd = generate_sd_data(dir_path, time_range, window = 2000, step = 10)\n",
    "    time_label = load_time_label(dir_path, time_range, window = 2000, step = 10)\n",
    "    \n",
    "    all_data = np.concatenate((moving_mean, moving_sd), axis = 1)\n",
    "    \n",
    "    %reset -f in\n",
    "    \n",
    "    return all_data, time_label"
   ]
  },
  {
   "cell_type": "markdown",
   "metadata": {},
   "source": [
    "## 1. Try traditional method"
   ]
  },
  {
   "cell_type": "code",
   "execution_count": 3,
   "metadata": {
    "collapsed": true
   },
   "outputs": [
    {
     "name": "stdout",
     "output_type": "stream",
     "text": [
      "Flushing input history\n"
     ]
    },
    {
     "ename": "KeyboardInterrupt",
     "evalue": "",
     "output_type": "error",
     "traceback": [
      "\u001b[0;31m---------------------------------------------------------------------------\u001b[0m",
      "\u001b[0;31mKeyboardInterrupt\u001b[0m                         Traceback (most recent call last)",
      "\u001b[0;32m<ipython-input-3-20a9978d6344>\u001b[0m in \u001b[0;36m<module>\u001b[0;34m\u001b[0m\n\u001b[0;32m----> 1\u001b[0;31m \u001b[0mX_train\u001b[0m\u001b[0;34m,\u001b[0m \u001b[0mtrain_time\u001b[0m \u001b[0;34m=\u001b[0m \u001b[0mgenerate_data\u001b[0m\u001b[0;34m(\u001b[0m\u001b[0;34m\"./data/Ramp20/\"\u001b[0m\u001b[0;34m,\u001b[0m \u001b[0mtime_range\u001b[0m \u001b[0;34m=\u001b[0m \u001b[0;34m(\u001b[0m\u001b[0;34m-\u001b[0m\u001b[0;36m450\u001b[0m\u001b[0;34m,\u001b[0m \u001b[0;34m-\u001b[0m\u001b[0;36m350\u001b[0m\u001b[0;34m)\u001b[0m\u001b[0;34m,\u001b[0m \u001b[0mwindow\u001b[0m \u001b[0;34m=\u001b[0m \u001b[0;36m2000\u001b[0m\u001b[0;34m,\u001b[0m \u001b[0mstep\u001b[0m \u001b[0;34m=\u001b[0m \u001b[0;36m10\u001b[0m\u001b[0;34m)\u001b[0m\u001b[0;34m\u001b[0m\u001b[0;34m\u001b[0m\u001b[0m\n\u001b[0m\u001b[1;32m      2\u001b[0m \u001b[0mX_test\u001b[0m\u001b[0;34m,\u001b[0m \u001b[0mtest_time\u001b[0m \u001b[0;34m=\u001b[0m \u001b[0mgenerate_data\u001b[0m\u001b[0;34m(\u001b[0m\u001b[0;34m\"./data/Ramp20/\"\u001b[0m\u001b[0;34m,\u001b[0m \u001b[0mtime_range\u001b[0m \u001b[0;34m=\u001b[0m \u001b[0;34m(\u001b[0m\u001b[0;34m-\u001b[0m\u001b[0;36m50\u001b[0m\u001b[0;34m,\u001b[0m \u001b[0;36m0\u001b[0m\u001b[0;34m)\u001b[0m\u001b[0;34m,\u001b[0m \u001b[0mwindow\u001b[0m \u001b[0;34m=\u001b[0m \u001b[0;36m2000\u001b[0m\u001b[0;34m,\u001b[0m \u001b[0mstep\u001b[0m \u001b[0;34m=\u001b[0m \u001b[0;36m10\u001b[0m\u001b[0;34m)\u001b[0m\u001b[0;34m\u001b[0m\u001b[0;34m\u001b[0m\u001b[0m\n\u001b[1;32m      3\u001b[0m \u001b[0mprint\u001b[0m\u001b[0;34m(\u001b[0m\u001b[0;34m\"X_train's shape: \"\u001b[0m\u001b[0;34m,\u001b[0m \u001b[0mX_train\u001b[0m\u001b[0;34m.\u001b[0m\u001b[0mshape\u001b[0m\u001b[0;34m)\u001b[0m\u001b[0;34m\u001b[0m\u001b[0;34m\u001b[0m\u001b[0m\n\u001b[1;32m      4\u001b[0m \u001b[0mprint\u001b[0m\u001b[0;34m(\u001b[0m\u001b[0;34m\"X_test's shape: \"\u001b[0m\u001b[0;34m,\u001b[0m \u001b[0mX_test\u001b[0m\u001b[0;34m.\u001b[0m\u001b[0mshape\u001b[0m\u001b[0;34m)\u001b[0m\u001b[0;34m\u001b[0m\u001b[0;34m\u001b[0m\u001b[0m\n",
      "\u001b[0;32m<ipython-input-2-eaefb3f7a05b>\u001b[0m in \u001b[0;36mgenerate_data\u001b[0;34m(dir_path, time_range, window, step)\u001b[0m\n\u001b[1;32m    226\u001b[0m \u001b[0;32mdef\u001b[0m \u001b[0mgenerate_data\u001b[0m\u001b[0;34m(\u001b[0m\u001b[0mdir_path\u001b[0m\u001b[0;34m,\u001b[0m \u001b[0mtime_range\u001b[0m\u001b[0;34m,\u001b[0m \u001b[0mwindow\u001b[0m \u001b[0;34m=\u001b[0m \u001b[0;36m2000\u001b[0m\u001b[0;34m,\u001b[0m \u001b[0mstep\u001b[0m \u001b[0;34m=\u001b[0m \u001b[0;36m10\u001b[0m\u001b[0;34m)\u001b[0m\u001b[0;34m:\u001b[0m\u001b[0;34m\u001b[0m\u001b[0;34m\u001b[0m\u001b[0m\n\u001b[1;32m    227\u001b[0m \u001b[0;34m\u001b[0m\u001b[0m\n\u001b[0;32m--> 228\u001b[0;31m     \u001b[0mmoving_mean\u001b[0m \u001b[0;34m=\u001b[0m \u001b[0mgenerate_mean_data\u001b[0m\u001b[0;34m(\u001b[0m\u001b[0mdir_path\u001b[0m\u001b[0;34m,\u001b[0m \u001b[0mtime_range\u001b[0m\u001b[0;34m,\u001b[0m \u001b[0mwindow\u001b[0m \u001b[0;34m=\u001b[0m \u001b[0;36m2000\u001b[0m\u001b[0;34m,\u001b[0m \u001b[0mstep\u001b[0m \u001b[0;34m=\u001b[0m \u001b[0;36m10\u001b[0m\u001b[0;34m)\u001b[0m\u001b[0;34m\u001b[0m\u001b[0;34m\u001b[0m\u001b[0m\n\u001b[0m\u001b[1;32m    229\u001b[0m     \u001b[0mmoving_sd\u001b[0m \u001b[0;34m=\u001b[0m \u001b[0mgenerate_sd_data\u001b[0m\u001b[0;34m(\u001b[0m\u001b[0mdir_path\u001b[0m\u001b[0;34m,\u001b[0m \u001b[0mtime_range\u001b[0m\u001b[0;34m,\u001b[0m \u001b[0mwindow\u001b[0m \u001b[0;34m=\u001b[0m \u001b[0;36m2000\u001b[0m\u001b[0;34m,\u001b[0m \u001b[0mstep\u001b[0m \u001b[0;34m=\u001b[0m \u001b[0;36m10\u001b[0m\u001b[0;34m)\u001b[0m\u001b[0;34m\u001b[0m\u001b[0;34m\u001b[0m\u001b[0m\n\u001b[1;32m    230\u001b[0m     \u001b[0mtime_label\u001b[0m \u001b[0;34m=\u001b[0m \u001b[0mload_time_label\u001b[0m\u001b[0;34m(\u001b[0m\u001b[0mdir_path\u001b[0m\u001b[0;34m,\u001b[0m \u001b[0mtime_range\u001b[0m\u001b[0;34m,\u001b[0m \u001b[0mwindow\u001b[0m \u001b[0;34m=\u001b[0m \u001b[0;36m2000\u001b[0m\u001b[0;34m,\u001b[0m \u001b[0mstep\u001b[0m \u001b[0;34m=\u001b[0m \u001b[0;36m10\u001b[0m\u001b[0;34m)\u001b[0m\u001b[0;34m\u001b[0m\u001b[0;34m\u001b[0m\u001b[0m\n",
      "\u001b[0;32m<ipython-input-2-eaefb3f7a05b>\u001b[0m in \u001b[0;36mgenerate_mean_data\u001b[0;34m(dir_path, time_range, window, step)\u001b[0m\n\u001b[1;32m    172\u001b[0m     \u001b[0;31m#Load the data\u001b[0m\u001b[0;34m\u001b[0m\u001b[0;34m\u001b[0m\u001b[0;34m\u001b[0m\u001b[0m\n\u001b[1;32m    173\u001b[0m     \u001b[0mai0\u001b[0m \u001b[0;34m=\u001b[0m \u001b[0mload_sensor\u001b[0m\u001b[0;34m(\u001b[0m\u001b[0mdir_path\u001b[0m\u001b[0;34m,\u001b[0m \u001b[0;34m\"ai0\"\u001b[0m\u001b[0;34m,\u001b[0m \u001b[0mtime_range\u001b[0m \u001b[0;34m=\u001b[0m \u001b[0mtime_range\u001b[0m\u001b[0;34m)\u001b[0m\u001b[0;34m[\u001b[0m\u001b[0;34m\"ai0\"\u001b[0m\u001b[0;34m]\u001b[0m\u001b[0;34m.\u001b[0m\u001b[0mabs\u001b[0m\u001b[0;34m(\u001b[0m\u001b[0;34m)\u001b[0m\u001b[0;34m.\u001b[0m\u001b[0mrolling\u001b[0m\u001b[0;34m(\u001b[0m\u001b[0mwindow\u001b[0m\u001b[0;34m=\u001b[0m\u001b[0mwindow\u001b[0m\u001b[0;34m)\u001b[0m\u001b[0;34m.\u001b[0m\u001b[0mmean\u001b[0m\u001b[0;34m(\u001b[0m\u001b[0;34m)\u001b[0m\u001b[0;34m.\u001b[0m\u001b[0mto_numpy\u001b[0m\u001b[0;34m(\u001b[0m\u001b[0;34m)\u001b[0m\u001b[0;34m[\u001b[0m\u001b[0mwindow\u001b[0m\u001b[0;34m-\u001b[0m\u001b[0;36m1\u001b[0m\u001b[0;34m:\u001b[0m\u001b[0;34m:\u001b[0m\u001b[0mstep\u001b[0m\u001b[0;34m]\u001b[0m\u001b[0;34m\u001b[0m\u001b[0;34m\u001b[0m\u001b[0m\n\u001b[0;32m--> 174\u001b[0;31m     \u001b[0mai1\u001b[0m \u001b[0;34m=\u001b[0m \u001b[0mload_sensor\u001b[0m\u001b[0;34m(\u001b[0m\u001b[0mdir_path\u001b[0m\u001b[0;34m,\u001b[0m \u001b[0;34m\"ai1\"\u001b[0m\u001b[0;34m,\u001b[0m \u001b[0mtime_range\u001b[0m \u001b[0;34m=\u001b[0m \u001b[0mtime_range\u001b[0m\u001b[0;34m)\u001b[0m\u001b[0;34m[\u001b[0m\u001b[0;34m\"ai1\"\u001b[0m\u001b[0;34m]\u001b[0m\u001b[0;34m.\u001b[0m\u001b[0mabs\u001b[0m\u001b[0;34m(\u001b[0m\u001b[0;34m)\u001b[0m\u001b[0;34m.\u001b[0m\u001b[0mrolling\u001b[0m\u001b[0;34m(\u001b[0m\u001b[0mwindow\u001b[0m\u001b[0;34m=\u001b[0m\u001b[0mwindow\u001b[0m\u001b[0;34m)\u001b[0m\u001b[0;34m.\u001b[0m\u001b[0mmean\u001b[0m\u001b[0;34m(\u001b[0m\u001b[0;34m)\u001b[0m\u001b[0;34m.\u001b[0m\u001b[0mto_numpy\u001b[0m\u001b[0;34m(\u001b[0m\u001b[0;34m)\u001b[0m\u001b[0;34m[\u001b[0m\u001b[0mwindow\u001b[0m\u001b[0;34m-\u001b[0m\u001b[0;36m1\u001b[0m\u001b[0;34m:\u001b[0m\u001b[0;34m:\u001b[0m\u001b[0mstep\u001b[0m\u001b[0;34m]\u001b[0m\u001b[0;34m\u001b[0m\u001b[0;34m\u001b[0m\u001b[0m\n\u001b[0m\u001b[1;32m    175\u001b[0m     \u001b[0mai2\u001b[0m \u001b[0;34m=\u001b[0m \u001b[0mload_sensor\u001b[0m\u001b[0;34m(\u001b[0m\u001b[0mdir_path\u001b[0m\u001b[0;34m,\u001b[0m \u001b[0;34m\"ai2\"\u001b[0m\u001b[0;34m,\u001b[0m \u001b[0mtime_range\u001b[0m \u001b[0;34m=\u001b[0m \u001b[0mtime_range\u001b[0m\u001b[0;34m)\u001b[0m\u001b[0;34m[\u001b[0m\u001b[0;34m\"ai2\"\u001b[0m\u001b[0;34m]\u001b[0m\u001b[0;34m.\u001b[0m\u001b[0mabs\u001b[0m\u001b[0;34m(\u001b[0m\u001b[0;34m)\u001b[0m\u001b[0;34m.\u001b[0m\u001b[0mrolling\u001b[0m\u001b[0;34m(\u001b[0m\u001b[0mwindow\u001b[0m\u001b[0;34m=\u001b[0m\u001b[0mwindow\u001b[0m\u001b[0;34m)\u001b[0m\u001b[0;34m.\u001b[0m\u001b[0mmean\u001b[0m\u001b[0;34m(\u001b[0m\u001b[0;34m)\u001b[0m\u001b[0;34m.\u001b[0m\u001b[0mto_numpy\u001b[0m\u001b[0;34m(\u001b[0m\u001b[0;34m)\u001b[0m\u001b[0;34m[\u001b[0m\u001b[0mwindow\u001b[0m\u001b[0;34m-\u001b[0m\u001b[0;36m1\u001b[0m\u001b[0;34m:\u001b[0m\u001b[0;34m:\u001b[0m\u001b[0mstep\u001b[0m\u001b[0;34m]\u001b[0m\u001b[0;34m\u001b[0m\u001b[0;34m\u001b[0m\u001b[0m\n\u001b[1;32m    176\u001b[0m     \u001b[0mai3\u001b[0m \u001b[0;34m=\u001b[0m \u001b[0mload_sensor\u001b[0m\u001b[0;34m(\u001b[0m\u001b[0mdir_path\u001b[0m\u001b[0;34m,\u001b[0m \u001b[0;34m\"ai3\"\u001b[0m\u001b[0;34m,\u001b[0m \u001b[0mtime_range\u001b[0m \u001b[0;34m=\u001b[0m \u001b[0mtime_range\u001b[0m\u001b[0;34m)\u001b[0m\u001b[0;34m[\u001b[0m\u001b[0;34m\"ai3\"\u001b[0m\u001b[0;34m]\u001b[0m\u001b[0;34m.\u001b[0m\u001b[0mabs\u001b[0m\u001b[0;34m(\u001b[0m\u001b[0;34m)\u001b[0m\u001b[0;34m.\u001b[0m\u001b[0mrolling\u001b[0m\u001b[0;34m(\u001b[0m\u001b[0mwindow\u001b[0m\u001b[0;34m=\u001b[0m\u001b[0mwindow\u001b[0m\u001b[0;34m)\u001b[0m\u001b[0;34m.\u001b[0m\u001b[0mmean\u001b[0m\u001b[0;34m(\u001b[0m\u001b[0;34m)\u001b[0m\u001b[0;34m.\u001b[0m\u001b[0mto_numpy\u001b[0m\u001b[0;34m(\u001b[0m\u001b[0;34m)\u001b[0m\u001b[0;34m[\u001b[0m\u001b[0mwindow\u001b[0m\u001b[0;34m-\u001b[0m\u001b[0;36m1\u001b[0m\u001b[0;34m:\u001b[0m\u001b[0;34m:\u001b[0m\u001b[0mstep\u001b[0m\u001b[0;34m]\u001b[0m\u001b[0;34m\u001b[0m\u001b[0;34m\u001b[0m\u001b[0m\n",
      "\u001b[0;32m<ipython-input-2-eaefb3f7a05b>\u001b[0m in \u001b[0;36mload_sensor\u001b[0;34m(dir_path, sensor, time_range)\u001b[0m\n\u001b[1;32m     92\u001b[0m                                 \"time\": np.load(dir_path + \"time.npy\")})\n\u001b[1;32m     93\u001b[0m \u001b[0;34m\u001b[0m\u001b[0m\n\u001b[0;32m---> 94\u001b[0;31m     \u001b[0mstart\u001b[0m \u001b[0;34m=\u001b[0m \u001b[0mmin\u001b[0m\u001b[0;34m(\u001b[0m\u001b[0mdata\u001b[0m\u001b[0;34m[\u001b[0m\u001b[0;34m\"time\"\u001b[0m\u001b[0;34m]\u001b[0m\u001b[0;34m)\u001b[0m\u001b[0;34m\u001b[0m\u001b[0;34m\u001b[0m\u001b[0m\n\u001b[0m\u001b[1;32m     95\u001b[0m     \u001b[0mend\u001b[0m \u001b[0;34m=\u001b[0m \u001b[0mmax\u001b[0m\u001b[0;34m(\u001b[0m\u001b[0mdata\u001b[0m\u001b[0;34m[\u001b[0m\u001b[0;34m\"time\"\u001b[0m\u001b[0;34m]\u001b[0m\u001b[0;34m)\u001b[0m\u001b[0;34m\u001b[0m\u001b[0;34m\u001b[0m\u001b[0m\n\u001b[1;32m     96\u001b[0m \u001b[0;34m\u001b[0m\u001b[0m\n",
      "\u001b[0;31mKeyboardInterrupt\u001b[0m: "
     ]
    }
   ],
   "source": [
    "X_train, train_time = generate_data(\"./data/Ramp20/\", time_range = (-450, -350), window = 2000, step = 10)\n",
    "X_test, test_time = generate_data(\"./data/Ramp20/\", time_range = (-50, 0), window = 2000, step = 10)\n",
    "print(\"X_train's shape: \", X_train.shape)\n",
    "print(\"X_test's shape: \", X_test.shape)"
   ]
  },
  {
   "cell_type": "code",
   "execution_count": 8,
   "metadata": {},
   "outputs": [],
   "source": [
    "from sklearn.preprocessing import MinMaxScaler\n",
    "\n",
    "scaler = MinMaxScaler()\n",
    "\n",
    "scaler.fit(X_train)\n",
    "\n",
    "X_train = scaler.transform(X_train)\n",
    "\n",
    "X_test = scaler.transform(X_test)"
   ]
  },
  {
   "cell_type": "code",
   "execution_count": 9,
   "metadata": {
    "collapsed": true
   },
   "outputs": [
    {
     "name": "stdout",
     "output_type": "stream",
     "text": [
      "Using Keras version:  2.3.1\n",
      "Model: \"sequential_1\"\n",
      "_________________________________________________________________\n",
      "Layer (type)                 Output Shape              Param #   \n",
      "=================================================================\n",
      "dense_1 (Dense)              (None, 6)                 78        \n",
      "_________________________________________________________________\n",
      "dense_2 (Dense)              (None, 3)                 21        \n",
      "_________________________________________________________________\n",
      "dense_3 (Dense)              (None, 6)                 24        \n",
      "_________________________________________________________________\n",
      "dense_4 (Dense)              (None, 12)                84        \n",
      "=================================================================\n",
      "Total params: 207\n",
      "Trainable params: 207\n",
      "Non-trainable params: 0\n",
      "_________________________________________________________________\n"
     ]
    }
   ],
   "source": [
    "#================BUILD THE MODEL====================\n",
    "print(\"Using Keras version: \", keras.__version__)\n",
    "\n",
    "# Simple model\n",
    "model = models.Sequential()\n",
    "\n",
    "model.add(Dense(6, activation = 'elu', kernel_initializer='glorot_uniform',\n",
    "                kernel_regularizer=regularizers.l2(0.0),\n",
    "                input_dim=X_train.shape[1]))\n",
    "\n",
    "model.add(Dense(3,activation='elu',\n",
    "                kernel_initializer='glorot_uniform'))\n",
    "\n",
    "model.add(Dense(6,activation='elu',\n",
    "                kernel_initializer='glorot_uniform'))\n",
    "\n",
    "model.add(Dense(X_train.shape[1],\n",
    "                kernel_initializer='glorot_uniform'))\n",
    "\n",
    "model.compile(loss='mse',optimizer='adam')\n",
    "\n",
    "model.summary()"
   ]
  },
  {
   "cell_type": "code",
   "execution_count": 10,
   "metadata": {
    "collapsed": true
   },
   "outputs": [
    {
     "name": "stdout",
     "output_type": "stream",
     "text": [
      "Train on 400738 samples, validate on 44527 samples\n",
      "Epoch 1/50\n",
      "400738/400738 [==============================] - 3s 8us/step - loss: 6.8568e-04 - val_loss: 0.0020\n",
      "Epoch 2/50\n",
      "400738/400738 [==============================] - 1s 4us/step - loss: 1.5446e-04 - val_loss: 0.0015\n",
      "Epoch 3/50\n",
      "400738/400738 [==============================] - 2s 4us/step - loss: 1.0393e-04 - val_loss: 0.0013\n",
      "Epoch 4/50\n",
      "400738/400738 [==============================] - 2s 4us/step - loss: 7.4612e-05 - val_loss: 0.0012\n",
      "Epoch 5/50\n",
      "400738/400738 [==============================] - 2s 5us/step - loss: 6.5107e-05 - val_loss: 0.0013\n",
      "Epoch 6/50\n",
      "400738/400738 [==============================] - 2s 5us/step - loss: 6.2110e-05 - val_loss: 0.0013\n",
      "Epoch 7/50\n",
      "400738/400738 [==============================] - 2s 4us/step - loss: 6.0485e-05 - val_loss: 0.0013\n",
      "Epoch 8/50\n",
      "400738/400738 [==============================] - 2s 5us/step - loss: 5.9384e-05 - val_loss: 0.0013\n",
      "Epoch 9/50\n",
      "400738/400738 [==============================] - 2s 4us/step - loss: 5.8568e-05 - val_loss: 0.0013\n",
      "Epoch 10/50\n",
      "400738/400738 [==============================] - 2s 4us/step - loss: 5.7895e-05 - val_loss: 0.0013\n",
      "Epoch 11/50\n",
      "400738/400738 [==============================] - 2s 5us/step - loss: 5.7270e-05 - val_loss: 0.0012\n",
      "Epoch 12/50\n",
      "400738/400738 [==============================] - 2s 5us/step - loss: 5.6508e-05 - val_loss: 0.0012\n",
      "Epoch 13/50\n",
      "400738/400738 [==============================] - 2s 4us/step - loss: 5.5411e-05 - val_loss: 0.0012\n",
      "Epoch 14/50\n",
      "400738/400738 [==============================] - 2s 5us/step - loss: 5.3702e-05 - val_loss: 0.0012\n",
      "Epoch 15/50\n",
      "400738/400738 [==============================] - 2s 5us/step - loss: 5.1446e-05 - val_loss: 0.0013\n",
      "Epoch 16/50\n",
      "400738/400738 [==============================] - 2s 4us/step - loss: 4.9000e-05 - val_loss: 0.0013\n",
      "Epoch 17/50\n",
      "400738/400738 [==============================] - 2s 5us/step - loss: 4.6701e-05 - val_loss: 0.0013\n",
      "Epoch 18/50\n",
      "400738/400738 [==============================] - 2s 4us/step - loss: 4.4973e-05 - val_loss: 0.0013\n",
      "Epoch 19/50\n",
      "400738/400738 [==============================] - 2s 5us/step - loss: 4.3724e-05 - val_loss: 0.0014\n",
      "Epoch 20/50\n",
      "400738/400738 [==============================] - 2s 4us/step - loss: 4.2920e-05 - val_loss: 0.0014\n",
      "Epoch 21/50\n",
      "400738/400738 [==============================] - 1s 4us/step - loss: 4.2413e-05 - val_loss: 0.0014\n",
      "Epoch 22/50\n",
      "400738/400738 [==============================] - 2s 4us/step - loss: 4.2028e-05 - val_loss: 0.0015\n",
      "Epoch 23/50\n",
      "400738/400738 [==============================] - 2s 5us/step - loss: 4.1727e-05 - val_loss: 0.0014\n",
      "Epoch 24/50\n",
      "400738/400738 [==============================] - 2s 5us/step - loss: 4.1513e-05 - val_loss: 0.0016\n",
      "Epoch 25/50\n",
      "400738/400738 [==============================] - 2s 4us/step - loss: 4.1202e-05 - val_loss: 0.0016\n",
      "Epoch 26/50\n",
      "400738/400738 [==============================] - 2s 5us/step - loss: 4.0957e-05 - val_loss: 0.0017\n",
      "Epoch 27/50\n",
      "400738/400738 [==============================] - 2s 4us/step - loss: 4.0645e-05 - val_loss: 0.0019\n",
      "Epoch 28/50\n",
      "400738/400738 [==============================] - 2s 4us/step - loss: 4.0281e-05 - val_loss: 0.0019\n",
      "Epoch 29/50\n",
      "400738/400738 [==============================] - 2s 4us/step - loss: 3.9781e-05 - val_loss: 0.0023\n",
      "Epoch 30/50\n",
      "400738/400738 [==============================] - 2s 4us/step - loss: 3.9125e-05 - val_loss: 0.0028\n",
      "Epoch 31/50\n",
      "400738/400738 [==============================] - 2s 4us/step - loss: 3.7938e-05 - val_loss: 0.0035\n",
      "Epoch 32/50\n",
      "400738/400738 [==============================] - 2s 5us/step - loss: 3.6399e-05 - val_loss: 0.0046\n",
      "Epoch 33/50\n",
      "400738/400738 [==============================] - 2s 5us/step - loss: 3.5146e-05 - val_loss: 0.0051\n",
      "Epoch 34/50\n",
      "400738/400738 [==============================] - 2s 5us/step - loss: 3.4285e-05 - val_loss: 0.0055\n",
      "Epoch 35/50\n",
      "400738/400738 [==============================] - 2s 4us/step - loss: 3.3791e-05 - val_loss: 0.0057\n",
      "Epoch 36/50\n",
      "400738/400738 [==============================] - 2s 4us/step - loss: 3.3392e-05 - val_loss: 0.0060\n",
      "Epoch 37/50\n",
      "400738/400738 [==============================] - 2s 5us/step - loss: 3.3173e-05 - val_loss: 0.0064\n",
      "Epoch 38/50\n",
      "400738/400738 [==============================] - 2s 4us/step - loss: 3.2956e-05 - val_loss: 0.0065\n",
      "Epoch 39/50\n",
      "400738/400738 [==============================] - 2s 5us/step - loss: 3.2810e-05 - val_loss: 0.0071\n",
      "Epoch 40/50\n",
      "400738/400738 [==============================] - 2s 4us/step - loss: 3.2657e-05 - val_loss: 0.0073\n",
      "Epoch 41/50\n",
      "400738/400738 [==============================] - 2s 4us/step - loss: 3.2620e-05 - val_loss: 0.0075\n",
      "Epoch 42/50\n",
      "400738/400738 [==============================] - 2s 4us/step - loss: 3.2502e-05 - val_loss: 0.0076\n",
      "Epoch 43/50\n",
      "400738/400738 [==============================] - 1s 4us/step - loss: 3.2430e-05 - val_loss: 0.0076\n",
      "Epoch 44/50\n",
      "400738/400738 [==============================] - 2s 4us/step - loss: 3.2349e-05 - val_loss: 0.0081\n",
      "Epoch 45/50\n",
      "400738/400738 [==============================] - 2s 4us/step - loss: 3.2311e-05 - val_loss: 0.0081\n",
      "Epoch 46/50\n",
      "400738/400738 [==============================] - 2s 5us/step - loss: 3.2271e-05 - val_loss: 0.0080\n",
      "Epoch 47/50\n",
      "400738/400738 [==============================] - 2s 5us/step - loss: 3.2254e-05 - val_loss: 0.0081\n",
      "Epoch 48/50\n",
      "400738/400738 [==============================] - 2s 4us/step - loss: 3.2196e-05 - val_loss: 0.0082\n",
      "Epoch 49/50\n",
      "400738/400738 [==============================] - 2s 5us/step - loss: 3.2128e-05 - val_loss: 0.0082\n",
      "Epoch 50/50\n",
      "400738/400738 [==============================] - 2s 6us/step - loss: 3.2130e-05 - val_loss: 0.0083\n"
     ]
    }
   ],
   "source": [
    "# Train model for 100 epochs, batch size of 10: \n",
    "NUM_EPOCHS=50\n",
    "BATCH_SIZE=1028\n",
    "\n",
    "history=model.fit(X_train, X_train,\n",
    "                  batch_size=BATCH_SIZE, \n",
    "                  epochs=NUM_EPOCHS,\n",
    "                  validation_split=0.1,\n",
    "                  verbose = 1)"
   ]
  },
  {
   "cell_type": "code",
   "execution_count": 11,
   "metadata": {},
   "outputs": [],
   "source": [
    "X_pred = model.predict(X_train)\n",
    "scored = pd.DataFrame()\n",
    "scored['Loss_mse'] = np.mean(np.abs(X_pred-X_train), axis = 1)"
   ]
  },
  {
   "cell_type": "code",
   "execution_count": 12,
   "metadata": {},
   "outputs": [],
   "source": [
    "X_pred_test = model.predict(X_test)\n",
    "scored_test = pd.DataFrame()\n",
    "scored_test['Loss_mse'] = np.mean(np.abs(X_pred_test-X_test), axis = 1)"
   ]
  },
  {
   "cell_type": "code",
   "execution_count": 20,
   "metadata": {
    "collapsed": true
   },
   "outputs": [
    {
     "data": {
      "text/plain": [
       "Text(0.5, 0, 'Time (s)')"
      ]
     },
     "execution_count": 20,
     "metadata": {},
     "output_type": "execute_result"
    },
    {
     "data": {
      "image/png": "[encoded data removed]",
      "text/plain": [
       "<Figure size 1440x144 with 1 Axes>"
      ]
     },
     "metadata": {
      "needs_background": "light"
     },
     "output_type": "display_data"
    }
   ],
   "source": [
    "plt.figure(figsize=(20,2))\n",
    "plt.plot(train_time, scored['Loss_mse'])\n",
    "plt.ylim([0, 30000])\n",
    "plt.xlabel(\"Time (s)\")"
   ]
  },
  {
   "cell_type": "code",
   "execution_count": 19,
   "metadata": {
    "collapsed": true
   },
   "outputs": [
    {
     "data": {
      "text/plain": [
       "Text(0.5, 0, 'Time (s)')"
      ]
     },
     "execution_count": 19,
     "metadata": {},
     "output_type": "execute_result"
    },
    {
     "data": {
      "image/png": "[encoded data removed]",
      "text/plain": [
       "<Figure size 1440x144 with 1 Axes>"
      ]
     },
     "metadata": {
      "needs_background": "light"
     },
     "output_type": "display_data"
    }
   ],
   "source": [
    "plt.figure(figsize=(20,2))\n",
    "plt.plot(test_time, scored_test['Loss_mse'])\n",
    "plt.ylim([0, 30000])\n",
    "#plt.xlim([-1,0])\n",
    "plt.xlabel(\"Time (s)\")"
   ]
  },
  {
   "cell_type": "markdown",
   "metadata": {},
   "source": [
    "### 1.2 Try another testing range (-200, -50)"
   ]
  },
  {
   "cell_type": "code",
   "execution_count": 3,
   "metadata": {
    "collapsed": true
   },
   "outputs": [
    {
     "name": "stdout",
     "output_type": "stream",
     "text": [
      "Flushing input history\n",
      "Flushing input history\n",
      "Flushing input history\n",
      "Flushing input history\n",
      "Flushing input history\n",
      "Flushing input history\n",
      "Flushing input history\n",
      "Flushing input history\n",
      "Flushing input history\n",
      "Flushing input history\n",
      "Flushing input history\n",
      "Flushing input history\n",
      "Flushing input history\n",
      "Flushing input history\n",
      "Flushing input history\n",
      "Flushing input history\n",
      "Flushing input history\n",
      "Flushing input history\n",
      "Flushing input history\n",
      "Flushing input history\n",
      "Flushing input history\n",
      "Flushing input history\n",
      "Flushing input history\n",
      "Flushing input history\n",
      "Flushing input history\n",
      "Flushing input history\n",
      "Flushing input history\n",
      "Flushing input history\n",
      "X_train's shape:  (445265, 12)\n",
      "X_test's shape:  (1499800, 12)\n"
     ]
    }
   ],
   "source": [
    "X_train, train_time = generate_data(\"./data/Ramp20/\", time_range = (-450, -350), window = 2000, step = 10)\n",
    "X_test, test_time = generate_data(\"./data/Ramp20/\", time_range = (-200, -50), window = 2000, step = 10)\n",
    "print(\"X_train's shape: \", X_train.shape)\n",
    "print(\"X_test's shape: \", X_test.shape)"
   ]
  },
  {
   "cell_type": "code",
   "execution_count": 4,
   "metadata": {},
   "outputs": [],
   "source": [
    "from sklearn.preprocessing import MinMaxScaler\n",
    "\n",
    "scaler = MinMaxScaler()\n",
    "\n",
    "scaler.fit(X_train)\n",
    "\n",
    "X_train = scaler.transform(X_train)\n",
    "\n",
    "X_test = scaler.transform(X_test)"
   ]
  },
  {
   "cell_type": "code",
   "execution_count": 5,
   "metadata": {
    "collapsed": true
   },
   "outputs": [
    {
     "name": "stdout",
     "output_type": "stream",
     "text": [
      "Using Keras version:  2.3.1\n",
      "Model: \"sequential_1\"\n",
      "_________________________________________________________________\n",
      "Layer (type)                 Output Shape              Param #   \n",
      "=================================================================\n",
      "dense_1 (Dense)              (None, 6)                 78        \n",
      "_________________________________________________________________\n",
      "dense_2 (Dense)              (None, 3)                 21        \n",
      "_________________________________________________________________\n",
      "dense_3 (Dense)              (None, 6)                 24        \n",
      "_________________________________________________________________\n",
      "dense_4 (Dense)              (None, 12)                84        \n",
      "=================================================================\n",
      "Total params: 207\n",
      "Trainable params: 207\n",
      "Non-trainable params: 0\n",
      "_________________________________________________________________\n"
     ]
    }
   ],
   "source": [
    "#================BUILD THE MODEL====================\n",
    "print(\"Using Keras version: \", keras.__version__)\n",
    "\n",
    "# Simple model\n",
    "model = models.Sequential()\n",
    "\n",
    "model.add(Dense(6, activation = 'elu', kernel_initializer='glorot_uniform',\n",
    "                kernel_regularizer=regularizers.l2(0.0),\n",
    "                input_dim=X_train.shape[1]))\n",
    "\n",
    "model.add(Dense(3,activation='elu',\n",
    "                kernel_initializer='glorot_uniform'))\n",
    "\n",
    "model.add(Dense(6,activation='elu',\n",
    "                kernel_initializer='glorot_uniform'))\n",
    "\n",
    "model.add(Dense(X_train.shape[1],\n",
    "                kernel_initializer='glorot_uniform'))\n",
    "\n",
    "model.compile(loss='mse',optimizer='adam')\n",
    "\n",
    "model.summary()"
   ]
  },
  {
   "cell_type": "code",
   "execution_count": 6,
   "metadata": {
    "collapsed": true
   },
   "outputs": [
    {
     "name": "stdout",
     "output_type": "stream",
     "text": [
      "Train on 400738 samples, validate on 44527 samples\n",
      "Epoch 1/50\n",
      "400738/400738 [==============================] - 2s 6us/step - loss: 7.7620e-04 - val_loss: 0.0020\n",
      "Epoch 2/50\n",
      "400738/400738 [==============================] - 2s 4us/step - loss: 1.3462e-04 - val_loss: 0.0017\n",
      "Epoch 3/50\n",
      "400738/400738 [==============================] - 2s 4us/step - loss: 8.0010e-05 - val_loss: 0.0016\n",
      "Epoch 4/50\n",
      "400738/400738 [==============================] - 1s 3us/step - loss: 6.9037e-05 - val_loss: 0.0016\n",
      "Epoch 5/50\n",
      "400738/400738 [==============================] - 1s 3us/step - loss: 6.5867e-05 - val_loss: 0.0017\n",
      "Epoch 6/50\n",
      "400738/400738 [==============================] - 2s 4us/step - loss: 6.3932e-05 - val_loss: 0.0017\n",
      "Epoch 7/50\n",
      "400738/400738 [==============================] - 2s 4us/step - loss: 6.2516e-05 - val_loss: 0.0018\n",
      "Epoch 8/50\n",
      "400738/400738 [==============================] - 2s 4us/step - loss: 6.1389e-05 - val_loss: 0.0017\n",
      "Epoch 9/50\n",
      "400738/400738 [==============================] - 2s 4us/step - loss: 6.0494e-05 - val_loss: 0.0018\n",
      "Epoch 10/50\n",
      "400738/400738 [==============================] - 2s 4us/step - loss: 5.9673e-05 - val_loss: 0.0017\n",
      "Epoch 11/50\n",
      "400738/400738 [==============================] - 2s 4us/step - loss: 5.8952e-05 - val_loss: 0.0017\n",
      "Epoch 12/50\n",
      "400738/400738 [==============================] - 2s 4us/step - loss: 5.8246e-05 - val_loss: 0.0016\n",
      "Epoch 13/50\n",
      "400738/400738 [==============================] - 2s 4us/step - loss: 5.7541e-05 - val_loss: 0.0016\n",
      "Epoch 14/50\n",
      "400738/400738 [==============================] - 2s 5us/step - loss: 5.6709e-05 - val_loss: 0.0016\n",
      "Epoch 15/50\n",
      "400738/400738 [==============================] - 2s 5us/step - loss: 5.5642e-05 - val_loss: 0.0015\n",
      "Epoch 16/50\n",
      "400738/400738 [==============================] - 2s 5us/step - loss: 5.4044e-05 - val_loss: 0.0015\n",
      "Epoch 17/50\n",
      "400738/400738 [==============================] - 2s 5us/step - loss: 5.1198e-05 - val_loss: 0.0014\n",
      "Epoch 18/50\n",
      "400738/400738 [==============================] - 2s 5us/step - loss: 4.8346e-05 - val_loss: 0.0014\n",
      "Epoch 19/50\n",
      "400738/400738 [==============================] - 2s 4us/step - loss: 4.6654e-05 - val_loss: 0.0014\n",
      "Epoch 20/50\n",
      "400738/400738 [==============================] - 2s 4us/step - loss: 4.5611e-05 - val_loss: 0.0014\n",
      "Epoch 21/50\n",
      "400738/400738 [==============================] - 2s 5us/step - loss: 4.4859e-05 - val_loss: 0.0014\n",
      "Epoch 22/50\n",
      "400738/400738 [==============================] - 2s 5us/step - loss: 4.4285e-05 - val_loss: 0.0014\n",
      "Epoch 23/50\n",
      "400738/400738 [==============================] - 2s 4us/step - loss: 4.3774e-05 - val_loss: 0.0014\n",
      "Epoch 24/50\n",
      "400738/400738 [==============================] - 2s 5us/step - loss: 4.3363e-05 - val_loss: 0.0014\n",
      "Epoch 25/50\n",
      "400738/400738 [==============================] - 2s 5us/step - loss: 4.3050e-05 - val_loss: 0.0014\n",
      "Epoch 26/50\n",
      "400738/400738 [==============================] - 2s 5us/step - loss: 4.2742e-05 - val_loss: 0.0014\n",
      "Epoch 27/50\n",
      "400738/400738 [==============================] - 2s 6us/step - loss: 4.2527e-05 - val_loss: 0.0014\n",
      "Epoch 28/50\n",
      "400738/400738 [==============================] - 2s 5us/step - loss: 4.2355e-05 - val_loss: 0.0013\n",
      "Epoch 29/50\n",
      "400738/400738 [==============================] - 2s 5us/step - loss: 4.2205e-05 - val_loss: 0.0013\n",
      "Epoch 30/50\n",
      "400738/400738 [==============================] - 2s 5us/step - loss: 4.2122e-05 - val_loss: 0.0013\n",
      "Epoch 31/50\n",
      "400738/400738 [==============================] - 2s 5us/step - loss: 4.2023e-05 - val_loss: 0.0013\n",
      "Epoch 32/50\n",
      "400738/400738 [==============================] - 2s 4us/step - loss: 4.1862e-05 - val_loss: 0.0012\n",
      "Epoch 33/50\n",
      "400738/400738 [==============================] - 2s 5us/step - loss: 4.1759e-05 - val_loss: 0.0012\n",
      "Epoch 34/50\n",
      "400738/400738 [==============================] - 2s 5us/step - loss: 4.1696e-05 - val_loss: 0.0012\n",
      "Epoch 35/50\n",
      "400738/400738 [==============================] - 2s 5us/step - loss: 4.1615e-05 - val_loss: 0.0012\n",
      "Epoch 36/50\n",
      "400738/400738 [==============================] - 2s 5us/step - loss: 4.1534e-05 - val_loss: 0.0012\n",
      "Epoch 37/50\n",
      "400738/400738 [==============================] - 2s 4us/step - loss: 4.1438e-05 - val_loss: 0.0012\n",
      "Epoch 38/50\n",
      "400738/400738 [==============================] - 2s 4us/step - loss: 4.1361e-05 - val_loss: 0.0012\n",
      "Epoch 39/50\n",
      "400738/400738 [==============================] - 2s 5us/step - loss: 4.1279e-05 - val_loss: 0.0012\n",
      "Epoch 40/50\n",
      "400738/400738 [==============================] - 2s 5us/step - loss: 4.1256e-05 - val_loss: 0.0012\n",
      "Epoch 41/50\n",
      "400738/400738 [==============================] - 2s 4us/step - loss: 4.1157e-05 - val_loss: 0.0012\n",
      "Epoch 42/50\n",
      "400738/400738 [==============================] - 2s 4us/step - loss: 4.1083e-05 - val_loss: 0.0012\n",
      "Epoch 43/50\n",
      "400738/400738 [==============================] - 2s 4us/step - loss: 4.1016e-05 - val_loss: 0.0012\n",
      "Epoch 44/50\n",
      "400738/400738 [==============================] - 2s 5us/step - loss: 4.0950e-05 - val_loss: 0.0012\n",
      "Epoch 45/50\n",
      "400738/400738 [==============================] - 2s 4us/step - loss: 4.0890e-05 - val_loss: 0.0012\n",
      "Epoch 46/50\n",
      "400738/400738 [==============================] - 2s 4us/step - loss: 4.0819e-05 - val_loss: 0.0012\n",
      "Epoch 47/50\n",
      "400738/400738 [==============================] - 2s 5us/step - loss: 4.0776e-05 - val_loss: 0.0012\n",
      "Epoch 48/50\n",
      "400738/400738 [==============================] - 2s 5us/step - loss: 4.0699e-05 - val_loss: 0.0012\n",
      "Epoch 49/50\n",
      "400738/400738 [==============================] - 2s 5us/step - loss: 4.0694e-05 - val_loss: 0.0012\n",
      "Epoch 50/50\n",
      "400738/400738 [==============================] - 2s 4us/step - loss: 4.0562e-05 - val_loss: 0.0012\n"
     ]
    }
   ],
   "source": [
    "# Train model for 100 epochs, batch size of 10: \n",
    "NUM_EPOCHS=50\n",
    "BATCH_SIZE=1028\n",
    "\n",
    "history=model.fit(X_train, X_train,\n",
    "                  batch_size=BATCH_SIZE, \n",
    "                  epochs=NUM_EPOCHS,\n",
    "                  validation_split=0.1,\n",
    "                  verbose = 1)"
   ]
  },
  {
   "cell_type": "code",
   "execution_count": 7,
   "metadata": {},
   "outputs": [],
   "source": [
    "X_pred = model.predict(X_train)\n",
    "scored = pd.DataFrame()\n",
    "scored['Loss_mse'] = np.mean(np.abs(X_pred-X_train), axis = 1)"
   ]
  },
  {
   "cell_type": "code",
   "execution_count": 8,
   "metadata": {},
   "outputs": [],
   "source": [
    "X_pred_test = model.predict(X_test)\n",
    "scored_test = pd.DataFrame()\n",
    "scored_test['Loss_mse'] = np.mean(np.abs(X_pred_test-X_test), axis = 1)"
   ]
  },
  {
   "cell_type": "code",
   "execution_count": 11,
   "metadata": {
    "collapsed": true
   },
   "outputs": [
    {
     "data": {
      "text/plain": [
       "Text(0.5, 0, 'Time (s)')"
      ]
     },
     "execution_count": 11,
     "metadata": {},
     "output_type": "execute_result"
    },
    {
     "data": {
      "image/png": "[encoded data removed]",
      "text/plain": [
       "<Figure size 1440x144 with 1 Axes>"
      ]
     },
     "metadata": {
      "needs_background": "light"
     },
     "output_type": "display_data"
    }
   ],
   "source": [
    "plt.figure(figsize=(20,2))\n",
    "plt.plot(train_time, scored['Loss_mse'])\n",
    "plt.ylim([0, 30000])\n",
    "plt.xlabel(\"Time (s)\")"
   ]
  },
  {
   "cell_type": "code",
   "execution_count": 12,
   "metadata": {
    "collapsed": true
   },
   "outputs": [
    {
     "data": {
      "text/plain": [
       "Text(0.5, 0, 'Time (s)')"
      ]
     },
     "execution_count": 12,
     "metadata": {},
     "output_type": "execute_result"
    },
    {
     "data": {
      "image/png": "[encoded data removed]",
      "text/plain": [
       "<Figure size 1440x144 with 1 Axes>"
      ]
     },
     "metadata": {
      "needs_background": "light"
     },
     "output_type": "display_data"
    }
   ],
   "source": [
    "plt.figure(figsize=(20,2))\n",
    "plt.plot(test_time, scored_test['Loss_mse'])\n",
    "plt.ylim([0, 30000])\n",
    "#plt.xlim([-1,0])\n",
    "plt.xlabel(\"Time (s)\")"
   ]
  },
  {
   "cell_type": "markdown",
   "metadata": {},
   "source": [
    "### 1.3 Testing range (-350, -200)"
   ]
  },
  {
   "cell_type": "code",
   "execution_count": 3,
   "metadata": {
    "collapsed": true
   },
   "outputs": [
    {
     "name": "stdout",
     "output_type": "stream",
     "text": [
      "Flushing input history\n",
      "Flushing input history\n",
      "Flushing input history\n",
      "Flushing input history\n",
      "Flushing input history\n",
      "Flushing input history\n",
      "Flushing input history\n",
      "Flushing input history\n",
      "Flushing input history\n",
      "Flushing input history\n",
      "Flushing input history\n",
      "Flushing input history\n",
      "Flushing input history\n",
      "Flushing input history\n",
      "Flushing input history\n",
      "Flushing input history\n",
      "Flushing input history\n",
      "Flushing input history\n",
      "Flushing input history\n",
      "Flushing input history\n",
      "Flushing input history\n",
      "Flushing input history\n",
      "Flushing input history\n",
      "Flushing input history\n",
      "Flushing input history\n",
      "Flushing input history\n",
      "Flushing input history\n",
      "Flushing input history\n",
      "X_train's shape:  (445265, 12)\n",
      "X_test's shape:  (1499800, 12)\n"
     ]
    }
   ],
   "source": [
    "X_train, train_time = generate_data(\"./data/Ramp20/\", time_range = (-450, -350), window = 2000, step = 10)\n",
    "X_test, test_time = generate_data(\"./data/Ramp20/\", time_range = (-350, -200), window = 2000, step = 10)\n",
    "print(\"X_train's shape: \", X_train.shape)\n",
    "print(\"X_test's shape: \", X_test.shape)"
   ]
  },
  {
   "cell_type": "code",
   "execution_count": 4,
   "metadata": {},
   "outputs": [],
   "source": [
    "from sklearn.preprocessing import MinMaxScaler\n",
    "\n",
    "scaler = MinMaxScaler()\n",
    "\n",
    "scaler.fit(X_train)\n",
    "\n",
    "X_train = scaler.transform(X_train)\n",
    "\n",
    "X_test = scaler.transform(X_test)"
   ]
  },
  {
   "cell_type": "code",
   "execution_count": 5,
   "metadata": {
    "collapsed": true
   },
   "outputs": [
    {
     "name": "stdout",
     "output_type": "stream",
     "text": [
      "Using Keras version:  2.3.1\n",
      "Model: \"sequential_1\"\n",
      "_________________________________________________________________\n",
      "Layer (type)                 Output Shape              Param #   \n",
      "=================================================================\n",
      "dense_1 (Dense)              (None, 6)                 78        \n",
      "_________________________________________________________________\n",
      "dense_2 (Dense)              (None, 3)                 21        \n",
      "_________________________________________________________________\n",
      "dense_3 (Dense)              (None, 6)                 24        \n",
      "_________________________________________________________________\n",
      "dense_4 (Dense)              (None, 12)                84        \n",
      "=================================================================\n",
      "Total params: 207\n",
      "Trainable params: 207\n",
      "Non-trainable params: 0\n",
      "_________________________________________________________________\n"
     ]
    }
   ],
   "source": [
    "#================BUILD THE MODEL====================\n",
    "print(\"Using Keras version: \", keras.__version__)\n",
    "\n",
    "# Simple model\n",
    "model = models.Sequential()\n",
    "\n",
    "model.add(Dense(6, activation = 'elu', kernel_initializer='glorot_uniform',\n",
    "                kernel_regularizer=regularizers.l2(0.0),\n",
    "                input_dim=X_train.shape[1]))\n",
    "\n",
    "model.add(Dense(3,activation='elu',\n",
    "                kernel_initializer='glorot_uniform'))\n",
    "\n",
    "model.add(Dense(6,activation='elu',\n",
    "                kernel_initializer='glorot_uniform'))\n",
    "\n",
    "model.add(Dense(X_train.shape[1],\n",
    "                kernel_initializer='glorot_uniform'))\n",
    "\n",
    "model.compile(loss='mse',optimizer='adam')\n",
    "\n",
    "model.summary()"
   ]
  },
  {
   "cell_type": "code",
   "execution_count": 6,
   "metadata": {
    "collapsed": true
   },
   "outputs": [
    {
     "name": "stdout",
     "output_type": "stream",
     "text": [
      "Train on 400738 samples, validate on 44527 samples\n",
      "Epoch 1/50\n",
      "400738/400738 [==============================] - 3s 7us/step - loss: 6.9400e-04 - val_loss: 0.0020\n",
      "Epoch 2/50\n",
      "400738/400738 [==============================] - 2s 5us/step - loss: 1.4554e-04 - val_loss: 0.0018\n",
      "Epoch 3/50\n",
      "400738/400738 [==============================] - 2s 5us/step - loss: 1.2605e-04 - val_loss: 0.0018\n",
      "Epoch 4/50\n",
      "400738/400738 [==============================] - 2s 6us/step - loss: 1.0623e-04 - val_loss: 0.0019\n",
      "Epoch 5/50\n",
      "400738/400738 [==============================] - 2s 5us/step - loss: 8.4887e-05 - val_loss: 0.0018\n",
      "Epoch 6/50\n",
      "400738/400738 [==============================] - 2s 5us/step - loss: 6.9606e-05 - val_loss: 0.0017\n",
      "Epoch 7/50\n",
      "400738/400738 [==============================] - 2s 5us/step - loss: 6.2451e-05 - val_loss: 0.0015\n",
      "Epoch 8/50\n",
      "400738/400738 [==============================] - 2s 4us/step - loss: 6.0286e-05 - val_loss: 0.0014\n",
      "Epoch 9/50\n",
      "400738/400738 [==============================] - 2s 5us/step - loss: 5.9546e-05 - val_loss: 0.0013\n",
      "Epoch 10/50\n",
      "400738/400738 [==============================] - 2s 5us/step - loss: 5.9047e-05 - val_loss: 0.0013\n",
      "Epoch 11/50\n",
      "400738/400738 [==============================] - 2s 5us/step - loss: 5.8520e-05 - val_loss: 0.0013\n",
      "Epoch 12/50\n",
      "400738/400738 [==============================] - 2s 6us/step - loss: 5.7993e-05 - val_loss: 0.0013\n",
      "Epoch 13/50\n",
      "400738/400738 [==============================] - 2s 5us/step - loss: 5.7301e-05 - val_loss: 0.0012\n",
      "Epoch 14/50\n",
      "400738/400738 [==============================] - 2s 5us/step - loss: 5.6445e-05 - val_loss: 0.0012\n",
      "Epoch 15/50\n",
      "400738/400738 [==============================] - 2s 5us/step - loss: 5.5129e-05 - val_loss: 0.0011\n",
      "Epoch 16/50\n",
      "400738/400738 [==============================] - 2s 4us/step - loss: 5.3059e-05 - val_loss: 0.0011\n",
      "Epoch 17/50\n",
      "400738/400738 [==============================] - 2s 5us/step - loss: 5.0224e-05 - val_loss: 0.0012\n",
      "Epoch 18/50\n",
      "400738/400738 [==============================] - 2s 5us/step - loss: 4.8247e-05 - val_loss: 0.0013\n",
      "Epoch 19/50\n",
      "400738/400738 [==============================] - 2s 5us/step - loss: 4.7251e-05 - val_loss: 0.0014\n",
      "Epoch 20/50\n",
      "400738/400738 [==============================] - 2s 5us/step - loss: 4.6603e-05 - val_loss: 0.0014\n",
      "Epoch 21/50\n",
      "400738/400738 [==============================] - 2s 5us/step - loss: 4.6143e-05 - val_loss: 0.0014\n",
      "Epoch 22/50\n",
      "400738/400738 [==============================] - 2s 5us/step - loss: 4.5808e-05 - val_loss: 0.0014\n",
      "Epoch 23/50\n",
      "400738/400738 [==============================] - 2s 6us/step - loss: 4.5414e-05 - val_loss: 0.0014\n",
      "Epoch 24/50\n",
      "400738/400738 [==============================] - 2s 5us/step - loss: 4.5090e-05 - val_loss: 0.0014\n",
      "Epoch 25/50\n",
      "400738/400738 [==============================] - 2s 5us/step - loss: 4.4796e-05 - val_loss: 0.0014\n",
      "Epoch 26/50\n",
      "400738/400738 [==============================] - 2s 5us/step - loss: 4.4468e-05 - val_loss: 0.0014\n",
      "Epoch 27/50\n",
      "400738/400738 [==============================] - 2s 5us/step - loss: 4.4161e-05 - val_loss: 0.0014\n",
      "Epoch 28/50\n",
      "400738/400738 [==============================] - 2s 5us/step - loss: 4.3893e-05 - val_loss: 0.0014\n",
      "Epoch 29/50\n",
      "400738/400738 [==============================] - 2s 6us/step - loss: 4.3622e-05 - val_loss: 0.0014\n",
      "Epoch 30/50\n",
      "400738/400738 [==============================] - 2s 4us/step - loss: 4.3380e-05 - val_loss: 0.0015\n",
      "Epoch 31/50\n",
      "400738/400738 [==============================] - 2s 5us/step - loss: 4.3139e-05 - val_loss: 0.0015\n",
      "Epoch 32/50\n",
      "400738/400738 [==============================] - 2s 5us/step - loss: 4.2995e-05 - val_loss: 0.0014\n",
      "Epoch 33/50\n",
      "400738/400738 [==============================] - 2s 5us/step - loss: 4.2861e-05 - val_loss: 0.0015\n",
      "Epoch 34/50\n",
      "400738/400738 [==============================] - 2s 6us/step - loss: 4.2710e-05 - val_loss: 0.0015\n",
      "Epoch 35/50\n",
      "400738/400738 [==============================] - 2s 5us/step - loss: 4.2549e-05 - val_loss: 0.0015\n",
      "Epoch 36/50\n",
      "400738/400738 [==============================] - 2s 5us/step - loss: 4.2393e-05 - val_loss: 0.0015\n",
      "Epoch 37/50\n",
      "400738/400738 [==============================] - 2s 5us/step - loss: 4.2282e-05 - val_loss: 0.0015\n",
      "Epoch 38/50\n",
      "400738/400738 [==============================] - 2s 5us/step - loss: 4.2127e-05 - val_loss: 0.0015\n",
      "Epoch 39/50\n",
      "400738/400738 [==============================] - 2s 6us/step - loss: 4.1985e-05 - val_loss: 0.0015\n",
      "Epoch 40/50\n",
      "400738/400738 [==============================] - 2s 5us/step - loss: 4.1850e-05 - val_loss: 0.0015\n",
      "Epoch 41/50\n",
      "400738/400738 [==============================] - 2s 6us/step - loss: 4.1749e-05 - val_loss: 0.0015\n",
      "Epoch 42/50\n",
      "400738/400738 [==============================] - 2s 5us/step - loss: 4.1595e-05 - val_loss: 0.0015\n",
      "Epoch 43/50\n",
      "400738/400738 [==============================] - 2s 5us/step - loss: 4.1477e-05 - val_loss: 0.0015\n",
      "Epoch 44/50\n",
      "400738/400738 [==============================] - 2s 5us/step - loss: 4.1387e-05 - val_loss: 0.0016\n",
      "Epoch 45/50\n",
      "400738/400738 [==============================] - 2s 5us/step - loss: 4.1303e-05 - val_loss: 0.0016\n",
      "Epoch 46/50\n",
      "400738/400738 [==============================] - 2s 5us/step - loss: 4.1163e-05 - val_loss: 0.0016\n",
      "Epoch 47/50\n",
      "400738/400738 [==============================] - 2s 6us/step - loss: 4.1110e-05 - val_loss: 0.0016\n",
      "Epoch 48/50\n",
      "400738/400738 [==============================] - 2s 5us/step - loss: 4.1023e-05 - val_loss: 0.0016\n",
      "Epoch 49/50\n",
      "400738/400738 [==============================] - 2s 5us/step - loss: 4.0948e-05 - val_loss: 0.0016\n",
      "Epoch 50/50\n",
      "400738/400738 [==============================] - 2s 5us/step - loss: 4.0841e-05 - val_loss: 0.0016\n"
     ]
    }
   ],
   "source": [
    "# Train model for 100 epochs, batch size of 10: \n",
    "NUM_EPOCHS=50\n",
    "BATCH_SIZE=1028\n",
    "\n",
    "history=model.fit(X_train, X_train,\n",
    "                  batch_size=BATCH_SIZE, \n",
    "                  epochs=NUM_EPOCHS,\n",
    "                  validation_split=0.1,\n",
    "                  verbose = 1)"
   ]
  },
  {
   "cell_type": "code",
   "execution_count": 7,
   "metadata": {},
   "outputs": [],
   "source": [
    "X_pred = model.predict(X_train)\n",
    "scored = pd.DataFrame()\n",
    "scored['Loss_mse'] = np.mean(np.abs(X_pred-X_train), axis = 1)"
   ]
  },
  {
   "cell_type": "code",
   "execution_count": 8,
   "metadata": {},
   "outputs": [],
   "source": [
    "X_pred_test = model.predict(X_test)\n",
    "scored_test = pd.DataFrame()\n",
    "scored_test['Loss_mse'] = np.mean(np.abs(X_pred_test-X_test), axis = 1)"
   ]
  },
  {
   "cell_type": "code",
   "execution_count": 9,
   "metadata": {
    "collapsed": true
   },
   "outputs": [
    {
     "data": {
      "text/plain": [
       "Text(0.5, 0, 'Time (s)')"
      ]
     },
     "execution_count": 9,
     "metadata": {},
     "output_type": "execute_result"
    },
    {
     "data": {
      "image/png": "[encoded data removed]",
      "text/plain": [
       "<Figure size 1440x144 with 1 Axes>"
      ]
     },
     "metadata": {
      "needs_background": "light"
     },
     "output_type": "display_data"
    }
   ],
   "source": [
    "plt.figure(figsize=(20,2))\n",
    "plt.plot(train_time, scored['Loss_mse'])\n",
    "plt.ylim([0, 30000])\n",
    "plt.xlabel(\"Time (s)\")"
   ]
  },
  {
   "cell_type": "code",
   "execution_count": 10,
   "metadata": {
    "collapsed": true
   },
   "outputs": [
    {
     "data": {
      "text/plain": [
       "Text(0.5, 0, 'Time (s)')"
      ]
     },
     "execution_count": 10,
     "metadata": {},
     "output_type": "execute_result"
    },
    {
     "data": {
      "image/png": "[encoded data removed]",
      "text/plain": [
       "<Figure size 1440x144 with 1 Axes>"
      ]
     },
     "metadata": {
      "needs_background": "light"
     },
     "output_type": "display_data"
    }
   ],
   "source": [
    "plt.figure(figsize=(20,2))\n",
    "plt.plot(test_time, scored_test['Loss_mse'])\n",
    "plt.ylim([0, 30000])\n",
    "#plt.xlim([-1,0])\n",
    "plt.xlabel(\"Time (s)\")"
   ]
  },
  {
   "cell_type": "markdown",
   "metadata": {},
   "source": [
    "## 2. Try starts learning after previous current's reached"
   ]
  },
  {
   "cell_type": "code",
   "execution_count": 3,
   "metadata": {
    "collapsed": true
   },
   "outputs": [
    {
     "name": "stdout",
     "output_type": "stream",
     "text": [
      "Flushing input history\n",
      "Flushing input history\n",
      "Flushing input history\n",
      "Flushing input history\n",
      "Flushing input history\n",
      "Flushing input history\n",
      "Flushing input history\n",
      "Flushing input history\n",
      "Flushing input history\n",
      "Flushing input history\n",
      "Flushing input history\n",
      "Flushing input history\n",
      "Flushing input history\n",
      "Flushing input history\n",
      "Flushing input history\n",
      "Flushing input history\n",
      "Flushing input history\n",
      "Flushing input history\n",
      "Flushing input history\n",
      "Flushing input history\n",
      "Flushing input history\n",
      "Flushing input history\n",
      "Flushing input history\n",
      "Flushing input history\n",
      "Flushing input history\n",
      "Flushing input history\n",
      "Flushing input history\n",
      "Flushing input history\n",
      "X_train's shape:  (699800, 12)\n",
      "X_test's shape:  (699800, 12)\n"
     ]
    }
   ],
   "source": [
    "X_train, train_time = generate_data(\"./data/Ramp20/\", time_range = (-140, -70), window = 2000, step = 10)\n",
    "X_test, test_time = generate_data(\"./data/Ramp20/\", time_range = (-70, 0), window = 2000, step = 10)\n",
    "print(\"X_train's shape: \", X_train.shape)\n",
    "print(\"X_test's shape: \", X_test.shape)"
   ]
  },
  {
   "cell_type": "code",
   "execution_count": 4,
   "metadata": {},
   "outputs": [],
   "source": [
    "from sklearn.preprocessing import MinMaxScaler\n",
    "\n",
    "scaler = MinMaxScaler()\n",
    "\n",
    "scaler.fit(X_train)\n",
    "\n",
    "X_train = scaler.transform(X_train)\n",
    "\n",
    "X_test = scaler.transform(X_test)"
   ]
  },
  {
   "cell_type": "code",
   "execution_count": 5,
   "metadata": {
    "collapsed": true
   },
   "outputs": [
    {
     "name": "stdout",
     "output_type": "stream",
     "text": [
      "Using Keras version:  2.3.1\n",
      "Model: \"sequential_1\"\n",
      "_________________________________________________________________\n",
      "Layer (type)                 Output Shape              Param #   \n",
      "=================================================================\n",
      "dense_1 (Dense)              (None, 6)                 78        \n",
      "_________________________________________________________________\n",
      "dense_2 (Dense)              (None, 3)                 21        \n",
      "_________________________________________________________________\n",
      "dense_3 (Dense)              (None, 6)                 24        \n",
      "_________________________________________________________________\n",
      "dense_4 (Dense)              (None, 12)                84        \n",
      "=================================================================\n",
      "Total params: 207\n",
      "Trainable params: 207\n",
      "Non-trainable params: 0\n",
      "_________________________________________________________________\n"
     ]
    }
   ],
   "source": [
    "#================BUILD THE MODEL====================\n",
    "print(\"Using Keras version: \", keras.__version__)\n",
    "\n",
    "# Simple model\n",
    "model = models.Sequential()\n",
    "\n",
    "model.add(Dense(6, activation = 'elu', kernel_initializer='glorot_uniform',\n",
    "                kernel_regularizer=regularizers.l2(0.0),\n",
    "                input_dim=X_train.shape[1]))\n",
    "\n",
    "model.add(Dense(3,activation='elu',\n",
    "                kernel_initializer='glorot_uniform'))\n",
    "\n",
    "model.add(Dense(6,activation='elu',\n",
    "                kernel_initializer='glorot_uniform'))\n",
    "\n",
    "model.add(Dense(X_train.shape[1],\n",
    "                kernel_initializer='glorot_uniform'))\n",
    "\n",
    "model.compile(loss='mse',optimizer='adam')\n",
    "\n",
    "model.summary()"
   ]
  },
  {
   "cell_type": "code",
   "execution_count": 6,
   "metadata": {
    "collapsed": true
   },
   "outputs": [
    {
     "name": "stdout",
     "output_type": "stream",
     "text": [
      "Train on 629820 samples, validate on 69980 samples\n",
      "Epoch 1/50\n",
      "629820/629820 [==============================] - 4s 7us/step - loss: 0.0011 - val_loss: 4.0352e-04\n",
      "Epoch 2/50\n",
      "629820/629820 [==============================] - 3s 6us/step - loss: 3.8201e-04 - val_loss: 2.6887e-04\n",
      "Epoch 3/50\n",
      "629820/629820 [==============================] - 3s 5us/step - loss: 2.7616e-04 - val_loss: 1.9389e-04\n",
      "Epoch 4/50\n",
      "629820/629820 [==============================] - 3s 5us/step - loss: 2.2176e-04 - val_loss: 1.6769e-04\n",
      "Epoch 5/50\n",
      "629820/629820 [==============================] - 3s 5us/step - loss: 2.0260e-04 - val_loss: 1.6331e-04\n",
      "Epoch 6/50\n",
      "629820/629820 [==============================] - 3s 5us/step - loss: 1.9550e-04 - val_loss: 1.6205e-04\n",
      "Epoch 7/50\n",
      "629820/629820 [==============================] - 3s 5us/step - loss: 1.9145e-04 - val_loss: 1.6279e-04\n",
      "Epoch 8/50\n",
      "629820/629820 [==============================] - 3s 5us/step - loss: 1.8881e-04 - val_loss: 1.6199e-04\n",
      "Epoch 9/50\n",
      "629820/629820 [==============================] - 3s 5us/step - loss: 1.8709e-04 - val_loss: 1.6361e-04\n",
      "Epoch 10/50\n",
      "629820/629820 [==============================] - 3s 5us/step - loss: 1.8586e-04 - val_loss: 1.6151e-04\n",
      "Epoch 11/50\n",
      "629820/629820 [==============================] - 3s 5us/step - loss: 1.8489e-04 - val_loss: 1.6105e-04\n",
      "Epoch 12/50\n",
      "629820/629820 [==============================] - 3s 5us/step - loss: 1.8416e-04 - val_loss: 1.6141e-04\n",
      "Epoch 13/50\n",
      "629820/629820 [==============================] - 3s 5us/step - loss: 1.8349e-04 - val_loss: 1.6178e-04\n",
      "Epoch 14/50\n",
      "629820/629820 [==============================] - 3s 6us/step - loss: 1.8309e-04 - val_loss: 1.6032e-04\n",
      "Epoch 15/50\n",
      "629820/629820 [==============================] - 3s 5us/step - loss: 1.8263e-04 - val_loss: 1.6079e-04\n",
      "Epoch 16/50\n",
      "629820/629820 [==============================] - 3s 5us/step - loss: 1.8224e-04 - val_loss: 1.6145e-04\n",
      "Epoch 17/50\n",
      "629820/629820 [==============================] - 3s 5us/step - loss: 1.8204e-04 - val_loss: 1.6045e-04\n",
      "Epoch 18/50\n",
      "629820/629820 [==============================] - 3s 5us/step - loss: 1.8182e-04 - val_loss: 1.6236e-04\n",
      "Epoch 19/50\n",
      "629820/629820 [==============================] - 3s 5us/step - loss: 1.8164e-04 - val_loss: 1.5977e-04\n",
      "Epoch 20/50\n",
      "629820/629820 [==============================] - 3s 5us/step - loss: 1.8147e-04 - val_loss: 1.6026e-04\n",
      "Epoch 21/50\n",
      "629820/629820 [==============================] - 3s 5us/step - loss: 1.8132e-04 - val_loss: 1.5957e-04\n",
      "Epoch 22/50\n",
      "629820/629820 [==============================] - 3s 5us/step - loss: 1.8126e-04 - val_loss: 1.5993e-04\n",
      "Epoch 23/50\n",
      "629820/629820 [==============================] - 3s 5us/step - loss: 1.8109e-04 - val_loss: 1.6074e-04\n",
      "Epoch 24/50\n",
      "629820/629820 [==============================] - 3s 5us/step - loss: 1.8101e-04 - val_loss: 1.6057e-04\n",
      "Epoch 25/50\n",
      "629820/629820 [==============================] - 3s 5us/step - loss: 1.8104e-04 - val_loss: 1.5952e-04\n",
      "Epoch 26/50\n",
      "629820/629820 [==============================] - 3s 5us/step - loss: 1.8073e-04 - val_loss: 1.5968e-04\n",
      "Epoch 27/50\n",
      "629820/629820 [==============================] - 3s 5us/step - loss: 1.8070e-04 - val_loss: 1.5971e-04\n",
      "Epoch 28/50\n",
      "629820/629820 [==============================] - 4s 6us/step - loss: 1.8062e-04 - val_loss: 1.6042e-04\n",
      "Epoch 29/50\n",
      "629820/629820 [==============================] - 4s 6us/step - loss: 1.8049e-04 - val_loss: 1.6037e-04\n",
      "Epoch 30/50\n",
      "629820/629820 [==============================] - 3s 5us/step - loss: 1.8039e-04 - val_loss: 1.5973e-04\n",
      "Epoch 31/50\n",
      "629820/629820 [==============================] - 3s 5us/step - loss: 1.8024e-04 - val_loss: 1.5984e-04\n",
      "Epoch 32/50\n",
      "629820/629820 [==============================] - 4s 6us/step - loss: 1.8019e-04 - val_loss: 1.5902e-04\n",
      "Epoch 33/50\n",
      "629820/629820 [==============================] - 4s 6us/step - loss: 1.8000e-04 - val_loss: 1.5919e-04\n",
      "Epoch 34/50\n",
      "629820/629820 [==============================] - 3s 5us/step - loss: 1.7995e-04 - val_loss: 1.5932e-04\n",
      "Epoch 35/50\n",
      "629820/629820 [==============================] - 3s 5us/step - loss: 1.7978e-04 - val_loss: 1.5950e-04\n",
      "Epoch 36/50\n",
      "629820/629820 [==============================] - 4s 6us/step - loss: 1.7972e-04 - val_loss: 1.6071e-04\n",
      "Epoch 37/50\n",
      "629820/629820 [==============================] - 3s 5us/step - loss: 1.7957e-04 - val_loss: 1.5942e-04\n",
      "Epoch 38/50\n",
      "629820/629820 [==============================] - 3s 5us/step - loss: 1.7943e-04 - val_loss: 1.5930e-04\n",
      "Epoch 39/50\n",
      "629820/629820 [==============================] - 4s 6us/step - loss: 1.7928e-04 - val_loss: 1.5868e-04\n",
      "Epoch 40/50\n",
      "629820/629820 [==============================] - 4s 6us/step - loss: 1.7914e-04 - val_loss: 1.5836e-04\n",
      "Epoch 41/50\n",
      "629820/629820 [==============================] - 4s 6us/step - loss: 1.7896e-04 - val_loss: 1.5675e-04\n",
      "Epoch 42/50\n",
      "629820/629820 [==============================] - 4s 6us/step - loss: 1.7881e-04 - val_loss: 1.5743e-04\n",
      "Epoch 43/50\n",
      "629820/629820 [==============================] - 3s 5us/step - loss: 1.7855e-04 - val_loss: 1.5714e-04\n",
      "Epoch 44/50\n",
      "629820/629820 [==============================] - 3s 5us/step - loss: 1.7833e-04 - val_loss: 1.5803e-04\n",
      "Epoch 45/50\n",
      "629820/629820 [==============================] - 3s 5us/step - loss: 1.7805e-04 - val_loss: 1.5684e-04\n",
      "Epoch 46/50\n",
      "629820/629820 [==============================] - 4s 6us/step - loss: 1.7768e-04 - val_loss: 1.5475e-04\n",
      "Epoch 47/50\n",
      "629820/629820 [==============================] - 3s 5us/step - loss: 1.7729e-04 - val_loss: 1.5438e-04\n",
      "Epoch 48/50\n",
      "629820/629820 [==============================] - 3s 6us/step - loss: 1.7677e-04 - val_loss: 1.5548e-04\n",
      "Epoch 49/50\n",
      "629820/629820 [==============================] - 3s 6us/step - loss: 1.7631e-04 - val_loss: 1.5195e-04\n",
      "Epoch 50/50\n",
      "629820/629820 [==============================] - 4s 6us/step - loss: 1.7583e-04 - val_loss: 1.5328e-04\n"
     ]
    }
   ],
   "source": [
    "# Train model for 100 epochs, batch size of 10: \n",
    "NUM_EPOCHS=50\n",
    "BATCH_SIZE=1028\n",
    "\n",
    "history=model.fit(X_train, X_train,\n",
    "                  batch_size=BATCH_SIZE, \n",
    "                  epochs=NUM_EPOCHS,\n",
    "                  validation_split=0.1,\n",
    "                  verbose = 1)"
   ]
  },
  {
   "cell_type": "code",
   "execution_count": 7,
   "metadata": {},
   "outputs": [],
   "source": [
    "X_pred = model.predict(X_train)\n",
    "scored = pd.DataFrame()\n",
    "scored['Loss_mse'] = np.mean(np.abs(X_pred-X_train), axis = 1)"
   ]
  },
  {
   "cell_type": "code",
   "execution_count": 8,
   "metadata": {},
   "outputs": [],
   "source": [
    "X_pred_test = model.predict(X_test)\n",
    "scored_test = pd.DataFrame()\n",
    "scored_test['Loss_mse'] = np.mean(np.abs(X_pred_test-X_test), axis = 1)"
   ]
  },
  {
   "cell_type": "code",
   "execution_count": 13,
   "metadata": {
    "collapsed": true
   },
   "outputs": [
    {
     "data": {
      "text/plain": [
       "Text(0.5, 0, 'Time (s)')"
      ]
     },
     "execution_count": 13,
     "metadata": {},
     "output_type": "execute_result"
    },
    {
     "data": {
      "image/png": "[encoded data removed]",
      "text/plain": [
       "<Figure size 1440x144 with 1 Axes>"
      ]
     },
     "metadata": {
      "needs_background": "light"
     },
     "output_type": "display_data"
    }
   ],
   "source": [
    "plt.figure(figsize=(20,2))\n",
    "plt.plot(train_time, scored['Loss_mse'])\n",
    "plt.ylim([0, 0.2])\n",
    "plt.xlabel(\"Time (s)\")"
   ]
  },
  {
   "cell_type": "code",
   "execution_count": 14,
   "metadata": {
    "collapsed": true
   },
   "outputs": [
    {
     "data": {
      "text/plain": [
       "Text(0.5, 0, 'Time (s)')"
      ]
     },
     "execution_count": 14,
     "metadata": {},
     "output_type": "execute_result"
    },
    {
     "data": {
      "image/png": "[encoded data removed]",
      "text/plain": [
       "<Figure size 1440x144 with 1 Axes>"
      ]
     },
     "metadata": {
      "needs_background": "light"
     },
     "output_type": "display_data"
    }
   ],
   "source": [
    "plt.figure(figsize=(20,2))\n",
    "plt.plot(test_time, scored_test['Loss_mse'])\n",
    "plt.ylim([0, 0.2])\n",
    "#plt.xlim([-1,0])\n",
    "plt.xlabel(\"Time (s)\")"
   ]
  },
  {
   "cell_type": "markdown",
   "metadata": {},
   "source": [
    "## 3. try start learning until operating current"
   ]
  },
  {
   "cell_type": "code",
   "execution_count": 3,
   "metadata": {
    "collapsed": true
   },
   "outputs": [
    {
     "name": "stdout",
     "output_type": "stream",
     "text": [
      "Flushing input history\n",
      "Flushing input history\n",
      "Flushing input history\n",
      "Flushing input history\n",
      "Flushing input history\n",
      "Flushing input history\n",
      "Flushing input history\n",
      "Flushing input history\n",
      "Flushing input history\n",
      "Flushing input history\n",
      "Flushing input history\n",
      "Flushing input history\n",
      "Flushing input history\n",
      "Flushing input history\n",
      "Flushing input history\n",
      "Flushing input history\n",
      "Flushing input history\n",
      "Flushing input history\n",
      "Flushing input history\n",
      "Flushing input history\n",
      "Flushing input history\n",
      "Flushing input history\n",
      "Flushing input history\n",
      "Flushing input history\n",
      "Flushing input history\n",
      "Flushing input history\n",
      "Flushing input history\n",
      "Flushing input history\n",
      "X_train's shape:  (2819800, 12)\n",
      "X_test's shape:  (179800, 12)\n"
     ]
    }
   ],
   "source": [
    "X_train, train_time = generate_data(\"./data/Ramp20/\", time_range = (-300, -18), window = 2000, step = 10)\n",
    "X_test, test_time = generate_data(\"./data/Ramp20/\", time_range = (-18, 0), window = 2000, step = 10)\n",
    "print(\"X_train's shape: \", X_train.shape)\n",
    "print(\"X_test's shape: \", X_test.shape)"
   ]
  },
  {
   "cell_type": "code",
   "execution_count": 4,
   "metadata": {},
   "outputs": [],
   "source": [
    "from sklearn.preprocessing import MinMaxScaler\n",
    "\n",
    "scaler = MinMaxScaler()\n",
    "\n",
    "scaler.fit(X_train)\n",
    "\n",
    "X_train = scaler.transform(X_train)\n",
    "\n",
    "X_test = scaler.transform(X_test)"
   ]
  },
  {
   "cell_type": "code",
   "execution_count": 5,
   "metadata": {},
   "outputs": [
    {
     "name": "stdout",
     "output_type": "stream",
     "text": [
      "Using Keras version:  2.3.1\n",
      "Model: \"sequential_1\"\n",
      "_________________________________________________________________\n",
      "Layer (type)                 Output Shape              Param #   \n",
      "=================================================================\n",
      "dense_1 (Dense)              (None, 6)                 78        \n",
      "_________________________________________________________________\n",
      "dense_2 (Dense)              (None, 3)                 21        \n",
      "_________________________________________________________________\n",
      "dense_3 (Dense)              (None, 6)                 24        \n",
      "_________________________________________________________________\n",
      "dense_4 (Dense)              (None, 12)                84        \n",
      "=================================================================\n",
      "Total params: 207\n",
      "Trainable params: 207\n",
      "Non-trainable params: 0\n",
      "_________________________________________________________________\n"
     ]
    }
   ],
   "source": [
    "#================BUILD THE MODEL====================\n",
    "print(\"Using Keras version: \", keras.__version__)\n",
    "\n",
    "# Simple model\n",
    "model = models.Sequential()\n",
    "\n",
    "model.add(Dense(6, activation = 'elu', kernel_initializer='glorot_uniform',\n",
    "                kernel_regularizer=regularizers.l2(0.0),\n",
    "                input_dim=X_train.shape[1]))\n",
    "\n",
    "model.add(Dense(3,activation='elu',\n",
    "                kernel_initializer='glorot_uniform'))\n",
    "\n",
    "model.add(Dense(6,activation='elu',\n",
    "                kernel_initializer='glorot_uniform'))\n",
    "\n",
    "model.add(Dense(X_train.shape[1],\n",
    "                kernel_initializer='glorot_uniform'))\n",
    "\n",
    "model.compile(loss='mse',optimizer='adam')\n",
    "\n",
    "model.summary()"
   ]
  },
  {
   "cell_type": "code",
   "execution_count": 6,
   "metadata": {
    "scrolled": true
   },
   "outputs": [
    {
     "name": "stdout",
     "output_type": "stream",
     "text": [
      "Train on 2537820 samples, validate on 281980 samples\n",
      "Epoch 1/50\n",
      "2537820/2537820 [==============================] - 13s 5us/step - loss: 1.6422e-04 - val_loss: 3.1075e-04\n",
      "Epoch 2/50\n",
      "2537820/2537820 [==============================] - 13s 5us/step - loss: 7.2277e-05 - val_loss: 3.0065e-04\n",
      "Epoch 3/50\n",
      "2537820/2537820 [==============================] - 12s 5us/step - loss: 6.5998e-05 - val_loss: 2.6397e-04\n",
      "Epoch 4/50\n",
      "2537820/2537820 [==============================] - 13s 5us/step - loss: 6.0840e-05 - val_loss: 2.4232e-04\n",
      "Epoch 5/50\n",
      "2537820/2537820 [==============================] - 12s 5us/step - loss: 5.4677e-05 - val_loss: 2.2267e-04\n",
      "Epoch 6/50\n",
      "2537820/2537820 [==============================] - 12s 5us/step - loss: 5.1373e-05 - val_loss: 2.1738e-04\n",
      "Epoch 7/50\n",
      "2537820/2537820 [==============================] - 13s 5us/step - loss: 4.9895e-05 - val_loss: 2.1365e-04\n",
      "Epoch 8/50\n",
      "2537820/2537820 [==============================] - 13s 5us/step - loss: 4.8987e-05 - val_loss: 2.1504e-04\n",
      "Epoch 9/50\n",
      "2537820/2537820 [==============================] - 14s 5us/step - loss: 4.8430e-05 - val_loss: 2.1324e-04\n",
      "Epoch 10/50\n",
      "2537820/2537820 [==============================] - 10s 4us/step - loss: 4.8075e-05 - val_loss: 2.1540e-04\n",
      "Epoch 11/50\n",
      "2537820/2537820 [==============================] - 12s 5us/step - loss: 4.7804e-05 - val_loss: 2.1314e-04\n",
      "Epoch 12/50\n",
      "2537820/2537820 [==============================] - 13s 5us/step - loss: 4.7575e-05 - val_loss: 2.1160e-04\n",
      "Epoch 13/50\n",
      "2537820/2537820 [==============================] - 13s 5us/step - loss: 4.7390e-05 - val_loss: 2.1541e-04\n",
      "Epoch 14/50\n",
      "2537820/2537820 [==============================] - 12s 5us/step - loss: 4.7233e-05 - val_loss: 2.1102e-04\n",
      "Epoch 15/50\n",
      "2537820/2537820 [==============================] - 11s 5us/step - loss: 4.7067e-05 - val_loss: 2.0945e-04\n",
      "Epoch 16/50\n",
      "2537820/2537820 [==============================] - 12s 5us/step - loss: 4.6960e-05 - val_loss: 2.0684e-04\n",
      "Epoch 17/50\n",
      "2537820/2537820 [==============================] - 12s 5us/step - loss: 4.6815e-05 - val_loss: 2.0601e-04\n",
      "Epoch 18/50\n",
      "2537820/2537820 [==============================] - 12s 5us/step - loss: 4.6700e-05 - val_loss: 2.0379e-04\n",
      "Epoch 19/50\n",
      "2537820/2537820 [==============================] - 13s 5us/step - loss: 4.6579e-05 - val_loss: 2.0843e-04\n",
      "Epoch 20/50\n",
      "2537820/2537820 [==============================] - 13s 5us/step - loss: 4.6478e-05 - val_loss: 2.0656e-04\n",
      "Epoch 21/50\n",
      "2537820/2537820 [==============================] - 14s 5us/step - loss: 4.6380e-05 - val_loss: 2.0489e-04\n",
      "Epoch 22/50\n",
      "2537820/2537820 [==============================] - 13s 5us/step - loss: 4.6288e-05 - val_loss: 2.0599e-04\n",
      "Epoch 23/50\n",
      "2537820/2537820 [==============================] - 12s 5us/step - loss: 4.6200e-05 - val_loss: 2.0762e-04\n",
      "Epoch 24/50\n",
      "2537820/2537820 [==============================] - 13s 5us/step - loss: 4.6094e-05 - val_loss: 2.0780e-04\n",
      "Epoch 25/50\n",
      "2537820/2537820 [==============================] - 14s 6us/step - loss: 4.6011e-05 - val_loss: 2.0422e-04\n",
      "Epoch 26/50\n",
      "2537820/2537820 [==============================] - 13s 5us/step - loss: 4.5921e-05 - val_loss: 2.1052e-04\n",
      "Epoch 27/50\n",
      "2537820/2537820 [==============================] - 14s 6us/step - loss: 4.5806e-05 - val_loss: 2.0673e-04\n",
      "Epoch 28/50\n",
      "2537820/2537820 [==============================] - 13s 5us/step - loss: 4.5695e-05 - val_loss: 2.0943e-04\n",
      "Epoch 29/50\n",
      "2537820/2537820 [==============================] - 12s 5us/step - loss: 4.5565e-05 - val_loss: 2.0849e-04\n",
      "Epoch 30/50\n",
      "2537820/2537820 [==============================] - 12s 5us/step - loss: 4.5423e-05 - val_loss: 2.1016e-04\n",
      "Epoch 31/50\n",
      "2537820/2537820 [==============================] - 13s 5us/step - loss: 4.5180e-05 - val_loss: 2.0992e-04\n",
      "Epoch 32/50\n",
      "2537820/2537820 [==============================] - 12s 5us/step - loss: 4.4794e-05 - val_loss: 2.1113e-04\n",
      "Epoch 33/50\n",
      "2537820/2537820 [==============================] - 13s 5us/step - loss: 4.4399e-05 - val_loss: 2.0994e-04\n",
      "Epoch 34/50\n",
      "2537820/2537820 [==============================] - 13s 5us/step - loss: 4.4051e-05 - val_loss: 2.0781e-04\n",
      "Epoch 35/50\n",
      "2537820/2537820 [==============================] - 14s 5us/step - loss: 4.3762e-05 - val_loss: 2.1148e-04\n",
      "Epoch 36/50\n",
      "2537820/2537820 [==============================] - 13s 5us/step - loss: 4.3510e-05 - val_loss: 2.0485e-04\n",
      "Epoch 37/50\n",
      "2537820/2537820 [==============================] - 14s 5us/step - loss: 4.3312e-05 - val_loss: 2.0985e-04\n",
      "Epoch 38/50\n",
      "2537820/2537820 [==============================] - 15s 6us/step - loss: 4.3141e-05 - val_loss: 2.0829e-04\n",
      "Epoch 39/50\n",
      "2537820/2537820 [==============================] - 14s 6us/step - loss: 4.2978e-05 - val_loss: 2.0940e-04\n",
      "Epoch 40/50\n",
      "2537820/2537820 [==============================] - 12s 5us/step - loss: 4.2826e-05 - val_loss: 2.0704e-04\n",
      "Epoch 41/50\n",
      "2537820/2537820 [==============================] - 14s 6us/step - loss: 4.2693e-05 - val_loss: 2.0836e-04\n",
      "Epoch 42/50\n",
      "2537820/2537820 [==============================] - 14s 5us/step - loss: 4.2607e-05 - val_loss: 2.1016e-04\n",
      "Epoch 43/50\n",
      "2537820/2537820 [==============================] - 13s 5us/step - loss: 4.2467e-05 - val_loss: 2.0579e-04\n",
      "Epoch 44/50\n",
      "2537820/2537820 [==============================] - 13s 5us/step - loss: 4.2379e-05 - val_loss: 2.0921e-04\n",
      "Epoch 45/50\n",
      "2537820/2537820 [==============================] - 14s 5us/step - loss: 4.2287e-05 - val_loss: 2.0807e-04\n",
      "Epoch 46/50\n",
      "2537820/2537820 [==============================] - 13s 5us/step - loss: 4.2220e-05 - val_loss: 2.0899e-04\n",
      "Epoch 47/50\n",
      "2537820/2537820 [==============================] - 12s 5us/step - loss: 4.2129e-05 - val_loss: 2.0911e-04\n",
      "Epoch 48/50\n",
      "2537820/2537820 [==============================] - 12s 5us/step - loss: 4.2070e-05 - val_loss: 2.0923e-04\n",
      "Epoch 49/50\n",
      "2537820/2537820 [==============================] - 14s 5us/step - loss: 4.1979e-05 - val_loss: 2.0622e-04\n",
      "Epoch 50/50\n",
      "2537820/2537820 [==============================] - 13s 5us/step - loss: 4.1948e-05 - val_loss: 2.1103e-04\n"
     ]
    }
   ],
   "source": [
    "# Train model for 100 epochs, batch size of 10: \n",
    "NUM_EPOCHS=50\n",
    "BATCH_SIZE=1028\n",
    "\n",
    "history=model.fit(X_train, X_train,\n",
    "                  batch_size=BATCH_SIZE, \n",
    "                  epochs=NUM_EPOCHS,\n",
    "                  validation_split=0.1,\n",
    "                  verbose = 1)"
   ]
  },
  {
   "cell_type": "code",
   "execution_count": 7,
   "metadata": {},
   "outputs": [],
   "source": [
    "X_pred = model.predict(X_train)\n",
    "scored = pd.DataFrame()\n",
    "scored['Loss_mse'] = np.mean(np.abs(X_pred-X_train), axis = 1)"
   ]
  },
  {
   "cell_type": "code",
   "execution_count": 8,
   "metadata": {},
   "outputs": [],
   "source": [
    "X_pred_test = model.predict(X_test)\n",
    "scored_test = pd.DataFrame()\n",
    "scored_test['Loss_mse'] = np.mean(np.abs(X_pred_test-X_test), axis = 1)"
   ]
  },
  {
   "cell_type": "code",
   "execution_count": 11,
   "metadata": {},
   "outputs": [
    {
     "data": {
      "text/plain": [
       "Text(0.5, 0, 'Time (s)')"
      ]
     },
     "execution_count": 11,
     "metadata": {},
     "output_type": "execute_result"
    },
    {
     "data": {
      "image/png": "[encoded data removed]",
      "text/plain": [
       "<Figure size 1440x144 with 1 Axes>"
      ]
     },
     "metadata": {
      "needs_background": "light"
     },
     "output_type": "display_data"
    }
   ],
   "source": [
    "plt.figure(figsize=(20,2))\n",
    "plt.plot(train_time, scored['Loss_mse'])\n",
    "#plt.ylim([0, 0.2])\n",
    "plt.xlabel(\"Time (s)\")"
   ]
  },
  {
   "cell_type": "code",
   "execution_count": 12,
   "metadata": {},
   "outputs": [
    {
     "data": {
      "text/plain": [
       "Text(0.5, 0, 'Time (s)')"
      ]
     },
     "execution_count": 12,
     "metadata": {},
     "output_type": "execute_result"
    },
    {
     "data": {
      "image/png": "[encoded data removed]",
      "text/plain": [
       "<Figure size 1440x144 with 1 Axes>"
      ]
     },
     "metadata": {
      "needs_background": "light"
     },
     "output_type": "display_data"
    }
   ],
   "source": [
    "plt.figure(figsize=(20,2))\n",
    "plt.plot(test_time, scored_test['Loss_mse'])\n",
    "plt.ylim([0, 0.4])\n",
    "#plt.xlim([-1,0])\n",
    "plt.xlabel(\"Time (s)\")"
   ]
  },
  {
   "cell_type": "code",
   "execution_count": null,
   "metadata": {},
   "outputs": [],
   "source": []
  }
 ],
 "metadata": {
  "kernelspec": {
   "display_name": "Python 3",
   "language": "python",
   "name": "python3"
  },
  "language_info": {
   "codemirror_mode": {
    "name": "ipython",
    "version": 3
   },
   "file_extension": ".py",
   "mimetype": "text/x-python",
   "name": "python",
   "nbconvert_exporter": "python",
   "pygments_lexer": "ipython3",
   "version": "3.7.6"
  }
 },
 "nbformat": 4,
 "nbformat_minor": 4
}
