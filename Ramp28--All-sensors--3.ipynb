{
 "cells": [
  {
   "cell_type": "markdown",
   "metadata": {},
   "source": [
    "# Ramp 28 -- Variances + Mean"
   ]
  },
  {
   "cell_type": "code",
   "execution_count": 1,
   "metadata": {},
   "outputs": [
    {
     "name": "stderr",
     "output_type": "stream",
     "text": [
      "\n",
      "Bad key \"text.kerning_factor\" on line 4 in\n",
      "/uscms_data/d3/dhoang/miniconda3/lib/python3.7/site-packages/matplotlib/mpl-data/stylelib/_classic_test_patch.mplstyle.\n",
      "You probably need to get an updated matplotlibrc file from\n",
      "https://github.com/matplotlib/matplotlib/blob/v3.1.3/matplotlibrc.template\n",
      "or from the matplotlib source distribution\n",
      "Using TensorFlow backend.\n"
     ]
    }
   ],
   "source": [
    "#Data processing\n",
    "import os\n",
    "import pandas as pd\n",
    "import numpy as np\n",
    "import matplotlib.pyplot as plt\n",
    "import seaborn as sns\n",
    "from nptdms import TdmsFile #Process ramping file\n",
    "\n",
    "#For building ML models\n",
    "import keras\n",
    "import keras.models as models\n",
    "from keras.layers.core import Dense\n",
    "from keras import regularizers"
   ]
  },
  {
   "cell_type": "code",
   "execution_count": 2,
   "metadata": {},
   "outputs": [],
   "source": [
    "def load_channel_and_time(dir_path, channel):\n",
    "    data_frame = pd.DataFrame(data = {channel: np.load(dir_path + channel + \".npy\"),\n",
    "                                     \"time\": np.load(dir_path + \"time.npy\")})\n",
    "    return data_frame\n",
    "    \n",
    "def generate_data_0(dir_path, channel, time_range, window = 1000, step = 10):\n",
    "    #Load the data\n",
    "    data = load_channel_and_time(dir_path, channel)\n",
    "    \n",
    "    #Select the part\n",
    "    start = time_range[0]\n",
    "    end = time_range[1]\n",
    "    data = data[(data[\"time\"] > start) & (data[\"time\"] < end)]\n",
    "    \n",
    "    #Calculate the statistics\n",
    "    #data[\"Mean\"] = data.loc[:, channel].abs().rolling(window=window).mean()\n",
    "    data[\"SD\"] = data.loc[:, channel].rolling(window=window).std()\n",
    "    #data[\"Kurtosis\"] = data.loc[:, channel].rolling(window=window).kurt()\n",
    "    #data[\"Skew\"] = data.loc[:, channel].rolling(window=window).skew()\n",
    "    \n",
    "    select_list = [\"SD\"]\n",
    "    \n",
    "    assert data[select_list].to_numpy()[window-1::step].shape[0] == data['time'].to_numpy()[window-1::step].shape[0]\n",
    "    \n",
    "    %reset -f in\n",
    "    \n",
    "    return data[select_list].to_numpy()[window-1::step], data['time'].to_numpy()[window-1::step]\n",
    "\n",
    "def generate_data_no_time(dir_path, channel, time_range, window = 1000, step = 10):\n",
    "    #Load the data\n",
    "    data = load_channel_and_time(dir_path, channel)\n",
    "    \n",
    "    #Select the part\n",
    "    start = time_range[0]\n",
    "    end = time_range[1]\n",
    "    data = data[(data[\"time\"] > start) & (data[\"time\"] < end)]\n",
    "    \n",
    "    #Calculate the statistics\n",
    "    #data[\"Mean\"] = data.loc[:, channel].abs().rolling(window=window).mean()\n",
    "    data[\"SD\"] = data.loc[:, channel].rolling(window=window).std()\n",
    "    #data[\"Kurtosis\"] = data.loc[:, channel].rolling(window=window).kurt()\n",
    "    #data[\"Skew\"] = data.loc[:, channel].rolling(window=window).skew()\n",
    "    \n",
    "    select_list = [\"SD\"]\n",
    "    \n",
    "    %reset -f in\n",
    "    \n",
    "    return data[select_list].to_numpy()[window-1::step]\n",
    "\n",
    "def generate_data_all_sensors(dir_path, time_range, window = 1000, step = 10):\n",
    "    \n",
    "    ai0, time = generate_data(dir_path, \"ai0\", time_range = time_range, window = window, step = step)\n",
    "    ai1 = generate_data_no_time(dir_path, \"ai1\", time_range = time_range, window = window, step = step)\n",
    "    ai2 = generate_data_no_time(dir_path, \"ai2\", time_range = time_range, window = window, step = step)\n",
    "    ai3 = generate_data_no_time(dir_path, \"ai3\", time_range = time_range, window = window, step = step)\n",
    "    ai4 = generate_data_no_time(dir_path, \"ai4\", time_range = time_range, window = window, step = step)\n",
    "    \n",
    "    #Multiply them all together\n",
    "    product_var = ai0*ai1*ai2*ai3*ai4\n",
    "    \n",
    "    \n",
    "    all_channels = np.concatenate((ai0,ai1,ai2,ai3,ai4,product_var), axis = 1)\n",
    "    \n",
    "    %reset -f in\n",
    "    \n",
    "    return all_channels, time\n",
    "\n",
    "def plot_moving_mean(dir_path, channel, time_range, window = 1000, step = 10):\n",
    "    #Load the data\n",
    "    data = load_channel_and_time(dir_path, channel)\n",
    "    \n",
    "    #Select the part\n",
    "    start = time_range[0]\n",
    "    end = time_range[1]\n",
    "    data = data[(data[\"time\"] > start) & (data[\"time\"] < end)]\n",
    "    \n",
    "    #Calculate the mean\n",
    "    data[\"Mean\"] = data.loc[:, channel].abs().rolling(window=window).mean()\n",
    "    \n",
    "    #Plot\n",
    "    plt.figure(figsize=(20,2))\n",
    "    plt.plot(data['time'].to_numpy()[window-1::step], data[\"Mean\"].to_numpy()[window-1::step], label = \"Mean of abs(data)\")\n",
    "    plt.legend(loc = \"upper right\")\n",
    "    plt.xlabel(\"Time (s)\")\n",
    "    plt.title(\"Sensor {}'s moving mean\".format(channel))\n",
    "    \n",
    "    %reset -f in\n",
    "    \n",
    "def load_sensor(dir_path, sensor, time_range = None):\n",
    "    \n",
    "    data = pd.DataFrame(data = {sensor: np.load(dir_path + sensor + \".npy\"),\n",
    "                                \"time\": np.load(dir_path + \"time.npy\")})\n",
    "    \n",
    "    start = min(data[\"time\"])\n",
    "    end = max(data[\"time\"])\n",
    "    \n",
    "    if time_range:\n",
    "        start = time_range[0]\n",
    "        end = time_range[1]\n",
    "    \n",
    "    \n",
    "    data = data[(data[\"time\"] > start) & (data[\"time\"] < end)]\n",
    "   \n",
    "    %reset -f in\n",
    "    \n",
    "    return data\n",
    "    \n",
    "def plot_product_mean(dir_path, time_range, window = 1000, step = 10):\n",
    "    #Load the data\n",
    "    ai0 = load_sensor(dir_path, \"ai0\", time_range = time_range)\n",
    "    ai1 = load_sensor(dir_path, \"ai1\", time_range = time_range)[\"ai1\"].abs().rolling(window=window).mean().to_numpy()[window-1::step]\n",
    "    ai2 = load_sensor(dir_path, \"ai2\", time_range = time_range)[\"ai2\"].abs().rolling(window=window).mean().to_numpy()[window-1::step]\n",
    "    ai3 = load_sensor(dir_path, \"ai3\", time_range = time_range)[\"ai3\"].abs().rolling(window=window).mean().to_numpy()[window-1::step]\n",
    "    ai4 = load_sensor(dir_path, \"ai4\", time_range = time_range)[\"ai4\"].abs().rolling(window=window).mean().to_numpy()[window-1::step]\n",
    "    \n",
    "    time_axis = ai0['time'].to_numpy()[window-1::step]\n",
    "    \n",
    "    ai0 = ai0[\"ai0\"].abs().rolling(window=window).mean().to_numpy()[window-1::step]\n",
    "    \n",
    "    product = ai0*ai1*ai2*ai3*ai4\n",
    "    \n",
    "    #Plot\n",
    "    plt.figure(figsize=(20,2))\n",
    "    plt.plot(time_axis, product)\n",
    "    plt.xlabel(\"Time (s)\")\n",
    "    plt.title(\"Product of moving means\")\n",
    "    \n",
    "def plot_SD(dir_path, channel, time_range, window = 2000, step = 10):\n",
    "    \n",
    "    #Load the data\n",
    "    data = load_channel_and_time(dir_path, channel)\n",
    "    \n",
    "    #Select the part\n",
    "    start = time_range[0]\n",
    "    end = time_range[1]\n",
    "    data = data[(data[\"time\"] > start) & (data[\"time\"] < end)]\n",
    "    \n",
    "    #Calculate the mean\n",
    "    data[\"SD\"] = data.loc[:, channel].abs().rolling(window=window).std()\n",
    "    \n",
    "    #Plot\n",
    "    plt.figure(figsize=(20,2))\n",
    "    plt.plot(data['time'].to_numpy()[window-1::step], data[\"SD\"].to_numpy()[window-1::step], label = \"Standard deviation\", color = \"red\")\n",
    "    plt.legend(loc = \"upper right\")\n",
    "    plt.xlabel(\"Time (s)\")\n",
    "    plt.title(\"Sensor {}'s moving standard deviation\".format(channel))\n",
    "    \n",
    "    %reset -f in\n",
    "\n",
    "\n",
    "def plot_product_SD(dir_path, time_range, window = 1000, step = 10):\n",
    "    #Load the data\n",
    "    ai0 = load_sensor(dir_path, \"ai0\", time_range = time_range)\n",
    "    ai1 = load_sensor(dir_path, \"ai1\", time_range = time_range)[\"ai1\"].rolling(window=window).std().to_numpy()[window-1::step]\n",
    "    ai2 = load_sensor(dir_path, \"ai2\", time_range = time_range)[\"ai2\"].rolling(window=window).std().to_numpy()[window-1::step]\n",
    "    ai3 = load_sensor(dir_path, \"ai3\", time_range = time_range)[\"ai3\"].rolling(window=window).std().to_numpy()[window-1::step]\n",
    "    ai4 = load_sensor(dir_path, \"ai4\", time_range = time_range)[\"ai4\"].rolling(window=window).std().to_numpy()[window-1::step]\n",
    "    \n",
    "    time_axis = ai0['time'].to_numpy()[window-1::step]\n",
    "    \n",
    "    ai0 = ai0[\"ai0\"].rolling(window=window).std().to_numpy()[window-1::step]\n",
    "    \n",
    "    product = ai0*ai1*ai2*ai3*ai4\n",
    "    \n",
    "    #Plot\n",
    "    plt.figure(figsize=(20,2))\n",
    "    plt.plot(time_axis, product, color = \"red\")\n",
    "    plt.xlabel(\"Time (s)\")\n",
    "    plt.title(\"Product of moving standard deviations\")"
   ]
  },
  {
   "cell_type": "markdown",
   "metadata": {},
   "source": [
    "## 1. Visualization"
   ]
  },
  {
   "cell_type": "markdown",
   "metadata": {},
   "source": [
    "### 1.1 Mean"
   ]
  },
  {
   "cell_type": "markdown",
   "metadata": {},
   "source": [
    "#### Training (-450, -350)"
   ]
  },
  {
   "cell_type": "code",
   "execution_count": 29,
   "metadata": {
    "collapsed": true
   },
   "outputs": [
    {
     "name": "stdout",
     "output_type": "stream",
     "text": [
      "Flushing input history\n"
     ]
    },
    {
     "data": {
      "image/png": "[encoded data removed]",
      "text/plain": [
       "<Figure size 1440x144 with 1 Axes>"
      ]
     },
     "metadata": {
      "needs_background": "light"
     },
     "output_type": "display_data"
    }
   ],
   "source": [
    "plot_moving_mean(\"./data/Ramp28/\", \"ai4\", time_range = (-450, -350), window = 2000, step = 10)"
   ]
  },
  {
   "cell_type": "code",
   "execution_count": 32,
   "metadata": {
    "collapsed": true
   },
   "outputs": [
    {
     "name": "stdout",
     "output_type": "stream",
     "text": [
      "Flushing input history\n",
      "Flushing input history\n",
      "Flushing input history\n",
      "Flushing input history\n",
      "Flushing input history\n"
     ]
    },
    {
     "data": {
      "image/png": "[encoded data removed]",
      "text/plain": [
       "<Figure size 1440x144 with 1 Axes>"
      ]
     },
     "metadata": {
      "needs_background": "light"
     },
     "output_type": "display_data"
    }
   ],
   "source": [
    "plot_product_mean(\"./data/Ramp28/\", time_range = (-450, -350), window = 2000)"
   ]
  },
  {
   "cell_type": "markdown",
   "metadata": {},
   "source": [
    "#### Testing (-40, -0)"
   ]
  },
  {
   "cell_type": "code",
   "execution_count": 50,
   "metadata": {
    "collapsed": true
   },
   "outputs": [
    {
     "name": "stdout",
     "output_type": "stream",
     "text": [
      "Flushing input history\n"
     ]
    },
    {
     "data": {
      "image/png": "[encoded data removed]",
      "text/plain": [
       "<Figure size 1440x144 with 1 Axes>"
      ]
     },
     "metadata": {
      "needs_background": "light"
     },
     "output_type": "display_data"
    }
   ],
   "source": [
    "plot_moving_mean(\"./data/Ramp28/\", \"ai4\", time_range = (-40, 0), window = 2000, step = 10)"
   ]
  },
  {
   "cell_type": "code",
   "execution_count": 51,
   "metadata": {
    "collapsed": true
   },
   "outputs": [
    {
     "name": "stdout",
     "output_type": "stream",
     "text": [
      "Flushing input history\n",
      "Flushing input history\n",
      "Flushing input history\n",
      "Flushing input history\n",
      "Flushing input history\n"
     ]
    },
    {
     "data": {
      "image/png": "[encoded data removed]",
      "text/plain": [
       "<Figure size 1440x144 with 1 Axes>"
      ]
     },
     "metadata": {
      "needs_background": "light"
     },
     "output_type": "display_data"
    }
   ],
   "source": [
    "plot_product_mean(\"./data/Ramp28/\", time_range = (-40, 0), window = 2000)"
   ]
  },
  {
   "cell_type": "markdown",
   "metadata": {},
   "source": [
    "### 1.2 Standard deviation"
   ]
  },
  {
   "cell_type": "markdown",
   "metadata": {},
   "source": [
    "#### Training (-450, -350)"
   ]
  },
  {
   "cell_type": "code",
   "execution_count": 66,
   "metadata": {
    "collapsed": true
   },
   "outputs": [
    {
     "name": "stdout",
     "output_type": "stream",
     "text": [
      "Flushing input history\n"
     ]
    },
    {
     "data": {
      "image/png": "[encoded data removed]",
      "text/plain": [
       "<Figure size 1440x144 with 1 Axes>"
      ]
     },
     "metadata": {
      "needs_background": "light"
     },
     "output_type": "display_data"
    }
   ],
   "source": [
    "plot_SD(\"./data/Ramp28/\", \"ai4\", time_range = (-450, -350), window = 2000, step = 10)"
   ]
  },
  {
   "cell_type": "code",
   "execution_count": 43,
   "metadata": {
    "collapsed": true
   },
   "outputs": [
    {
     "name": "stdout",
     "output_type": "stream",
     "text": [
      "Flushing input history\n",
      "Flushing input history\n",
      "Flushing input history\n",
      "Flushing input history\n",
      "Flushing input history\n"
     ]
    },
    {
     "data": {
      "image/png": "[encoded data removed]",
      "text/plain": [
       "<Figure size 1440x144 with 1 Axes>"
      ]
     },
     "metadata": {
      "needs_background": "light"
     },
     "output_type": "display_data"
    }
   ],
   "source": [
    "plot_product_SD(\"./data/Ramp28/\", time_range = (-450, -350), window = 2000)"
   ]
  },
  {
   "cell_type": "markdown",
   "metadata": {},
   "source": [
    "#### Testing (-40, -0)"
   ]
  },
  {
   "cell_type": "code",
   "execution_count": 60,
   "metadata": {
    "collapsed": true
   },
   "outputs": [
    {
     "name": "stdout",
     "output_type": "stream",
     "text": [
      "Flushing input history\n"
     ]
    },
    {
     "data": {
      "image/png": "[encoded data removed]",
      "text/plain": [
       "<Figure size 1440x144 with 1 Axes>"
      ]
     },
     "metadata": {
      "needs_background": "light"
     },
     "output_type": "display_data"
    }
   ],
   "source": [
    "plot_SD(\"./data/Ramp28/\", \"ai4\", time_range = (-40, 0), window = 2000, step = 10)"
   ]
  },
  {
   "cell_type": "code",
   "execution_count": 61,
   "metadata": {
    "collapsed": true
   },
   "outputs": [
    {
     "name": "stdout",
     "output_type": "stream",
     "text": [
      "Flushing input history\n",
      "Flushing input history\n",
      "Flushing input history\n",
      "Flushing input history\n",
      "Flushing input history\n"
     ]
    },
    {
     "data": {
      "image/png": "[encoded data removed]",
      "text/plain": [
       "<Figure size 1440x144 with 1 Axes>"
      ]
     },
     "metadata": {
      "needs_background": "light"
     },
     "output_type": "display_data"
    }
   ],
   "source": [
    "plot_product_SD(\"./data/Ramp28/\", time_range = (-40, 0), window = 2000)"
   ]
  },
  {
   "cell_type": "markdown",
   "metadata": {},
   "source": [
    "## 2. Produce training & testing data"
   ]
  },
  {
   "cell_type": "code",
   "execution_count": 3,
   "metadata": {},
   "outputs": [],
   "source": [
    "def generate_mean_data(dir_path, time_range, window = 2000, step = 10):\n",
    "    #Load the data\n",
    "    ai0 = load_sensor(dir_path, \"ai0\", time_range = time_range)[\"ai0\"].abs().rolling(window=window).mean().to_numpy()[window-1::step]\n",
    "    ai1 = load_sensor(dir_path, \"ai1\", time_range = time_range)[\"ai1\"].abs().rolling(window=window).mean().to_numpy()[window-1::step]\n",
    "    ai2 = load_sensor(dir_path, \"ai2\", time_range = time_range)[\"ai2\"].abs().rolling(window=window).mean().to_numpy()[window-1::step]\n",
    "    ai3 = load_sensor(dir_path, \"ai3\", time_range = time_range)[\"ai3\"].abs().rolling(window=window).mean().to_numpy()[window-1::step]\n",
    "    ai4 = load_sensor(dir_path, \"ai4\", time_range = time_range)[\"ai4\"].abs().rolling(window=window).mean().to_numpy()[window-1::step]\n",
    "    \n",
    "    #Calculate the product\n",
    "    product = ai0*ai1*ai2*ai3*ai4\n",
    "    \n",
    "    #Stack them together\n",
    "    all_mean = np.vstack((ai0,ai1,ai2,ai3,ai4, product)).transpose()\n",
    "    \n",
    "    %reset -f in\n",
    "    \n",
    "    return all_mean\n",
    "\n",
    "def generate_sd_data(dir_path, time_range, window = 2000, step = 10):\n",
    "    #Load the data\n",
    "    ai0 = load_sensor(dir_path, \"ai0\", time_range = time_range)[\"ai0\"].rolling(window=window).std().to_numpy()[window-1::step]\n",
    "    ai1 = load_sensor(dir_path, \"ai1\", time_range = time_range)[\"ai1\"].rolling(window=window).std().to_numpy()[window-1::step]\n",
    "    ai2 = load_sensor(dir_path, \"ai2\", time_range = time_range)[\"ai2\"].rolling(window=window).std().to_numpy()[window-1::step]\n",
    "    ai3 = load_sensor(dir_path, \"ai3\", time_range = time_range)[\"ai3\"].rolling(window=window).std().to_numpy()[window-1::step]\n",
    "    ai4 = load_sensor(dir_path, \"ai4\", time_range = time_range)[\"ai4\"].rolling(window=window).std().to_numpy()[window-1::step]\n",
    "    \n",
    "    #Calculate the product\n",
    "    product = ai0*ai1*ai2*ai3*ai4\n",
    "    \n",
    "    #Stack them together\n",
    "    all_sd = np.vstack((ai0,ai1,ai2,ai3,ai4, product)).transpose()\n",
    "    \n",
    "    %reset -f in\n",
    "    \n",
    "    return all_sd\n",
    "\n",
    "def load_time_label(dir_path, time_range, window = 2000, step = 10):\n",
    "    \n",
    "    time_label =  np.load(dir_path + \"time.npy\")\n",
    "    \n",
    "    start = min(time_label)\n",
    "    end = max(time_label)\n",
    "    \n",
    "    if time_range:\n",
    "        start = time_range[0]\n",
    "        end = time_range[1]\n",
    "    \n",
    "    \n",
    "    time_label = time_label[(time_label > start) & (time_label < end)][window-1::step]\n",
    "    \n",
    "    %reset -f in\n",
    "    \n",
    "    return time_label\n",
    "    \n",
    "\n",
    "def generate_data(dir_path, time_range, window = 2000, step = 10):\n",
    "    \n",
    "    moving_mean = generate_mean_data(dir_path, time_range, window = 2000, step = 10)\n",
    "    moving_sd = generate_sd_data(dir_path, time_range, window = 2000, step = 10)\n",
    "    time_label = load_time_label(dir_path, time_range, window = 2000, step = 10)\n",
    "    \n",
    "    all_data = np.concatenate((moving_mean, moving_sd), axis = 1)\n",
    "    \n",
    "    %reset -f in\n",
    "    \n",
    "    return all_data, time_label"
   ]
  },
  {
   "cell_type": "code",
   "execution_count": 70,
   "metadata": {
    "collapsed": true
   },
   "outputs": [
    {
     "name": "stdout",
     "output_type": "stream",
     "text": [
      "Flushing input history\n",
      "Flushing input history\n",
      "Flushing input history\n",
      "Flushing input history\n",
      "Flushing input history\n",
      "Flushing input history\n",
      "Flushing input history\n",
      "Flushing input history\n",
      "Flushing input history\n",
      "Flushing input history\n",
      "Flushing input history\n",
      "Flushing input history\n",
      "Flushing input history\n",
      "Flushing input history\n",
      "Flushing input history\n",
      "Flushing input history\n",
      "Flushing input history\n",
      "Flushing input history\n",
      "Flushing input history\n",
      "Flushing input history\n",
      "Flushing input history\n",
      "Flushing input history\n",
      "Flushing input history\n",
      "Flushing input history\n",
      "Flushing input history\n",
      "Flushing input history\n",
      "Flushing input history\n",
      "Flushing input history\n",
      "X_train's shape:  (999800, 12)\n",
      "X_test's shape:  (499800, 12)\n"
     ]
    }
   ],
   "source": [
    "X_train, train_time = generate_data(\"./data/Ramp28/\", time_range = (-450, -350), window = 2000, step = 10)\n",
    "X_test, test_time = generate_data(\"./data/Ramp28/\", time_range = (-50, 0), window = 2000, step = 10)\n",
    "print(\"X_train's shape: \", X_train.shape)\n",
    "print(\"X_test's shape: \", X_test.shape)"
   ]
  },
  {
   "cell_type": "code",
   "execution_count": 71,
   "metadata": {},
   "outputs": [],
   "source": [
    "from sklearn.preprocessing import MinMaxScaler\n",
    "\n",
    "scaler = MinMaxScaler()\n",
    "\n",
    "scaler.fit(X_train)\n",
    "\n",
    "X_train = scaler.transform(X_train)\n",
    "\n",
    "X_test = scaler.transform(X_test)"
   ]
  },
  {
   "cell_type": "code",
   "execution_count": 72,
   "metadata": {
    "collapsed": true
   },
   "outputs": [
    {
     "name": "stdout",
     "output_type": "stream",
     "text": [
      "Using Keras version:  2.3.1\n",
      "Model: \"sequential_1\"\n",
      "_________________________________________________________________\n",
      "Layer (type)                 Output Shape              Param #   \n",
      "=================================================================\n",
      "dense_1 (Dense)              (None, 6)                 78        \n",
      "_________________________________________________________________\n",
      "dense_2 (Dense)              (None, 3)                 21        \n",
      "_________________________________________________________________\n",
      "dense_3 (Dense)              (None, 6)                 24        \n",
      "_________________________________________________________________\n",
      "dense_4 (Dense)              (None, 12)                84        \n",
      "=================================================================\n",
      "Total params: 207\n",
      "Trainable params: 207\n",
      "Non-trainable params: 0\n",
      "_________________________________________________________________\n"
     ]
    }
   ],
   "source": [
    "#================BUILD THE MODEL====================\n",
    "print(\"Using Keras version: \", keras.__version__)\n",
    "\n",
    "# Simple model\n",
    "model = models.Sequential()\n",
    "\n",
    "model.add(Dense(6, activation = 'elu', kernel_initializer='glorot_uniform',\n",
    "                kernel_regularizer=regularizers.l2(0.0),\n",
    "                input_dim=X_train.shape[1]))\n",
    "\n",
    "model.add(Dense(3,activation='elu',\n",
    "                kernel_initializer='glorot_uniform'))\n",
    "\n",
    "model.add(Dense(6,activation='elu',\n",
    "                kernel_initializer='glorot_uniform'))\n",
    "\n",
    "model.add(Dense(X_train.shape[1],\n",
    "                kernel_initializer='glorot_uniform'))\n",
    "\n",
    "model.compile(loss='mse',optimizer='adam')\n",
    "\n",
    "model.summary()"
   ]
  },
  {
   "cell_type": "code",
   "execution_count": 73,
   "metadata": {
    "collapsed": true
   },
   "outputs": [
    {
     "name": "stdout",
     "output_type": "stream",
     "text": [
      "Train on 899820 samples, validate on 99980 samples\n",
      "Epoch 1/50\n",
      "899820/899820 [==============================] - 7s 8us/step - loss: 2.7899e-04 - val_loss: 4.9414e-05\n",
      "Epoch 2/50\n",
      "899820/899820 [==============================] - 6s 7us/step - loss: 8.2209e-05 - val_loss: 3.1146e-05\n",
      "Epoch 3/50\n",
      "899820/899820 [==============================] - 6s 7us/step - loss: 7.3286e-05 - val_loss: 3.0514e-05\n",
      "Epoch 4/50\n",
      "899820/899820 [==============================] - 6s 7us/step - loss: 7.0549e-05 - val_loss: 3.0578e-05\n",
      "Epoch 5/50\n",
      "899820/899820 [==============================] - 6s 7us/step - loss: 6.6148e-05 - val_loss: 2.9071e-05\n",
      "Epoch 6/50\n",
      "899820/899820 [==============================] - 5s 6us/step - loss: 5.9381e-05 - val_loss: 2.8705e-05\n",
      "Epoch 7/50\n",
      "899820/899820 [==============================] - 6s 6us/step - loss: 5.4463e-05 - val_loss: 2.7779e-05\n",
      "Epoch 8/50\n",
      "899820/899820 [==============================] - 6s 6us/step - loss: 5.2683e-05 - val_loss: 2.7106e-05\n",
      "Epoch 9/50\n",
      "899820/899820 [==============================] - 6s 7us/step - loss: 5.1975e-05 - val_loss: 2.6992e-05\n",
      "Epoch 10/50\n",
      "899820/899820 [==============================] - 6s 6us/step - loss: 5.1726e-05 - val_loss: 2.7250e-05\n",
      "Epoch 11/50\n",
      "899820/899820 [==============================] - 6s 7us/step - loss: 5.1502e-05 - val_loss: 2.6819e-05\n",
      "Epoch 12/50\n",
      "899820/899820 [==============================] - 6s 7us/step - loss: 5.1220e-05 - val_loss: 2.7476e-05\n",
      "Epoch 13/50\n",
      "899820/899820 [==============================] - 6s 7us/step - loss: 5.1001e-05 - val_loss: 2.6302e-05\n",
      "Epoch 14/50\n",
      "899820/899820 [==============================] - 6s 7us/step - loss: 5.0777e-05 - val_loss: 2.6837e-05\n",
      "Epoch 15/50\n",
      "899820/899820 [==============================] - 5s 6us/step - loss: 5.0560e-05 - val_loss: 2.7284e-05\n",
      "Epoch 16/50\n",
      "899820/899820 [==============================] - 6s 7us/step - loss: 5.0315e-05 - val_loss: 2.7144e-05\n",
      "Epoch 17/50\n",
      "899820/899820 [==============================] - 6s 7us/step - loss: 5.0002e-05 - val_loss: 2.6758e-05\n",
      "Epoch 18/50\n",
      "899820/899820 [==============================] - 6s 7us/step - loss: 4.9666e-05 - val_loss: 2.6934e-05\n",
      "Epoch 19/50\n",
      "899820/899820 [==============================] - 6s 7us/step - loss: 4.9229e-05 - val_loss: 2.7030e-05\n",
      "Epoch 20/50\n",
      "899820/899820 [==============================] - 6s 7us/step - loss: 4.8751e-05 - val_loss: 2.7127e-05\n",
      "Epoch 21/50\n",
      "899820/899820 [==============================] - 6s 7us/step - loss: 4.8125e-05 - val_loss: 2.6839e-05\n",
      "Epoch 22/50\n",
      "899820/899820 [==============================] - 6s 7us/step - loss: 4.7419e-05 - val_loss: 2.6222e-05\n",
      "Epoch 23/50\n",
      "899820/899820 [==============================] - 6s 7us/step - loss: 4.6587e-05 - val_loss: 2.7549e-05\n",
      "Epoch 24/50\n",
      "899820/899820 [==============================] - 7s 7us/step - loss: 4.5666e-05 - val_loss: 2.5465e-05\n",
      "Epoch 25/50\n",
      "899820/899820 [==============================] - 6s 7us/step - loss: 4.4774e-05 - val_loss: 2.6174e-05\n",
      "Epoch 26/50\n",
      "899820/899820 [==============================] - 6s 7us/step - loss: 4.3896e-05 - val_loss: 2.5846e-05\n",
      "Epoch 27/50\n",
      "899820/899820 [==============================] - 6s 6us/step - loss: 4.3057e-05 - val_loss: 2.4856e-05\n",
      "Epoch 28/50\n",
      "899820/899820 [==============================] - 6s 7us/step - loss: 4.2196e-05 - val_loss: 2.4509e-05\n",
      "Epoch 29/50\n",
      "899820/899820 [==============================] - 6s 7us/step - loss: 4.1412e-05 - val_loss: 2.4166e-05\n",
      "Epoch 30/50\n",
      "899820/899820 [==============================] - 6s 7us/step - loss: 4.0646e-05 - val_loss: 2.3491e-05\n",
      "Epoch 31/50\n",
      "899820/899820 [==============================] - 6s 7us/step - loss: 3.9934e-05 - val_loss: 2.3201e-05\n",
      "Epoch 32/50\n",
      "899820/899820 [==============================] - 6s 7us/step - loss: 3.9286e-05 - val_loss: 2.2840e-05\n",
      "Epoch 33/50\n",
      "899820/899820 [==============================] - 6s 7us/step - loss: 3.8758e-05 - val_loss: 2.2533e-05\n",
      "Epoch 34/50\n",
      "899820/899820 [==============================] - 6s 7us/step - loss: 3.8343e-05 - val_loss: 2.2689e-05\n",
      "Epoch 35/50\n",
      "899820/899820 [==============================] - 7s 7us/step - loss: 3.7967e-05 - val_loss: 2.1982e-05\n",
      "Epoch 36/50\n",
      "899820/899820 [==============================] - 6s 7us/step - loss: 3.7679e-05 - val_loss: 2.1009e-05\n",
      "Epoch 37/50\n",
      "899820/899820 [==============================] - 6s 7us/step - loss: 3.7357e-05 - val_loss: 2.2596e-05\n",
      "Epoch 38/50\n",
      "899820/899820 [==============================] - 6s 7us/step - loss: 3.7115e-05 - val_loss: 2.1386e-05\n",
      "Epoch 39/50\n",
      "899820/899820 [==============================] - 6s 6us/step - loss: 3.6808e-05 - val_loss: 2.1229e-05\n",
      "Epoch 40/50\n",
      "899820/899820 [==============================] - 6s 7us/step - loss: 3.6471e-05 - val_loss: 2.0734e-05\n",
      "Epoch 41/50\n",
      "899820/899820 [==============================] - 6s 7us/step - loss: 3.6148e-05 - val_loss: 2.0360e-05\n",
      "Epoch 42/50\n",
      "899820/899820 [==============================] - 6s 6us/step - loss: 3.5761e-05 - val_loss: 2.0447e-05\n",
      "Epoch 43/50\n",
      "899820/899820 [==============================] - 5s 6us/step - loss: 3.5421e-05 - val_loss: 2.0772e-05\n",
      "Epoch 44/50\n",
      "899820/899820 [==============================] - 5s 6us/step - loss: 3.5090e-05 - val_loss: 1.9696e-05\n",
      "Epoch 45/50\n",
      "899820/899820 [==============================] - 5s 6us/step - loss: 3.4760e-05 - val_loss: 2.0399e-05\n",
      "Epoch 46/50\n",
      "899820/899820 [==============================] - 6s 6us/step - loss: 3.4374e-05 - val_loss: 1.9136e-05\n",
      "Epoch 47/50\n",
      "899820/899820 [==============================] - 6s 7us/step - loss: 3.4068e-05 - val_loss: 1.8850e-05\n",
      "Epoch 48/50\n",
      "899820/899820 [==============================] - 7s 8us/step - loss: 3.3681e-05 - val_loss: 1.8192e-05\n",
      "Epoch 49/50\n",
      "899820/899820 [==============================] - 6s 7us/step - loss: 3.3295e-05 - val_loss: 1.8074e-05\n",
      "Epoch 50/50\n",
      "899820/899820 [==============================] - 6s 6us/step - loss: 3.2882e-05 - val_loss: 1.8019e-05\n"
     ]
    }
   ],
   "source": [
    "# Train model for 100 epochs, batch size of 10: \n",
    "NUM_EPOCHS=50\n",
    "BATCH_SIZE=1028\n",
    "\n",
    "history=model.fit(X_train, X_train,\n",
    "                  batch_size=BATCH_SIZE, \n",
    "                  epochs=NUM_EPOCHS,\n",
    "                  validation_split=0.1,\n",
    "                  verbose = 1)"
   ]
  },
  {
   "cell_type": "code",
   "execution_count": 74,
   "metadata": {},
   "outputs": [],
   "source": [
    "X_pred = model.predict(X_train)\n",
    "scored = pd.DataFrame()\n",
    "scored['Loss_mse'] = np.mean(np.abs(X_pred-X_train), axis = 1)"
   ]
  },
  {
   "cell_type": "code",
   "execution_count": 75,
   "metadata": {},
   "outputs": [],
   "source": [
    "X_pred_test = model.predict(X_test)\n",
    "scored_test = pd.DataFrame()\n",
    "scored_test['Loss_mse'] = np.mean(np.abs(X_pred_test-X_test), axis = 1)"
   ]
  },
  {
   "cell_type": "code",
   "execution_count": 91,
   "metadata": {
    "collapsed": true
   },
   "outputs": [
    {
     "data": {
      "text/plain": [
       "Text(0.5, 0, 'Time (s)')"
      ]
     },
     "execution_count": 91,
     "metadata": {},
     "output_type": "execute_result"
    },
    {
     "data": {
      "image/png": "[encoded data removed]",
      "text/plain": [
       "<Figure size 1440x144 with 1 Axes>"
      ]
     },
     "metadata": {
      "needs_background": "light"
     },
     "output_type": "display_data"
    }
   ],
   "source": [
    "plt.figure(figsize=(20,2))\n",
    "plt.plot(train_time, scored['Loss_mse'])\n",
    "plt.ylim([0, 0.25])\n",
    "plt.xlabel(\"Time (s)\")"
   ]
  },
  {
   "cell_type": "code",
   "execution_count": 92,
   "metadata": {
    "collapsed": true
   },
   "outputs": [
    {
     "data": {
      "text/plain": [
       "Text(0.5, 0, 'Time (s)')"
      ]
     },
     "execution_count": 92,
     "metadata": {},
     "output_type": "execute_result"
    },
    {
     "data": {
      "image/png": "[encoded data removed]",
      "text/plain": [
       "<Figure size 1440x144 with 1 Axes>"
      ]
     },
     "metadata": {
      "needs_background": "light"
     },
     "output_type": "display_data"
    }
   ],
   "source": [
    "plt.figure(figsize=(20,2))\n",
    "plt.plot(test_time, scored_test['Loss_mse'])\n",
    "plt.ylim([0,0.25])\n",
    "#plt.xlim([-1,0])\n",
    "plt.xlabel(\"Time (s)\")"
   ]
  },
  {
   "cell_type": "markdown",
   "metadata": {},
   "source": [
    "## 3. Testing on other ranges"
   ]
  },
  {
   "cell_type": "markdown",
   "metadata": {},
   "source": [
    "### 3.1 (-150,-50)s"
   ]
  },
  {
   "cell_type": "code",
   "execution_count": 4,
   "metadata": {
    "collapsed": true
   },
   "outputs": [
    {
     "name": "stdout",
     "output_type": "stream",
     "text": [
      "Flushing input history\n",
      "Flushing input history\n",
      "Flushing input history\n",
      "Flushing input history\n",
      "Flushing input history\n",
      "Flushing input history\n",
      "Flushing input history\n",
      "Flushing input history\n",
      "Flushing input history\n",
      "Flushing input history\n",
      "Flushing input history\n",
      "Flushing input history\n",
      "Flushing input history\n",
      "Flushing input history\n",
      "Flushing input history\n",
      "Flushing input history\n",
      "Flushing input history\n",
      "Flushing input history\n",
      "Flushing input history\n",
      "Flushing input history\n",
      "Flushing input history\n",
      "Flushing input history\n",
      "Flushing input history\n",
      "Flushing input history\n",
      "Flushing input history\n",
      "Flushing input history\n",
      "Flushing input history\n",
      "Flushing input history\n",
      "X_train's shape:  (999800, 12)\n",
      "X_test's shape:  (999800, 12)\n"
     ]
    }
   ],
   "source": [
    "X_train, train_time = generate_data(\"./data/Ramp28/\", time_range = (-450, -350), window = 2000, step = 10)\n",
    "X_test, test_time = generate_data(\"./data/Ramp28/\", time_range = (-150, -50), window = 2000, step = 10)\n",
    "print(\"X_train's shape: \", X_train.shape)\n",
    "print(\"X_test's shape: \", X_test.shape)"
   ]
  },
  {
   "cell_type": "code",
   "execution_count": 5,
   "metadata": {},
   "outputs": [],
   "source": [
    "from sklearn.preprocessing import MinMaxScaler\n",
    "\n",
    "scaler = MinMaxScaler()\n",
    "\n",
    "scaler.fit(X_train)\n",
    "\n",
    "X_train = scaler.transform(X_train)\n",
    "\n",
    "X_test = scaler.transform(X_test)"
   ]
  },
  {
   "cell_type": "code",
   "execution_count": 6,
   "metadata": {
    "collapsed": true
   },
   "outputs": [
    {
     "name": "stdout",
     "output_type": "stream",
     "text": [
      "Using Keras version:  2.3.1\n",
      "Model: \"sequential_1\"\n",
      "_________________________________________________________________\n",
      "Layer (type)                 Output Shape              Param #   \n",
      "=================================================================\n",
      "dense_1 (Dense)              (None, 6)                 78        \n",
      "_________________________________________________________________\n",
      "dense_2 (Dense)              (None, 3)                 21        \n",
      "_________________________________________________________________\n",
      "dense_3 (Dense)              (None, 6)                 24        \n",
      "_________________________________________________________________\n",
      "dense_4 (Dense)              (None, 12)                84        \n",
      "=================================================================\n",
      "Total params: 207\n",
      "Trainable params: 207\n",
      "Non-trainable params: 0\n",
      "_________________________________________________________________\n"
     ]
    }
   ],
   "source": [
    "#================BUILD THE MODEL====================\n",
    "print(\"Using Keras version: \", keras.__version__)\n",
    "\n",
    "# Simple model\n",
    "model = models.Sequential()\n",
    "\n",
    "model.add(Dense(6, activation = 'elu', kernel_initializer='glorot_uniform',\n",
    "                kernel_regularizer=regularizers.l2(0.0),\n",
    "                input_dim=X_train.shape[1]))\n",
    "\n",
    "model.add(Dense(3,activation='elu',\n",
    "                kernel_initializer='glorot_uniform'))\n",
    "\n",
    "model.add(Dense(6,activation='elu',\n",
    "                kernel_initializer='glorot_uniform'))\n",
    "\n",
    "model.add(Dense(X_train.shape[1],\n",
    "                kernel_initializer='glorot_uniform'))\n",
    "\n",
    "model.compile(loss='mse',optimizer='adam')\n",
    "\n",
    "model.summary()"
   ]
  },
  {
   "cell_type": "code",
   "execution_count": 7,
   "metadata": {
    "collapsed": true
   },
   "outputs": [
    {
     "name": "stdout",
     "output_type": "stream",
     "text": [
      "Train on 899820 samples, validate on 99980 samples\n",
      "Epoch 1/50\n",
      "899820/899820 [==============================] - 6s 6us/step - loss: 2.7540e-04 - val_loss: 6.8683e-05\n",
      "Epoch 2/50\n",
      "899820/899820 [==============================] - 4s 4us/step - loss: 8.9744e-05 - val_loss: 3.6194e-05\n",
      "Epoch 3/50\n",
      "899820/899820 [==============================] - 4s 5us/step - loss: 7.2771e-05 - val_loss: 2.9976e-05\n",
      "Epoch 4/50\n",
      "899820/899820 [==============================] - 4s 4us/step - loss: 6.3820e-05 - val_loss: 2.9190e-05\n",
      "Epoch 5/50\n",
      "899820/899820 [==============================] - 5s 5us/step - loss: 5.7830e-05 - val_loss: 2.8190e-05\n",
      "Epoch 6/50\n",
      "899820/899820 [==============================] - 4s 4us/step - loss: 5.4734e-05 - val_loss: 2.8062e-05\n",
      "Epoch 7/50\n",
      "899820/899820 [==============================] - 4s 5us/step - loss: 5.3211e-05 - val_loss: 2.7737e-05\n",
      "Epoch 8/50\n",
      "899820/899820 [==============================] - 4s 5us/step - loss: 5.2621e-05 - val_loss: 2.7973e-05\n",
      "Epoch 9/50\n",
      "899820/899820 [==============================] - 4s 5us/step - loss: 5.2132e-05 - val_loss: 2.7539e-05\n",
      "Epoch 10/50\n",
      "899820/899820 [==============================] - 4s 4us/step - loss: 5.1640e-05 - val_loss: 2.7553e-05\n",
      "Epoch 11/50\n",
      "899820/899820 [==============================] - 4s 4us/step - loss: 5.0751e-05 - val_loss: 2.8185e-05\n",
      "Epoch 12/50\n",
      "899820/899820 [==============================] - 5s 5us/step - loss: 4.8963e-05 - val_loss: 2.9803e-05\n",
      "Epoch 13/50\n",
      "899820/899820 [==============================] - 4s 5us/step - loss: 4.6685e-05 - val_loss: 2.7855e-05\n",
      "Epoch 14/50\n",
      "899820/899820 [==============================] - 4s 5us/step - loss: 4.4824e-05 - val_loss: 2.7426e-05\n",
      "Epoch 15/50\n",
      "899820/899820 [==============================] - 4s 5us/step - loss: 4.3509e-05 - val_loss: 2.8074e-05\n",
      "Epoch 16/50\n",
      "899820/899820 [==============================] - 4s 5us/step - loss: 4.2641e-05 - val_loss: 2.8304e-05\n",
      "Epoch 17/50\n",
      "899820/899820 [==============================] - 4s 5us/step - loss: 4.2094e-05 - val_loss: 2.6639e-05\n",
      "Epoch 18/50\n",
      "899820/899820 [==============================] - 4s 5us/step - loss: 4.1726e-05 - val_loss: 2.7416e-05\n",
      "Epoch 19/50\n",
      "899820/899820 [==============================] - 4s 5us/step - loss: 4.1441e-05 - val_loss: 2.6499e-05\n",
      "Epoch 20/50\n",
      "899820/899820 [==============================] - 4s 4us/step - loss: 4.1235e-05 - val_loss: 2.6208e-05\n",
      "Epoch 21/50\n",
      "899820/899820 [==============================] - 4s 5us/step - loss: 4.1091e-05 - val_loss: 2.5976e-05\n",
      "Epoch 22/50\n",
      "899820/899820 [==============================] - 4s 4us/step - loss: 4.0967e-05 - val_loss: 2.6757e-05\n",
      "Epoch 23/50\n",
      "899820/899820 [==============================] - 4s 5us/step - loss: 4.0833e-05 - val_loss: 2.6724e-05\n",
      "Epoch 24/50\n",
      "899820/899820 [==============================] - 4s 5us/step - loss: 4.0829e-05 - val_loss: 2.6646e-05\n",
      "Epoch 25/50\n",
      "899820/899820 [==============================] - 4s 5us/step - loss: 4.0694e-05 - val_loss: 2.5760e-05\n",
      "Epoch 26/50\n",
      "899820/899820 [==============================] - 4s 5us/step - loss: 4.0625e-05 - val_loss: 2.5247e-05\n",
      "Epoch 27/50\n",
      "899820/899820 [==============================] - 4s 5us/step - loss: 4.0567e-05 - val_loss: 2.6378e-05\n",
      "Epoch 28/50\n",
      "899820/899820 [==============================] - 4s 4us/step - loss: 4.0540e-05 - val_loss: 2.6041e-05\n",
      "Epoch 29/50\n",
      "899820/899820 [==============================] - 4s 5us/step - loss: 4.0461e-05 - val_loss: 2.5322e-05\n",
      "Epoch 30/50\n",
      "899820/899820 [==============================] - 4s 5us/step - loss: 4.0381e-05 - val_loss: 2.5373e-05\n",
      "Epoch 31/50\n",
      "899820/899820 [==============================] - 4s 4us/step - loss: 4.0324e-05 - val_loss: 2.6245e-05\n",
      "Epoch 32/50\n",
      "899820/899820 [==============================] - 4s 5us/step - loss: 4.0257e-05 - val_loss: 2.5368e-05\n",
      "Epoch 33/50\n",
      "899820/899820 [==============================] - 4s 5us/step - loss: 4.0225e-05 - val_loss: 2.5648e-05\n",
      "Epoch 34/50\n",
      "899820/899820 [==============================] - 5s 5us/step - loss: 4.0187e-05 - val_loss: 2.6213e-05\n",
      "Epoch 35/50\n",
      "899820/899820 [==============================] - 4s 5us/step - loss: 4.0120e-05 - val_loss: 2.5564e-05\n",
      "Epoch 36/50\n",
      "899820/899820 [==============================] - 4s 5us/step - loss: 4.0058e-05 - val_loss: 2.6531e-05\n",
      "Epoch 37/50\n",
      "899820/899820 [==============================] - 4s 5us/step - loss: 3.9958e-05 - val_loss: 2.6306e-05\n",
      "Epoch 38/50\n",
      "899820/899820 [==============================] - 4s 4us/step - loss: 3.9935e-05 - val_loss: 2.5814e-05\n",
      "Epoch 39/50\n",
      "899820/899820 [==============================] - 4s 5us/step - loss: 3.9834e-05 - val_loss: 2.5711e-05\n",
      "Epoch 40/50\n",
      "899820/899820 [==============================] - 4s 5us/step - loss: 3.9733e-05 - val_loss: 2.5219e-05\n",
      "Epoch 41/50\n",
      "899820/899820 [==============================] - 4s 5us/step - loss: 3.9581e-05 - val_loss: 2.5097e-05\n",
      "Epoch 42/50\n",
      "899820/899820 [==============================] - 4s 5us/step - loss: 3.9379e-05 - val_loss: 2.5044e-05\n",
      "Epoch 43/50\n",
      "899820/899820 [==============================] - 4s 5us/step - loss: 3.9147e-05 - val_loss: 2.6283e-05\n",
      "Epoch 44/50\n",
      "899820/899820 [==============================] - 4s 5us/step - loss: 3.8854e-05 - val_loss: 2.4571e-05\n",
      "Epoch 45/50\n",
      "899820/899820 [==============================] - 4s 4us/step - loss: 3.8499e-05 - val_loss: 2.6089e-05\n",
      "Epoch 46/50\n",
      "899820/899820 [==============================] - 5s 5us/step - loss: 3.8161e-05 - val_loss: 2.7122e-05\n",
      "Epoch 47/50\n",
      "899820/899820 [==============================] - 4s 5us/step - loss: 3.7878e-05 - val_loss: 2.5046e-05\n",
      "Epoch 48/50\n",
      "899820/899820 [==============================] - 4s 5us/step - loss: 3.7614e-05 - val_loss: 2.5553e-05\n",
      "Epoch 49/50\n",
      "899820/899820 [==============================] - 4s 5us/step - loss: 3.7435e-05 - val_loss: 2.5830e-05\n",
      "Epoch 50/50\n",
      "899820/899820 [==============================] - 5s 5us/step - loss: 3.7351e-05 - val_loss: 2.5226e-05\n"
     ]
    }
   ],
   "source": [
    "# Train model for 100 epochs, batch size of 10: \n",
    "NUM_EPOCHS=50\n",
    "BATCH_SIZE=1028\n",
    "\n",
    "history=model.fit(X_train, X_train,\n",
    "                  batch_size=BATCH_SIZE, \n",
    "                  epochs=NUM_EPOCHS,\n",
    "                  validation_split=0.1,\n",
    "                  verbose = 1)"
   ]
  },
  {
   "cell_type": "code",
   "execution_count": 8,
   "metadata": {},
   "outputs": [],
   "source": [
    "X_pred = model.predict(X_train)\n",
    "scored = pd.DataFrame()\n",
    "scored['Loss_mse'] = np.mean(np.abs(X_pred-X_train), axis = 1)"
   ]
  },
  {
   "cell_type": "code",
   "execution_count": 9,
   "metadata": {},
   "outputs": [],
   "source": [
    "X_pred_test = model.predict(X_test)\n",
    "scored_test = pd.DataFrame()\n",
    "scored_test['Loss_mse'] = np.mean(np.abs(X_pred_test-X_test), axis = 1)"
   ]
  },
  {
   "cell_type": "code",
   "execution_count": 10,
   "metadata": {
    "collapsed": true
   },
   "outputs": [
    {
     "data": {
      "text/plain": [
       "Text(0.5, 0, 'Time (s)')"
      ]
     },
     "execution_count": 10,
     "metadata": {},
     "output_type": "execute_result"
    },
    {
     "data": {
      "image/png": "[encoded data removed]",
      "text/plain": [
       "<Figure size 1440x144 with 1 Axes>"
      ]
     },
     "metadata": {
      "needs_background": "light"
     },
     "output_type": "display_data"
    }
   ],
   "source": [
    "plt.figure(figsize=(20,2))\n",
    "plt.plot(train_time, scored['Loss_mse'])\n",
    "plt.ylim([0, 0.25])\n",
    "plt.xlabel(\"Time (s)\")"
   ]
  },
  {
   "cell_type": "code",
   "execution_count": 11,
   "metadata": {
    "collapsed": true
   },
   "outputs": [
    {
     "data": {
      "text/plain": [
       "Text(0.5, 0, 'Time (s)')"
      ]
     },
     "execution_count": 11,
     "metadata": {},
     "output_type": "execute_result"
    },
    {
     "data": {
      "image/png": "[encoded data removed]",
      "text/plain": [
       "<Figure size 1440x144 with 1 Axes>"
      ]
     },
     "metadata": {
      "needs_background": "light"
     },
     "output_type": "display_data"
    }
   ],
   "source": [
    "plt.figure(figsize=(20,2))\n",
    "plt.plot(test_time, scored_test['Loss_mse'])\n",
    "plt.ylim([0,0.25])\n",
    "#plt.xlim([-1,0])\n",
    "plt.xlabel(\"Time (s)\")"
   ]
  },
  {
   "cell_type": "markdown",
   "metadata": {},
   "source": [
    "### 3.2 (-250,-150)"
   ]
  },
  {
   "cell_type": "code",
   "execution_count": 10,
   "metadata": {
    "collapsed": true
   },
   "outputs": [
    {
     "name": "stdout",
     "output_type": "stream",
     "text": [
      "Flushing input history\n",
      "Flushing input history\n",
      "Flushing input history\n",
      "Flushing input history\n",
      "Flushing input history\n",
      "Flushing input history\n",
      "Flushing input history\n",
      "Flushing input history\n",
      "Flushing input history\n",
      "Flushing input history\n",
      "Flushing input history\n",
      "Flushing input history\n",
      "Flushing input history\n",
      "Flushing input history\n",
      "Flushing input history\n",
      "Flushing input history\n",
      "Flushing input history\n",
      "Flushing input history\n",
      "Flushing input history\n",
      "Flushing input history\n",
      "Flushing input history\n",
      "Flushing input history\n",
      "Flushing input history\n",
      "Flushing input history\n",
      "Flushing input history\n",
      "Flushing input history\n",
      "Flushing input history\n",
      "Flushing input history\n",
      "X_train's shape:  (999800, 12)\n",
      "X_test's shape:  (999800, 12)\n"
     ]
    }
   ],
   "source": [
    "X_train, train_time = generate_data(\"./data/Ramp28/\", time_range = (-450, -350), window = 2000, step = 10)\n",
    "X_test, test_time = generate_data(\"./data/Ramp28/\", time_range = (-250, -150), window = 2000, step = 10)\n",
    "print(\"X_train's shape: \", X_train.shape)\n",
    "print(\"X_test's shape: \", X_test.shape)"
   ]
  },
  {
   "cell_type": "code",
   "execution_count": 11,
   "metadata": {},
   "outputs": [],
   "source": [
    "from sklearn.preprocessing import MinMaxScaler\n",
    "\n",
    "scaler = MinMaxScaler()\n",
    "\n",
    "scaler.fit(X_train)\n",
    "\n",
    "X_train = scaler.transform(X_train)\n",
    "\n",
    "X_test = scaler.transform(X_test)"
   ]
  },
  {
   "cell_type": "code",
   "execution_count": 12,
   "metadata": {
    "collapsed": true
   },
   "outputs": [
    {
     "name": "stdout",
     "output_type": "stream",
     "text": [
      "Using Keras version:  2.3.1\n",
      "Model: \"sequential_1\"\n",
      "_________________________________________________________________\n",
      "Layer (type)                 Output Shape              Param #   \n",
      "=================================================================\n",
      "dense_1 (Dense)              (None, 6)                 78        \n",
      "_________________________________________________________________\n",
      "dense_2 (Dense)              (None, 3)                 21        \n",
      "_________________________________________________________________\n",
      "dense_3 (Dense)              (None, 6)                 24        \n",
      "_________________________________________________________________\n",
      "dense_4 (Dense)              (None, 12)                84        \n",
      "=================================================================\n",
      "Total params: 207\n",
      "Trainable params: 207\n",
      "Non-trainable params: 0\n",
      "_________________________________________________________________\n"
     ]
    }
   ],
   "source": [
    "#================BUILD THE MODEL====================\n",
    "print(\"Using Keras version: \", keras.__version__)\n",
    "\n",
    "# Simple model\n",
    "model = models.Sequential()\n",
    "\n",
    "model.add(Dense(6, activation = 'elu', kernel_initializer='glorot_uniform',\n",
    "                kernel_regularizer=regularizers.l2(0.0),\n",
    "                input_dim=X_train.shape[1]))\n",
    "\n",
    "model.add(Dense(3,activation='elu',\n",
    "                kernel_initializer='glorot_uniform'))\n",
    "\n",
    "model.add(Dense(6,activation='elu',\n",
    "                kernel_initializer='glorot_uniform'))\n",
    "\n",
    "model.add(Dense(X_train.shape[1],\n",
    "                kernel_initializer='glorot_uniform'))\n",
    "\n",
    "model.compile(loss='mse',optimizer='adam')\n",
    "\n",
    "model.summary()"
   ]
  },
  {
   "cell_type": "code",
   "execution_count": 13,
   "metadata": {
    "collapsed": true
   },
   "outputs": [
    {
     "name": "stdout",
     "output_type": "stream",
     "text": [
      "Train on 899820 samples, validate on 99980 samples\n",
      "Epoch 1/50\n",
      "899820/899820 [==============================] - 5s 6us/step - loss: 2.7768e-04 - val_loss: 5.1424e-05\n",
      "Epoch 2/50\n",
      "899820/899820 [==============================] - 4s 4us/step - loss: 7.8137e-05 - val_loss: 3.2173e-05\n",
      "Epoch 3/50\n",
      "899820/899820 [==============================] - 4s 4us/step - loss: 6.8317e-05 - val_loss: 2.9543e-05\n",
      "Epoch 4/50\n",
      "899820/899820 [==============================] - 4s 5us/step - loss: 5.8785e-05 - val_loss: 2.9316e-05\n",
      "Epoch 5/50\n",
      "899820/899820 [==============================] - 4s 5us/step - loss: 5.2923e-05 - val_loss: 2.7992e-05\n",
      "Epoch 6/50\n",
      "899820/899820 [==============================] - 5s 5us/step - loss: 5.1835e-05 - val_loss: 2.6693e-05\n",
      "Epoch 7/50\n",
      "899820/899820 [==============================] - 4s 4us/step - loss: 5.1424e-05 - val_loss: 2.6553e-05\n",
      "Epoch 8/50\n",
      "899820/899820 [==============================] - 4s 5us/step - loss: 5.0953e-05 - val_loss: 2.7400e-05\n",
      "Epoch 9/50\n",
      "899820/899820 [==============================] - 5s 5us/step - loss: 5.0267e-05 - val_loss: 2.7348e-05\n",
      "Epoch 10/50\n",
      "899820/899820 [==============================] - 4s 5us/step - loss: 4.9505e-05 - val_loss: 2.7321e-05\n",
      "Epoch 11/50\n",
      "899820/899820 [==============================] - 4s 5us/step - loss: 4.8250e-05 - val_loss: 2.7752e-05\n",
      "Epoch 12/50\n",
      "899820/899820 [==============================] - 4s 5us/step - loss: 4.6172e-05 - val_loss: 2.6225e-05\n",
      "Epoch 13/50\n",
      "899820/899820 [==============================] - 4s 4us/step - loss: 4.3804e-05 - val_loss: 2.5545e-05\n",
      "Epoch 14/50\n",
      "899820/899820 [==============================] - 4s 4us/step - loss: 4.2122e-05 - val_loss: 2.6315e-05\n",
      "Epoch 15/50\n",
      "899820/899820 [==============================] - 4s 4us/step - loss: 4.1134e-05 - val_loss: 2.6469e-05\n",
      "Epoch 16/50\n",
      "899820/899820 [==============================] - 4s 5us/step - loss: 4.0460e-05 - val_loss: 2.6678e-05\n",
      "Epoch 17/50\n",
      "899820/899820 [==============================] - 5s 6us/step - loss: 3.9954e-05 - val_loss: 2.6291e-05\n",
      "Epoch 18/50\n",
      "899820/899820 [==============================] - 5s 5us/step - loss: 3.9560e-05 - val_loss: 2.4526e-05\n",
      "Epoch 19/50\n",
      "899820/899820 [==============================] - 4s 5us/step - loss: 3.9251e-05 - val_loss: 2.5936e-05\n",
      "Epoch 20/50\n",
      "899820/899820 [==============================] - 4s 5us/step - loss: 3.9047e-05 - val_loss: 2.5738e-05\n",
      "Epoch 21/50\n",
      "899820/899820 [==============================] - 5s 5us/step - loss: 3.8807e-05 - val_loss: 2.5742e-05\n",
      "Epoch 22/50\n",
      "899820/899820 [==============================] - 4s 5us/step - loss: 3.8617e-05 - val_loss: 2.5256e-05\n",
      "Epoch 23/50\n",
      "899820/899820 [==============================] - 4s 4us/step - loss: 3.8453e-05 - val_loss: 2.6003e-05\n",
      "Epoch 24/50\n",
      "899820/899820 [==============================] - 5s 5us/step - loss: 3.8328e-05 - val_loss: 2.6521e-05\n",
      "Epoch 25/50\n",
      "899820/899820 [==============================] - 5s 5us/step - loss: 3.8208e-05 - val_loss: 2.5207e-05\n",
      "Epoch 26/50\n",
      "899820/899820 [==============================] - 5s 5us/step - loss: 3.8072e-05 - val_loss: 2.6797e-05\n",
      "Epoch 27/50\n",
      "899820/899820 [==============================] - 4s 5us/step - loss: 3.7969e-05 - val_loss: 2.4950e-05\n",
      "Epoch 28/50\n",
      "899820/899820 [==============================] - 4s 5us/step - loss: 3.7872e-05 - val_loss: 2.5764e-05\n",
      "Epoch 29/50\n",
      "899820/899820 [==============================] - 5s 6us/step - loss: 3.7793e-05 - val_loss: 2.5721e-05\n",
      "Epoch 30/50\n",
      "899820/899820 [==============================] - 5s 5us/step - loss: 3.7692e-05 - val_loss: 2.6283e-05\n",
      "Epoch 31/50\n",
      "899820/899820 [==============================] - 5s 5us/step - loss: 3.7605e-05 - val_loss: 2.5136e-05\n",
      "Epoch 32/50\n",
      "899820/899820 [==============================] - 4s 5us/step - loss: 3.7549e-05 - val_loss: 2.4564e-05\n",
      "Epoch 33/50\n",
      "899820/899820 [==============================] - 4s 4us/step - loss: 3.7514e-05 - val_loss: 2.4418e-05\n",
      "Epoch 34/50\n",
      "899820/899820 [==============================] - 4s 4us/step - loss: 3.7396e-05 - val_loss: 2.4899e-05\n",
      "Epoch 35/50\n",
      "899820/899820 [==============================] - 5s 5us/step - loss: 3.7339e-05 - val_loss: 2.4751e-05\n",
      "Epoch 36/50\n",
      "899820/899820 [==============================] - 4s 4us/step - loss: 3.7266e-05 - val_loss: 2.4927e-05\n",
      "Epoch 37/50\n",
      "899820/899820 [==============================] - 4s 5us/step - loss: 3.7221e-05 - val_loss: 2.5218e-05\n",
      "Epoch 38/50\n",
      "899820/899820 [==============================] - 5s 6us/step - loss: 3.7197e-05 - val_loss: 2.5274e-05\n",
      "Epoch 39/50\n",
      "899820/899820 [==============================] - 5s 6us/step - loss: 3.7134e-05 - val_loss: 2.5053e-05\n",
      "Epoch 40/50\n",
      "899820/899820 [==============================] - 5s 5us/step - loss: 3.7049e-05 - val_loss: 2.4186e-05\n",
      "Epoch 41/50\n",
      "899820/899820 [==============================] - 4s 5us/step - loss: 3.7012e-05 - val_loss: 2.4212e-05\n",
      "Epoch 42/50\n",
      "899820/899820 [==============================] - 4s 4us/step - loss: 3.6986e-05 - val_loss: 2.4562e-05\n",
      "Epoch 43/50\n",
      "899820/899820 [==============================] - 5s 5us/step - loss: 3.6925e-05 - val_loss: 2.6189e-05\n",
      "Epoch 44/50\n",
      "899820/899820 [==============================] - 5s 5us/step - loss: 3.6853e-05 - val_loss: 2.4658e-05\n",
      "Epoch 45/50\n",
      "899820/899820 [==============================] - 5s 5us/step - loss: 3.6819e-05 - val_loss: 2.4832e-05\n",
      "Epoch 46/50\n",
      "899820/899820 [==============================] - 5s 5us/step - loss: 3.6783e-05 - val_loss: 2.4957e-05\n",
      "Epoch 47/50\n",
      "899820/899820 [==============================] - 5s 5us/step - loss: 3.6735e-05 - val_loss: 2.4435e-05\n",
      "Epoch 48/50\n",
      "899820/899820 [==============================] - 5s 5us/step - loss: 3.6661e-05 - val_loss: 2.5341e-05\n",
      "Epoch 49/50\n",
      "899820/899820 [==============================] - 4s 5us/step - loss: 3.6631e-05 - val_loss: 2.5560e-05\n",
      "Epoch 50/50\n",
      "899820/899820 [==============================] - 4s 5us/step - loss: 3.6578e-05 - val_loss: 2.5264e-05\n"
     ]
    }
   ],
   "source": [
    "# Train model for 100 epochs, batch size of 10: \n",
    "NUM_EPOCHS=50\n",
    "BATCH_SIZE=1028\n",
    "\n",
    "history=model.fit(X_train, X_train,\n",
    "                  batch_size=BATCH_SIZE, \n",
    "                  epochs=NUM_EPOCHS,\n",
    "                  validation_split=0.1,\n",
    "                  verbose = 1)"
   ]
  },
  {
   "cell_type": "code",
   "execution_count": 14,
   "metadata": {},
   "outputs": [],
   "source": [
    "X_pred = model.predict(X_train)\n",
    "scored = pd.DataFrame()\n",
    "scored['Loss_mse'] = np.mean(np.abs(X_pred-X_train), axis = 1)"
   ]
  },
  {
   "cell_type": "code",
   "execution_count": 15,
   "metadata": {},
   "outputs": [],
   "source": [
    "X_pred_test = model.predict(X_test)\n",
    "scored_test = pd.DataFrame()\n",
    "scored_test['Loss_mse'] = np.mean(np.abs(X_pred_test-X_test), axis = 1)"
   ]
  },
  {
   "cell_type": "code",
   "execution_count": 16,
   "metadata": {
    "collapsed": true
   },
   "outputs": [
    {
     "data": {
      "text/plain": [
       "Text(0.5, 0, 'Time (s)')"
      ]
     },
     "execution_count": 16,
     "metadata": {},
     "output_type": "execute_result"
    },
    {
     "data": {
      "image/png": "[encoded data removed]",
      "text/plain": [
       "<Figure size 1440x144 with 1 Axes>"
      ]
     },
     "metadata": {
      "needs_background": "light"
     },
     "output_type": "display_data"
    }
   ],
   "source": [
    "plt.figure(figsize=(20,2))\n",
    "plt.plot(train_time, scored['Loss_mse'])\n",
    "plt.ylim([0, 0.25])\n",
    "plt.xlabel(\"Time (s)\")"
   ]
  },
  {
   "cell_type": "code",
   "execution_count": 17,
   "metadata": {
    "collapsed": true
   },
   "outputs": [
    {
     "data": {
      "text/plain": [
       "Text(0.5, 0, 'Time (s)')"
      ]
     },
     "execution_count": 17,
     "metadata": {},
     "output_type": "execute_result"
    },
    {
     "data": {
      "image/png": "[encoded data removed]",
      "text/plain": [
       "<Figure size 1440x144 with 1 Axes>"
      ]
     },
     "metadata": {
      "needs_background": "light"
     },
     "output_type": "display_data"
    }
   ],
   "source": [
    "plt.figure(figsize=(20,2))\n",
    "plt.plot(test_time, scored_test['Loss_mse'])\n",
    "plt.ylim([0,0.25])\n",
    "#plt.xlim([-1,0])\n",
    "plt.xlabel(\"Time (s)\")"
   ]
  },
  {
   "cell_type": "markdown",
   "metadata": {},
   "source": [
    "### 3.3 (-350,-250)"
   ]
  },
  {
   "cell_type": "code",
   "execution_count": 4,
   "metadata": {
    "scrolled": true
   },
   "outputs": [
    {
     "name": "stdout",
     "output_type": "stream",
     "text": [
      "Flushing input history\n",
      "Flushing input history\n",
      "Flushing input history\n",
      "Flushing input history\n",
      "Flushing input history\n",
      "Flushing input history\n",
      "Flushing input history\n",
      "Flushing input history\n",
      "Flushing input history\n",
      "Flushing input history\n",
      "Flushing input history\n",
      "Flushing input history\n",
      "Flushing input history\n",
      "Flushing input history\n",
      "Flushing input history\n",
      "Flushing input history\n",
      "Flushing input history\n",
      "Flushing input history\n",
      "Flushing input history\n",
      "Flushing input history\n",
      "Flushing input history\n",
      "Flushing input history\n",
      "Flushing input history\n",
      "Flushing input history\n",
      "Flushing input history\n",
      "Flushing input history\n",
      "Flushing input history\n",
      "Flushing input history\n",
      "X_train's shape:  (999800, 12)\n",
      "X_test's shape:  (999800, 12)\n"
     ]
    }
   ],
   "source": [
    "X_train, train_time = generate_data(\"./data/Ramp28/\", time_range = (-450, -350), window = 2000, step = 10)\n",
    "X_test, test_time = generate_data(\"./data/Ramp28/\", time_range = (-350, -250), window = 2000, step = 10)\n",
    "print(\"X_train's shape: \", X_train.shape)\n",
    "print(\"X_test's shape: \", X_test.shape)"
   ]
  },
  {
   "cell_type": "code",
   "execution_count": 5,
   "metadata": {},
   "outputs": [],
   "source": [
    "from sklearn.preprocessing import MinMaxScaler\n",
    "\n",
    "scaler = MinMaxScaler()\n",
    "\n",
    "scaler.fit(X_train)\n",
    "\n",
    "X_train = scaler.transform(X_train)\n",
    "\n",
    "X_test = scaler.transform(X_test)"
   ]
  },
  {
   "cell_type": "code",
   "execution_count": 6,
   "metadata": {
    "collapsed": true
   },
   "outputs": [
    {
     "name": "stdout",
     "output_type": "stream",
     "text": [
      "Using Keras version:  2.3.1\n",
      "Model: \"sequential_1\"\n",
      "_________________________________________________________________\n",
      "Layer (type)                 Output Shape              Param #   \n",
      "=================================================================\n",
      "dense_1 (Dense)              (None, 6)                 78        \n",
      "_________________________________________________________________\n",
      "dense_2 (Dense)              (None, 3)                 21        \n",
      "_________________________________________________________________\n",
      "dense_3 (Dense)              (None, 6)                 24        \n",
      "_________________________________________________________________\n",
      "dense_4 (Dense)              (None, 12)                84        \n",
      "=================================================================\n",
      "Total params: 207\n",
      "Trainable params: 207\n",
      "Non-trainable params: 0\n",
      "_________________________________________________________________\n"
     ]
    }
   ],
   "source": [
    "#================BUILD THE MODEL====================\n",
    "print(\"Using Keras version: \", keras.__version__)\n",
    "\n",
    "# Simple model\n",
    "model = models.Sequential()\n",
    "\n",
    "model.add(Dense(6, activation = 'elu', kernel_initializer='glorot_uniform',\n",
    "                kernel_regularizer=regularizers.l2(0.0),\n",
    "                input_dim=X_train.shape[1]))\n",
    "\n",
    "model.add(Dense(3,activation='elu',\n",
    "                kernel_initializer='glorot_uniform'))\n",
    "\n",
    "model.add(Dense(6,activation='elu',\n",
    "                kernel_initializer='glorot_uniform'))\n",
    "\n",
    "model.add(Dense(X_train.shape[1],\n",
    "                kernel_initializer='glorot_uniform'))\n",
    "\n",
    "model.compile(loss='mse',optimizer='adam')\n",
    "\n",
    "model.summary()"
   ]
  },
  {
   "cell_type": "code",
   "execution_count": 7,
   "metadata": {
    "scrolled": true
   },
   "outputs": [
    {
     "name": "stdout",
     "output_type": "stream",
     "text": [
      "Train on 899820 samples, validate on 99980 samples\n",
      "Epoch 1/50\n",
      "899820/899820 [==============================] - 5s 6us/step - loss: 2.5439e-04 - val_loss: 6.7012e-05\n",
      "Epoch 2/50\n",
      "899820/899820 [==============================] - 5s 5us/step - loss: 9.8771e-05 - val_loss: 3.6003e-05\n",
      "Epoch 3/50\n",
      "899820/899820 [==============================] - 4s 4us/step - loss: 6.7757e-05 - val_loss: 2.8928e-05\n",
      "Epoch 4/50\n",
      "899820/899820 [==============================] - 4s 5us/step - loss: 5.5790e-05 - val_loss: 2.7329e-05\n",
      "Epoch 5/50\n",
      "899820/899820 [==============================] - 4s 5us/step - loss: 5.3244e-05 - val_loss: 2.7598e-05\n",
      "Epoch 6/50\n",
      "899820/899820 [==============================] - 4s 5us/step - loss: 5.2703e-05 - val_loss: 2.7959e-05\n",
      "Epoch 7/50\n",
      "899820/899820 [==============================] - 4s 5us/step - loss: 5.2328e-05 - val_loss: 2.7411e-05\n",
      "Epoch 8/50\n",
      "899820/899820 [==============================] - 4s 5us/step - loss: 5.2135e-05 - val_loss: 2.7325e-05\n",
      "Epoch 9/50\n",
      "899820/899820 [==============================] - 5s 5us/step - loss: 5.1993e-05 - val_loss: 2.6832e-05\n",
      "Epoch 10/50\n",
      "899820/899820 [==============================] - 4s 4us/step - loss: 5.1818e-05 - val_loss: 2.6815e-05\n",
      "Epoch 11/50\n",
      "899820/899820 [==============================] - 4s 4us/step - loss: 5.1665e-05 - val_loss: 2.7018e-05\n",
      "Epoch 12/50\n",
      "899820/899820 [==============================] - 5s 5us/step - loss: 5.1450e-05 - val_loss: 2.7451e-05\n",
      "Epoch 13/50\n",
      "899820/899820 [==============================] - 4s 5us/step - loss: 5.1088e-05 - val_loss: 2.6885e-05\n",
      "Epoch 14/50\n",
      "899820/899820 [==============================] - 4s 4us/step - loss: 5.0779e-05 - val_loss: 2.7126e-05\n",
      "Epoch 15/50\n",
      "899820/899820 [==============================] - 4s 4us/step - loss: 5.0144e-05 - val_loss: 2.6869e-05\n",
      "Epoch 16/50\n",
      "899820/899820 [==============================] - 4s 5us/step - loss: 4.9363e-05 - val_loss: 2.6486e-05\n",
      "Epoch 17/50\n",
      "899820/899820 [==============================] - 4s 4us/step - loss: 4.8268e-05 - val_loss: 2.6937e-05\n",
      "Epoch 18/50\n",
      "899820/899820 [==============================] - 5s 5us/step - loss: 4.6980e-05 - val_loss: 2.6319e-05\n",
      "Epoch 19/50\n",
      "899820/899820 [==============================] - 5s 5us/step - loss: 4.5780e-05 - val_loss: 2.5674e-05\n",
      "Epoch 20/50\n",
      "899820/899820 [==============================] - 4s 4us/step - loss: 4.4676e-05 - val_loss: 2.5635e-05\n",
      "Epoch 21/50\n",
      "899820/899820 [==============================] - 4s 5us/step - loss: 4.3860e-05 - val_loss: 2.4854e-05\n",
      "Epoch 22/50\n",
      "899820/899820 [==============================] - 4s 5us/step - loss: 4.3292e-05 - val_loss: 2.4626e-05\n",
      "Epoch 23/50\n",
      "899820/899820 [==============================] - 4s 5us/step - loss: 4.2804e-05 - val_loss: 2.4415e-05\n",
      "Epoch 24/50\n",
      "899820/899820 [==============================] - 4s 5us/step - loss: 4.2490e-05 - val_loss: 2.5048e-05\n",
      "Epoch 25/50\n",
      "899820/899820 [==============================] - 4s 4us/step - loss: 4.2165e-05 - val_loss: 2.5205e-05\n",
      "Epoch 26/50\n",
      "899820/899820 [==============================] - 4s 5us/step - loss: 4.1874e-05 - val_loss: 2.5035e-05\n",
      "Epoch 27/50\n",
      "899820/899820 [==============================] - 4s 5us/step - loss: 4.1608e-05 - val_loss: 2.4559e-05\n",
      "Epoch 28/50\n",
      "899820/899820 [==============================] - 4s 4us/step - loss: 4.1318e-05 - val_loss: 2.4170e-05\n",
      "Epoch 29/50\n",
      "899820/899820 [==============================] - 5s 5us/step - loss: 4.1031e-05 - val_loss: 2.4771e-05\n",
      "Epoch 30/50\n",
      "899820/899820 [==============================] - 4s 5us/step - loss: 4.0772e-05 - val_loss: 2.4643e-05\n",
      "Epoch 31/50\n",
      "899820/899820 [==============================] - 5s 5us/step - loss: 4.0456e-05 - val_loss: 2.4219e-05\n",
      "Epoch 32/50\n",
      "899820/899820 [==============================] - 4s 5us/step - loss: 4.0138e-05 - val_loss: 2.5329e-05\n",
      "Epoch 33/50\n",
      "899820/899820 [==============================] - 4s 5us/step - loss: 3.9772e-05 - val_loss: 2.5092e-05\n",
      "Epoch 34/50\n",
      "899820/899820 [==============================] - 4s 5us/step - loss: 3.9405e-05 - val_loss: 2.5278e-05\n",
      "Epoch 35/50\n",
      "899820/899820 [==============================] - 4s 5us/step - loss: 3.8986e-05 - val_loss: 2.4384e-05\n",
      "Epoch 36/50\n",
      "899820/899820 [==============================] - 4s 5us/step - loss: 3.8557e-05 - val_loss: 2.4322e-05\n",
      "Epoch 37/50\n",
      "899820/899820 [==============================] - 4s 5us/step - loss: 3.8146e-05 - val_loss: 2.4560e-05\n",
      "Epoch 38/50\n",
      "899820/899820 [==============================] - 4s 5us/step - loss: 3.7716e-05 - val_loss: 2.3025e-05\n",
      "Epoch 39/50\n",
      "899820/899820 [==============================] - 4s 5us/step - loss: 3.7251e-05 - val_loss: 2.3473e-05\n",
      "Epoch 40/50\n",
      "899820/899820 [==============================] - 5s 5us/step - loss: 3.6842e-05 - val_loss: 2.3092e-05\n",
      "Epoch 41/50\n",
      "899820/899820 [==============================] - 5s 5us/step - loss: 3.6405e-05 - val_loss: 2.2780e-05\n",
      "Epoch 42/50\n",
      "899820/899820 [==============================] - 4s 4us/step - loss: 3.5937e-05 - val_loss: 2.2127e-05\n",
      "Epoch 43/50\n",
      "899820/899820 [==============================] - 4s 4us/step - loss: 3.5507e-05 - val_loss: 2.1403e-05\n",
      "Epoch 44/50\n",
      "899820/899820 [==============================] - 4s 4us/step - loss: 3.5121e-05 - val_loss: 2.1976e-05\n",
      "Epoch 45/50\n",
      "899820/899820 [==============================] - 4s 5us/step - loss: 3.4737e-05 - val_loss: 2.0406e-05\n",
      "Epoch 46/50\n",
      "899820/899820 [==============================] - 4s 5us/step - loss: 3.4317e-05 - val_loss: 2.1535e-05\n",
      "Epoch 47/50\n",
      "899820/899820 [==============================] - 5s 6us/step - loss: 3.4010e-05 - val_loss: 2.1664e-05\n",
      "Epoch 48/50\n",
      "899820/899820 [==============================] - 5s 6us/step - loss: 3.3678e-05 - val_loss: 1.9881e-05\n",
      "Epoch 49/50\n",
      "899820/899820 [==============================] - 5s 5us/step - loss: 3.3370e-05 - val_loss: 2.1065e-05\n",
      "Epoch 50/50\n",
      "899820/899820 [==============================] - 5s 5us/step - loss: 3.3024e-05 - val_loss: 1.9298e-05\n"
     ]
    }
   ],
   "source": [
    "# Train model for 100 epochs, batch size of 10: \n",
    "NUM_EPOCHS=50\n",
    "BATCH_SIZE=1028\n",
    "\n",
    "history=model.fit(X_train, X_train,\n",
    "                  batch_size=BATCH_SIZE, \n",
    "                  epochs=NUM_EPOCHS,\n",
    "                  validation_split=0.1,\n",
    "                  verbose = 1)"
   ]
  },
  {
   "cell_type": "code",
   "execution_count": 8,
   "metadata": {},
   "outputs": [],
   "source": [
    "X_pred = model.predict(X_train)\n",
    "scored = pd.DataFrame()\n",
    "scored['Loss_mse'] = np.mean(np.abs(X_pred-X_train), axis = 1)"
   ]
  },
  {
   "cell_type": "code",
   "execution_count": 9,
   "metadata": {},
   "outputs": [],
   "source": [
    "X_pred_test = model.predict(X_test)\n",
    "scored_test = pd.DataFrame()\n",
    "scored_test['Loss_mse'] = np.mean(np.abs(X_pred_test-X_test), axis = 1)"
   ]
  },
  {
   "cell_type": "code",
   "execution_count": 10,
   "metadata": {},
   "outputs": [
    {
     "data": {
      "text/plain": [
       "Text(0.5, 0, 'Time (s)')"
      ]
     },
     "execution_count": 10,
     "metadata": {},
     "output_type": "execute_result"
    },
    {
     "data": {
      "image/png": "[encoded data removed]",
      "text/plain": [
       "<Figure size 1440x144 with 1 Axes>"
      ]
     },
     "metadata": {
      "needs_background": "light"
     },
     "output_type": "display_data"
    }
   ],
   "source": [
    "plt.figure(figsize=(20,2))\n",
    "plt.plot(train_time, scored['Loss_mse'])\n",
    "plt.ylim([0, 0.25])\n",
    "plt.xlabel(\"Time (s)\")"
   ]
  },
  {
   "cell_type": "code",
   "execution_count": 11,
   "metadata": {},
   "outputs": [
    {
     "data": {
      "text/plain": [
       "Text(0.5, 0, 'Time (s)')"
      ]
     },
     "execution_count": 11,
     "metadata": {},
     "output_type": "execute_result"
    },
    {
     "data": {
      "image/png": "[encoded data removed]",
      "text/plain": [
       "<Figure size 1440x144 with 1 Axes>"
      ]
     },
     "metadata": {
      "needs_background": "light"
     },
     "output_type": "display_data"
    }
   ],
   "source": [
    "plt.figure(figsize=(20,2))\n",
    "plt.plot(test_time, scored_test['Loss_mse'])\n",
    "plt.ylim([0,0.25])\n",
    "#plt.xlim([-1,0])\n",
    "plt.xlabel(\"Time (s)\")"
   ]
  },
  {
   "cell_type": "code",
   "execution_count": null,
   "metadata": {},
   "outputs": [],
   "source": []
  }
 ],
 "metadata": {
  "kernelspec": {
   "display_name": "Python 3",
   "language": "python",
   "name": "python3"
  },
  "language_info": {
   "codemirror_mode": {
    "name": "ipython",
    "version": 3
   },
   "file_extension": ".py",
   "mimetype": "text/x-python",
   "name": "python",
   "nbconvert_exporter": "python",
   "pygments_lexer": "ipython3",
   "version": "3.7.6"
  }
 },
 "nbformat": 4,
 "nbformat_minor": 4
}
