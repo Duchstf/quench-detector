{
 "cells": [
  {
   "cell_type": "markdown",
   "metadata": {},
   "source": [
    "# Ramp 19 -- Mean + Variances"
   ]
  },
  {
   "cell_type": "code",
   "execution_count": 1,
   "metadata": {},
   "outputs": [
    {
     "name": "stderr",
     "output_type": "stream",
     "text": [
      "\n",
      "Bad key \"text.kerning_factor\" on line 4 in\n",
      "/uscms_data/d3/dhoang/miniconda3/lib/python3.7/site-packages/matplotlib/mpl-data/stylelib/_classic_test_patch.mplstyle.\n",
      "You probably need to get an updated matplotlibrc file from\n",
      "https://github.com/matplotlib/matplotlib/blob/v3.1.3/matplotlibrc.template\n",
      "or from the matplotlib source distribution\n",
      "Using TensorFlow backend.\n"
     ]
    }
   ],
   "source": [
    "#Data processing\n",
    "import os\n",
    "import pandas as pd\n",
    "import numpy as np\n",
    "import matplotlib.pyplot as plt\n",
    "import seaborn as sns\n",
    "from nptdms import TdmsFile #Process ramping file\n",
    "\n",
    "#For building ML models\n",
    "import keras\n",
    "import keras.models as models\n",
    "from keras.layers.core import Dense\n",
    "from keras import regularizers"
   ]
  },
  {
   "cell_type": "code",
   "execution_count": 2,
   "metadata": {},
   "outputs": [],
   "source": [
    "def load_channel_and_time(dir_path, channel):\n",
    "    data_frame = pd.DataFrame(data = {channel: np.load(dir_path + channel + \".npy\"),\n",
    "                                     \"time\": np.load(dir_path + \"time.npy\")})\n",
    "    return data_frame\n",
    "    \n",
    "def generate_data_0(dir_path, channel, time_range, window = 1000, step = 10):\n",
    "    #Load the data\n",
    "    data = load_channel_and_time(dir_path, channel)\n",
    "    \n",
    "    #Select the part\n",
    "    start = time_range[0]\n",
    "    end = time_range[1]\n",
    "    data = data[(data[\"time\"] > start) & (data[\"time\"] < end)]\n",
    "    \n",
    "    #Calculate the statistics\n",
    "    #data[\"Mean\"] = data.loc[:, channel].abs().rolling(window=window).mean()\n",
    "    data[\"SD\"] = data.loc[:, channel].rolling(window=window).std()\n",
    "    #data[\"Kurtosis\"] = data.loc[:, channel].rolling(window=window).kurt()\n",
    "    #data[\"Skew\"] = data.loc[:, channel].rolling(window=window).skew()\n",
    "    \n",
    "    select_list = [\"SD\"]\n",
    "    \n",
    "    assert data[select_list].to_numpy()[window-1::step].shape[0] == data['time'].to_numpy()[window-1::step].shape[0]\n",
    "    \n",
    "    %reset -f in\n",
    "    \n",
    "    return data[select_list].to_numpy()[window-1::step], data['time'].to_numpy()[window-1::step]\n",
    "\n",
    "def generate_data_no_time(dir_path, channel, time_range, window = 1000, step = 10):\n",
    "    #Load the data\n",
    "    data = load_channel_and_time(dir_path, channel)\n",
    "    \n",
    "    #Select the part\n",
    "    start = time_range[0]\n",
    "    end = time_range[1]\n",
    "    data = data[(data[\"time\"] > start) & (data[\"time\"] < end)]\n",
    "    \n",
    "    #Calculate the statistics\n",
    "    #data[\"Mean\"] = data.loc[:, channel].abs().rolling(window=window).mean()\n",
    "    data[\"SD\"] = data.loc[:, channel].rolling(window=window).std()\n",
    "    #data[\"Kurtosis\"] = data.loc[:, channel].rolling(window=window).kurt()\n",
    "    #data[\"Skew\"] = data.loc[:, channel].rolling(window=window).skew()\n",
    "    \n",
    "    select_list = [\"SD\"]\n",
    "    \n",
    "    %reset -f in\n",
    "    \n",
    "    return data[select_list].to_numpy()[window-1::step]\n",
    "\n",
    "def generate_data_all_sensors(dir_path, time_range, window = 1000, step = 10):\n",
    "    \n",
    "    ai0, time = generate_data(dir_path, \"ai0\", time_range = time_range, window = window, step = step)\n",
    "    ai1 = generate_data_no_time(dir_path, \"ai1\", time_range = time_range, window = window, step = step)\n",
    "    ai2 = generate_data_no_time(dir_path, \"ai2\", time_range = time_range, window = window, step = step)\n",
    "    ai3 = generate_data_no_time(dir_path, \"ai3\", time_range = time_range, window = window, step = step)\n",
    "    ai4 = generate_data_no_time(dir_path, \"ai4\", time_range = time_range, window = window, step = step)\n",
    "    \n",
    "    #Multiply them all together\n",
    "    product_var = ai0*ai1*ai2*ai3*ai4\n",
    "    \n",
    "    \n",
    "    all_channels = np.concatenate((ai0,ai1,ai2,ai3,ai4,product_var), axis = 1)\n",
    "    \n",
    "    %reset -f in\n",
    "    \n",
    "    return all_channels, time\n",
    "\n",
    "def plot_moving_mean(dir_path, channel, time_range, window = 1000, step = 10):\n",
    "    #Load the data\n",
    "    data = load_channel_and_time(dir_path, channel)\n",
    "    \n",
    "    #Select the part\n",
    "    start = time_range[0]\n",
    "    end = time_range[1]\n",
    "    data = data[(data[\"time\"] > start) & (data[\"time\"] < end)]\n",
    "    \n",
    "    #Calculate the mean\n",
    "    data[\"Mean\"] = data.loc[:, channel].abs().rolling(window=window).mean()\n",
    "    \n",
    "    #Plot\n",
    "    plt.figure(figsize=(20,2))\n",
    "    plt.plot(data['time'].to_numpy()[window-1::step], data[\"Mean\"].to_numpy()[window-1::step], label = \"Mean of abs(data)\")\n",
    "    plt.legend(loc = \"upper right\")\n",
    "    plt.xlabel(\"Time (s)\")\n",
    "    plt.title(\"Sensor {}'s moving mean\".format(channel))\n",
    "    \n",
    "    %reset -f in\n",
    "    \n",
    "def load_sensor(dir_path, sensor, time_range = None):\n",
    "    \n",
    "    data = pd.DataFrame(data = {sensor: np.load(dir_path + sensor + \".npy\"),\n",
    "                                \"time\": np.load(dir_path + \"time.npy\")})\n",
    "    \n",
    "    start = min(data[\"time\"])\n",
    "    end = max(data[\"time\"])\n",
    "    \n",
    "    if time_range:\n",
    "        start = time_range[0]\n",
    "        end = time_range[1]\n",
    "    \n",
    "    \n",
    "    data = data[(data[\"time\"] > start) & (data[\"time\"] < end)]\n",
    "   \n",
    "    %reset -f in\n",
    "    \n",
    "    return data\n",
    "    \n",
    "def plot_product_mean(dir_path, time_range, window = 1000, step = 10):\n",
    "    #Load the data\n",
    "    ai0 = load_sensor(dir_path, \"ai0\", time_range = time_range)\n",
    "    ai1 = load_sensor(dir_path, \"ai1\", time_range = time_range)[\"ai1\"].abs().rolling(window=window).mean().to_numpy()[window-1::step]\n",
    "    ai2 = load_sensor(dir_path, \"ai2\", time_range = time_range)[\"ai2\"].abs().rolling(window=window).mean().to_numpy()[window-1::step]\n",
    "    ai3 = load_sensor(dir_path, \"ai3\", time_range = time_range)[\"ai3\"].abs().rolling(window=window).mean().to_numpy()[window-1::step]\n",
    "    ai4 = load_sensor(dir_path, \"ai4\", time_range = time_range)[\"ai4\"].abs().rolling(window=window).mean().to_numpy()[window-1::step]\n",
    "    \n",
    "    time_axis = ai0['time'].to_numpy()[window-1::step]\n",
    "    \n",
    "    ai0 = ai0[\"ai0\"].abs().rolling(window=window).mean().to_numpy()[window-1::step]\n",
    "    \n",
    "    product = ai0*ai1*ai2*ai3*ai4\n",
    "    \n",
    "    #Plot\n",
    "    plt.figure(figsize=(20,2))\n",
    "    plt.plot(time_axis, product)\n",
    "    plt.xlabel(\"Time (s)\")\n",
    "    plt.title(\"Product of moving means\")\n",
    "    \n",
    "def plot_SD(dir_path, channel, time_range, window = 2000, step = 10):\n",
    "    \n",
    "    #Load the data\n",
    "    data = load_channel_and_time(dir_path, channel)\n",
    "    \n",
    "    #Select the part\n",
    "    start = time_range[0]\n",
    "    end = time_range[1]\n",
    "    data = data[(data[\"time\"] > start) & (data[\"time\"] < end)]\n",
    "    \n",
    "    #Calculate the mean\n",
    "    data[\"SD\"] = data.loc[:, channel].abs().rolling(window=window).std()\n",
    "    \n",
    "    #Plot\n",
    "    plt.figure(figsize=(20,2))\n",
    "    plt.plot(data['time'].to_numpy()[window-1::step], data[\"SD\"].to_numpy()[window-1::step], label = \"Standard deviation\", color = \"red\")\n",
    "    plt.legend(loc = \"upper right\")\n",
    "    plt.xlabel(\"Time (s)\")\n",
    "    plt.title(\"Sensor {}'s moving standard deviation\".format(channel))\n",
    "    \n",
    "    %reset -f in\n",
    "\n",
    "\n",
    "def plot_product_SD(dir_path, time_range, window = 1000, step = 10):\n",
    "    #Load the data\n",
    "    ai0 = load_sensor(dir_path, \"ai0\", time_range = time_range)\n",
    "    ai1 = load_sensor(dir_path, \"ai1\", time_range = time_range)[\"ai1\"].rolling(window=window).std().to_numpy()[window-1::step]\n",
    "    ai2 = load_sensor(dir_path, \"ai2\", time_range = time_range)[\"ai2\"].rolling(window=window).std().to_numpy()[window-1::step]\n",
    "    ai3 = load_sensor(dir_path, \"ai3\", time_range = time_range)[\"ai3\"].rolling(window=window).std().to_numpy()[window-1::step]\n",
    "    ai4 = load_sensor(dir_path, \"ai4\", time_range = time_range)[\"ai4\"].rolling(window=window).std().to_numpy()[window-1::step]\n",
    "    \n",
    "    time_axis = ai0['time'].to_numpy()[window-1::step]\n",
    "    \n",
    "    ai0 = ai0[\"ai0\"].rolling(window=window).std().to_numpy()[window-1::step]\n",
    "    \n",
    "    product = ai0*ai1*ai2*ai3*ai4\n",
    "    \n",
    "    #Plot\n",
    "    plt.figure(figsize=(20,2))\n",
    "    plt.plot(time_axis, product, color = \"red\")\n",
    "    plt.xlabel(\"Time (s)\")\n",
    "    plt.title(\"Product of moving standard deviations\")\n",
    "    \n",
    "def generate_mean_data(dir_path, time_range, window = 2000, step = 10):\n",
    "    #Load the data\n",
    "    ai0 = load_sensor(dir_path, \"ai0\", time_range = time_range)[\"ai0\"].abs().rolling(window=window).mean().to_numpy()[window-1::step]\n",
    "    ai1 = load_sensor(dir_path, \"ai1\", time_range = time_range)[\"ai1\"].abs().rolling(window=window).mean().to_numpy()[window-1::step]\n",
    "    ai2 = load_sensor(dir_path, \"ai2\", time_range = time_range)[\"ai2\"].abs().rolling(window=window).mean().to_numpy()[window-1::step]\n",
    "    ai3 = load_sensor(dir_path, \"ai3\", time_range = time_range)[\"ai3\"].abs().rolling(window=window).mean().to_numpy()[window-1::step]\n",
    "    ai4 = load_sensor(dir_path, \"ai4\", time_range = time_range)[\"ai4\"].abs().rolling(window=window).mean().to_numpy()[window-1::step]\n",
    "    \n",
    "    #Calculate the product\n",
    "    product = ai0*ai1*ai2*ai3*ai4\n",
    "    \n",
    "    #Stack them together\n",
    "    all_mean = np.vstack((ai0,ai1,ai2,ai3,ai4, product)).transpose()\n",
    "    \n",
    "    %reset -f in\n",
    "    \n",
    "    return all_mean\n",
    "\n",
    "def generate_sd_data(dir_path, time_range, window = 2000, step = 10):\n",
    "    #Load the data\n",
    "    ai0 = load_sensor(dir_path, \"ai0\", time_range = time_range)[\"ai0\"].rolling(window=window).std().to_numpy()[window-1::step]\n",
    "    ai1 = load_sensor(dir_path, \"ai1\", time_range = time_range)[\"ai1\"].rolling(window=window).std().to_numpy()[window-1::step]\n",
    "    ai2 = load_sensor(dir_path, \"ai2\", time_range = time_range)[\"ai2\"].rolling(window=window).std().to_numpy()[window-1::step]\n",
    "    ai3 = load_sensor(dir_path, \"ai3\", time_range = time_range)[\"ai3\"].rolling(window=window).std().to_numpy()[window-1::step]\n",
    "    ai4 = load_sensor(dir_path, \"ai4\", time_range = time_range)[\"ai4\"].rolling(window=window).std().to_numpy()[window-1::step]\n",
    "    \n",
    "    #Calculate the product\n",
    "    product = ai0*ai1*ai2*ai3*ai4\n",
    "    \n",
    "    #Stack them together\n",
    "    all_sd = np.vstack((ai0,ai1,ai2,ai3,ai4, product)).transpose()\n",
    "    \n",
    "    %reset -f in\n",
    "    \n",
    "    return all_sd\n",
    "\n",
    "def load_time_label(dir_path, time_range, window = 2000, step = 10):\n",
    "    \n",
    "    time_label =  np.load(dir_path + \"time.npy\")\n",
    "    \n",
    "    start = min(time_label)\n",
    "    end = max(time_label)\n",
    "    \n",
    "    if time_range:\n",
    "        start = time_range[0]\n",
    "        end = time_range[1]\n",
    "    \n",
    "    \n",
    "    time_label = time_label[(time_label > start) & (time_label < end)][window-1::step]\n",
    "    \n",
    "    %reset -f in\n",
    "    \n",
    "    return time_label\n",
    "    \n",
    "\n",
    "def generate_data(dir_path, time_range, window = 2000, step = 10):\n",
    "    \n",
    "    moving_mean = generate_mean_data(dir_path, time_range, window = 2000, step = 10)\n",
    "    moving_sd = generate_sd_data(dir_path, time_range, window = 2000, step = 10)\n",
    "    time_label = load_time_label(dir_path, time_range, window = 2000, step = 10)\n",
    "    \n",
    "    all_data = np.concatenate((moving_mean, moving_sd), axis = 1)\n",
    "    \n",
    "    %reset -f in\n",
    "    \n",
    "    return all_data, time_label"
   ]
  },
  {
   "cell_type": "markdown",
   "metadata": {},
   "source": [
    "## 1. Starting point"
   ]
  },
  {
   "cell_type": "code",
   "execution_count": 3,
   "metadata": {
    "collapsed": true
   },
   "outputs": [
    {
     "name": "stdout",
     "output_type": "stream",
     "text": [
      "Flushing input history\n",
      "Flushing input history\n",
      "Flushing input history\n",
      "Flushing input history\n",
      "Flushing input history\n",
      "Flushing input history\n",
      "Flushing input history\n",
      "Flushing input history\n",
      "Flushing input history\n",
      "Flushing input history\n",
      "Flushing input history\n",
      "Flushing input history\n",
      "Flushing input history\n",
      "Flushing input history\n",
      "Flushing input history\n",
      "Flushing input history\n",
      "Flushing input history\n",
      "Flushing input history\n",
      "Flushing input history\n",
      "Flushing input history\n",
      "Flushing input history\n",
      "Flushing input history\n",
      "Flushing input history\n",
      "Flushing input history\n",
      "Flushing input history\n",
      "Flushing input history\n",
      "Flushing input history\n",
      "Flushing input history\n",
      "X_train's shape:  (999800, 12)\n",
      "X_test's shape:  (999800, 12)\n"
     ]
    }
   ],
   "source": [
    "X_train, train_time = generate_data(\"./data/Ramp19/\", time_range = (-400, -300), window = 2000, step = 10)\n",
    "X_test, test_time = generate_data(\"./data/Ramp19/\", time_range = (-100, 0), window = 2000, step = 10)\n",
    "print(\"X_train's shape: \", X_train.shape)\n",
    "print(\"X_test's shape: \", X_test.shape)"
   ]
  },
  {
   "cell_type": "code",
   "execution_count": 4,
   "metadata": {},
   "outputs": [],
   "source": [
    "from sklearn.preprocessing import MinMaxScaler\n",
    "\n",
    "scaler = MinMaxScaler()\n",
    "\n",
    "scaler.fit(X_train)\n",
    "\n",
    "X_train = scaler.transform(X_train)\n",
    "\n",
    "X_test = scaler.transform(X_test)"
   ]
  },
  {
   "cell_type": "code",
   "execution_count": 5,
   "metadata": {
    "collapsed": true
   },
   "outputs": [
    {
     "name": "stdout",
     "output_type": "stream",
     "text": [
      "Using Keras version:  2.3.1\n",
      "Model: \"sequential_1\"\n",
      "_________________________________________________________________\n",
      "Layer (type)                 Output Shape              Param #   \n",
      "=================================================================\n",
      "dense_1 (Dense)              (None, 6)                 78        \n",
      "_________________________________________________________________\n",
      "dense_2 (Dense)              (None, 3)                 21        \n",
      "_________________________________________________________________\n",
      "dense_3 (Dense)              (None, 6)                 24        \n",
      "_________________________________________________________________\n",
      "dense_4 (Dense)              (None, 12)                84        \n",
      "=================================================================\n",
      "Total params: 207\n",
      "Trainable params: 207\n",
      "Non-trainable params: 0\n",
      "_________________________________________________________________\n"
     ]
    }
   ],
   "source": [
    "#================BUILD THE MODEL====================\n",
    "print(\"Using Keras version: \", keras.__version__)\n",
    "\n",
    "# Simple model\n",
    "model = models.Sequential()\n",
    "\n",
    "model.add(Dense(6, activation = 'elu', kernel_initializer='glorot_uniform',\n",
    "                kernel_regularizer=regularizers.l2(0.0),\n",
    "                input_dim=X_train.shape[1]))\n",
    "\n",
    "model.add(Dense(3,activation='elu',\n",
    "                kernel_initializer='glorot_uniform'))\n",
    "\n",
    "model.add(Dense(6,activation='elu',\n",
    "                kernel_initializer='glorot_uniform'))\n",
    "\n",
    "model.add(Dense(X_train.shape[1],\n",
    "                kernel_initializer='glorot_uniform'))\n",
    "\n",
    "model.compile(loss='mse',optimizer='adam')\n",
    "\n",
    "model.summary()"
   ]
  },
  {
   "cell_type": "code",
   "execution_count": 6,
   "metadata": {
    "collapsed": true
   },
   "outputs": [
    {
     "name": "stdout",
     "output_type": "stream",
     "text": [
      "Train on 899820 samples, validate on 99980 samples\n",
      "Epoch 1/50\n",
      "899820/899820 [==============================] - 8s 9us/step - loss: 0.0014 - val_loss: 7.5700e-04\n",
      "Epoch 2/50\n",
      "899820/899820 [==============================] - 7s 8us/step - loss: 2.7270e-04 - val_loss: 3.8444e-04\n",
      "Epoch 3/50\n",
      "899820/899820 [==============================] - 8s 8us/step - loss: 2.0995e-04 - val_loss: 3.2029e-04\n",
      "Epoch 4/50\n",
      "899820/899820 [==============================] - 8s 9us/step - loss: 1.8614e-04 - val_loss: 2.8622e-04\n",
      "Epoch 5/50\n",
      "899820/899820 [==============================] - 7s 8us/step - loss: 1.6197e-04 - val_loss: 2.6092e-04\n",
      "Epoch 6/50\n",
      "899820/899820 [==============================] - 7s 8us/step - loss: 1.4775e-04 - val_loss: 2.5030e-04\n",
      "Epoch 7/50\n",
      "899820/899820 [==============================] - 7s 8us/step - loss: 1.4360e-04 - val_loss: 2.4771e-04\n",
      "Epoch 8/50\n",
      "899820/899820 [==============================] - 7s 8us/step - loss: 1.4085e-04 - val_loss: 2.3847e-04\n",
      "Epoch 9/50\n",
      "899820/899820 [==============================] - 7s 8us/step - loss: 1.3814e-04 - val_loss: 2.3946e-04\n",
      "Epoch 10/50\n",
      "899820/899820 [==============================] - 7s 8us/step - loss: 1.3539e-04 - val_loss: 2.3406e-04\n",
      "Epoch 11/50\n",
      "899820/899820 [==============================] - 7s 8us/step - loss: 1.3299e-04 - val_loss: 2.2189e-04\n",
      "Epoch 12/50\n",
      "899820/899820 [==============================] - 7s 7us/step - loss: 1.3112e-04 - val_loss: 2.2469e-04\n",
      "Epoch 13/50\n",
      "899820/899820 [==============================] - 7s 8us/step - loss: 1.2941e-04 - val_loss: 2.2257e-04\n",
      "Epoch 14/50\n",
      "899820/899820 [==============================] - 7s 8us/step - loss: 1.2786e-04 - val_loss: 2.2429e-04\n",
      "Epoch 15/50\n",
      "899820/899820 [==============================] - 7s 8us/step - loss: 1.2643e-04 - val_loss: 2.1812e-04\n",
      "Epoch 16/50\n",
      "899820/899820 [==============================] - 8s 8us/step - loss: 1.2501e-04 - val_loss: 2.1330e-04\n",
      "Epoch 17/50\n",
      "899820/899820 [==============================] - 7s 8us/step - loss: 1.2371e-04 - val_loss: 2.1910e-04\n",
      "Epoch 18/50\n",
      "899820/899820 [==============================] - 7s 8us/step - loss: 1.2238e-04 - val_loss: 2.1304e-04\n",
      "Epoch 19/50\n",
      "899820/899820 [==============================] - 7s 8us/step - loss: 1.2070e-04 - val_loss: 2.1381e-04\n",
      "Epoch 20/50\n",
      "899820/899820 [==============================] - 7s 8us/step - loss: 1.1826e-04 - val_loss: 2.1039e-04\n",
      "Epoch 21/50\n",
      "899820/899820 [==============================] - 7s 8us/step - loss: 1.1465e-04 - val_loss: 2.0548e-04\n",
      "Epoch 22/50\n",
      "899820/899820 [==============================] - 8s 9us/step - loss: 1.1072e-04 - val_loss: 2.0537e-04\n",
      "Epoch 23/50\n",
      "899820/899820 [==============================] - 7s 8us/step - loss: 1.0796e-04 - val_loss: 1.9851e-04\n",
      "Epoch 24/50\n",
      "899820/899820 [==============================] - 8s 9us/step - loss: 1.0606e-04 - val_loss: 1.9636e-04\n",
      "Epoch 25/50\n",
      "899820/899820 [==============================] - 7s 8us/step - loss: 1.0479e-04 - val_loss: 2.0018e-04\n",
      "Epoch 26/50\n",
      "899820/899820 [==============================] - 7s 8us/step - loss: 1.0385e-04 - val_loss: 2.0023e-04\n",
      "Epoch 27/50\n",
      "899820/899820 [==============================] - 7s 7us/step - loss: 1.0327e-04 - val_loss: 1.9711e-04\n",
      "Epoch 28/50\n",
      "899820/899820 [==============================] - 7s 8us/step - loss: 1.0275e-04 - val_loss: 1.9404e-04\n",
      "Epoch 29/50\n",
      "899820/899820 [==============================] - 7s 8us/step - loss: 1.0242e-04 - val_loss: 1.9667e-04\n",
      "Epoch 30/50\n",
      "899820/899820 [==============================] - 8s 9us/step - loss: 1.0215e-04 - val_loss: 1.9768e-04\n",
      "Epoch 31/50\n",
      "899820/899820 [==============================] - 8s 9us/step - loss: 1.0191e-04 - val_loss: 1.9082e-04\n",
      "Epoch 32/50\n",
      "899820/899820 [==============================] - 8s 9us/step - loss: 1.0167e-04 - val_loss: 1.9965e-04\n",
      "Epoch 33/50\n",
      "899820/899820 [==============================] - 7s 7us/step - loss: 1.0153e-04 - val_loss: 1.9369e-04\n",
      "Epoch 34/50\n",
      "899820/899820 [==============================] - 7s 8us/step - loss: 1.0135e-04 - val_loss: 1.8979e-04\n",
      "Epoch 35/50\n",
      "899820/899820 [==============================] - 7s 7us/step - loss: 1.0120e-04 - val_loss: 1.8892e-04\n",
      "Epoch 36/50\n",
      "899820/899820 [==============================] - 7s 8us/step - loss: 1.0105e-04 - val_loss: 1.9268e-04\n",
      "Epoch 37/50\n",
      "899820/899820 [==============================] - 7s 7us/step - loss: 1.0094e-04 - val_loss: 1.9700e-04\n",
      "Epoch 38/50\n",
      "899820/899820 [==============================] - 8s 8us/step - loss: 1.0078e-04 - val_loss: 1.9014e-04\n",
      "Epoch 39/50\n",
      "899820/899820 [==============================] - 7s 8us/step - loss: 1.0061e-04 - val_loss: 1.8881e-04\n",
      "Epoch 40/50\n",
      "899820/899820 [==============================] - 8s 9us/step - loss: 1.0051e-04 - val_loss: 1.9891e-04\n",
      "Epoch 41/50\n",
      "899820/899820 [==============================] - 7s 8us/step - loss: 1.0029e-04 - val_loss: 1.9669e-04\n",
      "Epoch 42/50\n",
      "899820/899820 [==============================] - 7s 8us/step - loss: 1.0007e-04 - val_loss: 1.9225e-04\n",
      "Epoch 43/50\n",
      "899820/899820 [==============================] - 8s 9us/step - loss: 9.9914e-05 - val_loss: 1.9642e-04\n",
      "Epoch 44/50\n",
      "899820/899820 [==============================] - 7s 8us/step - loss: 9.9641e-05 - val_loss: 1.8898e-04\n",
      "Epoch 45/50\n",
      "899820/899820 [==============================] - 8s 9us/step - loss: 9.9481e-05 - val_loss: 1.8977e-04\n",
      "Epoch 46/50\n",
      "899820/899820 [==============================] - 6s 7us/step - loss: 9.9274e-05 - val_loss: 1.9618e-04\n",
      "Epoch 47/50\n",
      "899820/899820 [==============================] - 6s 7us/step - loss: 9.9049e-05 - val_loss: 1.9116e-04\n",
      "Epoch 48/50\n",
      "899820/899820 [==============================] - 7s 8us/step - loss: 9.8895e-05 - val_loss: 1.8956e-04\n",
      "Epoch 49/50\n",
      "899820/899820 [==============================] - 7s 8us/step - loss: 9.8705e-05 - val_loss: 1.8807e-04\n",
      "Epoch 50/50\n",
      "899820/899820 [==============================] - 8s 9us/step - loss: 9.8581e-05 - val_loss: 1.9807e-04\n"
     ]
    }
   ],
   "source": [
    "# Train model for 100 epochs, batch size of 10: \n",
    "NUM_EPOCHS=50\n",
    "BATCH_SIZE=1028\n",
    "\n",
    "history=model.fit(X_train, X_train,\n",
    "                  batch_size=BATCH_SIZE, \n",
    "                  epochs=NUM_EPOCHS,\n",
    "                  validation_split=0.1,\n",
    "                  verbose = 1)"
   ]
  },
  {
   "cell_type": "code",
   "execution_count": 7,
   "metadata": {},
   "outputs": [],
   "source": [
    "X_pred = model.predict(X_train)\n",
    "scored = pd.DataFrame()\n",
    "scored['Loss_mse'] = np.mean(np.abs(X_pred-X_train), axis = 1)"
   ]
  },
  {
   "cell_type": "code",
   "execution_count": 8,
   "metadata": {},
   "outputs": [],
   "source": [
    "X_pred_test = model.predict(X_test)\n",
    "scored_test = pd.DataFrame()\n",
    "scored_test['Loss_mse'] = np.mean(np.abs(X_pred_test-X_test), axis = 1)"
   ]
  },
  {
   "cell_type": "code",
   "execution_count": 11,
   "metadata": {
    "collapsed": true
   },
   "outputs": [
    {
     "data": {
      "text/plain": [
       "Text(0.5, 0, 'Time (s)')"
      ]
     },
     "execution_count": 11,
     "metadata": {},
     "output_type": "execute_result"
    },
    {
     "data": {
      "image/png": "[encoded data removed]",
      "text/plain": [
       "<Figure size 1440x144 with 1 Axes>"
      ]
     },
     "metadata": {
      "needs_background": "light"
     },
     "output_type": "display_data"
    }
   ],
   "source": [
    "plt.figure(figsize=(20,2))\n",
    "plt.plot(train_time, scored['Loss_mse'])\n",
    "plt.ylim([0, 30000])\n",
    "plt.xlabel(\"Time (s)\")"
   ]
  },
  {
   "cell_type": "code",
   "execution_count": 12,
   "metadata": {
    "collapsed": true
   },
   "outputs": [
    {
     "data": {
      "text/plain": [
       "Text(0.5, 0, 'Time (s)')"
      ]
     },
     "execution_count": 12,
     "metadata": {},
     "output_type": "execute_result"
    },
    {
     "data": {
      "image/png": "[encoded data removed]",
      "text/plain": [
       "<Figure size 1440x144 with 1 Axes>"
      ]
     },
     "metadata": {
      "needs_background": "light"
     },
     "output_type": "display_data"
    }
   ],
   "source": [
    "plt.figure(figsize=(20,2))\n",
    "plt.plot(test_time, scored_test['Loss_mse'])\n",
    "plt.ylim([0, 30000])\n",
    "#plt.xlim([-20,0])\n",
    "plt.xlabel(\"Time (s)\")"
   ]
  },
  {
   "cell_type": "markdown",
   "metadata": {},
   "source": [
    "## Learn on other ranges"
   ]
  },
  {
   "cell_type": "code",
   "execution_count": 3,
   "metadata": {
    "collapsed": true
   },
   "outputs": [
    {
     "name": "stdout",
     "output_type": "stream",
     "text": [
      "Flushing input history\n",
      "Flushing input history\n",
      "Flushing input history\n",
      "Flushing input history\n",
      "Flushing input history\n",
      "Flushing input history\n",
      "Flushing input history\n",
      "Flushing input history\n",
      "Flushing input history\n",
      "Flushing input history\n",
      "Flushing input history\n",
      "Flushing input history\n",
      "Flushing input history\n",
      "Flushing input history\n",
      "Flushing input history\n",
      "Flushing input history\n",
      "Flushing input history\n",
      "Flushing input history\n",
      "Flushing input history\n",
      "Flushing input history\n",
      "Flushing input history\n",
      "Flushing input history\n",
      "Flushing input history\n",
      "Flushing input history\n",
      "Flushing input history\n",
      "Flushing input history\n",
      "Flushing input history\n",
      "Flushing input history\n",
      "X_train's shape:  (999800, 12)\n",
      "X_test's shape:  (999800, 12)\n"
     ]
    }
   ],
   "source": [
    "X_train, train_time = generate_data(\"./data/Ramp19/\", time_range = (-200, -100), window = 2000, step = 10)\n",
    "X_test, test_time = generate_data(\"./data/Ramp19/\", time_range = (-100, 0), window = 2000, step = 10)\n",
    "print(\"X_train's shape: \", X_train.shape)\n",
    "print(\"X_test's shape: \", X_test.shape)"
   ]
  },
  {
   "cell_type": "code",
   "execution_count": null,
   "metadata": {},
   "outputs": [],
   "source": [
    "from sklearn.preprocessing import MinMaxScaler\n",
    "\n",
    "scaler = MinMaxScaler()\n",
    "\n",
    "scaler.fit(X_train)\n",
    "\n",
    "X_train = scaler.transform(X_train)\n",
    "\n",
    "X_test = scaler.transform(X_test)"
   ]
  },
  {
   "cell_type": "code",
   "execution_count": null,
   "metadata": {},
   "outputs": [],
   "source": [
    "#================BUILD THE MODEL====================\n",
    "print(\"Using Keras version: \", keras.__version__)\n",
    "\n",
    "# Simple model\n",
    "model = models.Sequential()\n",
    "\n",
    "model.add(Dense(6, activation = 'elu', kernel_initializer='glorot_uniform',\n",
    "                kernel_regularizer=regularizers.l2(0.0),\n",
    "                input_dim=X_train.shape[1]))\n",
    "\n",
    "model.add(Dense(3,activation='elu',\n",
    "                kernel_initializer='glorot_uniform'))\n",
    "\n",
    "model.add(Dense(6,activation='elu',\n",
    "                kernel_initializer='glorot_uniform'))\n",
    "\n",
    "model.add(Dense(X_train.shape[1],\n",
    "                kernel_initializer='glorot_uniform'))\n",
    "\n",
    "model.compile(loss='mse',optimizer='adam')\n",
    "\n",
    "model.summary()"
   ]
  },
  {
   "cell_type": "code",
   "execution_count": null,
   "metadata": {},
   "outputs": [],
   "source": [
    "# Train model for 100 epochs, batch size of 10: \n",
    "NUM_EPOCHS=50\n",
    "BATCH_SIZE=1028\n",
    "\n",
    "history=model.fit(X_train, X_train,\n",
    "                  batch_size=BATCH_SIZE, \n",
    "                  epochs=NUM_EPOCHS,\n",
    "                  validation_split=0.1,\n",
    "                  verbose = 1)"
   ]
  },
  {
   "cell_type": "code",
   "execution_count": null,
   "metadata": {},
   "outputs": [],
   "source": [
    "X_pred = model.predict(X_train)\n",
    "scored = pd.DataFrame()\n",
    "scored['Loss_mse'] = np.mean(np.abs(X_pred-X_train), axis = 1)"
   ]
  },
  {
   "cell_type": "code",
   "execution_count": null,
   "metadata": {},
   "outputs": [],
   "source": [
    "X_pred_test = model.predict(X_test)\n",
    "scored_test = pd.DataFrame()\n",
    "scored_test['Loss_mse'] = np.mean(np.abs(X_pred_test-X_test), axis = 1)"
   ]
  },
  {
   "cell_type": "code",
   "execution_count": null,
   "metadata": {},
   "outputs": [],
   "source": [
    "plt.figure(figsize=(20,2))\n",
    "plt.plot(train_time, scored['Loss_mse'])\n",
    "#plt.ylim([0, 30])\n",
    "plt.xlabel(\"Time (s)\")"
   ]
  },
  {
   "cell_type": "code",
   "execution_count": null,
   "metadata": {},
   "outputs": [],
   "source": [
    "plt.figure(figsize=(20,2))\n",
    "plt.plot(test_time, scored_test['Loss_mse'])\n",
    "#plt.ylim([0, 30])\n",
    "#plt.xlim([-20,0])\n",
    "plt.xlabel(\"Time (s)\")"
   ]
  }
 ],
 "metadata": {
  "kernelspec": {
   "display_name": "Python 3",
   "language": "python",
   "name": "python3"
  },
  "language_info": {
   "codemirror_mode": {
    "name": "ipython",
    "version": 3
   },
   "file_extension": ".py",
   "mimetype": "text/x-python",
   "name": "python",
   "nbconvert_exporter": "python",
   "pygments_lexer": "ipython3",
   "version": "3.7.6"
  }
 },
 "nbformat": 4,
 "nbformat_minor": 4
}
