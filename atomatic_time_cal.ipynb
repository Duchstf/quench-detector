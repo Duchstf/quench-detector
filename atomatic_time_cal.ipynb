{
 "cells": [
  {
   "cell_type": "code",
   "execution_count": 1,
   "metadata": {},
   "outputs": [
    {
     "name": "stderr",
     "output_type": "stream",
     "text": [
      "\n",
      "Bad key \"text.kerning_factor\" on line 4 in\n",
      "/uscms_data/d3/dhoang/miniconda3/lib/python3.7/site-packages/matplotlib/mpl-data/stylelib/_classic_test_patch.mplstyle.\n",
      "You probably need to get an updated matplotlibrc file from\n",
      "https://github.com/matplotlib/matplotlib/blob/v3.1.3/matplotlibrc.template\n",
      "or from the matplotlib source distribution\n"
     ]
    }
   ],
   "source": [
    "import os\n",
    "import pandas as pd\n",
    "import numpy as np\n",
    "import matplotlib.pyplot as plt\n",
    "import h5py\n",
    "import seaborn as sns\n",
    "from pathlib import Path\n",
    "from nptdms import TdmsFile #Process ramping file\n",
    "%matplotlib inline"
   ]
  },
  {
   "cell_type": "code",
   "execution_count": 5,
   "metadata": {
    "scrolled": false
   },
   "outputs": [
    {
     "name": "stdout",
     "output_type": "stream",
     "text": [
      "Ramp_10_time.npy   Ramp_26-_time.npy  Ramp_40_time.npy\t Ramp_57_time.npy\r\n",
      "Ramp_11_time.npy   Ramp_27-_time.npy  Ramp_41-_time.npy  Ramp_5_time.npy\r\n",
      "Ramp_12_time.npy   Ramp_28-_time.npy  Ramp_42_time.npy\t Ramp_6_time.npy\r\n",
      "Ramp_14-_time.npy  Ramp_29-_time.npy  Ramp_43_time.npy\t Ramp_76_time.npy\r\n",
      "Ramp_15-_time.npy  Ramp_2_time.npy    Ramp_44-_time.npy  Ramp_77-_time.npy\r\n",
      "Ramp_16_time.npy   Ramp_30-_time.npy  Ramp_45-_time.npy  Ramp_78-_time.npy\r\n",
      "Ramp_17-_time.npy  Ramp_31-_time.npy  Ramp_46-_time.npy  Ramp_79-_time.npy\r\n",
      "Ramp_18-_time.npy  Ramp_32-_time.npy  Ramp_47-_time.npy  Ramp_7_time.npy\r\n",
      "Ramp_19_time.npy   Ramp_33-_time.npy  Ramp_48-_time.npy  Ramp_80-_time.npy\r\n",
      "Ramp_1_time.npy    Ramp_34-_time.npy  Ramp_49-_time.npy  Ramp_81-_time.npy\r\n",
      "Ramp_20-_time.npy  Ramp_35-_time.npy  Ramp_4_time.npy\t Ramp_82-_time.npy\r\n",
      "Ramp_21-_time.npy  Ramp_36-_time.npy  Ramp_50-_time.npy  Ramp_84-_time.npy\r\n",
      "Ramp_22-_time.npy  Ramp_37-_time.npy  Ramp_53-_time.npy  Ramp_85-_time.npy\r\n",
      "Ramp_23-_time.npy  Ramp_38-_time.npy  Ramp_54-_time.npy  Ramp_86-_time.npy\r\n",
      "Ramp_24-_time.npy  Ramp_39-_time.npy  Ramp_55_time.npy\t Ramp_8_time.npy\r\n",
      "Ramp_25-_time.npy  Ramp_3_time.npy    Ramp_56_time.npy\r\n"
     ]
    }
   ],
   "source": [
    "!ls 15T_data/time_axis"
   ]
  },
  {
   "cell_type": "code",
   "execution_count": 14,
   "metadata": {},
   "outputs": [],
   "source": [
    "def calculate_mat_time(ramp_num, dir_path):\n",
    "    \"\"\"\n",
    "    Take a ramp's mat (MATHLAB produced) file and calculate its time axis from the current data \n",
    "    (set maximum current point at 0 and multiply by sampling rate). \n",
    "    \n",
    "    Example usage: calculate_mat_time(\"Ramp_1\", \"15T_data\")\n",
    "    \n",
    "    \n",
    "    Args:\n",
    "        - ramp_num (str): ramp number\n",
    "        - dir_path (str): path to directory containing all the ramp's data\n",
    "        \n",
    "    Returns: None, save the calculated time axis to a npy file in dir_path + \"/time_axis/\"\n",
    "    \"\"\"\n",
    "    \n",
    "    needed_file = None\n",
    "    \n",
    "    #Scan the directory for correct ramp file\n",
    "    for filename in os.listdir(dir_path):\n",
    "        if filename.startswith(ramp_num + '-'):\n",
    "            needed_file = dir_path + \"/\" + filename\n",
    "            \n",
    "    #Load the file\n",
    "    f = h5py.File(needed_file,'r')\n",
    "    data = np.array(f['chanvals'], dtype = 'float16')\n",
    "    current_data = data[3, :]\n",
    "    current_data = np.nan_to_num(current_data)\n",
    "    \n",
    "    #Add time axis relative to the time when quench happens\n",
    "    time_range = np.asarray(range(current_data.shape[0]))\n",
    "    \n",
    "    #Calculate its time axis, center around the max value (quench happens at 0 time)\n",
    "    max_index = np.argmax(current_data)\n",
    "    time_range -= max_index\n",
    "    time_range = time_range.astype('float32')\n",
    "    \n",
    "    #Multiply by datarate\n",
    "    time_range = np.multiply(time_range, 1e-5, out=time_range, casting=\"unsafe\")\n",
    "    \n",
    "    #Save the time axis\n",
    "    np.save(dir_path + \"/time_axis/\" + ramp_num + \"_time\", time_range)\n",
    "    \n",
    "    %reset -f in\n",
    "    \n",
    "def auto_time_cal(dir_path):\n",
    "    \"\"\"\n",
    "    Scan a directory and automatically calculate the time axis for ramps that don't have a time_axis\n",
    "    \"\"\"\n",
    "    \n",
    "    available_ramps = ['Ramp_' + str(x) for x in list(range(1,90))]\n",
    "    \n",
    "    \n",
    "    for ramp_num in available_ramps:\n",
    "        print(\"Checking {} ...\".format(ramp_num))\n",
    "        #Scan every ramp in the directory\n",
    "        for filename in os.listdir(dir_path):\n",
    "            if filename.startswith(ramp_num + '-'):\n",
    "                #Check if the time axis for this ramp exists\n",
    "                time_file = Path(dir_path + \"/time_axis/\" + ramp_num + \"_time.npy\")\n",
    "                \n",
    "                if not time_file.exists():\n",
    "                    #If not, calculate the time axis of this ramp\n",
    "                    print(\"Calculating time for\", ramp_num)\n",
    "                    calculate_mat_time(ramp_num, dir_path)\n",
    "                    \n",
    "                    \n",
    "def rename_time_file():\n",
    "    \n",
    "    dir_path = \"./15T_data/time_axis/\"\n",
    "    \n",
    "    available_ramps = ['Ramp_' + str(x) for x in list(range(1,90))]\n",
    "    \n",
    "    \n",
    "    for ramp_num in available_ramps:\n",
    "        print(\"Checking {} ...\".format(ramp_num))\n",
    "        #Scan every ramp in the directory\n",
    "        for filename in os.listdir(dir_path):\n",
    "            if filename.startswith(ramp_num + '-'):\n",
    "                print(\"renaming {} to {}\".format(dir_path + filename, dir_path + ramp_num + \"_time.npy\"))\n",
    "                os.rename(dir_path + filename, dir_path + ramp_num + \"_time.npy\")"
   ]
  },
  {
   "cell_type": "code",
   "execution_count": 16,
   "metadata": {},
   "outputs": [
    {
     "name": "stdout",
     "output_type": "stream",
     "text": [
      "Ramp_10_time.npy  Ramp_26_time.npy  Ramp_40_time.npy  Ramp_57_time.npy\r\n",
      "Ramp_11_time.npy  Ramp_27_time.npy  Ramp_41_time.npy  Ramp_5_time.npy\r\n",
      "Ramp_12_time.npy  Ramp_28_time.npy  Ramp_42_time.npy  Ramp_6_time.npy\r\n",
      "Ramp_14_time.npy  Ramp_29_time.npy  Ramp_43_time.npy  Ramp_76_time.npy\r\n",
      "Ramp_15_time.npy  Ramp_2_time.npy   Ramp_44_time.npy  Ramp_77_time.npy\r\n",
      "Ramp_16_time.npy  Ramp_30_time.npy  Ramp_45_time.npy  Ramp_78_time.npy\r\n",
      "Ramp_17_time.npy  Ramp_31_time.npy  Ramp_46_time.npy  Ramp_79_time.npy\r\n",
      "Ramp_18_time.npy  Ramp_32_time.npy  Ramp_47_time.npy  Ramp_7_time.npy\r\n",
      "Ramp_19_time.npy  Ramp_33_time.npy  Ramp_48_time.npy  Ramp_80_time.npy\r\n",
      "Ramp_1_time.npy   Ramp_34_time.npy  Ramp_49_time.npy  Ramp_81_time.npy\r\n",
      "Ramp_20_time.npy  Ramp_35_time.npy  Ramp_4_time.npy   Ramp_82_time.npy\r\n",
      "Ramp_21_time.npy  Ramp_36_time.npy  Ramp_50_time.npy  Ramp_84_time.npy\r\n",
      "Ramp_22_time.npy  Ramp_37_time.npy  Ramp_53_time.npy  Ramp_85_time.npy\r\n",
      "Ramp_23_time.npy  Ramp_38_time.npy  Ramp_54_time.npy  Ramp_86_time.npy\r\n",
      "Ramp_24_time.npy  Ramp_39_time.npy  Ramp_55_time.npy  Ramp_8_time.npy\r\n",
      "Ramp_25_time.npy  Ramp_3_time.npy   Ramp_56_time.npy\r\n"
     ]
    }
   ],
   "source": [
    "!ls 15T_data/time_axis"
   ]
  },
  {
   "cell_type": "code",
   "execution_count": null,
   "metadata": {},
   "outputs": [],
   "source": []
  }
 ],
 "metadata": {
  "kernelspec": {
   "display_name": "Python 3",
   "language": "python",
   "name": "python3"
  },
  "language_info": {
   "codemirror_mode": {
    "name": "ipython",
    "version": 3
   },
   "file_extension": ".py",
   "mimetype": "text/x-python",
   "name": "python",
   "nbconvert_exporter": "python",
   "pygments_lexer": "ipython3",
   "version": "3.7.6"
  }
 },
 "nbformat": 4,
 "nbformat_minor": 4
}
