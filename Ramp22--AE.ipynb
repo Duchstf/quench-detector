{
 "cells": [
  {
   "cell_type": "markdown",
   "metadata": {},
   "source": [
    "# Ramp 22 with SDs, Mean abs, Thresholded zero-crossings"
   ]
  },
  {
   "cell_type": "code",
   "execution_count": 1,
   "metadata": {},
   "outputs": [
    {
     "name": "stderr",
     "output_type": "stream",
     "text": [
      "\n",
      "Bad key \"text.kerning_factor\" on line 4 in\n",
      "/uscms_data/d3/dhoang/miniconda3/lib/python3.7/site-packages/matplotlib/mpl-data/stylelib/_classic_test_patch.mplstyle.\n",
      "You probably need to get an updated matplotlibrc file from\n",
      "https://github.com/matplotlib/matplotlib/blob/v3.1.3/matplotlibrc.template\n",
      "or from the matplotlib source distribution\n",
      "Using TensorFlow backend.\n"
     ]
    }
   ],
   "source": [
    "#Data processing\n",
    "import os\n",
    "import pandas as pd\n",
    "import numpy as np\n",
    "import matplotlib.pyplot as plt\n",
    "import seaborn as sns\n",
    "from nptdms import TdmsFile #Process ramping file\n",
    "\n",
    "#For building ML models\n",
    "import keras\n",
    "import keras.models as models\n",
    "from keras.layers.core import Dense\n",
    "from keras import regularizers\n",
    "\n",
    "np.random.seed(1337) # for reproducibility"
   ]
  },
  {
   "cell_type": "markdown",
   "metadata": {},
   "source": [
    "## 0. Helper functions"
   ]
  },
  {
   "cell_type": "code",
   "execution_count": 5,
   "metadata": {},
   "outputs": [],
   "source": [
    "def load_sensor(dir_path, sensor, time_range = None):\n",
    "    \n",
    "    data = pd.DataFrame(data = {sensor: np.load(dir_path + sensor + \".npy\"),\n",
    "                                \"time\": np.load(dir_path + \"time.npy\")})\n",
    "    \n",
    "    start = min(data[\"time\"])\n",
    "    end = max(data[\"time\"])\n",
    "    \n",
    "    if time_range:\n",
    "        start = time_range[0]\n",
    "        end = time_range[1]\n",
    "    \n",
    "    \n",
    "    data = data[(data[\"time\"] > start) & (data[\"time\"] < end)]\n",
    "   \n",
    "    %reset -f in\n",
    "    \n",
    "    return data[sensor]\n",
    "\n",
    "def load_time_label(dir_path, time_range, window = 2000, step = 10):\n",
    "    \n",
    "    time_label =  np.load(dir_path + \"time.npy\")\n",
    "    \n",
    "    start = min(time_label)\n",
    "    end = max(time_label)\n",
    "    \n",
    "    if time_range:\n",
    "        start = time_range[0]\n",
    "        end = time_range[1]\n",
    "    \n",
    "    \n",
    "    time_label = time_label[(time_label > start) & (time_label < end)][window-1::step]\n",
    "    \n",
    "    %reset -f in\n",
    "    \n",
    "    return time_label\n",
    "\n",
    "#### Mean of abs(signal)\n",
    "def generate_mean_data(dir_path, time_range, window = 2000, step = 10):\n",
    "    #Load the data\n",
    "    ai0 = load_sensor(dir_path, \"ai0\", time_range = time_range).abs().rolling(window=window).mean().to_numpy()[window-1::step]\n",
    "    ai1 = load_sensor(dir_path, \"ai1\", time_range = time_range).abs().rolling(window=window).mean().to_numpy()[window-1::step]\n",
    "    ai2 = load_sensor(dir_path, \"ai2\", time_range = time_range).abs().rolling(window=window).mean().to_numpy()[window-1::step]\n",
    "    ai3 = load_sensor(dir_path, \"ai3\", time_range = time_range).abs().rolling(window=window).mean().to_numpy()[window-1::step]\n",
    "    ai4 = load_sensor(dir_path, \"ai4\", time_range = time_range).abs().rolling(window=window).mean().to_numpy()[window-1::step]\n",
    "    \n",
    "    \n",
    "    #Calculate the product\n",
    "    product = ai0*ai1*ai2*ai3*ai4\n",
    "\n",
    "    #Stack them together\n",
    "    all_mean = np.vstack((ai0,ai1,ai2,ai3,ai4, product)).transpose()\n",
    "    \n",
    "    %reset -f in\n",
    "    \n",
    "    return all_mean\n",
    "\n",
    "#### SD of signal\n",
    "def generate_sd_data(dir_path, time_range, window = 2000, step = 10):\n",
    "    #Load the data\n",
    "    ai0 = load_sensor(dir_path, \"ai0\", time_range = time_range).rolling(window=window).std().to_numpy()[window-1::step]\n",
    "    ai1 = load_sensor(dir_path, \"ai1\", time_range = time_range).rolling(window=window).std().to_numpy()[window-1::step]\n",
    "    ai2 = load_sensor(dir_path, \"ai2\", time_range = time_range).rolling(window=window).std().to_numpy()[window-1::step]\n",
    "    ai3 = load_sensor(dir_path, \"ai3\", time_range = time_range).rolling(window=window).std().to_numpy()[window-1::step]\n",
    "    ai4 = load_sensor(dir_path, \"ai4\", time_range = time_range).rolling(window=window).std().to_numpy()[window-1::step]\n",
    "    \n",
    "    #Calculate the product\n",
    "    product = ai0*ai1*ai2*ai3*ai4\n",
    "    \n",
    "    #Stack them together\n",
    "    all_sd = np.vstack((ai0,ai1,ai2,ai3,ai4, product)).transpose()\n",
    "    \n",
    "    %reset -f in\n",
    "    \n",
    "    return all_sd\n",
    "\n",
    "#### Thresholded zero crossings\n",
    "def zero_crossings(array):\n",
    "    \n",
    "    #Set values outside of range (0.001, 0.1) = 0\n",
    "    array[abs(array) > 0.1] = 0\n",
    "    array[abs(array) < 0.015] = 0\n",
    "    \n",
    "    #Calculate number of zero-crossing points, normalized by the window size\n",
    "    zero_crossings = ((array[:-1] * array[1:]) < 0).sum()/array.size\n",
    "    \n",
    "    return zero_crossings\n",
    "\n",
    "\n",
    "def generate_crossings_data(dir_path, time_range = None, window = 5000, step = 10):\n",
    "    \n",
    "    #Load the data\n",
    "    ai0 = load_sensor(dir_path, \"ai0\", time_range = time_range).rolling(window=window).apply(zero_crossings, raw = True).to_numpy()[window-1::step]\n",
    "    ai1 = load_sensor(dir_path, \"ai1\", time_range = time_range).rolling(window=window).apply(zero_crossings, raw = True).to_numpy()[window-1::step]\n",
    "    ai2 = load_sensor(dir_path, \"ai2\", time_range = time_range).rolling(window=window).apply(zero_crossings, raw = True).to_numpy()[window-1::step]\n",
    "    ai3 = load_sensor(dir_path, \"ai3\", time_range = time_range).rolling(window=window).apply(zero_crossings, raw = True).to_numpy()[window-1::step]\n",
    "    ai4 = load_sensor(dir_path, \"ai4\", time_range = time_range).rolling(window=window).apply(zero_crossings, raw = True).to_numpy()[window-1::step]\n",
    "    \n",
    "    product = ai0*ai1*ai2*ai3*ai4\n",
    "    product = product[:, np.newaxis]\n",
    "    \n",
    "    #Stack them together\n",
    "    #all_crossings = np.vstack((ai0,ai1,ai2,ai3,ai4, product)).transpose()\n",
    "    \n",
    "    %reset -f in\n",
    "    \n",
    "    return product\n",
    "\n",
    "\n",
    "def generate_data(dir_path, time_range, window = 2000, thres_win = 25000, step = 10):\n",
    "    \n",
    "    #Selection index due to using different window\n",
    "    selection_index = int((thres_win - window)/step)\n",
    "    \n",
    "    moving_mean = generate_mean_data(dir_path, time_range, window = window, step = step)[selection_index:]\n",
    "    moving_sd = generate_sd_data(dir_path, time_range, window = window, step = step)[selection_index:]\n",
    "    moving_thres_crossings = generate_crossings_data(dir_path, time_range, window = thres_win, step = step)\n",
    "    time_label = load_time_label(dir_path, time_range, window = window, step = step)[selection_index:]\n",
    "    \n",
    "    all_data = np.concatenate((moving_mean, moving_sd, moving_thres_crossings), axis = 1)\n",
    "    \n",
    "    %reset -f in\n",
    "    \n",
    "    return all_data, time_label"
   ]
  },
  {
   "cell_type": "markdown",
   "metadata": {},
   "source": [
    "## 1. Processing data"
   ]
  },
  {
   "cell_type": "code",
   "execution_count": 3,
   "metadata": {
    "collapsed": true
   },
   "outputs": [
    {
     "name": "stdout",
     "output_type": "stream",
     "text": [
      "Flushing input history\n",
      "Flushing input history\n",
      "Flushing input history\n",
      "Flushing input history\n",
      "Flushing input history\n",
      "Flushing input history\n",
      "Flushing input history\n",
      "Flushing input history\n",
      "Flushing input history\n",
      "Flushing input history\n",
      "Flushing input history\n",
      "Flushing input history\n",
      "Flushing input history\n",
      "Flushing input history\n",
      "Flushing input history\n",
      "Flushing input history\n",
      "Flushing input history\n",
      "Flushing input history\n",
      "Flushing input history\n",
      "Flushing input history\n",
      "Flushing input history\n",
      "Flushing input history\n",
      "Flushing input history\n",
      "Flushing input history\n",
      "Flushing input history\n",
      "Flushing input history\n",
      "Flushing input history\n",
      "Flushing input history\n",
      "Flushing input history\n",
      "Flushing input history\n",
      "Flushing input history\n",
      "Flushing input history\n",
      "Flushing input history\n",
      "Flushing input history\n",
      "Flushing input history\n",
      "Flushing input history\n",
      "Flushing input history\n",
      "Flushing input history\n",
      "Flushing input history\n",
      "Flushing input history\n",
      "X_train's shape:  (497500, 18)\n",
      "X_test's shape:  (197500, 18)\n"
     ]
    }
   ],
   "source": [
    "X_train, train_time = generate_data(\"./data/Ramp22/\", time_range = (-400, -350), window = 2000, step = 10)\n",
    "X_test, test_time = generate_data(\"./data/Ramp22/\", time_range = (-20, 0), window = 2000, step = 10)\n",
    "print(\"X_train's shape: \", X_train.shape)\n",
    "print(\"X_test's shape: \", X_test.shape)"
   ]
  },
  {
   "cell_type": "code",
   "execution_count": 4,
   "metadata": {},
   "outputs": [],
   "source": [
    "from sklearn.preprocessing import MinMaxScaler\n",
    "\n",
    "scaler = MinMaxScaler()\n",
    "\n",
    "scaler.fit(X_train)\n",
    "\n",
    "X_train = scaler.transform(X_train)\n",
    "\n",
    "X_test = scaler.transform(X_test)"
   ]
  },
  {
   "cell_type": "code",
   "execution_count": 5,
   "metadata": {},
   "outputs": [
    {
     "name": "stdout",
     "output_type": "stream",
     "text": [
      "Using Keras version:  2.3.1\n",
      "Model: \"sequential_1\"\n",
      "_________________________________________________________________\n",
      "Layer (type)                 Output Shape              Param #   \n",
      "=================================================================\n",
      "dense_1 (Dense)              (None, 12)                228       \n",
      "_________________________________________________________________\n",
      "dense_2 (Dense)              (None, 9)                 117       \n",
      "_________________________________________________________________\n",
      "dense_3 (Dense)              (None, 6)                 60        \n",
      "_________________________________________________________________\n",
      "dense_4 (Dense)              (None, 9)                 63        \n",
      "_________________________________________________________________\n",
      "dense_5 (Dense)              (None, 12)                120       \n",
      "_________________________________________________________________\n",
      "dense_6 (Dense)              (None, 18)                234       \n",
      "=================================================================\n",
      "Total params: 822\n",
      "Trainable params: 822\n",
      "Non-trainable params: 0\n",
      "_________________________________________________________________\n"
     ]
    }
   ],
   "source": [
    "#================BUILD THE MODEL====================\n",
    "print(\"Using Keras version: \", keras.__version__)\n",
    "\n",
    "# Simple model\n",
    "model = models.Sequential()\n",
    "\n",
    "model.add(Dense(12, activation = 'elu', kernel_initializer='glorot_uniform',\n",
    "                kernel_regularizer=regularizers.l2(0.0),\n",
    "                input_dim=X_train.shape[1]))\n",
    "\n",
    "model.add(Dense(9,activation='elu',\n",
    "                kernel_initializer='glorot_uniform'))\n",
    "\n",
    "model.add(Dense(6,activation='elu',\n",
    "                kernel_initializer='glorot_uniform'))\n",
    "\n",
    "model.add(Dense(9,activation='elu',\n",
    "                kernel_initializer='glorot_uniform'))\n",
    "\n",
    "model.add(Dense(12,activation='elu',\n",
    "                kernel_initializer='glorot_uniform'))\n",
    "\n",
    "model.add(Dense(X_train.shape[1],\n",
    "                kernel_initializer='glorot_uniform'))\n",
    "\n",
    "model.compile(loss='mse',optimizer='adam')\n",
    "\n",
    "model.summary()"
   ]
  },
  {
   "cell_type": "code",
   "execution_count": 6,
   "metadata": {
    "collapsed": true
   },
   "outputs": [
    {
     "name": "stdout",
     "output_type": "stream",
     "text": [
      "Train on 447750 samples, validate on 49750 samples\n",
      "Epoch 1/50\n",
      "447750/447750 [==============================] - 15s 34us/step - loss: 0.0031 - val_loss: 3.8716e-04\n",
      "Epoch 2/50\n",
      "447750/447750 [==============================] - 13s 30us/step - loss: 5.7352e-04 - val_loss: 1.5058e-04\n",
      "Epoch 3/50\n",
      "447750/447750 [==============================] - 11s 26us/step - loss: 2.4389e-04 - val_loss: 1.0168e-04\n",
      "Epoch 4/50\n",
      "447750/447750 [==============================] - 11s 24us/step - loss: 1.7518e-04 - val_loss: 7.2313e-05\n",
      "Epoch 5/50\n",
      "447750/447750 [==============================] - 14s 32us/step - loss: 1.3788e-04 - val_loss: 5.4620e-05\n",
      "Epoch 6/50\n",
      "447750/447750 [==============================] - 11s 24us/step - loss: 1.1987e-04 - val_loss: 4.8648e-05\n",
      "Epoch 7/50\n",
      "447750/447750 [==============================] - 12s 27us/step - loss: 1.0849e-04 - val_loss: 4.4734e-05\n",
      "Epoch 8/50\n",
      "447750/447750 [==============================] - 9s 19us/step - loss: 9.6980e-05 - val_loss: 3.8229e-05\n",
      "Epoch 9/50\n",
      "447750/447750 [==============================] - 12s 27us/step - loss: 8.4885e-05 - val_loss: 3.5108e-05\n",
      "Epoch 10/50\n",
      "447750/447750 [==============================] - 12s 26us/step - loss: 7.3397e-05 - val_loss: 2.9809e-05\n",
      "Epoch 11/50\n",
      "447750/447750 [==============================] - 11s 24us/step - loss: 6.3419e-05 - val_loss: 2.6991e-05\n",
      "Epoch 12/50\n",
      "447750/447750 [==============================] - 12s 26us/step - loss: 5.5753e-05 - val_loss: 2.5098e-05\n",
      "Epoch 13/50\n",
      "447750/447750 [==============================] - 10s 22us/step - loss: 5.0207e-05 - val_loss: 2.4736e-05\n",
      "Epoch 14/50\n",
      "447750/447750 [==============================] - 10s 21us/step - loss: 4.6849e-05 - val_loss: 2.3704e-05\n",
      "Epoch 15/50\n",
      "447750/447750 [==============================] - 10s 23us/step - loss: 4.5039e-05 - val_loss: 2.3882e-05\n",
      "Epoch 16/50\n",
      "447750/447750 [==============================] - 13s 29us/step - loss: 4.3552e-05 - val_loss: 2.3765e-05\n",
      "Epoch 17/50\n",
      "447750/447750 [==============================] - 9s 20us/step - loss: 4.2488e-05 - val_loss: 2.3537e-05\n",
      "Epoch 18/50\n",
      "447750/447750 [==============================] - 13s 29us/step - loss: 4.1437e-05 - val_loss: 2.2716e-05\n",
      "Epoch 19/50\n",
      "447750/447750 [==============================] - 12s 27us/step - loss: 4.0388e-05 - val_loss: 2.3371e-05\n",
      "Epoch 20/50\n",
      "447750/447750 [==============================] - 13s 29us/step - loss: 3.9423e-05 - val_loss: 2.2650e-05\n",
      "Epoch 21/50\n",
      "447750/447750 [==============================] - 13s 29us/step - loss: 3.8519e-05 - val_loss: 2.2917e-05\n",
      "Epoch 22/50\n",
      "447750/447750 [==============================] - 14s 30us/step - loss: 3.7760e-05 - val_loss: 2.2401e-05\n",
      "Epoch 23/50\n",
      "447750/447750 [==============================] - 13s 30us/step - loss: 3.7197e-05 - val_loss: 2.2133e-05\n",
      "Epoch 24/50\n",
      "447750/447750 [==============================] - 16s 35us/step - loss: 3.6544e-05 - val_loss: 2.2301e-05\n",
      "Epoch 25/50\n",
      "447750/447750 [==============================] - 9s 20us/step - loss: 3.6148e-05 - val_loss: 2.2219e-05\n",
      "Epoch 26/50\n",
      "447750/447750 [==============================] - 11s 25us/step - loss: 3.5701e-05 - val_loss: 2.2815e-05\n",
      "Epoch 27/50\n",
      "447750/447750 [==============================] - 8s 19us/step - loss: 3.5340e-05 - val_loss: 2.2288e-05\n",
      "Epoch 28/50\n",
      "447750/447750 [==============================] - 11s 24us/step - loss: 3.4935e-05 - val_loss: 2.2039e-05\n",
      "Epoch 29/50\n",
      "447750/447750 [==============================] - 11s 25us/step - loss: 3.4521e-05 - val_loss: 2.2189e-05\n",
      "Epoch 30/50\n",
      "447750/447750 [==============================] - 13s 29us/step - loss: 3.4060e-05 - val_loss: 2.1863e-05\n",
      "Epoch 31/50\n",
      "447750/447750 [==============================] - 12s 26us/step - loss: 3.3612e-05 - val_loss: 2.1924e-05\n",
      "Epoch 32/50\n",
      "447750/447750 [==============================] - 13s 30us/step - loss: 3.3191e-05 - val_loss: 2.0928e-05\n",
      "Epoch 33/50\n",
      "447750/447750 [==============================] - 12s 27us/step - loss: 3.2822e-05 - val_loss: 2.1844e-05\n",
      "Epoch 34/50\n",
      "447750/447750 [==============================] - 11s 25us/step - loss: 3.2465e-05 - val_loss: 2.1422e-05\n",
      "Epoch 35/50\n",
      "447750/447750 [==============================] - 11s 26us/step - loss: 3.2039e-05 - val_loss: 2.1936e-05\n",
      "Epoch 36/50\n",
      "447750/447750 [==============================] - 13s 28us/step - loss: 3.1762e-05 - val_loss: 2.1461e-05\n",
      "Epoch 37/50\n",
      "447750/447750 [==============================] - 15s 33us/step - loss: 3.1499e-05 - val_loss: 2.1092e-05\n",
      "Epoch 38/50\n",
      "447750/447750 [==============================] - 14s 32us/step - loss: 3.1259e-05 - val_loss: 2.1935e-05\n",
      "Epoch 39/50\n",
      "447750/447750 [==============================] - 13s 29us/step - loss: 3.1090e-05 - val_loss: 2.1637e-05\n",
      "Epoch 40/50\n",
      "447750/447750 [==============================] - 11s 25us/step - loss: 3.0958e-05 - val_loss: 2.1778e-05\n",
      "Epoch 41/50\n",
      "447750/447750 [==============================] - 13s 30us/step - loss: 3.0619e-05 - val_loss: 2.1103e-05\n",
      "Epoch 42/50\n",
      "447750/447750 [==============================] - 12s 26us/step - loss: 3.0469e-05 - val_loss: 2.1624e-05\n",
      "Epoch 43/50\n",
      "447750/447750 [==============================] - 9s 21us/step - loss: 3.0312e-05 - val_loss: 2.1277e-05\n",
      "Epoch 44/50\n",
      "447750/447750 [==============================] - 9s 21us/step - loss: 3.0120e-05 - val_loss: 2.0884e-05\n",
      "Epoch 45/50\n",
      "447750/447750 [==============================] - 13s 29us/step - loss: 3.0056e-05 - val_loss: 2.1146e-05\n",
      "Epoch 46/50\n",
      "447750/447750 [==============================] - 12s 27us/step - loss: 2.9893e-05 - val_loss: 2.0482e-05\n",
      "Epoch 47/50\n",
      "447750/447750 [==============================] - 9s 19us/step - loss: 2.9698e-05 - val_loss: 2.1384e-05\n",
      "Epoch 48/50\n",
      "447750/447750 [==============================] - 8s 18us/step - loss: 2.9667e-05 - val_loss: 2.0349e-05\n",
      "Epoch 49/50\n",
      "447750/447750 [==============================] - 9s 20us/step - loss: 2.9530e-05 - val_loss: 2.0359e-05\n",
      "Epoch 50/50\n",
      "447750/447750 [==============================] - 8s 18us/step - loss: 2.9389e-05 - val_loss: 2.0324e-05\n"
     ]
    }
   ],
   "source": [
    "# Train model for 100 epochs, batch size of 10: \n",
    "NUM_EPOCHS=50\n",
    "BATCH_SIZE=1028\n",
    "\n",
    "history=model.fit(X_train, X_train,\n",
    "                  batch_size=BATCH_SIZE, \n",
    "                  epochs=NUM_EPOCHS,\n",
    "                  validation_split=0.1,\n",
    "                  verbose = 1)"
   ]
  },
  {
   "cell_type": "code",
   "execution_count": 7,
   "metadata": {},
   "outputs": [],
   "source": [
    "X_pred = model.predict(X_train)\n",
    "scored = pd.DataFrame()\n",
    "scored['Loss_mse'] = np.mean(np.abs(X_pred-X_train), axis = 1)"
   ]
  },
  {
   "cell_type": "code",
   "execution_count": 8,
   "metadata": {},
   "outputs": [],
   "source": [
    "X_pred_test = model.predict(X_test)\n",
    "scored_test = pd.DataFrame()\n",
    "scored_test['Loss_mse'] = np.mean(np.abs(X_pred_test-X_test), axis = 1)"
   ]
  },
  {
   "cell_type": "code",
   "execution_count": 9,
   "metadata": {
    "collapsed": true
   },
   "outputs": [
    {
     "data": {
      "text/plain": [
       "Text(0.5, 0, 'Time (s)')"
      ]
     },
     "execution_count": 9,
     "metadata": {},
     "output_type": "execute_result"
    },
    {
     "data": {
      "image/png": "[encoded data removed]",
      "text/plain": [
       "<Figure size 1440x144 with 1 Axes>"
      ]
     },
     "metadata": {
      "needs_background": "light"
     },
     "output_type": "display_data"
    }
   ],
   "source": [
    "plt.figure(figsize=(20,2))\n",
    "plt.plot(train_time, scored['Loss_mse'])\n",
    "plt.ylim([0, 2])\n",
    "plt.xlabel(\"Time (s)\")"
   ]
  },
  {
   "cell_type": "code",
   "execution_count": 11,
   "metadata": {
    "collapsed": true
   },
   "outputs": [
    {
     "data": {
      "text/plain": [
       "Text(0.5, 0, 'Time (s)')"
      ]
     },
     "execution_count": 11,
     "metadata": {},
     "output_type": "execute_result"
    },
    {
     "data": {
      "image/png": "[encoded data removed]",
      "text/plain": [
       "<Figure size 1440x144 with 1 Axes>"
      ]
     },
     "metadata": {
      "needs_background": "light"
     },
     "output_type": "display_data"
    }
   ],
   "source": [
    "plt.figure(figsize=(20,2))\n",
    "plt.plot(test_time, scored_test['Loss_mse'])\n",
    "plt.ylim([0, 2])\n",
    "#plt.xlim([-100,0])\n",
    "plt.xlabel(\"Time (s)\")"
   ]
  },
  {
   "cell_type": "markdown",
   "metadata": {},
   "source": [
    "## Different training regime (threshold 0.005, 0.1)"
   ]
  },
  {
   "cell_type": "code",
   "execution_count": 5,
   "metadata": {
    "collapsed": true
   },
   "outputs": [
    {
     "name": "stdout",
     "output_type": "stream",
     "text": [
      "Flushing input history\n",
      "Flushing input history\n",
      "Flushing input history\n",
      "Flushing input history\n",
      "Flushing input history\n",
      "Flushing input history\n",
      "Flushing input history\n",
      "Flushing input history\n",
      "Flushing input history\n",
      "Flushing input history\n",
      "Flushing input history\n",
      "Flushing input history\n",
      "Flushing input history\n",
      "Flushing input history\n",
      "Flushing input history\n",
      "Flushing input history\n",
      "Flushing input history\n",
      "Flushing input history\n",
      "Flushing input history\n",
      "Flushing input history\n",
      "Flushing input history\n",
      "Flushing input history\n",
      "Flushing input history\n",
      "Flushing input history\n",
      "Flushing input history\n",
      "Flushing input history\n",
      "Flushing input history\n",
      "Flushing input history\n",
      "Flushing input history\n",
      "Flushing input history\n",
      "Flushing input history\n",
      "Flushing input history\n",
      "Flushing input history\n",
      "Flushing input history\n",
      "Flushing input history\n",
      "Flushing input history\n",
      "Flushing input history\n",
      "Flushing input history\n",
      "Flushing input history\n",
      "Flushing input history\n",
      "X_train's shape:  (47500, 18)\n",
      "X_test's shape:  (197500, 18)\n"
     ]
    }
   ],
   "source": [
    "X_train, train_time = generate_data(\"./data/Ramp22/\", time_range = (-25, -20), window = 2000, step = 10)\n",
    "X_test, test_time = generate_data(\"./data/Ramp22/\", time_range = (-20, 0), window = 2000, step = 10)\n",
    "print(\"X_train's shape: \", X_train.shape)\n",
    "print(\"X_test's shape: \", X_test.shape)"
   ]
  },
  {
   "cell_type": "code",
   "execution_count": 6,
   "metadata": {},
   "outputs": [],
   "source": [
    "from sklearn.preprocessing import MinMaxScaler\n",
    "\n",
    "scaler = MinMaxScaler()\n",
    "\n",
    "scaler.fit(X_train)\n",
    "\n",
    "X_train = scaler.transform(X_train)\n",
    "\n",
    "X_test = scaler.transform(X_test)"
   ]
  },
  {
   "cell_type": "code",
   "execution_count": 7,
   "metadata": {
    "collapsed": true
   },
   "outputs": [
    {
     "name": "stdout",
     "output_type": "stream",
     "text": [
      "Using Keras version:  2.3.1\n",
      "Model: \"sequential_1\"\n",
      "_________________________________________________________________\n",
      "Layer (type)                 Output Shape              Param #   \n",
      "=================================================================\n",
      "dense_1 (Dense)              (None, 12)                228       \n",
      "_________________________________________________________________\n",
      "dense_2 (Dense)              (None, 9)                 117       \n",
      "_________________________________________________________________\n",
      "dense_3 (Dense)              (None, 6)                 60        \n",
      "_________________________________________________________________\n",
      "dense_4 (Dense)              (None, 9)                 63        \n",
      "_________________________________________________________________\n",
      "dense_5 (Dense)              (None, 12)                120       \n",
      "_________________________________________________________________\n",
      "dense_6 (Dense)              (None, 18)                234       \n",
      "=================================================================\n",
      "Total params: 822\n",
      "Trainable params: 822\n",
      "Non-trainable params: 0\n",
      "_________________________________________________________________\n"
     ]
    }
   ],
   "source": [
    "#================BUILD THE MODEL====================\n",
    "print(\"Using Keras version: \", keras.__version__)\n",
    "\n",
    "# Simple model\n",
    "model = models.Sequential()\n",
    "\n",
    "model.add(Dense(12, activation = 'elu', kernel_initializer='glorot_uniform',\n",
    "                kernel_regularizer=regularizers.l2(0.0),\n",
    "                input_dim=X_train.shape[1]))\n",
    "\n",
    "model.add(Dense(9,activation='elu',\n",
    "                kernel_initializer='glorot_uniform'))\n",
    "\n",
    "model.add(Dense(6,activation='elu',\n",
    "                kernel_initializer='glorot_uniform'))\n",
    "\n",
    "model.add(Dense(9,activation='elu',\n",
    "                kernel_initializer='glorot_uniform'))\n",
    "\n",
    "model.add(Dense(12,activation='elu',\n",
    "                kernel_initializer='glorot_uniform'))\n",
    "\n",
    "model.add(Dense(X_train.shape[1],\n",
    "                kernel_initializer='glorot_uniform'))\n",
    "\n",
    "model.compile(loss='mse',optimizer='adam')\n",
    "\n",
    "model.summary()"
   ]
  },
  {
   "cell_type": "code",
   "execution_count": 8,
   "metadata": {
    "collapsed": true
   },
   "outputs": [
    {
     "name": "stdout",
     "output_type": "stream",
     "text": [
      "Train on 42750 samples, validate on 4750 samples\n",
      "Epoch 1/50\n",
      "42750/42750 [==============================] - 2s 44us/step - loss: 0.0768 - val_loss: 0.0662\n",
      "Epoch 2/50\n",
      "42750/42750 [==============================] - 1s 21us/step - loss: 0.0245 - val_loss: 0.0278\n",
      "Epoch 3/50\n",
      "42750/42750 [==============================] - 1s 18us/step - loss: 0.0152 - val_loss: 0.0242\n",
      "Epoch 4/50\n",
      "42750/42750 [==============================] - 1s 21us/step - loss: 0.0138 - val_loss: 0.0224\n",
      "Epoch 5/50\n",
      "42750/42750 [==============================] - 1s 21us/step - loss: 0.0124 - val_loss: 0.0202\n",
      "Epoch 6/50\n",
      "42750/42750 [==============================] - 1s 20us/step - loss: 0.0108 - val_loss: 0.0183\n",
      "Epoch 7/50\n",
      "42750/42750 [==============================] - 1s 17us/step - loss: 0.0094 - val_loss: 0.0167\n",
      "Epoch 8/50\n",
      "42750/42750 [==============================] - 1s 16us/step - loss: 0.0083 - val_loss: 0.0154\n",
      "Epoch 9/50\n",
      "42750/42750 [==============================] - 1s 14us/step - loss: 0.0074 - val_loss: 0.0145\n",
      "Epoch 10/50\n",
      "42750/42750 [==============================] - 1s 20us/step - loss: 0.0068 - val_loss: 0.0137\n",
      "Epoch 11/50\n",
      "42750/42750 [==============================] - 1s 18us/step - loss: 0.0063 - val_loss: 0.0130\n",
      "Epoch 12/50\n",
      "42750/42750 [==============================] - 1s 22us/step - loss: 0.0059 - val_loss: 0.0124\n",
      "Epoch 13/50\n",
      "42750/42750 [==============================] - 1s 23us/step - loss: 0.0056 - val_loss: 0.0117\n",
      "Epoch 14/50\n",
      "42750/42750 [==============================] - 1s 19us/step - loss: 0.0054 - val_loss: 0.0111\n",
      "Epoch 15/50\n",
      "42750/42750 [==============================] - 1s 22us/step - loss: 0.0051 - val_loss: 0.0105\n",
      "Epoch 16/50\n",
      "42750/42750 [==============================] - 1s 21us/step - loss: 0.0048 - val_loss: 0.0099\n",
      "Epoch 17/50\n",
      "42750/42750 [==============================] - 1s 17us/step - loss: 0.0046 - val_loss: 0.0092\n",
      "Epoch 18/50\n",
      "42750/42750 [==============================] - 1s 16us/step - loss: 0.0044 - val_loss: 0.0086\n",
      "Epoch 19/50\n",
      "42750/42750 [==============================] - 1s 19us/step - loss: 0.0041 - val_loss: 0.0080\n",
      "Epoch 20/50\n",
      "42750/42750 [==============================] - 1s 19us/step - loss: 0.0039 - val_loss: 0.0076\n",
      "Epoch 21/50\n",
      "42750/42750 [==============================] - 1s 19us/step - loss: 0.0038 - val_loss: 0.0073\n",
      "Epoch 22/50\n",
      "42750/42750 [==============================] - 1s 17us/step - loss: 0.0036 - val_loss: 0.0070\n",
      "Epoch 23/50\n",
      "42750/42750 [==============================] - 1s 19us/step - loss: 0.0036 - val_loss: 0.0070\n",
      "Epoch 24/50\n",
      "42750/42750 [==============================] - 1s 17us/step - loss: 0.0035 - val_loss: 0.0068\n",
      "Epoch 25/50\n",
      "42750/42750 [==============================] - 1s 18us/step - loss: 0.0034 - val_loss: 0.0067\n",
      "Epoch 26/50\n",
      "42750/42750 [==============================] - 1s 17us/step - loss: 0.0034 - val_loss: 0.0066\n",
      "Epoch 27/50\n",
      "42750/42750 [==============================] - 1s 18us/step - loss: 0.0033 - val_loss: 0.0065\n",
      "Epoch 28/50\n",
      "42750/42750 [==============================] - 1s 17us/step - loss: 0.0033 - val_loss: 0.0064\n",
      "Epoch 29/50\n",
      "42750/42750 [==============================] - 1s 22us/step - loss: 0.0032 - val_loss: 0.0063\n",
      "Epoch 30/50\n",
      "42750/42750 [==============================] - 1s 16us/step - loss: 0.0031 - val_loss: 0.0063\n",
      "Epoch 31/50\n",
      "42750/42750 [==============================] - 1s 14us/step - loss: 0.0031 - val_loss: 0.0062\n",
      "Epoch 32/50\n",
      "42750/42750 [==============================] - 1s 15us/step - loss: 0.0030 - val_loss: 0.0061\n",
      "Epoch 33/50\n",
      "42750/42750 [==============================] - 1s 17us/step - loss: 0.0030 - val_loss: 0.0060\n",
      "Epoch 34/50\n",
      "42750/42750 [==============================] - 1s 12us/step - loss: 0.0029 - val_loss: 0.0059\n",
      "Epoch 35/50\n",
      "42750/42750 [==============================] - 0s 11us/step - loss: 0.0029 - val_loss: 0.0058\n",
      "Epoch 36/50\n",
      "42750/42750 [==============================] - 0s 11us/step - loss: 0.0029 - val_loss: 0.0057\n",
      "Epoch 37/50\n",
      "42750/42750 [==============================] - 0s 11us/step - loss: 0.0028 - val_loss: 0.0056\n",
      "Epoch 38/50\n",
      "42750/42750 [==============================] - 1s 13us/step - loss: 0.0028 - val_loss: 0.0055\n",
      "Epoch 39/50\n",
      "42750/42750 [==============================] - 1s 17us/step - loss: 0.0027 - val_loss: 0.0055\n",
      "Epoch 40/50\n",
      "42750/42750 [==============================] - 1s 15us/step - loss: 0.0027 - val_loss: 0.0054\n",
      "Epoch 41/50\n",
      "42750/42750 [==============================] - 1s 14us/step - loss: 0.0027 - val_loss: 0.0054\n",
      "Epoch 42/50\n",
      "42750/42750 [==============================] - 1s 16us/step - loss: 0.0026 - val_loss: 0.0053\n",
      "Epoch 43/50\n",
      "42750/42750 [==============================] - 1s 13us/step - loss: 0.0026 - val_loss: 0.0052\n",
      "Epoch 44/50\n",
      "42750/42750 [==============================] - 1s 15us/step - loss: 0.0026 - val_loss: 0.0052\n",
      "Epoch 45/50\n",
      "42750/42750 [==============================] - 1s 15us/step - loss: 0.0025 - val_loss: 0.0051\n",
      "Epoch 46/50\n",
      "42750/42750 [==============================] - 1s 21us/step - loss: 0.0025 - val_loss: 0.0050\n",
      "Epoch 47/50\n",
      "42750/42750 [==============================] - 1s 14us/step - loss: 0.0025 - val_loss: 0.0050\n",
      "Epoch 48/50\n",
      "42750/42750 [==============================] - 0s 12us/step - loss: 0.0025 - val_loss: 0.0050\n",
      "Epoch 49/50\n",
      "42750/42750 [==============================] - 1s 14us/step - loss: 0.0024 - val_loss: 0.0049\n",
      "Epoch 50/50\n",
      "42750/42750 [==============================] - 1s 18us/step - loss: 0.0024 - val_loss: 0.0049\n"
     ]
    }
   ],
   "source": [
    "# Train model for 100 epochs, batch size of 10: \n",
    "NUM_EPOCHS=50\n",
    "BATCH_SIZE=1028\n",
    "\n",
    "history=model.fit(X_train, X_train,\n",
    "                  batch_size=BATCH_SIZE, \n",
    "                  epochs=NUM_EPOCHS,\n",
    "                  validation_split=0.1,\n",
    "                  verbose = 1)"
   ]
  },
  {
   "cell_type": "code",
   "execution_count": 9,
   "metadata": {},
   "outputs": [],
   "source": [
    "X_pred = model.predict(X_train)\n",
    "scored = pd.DataFrame()\n",
    "scored['Loss_mse'] = np.mean(np.abs(X_pred-X_train), axis = 1)"
   ]
  },
  {
   "cell_type": "code",
   "execution_count": 10,
   "metadata": {},
   "outputs": [],
   "source": [
    "X_pred_test = model.predict(X_test)\n",
    "scored_test = pd.DataFrame()\n",
    "scored_test['Loss_mse'] = np.mean(np.abs(X_pred_test-X_test), axis = 1)"
   ]
  },
  {
   "cell_type": "code",
   "execution_count": 11,
   "metadata": {
    "collapsed": true
   },
   "outputs": [
    {
     "data": {
      "text/plain": [
       "Text(0.5, 0, 'Time (s)')"
      ]
     },
     "execution_count": 11,
     "metadata": {},
     "output_type": "execute_result"
    },
    {
     "data": {
      "image/png": "[encoded data removed]",
      "text/plain": [
       "<Figure size 1440x144 with 1 Axes>"
      ]
     },
     "metadata": {
      "needs_background": "light"
     },
     "output_type": "display_data"
    }
   ],
   "source": [
    "plt.figure(figsize=(20,2))\n",
    "plt.plot(train_time, scored['Loss_mse'])\n",
    "plt.ylim([0, 2])\n",
    "plt.xlabel(\"Time (s)\")"
   ]
  },
  {
   "cell_type": "code",
   "execution_count": 60,
   "metadata": {
    "collapsed": true
   },
   "outputs": [
    {
     "data": {
      "text/plain": [
       "Text(0.5, 0, 'Time (s)')"
      ]
     },
     "execution_count": 60,
     "metadata": {},
     "output_type": "execute_result"
    },
    {
     "data": {
      "image/png": "[encoded data removed]",
      "text/plain": [
       "<Figure size 1440x144 with 1 Axes>"
      ]
     },
     "metadata": {
      "needs_background": "light"
     },
     "output_type": "display_data"
    }
   ],
   "source": [
    "plt.figure(figsize=(20,2))\n",
    "plt.plot(test_time, scored_test['Loss_mse'])\n",
    "#plt.ylim([0, 5])\n",
    "#plt.xlim([-100,0])\n",
    "plt.xlabel(\"Time (s)\")"
   ]
  },
  {
   "cell_type": "markdown",
   "metadata": {},
   "source": [
    "## Changing threshold range (0.015, 0.1)"
   ]
  },
  {
   "cell_type": "code",
   "execution_count": 31,
   "metadata": {
    "collapsed": true
   },
   "outputs": [
    {
     "data": {
      "text/plain": [
       "[<matplotlib.lines.Line2D at 0x7fc1b3ef0d10>]"
      ]
     },
     "execution_count": 31,
     "metadata": {},
     "output_type": "execute_result"
    },
    {
     "data": {
      "image/png": "[encoded data removed]",
      "text/plain": [
       "<Figure size 1440x144 with 1 Axes>"
      ]
     },
     "metadata": {
      "needs_background": "light"
     },
     "output_type": "display_data"
    }
   ],
   "source": [
    "plt.figure(figsize=(20,2))\n",
    "plt.plot(test_time, X_test[:,17])"
   ]
  },
  {
   "cell_type": "code",
   "execution_count": 63,
   "metadata": {
    "collapsed": true
   },
   "outputs": [
    {
     "data": {
      "text/plain": [
       "(0, 40)"
      ]
     },
     "execution_count": 63,
     "metadata": {},
     "output_type": "execute_result"
    },
    {
     "data": {
      "image/png": "[encoded data removed]",
      "text/plain": [
       "<Figure size 1440x144 with 1 Axes>"
      ]
     },
     "metadata": {
      "needs_background": "light"
     },
     "output_type": "display_data"
    }
   ],
   "source": [
    "plt.figure(figsize=(20,2))\n",
    "plt.plot(test_time, X_test[:,5])\n",
    "plt.ylim([0, 40])"
   ]
  },
  {
   "cell_type": "code",
   "execution_count": 3,
   "metadata": {
    "collapsed": true
   },
   "outputs": [
    {
     "name": "stdout",
     "output_type": "stream",
     "text": [
      "Flushing input history\n",
      "Flushing input history\n",
      "Flushing input history\n",
      "Flushing input history\n",
      "Flushing input history\n",
      "Flushing input history\n",
      "Flushing input history\n",
      "Flushing input history\n",
      "Flushing input history\n",
      "Flushing input history\n",
      "Flushing input history\n",
      "Flushing input history\n",
      "Flushing input history\n",
      "Flushing input history\n",
      "Flushing input history\n",
      "Flushing input history\n",
      "Flushing input history\n",
      "Flushing input history\n",
      "Flushing input history\n",
      "Flushing input history\n",
      "Flushing input history\n",
      "Flushing input history\n",
      "Flushing input history\n",
      "Flushing input history\n",
      "Flushing input history\n",
      "Flushing input history\n",
      "Flushing input history\n",
      "Flushing input history\n",
      "Flushing input history\n",
      "Flushing input history\n",
      "Flushing input history\n",
      "Flushing input history\n",
      "Flushing input history\n",
      "Flushing input history\n",
      "Flushing input history\n",
      "Flushing input history\n",
      "Flushing input history\n",
      "Flushing input history\n",
      "Flushing input history\n",
      "Flushing input history\n",
      "X_train's shape:  (47500, 18)\n",
      "X_test's shape:  (197500, 18)\n"
     ]
    }
   ],
   "source": [
    "X_train, train_time = generate_data(\"./data/Ramp22/\", time_range = (-25, -20), window = 2000, step = 10)\n",
    "X_test, test_time = generate_data(\"./data/Ramp22/\", time_range = (-20, 0), window = 2000, step = 10)\n",
    "print(\"X_train's shape: \", X_train.shape)\n",
    "print(\"X_test's shape: \", X_test.shape)"
   ]
  },
  {
   "cell_type": "code",
   "execution_count": 4,
   "metadata": {},
   "outputs": [],
   "source": [
    "from sklearn.preprocessing import MinMaxScaler\n",
    "\n",
    "scaler = MinMaxScaler()\n",
    "\n",
    "scaler.fit(X_train)\n",
    "\n",
    "X_train = scaler.transform(X_train)\n",
    "\n",
    "X_test = scaler.transform(X_test)"
   ]
  },
  {
   "cell_type": "code",
   "execution_count": 5,
   "metadata": {
    "collapsed": true
   },
   "outputs": [
    {
     "name": "stdout",
     "output_type": "stream",
     "text": [
      "Using Keras version:  2.3.1\n",
      "Model: \"sequential_1\"\n",
      "_________________________________________________________________\n",
      "Layer (type)                 Output Shape              Param #   \n",
      "=================================================================\n",
      "dense_1 (Dense)              (None, 12)                228       \n",
      "_________________________________________________________________\n",
      "dense_2 (Dense)              (None, 9)                 117       \n",
      "_________________________________________________________________\n",
      "dense_3 (Dense)              (None, 6)                 60        \n",
      "_________________________________________________________________\n",
      "dense_4 (Dense)              (None, 9)                 63        \n",
      "_________________________________________________________________\n",
      "dense_5 (Dense)              (None, 12)                120       \n",
      "_________________________________________________________________\n",
      "dense_6 (Dense)              (None, 18)                234       \n",
      "=================================================================\n",
      "Total params: 822\n",
      "Trainable params: 822\n",
      "Non-trainable params: 0\n",
      "_________________________________________________________________\n"
     ]
    }
   ],
   "source": [
    "#================BUILD THE MODEL====================\n",
    "print(\"Using Keras version: \", keras.__version__)\n",
    "\n",
    "# Simple model\n",
    "model = models.Sequential()\n",
    "\n",
    "model.add(Dense(12, activation = 'elu', kernel_initializer='glorot_uniform',\n",
    "                kernel_regularizer=regularizers.l2(0.0),\n",
    "                input_dim=X_train.shape[1]))\n",
    "\n",
    "model.add(Dense(9,activation='elu',\n",
    "                kernel_initializer='glorot_uniform'))\n",
    "\n",
    "model.add(Dense(6,activation='elu',\n",
    "                kernel_initializer='glorot_uniform'))\n",
    "\n",
    "model.add(Dense(9,activation='elu',\n",
    "                kernel_initializer='glorot_uniform'))\n",
    "\n",
    "model.add(Dense(12,activation='elu',\n",
    "                kernel_initializer='glorot_uniform'))\n",
    "\n",
    "model.add(Dense(X_train.shape[1],\n",
    "                kernel_initializer='glorot_uniform'))\n",
    "\n",
    "model.compile(loss='mse',optimizer='adam')\n",
    "\n",
    "model.summary()"
   ]
  },
  {
   "cell_type": "code",
   "execution_count": 6,
   "metadata": {
    "collapsed": true
   },
   "outputs": [
    {
     "name": "stdout",
     "output_type": "stream",
     "text": [
      "Train on 42750 samples, validate on 4750 samples\n",
      "Epoch 1/50\n",
      "42750/42750 [==============================] - 3s 59us/step - loss: 0.0644 - val_loss: 0.0685\n",
      "Epoch 2/50\n",
      "42750/42750 [==============================] - 0s 9us/step - loss: 0.0231 - val_loss: 0.0320\n",
      "Epoch 3/50\n",
      "42750/42750 [==============================] - 0s 10us/step - loss: 0.0157 - val_loss: 0.0283\n",
      "Epoch 4/50\n",
      "42750/42750 [==============================] - 1s 13us/step - loss: 0.0142 - val_loss: 0.0263\n",
      "Epoch 5/50\n",
      "42750/42750 [==============================] - 1s 12us/step - loss: 0.0126 - val_loss: 0.0241\n",
      "Epoch 6/50\n",
      "42750/42750 [==============================] - 1s 12us/step - loss: 0.0111 - val_loss: 0.0222\n",
      "Epoch 7/50\n",
      "42750/42750 [==============================] - 1s 13us/step - loss: 0.0098 - val_loss: 0.0206\n",
      "Epoch 8/50\n",
      "42750/42750 [==============================] - 1s 14us/step - loss: 0.0087 - val_loss: 0.0191\n",
      "Epoch 9/50\n",
      "42750/42750 [==============================] - 1s 13us/step - loss: 0.0079 - val_loss: 0.0178\n",
      "Epoch 10/50\n",
      "42750/42750 [==============================] - 0s 12us/step - loss: 0.0072 - val_loss: 0.0164\n",
      "Epoch 11/50\n",
      "42750/42750 [==============================] - 0s 10us/step - loss: 0.0066 - val_loss: 0.0149\n",
      "Epoch 12/50\n",
      "42750/42750 [==============================] - 0s 11us/step - loss: 0.0061 - val_loss: 0.0135\n",
      "Epoch 13/50\n",
      "42750/42750 [==============================] - 1s 13us/step - loss: 0.0057 - val_loss: 0.0122\n",
      "Epoch 14/50\n",
      "42750/42750 [==============================] - 1s 14us/step - loss: 0.0053 - val_loss: 0.0113\n",
      "Epoch 15/50\n",
      "42750/42750 [==============================] - 0s 12us/step - loss: 0.0049 - val_loss: 0.0105\n",
      "Epoch 16/50\n",
      "42750/42750 [==============================] - 1s 13us/step - loss: 0.0046 - val_loss: 0.0100\n",
      "Epoch 17/50\n",
      "42750/42750 [==============================] - 0s 11us/step - loss: 0.0044 - val_loss: 0.0095\n",
      "Epoch 18/50\n",
      "42750/42750 [==============================] - 1s 12us/step - loss: 0.0042 - val_loss: 0.0091\n",
      "Epoch 19/50\n",
      "42750/42750 [==============================] - 1s 14us/step - loss: 0.0040 - val_loss: 0.0089\n",
      "Epoch 20/50\n",
      "42750/42750 [==============================] - 0s 11us/step - loss: 0.0039 - val_loss: 0.0086\n",
      "Epoch 21/50\n",
      "42750/42750 [==============================] - 0s 7us/step - loss: 0.0038 - val_loss: 0.0083\n",
      "Epoch 22/50\n",
      "42750/42750 [==============================] - 0s 8us/step - loss: 0.0037 - val_loss: 0.0081\n",
      "Epoch 23/50\n",
      "42750/42750 [==============================] - 0s 8us/step - loss: 0.0037 - val_loss: 0.0080\n",
      "Epoch 24/50\n",
      "42750/42750 [==============================] - 0s 8us/step - loss: 0.0036 - val_loss: 0.0078\n",
      "Epoch 25/50\n",
      "42750/42750 [==============================] - 0s 7us/step - loss: 0.0036 - val_loss: 0.0077\n",
      "Epoch 26/50\n",
      "42750/42750 [==============================] - 0s 7us/step - loss: 0.0035 - val_loss: 0.0075\n",
      "Epoch 27/50\n",
      "42750/42750 [==============================] - 0s 8us/step - loss: 0.0035 - val_loss: 0.0074\n",
      "Epoch 28/50\n",
      "42750/42750 [==============================] - 0s 8us/step - loss: 0.0034 - val_loss: 0.0073\n",
      "Epoch 29/50\n",
      "42750/42750 [==============================] - 0s 12us/step - loss: 0.0034 - val_loss: 0.0072\n",
      "Epoch 30/50\n",
      "42750/42750 [==============================] - 1s 14us/step - loss: 0.0034 - val_loss: 0.0071\n",
      "Epoch 31/50\n",
      "42750/42750 [==============================] - 0s 10us/step - loss: 0.0034 - val_loss: 0.0071\n",
      "Epoch 32/50\n",
      "42750/42750 [==============================] - 0s 8us/step - loss: 0.0033 - val_loss: 0.0070\n",
      "Epoch 33/50\n",
      "42750/42750 [==============================] - 0s 11us/step - loss: 0.0033 - val_loss: 0.0068\n",
      "Epoch 34/50\n",
      "42750/42750 [==============================] - 0s 8us/step - loss: 0.0033 - val_loss: 0.0068\n",
      "Epoch 35/50\n",
      "42750/42750 [==============================] - 0s 10us/step - loss: 0.0033 - val_loss: 0.0068\n",
      "Epoch 36/50\n",
      "42750/42750 [==============================] - 0s 9us/step - loss: 0.0032 - val_loss: 0.0066\n",
      "Epoch 37/50\n",
      "42750/42750 [==============================] - 0s 10us/step - loss: 0.0032 - val_loss: 0.0066\n",
      "Epoch 38/50\n",
      "42750/42750 [==============================] - 0s 11us/step - loss: 0.0032 - val_loss: 0.0066\n",
      "Epoch 39/50\n",
      "42750/42750 [==============================] - 0s 11us/step - loss: 0.0032 - val_loss: 0.0065\n",
      "Epoch 40/50\n",
      "42750/42750 [==============================] - 1s 13us/step - loss: 0.0032 - val_loss: 0.0064\n",
      "Epoch 41/50\n",
      "42750/42750 [==============================] - 1s 12us/step - loss: 0.0031 - val_loss: 0.0064\n",
      "Epoch 42/50\n",
      "42750/42750 [==============================] - 1s 12us/step - loss: 0.0031 - val_loss: 0.0063\n",
      "Epoch 43/50\n",
      "42750/42750 [==============================] - 0s 9us/step - loss: 0.0031 - val_loss: 0.0063\n",
      "Epoch 44/50\n",
      "42750/42750 [==============================] - 0s 12us/step - loss: 0.0031 - val_loss: 0.0063\n",
      "Epoch 45/50\n",
      "42750/42750 [==============================] - 1s 13us/step - loss: 0.0031 - val_loss: 0.0062\n",
      "Epoch 46/50\n",
      "42750/42750 [==============================] - 1s 14us/step - loss: 0.0030 - val_loss: 0.0061\n",
      "Epoch 47/50\n",
      "42750/42750 [==============================] - 0s 11us/step - loss: 0.0030 - val_loss: 0.0061\n",
      "Epoch 48/50\n",
      "42750/42750 [==============================] - 1s 14us/step - loss: 0.0030 - val_loss: 0.0060\n",
      "Epoch 49/50\n",
      "42750/42750 [==============================] - 1s 16us/step - loss: 0.0030 - val_loss: 0.0059\n",
      "Epoch 50/50\n",
      "42750/42750 [==============================] - 1s 12us/step - loss: 0.0029 - val_loss: 0.0059\n"
     ]
    }
   ],
   "source": [
    "# Train model for 100 epochs, batch size of 10: \n",
    "NUM_EPOCHS=50\n",
    "BATCH_SIZE=1028\n",
    "\n",
    "history=model.fit(X_train, X_train,\n",
    "                  batch_size=BATCH_SIZE, \n",
    "                  epochs=NUM_EPOCHS,\n",
    "                  validation_split=0.1,\n",
    "                  verbose = 1)"
   ]
  },
  {
   "cell_type": "code",
   "execution_count": 7,
   "metadata": {},
   "outputs": [],
   "source": [
    "X_pred = model.predict(X_train)\n",
    "scored = pd.DataFrame()\n",
    "scored['Loss_mse'] = np.mean(np.abs(X_pred-X_train), axis = 1)"
   ]
  },
  {
   "cell_type": "code",
   "execution_count": 8,
   "metadata": {},
   "outputs": [],
   "source": [
    "X_pred_test = model.predict(X_test)\n",
    "scored_test = pd.DataFrame()\n",
    "scored_test['Loss_mse'] = np.mean(np.abs(X_pred_test-X_test), axis = 1)"
   ]
  },
  {
   "cell_type": "code",
   "execution_count": 9,
   "metadata": {
    "collapsed": true
   },
   "outputs": [
    {
     "data": {
      "text/plain": [
       "Text(0.5, 0, 'Time (s)')"
      ]
     },
     "execution_count": 9,
     "metadata": {},
     "output_type": "execute_result"
    },
    {
     "data": {
      "image/png": "[encoded data removed]",
      "text/plain": [
       "<Figure size 1440x144 with 1 Axes>"
      ]
     },
     "metadata": {
      "needs_background": "light"
     },
     "output_type": "display_data"
    }
   ],
   "source": [
    "plt.figure(figsize=(20,2))\n",
    "plt.plot(train_time, scored['Loss_mse'])\n",
    "plt.ylim([0, 2])\n",
    "plt.xlabel(\"Time (s)\")"
   ]
  },
  {
   "cell_type": "code",
   "execution_count": 11,
   "metadata": {
    "collapsed": true
   },
   "outputs": [
    {
     "data": {
      "text/plain": [
       "Text(0.5, 0, 'Time (s)')"
      ]
     },
     "execution_count": 11,
     "metadata": {},
     "output_type": "execute_result"
    },
    {
     "data": {
      "image/png": "[encoded data removed]",
      "text/plain": [
       "<Figure size 1440x144 with 1 Axes>"
      ]
     },
     "metadata": {
      "needs_background": "light"
     },
     "output_type": "display_data"
    }
   ],
   "source": [
    "plt.figure(figsize=(20,2))\n",
    "plt.plot(test_time, scored_test['Loss_mse'])\n",
    "plt.ylim([0, 5])\n",
    "#plt.xlim([-100,0])\n",
    "plt.xlabel(\"Time (s)\")"
   ]
  },
  {
   "cell_type": "markdown",
   "metadata": {},
   "source": [
    "## Multiply the product of zero-crossings by 12"
   ]
  },
  {
   "cell_type": "code",
   "execution_count": 42,
   "metadata": {
    "collapsed": true
   },
   "outputs": [
    {
     "data": {
      "text/plain": [
       "[<matplotlib.lines.Line2D at 0x7f5e703afc90>]"
      ]
     },
     "execution_count": 42,
     "metadata": {},
     "output_type": "execute_result"
    },
    {
     "data": {
      "image/png": "[encoded data removed]",
      "text/plain": [
       "<Figure size 1440x144 with 1 Axes>"
      ]
     },
     "metadata": {
      "needs_background": "light"
     },
     "output_type": "display_data"
    }
   ],
   "source": [
    "plt.figure(figsize=(20,2))\n",
    "plt.plot(train_time, X_train[:,4])\n",
    "#plt.ylim([0, 40])"
   ]
  },
  {
   "cell_type": "code",
   "execution_count": 9,
   "metadata": {
    "collapsed": true
   },
   "outputs": [
    {
     "name": "stdout",
     "output_type": "stream",
     "text": [
      "Flushing input history\n",
      "Flushing input history\n",
      "Flushing input history\n",
      "Flushing input history\n",
      "Flushing input history\n",
      "Flushing input history\n",
      "Flushing input history\n",
      "Flushing input history\n",
      "Flushing input history\n",
      "Flushing input history\n",
      "Flushing input history\n",
      "Flushing input history\n",
      "Flushing input history\n",
      "Flushing input history\n",
      "Flushing input history\n",
      "Flushing input history\n",
      "Flushing input history\n",
      "Flushing input history\n",
      "Flushing input history\n",
      "Flushing input history\n",
      "Flushing input history\n",
      "Flushing input history\n",
      "Flushing input history\n",
      "Flushing input history\n",
      "Flushing input history\n",
      "Flushing input history\n",
      "Flushing input history\n",
      "Flushing input history\n",
      "Flushing input history\n",
      "Flushing input history\n",
      "Flushing input history\n",
      "Flushing input history\n",
      "Flushing input history\n",
      "Flushing input history\n",
      "Flushing input history\n",
      "Flushing input history\n",
      "Flushing input history\n",
      "Flushing input history\n",
      "Flushing input history\n",
      "Flushing input history\n",
      "X_train's shape:  (47500, 18)\n",
      "X_test's shape:  (197500, 18)\n"
     ]
    }
   ],
   "source": [
    "X_train, train_time = generate_data(\"./data/Ramp22/\", time_range = (-25, -20), window = 2000, step = 10)\n",
    "X_test, test_time = generate_data(\"./data/Ramp22/\", time_range = (-20, 0), window = 2000, step = 10)\n",
    "print(\"X_train's shape: \", X_train.shape)\n",
    "print(\"X_test's shape: \", X_test.shape)"
   ]
  },
  {
   "cell_type": "code",
   "execution_count": 10,
   "metadata": {},
   "outputs": [],
   "source": [
    "from sklearn.preprocessing import MinMaxScaler\n",
    "\n",
    "scaler = MinMaxScaler()\n",
    "\n",
    "scaler.fit(X_train)\n",
    "\n",
    "X_train = scaler.transform(X_train)\n",
    "\n",
    "X_test = scaler.transform(X_test)\n",
    "\n",
    "#Put more importance on the product of zero crossings\n",
    "X_train[:, 17] *= 12\n",
    "X_test[:, 17] *= 12"
   ]
  },
  {
   "cell_type": "code",
   "execution_count": 11,
   "metadata": {
    "collapsed": true
   },
   "outputs": [
    {
     "name": "stdout",
     "output_type": "stream",
     "text": [
      "Using Keras version:  2.3.1\n",
      "Model: \"sequential_1\"\n",
      "_________________________________________________________________\n",
      "Layer (type)                 Output Shape              Param #   \n",
      "=================================================================\n",
      "dense_1 (Dense)              (None, 12)                228       \n",
      "_________________________________________________________________\n",
      "dense_2 (Dense)              (None, 9)                 117       \n",
      "_________________________________________________________________\n",
      "dense_3 (Dense)              (None, 6)                 60        \n",
      "_________________________________________________________________\n",
      "dense_4 (Dense)              (None, 9)                 63        \n",
      "_________________________________________________________________\n",
      "dense_5 (Dense)              (None, 12)                120       \n",
      "_________________________________________________________________\n",
      "dense_6 (Dense)              (None, 18)                234       \n",
      "=================================================================\n",
      "Total params: 822\n",
      "Trainable params: 822\n",
      "Non-trainable params: 0\n",
      "_________________________________________________________________\n"
     ]
    }
   ],
   "source": [
    "#================BUILD THE MODEL====================\n",
    "print(\"Using Keras version: \", keras.__version__)\n",
    "\n",
    "# Simple model\n",
    "model = models.Sequential()\n",
    "\n",
    "model.add(Dense(12, activation = 'elu', kernel_initializer='glorot_uniform',\n",
    "                kernel_regularizer=regularizers.l2(0.0),\n",
    "                input_dim=X_train.shape[1]))\n",
    "\n",
    "model.add(Dense(9,activation='elu',\n",
    "                kernel_initializer='glorot_uniform'))\n",
    "\n",
    "model.add(Dense(6,activation='elu',\n",
    "                kernel_initializer='glorot_uniform'))\n",
    "\n",
    "model.add(Dense(9,activation='elu',\n",
    "                kernel_initializer='glorot_uniform'))\n",
    "\n",
    "model.add(Dense(12,activation='elu',\n",
    "                kernel_initializer='glorot_uniform'))\n",
    "\n",
    "model.add(Dense(X_train.shape[1],\n",
    "                kernel_initializer='glorot_uniform'))\n",
    "\n",
    "model.compile(loss='mse',optimizer='adam')\n",
    "\n",
    "model.summary()"
   ]
  },
  {
   "cell_type": "code",
   "execution_count": 12,
   "metadata": {
    "collapsed": true
   },
   "outputs": [
    {
     "name": "stdout",
     "output_type": "stream",
     "text": [
      "Train on 42750 samples, validate on 4750 samples\n",
      "Epoch 1/50\n",
      "42750/42750 [==============================] - 3s 60us/step - loss: 0.0932 - val_loss: 0.6006\n",
      "Epoch 2/50\n",
      "42750/42750 [==============================] - 0s 10us/step - loss: 0.0476 - val_loss: 0.4173\n",
      "Epoch 3/50\n",
      "42750/42750 [==============================] - 0s 10us/step - loss: 0.0333 - val_loss: 0.2976\n",
      "Epoch 4/50\n",
      "42750/42750 [==============================] - 0s 7us/step - loss: 0.0239 - val_loss: 0.1942\n",
      "Epoch 5/50\n",
      "42750/42750 [==============================] - 0s 7us/step - loss: 0.0168 - val_loss: 0.1369\n",
      "Epoch 6/50\n",
      "42750/42750 [==============================] - 0s 7us/step - loss: 0.0138 - val_loss: 0.1142\n",
      "Epoch 7/50\n",
      "42750/42750 [==============================] - 0s 7us/step - loss: 0.0123 - val_loss: 0.1004\n",
      "Epoch 8/50\n",
      "42750/42750 [==============================] - 0s 7us/step - loss: 0.0112 - val_loss: 0.0903\n",
      "Epoch 9/50\n",
      "42750/42750 [==============================] - 0s 7us/step - loss: 0.0103 - val_loss: 0.0822\n",
      "Epoch 10/50\n",
      "42750/42750 [==============================] - 0s 7us/step - loss: 0.0096 - val_loss: 0.0772\n",
      "Epoch 11/50\n",
      "42750/42750 [==============================] - 0s 7us/step - loss: 0.0091 - val_loss: 0.0730\n",
      "Epoch 12/50\n",
      "42750/42750 [==============================] - 0s 7us/step - loss: 0.0087 - val_loss: 0.0687\n",
      "Epoch 13/50\n",
      "42750/42750 [==============================] - 0s 7us/step - loss: 0.0083 - val_loss: 0.0657\n",
      "Epoch 14/50\n",
      "42750/42750 [==============================] - 0s 7us/step - loss: 0.0079 - val_loss: 0.0632\n",
      "Epoch 15/50\n",
      "42750/42750 [==============================] - 0s 7us/step - loss: 0.0075 - val_loss: 0.0597\n",
      "Epoch 16/50\n",
      "42750/42750 [==============================] - 0s 6us/step - loss: 0.0071 - val_loss: 0.0573\n",
      "Epoch 17/50\n",
      "42750/42750 [==============================] - 0s 7us/step - loss: 0.0067 - val_loss: 0.0542\n",
      "Epoch 18/50\n",
      "42750/42750 [==============================] - 0s 7us/step - loss: 0.0063 - val_loss: 0.0518\n",
      "Epoch 19/50\n",
      "42750/42750 [==============================] - 0s 6us/step - loss: 0.0059 - val_loss: 0.0497\n",
      "Epoch 20/50\n",
      "42750/42750 [==============================] - 0s 7us/step - loss: 0.0056 - val_loss: 0.0471\n",
      "Epoch 21/50\n",
      "42750/42750 [==============================] - 0s 6us/step - loss: 0.0053 - val_loss: 0.0437\n",
      "Epoch 22/50\n",
      "42750/42750 [==============================] - 0s 7us/step - loss: 0.0050 - val_loss: 0.0419\n",
      "Epoch 23/50\n",
      "42750/42750 [==============================] - 0s 6us/step - loss: 0.0048 - val_loss: 0.0396\n",
      "Epoch 24/50\n",
      "42750/42750 [==============================] - 0s 7us/step - loss: 0.0046 - val_loss: 0.0376\n",
      "Epoch 25/50\n",
      "42750/42750 [==============================] - 0s 7us/step - loss: 0.0045 - val_loss: 0.0361\n",
      "Epoch 26/50\n",
      "42750/42750 [==============================] - 0s 7us/step - loss: 0.0044 - val_loss: 0.0348\n",
      "Epoch 27/50\n",
      "42750/42750 [==============================] - 0s 6us/step - loss: 0.0043 - val_loss: 0.0336\n",
      "Epoch 28/50\n",
      "42750/42750 [==============================] - 0s 7us/step - loss: 0.0042 - val_loss: 0.0329\n",
      "Epoch 29/50\n",
      "42750/42750 [==============================] - 0s 7us/step - loss: 0.0041 - val_loss: 0.0318\n",
      "Epoch 30/50\n",
      "42750/42750 [==============================] - 0s 7us/step - loss: 0.0040 - val_loss: 0.0306\n",
      "Epoch 31/50\n",
      "42750/42750 [==============================] - 0s 7us/step - loss: 0.0040 - val_loss: 0.0296\n",
      "Epoch 32/50\n",
      "42750/42750 [==============================] - 0s 7us/step - loss: 0.0039 - val_loss: 0.0280\n",
      "Epoch 33/50\n",
      "42750/42750 [==============================] - 0s 7us/step - loss: 0.0039 - val_loss: 0.0273\n",
      "Epoch 34/50\n",
      "42750/42750 [==============================] - 0s 7us/step - loss: 0.0038 - val_loss: 0.0266\n",
      "Epoch 35/50\n",
      "42750/42750 [==============================] - 0s 7us/step - loss: 0.0038 - val_loss: 0.0257\n",
      "Epoch 36/50\n",
      "42750/42750 [==============================] - 0s 6us/step - loss: 0.0037 - val_loss: 0.0248\n",
      "Epoch 37/50\n",
      "42750/42750 [==============================] - 0s 6us/step - loss: 0.0037 - val_loss: 0.0244\n",
      "Epoch 38/50\n",
      "42750/42750 [==============================] - 0s 7us/step - loss: 0.0037 - val_loss: 0.0233\n",
      "Epoch 39/50\n",
      "42750/42750 [==============================] - 0s 7us/step - loss: 0.0036 - val_loss: 0.0227\n",
      "Epoch 40/50\n",
      "42750/42750 [==============================] - 0s 6us/step - loss: 0.0036 - val_loss: 0.0222\n",
      "Epoch 41/50\n",
      "42750/42750 [==============================] - 0s 7us/step - loss: 0.0036 - val_loss: 0.0220\n",
      "Epoch 42/50\n",
      "42750/42750 [==============================] - 0s 6us/step - loss: 0.0035 - val_loss: 0.0209\n",
      "Epoch 43/50\n",
      "42750/42750 [==============================] - 0s 6us/step - loss: 0.0035 - val_loss: 0.0202\n",
      "Epoch 44/50\n",
      "42750/42750 [==============================] - 0s 6us/step - loss: 0.0034 - val_loss: 0.0199\n",
      "Epoch 45/50\n",
      "42750/42750 [==============================] - 0s 6us/step - loss: 0.0034 - val_loss: 0.0196\n",
      "Epoch 46/50\n",
      "42750/42750 [==============================] - 0s 7us/step - loss: 0.0034 - val_loss: 0.0191\n",
      "Epoch 47/50\n",
      "42750/42750 [==============================] - 0s 6us/step - loss: 0.0033 - val_loss: 0.0192\n",
      "Epoch 48/50\n",
      "42750/42750 [==============================] - 0s 7us/step - loss: 0.0033 - val_loss: 0.0185\n",
      "Epoch 49/50\n",
      "42750/42750 [==============================] - 0s 6us/step - loss: 0.0032 - val_loss: 0.0185\n",
      "Epoch 50/50\n",
      "42750/42750 [==============================] - 0s 6us/step - loss: 0.0032 - val_loss: 0.0178\n"
     ]
    }
   ],
   "source": [
    "# Train model for 100 epochs, batch size of 10: \n",
    "NUM_EPOCHS=50\n",
    "BATCH_SIZE=1028\n",
    "\n",
    "history=model.fit(X_train, X_train,\n",
    "                  batch_size=BATCH_SIZE, \n",
    "                  epochs=NUM_EPOCHS,\n",
    "                  validation_split=0.1,\n",
    "                  verbose = 1)"
   ]
  },
  {
   "cell_type": "code",
   "execution_count": 13,
   "metadata": {},
   "outputs": [],
   "source": [
    "X_pred = model.predict(X_train)\n",
    "scored = pd.DataFrame()\n",
    "scored['Loss_mse'] = np.mean(np.abs(X_pred-X_train), axis = 1)"
   ]
  },
  {
   "cell_type": "code",
   "execution_count": 14,
   "metadata": {},
   "outputs": [],
   "source": [
    "X_pred_test = model.predict(X_test)\n",
    "scored_test = pd.DataFrame()\n",
    "scored_test['Loss_mse'] = np.mean(np.abs(X_pred_test-X_test), axis = 1)"
   ]
  },
  {
   "cell_type": "code",
   "execution_count": 15,
   "metadata": {
    "collapsed": true
   },
   "outputs": [
    {
     "data": {
      "text/plain": [
       "Text(0.5, 0, 'Time (s)')"
      ]
     },
     "execution_count": 15,
     "metadata": {},
     "output_type": "execute_result"
    },
    {
     "data": {
      "image/png": "[encoded data removed]",
      "text/plain": [
       "<Figure size 1440x144 with 1 Axes>"
      ]
     },
     "metadata": {
      "needs_background": "light"
     },
     "output_type": "display_data"
    }
   ],
   "source": [
    "plt.figure(figsize=(20,2))\n",
    "plt.plot(train_time, scored['Loss_mse'])\n",
    "plt.ylim([0, 2])\n",
    "plt.xlabel(\"Time (s)\")"
   ]
  },
  {
   "cell_type": "code",
   "execution_count": 36,
   "metadata": {
    "collapsed": true
   },
   "outputs": [
    {
     "data": {
      "text/plain": [
       "Text(0.5, 0, 'Time (s)')"
      ]
     },
     "execution_count": 36,
     "metadata": {},
     "output_type": "execute_result"
    },
    {
     "data": {
      "image/png": "[encoded data removed]",
      "text/plain": [
       "<Figure size 1440x144 with 1 Axes>"
      ]
     },
     "metadata": {
      "needs_background": "light"
     },
     "output_type": "display_data"
    }
   ],
   "source": [
    "plt.figure(figsize=(20,2))\n",
    "plt.plot(test_time, scored_test['Loss_mse'])\n",
    "plt.ylim([0, 100])\n",
    "#plt.xlim([-100,0])\n",
    "plt.xlabel(\"Time (s)\")"
   ]
  },
  {
   "cell_type": "markdown",
   "metadata": {},
   "source": [
    "## Less inputs"
   ]
  },
  {
   "cell_type": "code",
   "execution_count": 3,
   "metadata": {
    "collapsed": true
   },
   "outputs": [
    {
     "name": "stdout",
     "output_type": "stream",
     "text": [
      "Flushing input history\n",
      "Flushing input history\n",
      "Flushing input history\n",
      "Flushing input history\n",
      "Flushing input history\n",
      "Flushing input history\n",
      "Flushing input history\n",
      "Flushing input history\n",
      "Flushing input history\n",
      "Flushing input history\n",
      "Flushing input history\n",
      "Flushing input history\n",
      "Flushing input history\n",
      "Flushing input history\n",
      "Flushing input history\n",
      "Flushing input history\n",
      "Flushing input history\n",
      "Flushing input history\n",
      "Flushing input history\n",
      "Flushing input history\n",
      "Flushing input history\n",
      "Flushing input history\n",
      "Flushing input history\n",
      "Flushing input history\n",
      "Flushing input history\n",
      "Flushing input history\n",
      "Flushing input history\n",
      "Flushing input history\n",
      "Flushing input history\n",
      "Flushing input history\n",
      "Flushing input history\n",
      "Flushing input history\n",
      "Flushing input history\n",
      "Flushing input history\n",
      "Flushing input history\n",
      "Flushing input history\n",
      "Flushing input history\n",
      "Flushing input history\n",
      "Flushing input history\n",
      "Flushing input history\n",
      "X_train's shape:  (47500, 13)\n",
      "X_test's shape:  (197500, 13)\n"
     ]
    }
   ],
   "source": [
    "X_train, train_time = generate_data(\"./data/Ramp22/\", time_range = (-25, -20), window = 2000, step = 10)\n",
    "X_test, test_time = generate_data(\"./data/Ramp22/\", time_range = (-20, 0), window = 2000, step = 10)\n",
    "print(\"X_train's shape: \", X_train.shape)\n",
    "print(\"X_test's shape: \", X_test.shape)"
   ]
  },
  {
   "cell_type": "code",
   "execution_count": 4,
   "metadata": {},
   "outputs": [],
   "source": [
    "from sklearn.preprocessing import MinMaxScaler\n",
    "\n",
    "scaler = MinMaxScaler()\n",
    "\n",
    "scaler.fit(X_train)\n",
    "\n",
    "X_train = scaler.transform(X_train)\n",
    "\n",
    "X_test = scaler.transform(X_test)\n",
    "\n",
    "#Put more importance on the product of zero crossings\n",
    "#X_train[:, 17] *= 12\n",
    "#X_test[:, 17] *= 12"
   ]
  },
  {
   "cell_type": "code",
   "execution_count": 54,
   "metadata": {
    "collapsed": true
   },
   "outputs": [
    {
     "name": "stdout",
     "output_type": "stream",
     "text": [
      "Model: \"sequential_4\"\n",
      "_________________________________________________________________\n",
      "Layer (type)                 Output Shape              Param #   \n",
      "=================================================================\n",
      "dense_15 (Dense)             (None, 6)                 84        \n",
      "_________________________________________________________________\n",
      "dense_16 (Dense)             (None, 3)                 21        \n",
      "_________________________________________________________________\n",
      "dense_17 (Dense)             (None, 6)                 24        \n",
      "_________________________________________________________________\n",
      "dense_18 (Dense)             (None, 13)                91        \n",
      "=================================================================\n",
      "Total params: 220\n",
      "Trainable params: 220\n",
      "Non-trainable params: 0\n",
      "_________________________________________________________________\n"
     ]
    }
   ],
   "source": [
    "# Simple model\n",
    "model = models.Sequential()\n",
    "\n",
    "model.add(Dense(6, activation = 'elu', kernel_initializer='glorot_uniform',\n",
    "                kernel_regularizer=regularizers.l2(0.1),\n",
    "                input_dim=X_train.shape[1]))\n",
    "\n",
    "model.add(Dense(3,activation='elu',\n",
    "                kernel_initializer='glorot_uniform'))\n",
    "\n",
    "model.add(Dense(6,activation='elu',\n",
    "                kernel_initializer='glorot_uniform'))\n",
    "\n",
    "model.add(Dense(X_train.shape[1],kernel_initializer='glorot_uniform'))\n",
    "\n",
    "model.compile(loss='mse',optimizer='adam')\n",
    "\n",
    "\n",
    "model.summary()"
   ]
  },
  {
   "cell_type": "code",
   "execution_count": 55,
   "metadata": {
    "collapsed": true
   },
   "outputs": [
    {
     "name": "stdout",
     "output_type": "stream",
     "text": [
      "Train on 42750 samples, validate on 4750 samples\n",
      "Epoch 1/50\n",
      "42750/42750 [==============================] - 1s 22us/step - loss: 0.8196 - val_loss: 0.7416\n",
      "Epoch 2/50\n",
      "42750/42750 [==============================] - 0s 5us/step - loss: 0.6464 - val_loss: 0.5899\n",
      "Epoch 3/50\n",
      "42750/42750 [==============================] - 0s 6us/step - loss: 0.5126 - val_loss: 0.4713\n",
      "Epoch 4/50\n",
      "42750/42750 [==============================] - 0s 6us/step - loss: 0.4069 - val_loss: 0.3764\n",
      "Epoch 5/50\n",
      "42750/42750 [==============================] - 0s 4us/step - loss: 0.3221 - val_loss: 0.2999\n",
      "Epoch 6/50\n",
      "42750/42750 [==============================] - 0s 4us/step - loss: 0.2537 - val_loss: 0.2382\n",
      "Epoch 7/50\n",
      "42750/42750 [==============================] - 0s 4us/step - loss: 0.1986 - val_loss: 0.1879\n",
      "Epoch 8/50\n",
      "42750/42750 [==============================] - 0s 4us/step - loss: 0.1546 - val_loss: 0.1478\n",
      "Epoch 9/50\n",
      "42750/42750 [==============================] - 0s 4us/step - loss: 0.1197 - val_loss: 0.1159\n",
      "Epoch 10/50\n",
      "42750/42750 [==============================] - 0s 5us/step - loss: 0.0922 - val_loss: 0.0907\n",
      "Epoch 11/50\n",
      "42750/42750 [==============================] - 0s 4us/step - loss: 0.0707 - val_loss: 0.0712\n",
      "Epoch 12/50\n",
      "42750/42750 [==============================] - 0s 5us/step - loss: 0.0541 - val_loss: 0.0559\n",
      "Epoch 13/50\n",
      "42750/42750 [==============================] - 0s 4us/step - loss: 0.0415 - val_loss: 0.0442\n",
      "Epoch 14/50\n",
      "42750/42750 [==============================] - 0s 5us/step - loss: 0.0319 - val_loss: 0.0353\n",
      "Epoch 15/50\n",
      "42750/42750 [==============================] - 0s 5us/step - loss: 0.0247 - val_loss: 0.0287\n",
      "Epoch 16/50\n",
      "42750/42750 [==============================] - 0s 4us/step - loss: 0.0194 - val_loss: 0.0238\n",
      "Epoch 17/50\n",
      "42750/42750 [==============================] - 0s 5us/step - loss: 0.0155 - val_loss: 0.0201\n",
      "Epoch 18/50\n",
      "42750/42750 [==============================] - 0s 6us/step - loss: 0.0126 - val_loss: 0.0175\n",
      "Epoch 19/50\n",
      "42750/42750 [==============================] - 0s 6us/step - loss: 0.0106 - val_loss: 0.0156\n",
      "Epoch 20/50\n",
      "42750/42750 [==============================] - 0s 5us/step - loss: 0.0092 - val_loss: 0.0142\n",
      "Epoch 21/50\n",
      "42750/42750 [==============================] - 0s 5us/step - loss: 0.0081 - val_loss: 0.0132\n",
      "Epoch 22/50\n",
      "42750/42750 [==============================] - 0s 5us/step - loss: 0.0074 - val_loss: 0.0125\n",
      "Epoch 23/50\n",
      "42750/42750 [==============================] - 0s 4us/step - loss: 0.0069 - val_loss: 0.0120\n",
      "Epoch 24/50\n",
      "42750/42750 [==============================] - 0s 4us/step - loss: 0.0065 - val_loss: 0.0117\n",
      "Epoch 25/50\n",
      "42750/42750 [==============================] - 0s 4us/step - loss: 0.0063 - val_loss: 0.0114\n",
      "Epoch 26/50\n",
      "42750/42750 [==============================] - 0s 4us/step - loss: 0.0061 - val_loss: 0.0112\n",
      "Epoch 27/50\n",
      "42750/42750 [==============================] - 0s 5us/step - loss: 0.0059 - val_loss: 0.0110\n",
      "Epoch 28/50\n",
      "42750/42750 [==============================] - 0s 5us/step - loss: 0.0058 - val_loss: 0.0108\n",
      "Epoch 29/50\n",
      "42750/42750 [==============================] - 0s 5us/step - loss: 0.0056 - val_loss: 0.0108\n",
      "Epoch 30/50\n",
      "42750/42750 [==============================] - 0s 4us/step - loss: 0.0055 - val_loss: 0.0106\n",
      "Epoch 31/50\n",
      "42750/42750 [==============================] - 0s 4us/step - loss: 0.0054 - val_loss: 0.0105\n",
      "Epoch 32/50\n",
      "42750/42750 [==============================] - 0s 5us/step - loss: 0.0053 - val_loss: 0.0104\n",
      "Epoch 33/50\n",
      "42750/42750 [==============================] - 0s 5us/step - loss: 0.0051 - val_loss: 0.0103\n",
      "Epoch 34/50\n",
      "42750/42750 [==============================] - 0s 5us/step - loss: 0.0050 - val_loss: 0.0101\n",
      "Epoch 35/50\n",
      "42750/42750 [==============================] - 0s 5us/step - loss: 0.0049 - val_loss: 0.0101\n",
      "Epoch 36/50\n",
      "42750/42750 [==============================] - 0s 5us/step - loss: 0.0048 - val_loss: 0.0099\n",
      "Epoch 37/50\n",
      "42750/42750 [==============================] - 0s 5us/step - loss: 0.0046 - val_loss: 0.0098\n",
      "Epoch 38/50\n",
      "42750/42750 [==============================] - 0s 5us/step - loss: 0.0045 - val_loss: 0.0097\n",
      "Epoch 39/50\n",
      "42750/42750 [==============================] - 0s 5us/step - loss: 0.0044 - val_loss: 0.0096\n",
      "Epoch 40/50\n",
      "42750/42750 [==============================] - 0s 5us/step - loss: 0.0042 - val_loss: 0.0095\n",
      "Epoch 41/50\n",
      "42750/42750 [==============================] - 0s 5us/step - loss: 0.0041 - val_loss: 0.0093\n",
      "Epoch 42/50\n",
      "42750/42750 [==============================] - 0s 5us/step - loss: 0.0040 - val_loss: 0.0092\n",
      "Epoch 43/50\n",
      "42750/42750 [==============================] - 0s 5us/step - loss: 0.0039 - val_loss: 0.0091\n",
      "Epoch 44/50\n",
      "42750/42750 [==============================] - 0s 5us/step - loss: 0.0038 - val_loss: 0.0090\n",
      "Epoch 45/50\n",
      "42750/42750 [==============================] - 0s 5us/step - loss: 0.0037 - val_loss: 0.0089\n",
      "Epoch 46/50\n",
      "42750/42750 [==============================] - 0s 5us/step - loss: 0.0036 - val_loss: 0.0089\n",
      "Epoch 47/50\n",
      "42750/42750 [==============================] - 0s 5us/step - loss: 0.0035 - val_loss: 0.0088\n",
      "Epoch 48/50\n",
      "42750/42750 [==============================] - 0s 5us/step - loss: 0.0034 - val_loss: 0.0087\n",
      "Epoch 49/50\n",
      "42750/42750 [==============================] - 0s 5us/step - loss: 0.0034 - val_loss: 0.0086\n",
      "Epoch 50/50\n",
      "42750/42750 [==============================] - 0s 5us/step - loss: 0.0033 - val_loss: 0.0086\n"
     ]
    }
   ],
   "source": [
    "# Train model for 100 epochs, batch size of 10: \n",
    "NUM_EPOCHS=50\n",
    "BATCH_SIZE=1028\n",
    "\n",
    "history=model.fit(X_train, X_train,\n",
    "                  batch_size=BATCH_SIZE, \n",
    "                  epochs=NUM_EPOCHS,\n",
    "                  validation_split=0.1,\n",
    "                  verbose = 1)"
   ]
  },
  {
   "cell_type": "code",
   "execution_count": 56,
   "metadata": {},
   "outputs": [
    {
     "data": {
      "image/png": "[encoded data removed]",
      "text/plain": [
       "<Figure size 432x288 with 1 Axes>"
      ]
     },
     "metadata": {
      "needs_background": "light"
     },
     "output_type": "display_data"
    }
   ],
   "source": [
    "plt.plot(history.history['loss'],\n",
    "         'b',\n",
    "         label='Training loss')\n",
    "plt.plot(history.history['val_loss'],\n",
    "         'r',\n",
    "         label='Validation loss')\n",
    "plt.legend(loc='upper right')\n",
    "plt.xlabel('Epochs')\n",
    "plt.ylabel('Loss, [mse]')\n",
    "plt.show()"
   ]
  },
  {
   "cell_type": "code",
   "execution_count": 37,
   "metadata": {},
   "outputs": [],
   "source": [
    "X_pred = model.predict(X_train)\n",
    "scored = pd.DataFrame()\n",
    "scored['Loss_mse'] = np.mean(np.abs(X_pred-X_train), axis = 1)"
   ]
  },
  {
   "cell_type": "code",
   "execution_count": 38,
   "metadata": {},
   "outputs": [],
   "source": [
    "X_pred_test = model.predict(X_test)\n",
    "scored_test = pd.DataFrame()\n",
    "scored_test['Loss_mse'] = np.mean(np.abs(X_pred_test-X_test), axis = 1)"
   ]
  },
  {
   "cell_type": "code",
   "execution_count": 39,
   "metadata": {
    "scrolled": true
   },
   "outputs": [
    {
     "data": {
      "text/plain": [
       "Text(0.5, 0, 'Time (s)')"
      ]
     },
     "execution_count": 39,
     "metadata": {},
     "output_type": "execute_result"
    },
    {
     "data": {
      "image/png": "[encoded data removed]",
      "text/plain": [
       "<Figure size 1440x144 with 1 Axes>"
      ]
     },
     "metadata": {
      "needs_background": "light"
     },
     "output_type": "display_data"
    }
   ],
   "source": [
    "plt.figure(figsize=(20,2))\n",
    "plt.plot(train_time, scored['Loss_mse'])\n",
    "plt.ylim([0, 2])\n",
    "plt.xlabel(\"Time (s)\")"
   ]
  },
  {
   "cell_type": "code",
   "execution_count": 40,
   "metadata": {
    "scrolled": true
   },
   "outputs": [
    {
     "data": {
      "text/plain": [
       "Text(0.5, 0, 'Time (s)')"
      ]
     },
     "execution_count": 40,
     "metadata": {},
     "output_type": "execute_result"
    },
    {
     "data": {
      "image/png": "[encoded data removed]",
      "text/plain": [
       "<Figure size 1440x144 with 1 Axes>"
      ]
     },
     "metadata": {
      "needs_background": "light"
     },
     "output_type": "display_data"
    }
   ],
   "source": [
    "plt.figure(figsize=(20,2))\n",
    "plt.plot(test_time, scored_test['Loss_mse'])\n",
    "\n",
    "plt.ylim([0, 50])\n",
    "#plt.xlim([-100,0])\n",
    "plt.xlabel(\"Time (s)\")"
   ]
  },
  {
   "cell_type": "markdown",
   "metadata": {},
   "source": [
    "## Exponential feature for zero-crossings"
   ]
  },
  {
   "cell_type": "code",
   "execution_count": 16,
   "metadata": {
    "collapsed": true
   },
   "outputs": [
    {
     "data": {
      "text/plain": [
       "[<matplotlib.lines.Line2D at 0x7f8e24101f50>]"
      ]
     },
     "execution_count": 16,
     "metadata": {},
     "output_type": "execute_result"
    },
    {
     "data": {
      "image/png": "[encoded data removed]",
      "text/plain": [
       "<Figure size 1440x144 with 1 Axes>"
      ]
     },
     "metadata": {
      "needs_background": "light"
     },
     "output_type": "display_data"
    }
   ],
   "source": [
    "plt.figure(figsize=(20,2))\n",
    "plt.plot(test_time, X_test[:,12])\n",
    "plt.plot(test_time, X_pred_test[:,12])\n",
    "#plt.ylim([0, 40])"
   ]
  },
  {
   "cell_type": "code",
   "execution_count": 17,
   "metadata": {
    "collapsed": true
   },
   "outputs": [
    {
     "data": {
      "text/plain": [
       "[<matplotlib.lines.Line2D at 0x7f8e240ee4d0>]"
      ]
     },
     "execution_count": 17,
     "metadata": {},
     "output_type": "execute_result"
    },
    {
     "data": {
      "image/png": "[encoded data removed]",
      "text/plain": [
       "<Figure size 1440x144 with 1 Axes>"
      ]
     },
     "metadata": {
      "needs_background": "light"
     },
     "output_type": "display_data"
    }
   ],
   "source": [
    "plt.figure(figsize=(20,2))\n",
    "plt.plot(train_time, X_train[:,12])\n",
    "plt.plot(train_time, X_pred[:,12])\n",
    "#plt.ylim([0, 40])"
   ]
  },
  {
   "cell_type": "code",
   "execution_count": 3,
   "metadata": {
    "collapsed": true
   },
   "outputs": [
    {
     "name": "stdout",
     "output_type": "stream",
     "text": [
      "Flushing input history\n",
      "Flushing input history\n",
      "Flushing input history\n",
      "Flushing input history\n",
      "Flushing input history\n",
      "Flushing input history\n",
      "Flushing input history\n",
      "Flushing input history\n",
      "Flushing input history\n",
      "Flushing input history\n",
      "Flushing input history\n",
      "Flushing input history\n",
      "Flushing input history\n",
      "Flushing input history\n",
      "Flushing input history\n",
      "Flushing input history\n",
      "Flushing input history\n",
      "Flushing input history\n",
      "Flushing input history\n",
      "Flushing input history\n",
      "Flushing input history\n",
      "Flushing input history\n",
      "Flushing input history\n",
      "Flushing input history\n",
      "Flushing input history\n",
      "Flushing input history\n",
      "Flushing input history\n",
      "Flushing input history\n",
      "Flushing input history\n",
      "Flushing input history\n",
      "Flushing input history\n",
      "Flushing input history\n",
      "Flushing input history\n",
      "Flushing input history\n",
      "Flushing input history\n",
      "Flushing input history\n",
      "Flushing input history\n",
      "Flushing input history\n",
      "Flushing input history\n",
      "Flushing input history\n",
      "X_train's shape:  (47500, 13)\n",
      "X_test's shape:  (197500, 13)\n"
     ]
    }
   ],
   "source": [
    "X_train, train_time = generate_data(\"./data/Ramp22/\", time_range = (-25, -20), window = 2000, step = 10)\n",
    "X_test, test_time = generate_data(\"./data/Ramp22/\", time_range = (-20, 0), window = 2000, step = 10)\n",
    "print(\"X_train's shape: \", X_train.shape)\n",
    "print(\"X_test's shape: \", X_test.shape)"
   ]
  },
  {
   "cell_type": "code",
   "execution_count": 4,
   "metadata": {},
   "outputs": [],
   "source": [
    "#Put more importance on the product of zero crossings\n",
    "X_train[:,12] = 10**(X_train[:,12]) \n",
    "X_test[:,12] = 10**(X_test[:,12])\n",
    "\n",
    "from sklearn.preprocessing import MinMaxScaler\n",
    "\n",
    "scaler = MinMaxScaler()\n",
    "\n",
    "scaler.fit(X_train)\n",
    "\n",
    "X_train = scaler.transform(X_train)\n",
    "\n",
    "X_test = scaler.transform(X_test)"
   ]
  },
  {
   "cell_type": "code",
   "execution_count": 5,
   "metadata": {
    "collapsed": true
   },
   "outputs": [
    {
     "name": "stdout",
     "output_type": "stream",
     "text": [
      "Model: \"sequential_1\"\n",
      "_________________________________________________________________\n",
      "Layer (type)                 Output Shape              Param #   \n",
      "=================================================================\n",
      "dense_1 (Dense)              (None, 6)                 84        \n",
      "_________________________________________________________________\n",
      "dense_2 (Dense)              (None, 3)                 21        \n",
      "_________________________________________________________________\n",
      "dense_3 (Dense)              (None, 6)                 24        \n",
      "_________________________________________________________________\n",
      "dense_4 (Dense)              (None, 13)                91        \n",
      "=================================================================\n",
      "Total params: 220\n",
      "Trainable params: 220\n",
      "Non-trainable params: 0\n",
      "_________________________________________________________________\n"
     ]
    }
   ],
   "source": [
    "# Simple model\n",
    "model = models.Sequential()\n",
    "\n",
    "model.add(Dense(6, activation = 'elu', kernel_initializer='glorot_uniform',\n",
    "                kernel_regularizer=regularizers.l1(0.1),\n",
    "                input_dim=X_train.shape[1]))\n",
    "\n",
    "model.add(Dense(3,activation='elu',\n",
    "                kernel_initializer='glorot_uniform'))\n",
    "\n",
    "model.add(Dense(6,activation='elu',\n",
    "                kernel_initializer='glorot_uniform'))\n",
    "\n",
    "model.add(Dense(X_train.shape[1],kernel_initializer='glorot_uniform'))\n",
    "\n",
    "model.compile(loss='mse',optimizer='adam')\n",
    "\n",
    "\n",
    "model.summary()"
   ]
  },
  {
   "cell_type": "code",
   "execution_count": 6,
   "metadata": {
    "collapsed": true
   },
   "outputs": [
    {
     "name": "stdout",
     "output_type": "stream",
     "text": [
      "Train on 42750 samples, validate on 4750 samples\n",
      "Epoch 1/50\n",
      "42750/42750 [==============================] - 1s 24us/step - loss: 2.1946 - val_loss: 2.0251\n",
      "Epoch 2/50\n",
      "42750/42750 [==============================] - 0s 7us/step - loss: 1.8611 - val_loss: 1.7176\n",
      "Epoch 3/50\n",
      "42750/42750 [==============================] - 0s 6us/step - loss: 1.5683 - val_loss: 1.4361\n",
      "Epoch 4/50\n",
      "42750/42750 [==============================] - 0s 6us/step - loss: 1.2972 - val_loss: 1.1788\n",
      "Epoch 5/50\n",
      "42750/42750 [==============================] - 0s 6us/step - loss: 1.0591 - val_loss: 0.9579\n",
      "Epoch 6/50\n",
      "42750/42750 [==============================] - 0s 6us/step - loss: 0.8489 - val_loss: 0.7593\n",
      "Epoch 7/50\n",
      "42750/42750 [==============================] - 0s 5us/step - loss: 0.6639 - val_loss: 0.5876\n",
      "Epoch 8/50\n",
      "42750/42750 [==============================] - 0s 5us/step - loss: 0.5076 - val_loss: 0.4463\n",
      "Epoch 9/50\n",
      "42750/42750 [==============================] - 0s 4us/step - loss: 0.3783 - val_loss: 0.3258\n",
      "Epoch 10/50\n",
      "42750/42750 [==============================] - 0s 4us/step - loss: 0.2644 - val_loss: 0.2169\n",
      "Epoch 11/50\n",
      "42750/42750 [==============================] - 0s 3us/step - loss: 0.1646 - val_loss: 0.1283\n",
      "Epoch 12/50\n",
      "42750/42750 [==============================] - 0s 3us/step - loss: 0.0878 - val_loss: 0.0645\n",
      "Epoch 13/50\n",
      "42750/42750 [==============================] - 0s 3us/step - loss: 0.0354 - val_loss: 0.0281\n",
      "Epoch 14/50\n",
      "42750/42750 [==============================] - 0s 3us/step - loss: 0.0166 - val_loss: 0.0229\n",
      "Epoch 15/50\n",
      "42750/42750 [==============================] - 0s 3us/step - loss: 0.0145 - val_loss: 0.0230\n",
      "Epoch 16/50\n",
      "42750/42750 [==============================] - 0s 3us/step - loss: 0.0144 - val_loss: 0.0227\n",
      "Epoch 17/50\n",
      "42750/42750 [==============================] - 0s 3us/step - loss: 0.0144 - val_loss: 0.0227\n",
      "Epoch 18/50\n",
      "42750/42750 [==============================] - 0s 3us/step - loss: 0.0144 - val_loss: 0.0229\n",
      "Epoch 19/50\n",
      "42750/42750 [==============================] - 0s 3us/step - loss: 0.0145 - val_loss: 0.0229\n",
      "Epoch 20/50\n",
      "42750/42750 [==============================] - 0s 3us/step - loss: 0.0145 - val_loss: 0.0228\n",
      "Epoch 21/50\n",
      "42750/42750 [==============================] - 0s 3us/step - loss: 0.0144 - val_loss: 0.0228\n",
      "Epoch 22/50\n",
      "42750/42750 [==============================] - 0s 3us/step - loss: 0.0144 - val_loss: 0.0229\n",
      "Epoch 23/50\n",
      "42750/42750 [==============================] - 0s 3us/step - loss: 0.0144 - val_loss: 0.0229\n",
      "Epoch 24/50\n",
      "42750/42750 [==============================] - 0s 3us/step - loss: 0.0145 - val_loss: 0.0228\n",
      "Epoch 25/50\n",
      "42750/42750 [==============================] - 0s 3us/step - loss: 0.0144 - val_loss: 0.0227\n",
      "Epoch 26/50\n",
      "42750/42750 [==============================] - 0s 4us/step - loss: 0.0144 - val_loss: 0.0229\n",
      "Epoch 27/50\n",
      "42750/42750 [==============================] - 0s 3us/step - loss: 0.0144 - val_loss: 0.0228\n",
      "Epoch 28/50\n",
      "42750/42750 [==============================] - 0s 4us/step - loss: 0.0144 - val_loss: 0.0229\n",
      "Epoch 29/50\n",
      "42750/42750 [==============================] - 0s 3us/step - loss: 0.0145 - val_loss: 0.0228\n",
      "Epoch 30/50\n",
      "42750/42750 [==============================] - 0s 4us/step - loss: 0.0145 - val_loss: 0.0229\n",
      "Epoch 31/50\n",
      "42750/42750 [==============================] - 0s 4us/step - loss: 0.0145 - val_loss: 0.0231\n",
      "Epoch 32/50\n",
      "42750/42750 [==============================] - 0s 4us/step - loss: 0.0144 - val_loss: 0.0230\n",
      "Epoch 33/50\n",
      "42750/42750 [==============================] - 0s 4us/step - loss: 0.0144 - val_loss: 0.0228\n",
      "Epoch 34/50\n",
      "42750/42750 [==============================] - 0s 4us/step - loss: 0.0144 - val_loss: 0.0229\n",
      "Epoch 35/50\n",
      "42750/42750 [==============================] - 0s 4us/step - loss: 0.0144 - val_loss: 0.0227\n",
      "Epoch 36/50\n",
      "42750/42750 [==============================] - 0s 5us/step - loss: 0.0144 - val_loss: 0.0229\n",
      "Epoch 37/50\n",
      "42750/42750 [==============================] - 0s 5us/step - loss: 0.0144 - val_loss: 0.0229\n",
      "Epoch 38/50\n",
      "42750/42750 [==============================] - 0s 5us/step - loss: 0.0145 - val_loss: 0.0229\n",
      "Epoch 39/50\n",
      "42750/42750 [==============================] - 0s 5us/step - loss: 0.0145 - val_loss: 0.0227\n",
      "Epoch 40/50\n",
      "42750/42750 [==============================] - 0s 5us/step - loss: 0.0144 - val_loss: 0.0229\n",
      "Epoch 41/50\n",
      "42750/42750 [==============================] - 0s 5us/step - loss: 0.0144 - val_loss: 0.0227\n",
      "Epoch 42/50\n",
      "42750/42750 [==============================] - 0s 6us/step - loss: 0.0144 - val_loss: 0.0228\n",
      "Epoch 43/50\n",
      "42750/42750 [==============================] - 0s 6us/step - loss: 0.0144 - val_loss: 0.0228\n",
      "Epoch 44/50\n",
      "42750/42750 [==============================] - 0s 5us/step - loss: 0.0144 - val_loss: 0.0228\n",
      "Epoch 45/50\n",
      "42750/42750 [==============================] - 0s 7us/step - loss: 0.0144 - val_loss: 0.0228\n",
      "Epoch 46/50\n",
      "42750/42750 [==============================] - 0s 6us/step - loss: 0.0144 - val_loss: 0.0227\n",
      "Epoch 47/50\n",
      "42750/42750 [==============================] - 0s 5us/step - loss: 0.0145 - val_loss: 0.0228\n",
      "Epoch 48/50\n",
      "42750/42750 [==============================] - 0s 5us/step - loss: 0.0144 - val_loss: 0.0227\n",
      "Epoch 49/50\n",
      "42750/42750 [==============================] - 0s 6us/step - loss: 0.0144 - val_loss: 0.0229\n",
      "Epoch 50/50\n",
      "42750/42750 [==============================] - 0s 5us/step - loss: 0.0144 - val_loss: 0.0228\n"
     ]
    }
   ],
   "source": [
    "# Train model for 100 epochs, batch size of 10: \n",
    "NUM_EPOCHS=50\n",
    "BATCH_SIZE=1028\n",
    "\n",
    "history=model.fit(X_train, X_train,\n",
    "                  batch_size=BATCH_SIZE, \n",
    "                  epochs=NUM_EPOCHS,\n",
    "                  validation_split=0.1,\n",
    "                  verbose = 1)"
   ]
  },
  {
   "cell_type": "code",
   "execution_count": 7,
   "metadata": {
    "collapsed": true
   },
   "outputs": [
    {
     "data": {
      "image/png": "[encoded data removed]",
      "text/plain": [
       "<Figure size 432x288 with 1 Axes>"
      ]
     },
     "metadata": {
      "needs_background": "light"
     },
     "output_type": "display_data"
    }
   ],
   "source": [
    "plt.plot(history.history['loss'],\n",
    "         'b',\n",
    "         label='Training loss')\n",
    "plt.plot(history.history['val_loss'],\n",
    "         'r',\n",
    "         label='Validation loss')\n",
    "plt.legend(loc='upper right')\n",
    "plt.xlabel('Epochs')\n",
    "plt.ylabel('Loss, [mse]')\n",
    "plt.show()"
   ]
  },
  {
   "cell_type": "code",
   "execution_count": 8,
   "metadata": {},
   "outputs": [],
   "source": [
    "X_pred = model.predict(X_train)\n",
    "scored = pd.DataFrame()\n",
    "scored['Loss_mse'] = np.mean(np.abs(X_pred-X_train), axis = 1)"
   ]
  },
  {
   "cell_type": "code",
   "execution_count": 9,
   "metadata": {},
   "outputs": [],
   "source": [
    "X_pred_test = model.predict(X_test)\n",
    "scored_test = pd.DataFrame()\n",
    "scored_test['Loss_mse'] = np.mean(np.abs(X_pred_test-X_test), axis = 1)"
   ]
  },
  {
   "cell_type": "code",
   "execution_count": 10,
   "metadata": {
    "collapsed": true
   },
   "outputs": [
    {
     "data": {
      "text/plain": [
       "Text(0.5, 0, 'Time (s)')"
      ]
     },
     "execution_count": 10,
     "metadata": {},
     "output_type": "execute_result"
    },
    {
     "data": {
      "image/png": "[encoded data removed]",
      "text/plain": [
       "<Figure size 1440x144 with 1 Axes>"
      ]
     },
     "metadata": {
      "needs_background": "light"
     },
     "output_type": "display_data"
    }
   ],
   "source": [
    "plt.figure(figsize=(20,2))\n",
    "plt.plot(train_time, scored['Loss_mse'])\n",
    "plt.ylim([0, 2])\n",
    "plt.xlabel(\"Time (s)\")"
   ]
  },
  {
   "cell_type": "code",
   "execution_count": 13,
   "metadata": {
    "collapsed": true
   },
   "outputs": [
    {
     "data": {
      "text/plain": [
       "Text(0.5, 0, 'Time (s)')"
      ]
     },
     "execution_count": 13,
     "metadata": {},
     "output_type": "execute_result"
    },
    {
     "data": {
      "image/png": "[encoded data removed]",
      "text/plain": [
       "<Figure size 1440x144 with 1 Axes>"
      ]
     },
     "metadata": {
      "needs_background": "light"
     },
     "output_type": "display_data"
    }
   ],
   "source": [
    "plt.figure(figsize=(20,2))\n",
    "plt.plot(test_time, scored_test['Loss_mse'])\n",
    "\n",
    "plt.ylim([0, 20])\n",
    "#plt.xlim([-100,0])\n",
    "plt.xlabel(\"Time (s)\")"
   ]
  },
  {
   "cell_type": "markdown",
   "metadata": {},
   "source": [
    "## Make zero-crossings exponentially more important"
   ]
  },
  {
   "cell_type": "code",
   "execution_count": 6,
   "metadata": {},
   "outputs": [
    {
     "name": "stdout",
     "output_type": "stream",
     "text": [
      "Flushing input history\n",
      "Flushing input history\n",
      "Flushing input history\n",
      "Flushing input history\n",
      "Flushing input history\n",
      "Flushing input history\n",
      "Flushing input history\n",
      "Flushing input history\n",
      "Flushing input history\n",
      "Flushing input history\n",
      "Flushing input history\n",
      "Flushing input history\n",
      "Flushing input history\n",
      "Flushing input history\n",
      "Flushing input history\n",
      "Flushing input history\n",
      "Flushing input history\n",
      "Flushing input history\n",
      "Flushing input history\n",
      "Flushing input history\n",
      "Flushing input history\n",
      "Flushing input history\n",
      "Flushing input history\n",
      "Flushing input history\n",
      "Flushing input history\n",
      "Flushing input history\n",
      "Flushing input history\n",
      "Flushing input history\n",
      "Flushing input history\n",
      "Flushing input history\n",
      "Flushing input history\n",
      "Flushing input history\n",
      "Flushing input history\n",
      "Flushing input history\n",
      "Flushing input history\n",
      "Flushing input history\n",
      "Flushing input history\n",
      "Flushing input history\n",
      "Flushing input history\n",
      "Flushing input history\n",
      "X_train's shape:  (47500, 13)\n",
      "X_test's shape:  (197500, 13)\n"
     ]
    }
   ],
   "source": [
    "X_train, train_time = generate_data(\"./data/Ramp22/\", time_range = (-25, -20), window = 2000, step = 10)\n",
    "X_test, test_time = generate_data(\"./data/Ramp22/\", time_range = (-20, 0), window = 2000, step = 10)\n",
    "print(\"X_train's shape: \", X_train.shape)\n",
    "print(\"X_test's shape: \", X_test.shape)"
   ]
  },
  {
   "cell_type": "code",
   "execution_count": 7,
   "metadata": {},
   "outputs": [],
   "source": [
    "from sklearn.preprocessing import MinMaxScaler\n",
    "\n",
    "scaler = MinMaxScaler()\n",
    "\n",
    "scaler.fit(X_train)\n",
    "\n",
    "X_train = scaler.transform(X_train)\n",
    "\n",
    "X_test = scaler.transform(X_test)\n",
    "\n",
    "import math\n",
    "#Put more importance on the product of zero crossings\n",
    "X_train[:,12] = (1.25)**(X_train[:,12]) \n",
    "X_test[:,12] = (1.25)**(X_test[:,12])"
   ]
  },
  {
   "cell_type": "code",
   "execution_count": 8,
   "metadata": {},
   "outputs": [
    {
     "name": "stdout",
     "output_type": "stream",
     "text": [
      "Model: \"sequential_1\"\n",
      "_________________________________________________________________\n",
      "Layer (type)                 Output Shape              Param #   \n",
      "=================================================================\n",
      "dense_1 (Dense)              (None, 6)                 84        \n",
      "_________________________________________________________________\n",
      "dense_2 (Dense)              (None, 3)                 21        \n",
      "_________________________________________________________________\n",
      "dense_3 (Dense)              (None, 6)                 24        \n",
      "_________________________________________________________________\n",
      "dense_4 (Dense)              (None, 13)                91        \n",
      "=================================================================\n",
      "Total params: 220\n",
      "Trainable params: 220\n",
      "Non-trainable params: 0\n",
      "_________________________________________________________________\n"
     ]
    }
   ],
   "source": [
    "# Simple model\n",
    "model = models.Sequential()\n",
    "\n",
    "model.add(Dense(6, activation = 'elu', kernel_initializer='glorot_uniform',\n",
    "                kernel_regularizer=regularizers.l1(0.1),\n",
    "                input_dim=X_train.shape[1]))\n",
    "\n",
    "model.add(Dense(3,activation='elu',\n",
    "                kernel_initializer='glorot_uniform'))\n",
    "\n",
    "model.add(Dense(6,activation='elu',\n",
    "                kernel_initializer='glorot_uniform'))\n",
    "\n",
    "model.add(Dense(X_train.shape[1],kernel_initializer='glorot_uniform'))\n",
    "\n",
    "model.compile(loss='mse',optimizer='adam')\n",
    "\n",
    "\n",
    "model.summary()"
   ]
  },
  {
   "cell_type": "code",
   "execution_count": 9,
   "metadata": {},
   "outputs": [
    {
     "name": "stdout",
     "output_type": "stream",
     "text": [
      "Train on 42750 samples, validate on 4750 samples\n",
      "Epoch 1/50\n",
      "42750/42750 [==============================] - 1s 24us/step - loss: 2.2614 - val_loss: 2.0877\n",
      "Epoch 2/50\n",
      "42750/42750 [==============================] - 0s 6us/step - loss: 1.9095 - val_loss: 1.7521\n",
      "Epoch 3/50\n",
      "42750/42750 [==============================] - 0s 5us/step - loss: 1.5871 - val_loss: 1.4385\n",
      "Epoch 4/50\n",
      "42750/42750 [==============================] - 0s 6us/step - loss: 1.2962 - val_loss: 1.1701\n",
      "Epoch 5/50\n",
      "42750/42750 [==============================] - 0s 5us/step - loss: 1.0552 - val_loss: 0.9484\n",
      "Epoch 6/50\n",
      "42750/42750 [==============================] - 0s 6us/step - loss: 0.8465 - val_loss: 0.7531\n",
      "Epoch 7/50\n",
      "42750/42750 [==============================] - 0s 6us/step - loss: 0.6632 - val_loss: 0.5805\n",
      "Epoch 8/50\n",
      "42750/42750 [==============================] - 0s 6us/step - loss: 0.5060 - val_loss: 0.4391\n",
      "Epoch 9/50\n",
      "42750/42750 [==============================] - 0s 6us/step - loss: 0.3761 - val_loss: 0.3191\n",
      "Epoch 10/50\n",
      "42750/42750 [==============================] - 0s 6us/step - loss: 0.2620 - val_loss: 0.2097\n",
      "Epoch 11/50\n",
      "42750/42750 [==============================] - 0s 6us/step - loss: 0.1617 - val_loss: 0.1230\n",
      "Epoch 12/50\n",
      "42750/42750 [==============================] - 0s 5us/step - loss: 0.0875 - val_loss: 0.0615\n",
      "Epoch 13/50\n",
      "42750/42750 [==============================] - 0s 5us/step - loss: 0.0360 - val_loss: 0.0241\n",
      "Epoch 14/50\n",
      "42750/42750 [==============================] - 0s 5us/step - loss: 0.0161 - val_loss: 0.0187\n",
      "Epoch 15/50\n",
      "42750/42750 [==============================] - 0s 5us/step - loss: 0.0142 - val_loss: 0.0186\n",
      "Epoch 16/50\n",
      "42750/42750 [==============================] - 0s 5us/step - loss: 0.0141 - val_loss: 0.0184\n",
      "Epoch 17/50\n",
      "42750/42750 [==============================] - 0s 5us/step - loss: 0.0141 - val_loss: 0.0183\n",
      "Epoch 18/50\n",
      "42750/42750 [==============================] - 0s 5us/step - loss: 0.0142 - val_loss: 0.0184\n",
      "Epoch 19/50\n",
      "42750/42750 [==============================] - 0s 5us/step - loss: 0.0142 - val_loss: 0.0185\n",
      "Epoch 20/50\n",
      "42750/42750 [==============================] - 0s 5us/step - loss: 0.0141 - val_loss: 0.0183\n",
      "Epoch 21/50\n",
      "42750/42750 [==============================] - 0s 5us/step - loss: 0.0142 - val_loss: 0.0185\n",
      "Epoch 22/50\n",
      "42750/42750 [==============================] - 0s 5us/step - loss: 0.0141 - val_loss: 0.0184\n",
      "Epoch 23/50\n",
      "42750/42750 [==============================] - 0s 5us/step - loss: 0.0141 - val_loss: 0.0184\n",
      "Epoch 24/50\n",
      "42750/42750 [==============================] - 0s 5us/step - loss: 0.0141 - val_loss: 0.0183\n",
      "Epoch 25/50\n",
      "42750/42750 [==============================] - 0s 5us/step - loss: 0.0141 - val_loss: 0.0183\n",
      "Epoch 26/50\n",
      "42750/42750 [==============================] - 0s 5us/step - loss: 0.0141 - val_loss: 0.0183\n",
      "Epoch 27/50\n",
      "42750/42750 [==============================] - 0s 5us/step - loss: 0.0141 - val_loss: 0.0184\n",
      "Epoch 28/50\n",
      "42750/42750 [==============================] - 0s 5us/step - loss: 0.0141 - val_loss: 0.0184\n",
      "Epoch 29/50\n",
      "42750/42750 [==============================] - 0s 5us/step - loss: 0.0141 - val_loss: 0.0183\n",
      "Epoch 30/50\n",
      "42750/42750 [==============================] - 0s 5us/step - loss: 0.0141 - val_loss: 0.0183\n",
      "Epoch 31/50\n",
      "42750/42750 [==============================] - 0s 5us/step - loss: 0.0141 - val_loss: 0.0185\n",
      "Epoch 32/50\n",
      "42750/42750 [==============================] - 0s 4us/step - loss: 0.0142 - val_loss: 0.0185\n",
      "Epoch 33/50\n",
      "42750/42750 [==============================] - 0s 4us/step - loss: 0.0142 - val_loss: 0.0185\n",
      "Epoch 34/50\n",
      "42750/42750 [==============================] - 0s 4us/step - loss: 0.0142 - val_loss: 0.0185\n",
      "Epoch 35/50\n",
      "42750/42750 [==============================] - 0s 5us/step - loss: 0.0142 - val_loss: 0.0183\n",
      "Epoch 36/50\n",
      "42750/42750 [==============================] - 0s 5us/step - loss: 0.0141 - val_loss: 0.0185\n",
      "Epoch 37/50\n",
      "42750/42750 [==============================] - 0s 5us/step - loss: 0.0141 - val_loss: 0.0184\n",
      "Epoch 38/50\n",
      "42750/42750 [==============================] - 0s 5us/step - loss: 0.0141 - val_loss: 0.0183\n",
      "Epoch 39/50\n",
      "42750/42750 [==============================] - 0s 4us/step - loss: 0.0141 - val_loss: 0.0184\n",
      "Epoch 40/50\n",
      "42750/42750 [==============================] - 0s 5us/step - loss: 0.0142 - val_loss: 0.0183\n",
      "Epoch 41/50\n",
      "42750/42750 [==============================] - 0s 5us/step - loss: 0.0141 - val_loss: 0.0184\n",
      "Epoch 42/50\n",
      "42750/42750 [==============================] - 0s 5us/step - loss: 0.0141 - val_loss: 0.0183\n",
      "Epoch 43/50\n",
      "42750/42750 [==============================] - 0s 5us/step - loss: 0.0141 - val_loss: 0.0184\n",
      "Epoch 44/50\n",
      "42750/42750 [==============================] - 0s 5us/step - loss: 0.0141 - val_loss: 0.0185\n",
      "Epoch 45/50\n",
      "42750/42750 [==============================] - 0s 5us/step - loss: 0.0141 - val_loss: 0.0183\n",
      "Epoch 46/50\n",
      "42750/42750 [==============================] - 0s 4us/step - loss: 0.0141 - val_loss: 0.0184\n",
      "Epoch 47/50\n",
      "42750/42750 [==============================] - 0s 5us/step - loss: 0.0141 - val_loss: 0.0184\n",
      "Epoch 48/50\n",
      "42750/42750 [==============================] - 0s 4us/step - loss: 0.0142 - val_loss: 0.0185\n",
      "Epoch 49/50\n",
      "42750/42750 [==============================] - 0s 5us/step - loss: 0.0142 - val_loss: 0.0184\n",
      "Epoch 50/50\n",
      "42750/42750 [==============================] - 0s 5us/step - loss: 0.0141 - val_loss: 0.0182\n"
     ]
    }
   ],
   "source": [
    "# Train model for 100 epochs, batch size of 10: \n",
    "NUM_EPOCHS=50\n",
    "BATCH_SIZE=1028\n",
    "\n",
    "history=model.fit(X_train, X_train,\n",
    "                  batch_size=BATCH_SIZE, \n",
    "                  epochs=NUM_EPOCHS,\n",
    "                  validation_split=0.1,\n",
    "                  verbose = 1)"
   ]
  },
  {
   "cell_type": "code",
   "execution_count": 10,
   "metadata": {},
   "outputs": [
    {
     "data": {
      "image/png": "[encoded data removed]",
      "text/plain": [
       "<Figure size 432x288 with 1 Axes>"
      ]
     },
     "metadata": {
      "needs_background": "light"
     },
     "output_type": "display_data"
    }
   ],
   "source": [
    "plt.plot(history.history['loss'],\n",
    "         'b',\n",
    "         label='Training loss')\n",
    "plt.plot(history.history['val_loss'],\n",
    "         'r',\n",
    "         label='Validation loss')\n",
    "plt.legend(loc='upper right')\n",
    "plt.xlabel('Epochs')\n",
    "plt.ylabel('Loss, [mse]')\n",
    "plt.show()"
   ]
  },
  {
   "cell_type": "code",
   "execution_count": 11,
   "metadata": {},
   "outputs": [],
   "source": [
    "X_pred = model.predict(X_train)\n",
    "scored = pd.DataFrame()\n",
    "scored['Loss_mse'] = np.mean(np.abs(X_pred-X_train), axis = 1)"
   ]
  },
  {
   "cell_type": "code",
   "execution_count": 12,
   "metadata": {},
   "outputs": [],
   "source": [
    "X_pred_test = model.predict(X_test)\n",
    "scored_test = pd.DataFrame()\n",
    "scored_test['Loss_mse'] = np.mean(np.abs(X_pred_test-X_test), axis = 1)"
   ]
  },
  {
   "cell_type": "code",
   "execution_count": 13,
   "metadata": {},
   "outputs": [
    {
     "data": {
      "text/plain": [
       "Text(0.5, 0, 'Time (s)')"
      ]
     },
     "execution_count": 13,
     "metadata": {},
     "output_type": "execute_result"
    },
    {
     "data": {
      "image/png": "[encoded data removed]",
      "text/plain": [
       "<Figure size 1440x144 with 1 Axes>"
      ]
     },
     "metadata": {
      "needs_background": "light"
     },
     "output_type": "display_data"
    }
   ],
   "source": [
    "plt.figure(figsize=(20,2))\n",
    "plt.plot(train_time, scored['Loss_mse'])\n",
    "plt.ylim([0, 2])\n",
    "plt.xlabel(\"Time (s)\")"
   ]
  },
  {
   "cell_type": "code",
   "execution_count": 14,
   "metadata": {},
   "outputs": [
    {
     "data": {
      "text/plain": [
       "Text(0.5, 0, 'Time (s)')"
      ]
     },
     "execution_count": 14,
     "metadata": {},
     "output_type": "execute_result"
    },
    {
     "data": {
      "image/png": "[encoded data removed]",
      "text/plain": [
       "<Figure size 1440x144 with 1 Axes>"
      ]
     },
     "metadata": {
      "needs_background": "light"
     },
     "output_type": "display_data"
    }
   ],
   "source": [
    "plt.figure(figsize=(20,2))\n",
    "plt.plot(test_time, scored_test['Loss_mse'])\n",
    "\n",
    "#plt.ylim([0, 20])\n",
    "#plt.xlim([-100,0])\n",
    "plt.xlabel(\"Time (s)\")"
   ]
  },
  {
   "cell_type": "code",
   "execution_count": null,
   "metadata": {},
   "outputs": [],
   "source": []
  }
 ],
 "metadata": {
  "kernelspec": {
   "display_name": "Python 3",
   "language": "python",
   "name": "python3"
  },
  "language_info": {
   "codemirror_mode": {
    "name": "ipython",
    "version": 3
   },
   "file_extension": ".py",
   "mimetype": "text/x-python",
   "name": "python",
   "nbconvert_exporter": "python",
   "pygments_lexer": "ipython3",
   "version": "3.7.6"
  }
 },
 "nbformat": 4,
 "nbformat_minor": 4
}
