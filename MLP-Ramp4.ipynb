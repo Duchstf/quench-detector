{
 "cells": [
  {
   "cell_type": "markdown",
   "metadata": {},
   "source": [
    "# Ramp4 -- Use DNN & its reconstruction loss"
   ]
  },
  {
   "cell_type": "code",
   "execution_count": 1,
   "metadata": {},
   "outputs": [
    {
     "name": "stderr",
     "output_type": "stream",
     "text": [
      "\n",
      "Bad key \"text.kerning_factor\" on line 4 in\n",
      "/uscms_data/d3/dhoang/miniconda3/lib/python3.7/site-packages/matplotlib/mpl-data/stylelib/_classic_test_patch.mplstyle.\n",
      "You probably need to get an updated matplotlibrc file from\n",
      "https://github.com/matplotlib/matplotlib/blob/v3.1.3/matplotlibrc.template\n",
      "or from the matplotlib source distribution\n",
      "Using TensorFlow backend.\n"
     ]
    }
   ],
   "source": [
    "#Data processing\n",
    "import os\n",
    "import pandas as pd\n",
    "import numpy as np\n",
    "import matplotlib.pyplot as plt\n",
    "import seaborn as sns\n",
    "from nptdms import TdmsFile #Process ramping file\n",
    "\n",
    "#For building ML models\n",
    "import keras\n",
    "import keras.models as models\n",
    "from keras.layers.core import Dense\n",
    "from keras import regularizers"
   ]
  },
  {
   "cell_type": "markdown",
   "metadata": {},
   "source": [
    "## 0. Helper functions"
   ]
  },
  {
   "cell_type": "code",
   "execution_count": 2,
   "metadata": {},
   "outputs": [],
   "source": [
    "def read_data_from_single_file(filepath):\n",
    "    \"\"\"Read in quench data from a given file, return a pandas dafa frame\"\"\"\n",
    "    \n",
    "    data_dict= {}\n",
    "    \n",
    "    with open(filepath) as f:\n",
    "        content = f.readlines()\n",
    "    #Remove`\\n` at the end of each line\n",
    "    content = [x.strip() for x in content]\n",
    "    \n",
    "    column_names = content[0].split(\" \")\n",
    "    data = [content[i].split(\"   \") for i in range(1, len(content))] \n",
    "    \n",
    "    for i in range(len(column_names)):\n",
    "        data_dict[column_names[i]] = [float(x[i]) for x in data]\n",
    "        \n",
    "    data_frame = pd.DataFrame(data_dict)\n",
    "    \n",
    "    return data_frame\n",
    "\n",
    "def read_quench_data(area_path, quench_name):\n",
    "    \"\"\"\n",
    "    Read the quench data from the provided file path, note that there are five quenches so we need to concatenate them together.\n",
    "    Just need to provide the quench's name, for e.g: \"./data/mqxfs1b.Quench.161011115654\"\n",
    "    \"\"\"\n",
    "    \n",
    "    data_list = []\n",
    "    \n",
    "    \n",
    "    num_file = 0 #Number of separate data files for this quench, assuming at least one\n",
    "    \n",
    "    for filename in os.listdir(area_path):\n",
    "        if filename.startswith(quench_name) and not filename.endswith(\".tar.gz\"):\n",
    "            #print(\"Reading file ... \" + filename)\n",
    "            if num_file == 0:\n",
    "                try:\n",
    "                    data_list.append(read_data_from_single_file(area_path + filename)) #read first file separately\n",
    "                except:\n",
    "                    pass\n",
    "            else:\n",
    "                try:\n",
    "                    data_list.append(read_data_from_single_file(area_path + filename).drop(columns = [\"time\"])) #Time is already saved in the first file\n",
    "                except:\n",
    "                    pass\n",
    "            num_file += 1\n",
    "                                 \n",
    "    #print(\"Total number of data files for {}: \".format(quench_name), num_file)\n",
    "    \n",
    "    if len(data_list) != 0:\n",
    "        data = pd.concat(data_list, axis = 1) #Concatenate all data files together\n",
    "        return data\n",
    "    else:\n",
    "        print(\"Returning None due to file errors in \" + quench_name)\n",
    "        return None\n",
    "\n",
    "def read_all_quench_in_area(area_path):\n",
    "    \"\"\"\n",
    "    Read all quench's files in the area and return a dictionary of different quench's data. name is the magnet's name\n",
    "    \"\"\"\n",
    "    data = {}\n",
    "    \n",
    "    index = 1 #For indexing different quench\n",
    "\n",
    "    for filename in os.listdir(area_path):\n",
    "        if filename.endswith(\".tar.gz\"): \n",
    "            #print(\"Reading data from ... \" + filename[0:-7])\n",
    "            data[filename[0:-7]] = read_quench_data(area_path, filename[0:-7])\n",
    "            index += 1\n",
    "            \n",
    "    #print(\"Completed. There are {} quenches in total.\".format(str(index - 1)))\n",
    "    \n",
    "    return data\n",
    "\n",
    "def plot_variables_with_time(data, variables = None, time_range = None):\n",
    "    \"\"\"\n",
    "    Take a data frame, and plot all other variables with time.\n",
    "    Optional argument: time_range to specify the range to plot, default is to plot all time. Example argument\n",
    "    is (start_time, end_time)\n",
    "    \"\"\"\n",
    "    start = min(data[\"time\"])\n",
    "    end = max(data[\"time\"])\n",
    "    \n",
    "    if time_range:\n",
    "        start = time_range[0]\n",
    "        end = time_range[1]\n",
    "        \n",
    "    data = data[(data[\"time\"] > start) & (data[\"time\"] < end)]\n",
    "    \n",
    "    if variables:\n",
    "        for variable in variables:\n",
    "            plt.figure(figsize=(20,2))\n",
    "            plt.plot(data[\"time\"], data[variable])\n",
    "            plt.xlabel(\"Time (s)\")\n",
    "            plt.title(\"Variable {}\".format(variable))\n",
    "            plt.show()\n",
    "        \n",
    "    else:      \n",
    "        #If variables not specified then just plot all \n",
    "        for variable in data.columns[1:]:\n",
    "            plt.figure(figsize=(25,2))\n",
    "            plt.plot(data[\"time\"], data[variable])\n",
    "            plt.xlabel(\"Time (s)\")\n",
    "            plt.title(\"Variable {}\".format(variable))\n",
    "            plt.show()\n",
    "\n",
    "def plot_statistics(data, variables = None, time_range = None, window = 100):\n",
    "    \"\"\"Take a data frame and plot the variable with its moving average and real data in the specified range, if\n",
    "    variables are not specified then just plot all variables by default\"\"\"\n",
    "    #Pickout the data\n",
    "    start = min(data[\"time\"])\n",
    "    end = max(data[\"time\"])\n",
    "    \n",
    "    if time_range:\n",
    "        start = time_range[0]\n",
    "        end = time_range[1]\n",
    "        \n",
    "    data = data[(data[\"time\"] > start) & (data[\"time\"] < end)]\n",
    "    \n",
    "    def plot_signal_and_statistics(variable):\n",
    "        # Plotted by calculating Simple Moving Average (SMA)\n",
    "        plt.figure(figsize=(20,2))\n",
    "        plt.plot(data[\"time\"], data[variable], label = \"Signal with noise\")\n",
    "        plt.plot(data[\"time\"], data.loc[:, variable].rolling(window=window).mean(),label = \"Moving average\")\n",
    "        #plt.plot(data[\"time\"], data.loc[:, variable].rolling(window=window).min(),label = \"Moving min\")\n",
    "        #plt.plot(data[\"time\"], data.loc[:, variable].rolling(window=window).max(),label = \"Moving max\")\n",
    "        plt.legend(loc = \"best\")\n",
    "        plt.xlabel(\"Time (s)\")\n",
    "        plt.title(\"Variable {}\".format(variable))\n",
    "        plt.show()\n",
    "        \n",
    "        \n",
    "        #Variance\n",
    "        plt.figure(figsize=(20,2))\n",
    "        plt.plot(data[\"time\"], data.loc[:, variable].rolling(window=window).std(),\n",
    "                 label = \"Variance\",\n",
    "                 color = 'red')\n",
    "        plt.xlabel(\"Time (s)\")\n",
    "        plt.title(\"Variable {}'s Variance\".format(variable))\n",
    "        plt.show()\n",
    "        \n",
    "        #Kurtosis\n",
    "        plt.figure(figsize=(20,2))\n",
    "        plt.plot(data[\"time\"], data.loc[:, variable].rolling(window=window).kurt(),\n",
    "                 label = \"Kurtosis\",\n",
    "                 color = 'green')\n",
    "        plt.xlabel(\"Time (s)\")\n",
    "        plt.title(\"Variable {}'s Kurtosis\".format(variable))\n",
    "        plt.show()\n",
    "        \n",
    "        #Skew\n",
    "        plt.figure(figsize=(20,2))\n",
    "        plt.plot(data[\"time\"], data.loc[:, variable].rolling(window=window).skew(),\n",
    "                 label = \"Skew\",\n",
    "                 color = 'purple')\n",
    "        plt.xlabel(\"Time (s)\")\n",
    "        plt.title(\"Variable {}'s Skew\".format(variable))\n",
    "        plt.show()\n",
    "        \n",
    "        \"\"\"\n",
    "        #Quantile\n",
    "        plt.figure(figsize=(20,2))\n",
    "        plt.plot(data[\"time\"], data.loc[:, variable].rolling(window=window).quantile(0.25), label = \"Quantile 25\",\n",
    "                 color = 'red')\n",
    "        plt.plot(data[\"time\"], data.loc[:, variable].rolling(window=window).quantile(0.75), label = \"Quantile 75\",\n",
    "                 color = 'orange')\n",
    "        plt.plot(data[\"time\"], data.loc[:, variable].rolling(window=window).quantile(0.50), label = \"Quantile 50\",\n",
    "                 color = 'green')\n",
    "        plt.legend(loc = \"best\")\n",
    "        plt.title(\"Variable {}'s Quantile\".format(variable))\n",
    "        plt.show()\n",
    "        \"\"\"\n",
    "        \n",
    "    #Plot\n",
    "    if variables:\n",
    "        for variable in variables:\n",
    "            print(variable)\n",
    "            plot_signal_and_statistics(variable)         \n",
    "    else:\n",
    "        for variable in data.columns[1:]:\n",
    "            print(variable)\n",
    "            plot_signal_and_statistics(variable)\n",
    "    \n",
    "    %reset -f in\n",
    "\n",
    "def plot_variable(data_dict, variable, time_range = None, window = 100):\n",
    "    for quench_name in data_dict.keys():\n",
    "        print(\"Quench's index: \" + quench_name)\n",
    "        if data_dict[quench_name] is not None:\n",
    "            if variable[0] in list(data_dict[quench_name].columns):\n",
    "                plot_statistics(data_dict[quench_name], variables = variable, time_range=time_range, window=window)"
   ]
  },
  {
   "cell_type": "code",
   "execution_count": 3,
   "metadata": {},
   "outputs": [],
   "source": [
    "def read_data_from_single_file(filepath):\n",
    "    \"\"\"Read in quench data from a given file, return a pandas dafa frame\"\"\"\n",
    "    \n",
    "    data_dict= {}\n",
    "    \n",
    "    with open(filepath) as f:\n",
    "        content = f.readlines()\n",
    "    #Remove`\\n` at the end of each line\n",
    "    content = [x.strip() for x in content]\n",
    "    \n",
    "    column_names = content[0].split(\" \")\n",
    "    data = [content[i].split(\"   \") for i in range(1, len(content))] \n",
    "    \n",
    "    for i in range(len(column_names)):\n",
    "        data_dict[column_names[i]] = [float(x[i]) for x in data]\n",
    "        \n",
    "    data_frame = pd.DataFrame(data_dict)\n",
    "    \n",
    "    return data_frame\n",
    "\n",
    "def read_quench_data(area_path, quench_name):\n",
    "    \"\"\"\n",
    "    Read the quench data from the provided file path, note that there are five quenches so we need to concatenate them together.\n",
    "    Just need to provide the quench's name, for e.g: \"./data/mqxfs1b.Quench.161011115654\"\n",
    "    \"\"\"\n",
    "    \n",
    "    data_list = []\n",
    "    \n",
    "    \n",
    "    num_file = 0 #Number of separate data files for this quench, assuming at least one\n",
    "    \n",
    "    for filename in os.listdir(area_path):\n",
    "        if filename.startswith(quench_name) and not filename.endswith(\".tar.gz\"):\n",
    "            #print(\"Reading file ... \" + filename)\n",
    "            if num_file == 0:\n",
    "                try:\n",
    "                    data_list.append(read_data_from_single_file(area_path + filename)) #read first file separately\n",
    "                except:\n",
    "                    pass\n",
    "            else:\n",
    "                try:\n",
    "                    data_list.append(read_data_from_single_file(area_path + filename).drop(columns = [\"time\"])) #Time is already saved in the first file\n",
    "                except:\n",
    "                    pass\n",
    "            num_file += 1\n",
    "                                 \n",
    "    #print(\"Total number of data files for {}: \".format(quench_name), num_file)\n",
    "    \n",
    "    if len(data_list) != 0:\n",
    "        data = pd.concat(data_list, axis = 1) #Concatenate all data files together\n",
    "        return data\n",
    "    else:\n",
    "        print(\"Returning None due to file errors in \" + quench_name)\n",
    "        return None\n",
    "\n",
    "def read_all_quench_in_area(area_path):\n",
    "    \"\"\"\n",
    "    Read all quench's files in the area and return a dictionary of different quench's data. name is the magnet's name\n",
    "    \"\"\"\n",
    "    data = {}\n",
    "    \n",
    "    index = 1 #For indexing different quench\n",
    "\n",
    "    for filename in os.listdir(area_path):\n",
    "        if filename.endswith(\".tar.gz\"): \n",
    "            #print(\"Reading data from ... \" + filename[0:-7])\n",
    "            data[filename[0:-7]] = read_quench_data(area_path, filename[0:-7])\n",
    "            index += 1\n",
    "            \n",
    "    #print(\"Completed. There are {} quenches in total.\".format(str(index - 1)))\n",
    "    \n",
    "    return data\n",
    "\n",
    "def plot_variables_with_time(data, variables = None, time_range = None):\n",
    "    \"\"\"\n",
    "    Take a data frame, and plot all other variables with time.\n",
    "    Optional argument: time_range to specify the range to plot, default is to plot all time. Example argument\n",
    "    is (start_time, end_time)\n",
    "    \"\"\"\n",
    "    start = min(data[\"time\"])\n",
    "    end = max(data[\"time\"])\n",
    "    \n",
    "    if time_range:\n",
    "        start = time_range[0]\n",
    "        end = time_range[1]\n",
    "        \n",
    "    data = data[(data[\"time\"] > start) & (data[\"time\"] < end)]\n",
    "    \n",
    "    if variables:\n",
    "        for variable in variables:\n",
    "            plt.figure(figsize=(20,2))\n",
    "            plt.plot(data[\"time\"], data[variable])\n",
    "            plt.xlabel(\"Time (s)\")\n",
    "            plt.title(\"Variable {}\".format(variable))\n",
    "            plt.show()\n",
    "        \n",
    "    else:      \n",
    "        #If variables not specified then just plot all \n",
    "        for variable in data.columns[1:]:\n",
    "            plt.figure(figsize=(25,2))\n",
    "            plt.plot(data[\"time\"], data[variable])\n",
    "            plt.xlabel(\"Time (s)\")\n",
    "            plt.title(\"Variable {}\".format(variable))\n",
    "            plt.show()\n",
    "\n",
    "def plot_statistics(data, variables = None, time_range = None, window = 100):\n",
    "    \"\"\"Take a data frame and plot the variable with its moving average and real data in the specified range, if\n",
    "    variables are not specified then just plot all variables by default\"\"\"\n",
    "    #Pickout the data\n",
    "    start = min(data[\"time\"])\n",
    "    end = max(data[\"time\"])\n",
    "    \n",
    "    if time_range:\n",
    "        start = time_range[0]\n",
    "        end = time_range[1]\n",
    "        \n",
    "    data = data[(data[\"time\"] > start) & (data[\"time\"] < end)]\n",
    "    \n",
    "    def plot_signal_and_statistics(variable):\n",
    "        # Plotted by calculating Simple Moving Average (SMA)\n",
    "        plt.figure(figsize=(20,2))\n",
    "        \n",
    "        plt.plot(data[\"time\"], data[variable], label = \"Signal with noise\")\n",
    "        \n",
    "        #plt.plot(data[\"time\"], data.loc[:, variable].rolling(window=window).mean(),label = \"Moving average\")\n",
    "        #plt.plot(data[\"time\"], data.loc[:, variable].rolling(window=window).min(),label = \"Moving min\")\n",
    "        #plt.plot(data[\"time\"], data.loc[:, variable].rolling(window=window).max(),label = \"Moving max\")\n",
    "        plt.legend(loc = \"best\")\n",
    "        plt.xlabel(\"Time (s)\")\n",
    "        plt.title(\"Variable {}\".format(variable))\n",
    "        plt.show()\n",
    "        \n",
    "\n",
    "        #Variance\n",
    "        plt.figure(figsize=(20,2))\n",
    "        plt.plot(data[\"time\"], data.loc[:, variable].rolling(window=window).std(),\n",
    "                 label = \"Standard Deviation\",\n",
    "                 color = 'red')\n",
    "        plt.xlabel(\"Time (s)\")\n",
    "        plt.title(\"Variable {}'s Standard Deviation\".format(variable))\n",
    "        plt.show()\n",
    "        \n",
    "        #Kurtosis\n",
    "        plt.figure(figsize=(20,2))\n",
    "        plt.plot(data[\"time\"], data.loc[:, variable].rolling(window=window).kurt(),\n",
    "                 label = \"Kurtosis\",\n",
    "                 color = 'green')\n",
    "        plt.xlabel(\"Time (s)\")\n",
    "        plt.title(\"Variable {}'s Kurtosis\".format(variable))\n",
    "        plt.show()\n",
    "        \n",
    "        #Skew\n",
    "        plt.figure(figsize=(20,2))\n",
    "        plt.plot(data[\"time\"], data.loc[:, variable].rolling(window=window).skew(),\n",
    "                 label = \"Skew\",\n",
    "                 color = 'purple')\n",
    "        plt.xlabel(\"Time (s)\")\n",
    "        plt.title(\"Variable {}'s Skew\".format(variable))\n",
    "        plt.show()\n",
    "        \n",
    "        \"\"\"\n",
    "        #Quantile\n",
    "        plt.figure(figsize=(20,2))\n",
    "        plt.plot(data[\"time\"], data.loc[:, variable].rolling(window=window).quantile(0.25), label = \"Quantile 25\",\n",
    "                 color = 'red')\n",
    "        plt.plot(data[\"time\"], data.loc[:, variable].rolling(window=window).quantile(0.75), label = \"Quantile 75\",\n",
    "                 color = 'orange')\n",
    "        plt.plot(data[\"time\"], data.loc[:, variable].rolling(window=window).quantile(0.50), label = \"Quantile 50\",\n",
    "                 color = 'green')\n",
    "        plt.legend(loc = \"best\")\n",
    "        plt.title(\"Variable {}'s Quantile\".format(variable))\n",
    "        plt.show()\n",
    "        \"\"\"\n",
    "        \n",
    "    #Plot\n",
    "    if variables:\n",
    "        for variable in variables:\n",
    "            print(variable)\n",
    "            plot_signal_and_statistics(variable)         \n",
    "    else:\n",
    "        for variable in data.columns[1:]:\n",
    "            print(variable)\n",
    "            plot_signal_and_statistics(variable)\n",
    "    \n",
    "    %reset -f in\n",
    "\n",
    "def plot_variable(data_dict, variable, time_range = None, window = 100):\n",
    "    for quench_name in data_dict.keys():\n",
    "        print(\"Quench's index: \" + quench_name)\n",
    "        if data_dict[quench_name] is not None:\n",
    "            if variable[0] in list(data_dict[quench_name].columns):\n",
    "                plot_statistics(data_dict[quench_name], variables = variable, time_range=time_range, window=window)\n",
    "\n",
    "\n",
    "########### PROCESS RAMPING DATA ###############\n",
    "def read_tdms_file(filepath):\n",
    "    \"\"\"Read the tdms file from a given path, return a pandas data frame of the tdms file\"\"\"\n",
    "    tdms_file = TdmsFile.read(data_path)\n",
    "    \n",
    "    data_frame = tdms_file.as_dataframe()\n",
    "    \n",
    "    del tdms_file\n",
    "    \n",
    "    #Just the last 3 symbols in columns name matter ('/'_unnamedTask<3>'/'PXI2Slot14/ai0') -> ai0\n",
    "    #Rename the columns\n",
    "    rename_map = []\n",
    "    \n",
    "    for column in data_frame.columns:\n",
    "        rename_map.append(column[-4:-1])\n",
    "    \n",
    "    data_frame.columns = rename_map\n",
    "    \n",
    "    #Add time axis relative to the time when quench happens\n",
    "    time_range = np.asarray(range(data_frame.shape[0]))\n",
    "    \n",
    "\n",
    "    #Center around the max value (quench happens at 0 time)\n",
    "    max_index = data_frame['ai7'].idxmax()\n",
    "    time_range -= max_index\n",
    "    time_range = time_range.astype('float32')\n",
    "    \n",
    "    #Multiply by datarate\n",
    "    time_range = np.multiply(time_range, 1e-5, out=time_range, casting=\"unsafe\")\n",
    "    \n",
    "    data_frame['time'] = time_range\n",
    "    \n",
    "    return data_frame\n",
    "\n",
    "def break_tdms_to_files(file_path):\n",
    "    \"\"\"Read the tdms file and break it into several files according to channels in a new directory\"\"\"\n",
    "    tdms_file = TdmsFile.read(file_path)\n",
    "    \n",
    "    data_frame = tdms_file.as_dataframe()\n",
    "    \n",
    "    del tdms_file\n",
    "    \n",
    "    os.mkdir(\"./data/\" + file_path[-10:-5])\n",
    "    \n",
    "    for channel in data_frame.columns:\n",
    "        np.save(\"./data/{}/{}\".format(file_path[-10:-5], channel[-4:-1]), data_frame.loc[:, channel].to_numpy())\n",
    "\n",
    "def calculate_time(dir_path):\n",
    "    \"\"\"Take a tdms file directory path (after the file is broken up), and calculate and output a time file.\"\"\"\n",
    "    \n",
    "    ai7 = np.load(dir_path + \"ai7.npy\")\n",
    "    \n",
    "    #Add time axis relative to the time when quench happens\n",
    "    time_range = np.asarray(range(ai7.shape[0]))\n",
    "    \n",
    "    #Center around the max value (quench happens at 0 time)\n",
    "    max_index = np.argmax(ai7)\n",
    "    time_range -= max_index\n",
    "    time_range = time_range.astype('float32')\n",
    "    \n",
    "    #Multiply by datarate\n",
    "    time_range = np.multiply(time_range, 1e-5, out=time_range, casting=\"unsafe\")\n",
    "    \n",
    "    np.save(dir_path + \"time\", time_range)\n",
    "\n",
    "def load_channel_and_time(dir_path, channel):\n",
    "    data_frame = pd.DataFrame(data = {channel: np.load(dir_path + channel + \".npy\"),\n",
    "                                     \"time\": np.load(dir_path + \"time.npy\")})\n",
    "    return data_frame\n",
    "\n",
    "def plot_channel(data, channel, time_range = None):\n",
    "    start = min(data[\"time\"])\n",
    "    end = max(data[\"time\"])\n",
    "    \n",
    "    if time_range:\n",
    "        start = time_range[0]\n",
    "        end = time_range[1]\n",
    "        \n",
    "    data = data[(data[\"time\"] > start) & (data[\"time\"] < end)]\n",
    "    \n",
    "    plt.figure(figsize=(20,2))\n",
    "    plt.plot(data[\"time\"], data[channel])\n",
    "    plt.title(\"Variable {}\".format(channel))\n",
    "    plt.show()\n",
    "    \n",
    "    %reset -f in\n",
    "\n",
    "def load_and_plot(dir_path, channel, time_range = None, stat = False, window = 100):\n",
    "    ai = load_channel_and_time(dir_path, channel)\n",
    "    \n",
    "    if stat:\n",
    "        plot_statistics(ai, variables = [channel], time_range = time_range, window = window)\n",
    "    else:\n",
    "        plot_channel(ai, channel, time_range = time_range)\n",
    "    \n",
    "    %reset -f in"
   ]
  },
  {
   "cell_type": "markdown",
   "metadata": {},
   "source": [
    "# 2. Different window size and steps"
   ]
  },
  {
   "cell_type": "markdown",
   "metadata": {},
   "source": [
    "# 1. DNN on a single channel"
   ]
  },
  {
   "cell_type": "code",
   "execution_count": 5,
   "metadata": {},
   "outputs": [],
   "source": [
    "def generate_data(dir_path, channel, time_range, window = 1000, step = 10):\n",
    "    #Load the data\n",
    "    data = load_channel_and_time(dir_path, channel)\n",
    "    \n",
    "    #Select the part\n",
    "    start = time_range[0]\n",
    "    end = time_range[1]\n",
    "    data = data[(data[\"time\"] > start) & (data[\"time\"] < end)]\n",
    "    \n",
    "    #Calculate the statistics\n",
    "    #data[\"Mean\"] = data.loc[:, channel].rolling(window=window).mean()\n",
    "    data[\"SD\"] = data.loc[:, channel].rolling(window=window).std()\n",
    "    data[\"Kurtosis\"] = data.loc[:, channel].rolling(window=window).kurt()\n",
    "    data[\"Skew\"] = data.loc[:, channel].rolling(window=window).skew()\n",
    "    \n",
    "    select_list = [channel, \"SD\", \"Kurtosis\", \"Skew\"]\n",
    "    \n",
    "    assert data[select_list].to_numpy()[window-1::step].shape[0] == data['time'].to_numpy()[window-1::step].shape[0]\n",
    "    \n",
    "    %reset -f in\n",
    "    \n",
    "    return data[select_list].to_numpy()[window-1::step], data['time'].to_numpy()[window-1::step]"
   ]
  },
  {
   "cell_type": "markdown",
   "metadata": {},
   "source": [
    "### 1.1 Taking data"
   ]
  },
  {
   "cell_type": "code",
   "execution_count": 5,
   "metadata": {
    "collapsed": true
   },
   "outputs": [
    {
     "name": "stdout",
     "output_type": "stream",
     "text": [
      "Flushing input history\n",
      "Flushing input history\n",
      "X_train's shape:  (999900, 4)\n",
      "X_test's shape:  (499900, 4)\n"
     ]
    }
   ],
   "source": [
    "X_train, train_time = generate_data(\"./data/Ramp4/\", \"ai2\", time_range = (-450, -350), window = 1000)\n",
    "X_test, test_time = generate_data(\"./data/Ramp4/\", \"ai2\", time_range = (-50, 0), window = 1000)\n",
    "print(\"X_train's shape: \", X_train.shape)\n",
    "print(\"X_test's shape: \", X_test.shape)"
   ]
  },
  {
   "cell_type": "markdown",
   "metadata": {},
   "source": [
    "### 1.2 Create the model"
   ]
  },
  {
   "cell_type": "code",
   "execution_count": 6,
   "metadata": {
    "collapsed": true
   },
   "outputs": [
    {
     "name": "stdout",
     "output_type": "stream",
     "text": [
      "Using Keras version:  2.3.1\n",
      "Model: \"sequential_1\"\n",
      "_________________________________________________________________\n",
      "Layer (type)                 Output Shape              Param #   \n",
      "=================================================================\n",
      "dense_1 (Dense)              (None, 3)                 15        \n",
      "_________________________________________________________________\n",
      "dense_2 (Dense)              (None, 2)                 8         \n",
      "_________________________________________________________________\n",
      "dense_3 (Dense)              (None, 3)                 9         \n",
      "_________________________________________________________________\n",
      "dense_4 (Dense)              (None, 4)                 16        \n",
      "=================================================================\n",
      "Total params: 48\n",
      "Trainable params: 48\n",
      "Non-trainable params: 0\n",
      "_________________________________________________________________\n"
     ]
    }
   ],
   "source": [
    "#================BUILD THE MODEL====================\n",
    "print(\"Using Keras version: \", keras.__version__)\n",
    "\n",
    "# Simple model\n",
    "model = models.Sequential()\n",
    "\n",
    "model.add(Dense(3, activation = 'elu', kernel_initializer='glorot_uniform',\n",
    "                kernel_regularizer=regularizers.l2(0.0),\n",
    "                input_dim=X_train.shape[1]))\n",
    "\n",
    "model.add(Dense(2,activation='elu',\n",
    "                kernel_initializer='glorot_uniform'))\n",
    "\n",
    "model.add(Dense(3,activation='elu',\n",
    "                kernel_initializer='glorot_uniform'))\n",
    "\n",
    "model.add(Dense(X_train.shape[1],\n",
    "                kernel_initializer='glorot_uniform'))\n",
    "\n",
    "model.compile(loss='mse',optimizer='adam')\n",
    "\n",
    "model.summary()"
   ]
  },
  {
   "cell_type": "code",
   "execution_count": 7,
   "metadata": {
    "collapsed": true
   },
   "outputs": [
    {
     "name": "stdout",
     "output_type": "stream",
     "text": [
      "Train on 899910 samples, validate on 99990 samples\n",
      "Epoch 1/50\n",
      "899910/899910 [==============================] - 5s 6us/step - loss: 17.2345 - val_loss: 2.6905\n",
      "Epoch 2/50\n",
      "899910/899910 [==============================] - 5s 5us/step - loss: 1.4110 - val_loss: 0.4562\n",
      "Epoch 3/50\n",
      "899910/899910 [==============================] - 5s 6us/step - loss: 0.6741 - val_loss: 0.2166\n",
      "Epoch 4/50\n",
      "899910/899910 [==============================] - 5s 6us/step - loss: 0.5059 - val_loss: 0.1377\n",
      "Epoch 5/50\n",
      "899910/899910 [==============================] - 4s 5us/step - loss: 0.4148 - val_loss: 0.0994\n",
      "Epoch 6/50\n",
      "899910/899910 [==============================] - 4s 5us/step - loss: 0.3408 - val_loss: 0.0792\n",
      "Epoch 7/50\n",
      "899910/899910 [==============================] - 4s 5us/step - loss: 0.2709 - val_loss: 0.0697\n",
      "Epoch 8/50\n",
      "899910/899910 [==============================] - 5s 5us/step - loss: 0.2123 - val_loss: 0.0622\n",
      "Epoch 9/50\n",
      "899910/899910 [==============================] - 4s 5us/step - loss: 0.1695 - val_loss: 0.0503\n",
      "Epoch 10/50\n",
      "899910/899910 [==============================] - 5s 5us/step - loss: 0.1412 - val_loss: 0.0448\n",
      "Epoch 11/50\n",
      "899910/899910 [==============================] - 5s 5us/step - loss: 0.1225 - val_loss: 0.0391\n",
      "Epoch 12/50\n",
      "899910/899910 [==============================] - 4s 5us/step - loss: 0.1097 - val_loss: 0.0371\n",
      "Epoch 13/50\n",
      "899910/899910 [==============================] - 4s 5us/step - loss: 0.1002 - val_loss: 0.0358\n",
      "Epoch 14/50\n",
      "899910/899910 [==============================] - 5s 6us/step - loss: 0.0925 - val_loss: 0.0350\n",
      "Epoch 15/50\n",
      "899910/899910 [==============================] - 5s 5us/step - loss: 0.0863 - val_loss: 0.0355\n",
      "Epoch 16/50\n",
      "899910/899910 [==============================] - 5s 5us/step - loss: 0.0810 - val_loss: 0.0340\n",
      "Epoch 17/50\n",
      "899910/899910 [==============================] - 4s 5us/step - loss: 0.0765 - val_loss: 0.0359\n",
      "Epoch 18/50\n",
      "899910/899910 [==============================] - 5s 5us/step - loss: 0.0726 - val_loss: 0.0337\n",
      "Epoch 19/50\n",
      "899910/899910 [==============================] - 5s 6us/step - loss: 0.0693 - val_loss: 0.0336\n",
      "Epoch 20/50\n",
      "899910/899910 [==============================] - 5s 6us/step - loss: 0.0666 - val_loss: 0.0335\n",
      "Epoch 21/50\n",
      "899910/899910 [==============================] - 5s 6us/step - loss: 0.0638 - val_loss: 0.0348\n",
      "Epoch 22/50\n",
      "899910/899910 [==============================] - 5s 5us/step - loss: 0.0616 - val_loss: 0.0347\n",
      "Epoch 23/50\n",
      "899910/899910 [==============================] - 5s 6us/step - loss: 0.0595 - val_loss: 0.0331\n",
      "Epoch 24/50\n",
      "899910/899910 [==============================] - 5s 5us/step - loss: 0.0577 - val_loss: 0.0333\n",
      "Epoch 25/50\n",
      "899910/899910 [==============================] - 5s 6us/step - loss: 0.0559 - val_loss: 0.0327\n",
      "Epoch 26/50\n",
      "899910/899910 [==============================] - 5s 5us/step - loss: 0.0544 - val_loss: 0.0328\n",
      "Epoch 27/50\n",
      "899910/899910 [==============================] - 5s 5us/step - loss: 0.0532 - val_loss: 0.0323\n",
      "Epoch 28/50\n",
      "899910/899910 [==============================] - 5s 6us/step - loss: 0.0518 - val_loss: 0.0326\n",
      "Epoch 29/50\n",
      "899910/899910 [==============================] - 5s 6us/step - loss: 0.0507 - val_loss: 0.0322\n",
      "Epoch 30/50\n",
      "899910/899910 [==============================] - 5s 6us/step - loss: 0.0501 - val_loss: 0.0337\n",
      "Epoch 31/50\n",
      "899910/899910 [==============================] - 6s 6us/step - loss: 0.0486 - val_loss: 0.0334\n",
      "Epoch 32/50\n",
      "899910/899910 [==============================] - 6s 7us/step - loss: 0.0481 - val_loss: 0.0318\n",
      "Epoch 33/50\n",
      "899910/899910 [==============================] - 5s 5us/step - loss: 0.0471 - val_loss: 0.0315\n",
      "Epoch 34/50\n",
      "899910/899910 [==============================] - 4s 5us/step - loss: 0.0469 - val_loss: 0.0312\n",
      "Epoch 35/50\n",
      "899910/899910 [==============================] - 5s 5us/step - loss: 0.0455 - val_loss: 0.0487\n",
      "Epoch 36/50\n",
      "899910/899910 [==============================] - 5s 5us/step - loss: 0.0453 - val_loss: 0.0308\n",
      "Epoch 37/50\n",
      "899910/899910 [==============================] - 5s 5us/step - loss: 0.0444 - val_loss: 0.0308\n",
      "Epoch 38/50\n",
      "899910/899910 [==============================] - 5s 6us/step - loss: 0.0443 - val_loss: 0.0313\n",
      "Epoch 39/50\n",
      "899910/899910 [==============================] - 5s 6us/step - loss: 0.0437 - val_loss: 0.0313\n",
      "Epoch 40/50\n",
      "899910/899910 [==============================] - 6s 6us/step - loss: 0.0430 - val_loss: 0.0305\n",
      "Epoch 41/50\n",
      "899910/899910 [==============================] - 5s 6us/step - loss: 0.0428 - val_loss: 0.0314\n",
      "Epoch 42/50\n",
      "899910/899910 [==============================] - 4s 5us/step - loss: 0.0420 - val_loss: 0.0301\n",
      "Epoch 43/50\n",
      "899910/899910 [==============================] - 5s 5us/step - loss: 0.0417 - val_loss: 0.0301\n",
      "Epoch 44/50\n",
      "899910/899910 [==============================] - 5s 6us/step - loss: 0.0415 - val_loss: 0.0297\n",
      "Epoch 45/50\n",
      "899910/899910 [==============================] - 5s 5us/step - loss: 0.0413 - val_loss: 0.0302\n",
      "Epoch 46/50\n",
      "899910/899910 [==============================] - 5s 6us/step - loss: 0.0409 - val_loss: 0.0295\n",
      "Epoch 47/50\n",
      "899910/899910 [==============================] - 5s 6us/step - loss: 0.0405 - val_loss: 0.0300\n",
      "Epoch 48/50\n",
      "899910/899910 [==============================] - 5s 6us/step - loss: 0.0400 - val_loss: 0.0295\n",
      "Epoch 49/50\n",
      "899910/899910 [==============================] - 5s 5us/step - loss: 0.0404 - val_loss: 0.0410\n",
      "Epoch 50/50\n",
      "899910/899910 [==============================] - 5s 5us/step - loss: 0.0401 - val_loss: 0.0312\n"
     ]
    }
   ],
   "source": [
    "# Train model for 100 epochs, batch size of 10: \n",
    "NUM_EPOCHS=50\n",
    "BATCH_SIZE=1028\n",
    "\n",
    "history=model.fit(X_train, X_train,\n",
    "                  batch_size=BATCH_SIZE, \n",
    "                  epochs=NUM_EPOCHS,\n",
    "                  validation_split=0.1,\n",
    "                  verbose = 1)"
   ]
  },
  {
   "cell_type": "code",
   "execution_count": 8,
   "metadata": {
    "collapsed": true
   },
   "outputs": [
    {
     "data": {
      "image/png": "[encoded data removed]",
      "text/plain": [
       "<Figure size 432x288 with 1 Axes>"
      ]
     },
     "metadata": {
      "needs_background": "light"
     },
     "output_type": "display_data"
    }
   ],
   "source": [
    "plt.plot(history.history['loss'],\n",
    "         'b',\n",
    "         label='Training loss')\n",
    "plt.plot(history.history['val_loss'],\n",
    "         'r',\n",
    "         label='Validation loss')\n",
    "plt.legend(loc='upper right')\n",
    "plt.xlabel('Epochs')\n",
    "plt.ylabel('Loss, [mse]')\n",
    "plt.show()"
   ]
  },
  {
   "cell_type": "code",
   "execution_count": 9,
   "metadata": {},
   "outputs": [],
   "source": [
    "#model.save(\"./models/Ramp4-10mswin-10usstep.h5\")"
   ]
  },
  {
   "cell_type": "markdown",
   "metadata": {},
   "source": [
    "### 1.3 Visualize reconstruction loss"
   ]
  },
  {
   "cell_type": "code",
   "execution_count": 10,
   "metadata": {
    "collapsed": true
   },
   "outputs": [
    {
     "data": {
      "text/plain": [
       "(0.0, 0.5)"
      ]
     },
     "execution_count": 10,
     "metadata": {},
     "output_type": "execute_result"
    },
    {
     "data": {
      "image/png": "[encoded data removed]",
      "text/plain": [
       "<Figure size 432x288 with 1 Axes>"
      ]
     },
     "metadata": {
      "needs_background": "light"
     },
     "output_type": "display_data"
    }
   ],
   "source": [
    "X_pred = model.predict(np.array(X_train))\n",
    "scored = pd.DataFrame()\n",
    "scored['Loss_mse'] = np.mean(np.abs(X_pred-X_train), axis = 1)\n",
    "\n",
    "plt.figure()\n",
    "sns.distplot(scored['Loss_mse'],\n",
    "             bins = 10, \n",
    "             kde= True,\n",
    "            color = 'blue');\n",
    "plt.xlim([0.0,.5])"
   ]
  },
  {
   "cell_type": "code",
   "execution_count": 22,
   "metadata": {
    "collapsed": true
   },
   "outputs": [
    {
     "data": {
      "text/plain": [
       "(0.0, 0.5)"
      ]
     },
     "execution_count": 22,
     "metadata": {},
     "output_type": "execute_result"
    },
    {
     "data": {
      "image/png": "[encoded data removed]",
      "text/plain": [
       "<Figure size 432x288 with 1 Axes>"
      ]
     },
     "metadata": {
      "needs_background": "light"
     },
     "output_type": "display_data"
    }
   ],
   "source": [
    "plt.figure()\n",
    "sns.distplot(scored['Loss_mse'],\n",
    "             bins = 100, \n",
    "             kde= True,\n",
    "            color = 'blue');\n",
    "plt.xlim([0.0,.5])"
   ]
  },
  {
   "cell_type": "code",
   "execution_count": 15,
   "metadata": {
    "collapsed": true
   },
   "outputs": [
    {
     "data": {
      "text/plain": [
       "Text(0.5, 0, 'Time (s)')"
      ]
     },
     "execution_count": 15,
     "metadata": {},
     "output_type": "execute_result"
    },
    {
     "data": {
      "image/png": "[encoded data removed]",
      "text/plain": [
       "<Figure size 1440x144 with 1 Axes>"
      ]
     },
     "metadata": {
      "needs_background": "light"
     },
     "output_type": "display_data"
    }
   ],
   "source": [
    "plt.figure(figsize=(20,2))\n",
    "plt.plot(train_time, scored['Loss_mse'])\n",
    "plt.ylim([0,30])\n",
    "plt.xlabel(\"Time (s)\")"
   ]
  },
  {
   "cell_type": "code",
   "execution_count": 12,
   "metadata": {},
   "outputs": [],
   "source": [
    "X_pred_test = model.predict(np.array(X_test))\n",
    "scored_test = pd.DataFrame()\n",
    "scored_test['Loss_mse'] = np.mean(np.abs(X_pred_test-X_test), axis = 1)"
   ]
  },
  {
   "cell_type": "code",
   "execution_count": 16,
   "metadata": {
    "collapsed": true
   },
   "outputs": [
    {
     "data": {
      "text/plain": [
       "Text(0.5, 0, 'Time (s)')"
      ]
     },
     "execution_count": 16,
     "metadata": {},
     "output_type": "execute_result"
    },
    {
     "data": {
      "image/png": "[encoded data removed]",
      "text/plain": [
       "<Figure size 1440x144 with 1 Axes>"
      ]
     },
     "metadata": {
      "needs_background": "light"
     },
     "output_type": "display_data"
    }
   ],
   "source": [
    "plt.figure(figsize=(20,2))\n",
    "plt.plot(test_time, scored_test['Loss_mse'])\n",
    "plt.ylim([0,30])\n",
    "plt.xlim([-100e-3,0])\n",
    "plt.xlabel(\"Time (s)\")"
   ]
  },
  {
   "cell_type": "code",
   "execution_count": 22,
   "metadata": {
    "collapsed": true
   },
   "outputs": [
    {
     "data": {
      "text/plain": [
       "Text(0.5, 0, 'Time (s)')"
      ]
     },
     "execution_count": 22,
     "metadata": {},
     "output_type": "execute_result"
    },
    {
     "data": {
      "image/png": "[encoded data removed]",
      "text/plain": [
       "<Figure size 1440x144 with 1 Axes>"
      ]
     },
     "metadata": {
      "needs_background": "light"
     },
     "output_type": "display_data"
    }
   ],
   "source": [
    "plt.figure(figsize=(20,2))\n",
    "plt.plot(test_time, scored_test['Loss_mse'])\n",
    "plt.ylim([0,30])\n",
    "plt.xlim([-15,0])\n",
    "plt.xlabel(\"Time (s)\")"
   ]
  },
  {
   "cell_type": "markdown",
   "metadata": {},
   "source": [
    "## 1. 100ms window, 100us step"
   ]
  },
  {
   "cell_type": "code",
   "execution_count": 17,
   "metadata": {
    "collapsed": true
   },
   "outputs": [
    {
     "name": "stdout",
     "output_type": "stream",
     "text": [
      "Flushing input history\n",
      "Flushing input history\n",
      "X_train's shape:  (999000, 4)\n",
      "X_test's shape:  (499000, 4)\n"
     ]
    }
   ],
   "source": [
    "X_train, train_time = generate_data(\"./data/Ramp4/\", \"ai2\", time_range = (-450, -350), window = 10000, step = 10)\n",
    "X_test, test_time = generate_data(\"./data/Ramp4/\", \"ai2\", time_range = (-50, 0), window = 10000, step = 10)\n",
    "print(\"X_train's shape: \", X_train.shape)\n",
    "print(\"X_test's shape: \", X_test.shape)"
   ]
  },
  {
   "cell_type": "code",
   "execution_count": 18,
   "metadata": {
    "collapsed": true
   },
   "outputs": [
    {
     "name": "stdout",
     "output_type": "stream",
     "text": [
      "Using Keras version:  2.3.1\n",
      "Model: \"sequential_2\"\n",
      "_________________________________________________________________\n",
      "Layer (type)                 Output Shape              Param #   \n",
      "=================================================================\n",
      "dense_5 (Dense)              (None, 3)                 15        \n",
      "_________________________________________________________________\n",
      "dense_6 (Dense)              (None, 2)                 8         \n",
      "_________________________________________________________________\n",
      "dense_7 (Dense)              (None, 3)                 9         \n",
      "_________________________________________________________________\n",
      "dense_8 (Dense)              (None, 4)                 16        \n",
      "=================================================================\n",
      "Total params: 48\n",
      "Trainable params: 48\n",
      "Non-trainable params: 0\n",
      "_________________________________________________________________\n"
     ]
    }
   ],
   "source": [
    "#================BUILD THE MODEL====================\n",
    "print(\"Using Keras version: \", keras.__version__)\n",
    "\n",
    "# Simple model\n",
    "model = models.Sequential()\n",
    "\n",
    "model.add(Dense(3, activation = 'elu', kernel_initializer='glorot_uniform',\n",
    "                kernel_regularizer=regularizers.l2(0.0),\n",
    "                input_dim=X_train.shape[1]))\n",
    "\n",
    "model.add(Dense(2,activation='elu',\n",
    "                kernel_initializer='glorot_uniform'))\n",
    "\n",
    "model.add(Dense(3,activation='elu',\n",
    "                kernel_initializer='glorot_uniform'))\n",
    "\n",
    "model.add(Dense(X_train.shape[1],\n",
    "                kernel_initializer='glorot_uniform'))\n",
    "\n",
    "model.compile(loss='mse',optimizer='adam')\n",
    "\n",
    "model.summary()"
   ]
  },
  {
   "cell_type": "code",
   "execution_count": 19,
   "metadata": {
    "collapsed": true
   },
   "outputs": [
    {
     "name": "stdout",
     "output_type": "stream",
     "text": [
      "Train on 899100 samples, validate on 99900 samples\n",
      "Epoch 1/50\n",
      "899100/899100 [==============================] - 6s 6us/step - loss: 124.6572 - val_loss: 4.3843\n",
      "Epoch 2/50\n",
      "899100/899100 [==============================] - 5s 5us/step - loss: 3.2122 - val_loss: 0.5948\n",
      "Epoch 3/50\n",
      "899100/899100 [==============================] - 5s 6us/step - loss: 0.2688 - val_loss: 0.0596\n",
      "Epoch 4/50\n",
      "899100/899100 [==============================] - 5s 6us/step - loss: 0.0287 - val_loss: 0.0407\n",
      "Epoch 5/50\n",
      "899100/899100 [==============================] - 5s 6us/step - loss: 0.0172 - val_loss: 0.0400\n",
      "Epoch 6/50\n",
      "899100/899100 [==============================] - 5s 5us/step - loss: 0.0162 - val_loss: 0.0387\n",
      "Epoch 7/50\n",
      "899100/899100 [==============================] - 5s 6us/step - loss: 0.0157 - val_loss: 0.0372\n",
      "Epoch 8/50\n",
      "899100/899100 [==============================] - 5s 5us/step - loss: 0.0153 - val_loss: 0.0358\n",
      "Epoch 9/50\n",
      "899100/899100 [==============================] - 5s 5us/step - loss: 0.0151 - val_loss: 0.0349\n",
      "Epoch 10/50\n",
      "899100/899100 [==============================] - 5s 5us/step - loss: 0.0150 - val_loss: 0.0333\n",
      "Epoch 11/50\n",
      "899100/899100 [==============================] - 5s 5us/step - loss: 0.0149 - val_loss: 0.0326\n",
      "Epoch 12/50\n",
      "899100/899100 [==============================] - 5s 5us/step - loss: 0.0149 - val_loss: 0.0315\n",
      "Epoch 13/50\n",
      "899100/899100 [==============================] - 5s 6us/step - loss: 0.0148 - val_loss: 0.0302\n",
      "Epoch 14/50\n",
      "899100/899100 [==============================] - 5s 6us/step - loss: 0.0147 - val_loss: 0.0291\n",
      "Epoch 15/50\n",
      "899100/899100 [==============================] - 5s 6us/step - loss: 0.0147 - val_loss: 0.0288\n",
      "Epoch 16/50\n",
      "899100/899100 [==============================] - 5s 6us/step - loss: 0.0146 - val_loss: 0.0274\n",
      "Epoch 17/50\n",
      "899100/899100 [==============================] - 5s 6us/step - loss: 0.0146 - val_loss: 0.0268\n",
      "Epoch 18/50\n",
      "899100/899100 [==============================] - 5s 6us/step - loss: 0.0145 - val_loss: 0.0257\n",
      "Epoch 19/50\n",
      "899100/899100 [==============================] - 5s 6us/step - loss: 0.0145 - val_loss: 0.0255\n",
      "Epoch 20/50\n",
      "899100/899100 [==============================] - 5s 5us/step - loss: 0.0145 - val_loss: 0.0253\n",
      "Epoch 21/50\n",
      "899100/899100 [==============================] - 5s 6us/step - loss: 0.0144 - val_loss: 0.0249\n",
      "Epoch 22/50\n",
      "899100/899100 [==============================] - 5s 6us/step - loss: 0.0144 - val_loss: 0.0251\n",
      "Epoch 23/50\n",
      "899100/899100 [==============================] - 5s 5us/step - loss: 0.0143 - val_loss: 0.0251\n",
      "Epoch 24/50\n",
      "899100/899100 [==============================] - 5s 6us/step - loss: 0.0143 - val_loss: 0.0243\n",
      "Epoch 25/50\n",
      "899100/899100 [==============================] - 5s 6us/step - loss: 0.0143 - val_loss: 0.0248\n",
      "Epoch 26/50\n",
      "899100/899100 [==============================] - 5s 6us/step - loss: 0.0142 - val_loss: 0.0244\n",
      "Epoch 27/50\n",
      "899100/899100 [==============================] - 5s 6us/step - loss: 0.0142 - val_loss: 0.0252\n",
      "Epoch 28/50\n",
      "899100/899100 [==============================] - 5s 6us/step - loss: 0.0142 - val_loss: 0.0245\n",
      "Epoch 29/50\n",
      "899100/899100 [==============================] - 5s 5us/step - loss: 0.0141 - val_loss: 0.0249\n",
      "Epoch 30/50\n",
      "899100/899100 [==============================] - 5s 6us/step - loss: 0.0140 - val_loss: 0.0261\n",
      "Epoch 31/50\n",
      "899100/899100 [==============================] - 6s 6us/step - loss: 0.0139 - val_loss: 0.0261\n",
      "Epoch 32/50\n",
      "899100/899100 [==============================] - 5s 6us/step - loss: 0.0139 - val_loss: 0.0256\n",
      "Epoch 33/50\n",
      "899100/899100 [==============================] - 6s 6us/step - loss: 0.0139 - val_loss: 0.0263\n",
      "Epoch 34/50\n",
      "899100/899100 [==============================] - 5s 6us/step - loss: 0.0139 - val_loss: 0.0265\n",
      "Epoch 35/50\n",
      "899100/899100 [==============================] - 5s 6us/step - loss: 0.0139 - val_loss: 0.0260\n",
      "Epoch 36/50\n",
      "899100/899100 [==============================] - 6s 7us/step - loss: 0.0139 - val_loss: 0.0260\n",
      "Epoch 37/50\n",
      "899100/899100 [==============================] - 5s 6us/step - loss: 0.0138 - val_loss: 0.0258\n",
      "Epoch 38/50\n",
      "899100/899100 [==============================] - 5s 6us/step - loss: 0.0138 - val_loss: 0.0254\n",
      "Epoch 39/50\n",
      "899100/899100 [==============================] - 5s 6us/step - loss: 0.0138 - val_loss: 0.0259\n",
      "Epoch 40/50\n",
      "899100/899100 [==============================] - 5s 5us/step - loss: 0.0138 - val_loss: 0.0259\n",
      "Epoch 41/50\n",
      "899100/899100 [==============================] - 4s 5us/step - loss: 0.0138 - val_loss: 0.0259\n",
      "Epoch 42/50\n",
      "899100/899100 [==============================] - 4s 5us/step - loss: 0.0138 - val_loss: 0.0257\n",
      "Epoch 43/50\n",
      "899100/899100 [==============================] - 5s 6us/step - loss: 0.0138 - val_loss: 0.0253\n",
      "Epoch 44/50\n",
      "899100/899100 [==============================] - 5s 6us/step - loss: 0.0138 - val_loss: 0.0252\n",
      "Epoch 45/50\n",
      "899100/899100 [==============================] - 5s 6us/step - loss: 0.0138 - val_loss: 0.0251\n",
      "Epoch 46/50\n",
      "899100/899100 [==============================] - 5s 5us/step - loss: 0.0138 - val_loss: 0.0248\n",
      "Epoch 47/50\n",
      "899100/899100 [==============================] - 5s 5us/step - loss: 0.0138 - val_loss: 0.0251\n",
      "Epoch 48/50\n",
      "899100/899100 [==============================] - 6s 6us/step - loss: 0.0138 - val_loss: 0.0255\n",
      "Epoch 49/50\n",
      "899100/899100 [==============================] - 5s 6us/step - loss: 0.0138 - val_loss: 0.0246\n",
      "Epoch 50/50\n",
      "899100/899100 [==============================] - 5s 6us/step - loss: 0.0138 - val_loss: 0.0250\n"
     ]
    }
   ],
   "source": [
    "# Train model for 100 epochs, batch size of 10: \n",
    "NUM_EPOCHS=50\n",
    "BATCH_SIZE=1028\n",
    "\n",
    "history=model.fit(X_train, X_train,\n",
    "                  batch_size=BATCH_SIZE, \n",
    "                  epochs=NUM_EPOCHS,\n",
    "                  validation_split=0.1,\n",
    "                  verbose = 1)"
   ]
  },
  {
   "cell_type": "code",
   "execution_count": 20,
   "metadata": {},
   "outputs": [],
   "source": [
    "model.save(\"./models/Ramp4-100mswin-100usstep.h5\")"
   ]
  },
  {
   "cell_type": "code",
   "execution_count": 21,
   "metadata": {},
   "outputs": [],
   "source": [
    "X_pred = model.predict(np.array(X_train))\n",
    "scored = pd.DataFrame()\n",
    "scored['Loss_mse'] = np.mean(np.abs(X_pred-X_train), axis = 1)"
   ]
  },
  {
   "cell_type": "code",
   "execution_count": 31,
   "metadata": {
    "collapsed": true
   },
   "outputs": [
    {
     "data": {
      "text/plain": [
       "Text(0.5, 0, 'Time (s)')"
      ]
     },
     "execution_count": 31,
     "metadata": {},
     "output_type": "execute_result"
    },
    {
     "data": {
      "image/png": "[encoded data removed]",
      "text/plain": [
       "<Figure size 1440x144 with 1 Axes>"
      ]
     },
     "metadata": {
      "needs_background": "light"
     },
     "output_type": "display_data"
    }
   ],
   "source": [
    "plt.figure(figsize=(20,2))\n",
    "plt.plot(train_time, scored['Loss_mse'])\n",
    "plt.ylim([0,5])\n",
    "plt.xlabel(\"Time (s)\")"
   ]
  },
  {
   "cell_type": "code",
   "execution_count": 23,
   "metadata": {},
   "outputs": [],
   "source": [
    "X_pred_test = model.predict(np.array(X_test))\n",
    "scored_test = pd.DataFrame()\n",
    "scored_test['Loss_mse'] = np.mean(np.abs(X_pred_test-X_test), axis = 1)"
   ]
  },
  {
   "cell_type": "code",
   "execution_count": 37,
   "metadata": {
    "collapsed": true
   },
   "outputs": [
    {
     "data": {
      "text/plain": [
       "Text(0.5, 0, 'Time (s)')"
      ]
     },
     "execution_count": 37,
     "metadata": {},
     "output_type": "execute_result"
    },
    {
     "data": {
      "image/png": "[encoded data removed]",
      "text/plain": [
       "<Figure size 1440x144 with 1 Axes>"
      ]
     },
     "metadata": {
      "needs_background": "light"
     },
     "output_type": "display_data"
    }
   ],
   "source": [
    "plt.figure(figsize=(20,2))\n",
    "plt.plot(test_time, scored_test['Loss_mse'])\n",
    "plt.ylim([0,5])\n",
    "plt.xlim([-100e-3,0])\n",
    "plt.xlabel(\"Time (s)\")"
   ]
  },
  {
   "cell_type": "markdown",
   "metadata": {},
   "source": [
    "## 2. Window size: 1s, step of 100us"
   ]
  },
  {
   "cell_type": "code",
   "execution_count": 7,
   "metadata": {
    "collapsed": true
   },
   "outputs": [
    {
     "name": "stdout",
     "output_type": "stream",
     "text": [
      "Flushing input history\n",
      "Flushing input history\n",
      "X_train's shape:  (990000, 4)\n",
      "X_test's shape:  (490000, 4)\n"
     ]
    }
   ],
   "source": [
    "X_train, train_time = generate_data(\"./data/Ramp4/\", \"ai2\", time_range = (-450, -350), window = 100000, step = 10)\n",
    "X_test, test_time = generate_data(\"./data/Ramp4/\", \"ai2\", time_range = (-50, 0), window = 100000, step = 10)\n",
    "print(\"X_train's shape: \", X_train.shape)\n",
    "print(\"X_test's shape: \", X_test.shape)"
   ]
  },
  {
   "cell_type": "code",
   "execution_count": 8,
   "metadata": {
    "collapsed": true
   },
   "outputs": [
    {
     "name": "stdout",
     "output_type": "stream",
     "text": [
      "Using Keras version:  2.3.1\n",
      "Model: \"sequential_2\"\n",
      "_________________________________________________________________\n",
      "Layer (type)                 Output Shape              Param #   \n",
      "=================================================================\n",
      "dense_1 (Dense)              (None, 3)                 15        \n",
      "_________________________________________________________________\n",
      "dense_2 (Dense)              (None, 2)                 8         \n",
      "_________________________________________________________________\n",
      "dense_3 (Dense)              (None, 3)                 9         \n",
      "_________________________________________________________________\n",
      "dense_4 (Dense)              (None, 4)                 16        \n",
      "=================================================================\n",
      "Total params: 48\n",
      "Trainable params: 48\n",
      "Non-trainable params: 0\n",
      "_________________________________________________________________\n"
     ]
    }
   ],
   "source": [
    "#================BUILD THE MODEL====================\n",
    "print(\"Using Keras version: \", keras.__version__)\n",
    "\n",
    "# Simple model\n",
    "model = models.Sequential()\n",
    "\n",
    "model.add(Dense(3, activation = 'elu', kernel_initializer='glorot_uniform',\n",
    "                kernel_regularizer=regularizers.l2(0.0),\n",
    "                input_dim=X_train.shape[1]))\n",
    "\n",
    "model.add(Dense(2,activation='elu',\n",
    "                kernel_initializer='glorot_uniform'))\n",
    "\n",
    "model.add(Dense(3,activation='elu',\n",
    "                kernel_initializer='glorot_uniform'))\n",
    "\n",
    "model.add(Dense(X_train.shape[1],\n",
    "                kernel_initializer='glorot_uniform'))\n",
    "\n",
    "model.compile(loss='mse',optimizer='adam')\n",
    "\n",
    "model.summary()"
   ]
  },
  {
   "cell_type": "code",
   "execution_count": 9,
   "metadata": {
    "collapsed": true
   },
   "outputs": [
    {
     "name": "stdout",
     "output_type": "stream",
     "text": [
      "Train on 891000 samples, validate on 99000 samples\n",
      "Epoch 1/50\n",
      "891000/891000 [==============================] - 6s 7us/step - loss: 182.8899 - val_loss: 11.8056\n",
      "Epoch 2/50\n",
      "891000/891000 [==============================] - 5s 6us/step - loss: 92.8105 - val_loss: 0.3146\n",
      "Epoch 3/50\n",
      "891000/891000 [==============================] - 5s 6us/step - loss: 34.1442 - val_loss: 0.3351\n",
      "Epoch 4/50\n",
      "891000/891000 [==============================] - 5s 6us/step - loss: 12.1075 - val_loss: 0.1927\n",
      "Epoch 5/50\n",
      "891000/891000 [==============================] - 5s 5us/step - loss: 5.0666 - val_loss: 0.0545\n",
      "Epoch 6/50\n",
      "891000/891000 [==============================] - 5s 5us/step - loss: 2.4654 - val_loss: 0.0642\n",
      "Epoch 7/50\n",
      "891000/891000 [==============================] - 5s 6us/step - loss: 1.2462 - val_loss: 0.0866\n",
      "Epoch 8/50\n",
      "891000/891000 [==============================] - 5s 6us/step - loss: 0.6214 - val_loss: 0.0726\n",
      "Epoch 9/50\n",
      "891000/891000 [==============================] - 5s 5us/step - loss: 0.3005 - val_loss: 0.0588\n",
      "Epoch 10/50\n",
      "891000/891000 [==============================] - 5s 6us/step - loss: 0.1449 - val_loss: 0.0630\n",
      "Epoch 11/50\n",
      "891000/891000 [==============================] - 5s 6us/step - loss: 0.0726 - val_loss: 0.0488\n",
      "Epoch 12/50\n",
      "891000/891000 [==============================] - 5s 6us/step - loss: 0.0416 - val_loss: 0.0485\n",
      "Epoch 13/50\n",
      "891000/891000 [==============================] - 5s 6us/step - loss: 0.0276 - val_loss: 0.0478\n",
      "Epoch 14/50\n",
      "891000/891000 [==============================] - 5s 5us/step - loss: 0.0199 - val_loss: 0.0491\n",
      "Epoch 15/50\n",
      "891000/891000 [==============================] - 5s 5us/step - loss: 0.0173 - val_loss: 0.0500\n",
      "Epoch 16/50\n",
      "891000/891000 [==============================] - 5s 6us/step - loss: 0.0144 - val_loss: 0.0510\n",
      "Epoch 17/50\n",
      "891000/891000 [==============================] - 5s 5us/step - loss: 0.0133 - val_loss: 0.0528\n",
      "Epoch 18/50\n",
      "891000/891000 [==============================] - 5s 5us/step - loss: 0.0129 - val_loss: 0.0550\n",
      "Epoch 19/50\n",
      "891000/891000 [==============================] - 6s 6us/step - loss: 0.0126 - val_loss: 0.0558\n",
      "Epoch 20/50\n",
      "891000/891000 [==============================] - 5s 6us/step - loss: 0.0131 - val_loss: 0.0577\n",
      "Epoch 21/50\n",
      "891000/891000 [==============================] - 5s 6us/step - loss: 0.0111 - val_loss: 0.0578\n",
      "Epoch 22/50\n",
      "891000/891000 [==============================] - 5s 6us/step - loss: 0.0123 - val_loss: 0.0586\n",
      "Epoch 23/50\n",
      "891000/891000 [==============================] - 5s 6us/step - loss: 0.0112 - val_loss: 0.0599\n",
      "Epoch 24/50\n",
      "891000/891000 [==============================] - 5s 5us/step - loss: 0.0115 - val_loss: 0.0599\n",
      "Epoch 25/50\n",
      "891000/891000 [==============================] - 5s 6us/step - loss: 0.0116 - val_loss: 0.0603\n",
      "Epoch 26/50\n",
      "891000/891000 [==============================] - 5s 6us/step - loss: 0.0122 - val_loss: 0.0607\n",
      "Epoch 27/50\n",
      "891000/891000 [==============================] - 5s 5us/step - loss: 0.0108 - val_loss: 0.0602\n",
      "Epoch 28/50\n",
      "891000/891000 [==============================] - 5s 6us/step - loss: 0.0118 - val_loss: 0.0784\n",
      "Epoch 29/50\n",
      "891000/891000 [==============================] - 4s 5us/step - loss: 0.0113 - val_loss: 0.0620\n",
      "Epoch 30/50\n",
      "891000/891000 [==============================] - 4s 5us/step - loss: 0.0120 - val_loss: 0.0605\n",
      "Epoch 31/50\n",
      "891000/891000 [==============================] - 4s 4us/step - loss: 0.0107 - val_loss: 0.0596\n",
      "Epoch 32/50\n",
      "891000/891000 [==============================] - 5s 5us/step - loss: 0.0114 - val_loss: 0.0607\n",
      "Epoch 33/50\n",
      "891000/891000 [==============================] - 4s 5us/step - loss: 0.0115 - val_loss: 0.0571\n",
      "Epoch 34/50\n",
      "891000/891000 [==============================] - 5s 6us/step - loss: 0.0113 - val_loss: 0.0546\n",
      "Epoch 35/50\n",
      "891000/891000 [==============================] - 5s 6us/step - loss: 0.0113 - val_loss: 0.0513\n",
      "Epoch 36/50\n",
      "891000/891000 [==============================] - 5s 6us/step - loss: 0.0109 - val_loss: 0.0478\n",
      "Epoch 37/50\n",
      "891000/891000 [==============================] - 5s 5us/step - loss: 0.0122 - val_loss: 0.0432\n",
      "Epoch 38/50\n",
      "891000/891000 [==============================] - 5s 6us/step - loss: 0.0108 - val_loss: 0.0377\n",
      "Epoch 39/50\n",
      "891000/891000 [==============================] - 5s 5us/step - loss: 0.0111 - val_loss: 0.0305\n",
      "Epoch 40/50\n",
      "891000/891000 [==============================] - 5s 6us/step - loss: 0.0111 - val_loss: 0.0231\n",
      "Epoch 41/50\n",
      "891000/891000 [==============================] - 5s 6us/step - loss: 0.0113 - val_loss: 0.0293\n",
      "Epoch 42/50\n",
      "891000/891000 [==============================] - 5s 6us/step - loss: 0.0114 - val_loss: 0.0215\n",
      "Epoch 43/50\n",
      "891000/891000 [==============================] - 5s 6us/step - loss: 0.0112 - val_loss: 0.0341\n",
      "Epoch 44/50\n",
      "891000/891000 [==============================] - 5s 6us/step - loss: 0.0113 - val_loss: 0.0656\n",
      "Epoch 45/50\n",
      "891000/891000 [==============================] - 5s 6us/step - loss: 0.0117 - val_loss: 0.1133\n",
      "Epoch 46/50\n",
      "891000/891000 [==============================] - 5s 6us/step - loss: 0.0106 - val_loss: 0.1844\n",
      "Epoch 47/50\n",
      "891000/891000 [==============================] - 5s 6us/step - loss: 0.0116 - val_loss: 0.2791\n",
      "Epoch 48/50\n",
      "891000/891000 [==============================] - 5s 6us/step - loss: 0.0115 - val_loss: 0.3994\n",
      "Epoch 49/50\n",
      "891000/891000 [==============================] - 5s 6us/step - loss: 0.0116 - val_loss: 0.5155\n",
      "Epoch 50/50\n",
      "891000/891000 [==============================] - 5s 6us/step - loss: 0.0118 - val_loss: 0.6555\n"
     ]
    }
   ],
   "source": [
    "# Train model for 100 epochs, batch size of 10: \n",
    "NUM_EPOCHS=50\n",
    "BATCH_SIZE=1028\n",
    "\n",
    "history=model.fit(X_train, X_train,\n",
    "                  batch_size=BATCH_SIZE, \n",
    "                  epochs=NUM_EPOCHS,\n",
    "                  validation_split=0.1,\n",
    "                  verbose = 1)"
   ]
  },
  {
   "cell_type": "code",
   "execution_count": 10,
   "metadata": {},
   "outputs": [],
   "source": [
    "model.save(\"./models/Ramp4-1swin-100usstep.h5\")"
   ]
  },
  {
   "cell_type": "code",
   "execution_count": 11,
   "metadata": {},
   "outputs": [],
   "source": [
    "X_pred = model.predict(np.array(X_train))\n",
    "scored = pd.DataFrame()\n",
    "scored['Loss_mse'] = np.mean(np.abs(X_pred-X_train), axis = 1)"
   ]
  },
  {
   "cell_type": "code",
   "execution_count": 18,
   "metadata": {
    "collapsed": true
   },
   "outputs": [
    {
     "data": {
      "text/plain": [
       "Text(0.5, 0, 'Time (s)')"
      ]
     },
     "execution_count": 18,
     "metadata": {},
     "output_type": "execute_result"
    },
    {
     "data": {
      "image/png": "[encoded data removed]",
      "text/plain": [
       "<Figure size 1440x144 with 1 Axes>"
      ]
     },
     "metadata": {
      "needs_background": "light"
     },
     "output_type": "display_data"
    }
   ],
   "source": [
    "plt.figure(figsize=(20,2))\n",
    "plt.plot(train_time, scored['Loss_mse'])\n",
    "plt.ylim([0,30])\n",
    "plt.xlabel(\"Time (s)\")"
   ]
  },
  {
   "cell_type": "code",
   "execution_count": 13,
   "metadata": {},
   "outputs": [],
   "source": [
    "X_pred_test = model.predict(np.array(X_test))\n",
    "scored_test = pd.DataFrame()\n",
    "scored_test['Loss_mse'] = np.mean(np.abs(X_pred_test-X_test), axis = 1)"
   ]
  },
  {
   "cell_type": "code",
   "execution_count": 25,
   "metadata": {
    "collapsed": true
   },
   "outputs": [
    {
     "data": {
      "text/plain": [
       "Text(0.5, 0, 'Time (s)')"
      ]
     },
     "execution_count": 25,
     "metadata": {},
     "output_type": "execute_result"
    },
    {
     "data": {
      "image/png": "[encoded data removed]",
      "text/plain": [
       "<Figure size 1440x144 with 1 Axes>"
      ]
     },
     "metadata": {
      "needs_background": "light"
     },
     "output_type": "display_data"
    }
   ],
   "source": [
    "plt.figure(figsize=(20,2))\n",
    "plt.plot(test_time, scored_test['Loss_mse'])\n",
    "plt.ylim([0,150])\n",
    "plt.xlim([-100e-3,0])\n",
    "plt.xlabel(\"Time (s)\")"
   ]
  },
  {
   "cell_type": "markdown",
   "metadata": {},
   "source": [
    "## 3. Window size: 2s, step of 100us"
   ]
  },
  {
   "cell_type": "code",
   "execution_count": 6,
   "metadata": {},
   "outputs": [
    {
     "name": "stdout",
     "output_type": "stream",
     "text": [
      "Flushing input history\n",
      "Flushing input history\n",
      "X_train's shape:  (980000, 4)\n",
      "X_test's shape:  (480000, 4)\n"
     ]
    }
   ],
   "source": [
    "X_train, train_time = generate_data(\"./data/Ramp4/\", \"ai2\", time_range = (-450, -350), window = 200000, step = 10)\n",
    "X_test, test_time = generate_data(\"./data/Ramp4/\", \"ai2\", time_range = (-50, 0), window = 200000, step = 10)\n",
    "print(\"X_train's shape: \", X_train.shape)\n",
    "print(\"X_test's shape: \", X_test.shape)"
   ]
  },
  {
   "cell_type": "code",
   "execution_count": 7,
   "metadata": {
    "collapsed": true
   },
   "outputs": [
    {
     "name": "stdout",
     "output_type": "stream",
     "text": [
      "Using Keras version:  2.3.1\n",
      "Model: \"sequential_1\"\n",
      "_________________________________________________________________\n",
      "Layer (type)                 Output Shape              Param #   \n",
      "=================================================================\n",
      "dense_1 (Dense)              (None, 3)                 15        \n",
      "_________________________________________________________________\n",
      "dense_2 (Dense)              (None, 2)                 8         \n",
      "_________________________________________________________________\n",
      "dense_3 (Dense)              (None, 3)                 9         \n",
      "_________________________________________________________________\n",
      "dense_4 (Dense)              (None, 4)                 16        \n",
      "=================================================================\n",
      "Total params: 48\n",
      "Trainable params: 48\n",
      "Non-trainable params: 0\n",
      "_________________________________________________________________\n"
     ]
    }
   ],
   "source": [
    "#================BUILD THE MODEL====================\n",
    "print(\"Using Keras version: \", keras.__version__)\n",
    "\n",
    "# Simple model\n",
    "model = models.Sequential()\n",
    "\n",
    "model.add(Dense(3, activation = 'elu', kernel_initializer='glorot_uniform',\n",
    "                kernel_regularizer=regularizers.l2(0.0),\n",
    "                input_dim=X_train.shape[1]))\n",
    "\n",
    "model.add(Dense(2,activation='elu',\n",
    "                kernel_initializer='glorot_uniform'))\n",
    "\n",
    "model.add(Dense(3,activation='elu',\n",
    "                kernel_initializer='glorot_uniform'))\n",
    "\n",
    "model.add(Dense(X_train.shape[1],\n",
    "                kernel_initializer='glorot_uniform'))\n",
    "\n",
    "model.compile(loss='mse',optimizer='adam')\n",
    "\n",
    "model.summary()"
   ]
  },
  {
   "cell_type": "code",
   "execution_count": 8,
   "metadata": {
    "collapsed": true
   },
   "outputs": [
    {
     "name": "stdout",
     "output_type": "stream",
     "text": [
      "Train on 882000 samples, validate on 98000 samples\n",
      "Epoch 1/50\n",
      "882000/882000 [==============================] - 6s 7us/step - loss: 91.1233 - val_loss: 0.8273\n",
      "Epoch 2/50\n",
      "882000/882000 [==============================] - 5s 5us/step - loss: 0.3916 - val_loss: 0.0833\n",
      "Epoch 3/50\n",
      "882000/882000 [==============================] - 5s 5us/step - loss: 0.0245 - val_loss: 0.0352\n",
      "Epoch 4/50\n",
      "882000/882000 [==============================] - 5s 6us/step - loss: 0.0106 - val_loss: 0.0255\n",
      "Epoch 5/50\n",
      "882000/882000 [==============================] - 5s 6us/step - loss: 0.0073 - val_loss: 0.0204\n",
      "Epoch 6/50\n",
      "882000/882000 [==============================] - 5s 5us/step - loss: 0.0060 - val_loss: 0.0168\n",
      "Epoch 7/50\n",
      "882000/882000 [==============================] - 5s 6us/step - loss: 0.0052 - val_loss: 0.0162\n",
      "Epoch 8/50\n",
      "882000/882000 [==============================] - 5s 6us/step - loss: 0.0047 - val_loss: 0.0148\n",
      "Epoch 9/50\n",
      "882000/882000 [==============================] - 5s 6us/step - loss: 0.0044 - val_loss: 0.0135\n",
      "Epoch 10/50\n",
      "882000/882000 [==============================] - 5s 5us/step - loss: 0.0037 - val_loss: 0.0096\n",
      "Epoch 11/50\n",
      "882000/882000 [==============================] - 5s 6us/step - loss: 0.0016 - val_loss: 0.0046\n",
      "Epoch 12/50\n",
      "882000/882000 [==============================] - 5s 6us/step - loss: 7.5109e-04 - val_loss: 0.0016\n",
      "Epoch 13/50\n",
      "882000/882000 [==============================] - 6s 6us/step - loss: 2.8822e-04 - val_loss: 4.4738e-04\n",
      "Epoch 14/50\n",
      "882000/882000 [==============================] - 5s 5us/step - loss: 1.0221e-04 - val_loss: 2.5029e-04\n",
      "Epoch 15/50\n",
      "882000/882000 [==============================] - 6s 7us/step - loss: 4.8647e-05 - val_loss: 2.9311e-04\n",
      "Epoch 16/50\n",
      "882000/882000 [==============================] - 5s 6us/step - loss: 3.7692e-05 - val_loss: 3.1549e-04\n",
      "Epoch 17/50\n",
      "882000/882000 [==============================] - 5s 6us/step - loss: 3.4313e-05 - val_loss: 3.2652e-04\n",
      "Epoch 18/50\n",
      "882000/882000 [==============================] - 5s 6us/step - loss: 3.2136e-05 - val_loss: 3.2638e-04\n",
      "Epoch 19/50\n",
      "882000/882000 [==============================] - 5s 5us/step - loss: 2.8691e-05 - val_loss: 3.0323e-04\n",
      "Epoch 20/50\n",
      "882000/882000 [==============================] - 5s 6us/step - loss: 2.8882e-05 - val_loss: 3.2053e-04\n",
      "Epoch 21/50\n",
      "882000/882000 [==============================] - 5s 6us/step - loss: 2.4460e-05 - val_loss: 2.9007e-04\n",
      "Epoch 22/50\n",
      "882000/882000 [==============================] - 5s 6us/step - loss: 2.5173e-05 - val_loss: 2.8265e-04\n",
      "Epoch 23/50\n",
      "882000/882000 [==============================] - 5s 6us/step - loss: 2.6192e-05 - val_loss: 2.7184e-04\n",
      "Epoch 24/50\n",
      "882000/882000 [==============================] - 5s 6us/step - loss: 2.0411e-05 - val_loss: 2.4322e-04\n",
      "Epoch 25/50\n",
      "882000/882000 [==============================] - 5s 5us/step - loss: 1.9932e-05 - val_loss: 2.3705e-04\n",
      "Epoch 26/50\n",
      "882000/882000 [==============================] - 6s 6us/step - loss: 2.7404e-05 - val_loss: 2.1838e-04\n",
      "Epoch 27/50\n",
      "882000/882000 [==============================] - 5s 6us/step - loss: 1.4824e-05 - val_loss: 2.0408e-04\n",
      "Epoch 28/50\n",
      "882000/882000 [==============================] - 5s 6us/step - loss: 2.2229e-05 - val_loss: 1.8605e-04\n",
      "Epoch 29/50\n",
      "882000/882000 [==============================] - 5s 5us/step - loss: 1.7812e-05 - val_loss: 1.7695e-04\n",
      "Epoch 30/50\n",
      "882000/882000 [==============================] - 5s 6us/step - loss: 1.8439e-05 - val_loss: 1.6973e-04\n",
      "Epoch 31/50\n",
      "882000/882000 [==============================] - 5s 6us/step - loss: 1.8090e-05 - val_loss: 1.5953e-04\n",
      "Epoch 32/50\n",
      "882000/882000 [==============================] - 5s 6us/step - loss: 1.9491e-05 - val_loss: 1.5250e-04\n",
      "Epoch 33/50\n",
      "882000/882000 [==============================] - 5s 6us/step - loss: 1.6807e-05 - val_loss: 1.4114e-04\n",
      "Epoch 34/50\n",
      "882000/882000 [==============================] - 6s 6us/step - loss: 1.7670e-05 - val_loss: 1.3441e-04\n",
      "Epoch 35/50\n",
      "882000/882000 [==============================] - 5s 5us/step - loss: 1.7008e-05 - val_loss: 1.3171e-04\n",
      "Epoch 36/50\n",
      "882000/882000 [==============================] - 5s 6us/step - loss: 1.4987e-05 - val_loss: 1.1851e-04\n",
      "Epoch 37/50\n",
      "882000/882000 [==============================] - 5s 6us/step - loss: 2.0280e-05 - val_loss: 1.1160e-04\n",
      "Epoch 38/50\n",
      "882000/882000 [==============================] - 5s 5us/step - loss: 1.4598e-05 - val_loss: 1.0386e-04\n",
      "Epoch 39/50\n",
      "882000/882000 [==============================] - 5s 6us/step - loss: 1.9907e-05 - val_loss: 9.5080e-05\n",
      "Epoch 40/50\n",
      "882000/882000 [==============================] - 5s 6us/step - loss: 1.4359e-05 - val_loss: 1.2917e-04\n",
      "Epoch 41/50\n",
      "882000/882000 [==============================] - 5s 5us/step - loss: 1.4570e-05 - val_loss: 8.7605e-05\n",
      "Epoch 42/50\n",
      "882000/882000 [==============================] - 5s 5us/step - loss: 1.4124e-05 - val_loss: 8.2925e-05\n",
      "Epoch 43/50\n",
      "882000/882000 [==============================] - 5s 5us/step - loss: 1.4629e-05 - val_loss: 7.5183e-05\n",
      "Epoch 44/50\n",
      "882000/882000 [==============================] - 5s 6us/step - loss: 1.4821e-05 - val_loss: 7.1493e-05\n",
      "Epoch 45/50\n",
      "882000/882000 [==============================] - 4s 5us/step - loss: 1.4407e-05 - val_loss: 6.6094e-05\n",
      "Epoch 46/50\n",
      "882000/882000 [==============================] - 5s 5us/step - loss: 1.5769e-05 - val_loss: 6.1105e-05\n",
      "Epoch 47/50\n",
      "882000/882000 [==============================] - 5s 5us/step - loss: 1.5969e-05 - val_loss: 5.8015e-05\n",
      "Epoch 48/50\n",
      "882000/882000 [==============================] - 5s 5us/step - loss: 1.1352e-05 - val_loss: 5.2102e-05\n",
      "Epoch 49/50\n",
      "882000/882000 [==============================] - 5s 6us/step - loss: 1.3356e-05 - val_loss: 4.6250e-05\n",
      "Epoch 50/50\n",
      "882000/882000 [==============================] - 5s 6us/step - loss: 1.6629e-05 - val_loss: 4.5895e-05\n"
     ]
    }
   ],
   "source": [
    "# Train model for 100 epochs, batch size of 10: \n",
    "NUM_EPOCHS=50\n",
    "BATCH_SIZE=1028\n",
    "\n",
    "history=model.fit(X_train, X_train,\n",
    "                  batch_size=BATCH_SIZE, \n",
    "                  epochs=NUM_EPOCHS,\n",
    "                  validation_split=0.1,\n",
    "                  verbose = 1)"
   ]
  },
  {
   "cell_type": "code",
   "execution_count": 9,
   "metadata": {},
   "outputs": [],
   "source": [
    "model.save(\"./models/Ramp4-2swin-100usstep.h5\")"
   ]
  },
  {
   "cell_type": "code",
   "execution_count": 10,
   "metadata": {},
   "outputs": [],
   "source": [
    "X_pred = model.predict(np.array(X_train))\n",
    "scored = pd.DataFrame()\n",
    "scored['Loss_mse'] = np.mean(np.abs(X_pred-X_train), axis = 1)"
   ]
  },
  {
   "cell_type": "code",
   "execution_count": 20,
   "metadata": {},
   "outputs": [
    {
     "data": {
      "text/plain": [
       "Text(0.5, 0, 'Time (s)')"
      ]
     },
     "execution_count": 20,
     "metadata": {},
     "output_type": "execute_result"
    },
    {
     "data": {
      "image/png": "[encoded data removed]",
      "text/plain": [
       "<Figure size 1440x144 with 1 Axes>"
      ]
     },
     "metadata": {
      "needs_background": "light"
     },
     "output_type": "display_data"
    }
   ],
   "source": [
    "plt.figure(figsize=(20,2))\n",
    "plt.plot(train_time, scored['Loss_mse'])\n",
    "plt.ylim([0,10])\n",
    "plt.xlabel(\"Time (s)\")"
   ]
  },
  {
   "cell_type": "code",
   "execution_count": 12,
   "metadata": {},
   "outputs": [],
   "source": [
    "X_pred_test = model.predict(np.array(X_test))\n",
    "scored_test = pd.DataFrame()\n",
    "scored_test['Loss_mse'] = np.mean(np.abs(X_pred_test-X_test), axis = 1)"
   ]
  },
  {
   "cell_type": "code",
   "execution_count": 25,
   "metadata": {},
   "outputs": [
    {
     "data": {
      "text/plain": [
       "Text(0.5, 0, 'Time (s)')"
      ]
     },
     "execution_count": 25,
     "metadata": {},
     "output_type": "execute_result"
    },
    {
     "data": {
      "image/png": "[encoded data removed]",
      "text/plain": [
       "<Figure size 1440x144 with 1 Axes>"
      ]
     },
     "metadata": {
      "needs_background": "light"
     },
     "output_type": "display_data"
    }
   ],
   "source": [
    "plt.figure(figsize=(20,2))\n",
    "plt.plot(test_time, scored_test['Loss_mse'])\n",
    "plt.ylim([0,10])\n",
    "plt.xlim([-50,0])\n",
    "plt.xlabel(\"Time (s)\")"
   ]
  },
  {
   "cell_type": "code",
   "execution_count": 21,
   "metadata": {},
   "outputs": [
    {
     "data": {
      "text/plain": [
       "Text(0.5, 0, 'Time (s)')"
      ]
     },
     "execution_count": 21,
     "metadata": {},
     "output_type": "execute_result"
    },
    {
     "data": {
      "image/png": "[encoded data removed]",
      "text/plain": [
       "<Figure size 1440x144 with 1 Axes>"
      ]
     },
     "metadata": {
      "needs_background": "light"
     },
     "output_type": "display_data"
    }
   ],
   "source": [
    "plt.figure(figsize=(20,2))\n",
    "plt.plot(test_time, scored_test['Loss_mse'])\n",
    "plt.ylim([0,10])\n",
    "plt.xlim([-100e-3,0])\n",
    "plt.xlabel(\"Time (s)\")"
   ]
  },
  {
   "cell_type": "markdown",
   "metadata": {},
   "source": [
    "## All the sensor together"
   ]
  },
  {
   "cell_type": "code",
   "execution_count": null,
   "metadata": {},
   "outputs": [],
   "source": []
  }
 ],
 "metadata": {
  "kernelspec": {
   "display_name": "Python 3",
   "language": "python",
   "name": "python3"
  },
  "language_info": {
   "codemirror_mode": {
    "name": "ipython",
    "version": 3
   },
   "file_extension": ".py",
   "mimetype": "text/x-python",
   "name": "python",
   "nbconvert_exporter": "python",
   "pygments_lexer": "ipython3",
   "version": "3.7.6"
  }
 },
 "nbformat": 4,
 "nbformat_minor": 4
}
