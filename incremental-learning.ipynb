{
 "cells": [
  {
   "cell_type": "markdown",
   "metadata": {},
   "source": [
    "# Incremental Learning Implementation"
   ]
  },
  {
   "cell_type": "code",
   "execution_count": 1,
   "metadata": {},
   "outputs": [
    {
     "name": "stderr",
     "output_type": "stream",
     "text": [
      "\n",
      "Bad key \"text.kerning_factor\" on line 4 in\n",
      "/uscms_data/d3/dhoang/miniconda3/lib/python3.7/site-packages/matplotlib/mpl-data/stylelib/_classic_test_patch.mplstyle.\n",
      "You probably need to get an updated matplotlibrc file from\n",
      "https://github.com/matplotlib/matplotlib/blob/v3.1.3/matplotlibrc.template\n",
      "or from the matplotlib source distribution\n",
      "Using TensorFlow backend.\n"
     ]
    }
   ],
   "source": [
    "#Data processing\n",
    "import os\n",
    "import pandas as pd\n",
    "import numpy as np\n",
    "import matplotlib.pyplot as plt\n",
    "import seaborn as sns\n",
    "from nptdms import TdmsFile #Process ramping file\n",
    "\n",
    "#For building ML models\n",
    "import keras\n",
    "import keras.models as models\n",
    "from keras.layers.core import Dense\n",
    "from keras import regularizers\n",
    "from sklearn.preprocessing import MinMaxScaler\n",
    "\n",
    "np.random.seed(1337) # for reproducibility"
   ]
  },
  {
   "cell_type": "markdown",
   "metadata": {},
   "source": [
    "## 0. Functions"
   ]
  },
  {
   "cell_type": "code",
   "execution_count": 101,
   "metadata": {},
   "outputs": [],
   "source": [
    "def load_sensor(dir_path, sensor, time_range = None):\n",
    "    \n",
    "    data = pd.DataFrame(data = {sensor: np.load(dir_path + sensor + \".npy\"),\n",
    "                                \"time\": np.load(dir_path + \"time.npy\")})\n",
    "    \n",
    "    start = min(data[\"time\"])\n",
    "    end = max(data[\"time\"])\n",
    "    \n",
    "    if time_range:\n",
    "        start = time_range[0]\n",
    "        end = time_range[1]\n",
    "    \n",
    "    \n",
    "    data = data[(data[\"time\"] > start) & (data[\"time\"] < end)]\n",
    "   \n",
    "    %reset -f in\n",
    "    \n",
    "    return data[sensor]\n",
    "\n",
    "def load_time_label(dir_path, time_range, window = 2000, step = 10):\n",
    "    \n",
    "    time_label =  np.load(dir_path + \"time.npy\")\n",
    "    \n",
    "    start = min(time_label)\n",
    "    end = max(time_label)\n",
    "    \n",
    "    if time_range:\n",
    "        start = time_range[0]\n",
    "        end = time_range[1]\n",
    "    \n",
    "    \n",
    "    time_label = time_label[(time_label > start) & (time_label < end)][window-1::step]\n",
    "    \n",
    "    %reset -f in\n",
    "    \n",
    "    return time_label\n",
    "\n",
    "#### Mean of abs(signal)\n",
    "def generate_mean_data(dir_path, time_range, window = 2000, step = 10):\n",
    "    #Load the data\n",
    "    ai0 = load_sensor(dir_path, \"ai0\", time_range = time_range).abs().rolling(window=window).mean().to_numpy()[window-1::step]\n",
    "    ai1 = load_sensor(dir_path, \"ai1\", time_range = time_range).abs().rolling(window=window).mean().to_numpy()[window-1::step]\n",
    "    ai2 = load_sensor(dir_path, \"ai2\", time_range = time_range).abs().rolling(window=window).mean().to_numpy()[window-1::step]\n",
    "    ai3 = load_sensor(dir_path, \"ai3\", time_range = time_range).abs().rolling(window=window).mean().to_numpy()[window-1::step]\n",
    "    ai4 = load_sensor(dir_path, \"ai4\", time_range = time_range).abs().rolling(window=window).mean().to_numpy()[window-1::step]\n",
    "    \n",
    "    #Calculate the product\n",
    "    product = ai0*ai1*ai2*ai3*ai4\n",
    "    \n",
    "    #Stack them together\n",
    "    all_mean = np.vstack((ai0,ai1,ai2,ai3,ai4, product)).transpose()\n",
    "    \n",
    "    %reset -f in\n",
    "    \n",
    "    return all_mean\n",
    "\n",
    "#### SD of signal\n",
    "def generate_sd_data(dir_path, time_range, window = 2000, step = 10):\n",
    "    #Load the data\n",
    "    ai0 = load_sensor(dir_path, \"ai0\", time_range = time_range).rolling(window=window).std().to_numpy()[window-1::step]\n",
    "    ai1 = load_sensor(dir_path, \"ai1\", time_range = time_range).rolling(window=window).std().to_numpy()[window-1::step]\n",
    "    ai2 = load_sensor(dir_path, \"ai2\", time_range = time_range).rolling(window=window).std().to_numpy()[window-1::step]\n",
    "    ai3 = load_sensor(dir_path, \"ai3\", time_range = time_range).rolling(window=window).std().to_numpy()[window-1::step]\n",
    "    ai4 = load_sensor(dir_path, \"ai4\", time_range = time_range).rolling(window=window).std().to_numpy()[window-1::step]\n",
    "    \n",
    "    #Calculate the product\n",
    "    product = ai0*ai1*ai2*ai3*ai4\n",
    "    \n",
    "    #Stack them together\n",
    "    all_sd = np.vstack((ai0,ai1,ai2,ai3,ai4, product)).transpose()\n",
    "    \n",
    "    %reset -f in\n",
    "    \n",
    "    return all_sd\n",
    "\n",
    "#### Thresholded zero crossings\n",
    "def zero_crossings(array):\n",
    "    \n",
    "    #Set values outside of range (0.001, 0.1) = 0\n",
    "    array[abs(array) > 0.1] = 0\n",
    "    array[abs(array) < 0.005] = 0\n",
    "    \n",
    "    #Calculate number of zero-crossing points, normalized by the window size\n",
    "    zero_crossings = ((array[:-1] * array[1:]) < 0).sum()/array.size\n",
    "    \n",
    "    return zero_crossings\n",
    "\n",
    "\n",
    "def generate_crossings_data(dir_path, time_range = None, window = 5000, step = 10):\n",
    "    \n",
    "    #Load the data\n",
    "    ai0 = load_sensor(dir_path, \"ai0\", time_range = time_range).rolling(window=window).apply(zero_crossings, raw = True).to_numpy()[window-1::step]\n",
    "    ai1 = load_sensor(dir_path, \"ai1\", time_range = time_range).rolling(window=window).apply(zero_crossings, raw = True).to_numpy()[window-1::step]\n",
    "    ai2 = load_sensor(dir_path, \"ai2\", time_range = time_range).rolling(window=window).apply(zero_crossings, raw = True).to_numpy()[window-1::step]\n",
    "    ai3 = load_sensor(dir_path, \"ai3\", time_range = time_range).rolling(window=window).apply(zero_crossings, raw = True).to_numpy()[window-1::step]\n",
    "    ai4 = load_sensor(dir_path, \"ai4\", time_range = time_range).rolling(window=window).apply(zero_crossings, raw = True).to_numpy()[window-1::step]\n",
    "    \n",
    "    product = ai0*ai1*ai2*ai3*ai4\n",
    "    \n",
    "    #Stack them together\n",
    "    all_crossings = np.vstack((ai0,ai1,ai2,ai3,ai4, product)).transpose()\n",
    "    \n",
    "    %reset -f in\n",
    "    \n",
    "    return all_crossings\n",
    "\n",
    "\n",
    "def generate_data(dir_path, time_range, window = 2000, thres_win = 25000, step = 10):\n",
    "    \n",
    "    #Selection index due to using different window\n",
    "    selection_index = int((thres_win - window)/step)\n",
    "    \n",
    "    moving_mean = generate_mean_data(dir_path, time_range, window = window, step = step)[selection_index:]\n",
    "    moving_sd = generate_sd_data(dir_path, time_range, window = window, step = step)[selection_index:]\n",
    "    #moving_thres_crossings = generate_crossings_data(dir_path, time_range, window = thres_win, step = step)\n",
    "    time_label = load_time_label(dir_path, time_range, window = window, step = step)[selection_index:]\n",
    "    \n",
    "    all_data = np.concatenate((moving_mean, moving_sd), axis = 1)\n",
    "    \n",
    "    %reset -f in\n",
    "    \n",
    "    return all_data, time_label\n",
    "\n",
    "#####-------INCREMENTAL LEARNING IMPLEMENTATION-------######\n",
    "\n",
    "def create_model():\n",
    "    \n",
    "    #================BUILD THE MODEL====================\n",
    "    # Simple model\n",
    "    model = models.Sequential()\n",
    "\n",
    "    model.add(Dense(6, activation = 'elu', kernel_initializer='glorot_uniform',\n",
    "                    kernel_regularizer=regularizers.l2(0.0),\n",
    "                    input_dim=12))\n",
    "\n",
    "    model.add(Dense(3,activation='elu',\n",
    "                    kernel_initializer='glorot_uniform'))\n",
    "\n",
    "    model.add(Dense(6,activation='elu',\n",
    "                    kernel_initializer='glorot_uniform'))\n",
    "\n",
    "    model.add(Dense(12,\n",
    "                    kernel_initializer='glorot_uniform'))\n",
    "\n",
    "    model.compile(loss='mse',optimizer='adam')\n",
    "\n",
    "    return model\n",
    "\n",
    "def update_dist(prev_dist, dist):\n",
    "    \"\"\"Return updated mean and standard deviation when combining two distributions. Assuming that the \n",
    "    two distributions have the same population\"\"\"\n",
    "    from math import sqrt\n",
    "    \n",
    "    if not prev_dist:\n",
    "        return dist\n",
    "    \n",
    "    mu1 = prev_dist[0]\n",
    "    s1 = prev_dist[1]\n",
    "    n1 = prev_dist[2]\n",
    "    \n",
    "    mu2 = dist[0]\n",
    "    s2 = dist[1]\n",
    "    n2 = dist[2]\n",
    "    \n",
    "    mu = (mu1*n1+mu2*n2)/(n1 + n2)\n",
    "    \n",
    "    Ex_2 = ((mu1**2 + s1**2)*n1 + (mu2**2 + s2**2)*n2)/(n1 + n2)\n",
    "    \n",
    "    s = sqrt(Ex_2 - mu**2)\n",
    "    \n",
    "    return (mu, s, n1 + n2)\n",
    "    \n",
    "\n",
    "def train(current_weights, X, time_axis, time_range, prev_dist):\n",
    "    \"\"\"Take a model, train it in the appropritate time range, return the new weights\n",
    "    and its reconstruction loss distribution\"\"\"\n",
    "    \n",
    "    print(\"Training for section: \", time_range)\n",
    "    #Select the appropriate time\n",
    "    start_index = None\n",
    "    \n",
    "    if time_range[0] is not None:\n",
    "        start_index = np.argmax(time_axis > time_range[0])\n",
    "    else:\n",
    "        start_index = 0\n",
    "    \n",
    "    end_index = np.argmax(time_axis > time_range[1])\n",
    "    \n",
    "    X_train = X[start_index:end_index]\n",
    "    \n",
    "    #Create model\n",
    "    model = create_model()\n",
    "    \n",
    "    if current_weights:\n",
    "        model.set_weights(current_weights)\n",
    "    \n",
    "    #Train the model and extract new weights\n",
    "    model.fit(X_train, X_train,\n",
    "              batch_size=2000,\n",
    "              epochs=20, verbose = 0)\n",
    "    \n",
    "    new_weights = model.get_weights()\n",
    "    \n",
    "    #Evaluate the losses and update the distribution\n",
    "    X_pred = model.predict(X_train)\n",
    "    loss = np.mean(np.abs(X_pred-X_train), axis = 1)\n",
    "    \n",
    "    loss_dist = (np.mean(loss), np.std(loss), X_train.size)\n",
    "    \n",
    "    dist = update_dist(prev_dist, loss_dist)\n",
    "    \n",
    "    return new_weights, dist\n",
    "\n",
    "def trigger(current_weights, X, time_axis, time_range, prev_dist):\n",
    "    \n",
    "    print(\"Triggering for section: \", time_range)\n",
    "    print(\"Using distribution:\", prev_dist)\n",
    "    #Select the appropriate time\n",
    "    start_index = None\n",
    "    \n",
    "    if time_range[0] is not None:\n",
    "        start_index = np.argmax(time_axis > time_range[0])\n",
    "    else:\n",
    "        start_index = 0\n",
    "    \n",
    "    if time_range[1] == 0:\n",
    "        end_index = None\n",
    "    else:\n",
    "        end_index = np.argmax(time_axis > time_range[1])\n",
    "    \n",
    "    print(\"Trigger start index: \", start_index)\n",
    "    print(\"Trigger end index: \", end_index)\n",
    "    \n",
    "    X_test = X[start_index:end_index]\n",
    "    time_test = time_axis[start_index:end_index]\n",
    "    #Create model\n",
    "    model = create_model()\n",
    "    \n",
    "    if current_weights:\n",
    "        model.set_weights(current_weights)\n",
    "    \n",
    "    #Find the test loss (doing this in parallel for the sake of simulation), but in a practical system\n",
    "    #Ideally we need to do inference every single data point come in\n",
    "    X_pred_test = model.predict(X_test)\n",
    "    test_loss = np.mean(np.abs(X_pred_test-X_test), axis = 1)\n",
    "    \n",
    "    #Quantify how much each data point is far away from the distribution\n",
    "    sd_test_loss = (test_loss-prev_dist[0])/prev_dist[1] #prev_dist = (mean, sds) \n",
    "    \n",
    "    #Find the trigger time\n",
    "    trigger_index = np.argmax(sd_test_loss > 100)\n",
    "    \n",
    "    if  trigger_index != 0: \n",
    "        return time_test[trigger_index]\n",
    "    else:\n",
    "        return None\n",
    "    \n",
    "    return trigger_time\n",
    "    \n",
    "\n",
    "def simulation(dir_path, section_size, time_range):\n",
    "    \n",
    "    #Load data and create the model\n",
    "    X, time_axis = generate_data(dir_path, time_range = time_range, window = 2000, step = 10)\n",
    "    \n",
    "    #For updating model\n",
    "    current_weights = None\n",
    "    new_weights = None\n",
    "    \n",
    "    #For keeping track of distribution history\n",
    "    prev_dist = None\n",
    "    dist = None\n",
    "    \n",
    "    #Create a model\n",
    "    model = create_model()\n",
    "    \n",
    "    #Calculate number of sections\n",
    "    num_section = int(abs(time_range[0])/section_size)\n",
    "    print(\"Number of sections:\", num_section)\n",
    "    \n",
    "    #Sequentially go through the data\n",
    "    for i in range(num_section):\n",
    "        \n",
    "        print(\"Entering sections: \", (-section_size*(num_section - i), -section_size*(num_section - i - 1)))\n",
    "        \n",
    "        if i == 0:\n",
    "            continue\n",
    "        elif i == 1:\n",
    "            #Train on the first segment\n",
    "            time_range = (None, -section_size*(num_section - i))\n",
    "            new_weights, dist = train(current_weights, X, time_axis, time_range, prev_dist)\n",
    "        else:\n",
    "            #Set the model to newly trained model\n",
    "            model.set_weights(new_weights)\n",
    "            \n",
    "            #Set previous distrubution to the newly trained disttribution\n",
    "            prev_dist = dist\n",
    "            \n",
    "            #Selecting appropriate time range for training and triggering\n",
    "            train_time_range = (-section_size*(num_section - i + 1), -section_size*(num_section - i))\n",
    "            trigger_time_range = (-section_size*(num_section - i), -section_size*(num_section - i - 1))\n",
    "            \n",
    "            #Train and predict simutaneously\n",
    "            new_weights, dist = train(current_weights, X, time_axis, train_time_range, prev_dist)\n",
    "            trigger_time = trigger(current_weights, X, time_axis, trigger_time_range, prev_dist)\n",
    "            \n",
    "            if trigger_time:\n",
    "                print(\"Triggered at: \", trigger_time)\n",
    "                return trigger_time\n",
    "                "
   ]
  },
  {
   "cell_type": "code",
   "execution_count": 13,
   "metadata": {
    "collapsed": true
   },
   "outputs": [
    {
     "name": "stdout",
     "output_type": "stream",
     "text": [
      "Flushing input history\n",
      "Flushing input history\n",
      "Flushing input history\n",
      "Flushing input history\n",
      "Flushing input history\n",
      "Flushing input history\n",
      "Flushing input history\n",
      "Flushing input history\n",
      "Flushing input history\n",
      "Flushing input history\n",
      "Flushing input history\n",
      "Flushing input history\n",
      "Flushing input history\n",
      "Flushing input history\n",
      "Number of sections: 5\n",
      "Entering sections:  (-25, -20)\n",
      "Entering sections:  (-20, -15)\n",
      "Training for section:  (None, -20)\n",
      "Start index:  0\n",
      "End index:  47501\n",
      "Entering sections:  (-15, -10)\n",
      "Training for section:  (-20, -15)\n",
      "Start index:  47501\n",
      "End index:  97501\n",
      "Triggering for section:  (-15, -10)\n",
      "Entering sections:  (-10, -5)\n",
      "Training for section:  (-15, -10)\n",
      "Start index:  97501\n",
      "End index:  147501\n",
      "Triggering for section:  (-10, -5)\n",
      "Triggered at:  -9.4435\n"
     ]
    },
    {
     "data": {
      "text/plain": [
       "-9.4435"
      ]
     },
     "execution_count": 13,
     "metadata": {},
     "output_type": "execute_result"
    }
   ],
   "source": [
    "simulation(\"./data/Ramp22/\", 5, (-25,0))"
   ]
  },
  {
   "cell_type": "code",
   "execution_count": 16,
   "metadata": {
    "collapsed": true
   },
   "outputs": [
    {
     "name": "stdout",
     "output_type": "stream",
     "text": [
      "Flushing input history\n",
      "Flushing input history\n",
      "Flushing input history\n",
      "Flushing input history\n",
      "Flushing input history\n",
      "Flushing input history\n",
      "Flushing input history\n",
      "Flushing input history\n",
      "Flushing input history\n",
      "Flushing input history\n",
      "Flushing input history\n",
      "Flushing input history\n",
      "Flushing input history\n",
      "Flushing input history\n",
      "Number of sections: 5\n",
      "Entering sections:  (-25, -20)\n",
      "Entering sections:  (-20, -15)\n",
      "Training for section:  (None, -20)\n",
      "Start index:  0\n",
      "End index:  47501\n",
      "Entering sections:  (-15, -10)\n",
      "Training for section:  (-20, -15)\n",
      "Start index:  47501\n",
      "End index:  97501\n",
      "Triggering for section:  (-15, -10)\n",
      "Using distribution: (0.0006072979388297666, 0.0004844603091931605)\n",
      "Entering sections:  (-10, -5)\n",
      "Training for section:  (-15, -10)\n",
      "Start index:  97501\n",
      "End index:  147501\n",
      "Triggering for section:  (-10, -5)\n",
      "Using distribution: (0.0005465077576209433, 0.0004546977345307103)\n",
      "Triggered at:  -9.8104\n"
     ]
    },
    {
     "data": {
      "text/plain": [
       "-9.8104"
      ]
     },
     "execution_count": 16,
     "metadata": {},
     "output_type": "execute_result"
    }
   ],
   "source": [
    "simulation(\"./data/Ramp22/\", 5, (-25,0))"
   ]
  },
  {
   "cell_type": "code",
   "execution_count": 19,
   "metadata": {
    "collapsed": true
   },
   "outputs": [
    {
     "name": "stdout",
     "output_type": "stream",
     "text": [
      "Flushing input history\n",
      "Flushing input history\n",
      "Flushing input history\n",
      "Flushing input history\n",
      "Flushing input history\n",
      "Flushing input history\n",
      "Flushing input history\n",
      "Flushing input history\n",
      "Flushing input history\n",
      "Flushing input history\n",
      "Flushing input history\n",
      "Flushing input history\n",
      "Flushing input history\n",
      "Flushing input history\n",
      "Number of sections: 5\n",
      "Entering sections:  (-25, -20)\n",
      "Entering sections:  (-20, -15)\n",
      "Training for section:  (None, -20)\n",
      "Entering sections:  (-15, -10)\n",
      "Training for section:  (-20, -15)\n",
      "Triggering for section:  (-15, -10)\n",
      "Using distribution: (0.0005481045051627814, 0.0004263163962259143, 570012)\n",
      "Entering sections:  (-10, -5)\n",
      "Training for section:  (-15, -10)\n",
      "Triggering for section:  (-10, -5)\n",
      "Using distribution: (0.0005541357453353145, 0.0004775277222085754, 1170012)\n",
      "Triggered at:  -8.5056\n"
     ]
    },
    {
     "data": {
      "text/plain": [
       "-8.5056"
      ]
     },
     "execution_count": 19,
     "metadata": {},
     "output_type": "execute_result"
    }
   ],
   "source": [
    "simulation(\"./data/Ramp22/\", 5, (-25,0))"
   ]
  },
  {
   "cell_type": "code",
   "execution_count": 102,
   "metadata": {},
   "outputs": [
    {
     "name": "stdout",
     "output_type": "stream",
     "text": [
      "Flushing input history\n",
      "Flushing input history\n",
      "Flushing input history\n",
      "Flushing input history\n",
      "Flushing input history\n",
      "Flushing input history\n",
      "Flushing input history\n",
      "Flushing input history\n",
      "Flushing input history\n",
      "Flushing input history\n",
      "Flushing input history\n",
      "Flushing input history\n",
      "Flushing input history\n",
      "Flushing input history\n",
      "Number of sections: 5\n",
      "Entering sections:  (-25, -20)\n",
      "Entering sections:  (-20, -15)\n",
      "Training for section:  (None, -20)\n",
      "Entering sections:  (-15, -10)\n",
      "Training for section:  (-20, -15)\n",
      "Triggering for section:  (-15, -10)\n",
      "Using distribution: (0.0005409627012303741, 0.0004095826407791596, 570012)\n",
      "Trigger start index:  97501\n",
      "Trigger end index:  147501\n",
      "Entering sections:  (-10, -5)\n",
      "Training for section:  (-15, -10)\n",
      "Triggering for section:  (-10, -5)\n",
      "Using distribution: (0.0004903758117451143, 0.00039945520282169136, 1170012)\n",
      "Trigger start index:  147501\n",
      "Trigger end index:  197501\n",
      "Entering sections:  (-5, 0)\n",
      "Training for section:  (-10, -5)\n",
      "Triggering for section:  (-5, 0)\n",
      "Using distribution: (0.0005252022841517402, 0.00041036989436200633, 1770012)\n",
      "Trigger start index:  197501\n",
      "Trigger end index:  None\n",
      "Triggered at:  -0.0142\n"
     ]
    },
    {
     "data": {
      "text/plain": [
       "-0.0142"
      ]
     },
     "execution_count": 102,
     "metadata": {},
     "output_type": "execute_result"
    }
   ],
   "source": [
    "simulation(\"./data/Ramp22/\", 5, (-25,0))"
   ]
  },
  {
   "cell_type": "code",
   "execution_count": 5,
   "metadata": {
    "collapsed": true
   },
   "outputs": [
    {
     "name": "stdout",
     "output_type": "stream",
     "text": [
      "Flushing input history\n",
      "Flushing input history\n",
      "Flushing input history\n",
      "Flushing input history\n",
      "Flushing input history\n",
      "Flushing input history\n",
      "Flushing input history\n",
      "Flushing input history\n",
      "Flushing input history\n",
      "Flushing input history\n",
      "Flushing input history\n",
      "Flushing input history\n",
      "Flushing input history\n",
      "Flushing input history\n",
      "Number of sections: 5\n",
      "Entering sections:  (-25, -20)\n",
      "Entering sections:  (-20, -15)\n",
      "Training for section:  (None, -20)\n",
      "Entering sections:  (-15, -10)\n",
      "Training for section:  (-20, -15)\n",
      "Triggering for section:  (-15, -10)\n",
      "Using distribution: (0.000607107741421697, 0.0004535388670472368, 570012)\n",
      "Entering sections:  (-10, -5)\n",
      "Training for section:  (-15, -10)\n",
      "Triggering for section:  (-10, -5)\n",
      "Using distribution: (0.0005312416873722008, 0.0004245339191629945, 1170012)\n",
      "Triggered at:  -8.135099\n"
     ]
    },
    {
     "data": {
      "text/plain": [
       "-8.135099"
      ]
     },
     "execution_count": 5,
     "metadata": {},
     "output_type": "execute_result"
    }
   ],
   "source": [
    "simulation(\"./data/Ramp22/\", 5, (-25,0))"
   ]
  },
  {
   "cell_type": "markdown",
   "metadata": {},
   "source": [
    "## Just need to use the loss distribution of the most recent model"
   ]
  },
  {
   "cell_type": "code",
   "execution_count": 3,
   "metadata": {},
   "outputs": [],
   "source": [
    "def load_sensor(dir_path, sensor, time_range = None):\n",
    "    \n",
    "    data = pd.DataFrame(data = {sensor: np.load(dir_path + sensor + \".npy\"),\n",
    "                                \"time\": np.load(dir_path + \"time.npy\")})\n",
    "    \n",
    "    start = min(data[\"time\"])\n",
    "    end = max(data[\"time\"])\n",
    "    \n",
    "    if time_range:\n",
    "        start = time_range[0]\n",
    "        end = time_range[1]\n",
    "    \n",
    "    \n",
    "    data = data[(data[\"time\"] > start) & (data[\"time\"] < end)]\n",
    "   \n",
    "    %reset -f in\n",
    "    \n",
    "    return data[sensor]\n",
    "\n",
    "def load_time_label(dir_path, time_range, window = 2000, step = 10):\n",
    "    \n",
    "    time_label =  np.load(dir_path + \"time.npy\")\n",
    "    \n",
    "    start = min(time_label)\n",
    "    end = max(time_label)\n",
    "    \n",
    "    if time_range:\n",
    "        start = time_range[0]\n",
    "        end = time_range[1]\n",
    "    \n",
    "    \n",
    "    time_label = time_label[(time_label > start) & (time_label < end)][window-1::step]\n",
    "    \n",
    "    %reset -f in\n",
    "    \n",
    "    return time_label\n",
    "\n",
    "#### Mean of abs(signal)\n",
    "def generate_mean_data(dir_path, time_range, window = 2000, step = 10):\n",
    "    #Load the data\n",
    "    ai0 = load_sensor(dir_path, \"ai0\", time_range = time_range).abs().rolling(window=window).mean().to_numpy()[window-1::step]\n",
    "    ai1 = load_sensor(dir_path, \"ai1\", time_range = time_range).abs().rolling(window=window).mean().to_numpy()[window-1::step]\n",
    "    ai2 = load_sensor(dir_path, \"ai2\", time_range = time_range).abs().rolling(window=window).mean().to_numpy()[window-1::step]\n",
    "    ai3 = load_sensor(dir_path, \"ai3\", time_range = time_range).abs().rolling(window=window).mean().to_numpy()[window-1::step]\n",
    "    ai4 = load_sensor(dir_path, \"ai4\", time_range = time_range).abs().rolling(window=window).mean().to_numpy()[window-1::step]\n",
    "    \n",
    "    #Calculate the product\n",
    "    product = ai0*ai1*ai2*ai3*ai4\n",
    "    \n",
    "    #Stack them together\n",
    "    all_mean = np.vstack((ai0,ai1,ai2,ai3,ai4, product)).transpose()\n",
    "    \n",
    "    %reset -f in\n",
    "    \n",
    "    return all_mean\n",
    "\n",
    "#### SD of signal\n",
    "def generate_sd_data(dir_path, time_range, window = 2000, step = 10):\n",
    "    #Load the data\n",
    "    ai0 = load_sensor(dir_path, \"ai0\", time_range = time_range).rolling(window=window).std().to_numpy()[window-1::step]\n",
    "    ai1 = load_sensor(dir_path, \"ai1\", time_range = time_range).rolling(window=window).std().to_numpy()[window-1::step]\n",
    "    ai2 = load_sensor(dir_path, \"ai2\", time_range = time_range).rolling(window=window).std().to_numpy()[window-1::step]\n",
    "    ai3 = load_sensor(dir_path, \"ai3\", time_range = time_range).rolling(window=window).std().to_numpy()[window-1::step]\n",
    "    ai4 = load_sensor(dir_path, \"ai4\", time_range = time_range).rolling(window=window).std().to_numpy()[window-1::step]\n",
    "    \n",
    "    #Calculate the product\n",
    "    product = ai0*ai1*ai2*ai3*ai4\n",
    "    \n",
    "    #Stack them together\n",
    "    all_sd = np.vstack((ai0,ai1,ai2,ai3,ai4, product)).transpose()\n",
    "    \n",
    "    %reset -f in\n",
    "    \n",
    "    return all_sd\n",
    "\n",
    "#### Thresholded zero crossings\n",
    "def zero_crossings(array):\n",
    "    \n",
    "    #Set values outside of range (0.001, 0.1) = 0\n",
    "    array[abs(array) > 0.1] = 0\n",
    "    array[abs(array) < 0.005] = 0\n",
    "    \n",
    "    #Calculate number of zero-crossing points, normalized by the window size\n",
    "    zero_crossings = ((array[:-1] * array[1:]) < 0).sum()/array.size\n",
    "    \n",
    "    return zero_crossings\n",
    "\n",
    "\n",
    "def generate_crossings_data(dir_path, time_range = None, window = 5000, step = 10):\n",
    "    \n",
    "    #Load the data\n",
    "    ai0 = load_sensor(dir_path, \"ai0\", time_range = time_range).rolling(window=window).apply(zero_crossings, raw = True).to_numpy()[window-1::step]\n",
    "    ai1 = load_sensor(dir_path, \"ai1\", time_range = time_range).rolling(window=window).apply(zero_crossings, raw = True).to_numpy()[window-1::step]\n",
    "    ai2 = load_sensor(dir_path, \"ai2\", time_range = time_range).rolling(window=window).apply(zero_crossings, raw = True).to_numpy()[window-1::step]\n",
    "    ai3 = load_sensor(dir_path, \"ai3\", time_range = time_range).rolling(window=window).apply(zero_crossings, raw = True).to_numpy()[window-1::step]\n",
    "    ai4 = load_sensor(dir_path, \"ai4\", time_range = time_range).rolling(window=window).apply(zero_crossings, raw = True).to_numpy()[window-1::step]\n",
    "    \n",
    "    product = ai0*ai1*ai2*ai3*ai4\n",
    "    \n",
    "    #Stack them together\n",
    "    all_crossings = np.vstack((ai0,ai1,ai2,ai3,ai4, product)).transpose()\n",
    "    \n",
    "    %reset -f in\n",
    "    \n",
    "    return all_crossings\n",
    "\n",
    "\n",
    "def generate_data(dir_path, time_range, window = 2000, thres_win = 25000, step = 10):\n",
    "    \n",
    "    #Selection index due to using different window\n",
    "    selection_index = int((thres_win - window)/step)\n",
    "    \n",
    "    moving_mean = generate_mean_data(dir_path, time_range, window = window, step = step)[selection_index:]\n",
    "    moving_sd = generate_sd_data(dir_path, time_range, window = window, step = step)[selection_index:]\n",
    "    #moving_thres_crossings = generate_crossings_data(dir_path, time_range, window = thres_win, step = step)\n",
    "    time_label = load_time_label(dir_path, time_range, window = window, step = step)[selection_index:]\n",
    "    \n",
    "    all_data = np.concatenate((moving_mean, moving_sd), axis = 1)\n",
    "    \n",
    "    %reset -f in\n",
    "    \n",
    "    return all_data, time_label\n",
    "\n",
    "#####-------INCREMENTAL LEARNING IMPLEMENTATION-------######\n",
    "\n",
    "def create_model():\n",
    "    \n",
    "    #================BUILD THE MODEL====================\n",
    "    # Simple model\n",
    "    model = models.Sequential()\n",
    "\n",
    "    model.add(Dense(6, activation = 'elu', kernel_initializer='glorot_uniform',\n",
    "                    kernel_regularizer=regularizers.l2(0.0),\n",
    "                    input_dim=12))\n",
    "\n",
    "    model.add(Dense(3,activation='elu',\n",
    "                    kernel_initializer='glorot_uniform'))\n",
    "\n",
    "    model.add(Dense(6,activation='elu',\n",
    "                    kernel_initializer='glorot_uniform'))\n",
    "\n",
    "    model.add(Dense(12,\n",
    "                    kernel_initializer='glorot_uniform'))\n",
    "\n",
    "    model.compile(loss='mse',optimizer='adam')\n",
    "\n",
    "    return model\n",
    "\n",
    "def train(current_weights, X, time_axis, time_range, prev_dist):\n",
    "    \"\"\"Take a model, train it in the appropritate time range, return the new weights\n",
    "    and its reconstruction loss distribution\"\"\"\n",
    "    \n",
    "    print(\"Training for section: \", time_range)\n",
    "    #Select the appropriate time\n",
    "    start_index = None\n",
    "    \n",
    "    if time_range[0] is not None:\n",
    "        start_index = np.argmax(time_axis > time_range[0])\n",
    "    else:\n",
    "        start_index = 0\n",
    "    \n",
    "    end_index = np.argmax(time_axis > time_range[1])\n",
    "    \n",
    "    X_train = X[start_index:end_index]\n",
    "    \n",
    "    #Create model\n",
    "    model = create_model()\n",
    "    \n",
    "    if current_weights:\n",
    "        model.set_weights(current_weights)\n",
    "        \n",
    "    scaler = MinMaxScaler()\n",
    "\n",
    "    scaler.fit(X_train)\n",
    "\n",
    "    X_train = scaler.transform(X_train)\n",
    "    \n",
    "    #Train the model and extract new weights\n",
    "    model.fit(X_train, X_train,\n",
    "              batch_size=2000,\n",
    "              epochs=20, verbose = 0)\n",
    "    \n",
    "    new_weights = model.get_weights()\n",
    "    \n",
    "    #Evaluate the losses and update the distribution\n",
    "    X_pred = model.predict(X_train)\n",
    "    loss = np.mean(np.abs(X_pred-X_train), axis = 1)\n",
    "    \n",
    "    dist = (np.mean(loss), np.std(loss))\n",
    "    \n",
    "    print(\"Finished training, distribution of the loss is: \", dist)\n",
    "    \n",
    "    return new_weights, dist, scaler\n",
    "\n",
    "def trigger(current_weights, X, time_axis, time_range, prev_dist, scaler):\n",
    "    \n",
    "    print(\"Triggering for section: \", time_range)\n",
    "    print(\"Using this distribution for trigger:\", prev_dist)\n",
    "    \n",
    "    #Select the appropriate time\n",
    "    start_index = None\n",
    "    \n",
    "    if time_range[0] is not None:\n",
    "        start_index = np.argmax(time_axis > time_range[0])\n",
    "    else:\n",
    "        start_index = 0\n",
    "    \n",
    "    end_index = np.argmax(time_axis > time_range[1])\n",
    "    \n",
    "    X_test = X[start_index:end_index]\n",
    "    X_test = scaler.transform(X_test) #Scaler the current data\n",
    "    \n",
    "    time_test = time_axis[start_index:end_index]\n",
    "    \n",
    "    #Create model\n",
    "    model = create_model()\n",
    "    \n",
    "    if current_weights:\n",
    "        model.set_weights(current_weights)\n",
    "    \n",
    "    #Find the test loss (doing this in parallel for the sake of simulation), but in a practical system\n",
    "    #Ideally we need to do inference every single data point come in\n",
    "    X_pred_test = model.predict(X_test)\n",
    "    test_loss = np.mean(np.abs(X_pred_test-X_test), axis = 1)\n",
    "    \n",
    "    #Plot the reconstruction loss just to check\n",
    "    plt.figure(figsize=(20,2))\n",
    "    plt.plot(time_test, test_loss)\n",
    "    plt.title(\"Reconstruction loss on {}\".format(time_range))\n",
    "    plt.xlabel(\"Time [s]\")\n",
    "    plt.show()\n",
    "    \n",
    "    #Quantify how much each data point is far away from the distribution\n",
    "    sd_test_loss = (test_loss-prev_dist[0])/prev_dist[1] #prev_dist = (mean, sds) \n",
    "    \n",
    "    #Find the trigger time\n",
    "    trigger_index = np.argmax(sd_test_loss > 10)\n",
    "    \n",
    "    if  trigger_index != 0: \n",
    "        return time_test[trigger_index]\n",
    "    else:\n",
    "        return None\n",
    "    \n",
    "    return trigger_time\n",
    "    \n",
    "\n",
    "def simulation(dir_path, section_size, time_range):\n",
    "    \n",
    "    #Load data and create the model\n",
    "    X, time_axis = generate_data(dir_path, time_range = time_range, window = 2000, step = 10)\n",
    "    \n",
    "    #For updating model\n",
    "    current_weights = None\n",
    "    new_weights = None\n",
    "    \n",
    "    #For keeping track of distribution history\n",
    "    prev_dist = None\n",
    "    dist = None\n",
    "    \n",
    "    #Keeping track of scaler after training\n",
    "    past_scaler = None\n",
    "    \n",
    "    #Create a model\n",
    "    model = create_model()\n",
    "    \n",
    "    #Calculate number of sections\n",
    "    num_section = int(abs(time_range[0])/section_size)\n",
    "    print(\"Number of sections:\", num_section)\n",
    "    \n",
    "    #Sequentially go through the data\n",
    "    for i in range(num_section):\n",
    "        \n",
    "        print(\"Entering sections: \", (-section_size*(num_section - i), -section_size*(num_section - i - 1)))\n",
    "        print(\"-------->\")\n",
    "        \n",
    "        if i == 0:\n",
    "            continue\n",
    "        elif i == 1:\n",
    "            #Train on the first segment\n",
    "            time_range = (None, -section_size*(num_section - i))\n",
    "            new_weights, dist, past_scaler = train(current_weights, X, time_axis, time_range, prev_dist)\n",
    "        else:\n",
    "            #Set the model to newly trained model\n",
    "            model.set_weights(new_weights)\n",
    "            \n",
    "            #Set previous distrubution to the newly trained disttribution\n",
    "            prev_dist = dist\n",
    "            scaler = past_scaler #Set the scaler as well\n",
    "            \n",
    "            #Selecting appropriate time range for training and triggering\n",
    "            train_time_range = (-section_size*(num_section - i + 1), -section_size*(num_section - i))\n",
    "            trigger_time_range = (-section_size*(num_section - i), -section_size*(num_section - i - 1))\n",
    "            \n",
    "            #Train and predict simutaneously\n",
    "            new_weights, dist, past_scaler = train(current_weights, X, time_axis, train_time_range, prev_dist)\n",
    "            trigger_time = trigger(current_weights, X, time_axis, trigger_time_range, prev_dist, scaler)\n",
    "            \n",
    "            if trigger_time:\n",
    "                print(\"Triggered at: \", trigger_time)\n",
    "                return trigger_time\n",
    "        \n",
    "        print(\"<--------\")"
   ]
  },
  {
   "cell_type": "code",
   "execution_count": 94,
   "metadata": {
    "collapsed": true
   },
   "outputs": [
    {
     "name": "stdout",
     "output_type": "stream",
     "text": [
      "Flushing input history\n",
      "Flushing input history\n",
      "Flushing input history\n",
      "Flushing input history\n",
      "Flushing input history\n",
      "Flushing input history\n",
      "Flushing input history\n",
      "Flushing input history\n",
      "Flushing input history\n",
      "Flushing input history\n",
      "Flushing input history\n",
      "Flushing input history\n",
      "Flushing input history\n",
      "Flushing input history\n",
      "Number of sections: 5\n",
      "Entering sections:  (-25, -20)\n",
      "-------->\n",
      "Entering sections:  (-20, -15)\n",
      "-------->\n",
      "Training for section:  (None, -20)\n",
      "Finished training, distribution of the loss is:  (0.036730391908698624, 0.025118730322240712)\n",
      "<--------\n",
      "Entering sections:  (-15, -10)\n",
      "-------->\n",
      "Training for section:  (-20, -15)\n",
      "Finished training, distribution of the loss is:  (0.020968066464194628, 0.015822621358300162)\n",
      "Triggering for section:  (-15, -10)\n",
      "Using this distribution for trigger: (0.036730391908698624, 0.025118730322240712)\n"
     ]
    },
    {
     "data": {
      "image/png": "[encoded data removed]",
      "text/plain": [
       "<Figure size 1440x144 with 1 Axes>"
      ]
     },
     "metadata": {
      "needs_background": "light"
     },
     "output_type": "display_data"
    },
    {
     "name": "stdout",
     "output_type": "stream",
     "text": [
      "<--------\n",
      "Entering sections:  (-10, -5)\n",
      "-------->\n",
      "Training for section:  (-15, -10)\n",
      "Finished training, distribution of the loss is:  (0.04199534141794644, 0.029786448502196538)\n",
      "Triggering for section:  (-10, -5)\n",
      "Using this distribution for trigger: (0.020968066464194628, 0.015822621358300162)\n"
     ]
    },
    {
     "data": {
      "image/png": "[encoded data removed]",
      "text/plain": [
       "<Figure size 1440x144 with 1 Axes>"
      ]
     },
     "metadata": {
      "needs_background": "light"
     },
     "output_type": "display_data"
    },
    {
     "name": "stdout",
     "output_type": "stream",
     "text": [
      "Triggered at:  -9.9751\n"
     ]
    },
    {
     "data": {
      "text/plain": [
       "-9.9751"
      ]
     },
     "execution_count": 94,
     "metadata": {},
     "output_type": "execute_result"
    }
   ],
   "source": [
    "simulation(\"./data/Ramp22/\", 5, (-25,0))"
   ]
  },
  {
   "cell_type": "code",
   "execution_count": 72,
   "metadata": {
    "collapsed": true
   },
   "outputs": [
    {
     "name": "stdout",
     "output_type": "stream",
     "text": [
      "Flushing input history\n",
      "Flushing input history\n",
      "Flushing input history\n",
      "Flushing input history\n",
      "Flushing input history\n",
      "Flushing input history\n",
      "Flushing input history\n",
      "Flushing input history\n",
      "Flushing input history\n",
      "Flushing input history\n",
      "Flushing input history\n",
      "Flushing input history\n",
      "Flushing input history\n",
      "Flushing input history\n",
      "Number of sections: 5\n",
      "Entering sections:  (-25, -20)\n",
      "-------->\n",
      "Entering sections:  (-20, -15)\n",
      "-------->\n",
      "Training for section:  (None, -20)\n",
      "Finished training, distribution of the loss is:  (0.0005370492756821731, 0.00043365806391623023)\n",
      "<--------\n",
      "Entering sections:  (-15, -10)\n",
      "-------->\n",
      "Training for section:  (-20, -15)\n",
      "Finished training, distribution of the loss is:  (0.0005581256472023067, 0.0005829701990937062)\n",
      "Triggering for section:  (-15, -10)\n",
      "Using this distribution for trigger: (0.0005370492756821731, 0.00043365806391623023)\n",
      "<--------\n",
      "Entering sections:  (-10, -5)\n",
      "-------->\n",
      "Training for section:  (-15, -10)\n",
      "Finished training, distribution of the loss is:  (0.0007202112678412784, 0.0005431805231471524)\n",
      "Triggering for section:  (-10, -5)\n",
      "Using this distribution for trigger: (0.0005581256472023067, 0.0005829701990937062)\n",
      "<--------\n",
      "Entering sections:  (-5, 0)\n",
      "-------->\n",
      "Training for section:  (-10, -5)\n",
      "Finished training, distribution of the loss is:  (0.0006227820069907719, 0.00042024284759957547)\n",
      "Triggering for section:  (-5, 0)\n",
      "Using this distribution for trigger: (0.0007202112678412784, 0.0005431805231471524)\n"
     ]
    },
    {
     "ename": "ValueError",
     "evalue": "operands could not be broadcast together with shapes (0,) (0,12) ",
     "output_type": "error",
     "traceback": [
      "\u001b[0;31m---------------------------------------------------------------------------\u001b[0m",
      "\u001b[0;31mValueError\u001b[0m                                Traceback (most recent call last)",
      "\u001b[0;32m<ipython-input-72-f55dd32bf13f>\u001b[0m in \u001b[0;36m<module>\u001b[0;34m\u001b[0m\n\u001b[0;32m----> 1\u001b[0;31m \u001b[0msimulation\u001b[0m\u001b[0;34m(\u001b[0m\u001b[0;34m\"./data/Ramp22/\"\u001b[0m\u001b[0;34m,\u001b[0m \u001b[0;36m5\u001b[0m\u001b[0;34m,\u001b[0m \u001b[0;34m(\u001b[0m\u001b[0;34m-\u001b[0m\u001b[0;36m25\u001b[0m\u001b[0;34m,\u001b[0m\u001b[0;36m0\u001b[0m\u001b[0;34m)\u001b[0m\u001b[0;34m)\u001b[0m\u001b[0;34m\u001b[0m\u001b[0;34m\u001b[0m\u001b[0m\n\u001b[0m",
      "\u001b[0;32m<ipython-input-71-ed3d2f3ecd68>\u001b[0m in \u001b[0;36msimulation\u001b[0;34m(dir_path, section_size, time_range)\u001b[0m\n\u001b[1;32m    274\u001b[0m             \u001b[0;31m#Train and predict simutaneously\u001b[0m\u001b[0;34m\u001b[0m\u001b[0;34m\u001b[0m\u001b[0;34m\u001b[0m\u001b[0m\n\u001b[1;32m    275\u001b[0m             \u001b[0mnew_weights\u001b[0m\u001b[0;34m,\u001b[0m \u001b[0mdist\u001b[0m \u001b[0;34m=\u001b[0m \u001b[0mtrain\u001b[0m\u001b[0;34m(\u001b[0m\u001b[0mcurrent_weights\u001b[0m\u001b[0;34m,\u001b[0m \u001b[0mX\u001b[0m\u001b[0;34m,\u001b[0m \u001b[0mtime_axis\u001b[0m\u001b[0;34m,\u001b[0m \u001b[0mtrain_time_range\u001b[0m\u001b[0;34m,\u001b[0m \u001b[0mprev_dist\u001b[0m\u001b[0;34m)\u001b[0m\u001b[0;34m\u001b[0m\u001b[0;34m\u001b[0m\u001b[0m\n\u001b[0;32m--> 276\u001b[0;31m             \u001b[0mtrigger_time\u001b[0m \u001b[0;34m=\u001b[0m \u001b[0mtrigger\u001b[0m\u001b[0;34m(\u001b[0m\u001b[0mcurrent_weights\u001b[0m\u001b[0;34m,\u001b[0m \u001b[0mX\u001b[0m\u001b[0;34m,\u001b[0m \u001b[0mtime_axis\u001b[0m\u001b[0;34m,\u001b[0m \u001b[0mtrigger_time_range\u001b[0m\u001b[0;34m,\u001b[0m \u001b[0mprev_dist\u001b[0m\u001b[0;34m)\u001b[0m\u001b[0;34m\u001b[0m\u001b[0;34m\u001b[0m\u001b[0m\n\u001b[0m\u001b[1;32m    277\u001b[0m \u001b[0;34m\u001b[0m\u001b[0m\n\u001b[1;32m    278\u001b[0m             \u001b[0;32mif\u001b[0m \u001b[0mtrigger_time\u001b[0m\u001b[0;34m:\u001b[0m\u001b[0;34m\u001b[0m\u001b[0;34m\u001b[0m\u001b[0m\n",
      "\u001b[0;32m<ipython-input-71-ed3d2f3ecd68>\u001b[0m in \u001b[0;36mtrigger\u001b[0;34m(current_weights, X, time_axis, time_range, prev_dist)\u001b[0m\n\u001b[1;32m    213\u001b[0m     \u001b[0;31m#Ideally we need to do inference every single data point come in\u001b[0m\u001b[0;34m\u001b[0m\u001b[0;34m\u001b[0m\u001b[0;34m\u001b[0m\u001b[0m\n\u001b[1;32m    214\u001b[0m     \u001b[0mX_pred_test\u001b[0m \u001b[0;34m=\u001b[0m \u001b[0mmodel\u001b[0m\u001b[0;34m.\u001b[0m\u001b[0mpredict\u001b[0m\u001b[0;34m(\u001b[0m\u001b[0mX_test\u001b[0m\u001b[0;34m)\u001b[0m\u001b[0;34m\u001b[0m\u001b[0;34m\u001b[0m\u001b[0m\n\u001b[0;32m--> 215\u001b[0;31m     \u001b[0mtest_loss\u001b[0m \u001b[0;34m=\u001b[0m \u001b[0mnp\u001b[0m\u001b[0;34m.\u001b[0m\u001b[0mmean\u001b[0m\u001b[0;34m(\u001b[0m\u001b[0mnp\u001b[0m\u001b[0;34m.\u001b[0m\u001b[0mabs\u001b[0m\u001b[0;34m(\u001b[0m\u001b[0mX_pred_test\u001b[0m\u001b[0;34m-\u001b[0m\u001b[0mX_test\u001b[0m\u001b[0;34m)\u001b[0m\u001b[0;34m,\u001b[0m \u001b[0maxis\u001b[0m \u001b[0;34m=\u001b[0m \u001b[0;36m1\u001b[0m\u001b[0;34m)\u001b[0m\u001b[0;34m\u001b[0m\u001b[0;34m\u001b[0m\u001b[0m\n\u001b[0m\u001b[1;32m    216\u001b[0m \u001b[0;34m\u001b[0m\u001b[0m\n\u001b[1;32m    217\u001b[0m     \u001b[0;31m#Quantify how much each data point is far away from the distribution\u001b[0m\u001b[0;34m\u001b[0m\u001b[0;34m\u001b[0m\u001b[0;34m\u001b[0m\u001b[0m\n",
      "\u001b[0;31mValueError\u001b[0m: operands could not be broadcast together with shapes (0,) (0,12) "
     ]
    }
   ],
   "source": [
    "#SD = 38\n",
    "simulation(\"./data/Ramp22/\", 5, (-25,0))"
   ]
  },
  {
   "cell_type": "code",
   "execution_count": 77,
   "metadata": {
    "collapsed": true
   },
   "outputs": [
    {
     "name": "stdout",
     "output_type": "stream",
     "text": [
      "Flushing input history\n",
      "Flushing input history\n",
      "Flushing input history\n",
      "Flushing input history\n",
      "Flushing input history\n",
      "Flushing input history\n",
      "Flushing input history\n",
      "Flushing input history\n",
      "Flushing input history\n",
      "Flushing input history\n",
      "Flushing input history\n",
      "Flushing input history\n",
      "Flushing input history\n",
      "Flushing input history\n",
      "Number of sections: 5\n",
      "Entering sections:  (-25, -20)\n",
      "-------->\n",
      "Entering sections:  (-20, -15)\n",
      "-------->\n",
      "Training for section:  (None, -20)\n",
      "Finished training, distribution of the loss is:  (0.04494960146531087, 0.03315995871324737)\n",
      "<--------\n",
      "Entering sections:  (-15, -10)\n",
      "-------->\n",
      "Training for section:  (-20, -15)\n",
      "Finished training, distribution of the loss is:  (0.021049357873841396, 0.017013994689047917)\n",
      "Triggering for section:  (-15, -10)\n",
      "Using this distribution for trigger: (0.04494960146531087, 0.03315995871324737)\n",
      "Triggered at:  -14.4142\n"
     ]
    },
    {
     "data": {
      "text/plain": [
       "-14.4142"
      ]
     },
     "execution_count": 77,
     "metadata": {},
     "output_type": "execute_result"
    }
   ],
   "source": [
    "simulation(\"./data/Ramp22/\", 5, (-25,0))"
   ]
  },
  {
   "cell_type": "markdown",
   "metadata": {},
   "source": [
    "## Investigation of how reconstruction loss in (-5,0) changes when using different models from different scales"
   ]
  },
  {
   "cell_type": "code",
   "execution_count": 4,
   "metadata": {},
   "outputs": [
    {
     "name": "stdout",
     "output_type": "stream",
     "text": [
      "Flushing input history\n",
      "Flushing input history\n",
      "Flushing input history\n",
      "Flushing input history\n",
      "Flushing input history\n",
      "Flushing input history\n",
      "Flushing input history\n",
      "Flushing input history\n",
      "Flushing input history\n",
      "Flushing input history\n",
      "Flushing input history\n",
      "Flushing input history\n",
      "Flushing input history\n",
      "Flushing input history\n"
     ]
    }
   ],
   "source": [
    "#Load data and create the model\n",
    "X, time_axis = generate_data(\"./data/Ramp22/\", time_range = (-30,0), window = 2000, step = 10)  "
   ]
  },
  {
   "cell_type": "code",
   "execution_count": 7,
   "metadata": {},
   "outputs": [],
   "source": [
    "def train(current_weights, X, time_axis, time_range, past_scaler):\n",
    "    \"\"\"Take a model, train it in the appropritate time range, return the new weights\n",
    "    and its reconstruction loss distribution\"\"\"\n",
    "    \n",
    "    print(\"Training for section: \", time_range)\n",
    "    #Select the appropriate time\n",
    "    start_index = None\n",
    "    \n",
    "    if time_range[0] is not None:\n",
    "        start_index = np.argmax(time_axis > time_range[0])\n",
    "    else:\n",
    "        start_index = 0\n",
    "    \n",
    "    end_index = np.argmax(time_axis > time_range[1])\n",
    "    \n",
    "    X_train = X[start_index:end_index]\n",
    "    \n",
    "    #Scaler stuffs\n",
    "    scaler = past_scaler\n",
    "    scaler.partial_fit(X_train)\n",
    "    X_train = scaler.transform(X_train)\n",
    "    \n",
    "    #Create model\n",
    "    model = create_model()\n",
    "    \n",
    "    if current_weights:\n",
    "        model.set_weights(current_weights)\n",
    "    \n",
    "    #Train the model and extract new weights\n",
    "    model.fit(X_train, X_train,\n",
    "              batch_size=2000,\n",
    "              epochs=20, verbose = 0)\n",
    "    \n",
    "    new_weights = model.get_weights()\n",
    "    \n",
    "    return new_weights, scaler\n",
    "\n",
    "def create_model():\n",
    "    \n",
    "    #================BUILD THE MODEL====================\n",
    "    # Simple model\n",
    "    model = models.Sequential()\n",
    "\n",
    "    model.add(Dense(6, activation = 'elu', kernel_initializer='glorot_uniform',\n",
    "                    kernel_regularizer=regularizers.l2(0.0),\n",
    "                    input_dim=12))\n",
    "\n",
    "    model.add(Dense(3,activation='elu',\n",
    "                    kernel_initializer='glorot_uniform'))\n",
    "\n",
    "    model.add(Dense(6,activation='elu',\n",
    "                    kernel_initializer='glorot_uniform'))\n",
    "\n",
    "    model.add(Dense(12,\n",
    "                    kernel_initializer='glorot_uniform'))\n",
    "\n",
    "    model.compile(loss='mse',optimizer='adam')\n",
    "\n",
    "    return model\n",
    "\n",
    "def test_1(X, time_axis, time_range = (-30,0)):\n",
    "    \n",
    "    section_size = 5\n",
    "    \n",
    "    #For updating model\n",
    "    current_weights = None\n",
    "    new_weights = None\n",
    "    \n",
    "    #For keeping track of distribution history\n",
    "    prev_dist = None\n",
    "    dist = None\n",
    "    \n",
    "    #Create a model\n",
    "    model = create_model()\n",
    "    \n",
    "    #Calculate number of sections\n",
    "    num_section = int(abs(time_range[0])/section_size)\n",
    "    print(\"Number of sections:\", num_section)\n",
    "    \n",
    "    #Keeping tract of reconstruction for each model\n",
    "    loss_tract = []\n",
    "    \n",
    "    #Take out the last section\n",
    "    last_section_start_index = np.argmax(time_axis > -5)\n",
    "    X_test = X[last_section_start_index:]\n",
    "    test_time = time_axis[last_section_start_index:]\n",
    "    \n",
    "    #Initialize scaler\n",
    "    past_scaler = MinMaxScaler()\n",
    "    \n",
    "    #Sequentially go through the data\n",
    "    for i in range(num_section-1): #Don't train on last section (-5,0)\n",
    "        \n",
    "        print(\"Entering sections: \", (-section_size*(num_section - i), -section_size*(num_section - i - 1)))\n",
    "        time_range = (-section_size*(num_section - i), -section_size*(num_section - i - 1))\n",
    "        new_weights, scaler = train(current_weights, X, time_axis, time_range, past_scaler)\n",
    "        \n",
    "        #Keep track of current weights\n",
    "        current_weights = new_weights\n",
    "        \n",
    "        #Set the model to newly trained model\n",
    "        model.set_weights(new_weights)\n",
    "        \n",
    "        #Do prediction on (-5,0)\n",
    "        X_test_temp = scaler.transform(X_test)\n",
    "        X_pred_test = model.predict(X_test_temp)\n",
    "        \n",
    "        test_loss = np.mean(np.abs(X_pred_test-X_test_temp), axis = 1)\n",
    "        \n",
    "        #Plot the test loss\n",
    "        plt.figure(figsize=(20,2))\n",
    "        plt.plot(test_time, test_loss)\n",
    "        plt.title(\"Reconstruction loss on (-5,0) with model trained on {}\".format(str((-section_size*(num_section - i), -section_size*(num_section - i - 1)))))\n",
    "        plt.xlabel(\"Time [s]\")\n",
    "        plt.show()\n",
    "        \n",
    "        #Save the mean of test_loss\n",
    "        loss_tract.append(np.mean(test_loss))\n",
    "        \n",
    "        #Set the new scaler to past scaler\n",
    "        scaler = past_scaler\n",
    "    \n",
    "    print(\"Loss: \", loss_tract)\n",
    "    #Bar plot\n",
    "    labels = ['(-30,-25)', '(-25,-20)', '(-20,-15)', '(-15,-10)', '(-10,-5)']\n",
    "    sections = np.arange(len(labels))\n",
    "    plt.bar(sections, loss_tract)\n",
    "    plt.xlabel(\"Trained on\")\n",
    "    plt.ylabel(\"Average reconstruction loss on (-5,0)\")\n",
    "    plt.xticks(sections, labels)"
   ]
  },
  {
   "cell_type": "code",
   "execution_count": 8,
   "metadata": {},
   "outputs": [
    {
     "name": "stdout",
     "output_type": "stream",
     "text": [
      "Number of sections: 6\n",
      "Entering sections:  (-30, -25)\n",
      "Training for section:  (-30, -25)\n"
     ]
    },
    {
     "data": {
      "image/png": "[encoded data removed]",
      "text/plain": [
       "<Figure size 1440x144 with 1 Axes>"
      ]
     },
     "metadata": {
      "needs_background": "light"
     },
     "output_type": "display_data"
    },
    {
     "name": "stdout",
     "output_type": "stream",
     "text": [
      "Entering sections:  (-25, -20)\n",
      "Training for section:  (-25, -20)\n"
     ]
    },
    {
     "data": {
      "image/png": "[encoded data removed]",
      "text/plain": [
       "<Figure size 1440x144 with 1 Axes>"
      ]
     },
     "metadata": {
      "needs_background": "light"
     },
     "output_type": "display_data"
    },
    {
     "name": "stdout",
     "output_type": "stream",
     "text": [
      "Entering sections:  (-20, -15)\n",
      "Training for section:  (-20, -15)\n"
     ]
    },
    {
     "data": {
      "image/png": "[encoded data removed]",
      "text/plain": [
       "<Figure size 1440x144 with 1 Axes>"
      ]
     },
     "metadata": {
      "needs_background": "light"
     },
     "output_type": "display_data"
    },
    {
     "name": "stdout",
     "output_type": "stream",
     "text": [
      "Entering sections:  (-15, -10)\n",
      "Training for section:  (-15, -10)\n"
     ]
    },
    {
     "data": {
      "image/png": "[encoded data removed]",
      "text/plain": [
       "<Figure size 1440x144 with 1 Axes>"
      ]
     },
     "metadata": {
      "needs_background": "light"
     },
     "output_type": "display_data"
    },
    {
     "name": "stdout",
     "output_type": "stream",
     "text": [
      "Entering sections:  (-10, -5)\n",
      "Training for section:  (-10, -5)\n"
     ]
    },
    {
     "data": {
      "image/png": "[encoded data removed]",
      "text/plain": [
       "<Figure size 1440x144 with 1 Axes>"
      ]
     },
     "metadata": {
      "needs_background": "light"
     },
     "output_type": "display_data"
    },
    {
     "name": "stdout",
     "output_type": "stream",
     "text": [
      "Loss:  [4.151785419479549, 3.505228874859633, 0.23657362051774167, 0.23284080628061915, 0.22295697981505933]\n"
     ]
    },
    {
     "data": {
      "image/png": "[encoded data removed]",
      "text/plain": [
       "<Figure size 432x288 with 1 Axes>"
      ]
     },
     "metadata": {
      "needs_background": "light"
     },
     "output_type": "display_data"
    }
   ],
   "source": [
    "test_1(X, time_axis, time_range = (-30,0))"
   ]
  },
  {
   "cell_type": "code",
   "execution_count": 86,
   "metadata": {
    "collapsed": true
   },
   "outputs": [
    {
     "name": "stdout",
     "output_type": "stream",
     "text": [
      "Number of sections: 6\n",
      "Entering sections:  (-30, -25)\n",
      "Training for section:  (-30, -25)\n",
      "Entering sections:  (-25, -20)\n",
      "Training for section:  (-25, -20)\n",
      "Entering sections:  (-20, -15)\n",
      "Training for section:  (-20, -15)\n",
      "Entering sections:  (-15, -10)\n",
      "Training for section:  (-15, -10)\n",
      "Entering sections:  (-10, -5)\n",
      "Training for section:  (-10, -5)\n"
     ]
    },
    {
     "data": {
      "image/png": "[encoded data removed]",
      "text/plain": [
       "<Figure size 432x288 with 1 Axes>"
      ]
     },
     "metadata": {
      "needs_background": "light"
     },
     "output_type": "display_data"
    }
   ],
   "source": [
    "test_1(X, time_axis, time_range = (-30,0))"
   ]
  },
  {
   "cell_type": "code",
   "execution_count": 87,
   "metadata": {
    "collapsed": true
   },
   "outputs": [
    {
     "name": "stdout",
     "output_type": "stream",
     "text": [
      "Number of sections: 6\n",
      "Entering sections:  (-30, -25)\n",
      "Training for section:  (-30, -25)\n",
      "Entering sections:  (-25, -20)\n",
      "Training for section:  (-25, -20)\n",
      "Entering sections:  (-20, -15)\n",
      "Training for section:  (-20, -15)\n",
      "Entering sections:  (-15, -10)\n",
      "Training for section:  (-15, -10)\n",
      "Entering sections:  (-10, -5)\n",
      "Training for section:  (-10, -5)\n"
     ]
    },
    {
     "data": {
      "image/png": "[encoded data removed]",
      "text/plain": [
       "<Figure size 432x288 with 1 Axes>"
      ]
     },
     "metadata": {
      "needs_background": "light"
     },
     "output_type": "display_data"
    }
   ],
   "source": [
    "test_1(X, time_axis, time_range = (-30,0))"
   ]
  },
  {
   "cell_type": "markdown",
   "metadata": {},
   "source": [
    "## Original simple inputs "
   ]
  },
  {
   "cell_type": "code",
   "execution_count": 1,
   "metadata": {},
   "outputs": [
    {
     "name": "stderr",
     "output_type": "stream",
     "text": [
      "\n",
      "Bad key \"text.kerning_factor\" on line 4 in\n",
      "/uscms_data/d3/dhoang/miniconda3/lib/python3.7/site-packages/matplotlib/mpl-data/stylelib/_classic_test_patch.mplstyle.\n",
      "You probably need to get an updated matplotlibrc file from\n",
      "https://github.com/matplotlib/matplotlib/blob/v3.1.3/matplotlibrc.template\n",
      "or from the matplotlib source distribution\n",
      "Using TensorFlow backend.\n"
     ]
    }
   ],
   "source": [
    "#Data processing\n",
    "import os\n",
    "import pandas as pd\n",
    "import numpy as np\n",
    "import matplotlib.pyplot as plt\n",
    "import seaborn as sns\n",
    "from nptdms import TdmsFile #Process ramping file\n",
    "\n",
    "#For building ML models\n",
    "import keras\n",
    "import keras.models as models\n",
    "from keras.layers.core import Dense\n",
    "from keras import regularizers"
   ]
  },
  {
   "cell_type": "code",
   "execution_count": 2,
   "metadata": {},
   "outputs": [],
   "source": [
    "def load_channel_and_time(dir_path, channel):\n",
    "    data_frame = pd.DataFrame(data = {channel: np.load(dir_path + channel + \".npy\"),\n",
    "                                     \"time\": np.load(dir_path + \"time.npy\")})\n",
    "    return data_frame\n",
    "    \n",
    "def generate_data_0(dir_path, channel, time_range, window = 1000, step = 10):\n",
    "    #Load the data\n",
    "    data = load_channel_and_time(dir_path, channel)\n",
    "    \n",
    "    #Select the part\n",
    "    start = time_range[0]\n",
    "    end = time_range[1]\n",
    "    data = data[(data[\"time\"] > start) & (data[\"time\"] < end)]\n",
    "    \n",
    "    #Calculate the statistics\n",
    "    #data[\"Mean\"] = data.loc[:, channel].abs().rolling(window=window).mean()\n",
    "    data[\"SD\"] = data.loc[:, channel].rolling(window=window).std()\n",
    "    #data[\"Kurtosis\"] = data.loc[:, channel].rolling(window=window).kurt()\n",
    "    #data[\"Skew\"] = data.loc[:, channel].rolling(window=window).skew()\n",
    "    \n",
    "    select_list = [\"SD\"]\n",
    "    \n",
    "    assert data[select_list].to_numpy()[window-1::step].shape[0] == data['time'].to_numpy()[window-1::step].shape[0]\n",
    "    \n",
    "    %reset -f in\n",
    "    \n",
    "    return data[select_list].to_numpy()[window-1::step], data['time'].to_numpy()[window-1::step]\n",
    "\n",
    "def generate_data_no_time(dir_path, channel, time_range, window = 1000, step = 10):\n",
    "    #Load the data\n",
    "    data = load_channel_and_time(dir_path, channel)\n",
    "    \n",
    "    #Select the part\n",
    "    start = time_range[0]\n",
    "    end = time_range[1]\n",
    "    data = data[(data[\"time\"] > start) & (data[\"time\"] < end)]\n",
    "    \n",
    "    #Calculate the statistics\n",
    "    #data[\"Mean\"] = data.loc[:, channel].abs().rolling(window=window).mean()\n",
    "    data[\"SD\"] = data.loc[:, channel].rolling(window=window).std()\n",
    "    #data[\"Kurtosis\"] = data.loc[:, channel].rolling(window=window).kurt()\n",
    "    #data[\"Skew\"] = data.loc[:, channel].rolling(window=window).skew()\n",
    "    \n",
    "    select_list = [\"SD\"]\n",
    "    \n",
    "    %reset -f in\n",
    "    \n",
    "    return data[select_list].to_numpy()[window-1::step]\n",
    "\n",
    "def generate_data_all_sensors(dir_path, time_range, window = 1000, step = 10):\n",
    "    \n",
    "    ai0, time = generate_data(dir_path, \"ai0\", time_range = time_range, window = window, step = step)\n",
    "    ai1 = generate_data_no_time(dir_path, \"ai1\", time_range = time_range, window = window, step = step)\n",
    "    ai2 = generate_data_no_time(dir_path, \"ai2\", time_range = time_range, window = window, step = step)\n",
    "    ai3 = generate_data_no_time(dir_path, \"ai3\", time_range = time_range, window = window, step = step)\n",
    "    ai4 = generate_data_no_time(dir_path, \"ai4\", time_range = time_range, window = window, step = step)\n",
    "    \n",
    "    #Multiply them all together\n",
    "    product_var = ai0*ai1*ai2*ai3*ai4\n",
    "    \n",
    "    \n",
    "    all_channels = np.concatenate((ai0,ai1,ai2,ai3,ai4,product_var), axis = 1)\n",
    "    \n",
    "    %reset -f in\n",
    "    \n",
    "    return all_channels, time\n",
    "\n",
    "def plot_moving_mean(dir_path, channel, time_range, window = 1000, step = 10):\n",
    "    #Load the data\n",
    "    data = load_channel_and_time(dir_path, channel)\n",
    "    \n",
    "    #Select the part\n",
    "    start = time_range[0]\n",
    "    end = time_range[1]\n",
    "    data = data[(data[\"time\"] > start) & (data[\"time\"] < end)]\n",
    "    \n",
    "    #Calculate the mean\n",
    "    data[\"Mean\"] = data.loc[:, channel].abs().rolling(window=window).mean()\n",
    "    \n",
    "    #Plot\n",
    "    plt.figure(figsize=(20,2))\n",
    "    plt.plot(data['time'].to_numpy()[window-1::step], data[\"Mean\"].to_numpy()[window-1::step], label = \"Mean of abs(data)\")\n",
    "    plt.legend(loc = \"upper right\")\n",
    "    plt.xlabel(\"Time (s)\")\n",
    "    plt.title(\"Sensor {}'s moving mean\".format(channel))\n",
    "    \n",
    "    %reset -f in\n",
    "    \n",
    "def load_sensor(dir_path, sensor, time_range = None):\n",
    "    \n",
    "    data = pd.DataFrame(data = {sensor: np.load(dir_path + sensor + \".npy\"),\n",
    "                                \"time\": np.load(dir_path + \"time.npy\")})\n",
    "    \n",
    "    start = min(data[\"time\"])\n",
    "    end = max(data[\"time\"])\n",
    "    \n",
    "    if time_range:\n",
    "        start = time_range[0]\n",
    "        end = time_range[1]\n",
    "    \n",
    "    \n",
    "    data = data[(data[\"time\"] > start) & (data[\"time\"] < end)]\n",
    "   \n",
    "    %reset -f in\n",
    "    \n",
    "    return data\n",
    "    \n",
    "def plot_product_mean(dir_path, time_range, window = 1000, step = 10):\n",
    "    #Load the data\n",
    "    ai0 = load_sensor(dir_path, \"ai0\", time_range = time_range)\n",
    "    ai1 = load_sensor(dir_path, \"ai1\", time_range = time_range)[\"ai1\"].abs().rolling(window=window).mean().to_numpy()[window-1::step]\n",
    "    ai2 = load_sensor(dir_path, \"ai2\", time_range = time_range)[\"ai2\"].abs().rolling(window=window).mean().to_numpy()[window-1::step]\n",
    "    ai3 = load_sensor(dir_path, \"ai3\", time_range = time_range)[\"ai3\"].abs().rolling(window=window).mean().to_numpy()[window-1::step]\n",
    "    ai4 = load_sensor(dir_path, \"ai4\", time_range = time_range)[\"ai4\"].abs().rolling(window=window).mean().to_numpy()[window-1::step]\n",
    "    \n",
    "    time_axis = ai0['time'].to_numpy()[window-1::step]\n",
    "    \n",
    "    ai0 = ai0[\"ai0\"].abs().rolling(window=window).mean().to_numpy()[window-1::step]\n",
    "    \n",
    "    product = ai0*ai1*ai2*ai3*ai4\n",
    "    \n",
    "    #Plot\n",
    "    plt.figure(figsize=(20,2))\n",
    "    plt.plot(time_axis, product)\n",
    "    plt.xlabel(\"Time (s)\")\n",
    "    plt.title(\"Product of moving means\")\n",
    "    \n",
    "def plot_SD(dir_path, channel, time_range, window = 2000, step = 10):\n",
    "    \n",
    "    #Load the data\n",
    "    data = load_channel_and_time(dir_path, channel)\n",
    "    \n",
    "    #Select the part\n",
    "    start = time_range[0]\n",
    "    end = time_range[1]\n",
    "    data = data[(data[\"time\"] > start) & (data[\"time\"] < end)]\n",
    "    \n",
    "    #Calculate the mean\n",
    "    data[\"SD\"] = data.loc[:, channel].abs().rolling(window=window).std()\n",
    "    \n",
    "    #Plot\n",
    "    plt.figure(figsize=(20,2))\n",
    "    plt.plot(data['time'].to_numpy()[window-1::step], data[\"SD\"].to_numpy()[window-1::step], label = \"Standard deviation\", color = \"red\")\n",
    "    plt.legend(loc = \"upper right\")\n",
    "    plt.xlabel(\"Time (s)\")\n",
    "    plt.title(\"Sensor {}'s moving standard deviation\".format(channel))\n",
    "    \n",
    "    %reset -f in\n",
    "\n",
    "\n",
    "def plot_product_SD(dir_path, time_range, window = 1000, step = 10):\n",
    "    #Load the data\n",
    "    ai0 = load_sensor(dir_path, \"ai0\", time_range = time_range)\n",
    "    ai1 = load_sensor(dir_path, \"ai1\", time_range = time_range)[\"ai1\"].rolling(window=window).std().to_numpy()[window-1::step]\n",
    "    ai2 = load_sensor(dir_path, \"ai2\", time_range = time_range)[\"ai2\"].rolling(window=window).std().to_numpy()[window-1::step]\n",
    "    ai3 = load_sensor(dir_path, \"ai3\", time_range = time_range)[\"ai3\"].rolling(window=window).std().to_numpy()[window-1::step]\n",
    "    ai4 = load_sensor(dir_path, \"ai4\", time_range = time_range)[\"ai4\"].rolling(window=window).std().to_numpy()[window-1::step]\n",
    "    \n",
    "    time_axis = ai0['time'].to_numpy()[window-1::step]\n",
    "    \n",
    "    ai0 = ai0[\"ai0\"].rolling(window=window).std().to_numpy()[window-1::step]\n",
    "    \n",
    "    product = ai0*ai1*ai2*ai3*ai4\n",
    "    \n",
    "    #Plot\n",
    "    plt.figure(figsize=(20,2))\n",
    "    plt.plot(time_axis, product, color = \"red\")\n",
    "    plt.xlabel(\"Time (s)\")\n",
    "    plt.title(\"Product of moving standard deviations\")\n",
    "    \n",
    "def generate_mean_data(dir_path, time_range, window = 2000, step = 10):\n",
    "    #Load the data\n",
    "    ai0 = load_sensor(dir_path, \"ai0\", time_range = time_range)[\"ai0\"].abs().rolling(window=window).mean().to_numpy()[window-1::step]\n",
    "    ai1 = load_sensor(dir_path, \"ai1\", time_range = time_range)[\"ai1\"].abs().rolling(window=window).mean().to_numpy()[window-1::step]\n",
    "    ai2 = load_sensor(dir_path, \"ai2\", time_range = time_range)[\"ai2\"].abs().rolling(window=window).mean().to_numpy()[window-1::step]\n",
    "    ai3 = load_sensor(dir_path, \"ai3\", time_range = time_range)[\"ai3\"].abs().rolling(window=window).mean().to_numpy()[window-1::step]\n",
    "    ai4 = load_sensor(dir_path, \"ai4\", time_range = time_range)[\"ai4\"].abs().rolling(window=window).mean().to_numpy()[window-1::step]\n",
    "    \n",
    "    #Calculate the product\n",
    "    product = ai0*ai1*ai2*ai3*ai4\n",
    "    \n",
    "    #Stack them together\n",
    "    all_mean = np.vstack((ai0,ai1,ai2,ai3,ai4, product)).transpose()\n",
    "    \n",
    "    %reset -f in\n",
    "    \n",
    "    return all_mean\n",
    "\n",
    "def generate_sd_data(dir_path, time_range, window = 2000, step = 10):\n",
    "    #Load the data\n",
    "    ai0 = load_sensor(dir_path, \"ai0\", time_range = time_range)[\"ai0\"].rolling(window=window).std().to_numpy()[window-1::step]\n",
    "    ai1 = load_sensor(dir_path, \"ai1\", time_range = time_range)[\"ai1\"].rolling(window=window).std().to_numpy()[window-1::step]\n",
    "    ai2 = load_sensor(dir_path, \"ai2\", time_range = time_range)[\"ai2\"].rolling(window=window).std().to_numpy()[window-1::step]\n",
    "    ai3 = load_sensor(dir_path, \"ai3\", time_range = time_range)[\"ai3\"].rolling(window=window).std().to_numpy()[window-1::step]\n",
    "    ai4 = load_sensor(dir_path, \"ai4\", time_range = time_range)[\"ai4\"].rolling(window=window).std().to_numpy()[window-1::step]\n",
    "    \n",
    "    #Calculate the product\n",
    "    product = ai0*ai1*ai2*ai3*ai4\n",
    "    \n",
    "    #Stack them together\n",
    "    all_sd = np.vstack((ai0,ai1,ai2,ai3,ai4, product)).transpose()\n",
    "    \n",
    "    %reset -f in\n",
    "    \n",
    "    return all_sd\n",
    "\n",
    "def load_time_label(dir_path, time_range, window = 2000, step = 10):\n",
    "    \n",
    "    time_label =  np.load(dir_path + \"time.npy\")\n",
    "    \n",
    "    start = min(time_label)\n",
    "    end = max(time_label)\n",
    "    \n",
    "    if time_range:\n",
    "        start = time_range[0]\n",
    "        end = time_range[1]\n",
    "    \n",
    "    \n",
    "    time_label = time_label[(time_label > start) & (time_label < end)][window-1::step]\n",
    "    \n",
    "    %reset -f in\n",
    "    \n",
    "    return time_label\n",
    "    \n",
    "\n",
    "def generate_data(dir_path, time_range, window = 2000, step = 10):\n",
    "    \n",
    "    moving_mean = generate_mean_data(dir_path, time_range, window = 2000, step = 10)\n",
    "    moving_sd = generate_sd_data(dir_path, time_range, window = 2000, step = 10)\n",
    "    time_label = load_time_label(dir_path, time_range, window = 2000, step = 10)\n",
    "    \n",
    "    all_data = np.concatenate((moving_mean, moving_sd), axis = 1)\n",
    "    \n",
    "    %reset -f in\n",
    "    \n",
    "    return all_data, time_label"
   ]
  },
  {
   "cell_type": "code",
   "execution_count": 3,
   "metadata": {
    "collapsed": true
   },
   "outputs": [
    {
     "name": "stdout",
     "output_type": "stream",
     "text": [
      "Flushing input history\n",
      "Flushing input history\n",
      "Flushing input history\n",
      "Flushing input history\n",
      "Flushing input history\n",
      "Flushing input history\n",
      "Flushing input history\n",
      "Flushing input history\n",
      "Flushing input history\n",
      "Flushing input history\n",
      "Flushing input history\n",
      "Flushing input history\n",
      "Flushing input history\n",
      "Flushing input history\n",
      "Flushing input history\n",
      "Flushing input history\n",
      "Flushing input history\n",
      "Flushing input history\n",
      "Flushing input history\n",
      "Flushing input history\n",
      "Flushing input history\n",
      "Flushing input history\n",
      "Flushing input history\n",
      "Flushing input history\n",
      "Flushing input history\n",
      "Flushing input history\n",
      "Flushing input history\n",
      "Flushing input history\n",
      "X_train's shape:  (999800, 12)\n",
      "X_test's shape:  (399800, 12)\n"
     ]
    }
   ],
   "source": [
    "X_train, train_time = generate_data(\"./data/Ramp22/\", time_range = (-450, -350), window = 2000, step = 10)\n",
    "X_test, test_time = generate_data(\"./data/Ramp22/\", time_range = (-40, 0), window = 2000, step = 10)\n",
    "print(\"X_train's shape: \", X_train.shape)\n",
    "print(\"X_test's shape: \", X_test.shape)"
   ]
  },
  {
   "cell_type": "code",
   "execution_count": 4,
   "metadata": {},
   "outputs": [],
   "source": [
    "from sklearn.preprocessing import MinMaxScaler\n",
    "\n",
    "scaler = MinMaxScaler()\n",
    "\n",
    "scaler.fit(X_train)\n",
    "\n",
    "X_train = scaler.transform(X_train)\n",
    "\n",
    "X_test = scaler.transform(X_test)"
   ]
  },
  {
   "cell_type": "code",
   "execution_count": 5,
   "metadata": {
    "collapsed": true
   },
   "outputs": [
    {
     "name": "stdout",
     "output_type": "stream",
     "text": [
      "Using Keras version:  2.3.1\n",
      "Model: \"sequential_1\"\n",
      "_________________________________________________________________\n",
      "Layer (type)                 Output Shape              Param #   \n",
      "=================================================================\n",
      "dense_1 (Dense)              (None, 6)                 78        \n",
      "_________________________________________________________________\n",
      "dense_2 (Dense)              (None, 3)                 21        \n",
      "_________________________________________________________________\n",
      "dense_3 (Dense)              (None, 6)                 24        \n",
      "_________________________________________________________________\n",
      "dense_4 (Dense)              (None, 12)                84        \n",
      "=================================================================\n",
      "Total params: 207\n",
      "Trainable params: 207\n",
      "Non-trainable params: 0\n",
      "_________________________________________________________________\n"
     ]
    }
   ],
   "source": [
    "#================BUILD THE MODEL====================\n",
    "print(\"Using Keras version: \", keras.__version__)\n",
    "\n",
    "# Simple model\n",
    "model = models.Sequential()\n",
    "\n",
    "model.add(Dense(6, activation = 'elu', kernel_initializer='glorot_uniform',\n",
    "                kernel_regularizer=regularizers.l2(0.0),\n",
    "                input_dim=X_train.shape[1]))\n",
    "\n",
    "model.add(Dense(3,activation='elu',\n",
    "                kernel_initializer='glorot_uniform'))\n",
    "\n",
    "model.add(Dense(6,activation='elu',\n",
    "                kernel_initializer='glorot_uniform'))\n",
    "\n",
    "model.add(Dense(X_train.shape[1],\n",
    "                kernel_initializer='glorot_uniform'))\n",
    "\n",
    "model.compile(loss='mse',optimizer='adam')\n",
    "\n",
    "model.summary()"
   ]
  },
  {
   "cell_type": "code",
   "execution_count": 6,
   "metadata": {
    "collapsed": true
   },
   "outputs": [
    {
     "name": "stdout",
     "output_type": "stream",
     "text": [
      "Train on 899820 samples, validate on 99980 samples\n",
      "Epoch 1/50\n",
      "899820/899820 [==============================] - 6s 6us/step - loss: 1.5963e-04 - val_loss: 1.3539e-04\n",
      "Epoch 2/50\n",
      "899820/899820 [==============================] - 4s 4us/step - loss: 3.7399e-05 - val_loss: 1.0403e-04\n",
      "Epoch 3/50\n",
      "899820/899820 [==============================] - 4s 4us/step - loss: 3.1228e-05 - val_loss: 9.2997e-05\n",
      "Epoch 4/50\n",
      "899820/899820 [==============================] - 4s 5us/step - loss: 2.8436e-05 - val_loss: 9.5951e-05\n",
      "Epoch 5/50\n",
      "899820/899820 [==============================] - 4s 5us/step - loss: 2.6146e-05 - val_loss: 9.6265e-05\n",
      "Epoch 6/50\n",
      "899820/899820 [==============================] - 4s 5us/step - loss: 2.4897e-05 - val_loss: 8.2612e-05\n",
      "Epoch 7/50\n",
      "899820/899820 [==============================] - 4s 4us/step - loss: 2.4186e-05 - val_loss: 8.1993e-05\n",
      "Epoch 8/50\n",
      "899820/899820 [==============================] - 4s 4us/step - loss: 2.3647e-05 - val_loss: 7.8838e-05\n",
      "Epoch 9/50\n",
      "899820/899820 [==============================] - 4s 4us/step - loss: 2.3173e-05 - val_loss: 7.3136e-05\n",
      "Epoch 10/50\n",
      "899820/899820 [==============================] - 4s 5us/step - loss: 2.2805e-05 - val_loss: 7.1726e-05\n",
      "Epoch 11/50\n",
      "899820/899820 [==============================] - 4s 4us/step - loss: 2.2561e-05 - val_loss: 6.9360e-05\n",
      "Epoch 12/50\n",
      "899820/899820 [==============================] - 4s 4us/step - loss: 2.2322e-05 - val_loss: 6.7688e-05\n",
      "Epoch 13/50\n",
      "899820/899820 [==============================] - 4s 4us/step - loss: 2.2212e-05 - val_loss: 6.4846e-05\n",
      "Epoch 14/50\n",
      "899820/899820 [==============================] - 4s 4us/step - loss: 2.2076e-05 - val_loss: 6.5419e-05\n",
      "Epoch 15/50\n",
      "899820/899820 [==============================] - 4s 4us/step - loss: 2.1979e-05 - val_loss: 6.5193e-05\n",
      "Epoch 16/50\n",
      "899820/899820 [==============================] - 4s 4us/step - loss: 2.1903e-05 - val_loss: 6.3228e-05\n",
      "Epoch 17/50\n",
      "899820/899820 [==============================] - 4s 5us/step - loss: 2.1798e-05 - val_loss: 6.3684e-05\n",
      "Epoch 18/50\n",
      "899820/899820 [==============================] - 4s 4us/step - loss: 2.1758e-05 - val_loss: 6.3190e-05\n",
      "Epoch 19/50\n",
      "899820/899820 [==============================] - 4s 4us/step - loss: 2.1678e-05 - val_loss: 6.2104e-05\n",
      "Epoch 20/50\n",
      "899820/899820 [==============================] - 4s 4us/step - loss: 2.1629e-05 - val_loss: 6.2140e-05\n",
      "Epoch 21/50\n",
      "899820/899820 [==============================] - 4s 5us/step - loss: 2.1582e-05 - val_loss: 5.9106e-05\n",
      "Epoch 22/50\n",
      "899820/899820 [==============================] - 4s 4us/step - loss: 2.1539e-05 - val_loss: 5.8975e-05\n",
      "Epoch 23/50\n",
      "899820/899820 [==============================] - 4s 5us/step - loss: 2.1506e-05 - val_loss: 5.8705e-05\n",
      "Epoch 24/50\n",
      "899820/899820 [==============================] - 4s 5us/step - loss: 2.1420e-05 - val_loss: 5.6671e-05\n",
      "Epoch 25/50\n",
      "899820/899820 [==============================] - 4s 5us/step - loss: 2.1423e-05 - val_loss: 5.7055e-05\n",
      "Epoch 26/50\n",
      "899820/899820 [==============================] - 5s 5us/step - loss: 2.1356e-05 - val_loss: 5.5519e-05\n",
      "Epoch 27/50\n",
      "899820/899820 [==============================] - 5s 5us/step - loss: 2.1270e-05 - val_loss: 5.9460e-05\n",
      "Epoch 28/50\n",
      "899820/899820 [==============================] - 5s 5us/step - loss: 2.1251e-05 - val_loss: 5.3958e-05\n",
      "Epoch 29/50\n",
      "899820/899820 [==============================] - 5s 6us/step - loss: 2.1159e-05 - val_loss: 5.3719e-05\n",
      "Epoch 30/50\n",
      "899820/899820 [==============================] - 4s 4us/step - loss: 2.1111e-05 - val_loss: 5.4376e-05\n",
      "Epoch 31/50\n",
      "899820/899820 [==============================] - 5s 5us/step - loss: 2.0989e-05 - val_loss: 5.0663e-05\n",
      "Epoch 32/50\n",
      "899820/899820 [==============================] - 4s 5us/step - loss: 2.0869e-05 - val_loss: 5.1406e-05\n",
      "Epoch 33/50\n",
      "899820/899820 [==============================] - 4s 5us/step - loss: 2.0758e-05 - val_loss: 5.1102e-05\n",
      "Epoch 34/50\n",
      "899820/899820 [==============================] - 4s 5us/step - loss: 2.0634e-05 - val_loss: 4.7909e-05\n",
      "Epoch 35/50\n",
      "899820/899820 [==============================] - 4s 5us/step - loss: 2.0567e-05 - val_loss: 4.9525e-05\n",
      "Epoch 36/50\n",
      "899820/899820 [==============================] - 4s 5us/step - loss: 2.0453e-05 - val_loss: 4.8545e-05\n",
      "Epoch 37/50\n",
      "899820/899820 [==============================] - 4s 5us/step - loss: 2.0384e-05 - val_loss: 4.8089e-05\n",
      "Epoch 38/50\n",
      "899820/899820 [==============================] - 4s 5us/step - loss: 2.0353e-05 - val_loss: 4.4626e-05\n",
      "Epoch 39/50\n",
      "899820/899820 [==============================] - 4s 5us/step - loss: 2.0234e-05 - val_loss: 4.4929e-05\n",
      "Epoch 40/50\n",
      "899820/899820 [==============================] - 4s 4us/step - loss: 2.0193e-05 - val_loss: 4.5766e-05\n",
      "Epoch 41/50\n",
      "899820/899820 [==============================] - 4s 4us/step - loss: 2.0107e-05 - val_loss: 4.7775e-05\n",
      "Epoch 42/50\n",
      "899820/899820 [==============================] - 4s 5us/step - loss: 2.0065e-05 - val_loss: 4.7819e-05\n",
      "Epoch 43/50\n",
      "899820/899820 [==============================] - 4s 5us/step - loss: 2.0004e-05 - val_loss: 4.3671e-05\n",
      "Epoch 44/50\n",
      "899820/899820 [==============================] - 4s 5us/step - loss: 1.9936e-05 - val_loss: 4.4712e-05\n",
      "Epoch 45/50\n",
      "899820/899820 [==============================] - 4s 5us/step - loss: 1.9851e-05 - val_loss: 4.5196e-05\n",
      "Epoch 46/50\n",
      "899820/899820 [==============================] - 5s 5us/step - loss: 1.9801e-05 - val_loss: 4.5220e-05\n",
      "Epoch 47/50\n",
      "899820/899820 [==============================] - 4s 5us/step - loss: 1.9718e-05 - val_loss: 4.6500e-05\n",
      "Epoch 48/50\n",
      "899820/899820 [==============================] - 4s 5us/step - loss: 1.9638e-05 - val_loss: 4.5533e-05\n",
      "Epoch 49/50\n",
      "899820/899820 [==============================] - 4s 5us/step - loss: 1.9531e-05 - val_loss: 4.3578e-05\n",
      "Epoch 50/50\n",
      "899820/899820 [==============================] - 4s 5us/step - loss: 1.9423e-05 - val_loss: 4.3592e-05\n"
     ]
    }
   ],
   "source": [
    "# Train model for 100 epochs, batch size of 10: \n",
    "NUM_EPOCHS=50\n",
    "BATCH_SIZE=1028\n",
    "\n",
    "history=model.fit(X_train, X_train,\n",
    "                  batch_size=BATCH_SIZE, \n",
    "                  epochs=NUM_EPOCHS,\n",
    "                  validation_split=0.1,\n",
    "                  verbose = 1)"
   ]
  },
  {
   "cell_type": "code",
   "execution_count": 7,
   "metadata": {},
   "outputs": [],
   "source": [
    "X_pred = model.predict(X_train)\n",
    "scored = pd.DataFrame()\n",
    "scored['Loss_mse'] = np.mean(np.abs(X_pred-X_train), axis = 1)"
   ]
  },
  {
   "cell_type": "code",
   "execution_count": 16,
   "metadata": {},
   "outputs": [],
   "source": [
    "X_pred_test = model.predict(X_test)\n",
    "test_loss = np.mean(np.abs(X_pred_test-X_test), axis = 1)"
   ]
  },
  {
   "cell_type": "code",
   "execution_count": 12,
   "metadata": {
    "collapsed": true
   },
   "outputs": [
    {
     "data": {
      "text/plain": [
       "Text(0.5, 0, 'Time (s)')"
      ]
     },
     "execution_count": 12,
     "metadata": {},
     "output_type": "execute_result"
    },
    {
     "data": {
      "image/png": "[encoded data removed]",
      "text/plain": [
       "<Figure size 1440x144 with 1 Axes>"
      ]
     },
     "metadata": {
      "needs_background": "light"
     },
     "output_type": "display_data"
    }
   ],
   "source": [
    "plt.figure(figsize=(20,2))\n",
    "plt.plot(train_time, scored['Loss_mse'])\n",
    "#plt.ylim([0, 3])\n",
    "plt.xlabel(\"Time (s)\")"
   ]
  },
  {
   "cell_type": "code",
   "execution_count": 15,
   "metadata": {
    "collapsed": true
   },
   "outputs": [
    {
     "data": {
      "text/plain": [
       "Text(0.5, 0, 'Time (s)')"
      ]
     },
     "execution_count": 15,
     "metadata": {},
     "output_type": "execute_result"
    },
    {
     "data": {
      "image/png": "[encoded data removed]",
      "text/plain": [
       "<Figure size 1440x144 with 1 Axes>"
      ]
     },
     "metadata": {
      "needs_background": "light"
     },
     "output_type": "display_data"
    }
   ],
   "source": [
    "plt.figure(figsize=(20,2))\n",
    "plt.plot(test_time, scored_test['Loss_mse'])\n",
    "#plt.ylim([0, 3])\n",
    "plt.yscale(\"log\")\n",
    "plt.xlim([-25,0])\n",
    "plt.xlabel(\"Time (s)\")"
   ]
  },
  {
   "cell_type": "code",
   "execution_count": 24,
   "metadata": {},
   "outputs": [],
   "source": [
    "section_test_loss = test_loss[(test_time > -25) & (test_time < 0)]"
   ]
  },
  {
   "cell_type": "code",
   "execution_count": 32,
   "metadata": {
    "collapsed": true
   },
   "outputs": [
    {
     "name": "stdout",
     "output_type": "stream",
     "text": [
      "(-25, -20)\n",
      "(149801, 199801)\n",
      "(-20, -15)\n",
      "(199801, 249801)\n",
      "(-15, -10)\n",
      "(249801, 299801)\n",
      "(-10, -5)\n",
      "(299801, 349801)\n",
      "(-5, 0)\n",
      "(349801, None)\n"
     ]
    }
   ],
   "source": [
    "loss_means = []\n",
    "\n",
    "for i in range(5):\n",
    "    time_range = (-(5-i)*5,-(5-i-1)*5)\n",
    "    print(time_range)\n",
    "    start_index = np.argmax(test_time > time_range[0])\n",
    "    end_index = np.argmax(test_time > time_range[1])\n",
    "    if i == 4:\n",
    "        end_index = None\n",
    "    \n",
    "    \n",
    "    print((start_index, end_index))\n",
    "    loss_means.append(np.mean(test_loss[start_index:end_index]))    "
   ]
  },
  {
   "cell_type": "code",
   "execution_count": 33,
   "metadata": {
    "collapsed": true
   },
   "outputs": [
    {
     "data": {
      "text/plain": [
       "[0.01061808910145602,\n",
       " 0.010808520545776376,\n",
       " 0.011107481469574793,\n",
       " 0.011997024139118285,\n",
       " 0.015498558556717288]"
      ]
     },
     "execution_count": 33,
     "metadata": {},
     "output_type": "execute_result"
    }
   ],
   "source": [
    "loss_means"
   ]
  },
  {
   "cell_type": "code",
   "execution_count": 49,
   "metadata": {
    "collapsed": true
   },
   "outputs": [
    {
     "data": {
      "text/plain": [
       "([<matplotlib.axis.XTick at 0x7f79a0281210>,\n",
       "  <matplotlib.axis.XTick at 0x7f79a02f2dd0>,\n",
       "  <matplotlib.axis.XTick at 0x7f79a02f2950>,\n",
       "  <matplotlib.axis.XTick at 0x7f79a02abb10>,\n",
       "  <matplotlib.axis.XTick at 0x7f79a02abc10>],\n",
       " <a list of 5 Text xticklabel objects>)"
      ]
     },
     "execution_count": 49,
     "metadata": {},
     "output_type": "execute_result"
    },
    {
     "data": {
      "image/png": "[encoded data removed]",
      "text/plain": [
       "<Figure size 432x288 with 1 Axes>"
      ]
     },
     "metadata": {
      "needs_background": "light"
     },
     "output_type": "display_data"
    }
   ],
   "source": [
    "labels = ['(-25,-20)', '(-20,-15)', '(-15,-10)', '(-10,-5)', '(-5,0)']\n",
    "sections = np.arange(len(labels))\n",
    "fig, ax = plt.subplots()\n",
    "plt.bar(sections, loss_means)\n",
    "plt.xlabel(\"Sections\")\n",
    "plt.ylabel(\"Average reconstruction loss\")\n",
    "plt.xticks(sections, labels)"
   ]
  },
  {
   "cell_type": "code",
   "execution_count": null,
   "metadata": {},
   "outputs": [],
   "source": []
  }
 ],
 "metadata": {
  "kernelspec": {
   "display_name": "Python 3",
   "language": "python",
   "name": "python3"
  },
  "language_info": {
   "codemirror_mode": {
    "name": "ipython",
    "version": 3
   },
   "file_extension": ".py",
   "mimetype": "text/x-python",
   "name": "python",
   "nbconvert_exporter": "python",
   "pygments_lexer": "ipython3",
   "version": "3.7.6"
  }
 },
 "nbformat": 4,
 "nbformat_minor": 4
}
