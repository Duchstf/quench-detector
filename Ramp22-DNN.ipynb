{
 "cells": [
  {
   "cell_type": "markdown",
   "metadata": {},
   "source": [
    "# Ramp 22 with variances + mean of abs(signal) + 1/zerocrossings OR threshold crossing"
   ]
  },
  {
   "cell_type": "code",
   "execution_count": 1,
   "metadata": {},
   "outputs": [
    {
     "name": "stderr",
     "output_type": "stream",
     "text": [
      "\n",
      "Bad key \"text.kerning_factor\" on line 4 in\n",
      "/uscms_data/d3/dhoang/miniconda3/lib/python3.7/site-packages/matplotlib/mpl-data/stylelib/_classic_test_patch.mplstyle.\n",
      "You probably need to get an updated matplotlibrc file from\n",
      "https://github.com/matplotlib/matplotlib/blob/v3.1.3/matplotlibrc.template\n",
      "or from the matplotlib source distribution\n",
      "Using TensorFlow backend.\n"
     ]
    }
   ],
   "source": [
    "#Data processing\n",
    "import os\n",
    "import pandas as pd\n",
    "import numpy as np\n",
    "import matplotlib.pyplot as plt\n",
    "import seaborn as sns\n",
    "from nptdms import TdmsFile #Process ramping file\n",
    "\n",
    "#For building ML models\n",
    "import keras\n",
    "import keras.models as models\n",
    "from keras.layers.core import Dense\n",
    "from keras import regularizers"
   ]
  },
  {
   "cell_type": "markdown",
   "metadata": {},
   "source": [
    "## 1/ Zero crossings"
   ]
  },
  {
   "cell_type": "code",
   "execution_count": 2,
   "metadata": {},
   "outputs": [],
   "source": [
    "def load_sensor(dir_path, sensor, time_range = None):\n",
    "    \n",
    "    data = pd.DataFrame(data = {sensor: np.load(dir_path + sensor + \".npy\"),\n",
    "                                \"time\": np.load(dir_path + \"time.npy\")})\n",
    "    \n",
    "    start = min(data[\"time\"])\n",
    "    end = max(data[\"time\"])\n",
    "    \n",
    "    if time_range:\n",
    "        start = time_range[0]\n",
    "        end = time_range[1]\n",
    "    \n",
    "    \n",
    "    data = data[(data[\"time\"] > start) & (data[\"time\"] < end)]\n",
    "   \n",
    "    %reset -f in\n",
    "    \n",
    "    return data[sensor]\n",
    "\n",
    "def load_time_label(dir_path, time_range, window = 2000, step = 10):\n",
    "    \n",
    "    time_label =  np.load(dir_path + \"time.npy\")\n",
    "    \n",
    "    start = min(time_label)\n",
    "    end = max(time_label)\n",
    "    \n",
    "    if time_range:\n",
    "        start = time_range[0]\n",
    "        end = time_range[1]\n",
    "    \n",
    "    \n",
    "    time_label = time_label[(time_label > start) & (time_label < end)][window-1::step]\n",
    "    \n",
    "    %reset -f in\n",
    "    \n",
    "    return time_label\n",
    "\n",
    "#### Mean of abs(signal)\n",
    "def generate_mean_data(dir_path, time_range, window = 2000, step = 10):\n",
    "    #Load the data\n",
    "    ai0 = load_sensor(dir_path, \"ai0\", time_range = time_range).abs().rolling(window=window).mean().to_numpy()[window-1::step]\n",
    "    ai1 = load_sensor(dir_path, \"ai1\", time_range = time_range).abs().rolling(window=window).mean().to_numpy()[window-1::step]\n",
    "    ai2 = load_sensor(dir_path, \"ai2\", time_range = time_range).abs().rolling(window=window).mean().to_numpy()[window-1::step]\n",
    "    ai3 = load_sensor(dir_path, \"ai3\", time_range = time_range).abs().rolling(window=window).mean().to_numpy()[window-1::step]\n",
    "    ai4 = load_sensor(dir_path, \"ai4\", time_range = time_range).abs().rolling(window=window).mean().to_numpy()[window-1::step]\n",
    "    \n",
    "    #Calculate the product\n",
    "    product = ai0*ai1*ai2*ai3*ai4\n",
    "    \n",
    "    #Stack them together\n",
    "    all_mean = np.vstack((ai0,ai1,ai2,ai3,ai4, product)).transpose()\n",
    "    \n",
    "    %reset -f in\n",
    "    \n",
    "    return all_mean\n",
    "\n",
    "#### SD of signal\n",
    "def generate_sd_data(dir_path, time_range, window = 2000, step = 10):\n",
    "    #Load the data\n",
    "    ai0 = load_sensor(dir_path, \"ai0\", time_range = time_range).rolling(window=window).std().to_numpy()[window-1::step]\n",
    "    ai1 = load_sensor(dir_path, \"ai1\", time_range = time_range).rolling(window=window).std().to_numpy()[window-1::step]\n",
    "    ai2 = load_sensor(dir_path, \"ai2\", time_range = time_range).rolling(window=window).std().to_numpy()[window-1::step]\n",
    "    ai3 = load_sensor(dir_path, \"ai3\", time_range = time_range).rolling(window=window).std().to_numpy()[window-1::step]\n",
    "    ai4 = load_sensor(dir_path, \"ai4\", time_range = time_range).rolling(window=window).std().to_numpy()[window-1::step]\n",
    "    \n",
    "    #Calculate the product\n",
    "    product = ai0*ai1*ai2*ai3*ai4\n",
    "    \n",
    "    #Stack them together\n",
    "    all_sd = np.vstack((ai0,ai1,ai2,ai3,ai4, product)).transpose()\n",
    "    \n",
    "    %reset -f in\n",
    "    \n",
    "    return all_sd\n",
    "\n",
    "#### 1/Zerocrossings\n",
    "def inverse_zero(array):\n",
    "    zero_crossings = ((array[:-1] * array[1:]) < 0).sum()\n",
    "    \n",
    "    return 1./zero_crossings\n",
    "\n",
    "def generate_crossings_data(dir_path, time_range = None, window = 2000, step = 10):\n",
    "    \n",
    "    #Load the data\n",
    "    ai0 = load_sensor(dir_path, \"ai0\", time_range = time_range).rolling(window=window).apply(inverse_zero, raw = True).to_numpy()[window-1::step]\n",
    "    ai1 = load_sensor(dir_path, \"ai1\", time_range = time_range).rolling(window=window).apply(inverse_zero, raw = True).to_numpy()[window-1::step]\n",
    "    ai2 = load_sensor(dir_path, \"ai2\", time_range = time_range).rolling(window=window).apply(inverse_zero, raw = True).to_numpy()[window-1::step]\n",
    "    ai3 = load_sensor(dir_path, \"ai3\", time_range = time_range).rolling(window=window).apply(inverse_zero, raw = True).to_numpy()[window-1::step]\n",
    "    ai4 = load_sensor(dir_path, \"ai4\", time_range = time_range).rolling(window=window).apply(inverse_zero, raw = True).to_numpy()[window-1::step]\n",
    "    \n",
    "    product = ai0*ai1*ai2*ai3*ai4\n",
    "    \n",
    "    #Stack them together\n",
    "    all_inverse_crossings = np.vstack((ai0,ai1,ai2,ai3,ai4, product)).transpose()\n",
    "    \n",
    "    %reset -f in\n",
    "    \n",
    "    return all_inverse_crossings\n",
    "\n",
    "def generate_data(dir_path, time_range, window = 2000, step = 10):\n",
    "    \n",
    "    moving_mean = generate_mean_data(dir_path, time_range, window = 2000, step = 10)\n",
    "    moving_sd = generate_sd_data(dir_path, time_range, window = 2000, step = 10)\n",
    "    moving_inverse_crossings = generate_crossings_data(dir_path, time_range, window = 2000, step = 10)\n",
    "    time_label = load_time_label(dir_path, time_range, window = 2000, step = 10)\n",
    "    \n",
    "    all_data = np.concatenate((moving_mean, moving_sd, moving_inverse_crossings), axis = 1)\n",
    "    \n",
    "    %reset -f in\n",
    "    \n",
    "    return all_data, time_label"
   ]
  },
  {
   "cell_type": "code",
   "execution_count": 3,
   "metadata": {
    "collapsed": true
   },
   "outputs": [
    {
     "name": "stdout",
     "output_type": "stream",
     "text": [
      "Flushing input history\n",
      "Flushing input history\n",
      "Flushing input history\n",
      "Flushing input history\n",
      "Flushing input history\n",
      "Flushing input history\n",
      "Flushing input history\n",
      "Flushing input history\n",
      "Flushing input history\n",
      "Flushing input history\n",
      "Flushing input history\n",
      "Flushing input history\n",
      "Flushing input history\n",
      "Flushing input history\n",
      "Flushing input history\n",
      "Flushing input history\n",
      "Flushing input history\n",
      "Flushing input history\n",
      "Flushing input history\n",
      "Flushing input history\n",
      "Flushing input history\n",
      "Flushing input history\n",
      "Flushing input history\n",
      "Flushing input history\n",
      "Flushing input history\n",
      "Flushing input history\n",
      "Flushing input history\n",
      "Flushing input history\n",
      "Flushing input history\n",
      "Flushing input history\n",
      "Flushing input history\n",
      "Flushing input history\n",
      "Flushing input history\n",
      "Flushing input history\n",
      "Flushing input history\n",
      "Flushing input history\n",
      "Flushing input history\n",
      "Flushing input history\n",
      "Flushing input history\n",
      "Flushing input history\n",
      "X_train's shape:  (599800, 18)\n",
      "X_test's shape:  (199800, 18)\n"
     ]
    }
   ],
   "source": [
    "X_train, train_time = generate_data(\"./data/Ramp22/\", time_range = (-450, -390), window = 2000, step = 10)\n",
    "X_test, test_time = generate_data(\"./data/Ramp22/\", time_range = (-20, 0), window = 2000, step = 10)\n",
    "print(\"X_train's shape: \", X_train.shape)\n",
    "print(\"X_test's shape: \", X_test.shape)"
   ]
  },
  {
   "cell_type": "code",
   "execution_count": 4,
   "metadata": {},
   "outputs": [],
   "source": [
    "from sklearn.preprocessing import MinMaxScaler\n",
    "\n",
    "scaler = MinMaxScaler()\n",
    "\n",
    "scaler.fit(X_train)\n",
    "\n",
    "X_train = scaler.transform(X_train)\n",
    "\n",
    "X_test = scaler.transform(X_test)"
   ]
  },
  {
   "cell_type": "code",
   "execution_count": 5,
   "metadata": {},
   "outputs": [
    {
     "name": "stdout",
     "output_type": "stream",
     "text": [
      "Using Keras version:  2.3.1\n",
      "Model: \"sequential_1\"\n",
      "_________________________________________________________________\n",
      "Layer (type)                 Output Shape              Param #   \n",
      "=================================================================\n",
      "dense_1 (Dense)              (None, 12)                228       \n",
      "_________________________________________________________________\n",
      "dense_2 (Dense)              (None, 9)                 117       \n",
      "_________________________________________________________________\n",
      "dense_3 (Dense)              (None, 6)                 60        \n",
      "_________________________________________________________________\n",
      "dense_4 (Dense)              (None, 9)                 63        \n",
      "_________________________________________________________________\n",
      "dense_5 (Dense)              (None, 12)                120       \n",
      "_________________________________________________________________\n",
      "dense_6 (Dense)              (None, 18)                234       \n",
      "=================================================================\n",
      "Total params: 822\n",
      "Trainable params: 822\n",
      "Non-trainable params: 0\n",
      "_________________________________________________________________\n"
     ]
    }
   ],
   "source": [
    "#================BUILD THE MODEL====================\n",
    "print(\"Using Keras version: \", keras.__version__)\n",
    "\n",
    "# Simple model\n",
    "model = models.Sequential()\n",
    "\n",
    "model.add(Dense(12, activation = 'elu', kernel_initializer='glorot_uniform',\n",
    "                kernel_regularizer=regularizers.l2(0.0),\n",
    "                input_dim=X_train.shape[1]))\n",
    "\n",
    "model.add(Dense(9,activation='elu',\n",
    "                kernel_initializer='glorot_uniform'))\n",
    "\n",
    "model.add(Dense(6,activation='elu',\n",
    "                kernel_initializer='glorot_uniform'))\n",
    "\n",
    "model.add(Dense(9,activation='elu',\n",
    "                kernel_initializer='glorot_uniform'))\n",
    "\n",
    "model.add(Dense(12,activation='elu',\n",
    "                kernel_initializer='glorot_uniform'))\n",
    "\n",
    "model.add(Dense(X_train.shape[1],\n",
    "                kernel_initializer='glorot_uniform'))\n",
    "\n",
    "model.compile(loss='mse',optimizer='adam')\n",
    "\n",
    "model.summary()"
   ]
  },
  {
   "cell_type": "code",
   "execution_count": 6,
   "metadata": {
    "collapsed": true
   },
   "outputs": [
    {
     "name": "stdout",
     "output_type": "stream",
     "text": [
      "Train on 539820 samples, validate on 59980 samples\n",
      "Epoch 1/50\n",
      "539820/539820 [==============================] - 7s 12us/step - loss: 0.0023 - val_loss: 4.7862e-04\n",
      "Epoch 2/50\n",
      "539820/539820 [==============================] - 6s 11us/step - loss: 5.4346e-04 - val_loss: 3.8439e-04\n",
      "Epoch 3/50\n",
      "539820/539820 [==============================] - 5s 9us/step - loss: 3.9506e-04 - val_loss: 2.5456e-04\n",
      "Epoch 4/50\n",
      "539820/539820 [==============================] - 5s 9us/step - loss: 2.7980e-04 - val_loss: 1.6754e-04\n",
      "Epoch 5/50\n",
      "539820/539820 [==============================] - 5s 9us/step - loss: 2.0693e-04 - val_loss: 1.2831e-04\n",
      "Epoch 6/50\n",
      "539820/539820 [==============================] - 5s 9us/step - loss: 1.5480e-04 - val_loss: 9.4554e-05\n",
      "Epoch 7/50\n",
      "539820/539820 [==============================] - 4s 7us/step - loss: 1.0627e-04 - val_loss: 7.2135e-05\n",
      "Epoch 8/50\n",
      "539820/539820 [==============================] - 4s 7us/step - loss: 8.3583e-05 - val_loss: 6.8343e-05\n",
      "Epoch 9/50\n",
      "539820/539820 [==============================] - 4s 7us/step - loss: 7.6303e-05 - val_loss: 6.9605e-05\n",
      "Epoch 10/50\n",
      "539820/539820 [==============================] - 4s 7us/step - loss: 7.2656e-05 - val_loss: 6.8242e-05\n",
      "Epoch 11/50\n",
      "539820/539820 [==============================] - 3s 6us/step - loss: 7.0389e-05 - val_loss: 6.5919e-05\n",
      "Epoch 12/50\n",
      "539820/539820 [==============================] - 4s 8us/step - loss: 6.8736e-05 - val_loss: 6.9622e-05\n",
      "Epoch 13/50\n",
      "539820/539820 [==============================] - 5s 9us/step - loss: 6.7129e-05 - val_loss: 6.8257e-05\n",
      "Epoch 14/50\n",
      "539820/539820 [==============================] - 4s 8us/step - loss: 6.5513e-05 - val_loss: 6.7148e-05\n",
      "Epoch 15/50\n",
      "539820/539820 [==============================] - 4s 8us/step - loss: 6.3814e-05 - val_loss: 6.6398e-05\n",
      "Epoch 16/50\n",
      "539820/539820 [==============================] - 4s 8us/step - loss: 6.2100e-05 - val_loss: 6.6967e-05\n",
      "Epoch 17/50\n",
      "539820/539820 [==============================] - 4s 7us/step - loss: 6.0523e-05 - val_loss: 6.4554e-05\n",
      "Epoch 18/50\n",
      "539820/539820 [==============================] - 5s 8us/step - loss: 5.8950e-05 - val_loss: 6.4549e-05\n",
      "Epoch 19/50\n",
      "539820/539820 [==============================] - 3s 6us/step - loss: 5.7410e-05 - val_loss: 6.1953e-05\n",
      "Epoch 20/50\n",
      "539820/539820 [==============================] - 4s 8us/step - loss: 5.5691e-05 - val_loss: 6.2528e-05\n",
      "Epoch 21/50\n",
      "539820/539820 [==============================] - 4s 7us/step - loss: 5.4194e-05 - val_loss: 5.6989e-05\n",
      "Epoch 22/50\n",
      "539820/539820 [==============================] - 4s 7us/step - loss: 5.2927e-05 - val_loss: 5.5304e-05\n",
      "Epoch 23/50\n",
      "539820/539820 [==============================] - 4s 7us/step - loss: 5.2027e-05 - val_loss: 5.7374e-05\n",
      "Epoch 24/50\n",
      "539820/539820 [==============================] - 4s 8us/step - loss: 5.1334e-05 - val_loss: 5.3658e-05\n",
      "Epoch 25/50\n",
      "539820/539820 [==============================] - 4s 7us/step - loss: 5.0676e-05 - val_loss: 5.3608e-05\n",
      "Epoch 26/50\n",
      "539820/539820 [==============================] - 3s 6us/step - loss: 5.0199e-05 - val_loss: 5.3743e-05\n",
      "Epoch 27/50\n",
      "539820/539820 [==============================] - 4s 7us/step - loss: 4.9631e-05 - val_loss: 5.3410e-05\n",
      "Epoch 28/50\n",
      "539820/539820 [==============================] - 4s 7us/step - loss: 4.9206e-05 - val_loss: 5.2453e-05\n",
      "Epoch 29/50\n",
      "539820/539820 [==============================] - 4s 7us/step - loss: 4.8667e-05 - val_loss: 5.1051e-05\n",
      "Epoch 30/50\n",
      "539820/539820 [==============================] - 3s 6us/step - loss: 4.8193e-05 - val_loss: 5.1425e-05\n",
      "Epoch 31/50\n",
      "539820/539820 [==============================] - 4s 7us/step - loss: 4.7673e-05 - val_loss: 5.0170e-05\n",
      "Epoch 32/50\n",
      "539820/539820 [==============================] - 4s 7us/step - loss: 4.7173e-05 - val_loss: 4.8057e-05\n",
      "Epoch 33/50\n",
      "539820/539820 [==============================] - 3s 6us/step - loss: 4.6691e-05 - val_loss: 5.1055e-05\n",
      "Epoch 34/50\n",
      "539820/539820 [==============================] - 4s 7us/step - loss: 4.6313e-05 - val_loss: 4.9160e-05\n",
      "Epoch 35/50\n",
      "539820/539820 [==============================] - 3s 5us/step - loss: 4.5812e-05 - val_loss: 4.8255e-05\n",
      "Epoch 36/50\n",
      "539820/539820 [==============================] - 3s 6us/step - loss: 4.5394e-05 - val_loss: 5.2488e-05\n",
      "Epoch 37/50\n",
      "539820/539820 [==============================] - 3s 5us/step - loss: 4.5076e-05 - val_loss: 4.8928e-05\n",
      "Epoch 38/50\n",
      "539820/539820 [==============================] - 4s 7us/step - loss: 4.4783e-05 - val_loss: 4.7583e-05\n",
      "Epoch 39/50\n",
      "539820/539820 [==============================] - 4s 7us/step - loss: 4.4383e-05 - val_loss: 4.8829e-05\n",
      "Epoch 40/50\n",
      "539820/539820 [==============================] - 4s 7us/step - loss: 4.4187e-05 - val_loss: 4.6309e-05\n",
      "Epoch 41/50\n",
      "539820/539820 [==============================] - 4s 7us/step - loss: 4.3988e-05 - val_loss: 4.5955e-05\n",
      "Epoch 42/50\n",
      "539820/539820 [==============================] - 3s 6us/step - loss: 4.3821e-05 - val_loss: 4.9101e-05\n",
      "Epoch 43/50\n",
      "539820/539820 [==============================] - 3s 6us/step - loss: 4.3557e-05 - val_loss: 4.5865e-05\n",
      "Epoch 44/50\n",
      "539820/539820 [==============================] - 4s 7us/step - loss: 4.3403e-05 - val_loss: 4.5753e-05\n",
      "Epoch 45/50\n",
      "539820/539820 [==============================] - 3s 6us/step - loss: 4.3296e-05 - val_loss: 4.7946e-05\n",
      "Epoch 46/50\n",
      "539820/539820 [==============================] - 4s 7us/step - loss: 4.3275e-05 - val_loss: 4.8315e-05\n",
      "Epoch 47/50\n",
      "539820/539820 [==============================] - 3s 6us/step - loss: 4.2989e-05 - val_loss: 4.5305e-05\n",
      "Epoch 48/50\n",
      "539820/539820 [==============================] - 3s 6us/step - loss: 4.2974e-05 - val_loss: 4.7663e-05\n",
      "Epoch 49/50\n",
      "539820/539820 [==============================] - 3s 6us/step - loss: 4.2824e-05 - val_loss: 4.5556e-05\n",
      "Epoch 50/50\n",
      "539820/539820 [==============================] - 4s 6us/step - loss: 4.2744e-05 - val_loss: 4.8349e-05\n"
     ]
    }
   ],
   "source": [
    "# Train model for 100 epochs, batch size of 10: \n",
    "NUM_EPOCHS=50\n",
    "BATCH_SIZE=1028\n",
    "\n",
    "history=model.fit(X_train, X_train,\n",
    "                  batch_size=BATCH_SIZE, \n",
    "                  epochs=NUM_EPOCHS,\n",
    "                  validation_split=0.1,\n",
    "                  verbose = 1)"
   ]
  },
  {
   "cell_type": "code",
   "execution_count": 7,
   "metadata": {},
   "outputs": [],
   "source": [
    "X_pred = model.predict(X_train)\n",
    "scored = pd.DataFrame()\n",
    "scored['Loss_mse'] = np.mean(np.abs(X_pred-X_train), axis = 1)"
   ]
  },
  {
   "cell_type": "code",
   "execution_count": 8,
   "metadata": {},
   "outputs": [],
   "source": [
    "X_pred_test = model.predict(X_test)\n",
    "scored_test = pd.DataFrame()\n",
    "scored_test['Loss_mse'] = np.mean(np.abs(X_pred_test-X_test), axis = 1)"
   ]
  },
  {
   "cell_type": "code",
   "execution_count": 11,
   "metadata": {
    "collapsed": true
   },
   "outputs": [
    {
     "data": {
      "text/plain": [
       "Text(0.5, 0, 'Time (s)')"
      ]
     },
     "execution_count": 11,
     "metadata": {},
     "output_type": "execute_result"
    },
    {
     "data": {
      "image/png": "[encoded data removed]",
      "text/plain": [
       "<Figure size 1440x144 with 1 Axes>"
      ]
     },
     "metadata": {
      "needs_background": "light"
     },
     "output_type": "display_data"
    }
   ],
   "source": [
    "plt.figure(figsize=(20,2))\n",
    "plt.plot(train_time, scored['Loss_mse'])\n",
    "plt.ylim([0, 0.1])\n",
    "plt.xlabel(\"Time (s)\")"
   ]
  },
  {
   "cell_type": "code",
   "execution_count": 13,
   "metadata": {
    "collapsed": true
   },
   "outputs": [
    {
     "data": {
      "text/plain": [
       "Text(0.5, 0, 'Time (s)')"
      ]
     },
     "execution_count": 13,
     "metadata": {},
     "output_type": "execute_result"
    },
    {
     "data": {
      "image/png": "[encoded data removed]",
      "text/plain": [
       "<Figure size 1440x144 with 1 Axes>"
      ]
     },
     "metadata": {
      "needs_background": "light"
     },
     "output_type": "display_data"
    }
   ],
   "source": [
    "plt.figure(figsize=(20,2))\n",
    "plt.plot(train_time, scored['Loss_mse'])\n",
    "plt.ylim([0, 1])\n",
    "plt.xlabel(\"Time (s)\")"
   ]
  },
  {
   "cell_type": "code",
   "execution_count": 12,
   "metadata": {
    "collapsed": true
   },
   "outputs": [
    {
     "data": {
      "text/plain": [
       "Text(0.5, 0, 'Time (s)')"
      ]
     },
     "execution_count": 12,
     "metadata": {},
     "output_type": "execute_result"
    },
    {
     "data": {
      "image/png": "[encoded data removed]",
      "text/plain": [
       "<Figure size 1440x144 with 1 Axes>"
      ]
     },
     "metadata": {
      "needs_background": "light"
     },
     "output_type": "display_data"
    }
   ],
   "source": [
    "plt.figure(figsize=(20,2))\n",
    "plt.plot(test_time, scored_test['Loss_mse'])\n",
    "plt.ylim([0, 0.1])\n",
    "#plt.xlim([-100,0])\n",
    "plt.xlabel(\"Time (s)\")"
   ]
  },
  {
   "cell_type": "code",
   "execution_count": 14,
   "metadata": {
    "collapsed": true
   },
   "outputs": [
    {
     "data": {
      "text/plain": [
       "Text(0.5, 0, 'Time (s)')"
      ]
     },
     "execution_count": 14,
     "metadata": {},
     "output_type": "execute_result"
    },
    {
     "data": {
      "image/png": "[encoded data removed]",
      "text/plain": [
       "<Figure size 1440x144 with 1 Axes>"
      ]
     },
     "metadata": {
      "needs_background": "light"
     },
     "output_type": "display_data"
    }
   ],
   "source": [
    "plt.figure(figsize=(20,2))\n",
    "plt.plot(test_time, scored_test['Loss_mse'])\n",
    "plt.ylim([0, 1])\n",
    "#plt.xlim([-100,0])\n",
    "plt.xlabel(\"Time (s)\")"
   ]
  },
  {
   "cell_type": "markdown",
   "metadata": {},
   "source": [
    "# threshold crossings"
   ]
  },
  {
   "cell_type": "code",
   "execution_count": 2,
   "metadata": {},
   "outputs": [],
   "source": [
    "def load_sensor(dir_path, sensor, time_range = None):\n",
    "    \n",
    "    data = pd.DataFrame(data = {sensor: np.load(dir_path + sensor + \".npy\"),\n",
    "                                \"time\": np.load(dir_path + \"time.npy\")})\n",
    "    \n",
    "    start = min(data[\"time\"])\n",
    "    end = max(data[\"time\"])\n",
    "    \n",
    "    if time_range:\n",
    "        start = time_range[0]\n",
    "        end = time_range[1]\n",
    "    \n",
    "    \n",
    "    data = data[(data[\"time\"] > start) & (data[\"time\"] < end)]\n",
    "   \n",
    "    %reset -f in\n",
    "    \n",
    "    return data[sensor]\n",
    "\n",
    "def load_time_label(dir_path, time_range, window = 2000, step = 10):\n",
    "    \n",
    "    time_label =  np.load(dir_path + \"time.npy\")\n",
    "    \n",
    "    start = min(time_label)\n",
    "    end = max(time_label)\n",
    "    \n",
    "    if time_range:\n",
    "        start = time_range[0]\n",
    "        end = time_range[1]\n",
    "    \n",
    "    \n",
    "    time_label = time_label[(time_label > start) & (time_label < end)][window-1::step]\n",
    "    \n",
    "    %reset -f in\n",
    "    \n",
    "    return time_label\n",
    "\n",
    "#### Mean of abs(signal)\n",
    "def generate_mean_data(dir_path, time_range, window = 2000, step = 10):\n",
    "    #Load the data\n",
    "    ai0 = load_sensor(dir_path, \"ai0\", time_range = time_range).abs().rolling(window=window).mean().to_numpy()[window-1::step]\n",
    "    ai1 = load_sensor(dir_path, \"ai1\", time_range = time_range).abs().rolling(window=window).mean().to_numpy()[window-1::step]\n",
    "    ai2 = load_sensor(dir_path, \"ai2\", time_range = time_range).abs().rolling(window=window).mean().to_numpy()[window-1::step]\n",
    "    ai3 = load_sensor(dir_path, \"ai3\", time_range = time_range).abs().rolling(window=window).mean().to_numpy()[window-1::step]\n",
    "    ai4 = load_sensor(dir_path, \"ai4\", time_range = time_range).abs().rolling(window=window).mean().to_numpy()[window-1::step]\n",
    "    \n",
    "    #Calculate the product\n",
    "    product = ai0*ai1*ai2*ai3*ai4\n",
    "    \n",
    "    #Stack them together\n",
    "    all_mean = np.vstack((ai0,ai1,ai2,ai3,ai4, product)).transpose()\n",
    "    \n",
    "    %reset -f in\n",
    "    \n",
    "    return all_mean\n",
    "\n",
    "#### SD of signal\n",
    "def generate_sd_data(dir_path, time_range, window = 2000, step = 10):\n",
    "    #Load the data\n",
    "    ai0 = load_sensor(dir_path, \"ai0\", time_range = time_range).rolling(window=window).std().to_numpy()[window-1::step]\n",
    "    ai1 = load_sensor(dir_path, \"ai1\", time_range = time_range).rolling(window=window).std().to_numpy()[window-1::step]\n",
    "    ai2 = load_sensor(dir_path, \"ai2\", time_range = time_range).rolling(window=window).std().to_numpy()[window-1::step]\n",
    "    ai3 = load_sensor(dir_path, \"ai3\", time_range = time_range).rolling(window=window).std().to_numpy()[window-1::step]\n",
    "    ai4 = load_sensor(dir_path, \"ai4\", time_range = time_range).rolling(window=window).std().to_numpy()[window-1::step]\n",
    "    \n",
    "    #Calculate the product\n",
    "    product = ai0*ai1*ai2*ai3*ai4\n",
    "    \n",
    "    #Stack them together\n",
    "    all_sd = np.vstack((ai0,ai1,ai2,ai3,ai4, product)).transpose()\n",
    "    \n",
    "    %reset -f in\n",
    "    \n",
    "    return all_sd\n",
    "\n",
    "### Threshold crossings\n",
    "def thres_cross(array):\n",
    "    \n",
    "    return (array > 0.01).sum()/array.size\n",
    "\n",
    "def generate_thres_data(dir_path, time_range, window = 2000, step = 10):\n",
    "    #Load the data\n",
    "    ai0 = load_sensor(dir_path, \"ai0\", time_range = time_range).abs().rolling(window=window).apply(thres_cross, raw = True).to_numpy()[window-1::step]\n",
    "    ai1 = load_sensor(dir_path, \"ai1\", time_range = time_range).abs().rolling(window=window).apply(thres_cross, raw = True).to_numpy()[window-1::step]\n",
    "    ai2 = load_sensor(dir_path, \"ai2\", time_range = time_range).abs().rolling(window=window).apply(thres_cross, raw = True).to_numpy()[window-1::step]\n",
    "    ai3 = load_sensor(dir_path, \"ai3\", time_range = time_range).abs().rolling(window=window).apply(thres_cross, raw = True).to_numpy()[window-1::step]\n",
    "    ai4 = load_sensor(dir_path, \"ai4\", time_range = time_range).abs().rolling(window=window).apply(thres_cross, raw = True).to_numpy()[window-1::step]\n",
    "    \n",
    "    #Calculate the product\n",
    "    product = ai0*ai1*ai2*ai3*ai4\n",
    "    \n",
    "    #Stack them together\n",
    "    all_sd = np.vstack((ai0,ai1,ai2,ai3,ai4, product)).transpose()\n",
    "    \n",
    "    %reset -f in\n",
    "    \n",
    "    return all_sd\n",
    "\n",
    "def generate_data(dir_path, time_range, window = 2000, thres_win = 25000, step = 10):\n",
    "    \n",
    "    selection_index = int((thres_win - 2000)/10)\n",
    "    \n",
    "    moving_mean = generate_mean_data(dir_path, time_range, window = window, step = 10)[selection_index:]\n",
    "    moving_sd = generate_sd_data(dir_path, time_range, window = window, step = 10)[selection_index:]\n",
    "    moving_thres_crossings = generate_thres_data(dir_path, time_range, window = thres_win, step = 10)\n",
    "    time_label = load_time_label(dir_path, time_range, window = window, step = 10)[selection_index:]\n",
    "    \n",
    "    all_data = np.concatenate((moving_mean, moving_sd, moving_thres_crossings), axis = 1)\n",
    "    \n",
    "    %reset -f in\n",
    "    \n",
    "    return all_data, time_label"
   ]
  },
  {
   "cell_type": "code",
   "execution_count": 3,
   "metadata": {
    "collapsed": true
   },
   "outputs": [
    {
     "name": "stdout",
     "output_type": "stream",
     "text": [
      "Flushing input history\n",
      "Flushing input history\n",
      "Flushing input history\n",
      "Flushing input history\n",
      "Flushing input history\n",
      "Flushing input history\n",
      "Flushing input history\n",
      "Flushing input history\n",
      "Flushing input history\n",
      "Flushing input history\n",
      "Flushing input history\n",
      "Flushing input history\n",
      "Flushing input history\n",
      "Flushing input history\n",
      "Flushing input history\n",
      "Flushing input history\n",
      "Flushing input history\n",
      "Flushing input history\n",
      "Flushing input history\n",
      "Flushing input history\n",
      "Flushing input history\n",
      "Flushing input history\n",
      "Flushing input history\n",
      "Flushing input history\n",
      "Flushing input history\n",
      "Flushing input history\n",
      "Flushing input history\n",
      "Flushing input history\n",
      "Flushing input history\n",
      "Flushing input history\n",
      "Flushing input history\n",
      "Flushing input history\n",
      "Flushing input history\n",
      "Flushing input history\n",
      "Flushing input history\n",
      "Flushing input history\n",
      "Flushing input history\n",
      "Flushing input history\n",
      "Flushing input history\n",
      "Flushing input history\n",
      "X_train's shape:  (597500, 18)\n",
      "X_test's shape:  (197500, 18)\n"
     ]
    }
   ],
   "source": [
    "X_train, train_time = generate_data(\"./data/Ramp22/\", time_range = (-450, -390), window = 2000, step = 10)\n",
    "X_test, test_time = generate_data(\"./data/Ramp22/\", time_range = (-20, 0), window = 2000, step = 10)\n",
    "print(\"X_train's shape: \", X_train.shape)\n",
    "print(\"X_test's shape: \", X_test.shape)"
   ]
  },
  {
   "cell_type": "code",
   "execution_count": 6,
   "metadata": {},
   "outputs": [],
   "source": [
    "from sklearn.preprocessing import MinMaxScaler\n",
    "\n",
    "scaler = MinMaxScaler()\n",
    "\n",
    "scaler.fit(X_train)\n",
    "\n",
    "X_train = scaler.transform(X_train)\n",
    "\n",
    "X_test = scaler.transform(X_test)"
   ]
  },
  {
   "cell_type": "code",
   "execution_count": 7,
   "metadata": {
    "scrolled": false
   },
   "outputs": [
    {
     "name": "stdout",
     "output_type": "stream",
     "text": [
      "Using Keras version:  2.3.1\n",
      "Model: \"sequential_2\"\n",
      "_________________________________________________________________\n",
      "Layer (type)                 Output Shape              Param #   \n",
      "=================================================================\n",
      "dense_7 (Dense)              (None, 12)                228       \n",
      "_________________________________________________________________\n",
      "dense_8 (Dense)              (None, 9)                 117       \n",
      "_________________________________________________________________\n",
      "dense_9 (Dense)              (None, 6)                 60        \n",
      "_________________________________________________________________\n",
      "dense_10 (Dense)             (None, 9)                 63        \n",
      "_________________________________________________________________\n",
      "dense_11 (Dense)             (None, 12)                120       \n",
      "_________________________________________________________________\n",
      "dense_12 (Dense)             (None, 18)                234       \n",
      "=================================================================\n",
      "Total params: 822\n",
      "Trainable params: 822\n",
      "Non-trainable params: 0\n",
      "_________________________________________________________________\n"
     ]
    }
   ],
   "source": [
    "#================BUILD THE MODEL====================\n",
    "print(\"Using Keras version: \", keras.__version__)\n",
    "\n",
    "# Simple model\n",
    "model = models.Sequential()\n",
    "\n",
    "model.add(Dense(12, activation = 'elu', kernel_initializer='glorot_uniform',\n",
    "                kernel_regularizer=regularizers.l2(0.0),\n",
    "                input_dim=X_train.shape[1]))\n",
    "\n",
    "model.add(Dense(9,activation='elu',\n",
    "                kernel_initializer='glorot_uniform'))\n",
    "\n",
    "model.add(Dense(6,activation='elu',\n",
    "                kernel_initializer='glorot_uniform'))\n",
    "\n",
    "model.add(Dense(9,activation='elu',\n",
    "                kernel_initializer='glorot_uniform'))\n",
    "\n",
    "model.add(Dense(12,activation='elu',\n",
    "                kernel_initializer='glorot_uniform'))\n",
    "\n",
    "model.add(Dense(X_train.shape[1],\n",
    "                kernel_initializer='glorot_uniform'))\n",
    "\n",
    "model.compile(loss='mse',optimizer='adam')\n",
    "\n",
    "model.summary()"
   ]
  },
  {
   "cell_type": "code",
   "execution_count": 8,
   "metadata": {
    "scrolled": true
   },
   "outputs": [
    {
     "name": "stdout",
     "output_type": "stream",
     "text": [
      "Train on 537750 samples, validate on 59750 samples\n",
      "Epoch 1/50\n",
      "537750/537750 [==============================] - 5s 9us/step - loss: 6.6126e-04 - val_loss: 9.1111e-05\n",
      "Epoch 2/50\n",
      "537750/537750 [==============================] - 4s 8us/step - loss: 9.9918e-05 - val_loss: 4.4389e-05\n",
      "Epoch 3/50\n",
      "537750/537750 [==============================] - 4s 8us/step - loss: 5.5448e-05 - val_loss: 3.3897e-05\n",
      "Epoch 4/50\n",
      "537750/537750 [==============================] - 5s 9us/step - loss: 4.2834e-05 - val_loss: 3.2314e-05\n",
      "Epoch 5/50\n",
      "537750/537750 [==============================] - 4s 8us/step - loss: 3.9095e-05 - val_loss: 3.1372e-05\n",
      "Epoch 6/50\n",
      "537750/537750 [==============================] - 5s 8us/step - loss: 3.6527e-05 - val_loss: 2.9831e-05\n",
      "Epoch 7/50\n",
      "537750/537750 [==============================] - 5s 10us/step - loss: 3.3809e-05 - val_loss: 2.8880e-05\n",
      "Epoch 8/50\n",
      "537750/537750 [==============================] - 4s 7us/step - loss: 3.1472e-05 - val_loss: 2.6806e-05\n",
      "Epoch 9/50\n",
      "537750/537750 [==============================] - 4s 7us/step - loss: 2.9708e-05 - val_loss: 2.5730e-05\n",
      "Epoch 10/50\n",
      "537750/537750 [==============================] - 4s 8us/step - loss: 2.8503e-05 - val_loss: 2.4662e-05\n",
      "Epoch 11/50\n",
      "537750/537750 [==============================] - 4s 8us/step - loss: 2.7707e-05 - val_loss: 2.3468e-05\n",
      "Epoch 12/50\n",
      "537750/537750 [==============================] - 4s 8us/step - loss: 2.6672e-05 - val_loss: 2.2482e-05\n",
      "Epoch 13/50\n",
      "537750/537750 [==============================] - 4s 8us/step - loss: 2.5593e-05 - val_loss: 2.0741e-05\n",
      "Epoch 14/50\n",
      "537750/537750 [==============================] - 4s 8us/step - loss: 2.4328e-05 - val_loss: 1.9375e-05\n",
      "Epoch 15/50\n",
      "537750/537750 [==============================] - 4s 7us/step - loss: 2.3137e-05 - val_loss: 1.8033e-05\n",
      "Epoch 16/50\n",
      "537750/537750 [==============================] - 4s 8us/step - loss: 2.2196e-05 - val_loss: 1.9092e-05\n",
      "Epoch 17/50\n",
      "537750/537750 [==============================] - 5s 9us/step - loss: 2.1366e-05 - val_loss: 1.7650e-05\n",
      "Epoch 18/50\n",
      "537750/537750 [==============================] - 4s 8us/step - loss: 2.0550e-05 - val_loss: 1.7158e-05\n",
      "Epoch 19/50\n",
      "537750/537750 [==============================] - 4s 8us/step - loss: 1.9943e-05 - val_loss: 1.6390e-05\n",
      "Epoch 20/50\n",
      "537750/537750 [==============================] - 5s 8us/step - loss: 1.9223e-05 - val_loss: 1.6408e-05\n",
      "Epoch 21/50\n",
      "537750/537750 [==============================] - 4s 8us/step - loss: 1.8823e-05 - val_loss: 1.6522e-05\n",
      "Epoch 22/50\n",
      "537750/537750 [==============================] - 4s 8us/step - loss: 1.8512e-05 - val_loss: 1.6462e-05\n",
      "Epoch 23/50\n",
      "537750/537750 [==============================] - 4s 8us/step - loss: 1.8099e-05 - val_loss: 1.7325e-05\n",
      "Epoch 24/50\n",
      "537750/537750 [==============================] - 4s 7us/step - loss: 1.7819e-05 - val_loss: 1.6302e-05\n",
      "Epoch 25/50\n",
      "537750/537750 [==============================] - 4s 8us/step - loss: 1.7636e-05 - val_loss: 1.6491e-05\n",
      "Epoch 26/50\n",
      "537750/537750 [==============================] - 4s 8us/step - loss: 1.7522e-05 - val_loss: 1.6735e-05\n",
      "Epoch 27/50\n",
      "537750/537750 [==============================] - 5s 9us/step - loss: 1.7273e-05 - val_loss: 1.6072e-05\n",
      "Epoch 28/50\n",
      "537750/537750 [==============================] - 5s 10us/step - loss: 1.7173e-05 - val_loss: 1.6558e-05\n",
      "Epoch 29/50\n",
      "537750/537750 [==============================] - 4s 7us/step - loss: 1.7049e-05 - val_loss: 1.5952e-05\n",
      "Epoch 30/50\n",
      "537750/537750 [==============================] - 5s 8us/step - loss: 1.6936e-05 - val_loss: 1.5867e-05\n",
      "Epoch 31/50\n",
      "537750/537750 [==============================] - 4s 8us/step - loss: 1.6810e-05 - val_loss: 1.6405e-05\n",
      "Epoch 32/50\n",
      "537750/537750 [==============================] - 5s 8us/step - loss: 1.6736e-05 - val_loss: 1.6278e-05\n",
      "Epoch 33/50\n",
      "537750/537750 [==============================] - 5s 9us/step - loss: 1.6659e-05 - val_loss: 1.5976e-05\n",
      "Epoch 34/50\n",
      "537750/537750 [==============================] - 5s 9us/step - loss: 1.6596e-05 - val_loss: 1.5673e-05\n",
      "Epoch 35/50\n",
      "537750/537750 [==============================] - 4s 8us/step - loss: 1.6492e-05 - val_loss: 1.5766e-05\n",
      "Epoch 36/50\n",
      "537750/537750 [==============================] - 5s 9us/step - loss: 1.6399e-05 - val_loss: 1.6056e-05\n",
      "Epoch 37/50\n",
      "537750/537750 [==============================] - 4s 8us/step - loss: 1.6405e-05 - val_loss: 1.5461e-05\n",
      "Epoch 38/50\n",
      "537750/537750 [==============================] - 4s 7us/step - loss: 1.6335e-05 - val_loss: 1.5873e-05\n",
      "Epoch 39/50\n",
      "537750/537750 [==============================] - 5s 9us/step - loss: 1.6278e-05 - val_loss: 1.5805e-05\n",
      "Epoch 40/50\n",
      "537750/537750 [==============================] - 4s 8us/step - loss: 1.6216e-05 - val_loss: 1.6302e-05\n",
      "Epoch 41/50\n",
      "537750/537750 [==============================] - 5s 10us/step - loss: 1.6171e-05 - val_loss: 1.6007e-05\n",
      "Epoch 42/50\n",
      "537750/537750 [==============================] - 4s 8us/step - loss: 1.6116e-05 - val_loss: 1.5434e-05\n",
      "Epoch 43/50\n",
      "537750/537750 [==============================] - 4s 8us/step - loss: 1.6100e-05 - val_loss: 1.6388e-05\n",
      "Epoch 44/50\n",
      "537750/537750 [==============================] - 5s 9us/step - loss: 1.6035e-05 - val_loss: 1.5720e-05\n",
      "Epoch 45/50\n",
      "537750/537750 [==============================] - 5s 9us/step - loss: 1.6043e-05 - val_loss: 1.5782e-05\n",
      "Epoch 46/50\n",
      "537750/537750 [==============================] - 5s 9us/step - loss: 1.6033e-05 - val_loss: 1.5824e-05\n",
      "Epoch 47/50\n",
      "537750/537750 [==============================] - 4s 8us/step - loss: 1.5937e-05 - val_loss: 1.5661e-05\n",
      "Epoch 48/50\n",
      "537750/537750 [==============================] - 5s 8us/step - loss: 1.5951e-05 - val_loss: 1.5950e-05\n",
      "Epoch 49/50\n",
      "537750/537750 [==============================] - 4s 8us/step - loss: 1.5900e-05 - val_loss: 1.5286e-05\n",
      "Epoch 50/50\n",
      "537750/537750 [==============================] - 5s 9us/step - loss: 1.5841e-05 - val_loss: 1.5827e-05\n"
     ]
    }
   ],
   "source": [
    "# Train model for 100 epochs, batch size of 10: \n",
    "NUM_EPOCHS=50\n",
    "BATCH_SIZE=1028\n",
    "\n",
    "history=model.fit(X_train, X_train,\n",
    "                  batch_size=BATCH_SIZE, \n",
    "                  epochs=NUM_EPOCHS,\n",
    "                  validation_split=0.1,\n",
    "                  verbose = 1)"
   ]
  },
  {
   "cell_type": "code",
   "execution_count": 9,
   "metadata": {},
   "outputs": [],
   "source": [
    "X_pred = model.predict(X_train)\n",
    "scored = pd.DataFrame()\n",
    "scored['Loss_mse'] = np.mean(np.abs(X_pred-X_train), axis = 1)"
   ]
  },
  {
   "cell_type": "code",
   "execution_count": 10,
   "metadata": {},
   "outputs": [],
   "source": [
    "X_pred_test = model.predict(X_test)\n",
    "scored_test = pd.DataFrame()\n",
    "scored_test['Loss_mse'] = np.mean(np.abs(X_pred_test-X_test), axis = 1)"
   ]
  },
  {
   "cell_type": "code",
   "execution_count": 16,
   "metadata": {
    "scrolled": true
   },
   "outputs": [
    {
     "data": {
      "text/plain": [
       "Text(0.5, 0, 'Time (s)')"
      ]
     },
     "execution_count": 16,
     "metadata": {},
     "output_type": "execute_result"
    },
    {
     "data": {
      "image/png": "[encoded data removed]",
      "text/plain": [
       "<Figure size 1440x144 with 1 Axes>"
      ]
     },
     "metadata": {
      "needs_background": "light"
     },
     "output_type": "display_data"
    }
   ],
   "source": [
    "plt.figure(figsize=(20,2))\n",
    "plt.plot(train_time, scored['Loss_mse'])\n",
    "plt.ylim([0, 1])\n",
    "plt.xlabel(\"Time (s)\")"
   ]
  },
  {
   "cell_type": "code",
   "execution_count": 15,
   "metadata": {},
   "outputs": [
    {
     "data": {
      "text/plain": [
       "Text(0.5, 0, 'Time (s)')"
      ]
     },
     "execution_count": 15,
     "metadata": {},
     "output_type": "execute_result"
    },
    {
     "data": {
      "image/png": "[encoded data removed]",
      "text/plain": [
       "<Figure size 1440x144 with 1 Axes>"
      ]
     },
     "metadata": {
      "needs_background": "light"
     },
     "output_type": "display_data"
    }
   ],
   "source": [
    "plt.figure(figsize=(20,2))\n",
    "plt.plot(test_time, scored_test['Loss_mse'])\n",
    "plt.ylim([0, 1])\n",
    "#plt.xlim([-100,0])\n",
    "plt.xlabel(\"Time (s)\")"
   ]
  },
  {
   "cell_type": "code",
   "execution_count": null,
   "metadata": {},
   "outputs": [],
   "source": []
  }
 ],
 "metadata": {
  "kernelspec": {
   "display_name": "Python 3",
   "language": "python",
   "name": "python3"
  },
  "language_info": {
   "codemirror_mode": {
    "name": "ipython",
    "version": 3
   },
   "file_extension": ".py",
   "mimetype": "text/x-python",
   "name": "python",
   "nbconvert_exporter": "python",
   "pygments_lexer": "ipython3",
   "version": "3.7.6"
  }
 },
 "nbformat": 4,
 "nbformat_minor": 4
}
