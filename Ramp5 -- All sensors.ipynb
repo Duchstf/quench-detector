{
 "cells": [
  {
   "cell_type": "markdown",
   "metadata": {},
   "source": [
    "# Ramp 5 with all sensors' data"
   ]
  },
  {
   "cell_type": "code",
   "execution_count": 1,
   "metadata": {},
   "outputs": [
    {
     "name": "stderr",
     "output_type": "stream",
     "text": [
      "\n",
      "Bad key \"text.kerning_factor\" on line 4 in\n",
      "/uscms_data/d3/dhoang/miniconda3/lib/python3.7/site-packages/matplotlib/mpl-data/stylelib/_classic_test_patch.mplstyle.\n",
      "You probably need to get an updated matplotlibrc file from\n",
      "https://github.com/matplotlib/matplotlib/blob/v3.1.3/matplotlibrc.template\n",
      "or from the matplotlib source distribution\n",
      "Using TensorFlow backend.\n"
     ]
    }
   ],
   "source": [
    "#Data processing\n",
    "import os\n",
    "import pandas as pd\n",
    "import numpy as np\n",
    "import matplotlib.pyplot as plt\n",
    "import seaborn as sns\n",
    "from nptdms import TdmsFile #Process ramping file\n",
    "\n",
    "#For building ML models\n",
    "import keras\n",
    "import keras.models as models\n",
    "from keras.layers.core import Dense\n",
    "from keras import regularizers"
   ]
  },
  {
   "cell_type": "markdown",
   "metadata": {},
   "source": [
    "## 0. Helper functions"
   ]
  },
  {
   "cell_type": "code",
   "execution_count": 2,
   "metadata": {},
   "outputs": [],
   "source": [
    "def read_data_from_single_file(filepath):\n",
    "    \"\"\"Read in quench data from a given file, return a pandas dafa frame\"\"\"\n",
    "    \n",
    "    data_dict= {}\n",
    "    \n",
    "    with open(filepath) as f:\n",
    "        content = f.readlines()\n",
    "    #Remove`\\n` at the end of each line\n",
    "    content = [x.strip() for x in content]\n",
    "    \n",
    "    column_names = content[0].split(\" \")\n",
    "    data = [content[i].split(\"   \") for i in range(1, len(content))] \n",
    "    \n",
    "    for i in range(len(column_names)):\n",
    "        data_dict[column_names[i]] = [float(x[i]) for x in data]\n",
    "        \n",
    "    data_frame = pd.DataFrame(data_dict)\n",
    "    \n",
    "    return data_frame\n",
    "\n",
    "def read_quench_data(area_path, quench_name):\n",
    "    \"\"\"\n",
    "    Read the quench data from the provided file path, note that there are five quenches so we need to concatenate them together.\n",
    "    Just need to provide the quench's name, for e.g: \"./data/mqxfs1b.Quench.161011115654\"\n",
    "    \"\"\"\n",
    "    \n",
    "    data_list = []\n",
    "    \n",
    "    \n",
    "    num_file = 0 #Number of separate data files for this quench, assuming at least one\n",
    "    \n",
    "    for filename in os.listdir(area_path):\n",
    "        if filename.startswith(quench_name) and not filename.endswith(\".tar.gz\"):\n",
    "            #print(\"Reading file ... \" + filename)\n",
    "            if num_file == 0:\n",
    "                try:\n",
    "                    data_list.append(read_data_from_single_file(area_path + filename)) #read first file separately\n",
    "                except:\n",
    "                    pass\n",
    "            else:\n",
    "                try:\n",
    "                    data_list.append(read_data_from_single_file(area_path + filename).drop(columns = [\"time\"])) #Time is already saved in the first file\n",
    "                except:\n",
    "                    pass\n",
    "            num_file += 1\n",
    "                                 \n",
    "    #print(\"Total number of data files for {}: \".format(quench_name), num_file)\n",
    "    \n",
    "    if len(data_list) != 0:\n",
    "        data = pd.concat(data_list, axis = 1) #Concatenate all data files together\n",
    "        return data\n",
    "    else:\n",
    "        print(\"Returning None due to file errors in \" + quench_name)\n",
    "        return None\n",
    "\n",
    "def read_all_quench_in_area(area_path):\n",
    "    \"\"\"\n",
    "    Read all quench's files in the area and return a dictionary of different quench's data. name is the magnet's name\n",
    "    \"\"\"\n",
    "    data = {}\n",
    "    \n",
    "    index = 1 #For indexing different quench\n",
    "\n",
    "    for filename in os.listdir(area_path):\n",
    "        if filename.endswith(\".tar.gz\"): \n",
    "            #print(\"Reading data from ... \" + filename[0:-7])\n",
    "            data[filename[0:-7]] = read_quench_data(area_path, filename[0:-7])\n",
    "            index += 1\n",
    "            \n",
    "    #print(\"Completed. There are {} quenches in total.\".format(str(index - 1)))\n",
    "    \n",
    "    return data\n",
    "\n",
    "def plot_variables_with_time(data, variables = None, time_range = None):\n",
    "    \"\"\"\n",
    "    Take a data frame, and plot all other variables with time.\n",
    "    Optional argument: time_range to specify the range to plot, default is to plot all time. Example argument\n",
    "    is (start_time, end_time)\n",
    "    \"\"\"\n",
    "    start = min(data[\"time\"])\n",
    "    end = max(data[\"time\"])\n",
    "    \n",
    "    if time_range:\n",
    "        start = time_range[0]\n",
    "        end = time_range[1]\n",
    "        \n",
    "    data = data[(data[\"time\"] > start) & (data[\"time\"] < end)]\n",
    "    \n",
    "    if variables:\n",
    "        for variable in variables:\n",
    "            plt.figure(figsize=(20,2))\n",
    "            plt.plot(data[\"time\"], data[variable])\n",
    "            plt.xlabel(\"Time (s)\")\n",
    "            plt.title(\"Variable {}\".format(variable))\n",
    "            plt.show()\n",
    "        \n",
    "    else:      \n",
    "        #If variables not specified then just plot all \n",
    "        for variable in data.columns[1:]:\n",
    "            plt.figure(figsize=(25,2))\n",
    "            plt.plot(data[\"time\"], data[variable])\n",
    "            plt.xlabel(\"Time (s)\")\n",
    "            plt.title(\"Variable {}\".format(variable))\n",
    "            plt.show()\n",
    "\n",
    "def plot_statistics(data, variables = None, time_range = None, window = 100):\n",
    "    \"\"\"Take a data frame and plot the variable with its moving average and real data in the specified range, if\n",
    "    variables are not specified then just plot all variables by default\"\"\"\n",
    "    #Pickout the data\n",
    "    start = min(data[\"time\"])\n",
    "    end = max(data[\"time\"])\n",
    "    \n",
    "    if time_range:\n",
    "        start = time_range[0]\n",
    "        end = time_range[1]\n",
    "        \n",
    "    data = data[(data[\"time\"] > start) & (data[\"time\"] < end)]\n",
    "    \n",
    "    def plot_signal_and_statistics(variable):\n",
    "        # Plotted by calculating Simple Moving Average (SMA)\n",
    "        plt.figure(figsize=(20,2))\n",
    "        plt.plot(data[\"time\"], data[variable], label = \"Signal with noise\")\n",
    "        plt.plot(data[\"time\"], data.loc[:, variable].rolling(window=window).mean(),label = \"Moving average\")\n",
    "        #plt.plot(data[\"time\"], data.loc[:, variable].rolling(window=window).min(),label = \"Moving min\")\n",
    "        #plt.plot(data[\"time\"], data.loc[:, variable].rolling(window=window).max(),label = \"Moving max\")\n",
    "        plt.legend(loc = \"best\")\n",
    "        plt.xlabel(\"Time (s)\")\n",
    "        plt.title(\"Variable {}\".format(variable))\n",
    "        plt.show()\n",
    "        \n",
    "        \n",
    "        #Variance\n",
    "        plt.figure(figsize=(20,2))\n",
    "        plt.plot(data[\"time\"], data.loc[:, variable].rolling(window=window).std(),\n",
    "                 label = \"Variance\",\n",
    "                 color = 'red')\n",
    "        plt.xlabel(\"Time (s)\")\n",
    "        plt.title(\"Variable {}'s Variance\".format(variable))\n",
    "        plt.show()\n",
    "        \n",
    "        #Kurtosis\n",
    "        plt.figure(figsize=(20,2))\n",
    "        plt.plot(data[\"time\"], data.loc[:, variable].rolling(window=window).kurt(),\n",
    "                 label = \"Kurtosis\",\n",
    "                 color = 'green')\n",
    "        plt.xlabel(\"Time (s)\")\n",
    "        plt.title(\"Variable {}'s Kurtosis\".format(variable))\n",
    "        plt.show()\n",
    "        \n",
    "        #Skew\n",
    "        plt.figure(figsize=(20,2))\n",
    "        plt.plot(data[\"time\"], data.loc[:, variable].rolling(window=window).skew(),\n",
    "                 label = \"Skew\",\n",
    "                 color = 'purple')\n",
    "        plt.xlabel(\"Time (s)\")\n",
    "        plt.title(\"Variable {}'s Skew\".format(variable))\n",
    "        plt.show()\n",
    "        \n",
    "        \"\"\"\n",
    "        #Quantile\n",
    "        plt.figure(figsize=(20,2))\n",
    "        plt.plot(data[\"time\"], data.loc[:, variable].rolling(window=window).quantile(0.25), label = \"Quantile 25\",\n",
    "                 color = 'red')\n",
    "        plt.plot(data[\"time\"], data.loc[:, variable].rolling(window=window).quantile(0.75), label = \"Quantile 75\",\n",
    "                 color = 'orange')\n",
    "        plt.plot(data[\"time\"], data.loc[:, variable].rolling(window=window).quantile(0.50), label = \"Quantile 50\",\n",
    "                 color = 'green')\n",
    "        plt.legend(loc = \"best\")\n",
    "        plt.title(\"Variable {}'s Quantile\".format(variable))\n",
    "        plt.show()\n",
    "        \"\"\"\n",
    "        \n",
    "    #Plot\n",
    "    if variables:\n",
    "        for variable in variables:\n",
    "            print(variable)\n",
    "            plot_signal_and_statistics(variable)         \n",
    "    else:\n",
    "        for variable in data.columns[1:]:\n",
    "            print(variable)\n",
    "            plot_signal_and_statistics(variable)\n",
    "    \n",
    "    %reset -f in\n",
    "\n",
    "def plot_variable(data_dict, variable, time_range = None, window = 100):\n",
    "    for quench_name in data_dict.keys():\n",
    "        print(\"Quench's index: \" + quench_name)\n",
    "        if data_dict[quench_name] is not None:\n",
    "            if variable[0] in list(data_dict[quench_name].columns):\n",
    "                plot_statistics(data_dict[quench_name], variables = variable, time_range=time_range, window=window)"
   ]
  },
  {
   "cell_type": "code",
   "execution_count": 3,
   "metadata": {},
   "outputs": [],
   "source": [
    "def read_data_from_single_file(filepath):\n",
    "    \"\"\"Read in quench data from a given file, return a pandas dafa frame\"\"\"\n",
    "    \n",
    "    data_dict= {}\n",
    "    \n",
    "    with open(filepath) as f:\n",
    "        content = f.readlines()\n",
    "    #Remove`\\n` at the end of each line\n",
    "    content = [x.strip() for x in content]\n",
    "    \n",
    "    column_names = content[0].split(\" \")\n",
    "    data = [content[i].split(\"   \") for i in range(1, len(content))] \n",
    "    \n",
    "    for i in range(len(column_names)):\n",
    "        data_dict[column_names[i]] = [float(x[i]) for x in data]\n",
    "        \n",
    "    data_frame = pd.DataFrame(data_dict)\n",
    "    \n",
    "    return data_frame\n",
    "\n",
    "def read_quench_data(area_path, quench_name):\n",
    "    \"\"\"\n",
    "    Read the quench data from the provided file path, note that there are five quenches so we need to concatenate them together.\n",
    "    Just need to provide the quench's name, for e.g: \"./data/mqxfs1b.Quench.161011115654\"\n",
    "    \"\"\"\n",
    "    \n",
    "    data_list = []\n",
    "    \n",
    "    \n",
    "    num_file = 0 #Number of separate data files for this quench, assuming at least one\n",
    "    \n",
    "    for filename in os.listdir(area_path):\n",
    "        if filename.startswith(quench_name) and not filename.endswith(\".tar.gz\"):\n",
    "            #print(\"Reading file ... \" + filename)\n",
    "            if num_file == 0:\n",
    "                try:\n",
    "                    data_list.append(read_data_from_single_file(area_path + filename)) #read first file separately\n",
    "                except:\n",
    "                    pass\n",
    "            else:\n",
    "                try:\n",
    "                    data_list.append(read_data_from_single_file(area_path + filename).drop(columns = [\"time\"])) #Time is already saved in the first file\n",
    "                except:\n",
    "                    pass\n",
    "            num_file += 1\n",
    "                                 \n",
    "    #print(\"Total number of data files for {}: \".format(quench_name), num_file)\n",
    "    \n",
    "    if len(data_list) != 0:\n",
    "        data = pd.concat(data_list, axis = 1) #Concatenate all data files together\n",
    "        return data\n",
    "    else:\n",
    "        print(\"Returning None due to file errors in \" + quench_name)\n",
    "        return None\n",
    "\n",
    "def read_all_quench_in_area(area_path):\n",
    "    \"\"\"\n",
    "    Read all quench's files in the area and return a dictionary of different quench's data. name is the magnet's name\n",
    "    \"\"\"\n",
    "    data = {}\n",
    "    \n",
    "    index = 1 #For indexing different quench\n",
    "\n",
    "    for filename in os.listdir(area_path):\n",
    "        if filename.endswith(\".tar.gz\"): \n",
    "            #print(\"Reading data from ... \" + filename[0:-7])\n",
    "            data[filename[0:-7]] = read_quench_data(area_path, filename[0:-7])\n",
    "            index += 1\n",
    "            \n",
    "    #print(\"Completed. There are {} quenches in total.\".format(str(index - 1)))\n",
    "    \n",
    "    return data\n",
    "\n",
    "def plot_variables_with_time(data, variables = None, time_range = None):\n",
    "    \"\"\"\n",
    "    Take a data frame, and plot all other variables with time.\n",
    "    Optional argument: time_range to specify the range to plot, default is to plot all time. Example argument\n",
    "    is (start_time, end_time)\n",
    "    \"\"\"\n",
    "    start = min(data[\"time\"])\n",
    "    end = max(data[\"time\"])\n",
    "    \n",
    "    if time_range:\n",
    "        start = time_range[0]\n",
    "        end = time_range[1]\n",
    "        \n",
    "    data = data[(data[\"time\"] > start) & (data[\"time\"] < end)]\n",
    "    \n",
    "    if variables:\n",
    "        for variable in variables:\n",
    "            plt.figure(figsize=(20,2))\n",
    "            plt.plot(data[\"time\"], data[variable])\n",
    "            plt.xlabel(\"Time (s)\")\n",
    "            plt.title(\"Variable {}\".format(variable))\n",
    "            plt.show()\n",
    "        \n",
    "    else:      \n",
    "        #If variables not specified then just plot all \n",
    "        for variable in data.columns[1:]:\n",
    "            plt.figure(figsize=(25,2))\n",
    "            plt.plot(data[\"time\"], data[variable])\n",
    "            plt.xlabel(\"Time (s)\")\n",
    "            plt.title(\"Variable {}\".format(variable))\n",
    "            plt.show()\n",
    "\n",
    "def plot_statistics(data, variables = None, time_range = None, window = 100):\n",
    "    \"\"\"Take a data frame and plot the variable with its moving average and real data in the specified range, if\n",
    "    variables are not specified then just plot all variables by default\"\"\"\n",
    "    #Pickout the data\n",
    "    start = min(data[\"time\"])\n",
    "    end = max(data[\"time\"])\n",
    "    \n",
    "    if time_range:\n",
    "        start = time_range[0]\n",
    "        end = time_range[1]\n",
    "        \n",
    "    data = data[(data[\"time\"] > start) & (data[\"time\"] < end)]\n",
    "    \n",
    "    def plot_signal_and_statistics(variable):\n",
    "        # Plotted by calculating Simple Moving Average (SMA)\n",
    "        plt.figure(figsize=(20,2))\n",
    "        \n",
    "        plt.plot(data[\"time\"], data[variable], label = \"Signal with noise\")\n",
    "        \n",
    "        #plt.plot(data[\"time\"], data.loc[:, variable].rolling(window=window).mean(),label = \"Moving average\")\n",
    "        #plt.plot(data[\"time\"], data.loc[:, variable].rolling(window=window).min(),label = \"Moving min\")\n",
    "        #plt.plot(data[\"time\"], data.loc[:, variable].rolling(window=window).max(),label = \"Moving max\")\n",
    "        plt.legend(loc = \"best\")\n",
    "        plt.xlabel(\"Time (s)\")\n",
    "        plt.title(\"Variable {}\".format(variable))\n",
    "        plt.show()\n",
    "        \n",
    "\n",
    "        #Variance\n",
    "        plt.figure(figsize=(20,2))\n",
    "        plt.plot(data[\"time\"], data.loc[:, variable].rolling(window=window).std(),\n",
    "                 label = \"Standard Deviation\",\n",
    "                 color = 'red')\n",
    "        plt.xlabel(\"Time (s)\")\n",
    "        plt.title(\"Variable {}'s Standard Deviation\".format(variable))\n",
    "        plt.show()\n",
    "        \n",
    "        #Kurtosis\n",
    "        plt.figure(figsize=(20,2))\n",
    "        plt.plot(data[\"time\"], data.loc[:, variable].rolling(window=window).kurt(),\n",
    "                 label = \"Kurtosis\",\n",
    "                 color = 'green')\n",
    "        plt.xlabel(\"Time (s)\")\n",
    "        plt.title(\"Variable {}'s Kurtosis\".format(variable))\n",
    "        plt.show()\n",
    "        \n",
    "        #Skew\n",
    "        plt.figure(figsize=(20,2))\n",
    "        plt.plot(data[\"time\"], data.loc[:, variable].rolling(window=window).skew(),\n",
    "                 label = \"Skew\",\n",
    "                 color = 'purple')\n",
    "        plt.xlabel(\"Time (s)\")\n",
    "        plt.title(\"Variable {}'s Skew\".format(variable))\n",
    "        plt.show()\n",
    "        \n",
    "        \"\"\"\n",
    "        #Quantile\n",
    "        plt.figure(figsize=(20,2))\n",
    "        plt.plot(data[\"time\"], data.loc[:, variable].rolling(window=window).quantile(0.25), label = \"Quantile 25\",\n",
    "                 color = 'red')\n",
    "        plt.plot(data[\"time\"], data.loc[:, variable].rolling(window=window).quantile(0.75), label = \"Quantile 75\",\n",
    "                 color = 'orange')\n",
    "        plt.plot(data[\"time\"], data.loc[:, variable].rolling(window=window).quantile(0.50), label = \"Quantile 50\",\n",
    "                 color = 'green')\n",
    "        plt.legend(loc = \"best\")\n",
    "        plt.title(\"Variable {}'s Quantile\".format(variable))\n",
    "        plt.show()\n",
    "        \"\"\"\n",
    "        \n",
    "    #Plot\n",
    "    if variables:\n",
    "        for variable in variables:\n",
    "            print(variable)\n",
    "            plot_signal_and_statistics(variable)         \n",
    "    else:\n",
    "        for variable in data.columns[1:]:\n",
    "            print(variable)\n",
    "            plot_signal_and_statistics(variable)\n",
    "    \n",
    "    %reset -f in\n",
    "\n",
    "def plot_variable(data_dict, variable, time_range = None, window = 100):\n",
    "    for quench_name in data_dict.keys():\n",
    "        print(\"Quench's index: \" + quench_name)\n",
    "        if data_dict[quench_name] is not None:\n",
    "            if variable[0] in list(data_dict[quench_name].columns):\n",
    "                plot_statistics(data_dict[quench_name], variables = variable, time_range=time_range, window=window)\n",
    "\n",
    "\n",
    "########### PROCESS RAMPING DATA ###############\n",
    "def read_tdms_file(filepath):\n",
    "    \"\"\"Read the tdms file from a given path, return a pandas data frame of the tdms file\"\"\"\n",
    "    tdms_file = TdmsFile.read(data_path)\n",
    "    \n",
    "    data_frame = tdms_file.as_dataframe()\n",
    "    \n",
    "    del tdms_file\n",
    "    \n",
    "    #Just the last 3 symbols in columns name matter ('/'_unnamedTask<3>'/'PXI2Slot14/ai0') -> ai0\n",
    "    #Rename the columns\n",
    "    rename_map = []\n",
    "    \n",
    "    for column in data_frame.columns:\n",
    "        rename_map.append(column[-4:-1])\n",
    "    \n",
    "    data_frame.columns = rename_map\n",
    "    \n",
    "    #Add time axis relative to the time when quench happens\n",
    "    time_range = np.asarray(range(data_frame.shape[0]))\n",
    "    \n",
    "\n",
    "    #Center around the max value (quench happens at 0 time)\n",
    "    max_index = data_frame['ai7'].idxmax()\n",
    "    time_range -= max_index\n",
    "    time_range = time_range.astype('float32')\n",
    "    \n",
    "    #Multiply by datarate\n",
    "    time_range = np.multiply(time_range, 1e-5, out=time_range, casting=\"unsafe\")\n",
    "    \n",
    "    data_frame['time'] = time_range\n",
    "    \n",
    "    return data_frame\n",
    "\n",
    "def break_tdms_to_files(file_path):\n",
    "    \"\"\"Read the tdms file and break it into several files according to channels in a new directory\"\"\"\n",
    "    tdms_file = TdmsFile.read(file_path)\n",
    "    \n",
    "    data_frame = tdms_file.as_dataframe()\n",
    "    \n",
    "    del tdms_file\n",
    "    \n",
    "    os.mkdir(\"./data/\" + file_path[-10:-5])\n",
    "    \n",
    "    for channel in data_frame.columns:\n",
    "        np.save(\"./data/{}/{}\".format(file_path[-10:-5], channel[-4:-1]), data_frame.loc[:, channel].to_numpy())\n",
    "\n",
    "def calculate_time(dir_path):\n",
    "    \"\"\"Take a tdms file directory path (after the file is broken up), and calculate and output a time file.\"\"\"\n",
    "    \n",
    "    ai7 = np.load(dir_path + \"ai7.npy\")\n",
    "    \n",
    "    #Add time axis relative to the time when quench happens\n",
    "    time_range = np.asarray(range(ai7.shape[0]))\n",
    "    \n",
    "    #Center around the max value (quench happens at 0 time)\n",
    "    max_index = np.argmax(ai7)\n",
    "    time_range -= max_index\n",
    "    time_range = time_range.astype('float32')\n",
    "    \n",
    "    #Multiply by datarate\n",
    "    time_range = np.multiply(time_range, 1e-5, out=time_range, casting=\"unsafe\")\n",
    "    \n",
    "    np.save(dir_path + \"time\", time_range)\n",
    "\n",
    "def load_channel_and_time(dir_path, channel):\n",
    "    data_frame = pd.DataFrame(data = {channel: np.load(dir_path + channel + \".npy\"),\n",
    "                                     \"time\": np.load(dir_path + \"time.npy\")})\n",
    "    return data_frame\n",
    "\n",
    "def plot_channel(data, channel, time_range = None):\n",
    "    start = min(data[\"time\"])\n",
    "    end = max(data[\"time\"])\n",
    "    \n",
    "    if time_range:\n",
    "        start = time_range[0]\n",
    "        end = time_range[1]\n",
    "        \n",
    "    data = data[(data[\"time\"] > start) & (data[\"time\"] < end)]\n",
    "    \n",
    "    plt.figure(figsize=(20,2))\n",
    "    plt.plot(data[\"time\"], data[channel])\n",
    "    plt.title(\"Variable {}\".format(channel))\n",
    "    plt.show()\n",
    "    \n",
    "    %reset -f in\n",
    "\n",
    "def load_and_plot(dir_path, channel, time_range = None, stat = False, window = 100):\n",
    "    ai = load_channel_and_time(dir_path, channel)\n",
    "    \n",
    "    if stat:\n",
    "        plot_statistics(ai, variables = [channel], time_range = time_range, window = window)\n",
    "    else:\n",
    "        plot_channel(ai, channel, time_range = time_range)\n",
    "    \n",
    "    %reset -f in"
   ]
  },
  {
   "cell_type": "code",
   "execution_count": 4,
   "metadata": {},
   "outputs": [],
   "source": [
    "def generate_data(dir_path, channel, time_range, window = 1000, step = 10):\n",
    "    #Load the data\n",
    "    data = load_channel_and_time(dir_path, channel)\n",
    "    \n",
    "    #Select the part\n",
    "    start = time_range[0]\n",
    "    end = time_range[1]\n",
    "    data = data[(data[\"time\"] > start) & (data[\"time\"] < end)]\n",
    "    \n",
    "    #Calculate the statistics\n",
    "    #data[\"Mean\"] = data.loc[:, channel].rolling(window=window).mean()\n",
    "    data[\"SD\"] = data.loc[:, channel].rolling(window=window).std()\n",
    "    data[\"Kurtosis\"] = data.loc[:, channel].rolling(window=window).kurt()\n",
    "    data[\"Skew\"] = data.loc[:, channel].rolling(window=window).skew()\n",
    "    \n",
    "    select_list = [channel, \"SD\", \"Kurtosis\", \"Skew\"]\n",
    "    \n",
    "    assert data[select_list].to_numpy()[window-1::step].shape[0] == data['time'].to_numpy()[window-1::step].shape[0]\n",
    "    \n",
    "    %reset -f in\n",
    "    \n",
    "    return data[select_list].to_numpy()[window-1::step], data['time'].to_numpy()[window-1::step]\n",
    "\n",
    "def generate_data_no_time(dir_path, channel, time_range, window = 1000, step = 10):\n",
    "    #Load the data\n",
    "    data = load_channel_and_time(dir_path, channel)\n",
    "    \n",
    "    #Select the part\n",
    "    start = time_range[0]\n",
    "    end = time_range[1]\n",
    "    data = data[(data[\"time\"] > start) & (data[\"time\"] < end)]\n",
    "    \n",
    "    #Calculate the statistics\n",
    "    #data[\"Mean\"] = data.loc[:, channel].rolling(window=window).mean()\n",
    "    data[\"SD\"] = data.loc[:, channel].rolling(window=window).std()\n",
    "    data[\"Kurtosis\"] = data.loc[:, channel].rolling(window=window).kurt()\n",
    "    data[\"Skew\"] = data.loc[:, channel].rolling(window=window).skew()\n",
    "    \n",
    "    select_list = [channel, \"SD\", \"Kurtosis\", \"Skew\"]\n",
    "    \n",
    "    %reset -f in\n",
    "    \n",
    "    return data[select_list].to_numpy()[window-1::step]\n",
    "\n",
    "def generate_data_all_sensors(dir_path, time_range, window = 1000, step = 10):\n",
    "    \n",
    "    ai0, time = generate_data(dir_path, \"ai0\", time_range = time_range, window = window, step = step)\n",
    "    ai1 = generate_data_no_time(dir_path, \"ai1\", time_range = time_range, window = window, step = step)\n",
    "    ai2 = generate_data_no_time(dir_path, \"ai2\", time_range = time_range, window = window, step = step)\n",
    "    ai3 = generate_data_no_time(dir_path, \"ai3\", time_range = time_range, window = window, step = step)\n",
    "    ai4 = generate_data_no_time(dir_path, \"ai4\", time_range = time_range, window = window, step = step)\n",
    "    \n",
    "    all_channels = np.concatenate((ai0,ai1,ai2,ai3,ai4), axis = 1)\n",
    "    \n",
    "    %reset -f in\n",
    "    \n",
    "    return all_channels, time"
   ]
  },
  {
   "cell_type": "markdown",
   "metadata": {},
   "source": [
    "## 1. Window size: 100ms; Step size: 100us"
   ]
  },
  {
   "cell_type": "code",
   "execution_count": 5,
   "metadata": {
    "collapsed": true
   },
   "outputs": [
    {
     "name": "stdout",
     "output_type": "stream",
     "text": [
      "Flushing input history\n",
      "Flushing input history\n",
      "Flushing input history\n",
      "Flushing input history\n",
      "Flushing input history\n",
      "Flushing input history\n",
      "Flushing input history\n",
      "Flushing input history\n",
      "Flushing input history\n",
      "Flushing input history\n",
      "Flushing input history\n",
      "Flushing input history\n",
      "X_train's shape:  (999000, 20)\n",
      "X_test's shape:  (399000, 20)\n"
     ]
    }
   ],
   "source": [
    "X_train, train_time = generate_data_all_sensors(\"./data/Ramp5/\", time_range = (-450, -350), window = 10000, step = 10)\n",
    "X_test, test_time = generate_data_all_sensors(\"./data/Ramp5/\", time_range = (-40, 0), window = 10000, step = 10)\n",
    "print(\"X_train's shape: \", X_train.shape)\n",
    "print(\"X_test's shape: \", X_test.shape)"
   ]
  },
  {
   "cell_type": "code",
   "execution_count": 6,
   "metadata": {
    "collapsed": true
   },
   "outputs": [
    {
     "name": "stdout",
     "output_type": "stream",
     "text": [
      "Using Keras version:  2.3.1\n",
      "Model: \"sequential_1\"\n",
      "_________________________________________________________________\n",
      "Layer (type)                 Output Shape              Param #   \n",
      "=================================================================\n",
      "dense_1 (Dense)              (None, 15)                315       \n",
      "_________________________________________________________________\n",
      "dense_2 (Dense)              (None, 10)                160       \n",
      "_________________________________________________________________\n",
      "dense_3 (Dense)              (None, 7)                 77        \n",
      "_________________________________________________________________\n",
      "dense_4 (Dense)              (None, 10)                80        \n",
      "_________________________________________________________________\n",
      "dense_5 (Dense)              (None, 15)                165       \n",
      "_________________________________________________________________\n",
      "dense_6 (Dense)              (None, 20)                320       \n",
      "=================================================================\n",
      "Total params: 1,117\n",
      "Trainable params: 1,117\n",
      "Non-trainable params: 0\n",
      "_________________________________________________________________\n"
     ]
    }
   ],
   "source": [
    "#================BUILD THE MODEL====================\n",
    "print(\"Using Keras version: \", keras.__version__)\n",
    "\n",
    "# Simple model\n",
    "model = models.Sequential()\n",
    "\n",
    "model.add(Dense(15, activation = 'elu', kernel_initializer='glorot_uniform',\n",
    "                kernel_regularizer=regularizers.l2(0.0),\n",
    "                input_dim=X_train.shape[1]))\n",
    "\n",
    "model.add(Dense(10,activation='elu',\n",
    "                kernel_initializer='glorot_uniform'))\n",
    "\n",
    "model.add(Dense(7,activation='elu',\n",
    "                kernel_initializer='glorot_uniform'))\n",
    "\n",
    "model.add(Dense(10,activation='elu',\n",
    "                kernel_initializer='glorot_uniform'))\n",
    "\n",
    "model.add(Dense(15,activation='elu',\n",
    "                kernel_initializer='glorot_uniform'))\n",
    "\n",
    "model.add(Dense(X_train.shape[1],\n",
    "                kernel_initializer='glorot_uniform'))\n",
    "\n",
    "model.compile(loss='mse',optimizer='adam')\n",
    "\n",
    "model.summary()"
   ]
  },
  {
   "cell_type": "code",
   "execution_count": 7,
   "metadata": {
    "collapsed": true
   },
   "outputs": [
    {
     "name": "stdout",
     "output_type": "stream",
     "text": [
      "Train on 899100 samples, validate on 99900 samples\n",
      "Epoch 1/50\n",
      "899100/899100 [==============================] - 7s 8us/step - loss: 67.1651 - val_loss: 3.8425\n",
      "Epoch 2/50\n",
      "899100/899100 [==============================] - 6s 6us/step - loss: 4.1039 - val_loss: 1.2895\n",
      "Epoch 3/50\n",
      "899100/899100 [==============================] - 6s 6us/step - loss: 1.1921 - val_loss: 0.4490\n",
      "Epoch 4/50\n",
      "899100/899100 [==============================] - 6s 7us/step - loss: 0.2782 - val_loss: 0.1407\n",
      "Epoch 5/50\n",
      "899100/899100 [==============================] - 6s 7us/step - loss: 0.1381 - val_loss: 0.0964\n",
      "Epoch 6/50\n",
      "899100/899100 [==============================] - 6s 7us/step - loss: 0.1174 - val_loss: 0.0780\n",
      "Epoch 7/50\n",
      "899100/899100 [==============================] - 6s 7us/step - loss: 0.1060 - val_loss: 0.0623\n",
      "Epoch 8/50\n",
      "899100/899100 [==============================] - 6s 7us/step - loss: 0.0976 - val_loss: 0.0571\n",
      "Epoch 9/50\n",
      "899100/899100 [==============================] - 6s 7us/step - loss: 0.0946 - val_loss: 0.0538\n",
      "Epoch 10/50\n",
      "899100/899100 [==============================] - 6s 6us/step - loss: 0.0939 - val_loss: 0.0527\n",
      "Epoch 11/50\n",
      "899100/899100 [==============================] - 6s 6us/step - loss: 0.0929 - val_loss: 0.0522\n",
      "Epoch 12/50\n",
      "899100/899100 [==============================] - 6s 6us/step - loss: 0.0933 - val_loss: 0.0531\n",
      "Epoch 13/50\n",
      "899100/899100 [==============================] - 6s 6us/step - loss: 0.0923 - val_loss: 0.0518\n",
      "Epoch 14/50\n",
      "899100/899100 [==============================] - 6s 6us/step - loss: 0.0931 - val_loss: 0.0532\n",
      "Epoch 15/50\n",
      "899100/899100 [==============================] - 6s 7us/step - loss: 0.0920 - val_loss: 0.0519\n",
      "Epoch 16/50\n",
      "899100/899100 [==============================] - 7s 7us/step - loss: 0.0925 - val_loss: 0.0514\n",
      "Epoch 17/50\n",
      "899100/899100 [==============================] - 6s 7us/step - loss: 0.0923 - val_loss: 0.0514\n",
      "Epoch 18/50\n",
      "899100/899100 [==============================] - 6s 7us/step - loss: 0.0928 - val_loss: 0.0546\n",
      "Epoch 19/50\n",
      "899100/899100 [==============================] - 5s 6us/step - loss: 0.0926 - val_loss: 0.0536\n",
      "Epoch 20/50\n",
      "899100/899100 [==============================] - 6s 7us/step - loss: 0.0920 - val_loss: 0.0533\n",
      "Epoch 21/50\n",
      "899100/899100 [==============================] - 7s 8us/step - loss: 0.0925 - val_loss: 0.0511\n",
      "Epoch 22/50\n",
      "899100/899100 [==============================] - 6s 7us/step - loss: 0.0927 - val_loss: 0.0528\n",
      "Epoch 23/50\n",
      "899100/899100 [==============================] - 6s 6us/step - loss: 0.0920 - val_loss: 0.0528\n",
      "Epoch 24/50\n",
      "899100/899100 [==============================] - 7s 8us/step - loss: 0.0927 - val_loss: 0.0518\n",
      "Epoch 25/50\n",
      "899100/899100 [==============================] - 7s 7us/step - loss: 0.0922 - val_loss: 0.0554\n",
      "Epoch 26/50\n",
      "899100/899100 [==============================] - 7s 7us/step - loss: 0.0921 - val_loss: 0.0501\n",
      "Epoch 27/50\n",
      "899100/899100 [==============================] - 6s 7us/step - loss: 0.0928 - val_loss: 0.0519\n",
      "Epoch 28/50\n",
      "899100/899100 [==============================] - 6s 7us/step - loss: 0.0918 - val_loss: 0.0515\n",
      "Epoch 29/50\n",
      "899100/899100 [==============================] - 6s 7us/step - loss: 0.0924 - val_loss: 0.0501\n",
      "Epoch 30/50\n",
      "899100/899100 [==============================] - 6s 6us/step - loss: 0.0918 - val_loss: 0.0507\n",
      "Epoch 31/50\n",
      "899100/899100 [==============================] - 6s 7us/step - loss: 0.0920 - val_loss: 0.0505\n",
      "Epoch 32/50\n",
      "899100/899100 [==============================] - 6s 6us/step - loss: 0.0925 - val_loss: 0.0498\n",
      "Epoch 33/50\n",
      "899100/899100 [==============================] - 5s 5us/step - loss: 0.0919 - val_loss: 0.0508\n",
      "Epoch 34/50\n",
      "899100/899100 [==============================] - 5s 6us/step - loss: 0.0923 - val_loss: 0.0504\n",
      "Epoch 35/50\n",
      "899100/899100 [==============================] - 6s 6us/step - loss: 0.0920 - val_loss: 0.0522\n",
      "Epoch 36/50\n",
      "899100/899100 [==============================] - 6s 7us/step - loss: 0.0918 - val_loss: 0.0507\n",
      "Epoch 37/50\n",
      "899100/899100 [==============================] - 6s 7us/step - loss: 0.0920 - val_loss: 0.0624\n",
      "Epoch 38/50\n",
      "899100/899100 [==============================] - 6s 6us/step - loss: 0.0922 - val_loss: 0.0511\n",
      "Epoch 39/50\n",
      "899100/899100 [==============================] - 6s 6us/step - loss: 0.0915 - val_loss: 0.0519\n",
      "Epoch 40/50\n",
      "899100/899100 [==============================] - 6s 6us/step - loss: 0.0921 - val_loss: 0.0518\n",
      "Epoch 41/50\n",
      "899100/899100 [==============================] - 6s 7us/step - loss: 0.0915 - val_loss: 0.0507\n",
      "Epoch 42/50\n",
      "899100/899100 [==============================] - 6s 7us/step - loss: 0.0917 - val_loss: 0.0507\n",
      "Epoch 43/50\n",
      "899100/899100 [==============================] - 6s 7us/step - loss: 0.0915 - val_loss: 0.0504\n",
      "Epoch 44/50\n",
      "899100/899100 [==============================] - 6s 6us/step - loss: 0.0917 - val_loss: 0.0503\n",
      "Epoch 45/50\n",
      "899100/899100 [==============================] - 6s 7us/step - loss: 0.0913 - val_loss: 0.0511\n",
      "Epoch 46/50\n",
      "899100/899100 [==============================] - 6s 7us/step - loss: 0.0919 - val_loss: 0.0494\n",
      "Epoch 47/50\n",
      "899100/899100 [==============================] - 6s 7us/step - loss: 0.0910 - val_loss: 0.0511\n",
      "Epoch 48/50\n",
      "899100/899100 [==============================] - 6s 7us/step - loss: 0.0913 - val_loss: 0.0503\n",
      "Epoch 49/50\n",
      "899100/899100 [==============================] - 6s 7us/step - loss: 0.0761 - val_loss: 0.0379\n",
      "Epoch 50/50\n",
      "899100/899100 [==============================] - 6s 7us/step - loss: 0.0562 - val_loss: 0.0313\n"
     ]
    }
   ],
   "source": [
    "# Train model for 100 epochs, batch size of 10: \n",
    "NUM_EPOCHS=50\n",
    "BATCH_SIZE=2000\n",
    "\n",
    "history=model.fit(X_train, X_train,\n",
    "                  batch_size=BATCH_SIZE, \n",
    "                  epochs=NUM_EPOCHS,\n",
    "                  validation_split=0.1,\n",
    "                  verbose = 1)"
   ]
  },
  {
   "cell_type": "code",
   "execution_count": 8,
   "metadata": {},
   "outputs": [],
   "source": [
    "model.save(\"./models/All-Ramp5-100mswin-100usstep.h5\")"
   ]
  },
  {
   "cell_type": "code",
   "execution_count": 9,
   "metadata": {
    "collapsed": true
   },
   "outputs": [
    {
     "data": {
      "image/png": "[encoded data removed]",
      "text/plain": [
       "<Figure size 432x288 with 1 Axes>"
      ]
     },
     "metadata": {
      "needs_background": "light"
     },
     "output_type": "display_data"
    }
   ],
   "source": [
    "plt.plot(history.history['loss'],\n",
    "         'b',\n",
    "         label='Training loss')\n",
    "plt.plot(history.history['val_loss'],\n",
    "         'r',\n",
    "         label='Validation loss')\n",
    "plt.legend(loc='upper right')\n",
    "plt.xlabel('Epochs')\n",
    "plt.ylabel('Loss, [mse]')\n",
    "plt.show()"
   ]
  },
  {
   "cell_type": "code",
   "execution_count": 10,
   "metadata": {},
   "outputs": [],
   "source": [
    "X_pred = model.predict(np.array(X_train))\n",
    "scored = pd.DataFrame()\n",
    "scored['Loss_mse'] = np.mean(np.abs(X_pred-X_train), axis = 1)"
   ]
  },
  {
   "cell_type": "code",
   "execution_count": 11,
   "metadata": {},
   "outputs": [],
   "source": [
    "X_pred_test = model.predict(np.array(X_test))\n",
    "scored_test = pd.DataFrame()\n",
    "scored_test['Loss_mse'] = np.mean(np.abs(X_pred_test-X_test), axis = 1)"
   ]
  },
  {
   "cell_type": "code",
   "execution_count": 17,
   "metadata": {
    "collapsed": true
   },
   "outputs": [
    {
     "data": {
      "text/plain": [
       "Text(0.5, 0, 'Time (s)')"
      ]
     },
     "execution_count": 17,
     "metadata": {},
     "output_type": "execute_result"
    },
    {
     "data": {
      "image/png": "[encoded data removed]",
      "text/plain": [
       "<Figure size 1440x144 with 1 Axes>"
      ]
     },
     "metadata": {
      "needs_background": "light"
     },
     "output_type": "display_data"
    }
   ],
   "source": [
    "plt.figure(figsize=(20,2))\n",
    "plt.plot(train_time, scored['Loss_mse'])\n",
    "plt.ylim([0,30])\n",
    "plt.xlabel(\"Time (s)\")"
   ]
  },
  {
   "cell_type": "code",
   "execution_count": 20,
   "metadata": {
    "collapsed": true
   },
   "outputs": [
    {
     "data": {
      "text/plain": [
       "Text(0.5, 0, 'Time (s)')"
      ]
     },
     "execution_count": 20,
     "metadata": {},
     "output_type": "execute_result"
    },
    {
     "data": {
      "image/png": "[encoded data removed]",
      "text/plain": [
       "<Figure size 1440x144 with 1 Axes>"
      ]
     },
     "metadata": {
      "needs_background": "light"
     },
     "output_type": "display_data"
    }
   ],
   "source": [
    "plt.figure(figsize=(20,2))\n",
    "plt.plot(test_time, scored_test['Loss_mse'])\n",
    "plt.ylim([0,30])\n",
    "plt.xlim([-100e-3,0])\n",
    "plt.xlabel(\"Time (s)\")"
   ]
  },
  {
   "cell_type": "markdown",
   "metadata": {},
   "source": [
    "## 2. Window size: 1s; Step size: 100us"
   ]
  },
  {
   "cell_type": "code",
   "execution_count": 5,
   "metadata": {
    "collapsed": true
   },
   "outputs": [
    {
     "name": "stdout",
     "output_type": "stream",
     "text": [
      "Flushing input history\n",
      "Flushing input history\n",
      "Flushing input history\n",
      "Flushing input history\n",
      "Flushing input history\n",
      "Flushing input history\n",
      "Flushing input history\n",
      "Flushing input history\n",
      "Flushing input history\n",
      "Flushing input history\n",
      "Flushing input history\n",
      "Flushing input history\n",
      "X_train's shape:  (990000, 20)\n",
      "X_test's shape:  (390000, 20)\n"
     ]
    }
   ],
   "source": [
    "X_train, train_time = generate_data_all_sensors(\"./data/Ramp5/\", time_range = (-450, -350), window = 100000, step = 10)\n",
    "X_test, test_time = generate_data_all_sensors(\"./data/Ramp5/\", time_range = (-40, 0), window = 100000, step = 10)\n",
    "print(\"X_train's shape: \", X_train.shape)\n",
    "print(\"X_test's shape: \", X_test.shape)"
   ]
  },
  {
   "cell_type": "code",
   "execution_count": 6,
   "metadata": {
    "collapsed": true
   },
   "outputs": [
    {
     "name": "stdout",
     "output_type": "stream",
     "text": [
      "Using Keras version:  2.3.1\n",
      "Model: \"sequential_1\"\n",
      "_________________________________________________________________\n",
      "Layer (type)                 Output Shape              Param #   \n",
      "=================================================================\n",
      "dense_1 (Dense)              (None, 15)                315       \n",
      "_________________________________________________________________\n",
      "dense_2 (Dense)              (None, 10)                160       \n",
      "_________________________________________________________________\n",
      "dense_3 (Dense)              (None, 7)                 77        \n",
      "_________________________________________________________________\n",
      "dense_4 (Dense)              (None, 10)                80        \n",
      "_________________________________________________________________\n",
      "dense_5 (Dense)              (None, 15)                165       \n",
      "_________________________________________________________________\n",
      "dense_6 (Dense)              (None, 20)                320       \n",
      "=================================================================\n",
      "Total params: 1,117\n",
      "Trainable params: 1,117\n",
      "Non-trainable params: 0\n",
      "_________________________________________________________________\n"
     ]
    }
   ],
   "source": [
    "#================BUILD THE MODEL====================\n",
    "print(\"Using Keras version: \", keras.__version__)\n",
    "\n",
    "# Simple model\n",
    "model = models.Sequential()\n",
    "\n",
    "model.add(Dense(15, activation = 'elu', kernel_initializer='glorot_uniform',\n",
    "                kernel_regularizer=regularizers.l2(0.0),\n",
    "                input_dim=X_train.shape[1]))\n",
    "\n",
    "model.add(Dense(10,activation='elu',\n",
    "                kernel_initializer='glorot_uniform'))\n",
    "\n",
    "model.add(Dense(7,activation='elu',\n",
    "                kernel_initializer='glorot_uniform'))\n",
    "\n",
    "model.add(Dense(10,activation='elu',\n",
    "                kernel_initializer='glorot_uniform'))\n",
    "\n",
    "model.add(Dense(15,activation='elu',\n",
    "                kernel_initializer='glorot_uniform'))\n",
    "\n",
    "model.add(Dense(X_train.shape[1],\n",
    "                kernel_initializer='glorot_uniform'))\n",
    "\n",
    "model.compile(loss='mse',optimizer='adam')\n",
    "\n",
    "model.summary()"
   ]
  },
  {
   "cell_type": "code",
   "execution_count": 7,
   "metadata": {
    "collapsed": true
   },
   "outputs": [
    {
     "name": "stdout",
     "output_type": "stream",
     "text": [
      "Train on 891000 samples, validate on 99000 samples\n",
      "Epoch 1/50\n",
      "891000/891000 [==============================] - 7s 7us/step - loss: 138.5358 - val_loss: 0.5249\n",
      "Epoch 2/50\n",
      "891000/891000 [==============================] - 6s 7us/step - loss: 1.3142 - val_loss: 0.1299\n",
      "Epoch 3/50\n",
      "891000/891000 [==============================] - 6s 6us/step - loss: 0.4123 - val_loss: 0.0855\n",
      "Epoch 4/50\n",
      "891000/891000 [==============================] - 6s 7us/step - loss: 0.2154 - val_loss: 0.0373\n",
      "Epoch 5/50\n",
      "891000/891000 [==============================] - 6s 7us/step - loss: 0.0916 - val_loss: 0.0281\n",
      "Epoch 6/50\n",
      "891000/891000 [==============================] - 6s 6us/step - loss: 0.0611 - val_loss: 0.0311\n",
      "Epoch 7/50\n",
      "891000/891000 [==============================] - 6s 7us/step - loss: 0.0424 - val_loss: 0.0236\n",
      "Epoch 8/50\n",
      "891000/891000 [==============================] - 6s 6us/step - loss: 0.0308 - val_loss: 0.0227\n",
      "Epoch 9/50\n",
      "891000/891000 [==============================] - 6s 7us/step - loss: 0.0291 - val_loss: 0.0213\n",
      "Epoch 10/50\n",
      "891000/891000 [==============================] - 6s 7us/step - loss: 0.0259 - val_loss: 0.0255\n",
      "Epoch 11/50\n",
      "891000/891000 [==============================] - 6s 7us/step - loss: 0.0249 - val_loss: 0.0425\n",
      "Epoch 12/50\n",
      "891000/891000 [==============================] - 6s 6us/step - loss: 0.0233 - val_loss: 0.0239\n",
      "Epoch 13/50\n",
      "891000/891000 [==============================] - 6s 7us/step - loss: 0.0231 - val_loss: 0.0235\n",
      "Epoch 14/50\n",
      "891000/891000 [==============================] - 6s 7us/step - loss: 0.0223 - val_loss: 0.0196\n",
      "Epoch 15/50\n",
      "891000/891000 [==============================] - 5s 6us/step - loss: 0.0226 - val_loss: 0.0219\n",
      "Epoch 16/50\n",
      "891000/891000 [==============================] - 6s 7us/step - loss: 0.0216 - val_loss: 0.0188\n",
      "Epoch 17/50\n",
      "891000/891000 [==============================] - 6s 7us/step - loss: 0.0222 - val_loss: 0.0345\n",
      "Epoch 18/50\n",
      "891000/891000 [==============================] - 5s 6us/step - loss: 0.0213 - val_loss: 0.0194\n",
      "Epoch 19/50\n",
      "891000/891000 [==============================] - 5s 6us/step - loss: 0.0209 - val_loss: 0.0190\n",
      "Epoch 20/50\n",
      "891000/891000 [==============================] - 6s 7us/step - loss: 0.0212 - val_loss: 0.0185\n",
      "Epoch 21/50\n",
      "891000/891000 [==============================] - 6s 6us/step - loss: 0.0211 - val_loss: 0.0201\n",
      "Epoch 22/50\n",
      "891000/891000 [==============================] - 6s 6us/step - loss: 0.0206 - val_loss: 0.0191\n",
      "Epoch 23/50\n",
      "891000/891000 [==============================] - 6s 7us/step - loss: 0.0198 - val_loss: 0.0234\n",
      "Epoch 24/50\n",
      "891000/891000 [==============================] - 6s 6us/step - loss: 0.0208 - val_loss: 0.0210\n",
      "Epoch 25/50\n",
      "891000/891000 [==============================] - 6s 7us/step - loss: 0.0203 - val_loss: 0.0206\n",
      "Epoch 26/50\n",
      "891000/891000 [==============================] - 6s 6us/step - loss: 0.0193 - val_loss: 0.0189\n",
      "Epoch 27/50\n",
      "891000/891000 [==============================] - 5s 6us/step - loss: 0.0204 - val_loss: 0.0181\n",
      "Epoch 28/50\n",
      "891000/891000 [==============================] - 6s 6us/step - loss: 0.0188 - val_loss: 0.0216\n",
      "Epoch 29/50\n",
      "891000/891000 [==============================] - 5s 6us/step - loss: 0.0197 - val_loss: 0.0181\n",
      "Epoch 30/50\n",
      "891000/891000 [==============================] - 6s 6us/step - loss: 0.0195 - val_loss: 0.0207\n",
      "Epoch 31/50\n",
      "891000/891000 [==============================] - 5s 6us/step - loss: 0.0191 - val_loss: 0.0175\n",
      "Epoch 32/50\n",
      "891000/891000 [==============================] - 6s 6us/step - loss: 0.0185 - val_loss: 0.0170\n",
      "Epoch 33/50\n",
      "891000/891000 [==============================] - 5s 6us/step - loss: 0.0188 - val_loss: 0.0169\n",
      "Epoch 34/50\n",
      "891000/891000 [==============================] - 5s 6us/step - loss: 0.0184 - val_loss: 0.0169\n",
      "Epoch 35/50\n",
      "891000/891000 [==============================] - 5s 6us/step - loss: 0.0183 - val_loss: 0.0177\n",
      "Epoch 36/50\n",
      "891000/891000 [==============================] - 6s 6us/step - loss: 0.0179 - val_loss: 0.0171\n",
      "Epoch 37/50\n",
      "891000/891000 [==============================] - 6s 6us/step - loss: 0.0182 - val_loss: 0.0184\n",
      "Epoch 38/50\n",
      "891000/891000 [==============================] - 6s 7us/step - loss: 0.0171 - val_loss: 0.0301\n",
      "Epoch 39/50\n",
      "891000/891000 [==============================] - 6s 7us/step - loss: 0.0180 - val_loss: 0.0170\n",
      "Epoch 40/50\n",
      "891000/891000 [==============================] - 6s 7us/step - loss: 0.0177 - val_loss: 0.0162\n",
      "Epoch 41/50\n",
      "891000/891000 [==============================] - 6s 7us/step - loss: 0.0170 - val_loss: 0.0165\n",
      "Epoch 42/50\n",
      "891000/891000 [==============================] - 6s 7us/step - loss: 0.0170 - val_loss: 0.0156\n",
      "Epoch 43/50\n",
      "891000/891000 [==============================] - 6s 7us/step - loss: 0.0172 - val_loss: 0.0149\n",
      "Epoch 44/50\n",
      "891000/891000 [==============================] - 6s 7us/step - loss: 0.0163 - val_loss: 0.0155\n",
      "Epoch 45/50\n",
      "891000/891000 [==============================] - 5s 6us/step - loss: 0.0167 - val_loss: 0.0162\n",
      "Epoch 46/50\n",
      "891000/891000 [==============================] - 6s 6us/step - loss: 0.0165 - val_loss: 0.0146\n",
      "Epoch 47/50\n",
      "891000/891000 [==============================] - 5s 6us/step - loss: 0.0155 - val_loss: 0.0198\n",
      "Epoch 48/50\n",
      "891000/891000 [==============================] - 6s 7us/step - loss: 0.0160 - val_loss: 0.0155\n",
      "Epoch 49/50\n",
      "891000/891000 [==============================] - 5s 6us/step - loss: 0.0162 - val_loss: 0.0142\n",
      "Epoch 50/50\n",
      "891000/891000 [==============================] - 6s 6us/step - loss: 0.0156 - val_loss: 0.0142\n"
     ]
    }
   ],
   "source": [
    "# Train model for 100 epochs, batch size of 10: \n",
    "NUM_EPOCHS=50\n",
    "BATCH_SIZE=2000\n",
    "\n",
    "history=model.fit(X_train, X_train,\n",
    "                  batch_size=BATCH_SIZE, \n",
    "                  epochs=NUM_EPOCHS,\n",
    "                  validation_split=0.1,\n",
    "                  verbose = 1)"
   ]
  },
  {
   "cell_type": "code",
   "execution_count": 8,
   "metadata": {},
   "outputs": [],
   "source": [
    "model.save(\"./models/All-Ramp5-1swin-100usstep.h5\")"
   ]
  },
  {
   "cell_type": "code",
   "execution_count": 9,
   "metadata": {
    "collapsed": true
   },
   "outputs": [
    {
     "data": {
      "image/png": "[encoded data removed]",
      "text/plain": [
       "<Figure size 432x288 with 1 Axes>"
      ]
     },
     "metadata": {
      "needs_background": "light"
     },
     "output_type": "display_data"
    }
   ],
   "source": [
    "plt.plot(history.history['loss'],\n",
    "         'b',\n",
    "         label='Training loss')\n",
    "plt.plot(history.history['val_loss'],\n",
    "         'r',\n",
    "         label='Validation loss')\n",
    "plt.legend(loc='upper right')\n",
    "plt.xlabel('Epochs')\n",
    "plt.ylabel('Loss, [mse]')\n",
    "plt.show()"
   ]
  },
  {
   "cell_type": "code",
   "execution_count": 10,
   "metadata": {},
   "outputs": [],
   "source": [
    "X_pred = model.predict(np.array(X_train))\n",
    "scored = pd.DataFrame()\n",
    "scored['Loss_mse'] = np.mean(np.abs(X_pred-X_train), axis = 1)"
   ]
  },
  {
   "cell_type": "code",
   "execution_count": 11,
   "metadata": {},
   "outputs": [],
   "source": [
    "X_pred_test = model.predict(np.array(X_test))\n",
    "scored_test = pd.DataFrame()\n",
    "scored_test['Loss_mse'] = np.mean(np.abs(X_pred_test-X_test), axis = 1)"
   ]
  },
  {
   "cell_type": "code",
   "execution_count": 15,
   "metadata": {
    "collapsed": true
   },
   "outputs": [
    {
     "data": {
      "text/plain": [
       "Text(0.5, 0, 'Time (s)')"
      ]
     },
     "execution_count": 15,
     "metadata": {},
     "output_type": "execute_result"
    },
    {
     "data": {
      "image/png": "[encoded data removed]",
      "text/plain": [
       "<Figure size 1440x144 with 1 Axes>"
      ]
     },
     "metadata": {
      "needs_background": "light"
     },
     "output_type": "display_data"
    }
   ],
   "source": [
    "plt.figure(figsize=(20,2))\n",
    "plt.plot(train_time, scored['Loss_mse'])\n",
    "plt.ylim([0,80])\n",
    "plt.xlabel(\"Time (s)\")"
   ]
  },
  {
   "cell_type": "code",
   "execution_count": 18,
   "metadata": {
    "collapsed": true
   },
   "outputs": [
    {
     "data": {
      "text/plain": [
       "Text(0.5, 0, 'Time (s)')"
      ]
     },
     "execution_count": 18,
     "metadata": {},
     "output_type": "execute_result"
    },
    {
     "data": {
      "image/png": "[encoded data removed]",
      "text/plain": [
       "<Figure size 1440x144 with 1 Axes>"
      ]
     },
     "metadata": {
      "needs_background": "light"
     },
     "output_type": "display_data"
    }
   ],
   "source": [
    "plt.figure(figsize=(20,2))\n",
    "plt.plot(test_time, scored_test['Loss_mse'])\n",
    "plt.ylim([0,80])\n",
    "plt.xlim([-100e-3,0])\n",
    "plt.xlabel(\"Time (s)\")"
   ]
  },
  {
   "cell_type": "markdown",
   "metadata": {},
   "source": [
    "## 3. Window size: 2s; Step size: 100us"
   ]
  },
  {
   "cell_type": "code",
   "execution_count": 5,
   "metadata": {
    "collapsed": true
   },
   "outputs": [
    {
     "name": "stdout",
     "output_type": "stream",
     "text": [
      "Flushing input history\n",
      "Flushing input history\n",
      "Flushing input history\n",
      "Flushing input history\n",
      "Flushing input history\n",
      "Flushing input history\n",
      "Flushing input history\n",
      "Flushing input history\n",
      "Flushing input history\n",
      "Flushing input history\n",
      "Flushing input history\n",
      "Flushing input history\n",
      "X_train's shape:  (980000, 20)\n",
      "X_test's shape:  (380000, 20)\n"
     ]
    }
   ],
   "source": [
    "X_train, train_time = generate_data_all_sensors(\"./data/Ramp5/\", time_range = (-450, -350), window = 200000, step = 10)\n",
    "X_test, test_time = generate_data_all_sensors(\"./data/Ramp5/\", time_range = (-40, 0), window = 200000, step = 10)\n",
    "print(\"X_train's shape: \", X_train.shape)\n",
    "print(\"X_test's shape: \", X_test.shape)"
   ]
  },
  {
   "cell_type": "code",
   "execution_count": 6,
   "metadata": {
    "collapsed": true
   },
   "outputs": [
    {
     "name": "stdout",
     "output_type": "stream",
     "text": [
      "Using Keras version:  2.3.1\n",
      "Model: \"sequential_1\"\n",
      "_________________________________________________________________\n",
      "Layer (type)                 Output Shape              Param #   \n",
      "=================================================================\n",
      "dense_1 (Dense)              (None, 15)                315       \n",
      "_________________________________________________________________\n",
      "dense_2 (Dense)              (None, 10)                160       \n",
      "_________________________________________________________________\n",
      "dense_3 (Dense)              (None, 7)                 77        \n",
      "_________________________________________________________________\n",
      "dense_4 (Dense)              (None, 10)                80        \n",
      "_________________________________________________________________\n",
      "dense_5 (Dense)              (None, 15)                165       \n",
      "_________________________________________________________________\n",
      "dense_6 (Dense)              (None, 20)                320       \n",
      "=================================================================\n",
      "Total params: 1,117\n",
      "Trainable params: 1,117\n",
      "Non-trainable params: 0\n",
      "_________________________________________________________________\n"
     ]
    }
   ],
   "source": [
    "#================BUILD THE MODEL====================\n",
    "print(\"Using Keras version: \", keras.__version__)\n",
    "\n",
    "# Simple model\n",
    "model = models.Sequential()\n",
    "\n",
    "model.add(Dense(15, activation = 'elu', kernel_initializer='glorot_uniform',\n",
    "                kernel_regularizer=regularizers.l2(0.0),\n",
    "                input_dim=X_train.shape[1]))\n",
    "\n",
    "model.add(Dense(10,activation='elu',\n",
    "                kernel_initializer='glorot_uniform'))\n",
    "\n",
    "model.add(Dense(7,activation='elu',\n",
    "                kernel_initializer='glorot_uniform'))\n",
    "\n",
    "model.add(Dense(10,activation='elu',\n",
    "                kernel_initializer='glorot_uniform'))\n",
    "\n",
    "model.add(Dense(15,activation='elu',\n",
    "                kernel_initializer='glorot_uniform'))\n",
    "\n",
    "model.add(Dense(X_train.shape[1],\n",
    "                kernel_initializer='glorot_uniform'))\n",
    "\n",
    "model.compile(loss='mse',optimizer='adam')\n",
    "\n",
    "model.summary()"
   ]
  },
  {
   "cell_type": "code",
   "execution_count": 7,
   "metadata": {
    "collapsed": true
   },
   "outputs": [
    {
     "name": "stdout",
     "output_type": "stream",
     "text": [
      "Train on 882000 samples, validate on 98000 samples\n",
      "Epoch 1/50\n",
      "882000/882000 [==============================] - 12s 14us/step - loss: 202.6534 - val_loss: 4.5409\n",
      "Epoch 2/50\n",
      "882000/882000 [==============================] - 11s 13us/step - loss: 11.5597 - val_loss: 1.4474\n",
      "Epoch 3/50\n",
      "882000/882000 [==============================] - 12s 14us/step - loss: 8.9076 - val_loss: 2.2847\n",
      "Epoch 4/50\n",
      "882000/882000 [==============================] - 13s 14us/step - loss: 7.6634 - val_loss: 3.8613\n",
      "Epoch 5/50\n",
      "882000/882000 [==============================] - 14s 16us/step - loss: 5.8045 - val_loss: 4.5142\n",
      "Epoch 6/50\n",
      "882000/882000 [==============================] - 15s 17us/step - loss: 3.8646 - val_loss: 12.4332\n",
      "Epoch 7/50\n",
      "882000/882000 [==============================] - 14s 16us/step - loss: 2.6910 - val_loss: 8.2253\n",
      "Epoch 8/50\n",
      "882000/882000 [==============================] - 17s 19us/step - loss: 1.9971 - val_loss: 4.8833\n",
      "Epoch 9/50\n",
      "882000/882000 [==============================] - 14s 16us/step - loss: 1.5646 - val_loss: 3.9604\n",
      "Epoch 10/50\n",
      "882000/882000 [==============================] - 15s 17us/step - loss: 1.3468 - val_loss: 4.4908\n",
      "Epoch 11/50\n",
      "882000/882000 [==============================] - 12s 14us/step - loss: 1.2352 - val_loss: 4.6383\n",
      "Epoch 12/50\n",
      "882000/882000 [==============================] - 13s 15us/step - loss: 1.1652 - val_loss: 4.6462\n",
      "Epoch 13/50\n",
      "882000/882000 [==============================] - 14s 16us/step - loss: 1.1126 - val_loss: 4.6104\n",
      "Epoch 14/50\n",
      "882000/882000 [==============================] - 14s 16us/step - loss: 1.0649 - val_loss: 4.4450\n",
      "Epoch 15/50\n",
      "882000/882000 [==============================] - 15s 17us/step - loss: 1.0313 - val_loss: 4.1744\n",
      "Epoch 16/50\n",
      "882000/882000 [==============================] - 13s 15us/step - loss: 0.9751 - val_loss: 3.5380\n",
      "Epoch 17/50\n",
      "882000/882000 [==============================] - 14s 15us/step - loss: 0.9275 - val_loss: 3.6295\n",
      "Epoch 18/50\n",
      "882000/882000 [==============================] - 14s 16us/step - loss: 0.9016 - val_loss: 3.6457\n",
      "Epoch 19/50\n",
      "882000/882000 [==============================] - 14s 16us/step - loss: 0.8811 - val_loss: 3.6488\n",
      "Epoch 20/50\n",
      "882000/882000 [==============================] - 13s 15us/step - loss: 0.8627 - val_loss: 3.6207\n",
      "Epoch 21/50\n",
      "882000/882000 [==============================] - 14s 16us/step - loss: 0.8513 - val_loss: 3.6824\n",
      "Epoch 22/50\n",
      "882000/882000 [==============================] - 12s 14us/step - loss: 0.8347 - val_loss: 3.6403\n",
      "Epoch 23/50\n",
      "882000/882000 [==============================] - 10s 11us/step - loss: 0.8254 - val_loss: 3.5925\n",
      "Epoch 24/50\n",
      "882000/882000 [==============================] - 12s 14us/step - loss: 0.8165 - val_loss: 3.6429\n",
      "Epoch 25/50\n",
      "882000/882000 [==============================] - 14s 16us/step - loss: 0.8089 - val_loss: 3.5601\n",
      "Epoch 26/50\n",
      "882000/882000 [==============================] - 10s 11us/step - loss: 0.8036 - val_loss: 3.4683\n",
      "Epoch 27/50\n",
      "882000/882000 [==============================] - 15s 17us/step - loss: 0.7957 - val_loss: 3.3895\n",
      "Epoch 28/50\n",
      "882000/882000 [==============================] - 14s 16us/step - loss: 0.7930 - val_loss: 3.4380\n",
      "Epoch 29/50\n",
      "882000/882000 [==============================] - 14s 16us/step - loss: 0.7869 - val_loss: 3.4601\n",
      "Epoch 30/50\n",
      "882000/882000 [==============================] - 14s 16us/step - loss: 0.7852 - val_loss: 3.3522\n",
      "Epoch 31/50\n",
      "882000/882000 [==============================] - 14s 16us/step - loss: 0.7779 - val_loss: 3.3981\n",
      "Epoch 32/50\n",
      "882000/882000 [==============================] - 13s 15us/step - loss: 0.7767 - val_loss: 3.3122\n",
      "Epoch 33/50\n",
      "882000/882000 [==============================] - 13s 15us/step - loss: 0.7746 - val_loss: 3.3057\n",
      "Epoch 34/50\n",
      "882000/882000 [==============================] - 14s 16us/step - loss: 0.7729 - val_loss: 3.3046\n",
      "Epoch 35/50\n",
      "882000/882000 [==============================] - 13s 15us/step - loss: 0.7699 - val_loss: 3.1979\n",
      "Epoch 36/50\n",
      "882000/882000 [==============================] - 12s 13us/step - loss: 0.7660 - val_loss: 3.1985\n",
      "Epoch 37/50\n",
      "882000/882000 [==============================] - 11s 12us/step - loss: 0.7643 - val_loss: 3.2352\n",
      "Epoch 38/50\n",
      "882000/882000 [==============================] - 12s 14us/step - loss: 0.7638 - val_loss: 3.3110\n",
      "Epoch 39/50\n",
      "882000/882000 [==============================] - 14s 16us/step - loss: 0.7614 - val_loss: 3.1549\n",
      "Epoch 40/50\n",
      "882000/882000 [==============================] - 11s 12us/step - loss: 0.7601 - val_loss: 3.1485\n",
      "Epoch 41/50\n",
      "882000/882000 [==============================] - 11s 13us/step - loss: 0.7592 - val_loss: 3.0871\n",
      "Epoch 42/50\n",
      "882000/882000 [==============================] - 11s 12us/step - loss: 0.7521 - val_loss: 3.1148\n",
      "Epoch 43/50\n",
      "882000/882000 [==============================] - 11s 12us/step - loss: 0.6369 - val_loss: 2.9319\n",
      "Epoch 44/50\n",
      "882000/882000 [==============================] - 12s 13us/step - loss: 0.5368 - val_loss: 3.0511\n",
      "Epoch 45/50\n",
      "882000/882000 [==============================] - 11s 13us/step - loss: 0.5064 - val_loss: 2.9696\n",
      "Epoch 46/50\n",
      "882000/882000 [==============================] - 12s 14us/step - loss: 0.4902 - val_loss: 2.9845\n",
      "Epoch 47/50\n",
      "882000/882000 [==============================] - 13s 14us/step - loss: 0.4775 - val_loss: 3.0052\n",
      "Epoch 48/50\n",
      "882000/882000 [==============================] - 13s 14us/step - loss: 0.4735 - val_loss: 3.0031\n",
      "Epoch 49/50\n",
      "882000/882000 [==============================] - 10s 11us/step - loss: 0.4675 - val_loss: 2.8805\n",
      "Epoch 50/50\n",
      "882000/882000 [==============================] - 14s 16us/step - loss: 0.4651 - val_loss: 3.0377\n"
     ]
    }
   ],
   "source": [
    "# Train model for 100 epochs, batch size of 10: \n",
    "NUM_EPOCHS=50\n",
    "BATCH_SIZE=2000\n",
    "\n",
    "history=model.fit(X_train, X_train,\n",
    "                  batch_size=BATCH_SIZE, \n",
    "                  epochs=NUM_EPOCHS,\n",
    "                  validation_split=0.1,\n",
    "                  verbose = 1)"
   ]
  },
  {
   "cell_type": "code",
   "execution_count": 8,
   "metadata": {},
   "outputs": [],
   "source": [
    "model.save(\"./models/All-Ramp5-2swin-100usstep.h5\")"
   ]
  },
  {
   "cell_type": "code",
   "execution_count": 9,
   "metadata": {
    "collapsed": true
   },
   "outputs": [
    {
     "data": {
      "image/png": "[encoded data removed]",
      "text/plain": [
       "<Figure size 432x288 with 1 Axes>"
      ]
     },
     "metadata": {
      "needs_background": "light"
     },
     "output_type": "display_data"
    }
   ],
   "source": [
    "plt.plot(history.history['loss'],\n",
    "         'b',\n",
    "         label='Training loss')\n",
    "plt.plot(history.history['val_loss'],\n",
    "         'r',\n",
    "         label='Validation loss')\n",
    "plt.legend(loc='upper right')\n",
    "plt.xlabel('Epochs')\n",
    "plt.ylabel('Loss, [mse]')\n",
    "plt.show()"
   ]
  },
  {
   "cell_type": "code",
   "execution_count": 10,
   "metadata": {},
   "outputs": [],
   "source": [
    "X_pred = model.predict(np.array(X_train))\n",
    "scored = pd.DataFrame()\n",
    "scored['Loss_mse'] = np.mean(np.abs(X_pred-X_train), axis = 1)"
   ]
  },
  {
   "cell_type": "code",
   "execution_count": 11,
   "metadata": {},
   "outputs": [],
   "source": [
    "X_pred_test = model.predict(np.array(X_test))\n",
    "scored_test = pd.DataFrame()\n",
    "scored_test['Loss_mse'] = np.mean(np.abs(X_pred_test-X_test), axis = 1)"
   ]
  },
  {
   "cell_type": "code",
   "execution_count": 12,
   "metadata": {
    "collapsed": true
   },
   "outputs": [
    {
     "data": {
      "text/plain": [
       "Text(0.5, 0, 'Time (s)')"
      ]
     },
     "execution_count": 12,
     "metadata": {},
     "output_type": "execute_result"
    },
    {
     "data": {
      "image/png": "[encoded data removed]",
      "text/plain": [
       "<Figure size 1440x144 with 1 Axes>"
      ]
     },
     "metadata": {
      "needs_background": "light"
     },
     "output_type": "display_data"
    }
   ],
   "source": [
    "plt.figure(figsize=(20,2))\n",
    "plt.plot(train_time, scored['Loss_mse'])\n",
    "plt.ylim([0,80])\n",
    "plt.xlabel(\"Time (s)\")"
   ]
  },
  {
   "cell_type": "code",
   "execution_count": 16,
   "metadata": {
    "collapsed": true
   },
   "outputs": [
    {
     "data": {
      "text/plain": [
       "Text(0.5, 0, 'Time (s)')"
      ]
     },
     "execution_count": 16,
     "metadata": {},
     "output_type": "execute_result"
    },
    {
     "data": {
      "image/png": "[encoded data removed]",
      "text/plain": [
       "<Figure size 1440x144 with 1 Axes>"
      ]
     },
     "metadata": {
      "needs_background": "light"
     },
     "output_type": "display_data"
    }
   ],
   "source": [
    "plt.figure(figsize=(20,2))\n",
    "plt.plot(test_time, scored_test['Loss_mse'])\n",
    "plt.ylim([0,80])\n",
    "plt.xlim([-100e-3,0])\n",
    "plt.xlabel(\"Time (s)\")"
   ]
  },
  {
   "cell_type": "code",
   "execution_count": null,
   "metadata": {},
   "outputs": [],
   "source": []
  }
 ],
 "metadata": {
  "kernelspec": {
   "display_name": "Python 3",
   "language": "python",
   "name": "python3"
  },
  "language_info": {
   "codemirror_mode": {
    "name": "ipython",
    "version": 3
   },
   "file_extension": ".py",
   "mimetype": "text/x-python",
   "name": "python",
   "nbconvert_exporter": "python",
   "pygments_lexer": "ipython3",
   "version": "3.7.6"
  }
 },
 "nbformat": 4,
 "nbformat_minor": 4
}
