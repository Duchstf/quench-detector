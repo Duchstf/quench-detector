{
 "cells": [
  {
   "cell_type": "markdown",
   "metadata": {},
   "source": [
    "# Ramp4 with all sensors' data"
   ]
  },
  {
   "cell_type": "code",
   "execution_count": 1,
   "metadata": {},
   "outputs": [
    {
     "name": "stderr",
     "output_type": "stream",
     "text": [
      "\n",
      "Bad key \"text.kerning_factor\" on line 4 in\n",
      "/uscms_data/d3/dhoang/miniconda3/lib/python3.7/site-packages/matplotlib/mpl-data/stylelib/_classic_test_patch.mplstyle.\n",
      "You probably need to get an updated matplotlibrc file from\n",
      "https://github.com/matplotlib/matplotlib/blob/v3.1.3/matplotlibrc.template\n",
      "or from the matplotlib source distribution\n",
      "Using TensorFlow backend.\n"
     ]
    }
   ],
   "source": [
    "#Data processing\n",
    "import os\n",
    "import pandas as pd\n",
    "import numpy as np\n",
    "import matplotlib.pyplot as plt\n",
    "import seaborn as sns\n",
    "from nptdms import TdmsFile #Process ramping file\n",
    "\n",
    "#For building ML models\n",
    "import keras\n",
    "import keras.models as models\n",
    "from keras.layers.core import Dense\n",
    "from keras import regularizers"
   ]
  },
  {
   "cell_type": "markdown",
   "metadata": {},
   "source": [
    "## 0. Helper functions"
   ]
  },
  {
   "cell_type": "code",
   "execution_count": 2,
   "metadata": {},
   "outputs": [],
   "source": [
    "def read_data_from_single_file(filepath):\n",
    "    \"\"\"Read in quench data from a given file, return a pandas dafa frame\"\"\"\n",
    "    \n",
    "    data_dict= {}\n",
    "    \n",
    "    with open(filepath) as f:\n",
    "        content = f.readlines()\n",
    "    #Remove`\\n` at the end of each line\n",
    "    content = [x.strip() for x in content]\n",
    "    \n",
    "    column_names = content[0].split(\" \")\n",
    "    data = [content[i].split(\"   \") for i in range(1, len(content))] \n",
    "    \n",
    "    for i in range(len(column_names)):\n",
    "        data_dict[column_names[i]] = [float(x[i]) for x in data]\n",
    "        \n",
    "    data_frame = pd.DataFrame(data_dict)\n",
    "    \n",
    "    return data_frame\n",
    "\n",
    "def read_quench_data(area_path, quench_name):\n",
    "    \"\"\"\n",
    "    Read the quench data from the provided file path, note that there are five quenches so we need to concatenate them together.\n",
    "    Just need to provide the quench's name, for e.g: \"./data/mqxfs1b.Quench.161011115654\"\n",
    "    \"\"\"\n",
    "    \n",
    "    data_list = []\n",
    "    \n",
    "    \n",
    "    num_file = 0 #Number of separate data files for this quench, assuming at least one\n",
    "    \n",
    "    for filename in os.listdir(area_path):\n",
    "        if filename.startswith(quench_name) and not filename.endswith(\".tar.gz\"):\n",
    "            #print(\"Reading file ... \" + filename)\n",
    "            if num_file == 0:\n",
    "                try:\n",
    "                    data_list.append(read_data_from_single_file(area_path + filename)) #read first file separately\n",
    "                except:\n",
    "                    pass\n",
    "            else:\n",
    "                try:\n",
    "                    data_list.append(read_data_from_single_file(area_path + filename).drop(columns = [\"time\"])) #Time is already saved in the first file\n",
    "                except:\n",
    "                    pass\n",
    "            num_file += 1\n",
    "                                 \n",
    "    #print(\"Total number of data files for {}: \".format(quench_name), num_file)\n",
    "    \n",
    "    if len(data_list) != 0:\n",
    "        data = pd.concat(data_list, axis = 1) #Concatenate all data files together\n",
    "        return data\n",
    "    else:\n",
    "        print(\"Returning None due to file errors in \" + quench_name)\n",
    "        return None\n",
    "\n",
    "def read_all_quench_in_area(area_path):\n",
    "    \"\"\"\n",
    "    Read all quench's files in the area and return a dictionary of different quench's data. name is the magnet's name\n",
    "    \"\"\"\n",
    "    data = {}\n",
    "    \n",
    "    index = 1 #For indexing different quench\n",
    "\n",
    "    for filename in os.listdir(area_path):\n",
    "        if filename.endswith(\".tar.gz\"): \n",
    "            #print(\"Reading data from ... \" + filename[0:-7])\n",
    "            data[filename[0:-7]] = read_quench_data(area_path, filename[0:-7])\n",
    "            index += 1\n",
    "            \n",
    "    #print(\"Completed. There are {} quenches in total.\".format(str(index - 1)))\n",
    "    \n",
    "    return data\n",
    "\n",
    "def plot_variables_with_time(data, variables = None, time_range = None):\n",
    "    \"\"\"\n",
    "    Take a data frame, and plot all other variables with time.\n",
    "    Optional argument: time_range to specify the range to plot, default is to plot all time. Example argument\n",
    "    is (start_time, end_time)\n",
    "    \"\"\"\n",
    "    start = min(data[\"time\"])\n",
    "    end = max(data[\"time\"])\n",
    "    \n",
    "    if time_range:\n",
    "        start = time_range[0]\n",
    "        end = time_range[1]\n",
    "        \n",
    "    data = data[(data[\"time\"] > start) & (data[\"time\"] < end)]\n",
    "    \n",
    "    if variables:\n",
    "        for variable in variables:\n",
    "            plt.figure(figsize=(20,2))\n",
    "            plt.plot(data[\"time\"], data[variable])\n",
    "            plt.xlabel(\"Time (s)\")\n",
    "            plt.title(\"Variable {}\".format(variable))\n",
    "            plt.show()\n",
    "        \n",
    "    else:      \n",
    "        #If variables not specified then just plot all \n",
    "        for variable in data.columns[1:]:\n",
    "            plt.figure(figsize=(25,2))\n",
    "            plt.plot(data[\"time\"], data[variable])\n",
    "            plt.xlabel(\"Time (s)\")\n",
    "            plt.title(\"Variable {}\".format(variable))\n",
    "            plt.show()\n",
    "\n",
    "def plot_statistics(data, variables = None, time_range = None, window = 100):\n",
    "    \"\"\"Take a data frame and plot the variable with its moving average and real data in the specified range, if\n",
    "    variables are not specified then just plot all variables by default\"\"\"\n",
    "    #Pickout the data\n",
    "    start = min(data[\"time\"])\n",
    "    end = max(data[\"time\"])\n",
    "    \n",
    "    if time_range:\n",
    "        start = time_range[0]\n",
    "        end = time_range[1]\n",
    "        \n",
    "    data = data[(data[\"time\"] > start) & (data[\"time\"] < end)]\n",
    "    \n",
    "    def plot_signal_and_statistics(variable):\n",
    "        # Plotted by calculating Simple Moving Average (SMA)\n",
    "        plt.figure(figsize=(20,2))\n",
    "        plt.plot(data[\"time\"], data[variable], label = \"Signal with noise\")\n",
    "        plt.plot(data[\"time\"], data.loc[:, variable].rolling(window=window).mean(),label = \"Moving average\")\n",
    "        #plt.plot(data[\"time\"], data.loc[:, variable].rolling(window=window).min(),label = \"Moving min\")\n",
    "        #plt.plot(data[\"time\"], data.loc[:, variable].rolling(window=window).max(),label = \"Moving max\")\n",
    "        plt.legend(loc = \"best\")\n",
    "        plt.xlabel(\"Time (s)\")\n",
    "        plt.title(\"Variable {}\".format(variable))\n",
    "        plt.show()\n",
    "        \n",
    "        \n",
    "        #Variance\n",
    "        plt.figure(figsize=(20,2))\n",
    "        plt.plot(data[\"time\"], data.loc[:, variable].rolling(window=window).std(),\n",
    "                 label = \"Variance\",\n",
    "                 color = 'red')\n",
    "        plt.xlabel(\"Time (s)\")\n",
    "        plt.title(\"Variable {}'s Variance\".format(variable))\n",
    "        plt.show()\n",
    "        \n",
    "        #Kurtosis\n",
    "        plt.figure(figsize=(20,2))\n",
    "        plt.plot(data[\"time\"], data.loc[:, variable].rolling(window=window).kurt(),\n",
    "                 label = \"Kurtosis\",\n",
    "                 color = 'green')\n",
    "        plt.xlabel(\"Time (s)\")\n",
    "        plt.title(\"Variable {}'s Kurtosis\".format(variable))\n",
    "        plt.show()\n",
    "        \n",
    "        #Skew\n",
    "        plt.figure(figsize=(20,2))\n",
    "        plt.plot(data[\"time\"], data.loc[:, variable].rolling(window=window).skew(),\n",
    "                 label = \"Skew\",\n",
    "                 color = 'purple')\n",
    "        plt.xlabel(\"Time (s)\")\n",
    "        plt.title(\"Variable {}'s Skew\".format(variable))\n",
    "        plt.show()\n",
    "        \n",
    "        \"\"\"\n",
    "        #Quantile\n",
    "        plt.figure(figsize=(20,2))\n",
    "        plt.plot(data[\"time\"], data.loc[:, variable].rolling(window=window).quantile(0.25), label = \"Quantile 25\",\n",
    "                 color = 'red')\n",
    "        plt.plot(data[\"time\"], data.loc[:, variable].rolling(window=window).quantile(0.75), label = \"Quantile 75\",\n",
    "                 color = 'orange')\n",
    "        plt.plot(data[\"time\"], data.loc[:, variable].rolling(window=window).quantile(0.50), label = \"Quantile 50\",\n",
    "                 color = 'green')\n",
    "        plt.legend(loc = \"best\")\n",
    "        plt.title(\"Variable {}'s Quantile\".format(variable))\n",
    "        plt.show()\n",
    "        \"\"\"\n",
    "        \n",
    "    #Plot\n",
    "    if variables:\n",
    "        for variable in variables:\n",
    "            print(variable)\n",
    "            plot_signal_and_statistics(variable)         \n",
    "    else:\n",
    "        for variable in data.columns[1:]:\n",
    "            print(variable)\n",
    "            plot_signal_and_statistics(variable)\n",
    "    \n",
    "    %reset -f in\n",
    "\n",
    "def plot_variable(data_dict, variable, time_range = None, window = 100):\n",
    "    for quench_name in data_dict.keys():\n",
    "        print(\"Quench's index: \" + quench_name)\n",
    "        if data_dict[quench_name] is not None:\n",
    "            if variable[0] in list(data_dict[quench_name].columns):\n",
    "                plot_statistics(data_dict[quench_name], variables = variable, time_range=time_range, window=window)"
   ]
  },
  {
   "cell_type": "code",
   "execution_count": 3,
   "metadata": {},
   "outputs": [],
   "source": [
    "def read_data_from_single_file(filepath):\n",
    "    \"\"\"Read in quench data from a given file, return a pandas dafa frame\"\"\"\n",
    "    \n",
    "    data_dict= {}\n",
    "    \n",
    "    with open(filepath) as f:\n",
    "        content = f.readlines()\n",
    "    #Remove`\\n` at the end of each line\n",
    "    content = [x.strip() for x in content]\n",
    "    \n",
    "    column_names = content[0].split(\" \")\n",
    "    data = [content[i].split(\"   \") for i in range(1, len(content))] \n",
    "    \n",
    "    for i in range(len(column_names)):\n",
    "        data_dict[column_names[i]] = [float(x[i]) for x in data]\n",
    "        \n",
    "    data_frame = pd.DataFrame(data_dict)\n",
    "    \n",
    "    return data_frame\n",
    "\n",
    "def read_quench_data(area_path, quench_name):\n",
    "    \"\"\"\n",
    "    Read the quench data from the provided file path, note that there are five quenches so we need to concatenate them together.\n",
    "    Just need to provide the quench's name, for e.g: \"./data/mqxfs1b.Quench.161011115654\"\n",
    "    \"\"\"\n",
    "    \n",
    "    data_list = []\n",
    "    \n",
    "    \n",
    "    num_file = 0 #Number of separate data files for this quench, assuming at least one\n",
    "    \n",
    "    for filename in os.listdir(area_path):\n",
    "        if filename.startswith(quench_name) and not filename.endswith(\".tar.gz\"):\n",
    "            #print(\"Reading file ... \" + filename)\n",
    "            if num_file == 0:\n",
    "                try:\n",
    "                    data_list.append(read_data_from_single_file(area_path + filename)) #read first file separately\n",
    "                except:\n",
    "                    pass\n",
    "            else:\n",
    "                try:\n",
    "                    data_list.append(read_data_from_single_file(area_path + filename).drop(columns = [\"time\"])) #Time is already saved in the first file\n",
    "                except:\n",
    "                    pass\n",
    "            num_file += 1\n",
    "                                 \n",
    "    #print(\"Total number of data files for {}: \".format(quench_name), num_file)\n",
    "    \n",
    "    if len(data_list) != 0:\n",
    "        data = pd.concat(data_list, axis = 1) #Concatenate all data files together\n",
    "        return data\n",
    "    else:\n",
    "        print(\"Returning None due to file errors in \" + quench_name)\n",
    "        return None\n",
    "\n",
    "def read_all_quench_in_area(area_path):\n",
    "    \"\"\"\n",
    "    Read all quench's files in the area and return a dictionary of different quench's data. name is the magnet's name\n",
    "    \"\"\"\n",
    "    data = {}\n",
    "    \n",
    "    index = 1 #For indexing different quench\n",
    "\n",
    "    for filename in os.listdir(area_path):\n",
    "        if filename.endswith(\".tar.gz\"): \n",
    "            #print(\"Reading data from ... \" + filename[0:-7])\n",
    "            data[filename[0:-7]] = read_quench_data(area_path, filename[0:-7])\n",
    "            index += 1\n",
    "            \n",
    "    #print(\"Completed. There are {} quenches in total.\".format(str(index - 1)))\n",
    "    \n",
    "    return data\n",
    "\n",
    "def plot_variables_with_time(data, variables = None, time_range = None):\n",
    "    \"\"\"\n",
    "    Take a data frame, and plot all other variables with time.\n",
    "    Optional argument: time_range to specify the range to plot, default is to plot all time. Example argument\n",
    "    is (start_time, end_time)\n",
    "    \"\"\"\n",
    "    start = min(data[\"time\"])\n",
    "    end = max(data[\"time\"])\n",
    "    \n",
    "    if time_range:\n",
    "        start = time_range[0]\n",
    "        end = time_range[1]\n",
    "        \n",
    "    data = data[(data[\"time\"] > start) & (data[\"time\"] < end)]\n",
    "    \n",
    "    if variables:\n",
    "        for variable in variables:\n",
    "            plt.figure(figsize=(20,2))\n",
    "            plt.plot(data[\"time\"], data[variable])\n",
    "            plt.xlabel(\"Time (s)\")\n",
    "            plt.title(\"Variable {}\".format(variable))\n",
    "            plt.show()\n",
    "        \n",
    "    else:      \n",
    "        #If variables not specified then just plot all \n",
    "        for variable in data.columns[1:]:\n",
    "            plt.figure(figsize=(25,2))\n",
    "            plt.plot(data[\"time\"], data[variable])\n",
    "            plt.xlabel(\"Time (s)\")\n",
    "            plt.title(\"Variable {}\".format(variable))\n",
    "            plt.show()\n",
    "\n",
    "def plot_statistics(data, variables = None, time_range = None, window = 100):\n",
    "    \"\"\"Take a data frame and plot the variable with its moving average and real data in the specified range, if\n",
    "    variables are not specified then just plot all variables by default\"\"\"\n",
    "    #Pickout the data\n",
    "    start = min(data[\"time\"])\n",
    "    end = max(data[\"time\"])\n",
    "    \n",
    "    if time_range:\n",
    "        start = time_range[0]\n",
    "        end = time_range[1]\n",
    "        \n",
    "    data = data[(data[\"time\"] > start) & (data[\"time\"] < end)]\n",
    "    \n",
    "    def plot_signal_and_statistics(variable):\n",
    "        # Plotted by calculating Simple Moving Average (SMA)\n",
    "        plt.figure(figsize=(20,2))\n",
    "        \n",
    "        plt.plot(data[\"time\"], data[variable], label = \"Signal with noise\")\n",
    "        \n",
    "        #plt.plot(data[\"time\"], data.loc[:, variable].rolling(window=window).mean(),label = \"Moving average\")\n",
    "        #plt.plot(data[\"time\"], data.loc[:, variable].rolling(window=window).min(),label = \"Moving min\")\n",
    "        #plt.plot(data[\"time\"], data.loc[:, variable].rolling(window=window).max(),label = \"Moving max\")\n",
    "        plt.legend(loc = \"best\")\n",
    "        plt.xlabel(\"Time (s)\")\n",
    "        plt.title(\"Variable {}\".format(variable))\n",
    "        plt.show()\n",
    "        \n",
    "\n",
    "        #Variance\n",
    "        plt.figure(figsize=(20,2))\n",
    "        plt.plot(data[\"time\"], data.loc[:, variable].rolling(window=window).std(),\n",
    "                 label = \"Standard Deviation\",\n",
    "                 color = 'red')\n",
    "        plt.xlabel(\"Time (s)\")\n",
    "        plt.title(\"Variable {}'s Standard Deviation\".format(variable))\n",
    "        plt.show()\n",
    "        \n",
    "        #Kurtosis\n",
    "        plt.figure(figsize=(20,2))\n",
    "        plt.plot(data[\"time\"], data.loc[:, variable].rolling(window=window).kurt(),\n",
    "                 label = \"Kurtosis\",\n",
    "                 color = 'green')\n",
    "        plt.xlabel(\"Time (s)\")\n",
    "        plt.title(\"Variable {}'s Kurtosis\".format(variable))\n",
    "        plt.show()\n",
    "        \n",
    "        #Skew\n",
    "        plt.figure(figsize=(20,2))\n",
    "        plt.plot(data[\"time\"], data.loc[:, variable].rolling(window=window).skew(),\n",
    "                 label = \"Skew\",\n",
    "                 color = 'purple')\n",
    "        plt.xlabel(\"Time (s)\")\n",
    "        plt.title(\"Variable {}'s Skew\".format(variable))\n",
    "        plt.show()\n",
    "        \n",
    "        \"\"\"\n",
    "        #Quantile\n",
    "        plt.figure(figsize=(20,2))\n",
    "        plt.plot(data[\"time\"], data.loc[:, variable].rolling(window=window).quantile(0.25), label = \"Quantile 25\",\n",
    "                 color = 'red')\n",
    "        plt.plot(data[\"time\"], data.loc[:, variable].rolling(window=window).quantile(0.75), label = \"Quantile 75\",\n",
    "                 color = 'orange')\n",
    "        plt.plot(data[\"time\"], data.loc[:, variable].rolling(window=window).quantile(0.50), label = \"Quantile 50\",\n",
    "                 color = 'green')\n",
    "        plt.legend(loc = \"best\")\n",
    "        plt.title(\"Variable {}'s Quantile\".format(variable))\n",
    "        plt.show()\n",
    "        \"\"\"\n",
    "        \n",
    "    #Plot\n",
    "    if variables:\n",
    "        for variable in variables:\n",
    "            print(variable)\n",
    "            plot_signal_and_statistics(variable)         \n",
    "    else:\n",
    "        for variable in data.columns[1:]:\n",
    "            print(variable)\n",
    "            plot_signal_and_statistics(variable)\n",
    "    \n",
    "    %reset -f in\n",
    "\n",
    "def plot_variable(data_dict, variable, time_range = None, window = 100):\n",
    "    for quench_name in data_dict.keys():\n",
    "        print(\"Quench's index: \" + quench_name)\n",
    "        if data_dict[quench_name] is not None:\n",
    "            if variable[0] in list(data_dict[quench_name].columns):\n",
    "                plot_statistics(data_dict[quench_name], variables = variable, time_range=time_range, window=window)\n",
    "\n",
    "\n",
    "########### PROCESS RAMPING DATA ###############\n",
    "def read_tdms_file(filepath):\n",
    "    \"\"\"Read the tdms file from a given path, return a pandas data frame of the tdms file\"\"\"\n",
    "    tdms_file = TdmsFile.read(data_path)\n",
    "    \n",
    "    data_frame = tdms_file.as_dataframe()\n",
    "    \n",
    "    del tdms_file\n",
    "    \n",
    "    #Just the last 3 symbols in columns name matter ('/'_unnamedTask<3>'/'PXI2Slot14/ai0') -> ai0\n",
    "    #Rename the columns\n",
    "    rename_map = []\n",
    "    \n",
    "    for column in data_frame.columns:\n",
    "        rename_map.append(column[-4:-1])\n",
    "    \n",
    "    data_frame.columns = rename_map\n",
    "    \n",
    "    #Add time axis relative to the time when quench happens\n",
    "    time_range = np.asarray(range(data_frame.shape[0]))\n",
    "    \n",
    "\n",
    "    #Center around the max value (quench happens at 0 time)\n",
    "    max_index = data_frame['ai7'].idxmax()\n",
    "    time_range -= max_index\n",
    "    time_range = time_range.astype('float32')\n",
    "    \n",
    "    #Multiply by datarate\n",
    "    time_range = np.multiply(time_range, 1e-5, out=time_range, casting=\"unsafe\")\n",
    "    \n",
    "    data_frame['time'] = time_range\n",
    "    \n",
    "    return data_frame\n",
    "\n",
    "def break_tdms_to_files(file_path):\n",
    "    \"\"\"Read the tdms file and break it into several files according to channels in a new directory\"\"\"\n",
    "    tdms_file = TdmsFile.read(file_path)\n",
    "    \n",
    "    data_frame = tdms_file.as_dataframe()\n",
    "    \n",
    "    del tdms_file\n",
    "    \n",
    "    os.mkdir(\"./data/\" + file_path[-10:-5])\n",
    "    \n",
    "    for channel in data_frame.columns:\n",
    "        np.save(\"./data/{}/{}\".format(file_path[-10:-5], channel[-4:-1]), data_frame.loc[:, channel].to_numpy())\n",
    "\n",
    "def calculate_time(dir_path):\n",
    "    \"\"\"Take a tdms file directory path (after the file is broken up), and calculate and output a time file.\"\"\"\n",
    "    \n",
    "    ai7 = np.load(dir_path + \"ai7.npy\")\n",
    "    \n",
    "    #Add time axis relative to the time when quench happens\n",
    "    time_range = np.asarray(range(ai7.shape[0]))\n",
    "    \n",
    "    #Center around the max value (quench happens at 0 time)\n",
    "    max_index = np.argmax(ai7)\n",
    "    time_range -= max_index\n",
    "    time_range = time_range.astype('float32')\n",
    "    \n",
    "    #Multiply by datarate\n",
    "    time_range = np.multiply(time_range, 1e-5, out=time_range, casting=\"unsafe\")\n",
    "    \n",
    "    np.save(dir_path + \"time\", time_range)\n",
    "\n",
    "def load_channel_and_time(dir_path, channel):\n",
    "    data_frame = pd.DataFrame(data = {channel: np.load(dir_path + channel + \".npy\"),\n",
    "                                     \"time\": np.load(dir_path + \"time.npy\")})\n",
    "    return data_frame\n",
    "\n",
    "def plot_channel(data, channel, time_range = None):\n",
    "    start = min(data[\"time\"])\n",
    "    end = max(data[\"time\"])\n",
    "    \n",
    "    if time_range:\n",
    "        start = time_range[0]\n",
    "        end = time_range[1]\n",
    "        \n",
    "    data = data[(data[\"time\"] > start) & (data[\"time\"] < end)]\n",
    "    \n",
    "    plt.figure(figsize=(20,2))\n",
    "    plt.plot(data[\"time\"], data[channel])\n",
    "    plt.title(\"Variable {}\".format(channel))\n",
    "    plt.show()\n",
    "    \n",
    "    %reset -f in\n",
    "\n",
    "def load_and_plot(dir_path, channel, time_range = None, stat = False, window = 100):\n",
    "    ai = load_channel_and_time(dir_path, channel)\n",
    "    \n",
    "    if stat:\n",
    "        plot_statistics(ai, variables = [channel], time_range = time_range, window = window)\n",
    "    else:\n",
    "        plot_channel(ai, channel, time_range = time_range)\n",
    "    \n",
    "    %reset -f in"
   ]
  },
  {
   "cell_type": "code",
   "execution_count": 4,
   "metadata": {},
   "outputs": [],
   "source": [
    "def generate_data(dir_path, channel, time_range, window = 1000, step = 10):\n",
    "    #Load the data\n",
    "    data = load_channel_and_time(dir_path, channel)\n",
    "    \n",
    "    #Select the part\n",
    "    start = time_range[0]\n",
    "    end = time_range[1]\n",
    "    data = data[(data[\"time\"] > start) & (data[\"time\"] < end)]\n",
    "    \n",
    "    #Calculate the statistics\n",
    "    #data[\"Mean\"] = data.loc[:, channel].rolling(window=window).mean()\n",
    "    data[\"SD\"] = data.loc[:, channel].rolling(window=window).std()\n",
    "    data[\"Kurtosis\"] = data.loc[:, channel].rolling(window=window).kurt()\n",
    "    data[\"Skew\"] = data.loc[:, channel].rolling(window=window).skew()\n",
    "    \n",
    "    select_list = [channel, \"SD\", \"Kurtosis\", \"Skew\"]\n",
    "    \n",
    "    assert data[select_list].to_numpy()[window-1::step].shape[0] == data['time'].to_numpy()[window-1::step].shape[0]\n",
    "    \n",
    "    %reset -f in\n",
    "    \n",
    "    return data[select_list].to_numpy()[window-1::step], data['time'].to_numpy()[window-1::step]\n",
    "\n",
    "def generate_data_no_time(dir_path, channel, time_range, window = 1000, step = 10):\n",
    "    #Load the data\n",
    "    data = load_channel_and_time(dir_path, channel)\n",
    "    \n",
    "    #Select the part\n",
    "    start = time_range[0]\n",
    "    end = time_range[1]\n",
    "    data = data[(data[\"time\"] > start) & (data[\"time\"] < end)]\n",
    "    \n",
    "    #Calculate the statistics\n",
    "    #data[\"Mean\"] = data.loc[:, channel].rolling(window=window).mean()\n",
    "    data[\"SD\"] = data.loc[:, channel].rolling(window=window).std()\n",
    "    data[\"Kurtosis\"] = data.loc[:, channel].rolling(window=window).kurt()\n",
    "    data[\"Skew\"] = data.loc[:, channel].rolling(window=window).skew()\n",
    "    \n",
    "    select_list = [channel, \"SD\", \"Kurtosis\", \"Skew\"]\n",
    "    \n",
    "    %reset -f in\n",
    "    \n",
    "    return data[select_list].to_numpy()[window-1::step]\n",
    "\n",
    "def generate_data_all_sensors(dir_path, time_range, window = 1000, step = 10):\n",
    "    \n",
    "    ai0, time = generate_data(dir_path, \"ai0\", time_range = time_range, window = window, step = step)\n",
    "    ai1 = generate_data_no_time(dir_path, \"ai1\", time_range = time_range, window = window, step = step)\n",
    "    ai2 = generate_data_no_time(dir_path, \"ai2\", time_range = time_range, window = window, step = step)\n",
    "    ai3 = generate_data_no_time(dir_path, \"ai3\", time_range = time_range, window = window, step = step)\n",
    "    ai4 = generate_data_no_time(dir_path, \"ai4\", time_range = time_range, window = window, step = step)\n",
    "    \n",
    "    all_channels = np.concatenate((ai0,ai1,ai2,ai3,ai4), axis = 1)\n",
    "    \n",
    "    %reset -f in\n",
    "    \n",
    "    return all_channels, time"
   ]
  },
  {
   "cell_type": "markdown",
   "metadata": {},
   "source": [
    "## 1.1 Window size: 10ms; step = 100us"
   ]
  },
  {
   "cell_type": "code",
   "execution_count": 7,
   "metadata": {
    "collapsed": true
   },
   "outputs": [
    {
     "name": "stdout",
     "output_type": "stream",
     "text": [
      "Flushing input history\n",
      "Flushing input history\n",
      "Flushing input history\n",
      "Flushing input history\n",
      "Flushing input history\n",
      "Flushing input history\n",
      "Flushing input history\n",
      "Flushing input history\n",
      "Flushing input history\n",
      "Flushing input history\n",
      "Flushing input history\n",
      "Flushing input history\n",
      "X_train's shape:  (999900, 20)\n",
      "X_test's shape:  (199900, 20)\n"
     ]
    }
   ],
   "source": [
    "X_train, train_time = generate_data_all_sensors(\"./data/Ramp4/\", time_range = (-450, -350), window = 1000, step = 10)\n",
    "X_test, test_time = generate_data_all_sensors(\"./data/Ramp4/\", time_range = (-20, 0), window = 1000, step = 10)\n",
    "print(\"X_train's shape: \", X_train.shape)\n",
    "print(\"X_test's shape: \", X_test.shape)"
   ]
  },
  {
   "cell_type": "code",
   "execution_count": 8,
   "metadata": {
    "collapsed": true
   },
   "outputs": [
    {
     "name": "stdout",
     "output_type": "stream",
     "text": [
      "Using Keras version:  2.3.1\n",
      "Model: \"sequential_1\"\n",
      "_________________________________________________________________\n",
      "Layer (type)                 Output Shape              Param #   \n",
      "=================================================================\n",
      "dense_1 (Dense)              (None, 15)                315       \n",
      "_________________________________________________________________\n",
      "dense_2 (Dense)              (None, 10)                160       \n",
      "_________________________________________________________________\n",
      "dense_3 (Dense)              (None, 7)                 77        \n",
      "_________________________________________________________________\n",
      "dense_4 (Dense)              (None, 10)                80        \n",
      "_________________________________________________________________\n",
      "dense_5 (Dense)              (None, 15)                165       \n",
      "_________________________________________________________________\n",
      "dense_6 (Dense)              (None, 20)                320       \n",
      "=================================================================\n",
      "Total params: 1,117\n",
      "Trainable params: 1,117\n",
      "Non-trainable params: 0\n",
      "_________________________________________________________________\n"
     ]
    }
   ],
   "source": [
    "#================BUILD THE MODEL====================\n",
    "print(\"Using Keras version: \", keras.__version__)\n",
    "\n",
    "# Simple model\n",
    "model = models.Sequential()\n",
    "\n",
    "model.add(Dense(15, activation = 'elu', kernel_initializer='glorot_uniform',\n",
    "                kernel_regularizer=regularizers.l2(0.0),\n",
    "                input_dim=X_train.shape[1]))\n",
    "\n",
    "model.add(Dense(10,activation='elu',\n",
    "                kernel_initializer='glorot_uniform'))\n",
    "\n",
    "model.add(Dense(7,activation='elu',\n",
    "                kernel_initializer='glorot_uniform'))\n",
    "\n",
    "model.add(Dense(10,activation='elu',\n",
    "                kernel_initializer='glorot_uniform'))\n",
    "\n",
    "model.add(Dense(15,activation='elu',\n",
    "                kernel_initializer='glorot_uniform'))\n",
    "\n",
    "model.add(Dense(X_train.shape[1],\n",
    "                kernel_initializer='glorot_uniform'))\n",
    "\n",
    "model.compile(loss='mse',optimizer='adam')\n",
    "\n",
    "model.summary()"
   ]
  },
  {
   "cell_type": "code",
   "execution_count": 9,
   "metadata": {
    "collapsed": true
   },
   "outputs": [
    {
     "name": "stdout",
     "output_type": "stream",
     "text": [
      "Train on 899910 samples, validate on 99990 samples\n",
      "Epoch 1/50\n",
      "899910/899910 [==============================] - 8s 9us/step - loss: 3.7211 - val_loss: 0.3336\n",
      "Epoch 2/50\n",
      "899910/899910 [==============================] - 7s 8us/step - loss: 0.1279 - val_loss: 0.0568\n",
      "Epoch 3/50\n",
      "899910/899910 [==============================] - 7s 8us/step - loss: 0.0406 - val_loss: 0.0454\n",
      "Epoch 4/50\n",
      "899910/899910 [==============================] - 7s 8us/step - loss: 0.0336 - val_loss: 0.0401\n",
      "Epoch 5/50\n",
      "899910/899910 [==============================] - 7s 7us/step - loss: 0.0305 - val_loss: 0.0367\n",
      "Epoch 6/50\n",
      "899910/899910 [==============================] - 7s 8us/step - loss: 0.0276 - val_loss: 0.0334\n",
      "Epoch 7/50\n",
      "899910/899910 [==============================] - 7s 8us/step - loss: 0.0238 - val_loss: 0.0310\n",
      "Epoch 8/50\n",
      "899910/899910 [==============================] - 6s 7us/step - loss: 0.0201 - val_loss: 0.0298\n",
      "Epoch 9/50\n",
      "899910/899910 [==============================] - 7s 8us/step - loss: 0.0178 - val_loss: 0.0280\n",
      "Epoch 10/50\n",
      "899910/899910 [==============================] - 7s 8us/step - loss: 0.0169 - val_loss: 0.0274\n",
      "Epoch 11/50\n",
      "899910/899910 [==============================] - 7s 8us/step - loss: 0.0164 - val_loss: 0.0270\n",
      "Epoch 12/50\n",
      "899910/899910 [==============================] - 7s 8us/step - loss: 0.0160 - val_loss: 0.0259\n",
      "Epoch 13/50\n",
      "899910/899910 [==============================] - 7s 8us/step - loss: 0.0155 - val_loss: 0.0242\n",
      "Epoch 14/50\n",
      "899910/899910 [==============================] - 7s 8us/step - loss: 0.0150 - val_loss: 0.0220\n",
      "Epoch 15/50\n",
      "899910/899910 [==============================] - 7s 7us/step - loss: 0.0145 - val_loss: 0.0204\n",
      "Epoch 16/50\n",
      "899910/899910 [==============================] - 7s 8us/step - loss: 0.0142 - val_loss: 0.0191\n",
      "Epoch 17/50\n",
      "899910/899910 [==============================] - 7s 8us/step - loss: 0.0140 - val_loss: 0.0188\n",
      "Epoch 18/50\n",
      "899910/899910 [==============================] - 6s 7us/step - loss: 0.0138 - val_loss: 0.0186\n",
      "Epoch 19/50\n",
      "899910/899910 [==============================] - 7s 8us/step - loss: 0.0137 - val_loss: 0.0188\n",
      "Epoch 20/50\n",
      "899910/899910 [==============================] - 7s 8us/step - loss: 0.0137 - val_loss: 0.0182\n",
      "Epoch 21/50\n",
      "899910/899910 [==============================] - 7s 8us/step - loss: 0.0136 - val_loss: 0.0179\n",
      "Epoch 22/50\n",
      "899910/899910 [==============================] - 7s 8us/step - loss: 0.0135 - val_loss: 0.0180\n",
      "Epoch 23/50\n",
      "899910/899910 [==============================] - 7s 8us/step - loss: 0.0134 - val_loss: 0.0179\n",
      "Epoch 24/50\n",
      "899910/899910 [==============================] - 7s 8us/step - loss: 0.0134 - val_loss: 0.0181\n",
      "Epoch 25/50\n",
      "899910/899910 [==============================] - 7s 7us/step - loss: 0.0133 - val_loss: 0.0177\n",
      "Epoch 26/50\n",
      "899910/899910 [==============================] - 8s 9us/step - loss: 0.0132 - val_loss: 0.0176\n",
      "Epoch 27/50\n",
      "899910/899910 [==============================] - 6s 7us/step - loss: 0.0130 - val_loss: 0.0179\n",
      "Epoch 28/50\n",
      "899910/899910 [==============================] - 7s 8us/step - loss: 0.0129 - val_loss: 0.0179\n",
      "Epoch 29/50\n",
      "899910/899910 [==============================] - 7s 7us/step - loss: 0.0126 - val_loss: 0.0177\n",
      "Epoch 30/50\n",
      "899910/899910 [==============================] - 7s 8us/step - loss: 0.0123 - val_loss: 0.0172\n",
      "Epoch 31/50\n",
      "899910/899910 [==============================] - 7s 7us/step - loss: 0.0119 - val_loss: 0.0171\n",
      "Epoch 32/50\n",
      "899910/899910 [==============================] - 7s 8us/step - loss: 0.0114 - val_loss: 0.0166\n",
      "Epoch 33/50\n",
      "899910/899910 [==============================] - 7s 8us/step - loss: 0.0109 - val_loss: 0.0161\n",
      "Epoch 34/50\n",
      "899910/899910 [==============================] - 7s 8us/step - loss: 0.0106 - val_loss: 0.0171\n",
      "Epoch 35/50\n",
      "899910/899910 [==============================] - 7s 8us/step - loss: 0.0103 - val_loss: 0.0158\n",
      "Epoch 36/50\n",
      "899910/899910 [==============================] - 7s 8us/step - loss: 0.0101 - val_loss: 0.0156\n",
      "Epoch 37/50\n",
      "899910/899910 [==============================] - 7s 8us/step - loss: 0.0100 - val_loss: 0.0155\n",
      "Epoch 38/50\n",
      "899910/899910 [==============================] - 7s 7us/step - loss: 0.0098 - val_loss: 0.0148\n",
      "Epoch 39/50\n",
      "899910/899910 [==============================] - 7s 8us/step - loss: 0.0098 - val_loss: 0.0147\n",
      "Epoch 40/50\n",
      "899910/899910 [==============================] - 6s 7us/step - loss: 0.0096 - val_loss: 0.0146\n",
      "Epoch 41/50\n",
      "899910/899910 [==============================] - 6s 7us/step - loss: 0.0095 - val_loss: 0.0144\n",
      "Epoch 42/50\n",
      "899910/899910 [==============================] - 7s 8us/step - loss: 0.0094 - val_loss: 0.0139\n",
      "Epoch 43/50\n",
      "899910/899910 [==============================] - 7s 8us/step - loss: 0.0093 - val_loss: 0.0133\n",
      "Epoch 44/50\n",
      "899910/899910 [==============================] - 7s 8us/step - loss: 0.0092 - val_loss: 0.0136\n",
      "Epoch 45/50\n",
      "899910/899910 [==============================] - 7s 8us/step - loss: 0.0091 - val_loss: 0.0136\n",
      "Epoch 46/50\n",
      "899910/899910 [==============================] - 7s 8us/step - loss: 0.0090 - val_loss: 0.0137\n",
      "Epoch 47/50\n",
      "899910/899910 [==============================] - 7s 7us/step - loss: 0.0089 - val_loss: 0.0127\n",
      "Epoch 48/50\n",
      "899910/899910 [==============================] - 7s 8us/step - loss: 0.0088 - val_loss: 0.0126\n",
      "Epoch 49/50\n",
      "899910/899910 [==============================] - 7s 8us/step - loss: 0.0087 - val_loss: 0.0124\n",
      "Epoch 50/50\n",
      "899910/899910 [==============================] - 7s 8us/step - loss: 0.0086 - val_loss: 0.0121\n"
     ]
    }
   ],
   "source": [
    "# Train model for 100 epochs, batch size of 10: \n",
    "NUM_EPOCHS=50\n",
    "BATCH_SIZE=2000\n",
    "\n",
    "history=model.fit(X_train, X_train,\n",
    "                  batch_size=BATCH_SIZE, \n",
    "                  epochs=NUM_EPOCHS,\n",
    "                  validation_split=0.1,\n",
    "                  verbose = 1)"
   ]
  },
  {
   "cell_type": "code",
   "execution_count": 19,
   "metadata": {},
   "outputs": [],
   "source": [
    "model.save(\"./models/All-Ramp4-10mswin-100usstep.h5\")"
   ]
  },
  {
   "cell_type": "code",
   "execution_count": 10,
   "metadata": {
    "collapsed": true
   },
   "outputs": [
    {
     "data": {
      "image/png": "[encoded data removed]",
      "text/plain": [
       "<Figure size 432x288 with 1 Axes>"
      ]
     },
     "metadata": {
      "needs_background": "light"
     },
     "output_type": "display_data"
    }
   ],
   "source": [
    "plt.plot(history.history['loss'],\n",
    "         'b',\n",
    "         label='Training loss')\n",
    "plt.plot(history.history['val_loss'],\n",
    "         'r',\n",
    "         label='Validation loss')\n",
    "plt.legend(loc='upper right')\n",
    "plt.xlabel('Epochs')\n",
    "plt.ylabel('Loss, [mse]')\n",
    "plt.show()"
   ]
  },
  {
   "cell_type": "code",
   "execution_count": 11,
   "metadata": {},
   "outputs": [],
   "source": [
    "X_pred = model.predict(np.array(X_train))\n",
    "scored = pd.DataFrame()\n",
    "scored['Loss_mse'] = np.mean(np.abs(X_pred-X_train), axis = 1)"
   ]
  },
  {
   "cell_type": "code",
   "execution_count": 15,
   "metadata": {
    "collapsed": true
   },
   "outputs": [
    {
     "data": {
      "text/plain": [
       "Text(0.5, 0, 'Time (s)')"
      ]
     },
     "execution_count": 15,
     "metadata": {},
     "output_type": "execute_result"
    },
    {
     "data": {
      "image/png": "[encoded data removed]",
      "text/plain": [
       "<Figure size 1440x144 with 1 Axes>"
      ]
     },
     "metadata": {
      "needs_background": "light"
     },
     "output_type": "display_data"
    }
   ],
   "source": [
    "plt.figure(figsize=(20,2))\n",
    "plt.plot(train_time, scored['Loss_mse'])\n",
    "plt.ylim([0,15])\n",
    "plt.xlabel(\"Time (s)\")"
   ]
  },
  {
   "cell_type": "code",
   "execution_count": 13,
   "metadata": {},
   "outputs": [],
   "source": [
    "X_pred_test = model.predict(np.array(X_test))\n",
    "scored_test = pd.DataFrame()\n",
    "scored_test['Loss_mse'] = np.mean(np.abs(X_pred_test-X_test), axis = 1)"
   ]
  },
  {
   "cell_type": "code",
   "execution_count": 16,
   "metadata": {
    "collapsed": true
   },
   "outputs": [
    {
     "data": {
      "text/plain": [
       "Text(0.5, 0, 'Time (s)')"
      ]
     },
     "execution_count": 16,
     "metadata": {},
     "output_type": "execute_result"
    },
    {
     "data": {
      "image/png": "[encoded data removed]",
      "text/plain": [
       "<Figure size 1440x144 with 1 Axes>"
      ]
     },
     "metadata": {
      "needs_background": "light"
     },
     "output_type": "display_data"
    }
   ],
   "source": [
    "plt.figure(figsize=(20,2))\n",
    "plt.plot(test_time, scored_test['Loss_mse'])\n",
    "plt.ylim([0,15])\n",
    "#plt.xlim([-15,0])\n",
    "plt.xlabel(\"Time (s)\")"
   ]
  },
  {
   "cell_type": "code",
   "execution_count": 18,
   "metadata": {
    "collapsed": true
   },
   "outputs": [
    {
     "data": {
      "text/plain": [
       "Text(0.5, 0, 'Time (s)')"
      ]
     },
     "execution_count": 18,
     "metadata": {},
     "output_type": "execute_result"
    },
    {
     "data": {
      "image/png": "[encoded data removed]",
      "text/plain": [
       "<Figure size 1440x144 with 1 Axes>"
      ]
     },
     "metadata": {
      "needs_background": "light"
     },
     "output_type": "display_data"
    }
   ],
   "source": [
    "plt.figure(figsize=(20,2))\n",
    "plt.plot(test_time, scored_test['Loss_mse'])\n",
    "plt.ylim([0,15])\n",
    "plt.xlim([-2.5,0])\n",
    "plt.xlabel(\"Time (s)\")"
   ]
  },
  {
   "cell_type": "markdown",
   "metadata": {},
   "source": [
    "## 1.2 Window size: 100ms; step = 100us"
   ]
  },
  {
   "cell_type": "code",
   "execution_count": 5,
   "metadata": {
    "collapsed": true
   },
   "outputs": [
    {
     "name": "stdout",
     "output_type": "stream",
     "text": [
      "Flushing input history\n",
      "Flushing input history\n",
      "Flushing input history\n",
      "Flushing input history\n",
      "Flushing input history\n",
      "Flushing input history\n",
      "Flushing input history\n",
      "Flushing input history\n",
      "Flushing input history\n",
      "Flushing input history\n",
      "Flushing input history\n",
      "Flushing input history\n",
      "X_train's shape:  (999000, 20)\n",
      "X_test's shape:  (199000, 20)\n"
     ]
    }
   ],
   "source": [
    "X_train, train_time = generate_data_all_sensors(\"./data/Ramp4/\", time_range = (-450, -350), window = 10000, step = 10)\n",
    "X_test, test_time = generate_data_all_sensors(\"./data/Ramp4/\", time_range = (-20, 0), window = 10000, step = 10)\n",
    "print(\"X_train's shape: \", X_train.shape)\n",
    "print(\"X_test's shape: \", X_test.shape)"
   ]
  },
  {
   "cell_type": "code",
   "execution_count": 6,
   "metadata": {
    "collapsed": true
   },
   "outputs": [
    {
     "name": "stdout",
     "output_type": "stream",
     "text": [
      "Using Keras version:  2.3.1\n",
      "Model: \"sequential_1\"\n",
      "_________________________________________________________________\n",
      "Layer (type)                 Output Shape              Param #   \n",
      "=================================================================\n",
      "dense_1 (Dense)              (None, 15)                315       \n",
      "_________________________________________________________________\n",
      "dense_2 (Dense)              (None, 10)                160       \n",
      "_________________________________________________________________\n",
      "dense_3 (Dense)              (None, 7)                 77        \n",
      "_________________________________________________________________\n",
      "dense_4 (Dense)              (None, 10)                80        \n",
      "_________________________________________________________________\n",
      "dense_5 (Dense)              (None, 15)                165       \n",
      "_________________________________________________________________\n",
      "dense_6 (Dense)              (None, 20)                320       \n",
      "=================================================================\n",
      "Total params: 1,117\n",
      "Trainable params: 1,117\n",
      "Non-trainable params: 0\n",
      "_________________________________________________________________\n"
     ]
    }
   ],
   "source": [
    "#================BUILD THE MODEL====================\n",
    "print(\"Using Keras version: \", keras.__version__)\n",
    "\n",
    "# Simple model\n",
    "model = models.Sequential()\n",
    "\n",
    "model.add(Dense(15, activation = 'elu', kernel_initializer='glorot_uniform',\n",
    "                kernel_regularizer=regularizers.l2(0.0),\n",
    "                input_dim=X_train.shape[1]))\n",
    "\n",
    "model.add(Dense(10,activation='elu',\n",
    "                kernel_initializer='glorot_uniform'))\n",
    "\n",
    "model.add(Dense(7,activation='elu',\n",
    "                kernel_initializer='glorot_uniform'))\n",
    "\n",
    "model.add(Dense(10,activation='elu',\n",
    "                kernel_initializer='glorot_uniform'))\n",
    "\n",
    "model.add(Dense(15,activation='elu',\n",
    "                kernel_initializer='glorot_uniform'))\n",
    "\n",
    "model.add(Dense(X_train.shape[1],\n",
    "                kernel_initializer='glorot_uniform'))\n",
    "\n",
    "model.compile(loss='mse',optimizer='adam')\n",
    "\n",
    "model.summary()"
   ]
  },
  {
   "cell_type": "code",
   "execution_count": 7,
   "metadata": {
    "collapsed": true
   },
   "outputs": [
    {
     "name": "stdout",
     "output_type": "stream",
     "text": [
      "Train on 899100 samples, validate on 99900 samples\n",
      "Epoch 1/50\n",
      "899100/899100 [==============================] - 8s 9us/step - loss: 57.5116 - val_loss: 0.4514\n",
      "Epoch 2/50\n",
      "899100/899100 [==============================] - 7s 8us/step - loss: 0.3322 - val_loss: 0.1177\n",
      "Epoch 3/50\n",
      "899100/899100 [==============================] - 7s 7us/step - loss: 0.1953 - val_loss: 0.0916\n",
      "Epoch 4/50\n",
      "899100/899100 [==============================] - 7s 8us/step - loss: 0.1740 - val_loss: 0.0800\n",
      "Epoch 5/50\n",
      "899100/899100 [==============================] - 7s 8us/step - loss: 0.1627 - val_loss: 0.0735\n",
      "Epoch 6/50\n",
      "899100/899100 [==============================] - 7s 8us/step - loss: 0.1558 - val_loss: 0.0707\n",
      "Epoch 7/50\n",
      "899100/899100 [==============================] - 7s 8us/step - loss: 0.1511 - val_loss: 0.0683\n",
      "Epoch 8/50\n",
      "899100/899100 [==============================] - 7s 7us/step - loss: 0.1478 - val_loss: 0.0690\n",
      "Epoch 9/50\n",
      "899100/899100 [==============================] - 7s 8us/step - loss: 0.1460 - val_loss: 0.0685\n",
      "Epoch 10/50\n",
      "899100/899100 [==============================] - 6s 7us/step - loss: 0.1443 - val_loss: 0.0698\n",
      "Epoch 11/50\n",
      "899100/899100 [==============================] - 6s 7us/step - loss: 0.1424 - val_loss: 0.0715\n",
      "Epoch 12/50\n",
      "899100/899100 [==============================] - 7s 8us/step - loss: 0.1378 - val_loss: 0.0695\n",
      "Epoch 13/50\n",
      "899100/899100 [==============================] - 7s 8us/step - loss: 0.1076 - val_loss: 0.0416\n",
      "Epoch 14/50\n",
      "899100/899100 [==============================] - 7s 8us/step - loss: 0.0366 - val_loss: 0.0258\n",
      "Epoch 15/50\n",
      "899100/899100 [==============================] - 7s 8us/step - loss: 0.0286 - val_loss: 0.0256\n",
      "Epoch 16/50\n",
      "899100/899100 [==============================] - 7s 8us/step - loss: 0.0273 - val_loss: 0.0256\n",
      "Epoch 17/50\n",
      "899100/899100 [==============================] - 7s 7us/step - loss: 0.0269 - val_loss: 0.0306\n",
      "Epoch 18/50\n",
      "899100/899100 [==============================] - 7s 7us/step - loss: 0.0265 - val_loss: 0.0244\n",
      "Epoch 19/50\n",
      "899100/899100 [==============================] - 7s 8us/step - loss: 0.0262 - val_loss: 0.0253\n",
      "Epoch 20/50\n",
      "899100/899100 [==============================] - 7s 7us/step - loss: 0.0255 - val_loss: 0.0216\n",
      "Epoch 21/50\n",
      "899100/899100 [==============================] - 7s 7us/step - loss: 0.0253 - val_loss: 0.0233\n",
      "Epoch 22/50\n",
      "899100/899100 [==============================] - 7s 8us/step - loss: 0.0243 - val_loss: 0.0211\n",
      "Epoch 23/50\n",
      "899100/899100 [==============================] - 7s 8us/step - loss: 0.0232 - val_loss: 0.0216\n",
      "Epoch 24/50\n",
      "899100/899100 [==============================] - 7s 8us/step - loss: 0.0223 - val_loss: 0.0197\n",
      "Epoch 25/50\n",
      "899100/899100 [==============================] - 7s 8us/step - loss: 0.0216 - val_loss: 0.0193\n",
      "Epoch 26/50\n",
      "899100/899100 [==============================] - 6s 7us/step - loss: 0.0207 - val_loss: 0.0195\n",
      "Epoch 27/50\n",
      "899100/899100 [==============================] - 7s 8us/step - loss: 0.0205 - val_loss: 0.0194\n",
      "Epoch 28/50\n",
      "899100/899100 [==============================] - 7s 7us/step - loss: 0.0195 - val_loss: 0.0200\n",
      "Epoch 29/50\n",
      "899100/899100 [==============================] - 6s 7us/step - loss: 0.0187 - val_loss: 0.0192\n",
      "Epoch 30/50\n",
      "899100/899100 [==============================] - 6s 7us/step - loss: 0.0185 - val_loss: 0.0185\n",
      "Epoch 31/50\n",
      "899100/899100 [==============================] - 7s 7us/step - loss: 0.0190 - val_loss: 0.0185\n",
      "Epoch 32/50\n",
      "899100/899100 [==============================] - 7s 7us/step - loss: 0.0180 - val_loss: 0.0182\n",
      "Epoch 33/50\n",
      "899100/899100 [==============================] - 7s 8us/step - loss: 0.0175 - val_loss: 0.0173\n",
      "Epoch 34/50\n",
      "899100/899100 [==============================] - 7s 8us/step - loss: 0.0178 - val_loss: 0.0191\n",
      "Epoch 35/50\n",
      "899100/899100 [==============================] - 6s 7us/step - loss: 0.0183 - val_loss: 0.0171\n",
      "Epoch 36/50\n",
      "899100/899100 [==============================] - 7s 7us/step - loss: 0.0169 - val_loss: 0.0163\n",
      "Epoch 37/50\n",
      "899100/899100 [==============================] - 6s 7us/step - loss: 0.0177 - val_loss: 0.0168\n",
      "Epoch 38/50\n",
      "899100/899100 [==============================] - 7s 8us/step - loss: 0.0175 - val_loss: 0.0169\n",
      "Epoch 39/50\n",
      "899100/899100 [==============================] - 7s 7us/step - loss: 0.0169 - val_loss: 0.0220\n",
      "Epoch 40/50\n",
      "899100/899100 [==============================] - 7s 8us/step - loss: 0.0169 - val_loss: 0.0165\n",
      "Epoch 41/50\n",
      "899100/899100 [==============================] - 7s 8us/step - loss: 0.0170 - val_loss: 0.0190\n",
      "Epoch 42/50\n",
      "899100/899100 [==============================] - 7s 8us/step - loss: 0.0167 - val_loss: 0.0155\n",
      "Epoch 43/50\n",
      "899100/899100 [==============================] - 7s 8us/step - loss: 0.0169 - val_loss: 0.0167\n",
      "Epoch 44/50\n",
      "899100/899100 [==============================] - 6s 7us/step - loss: 0.0162 - val_loss: 0.0165\n",
      "Epoch 45/50\n",
      "899100/899100 [==============================] - 7s 8us/step - loss: 0.0166 - val_loss: 0.0160\n",
      "Epoch 46/50\n",
      "899100/899100 [==============================] - 7s 7us/step - loss: 0.0163 - val_loss: 0.0150\n",
      "Epoch 47/50\n",
      "899100/899100 [==============================] - 7s 8us/step - loss: 0.0163 - val_loss: 0.0160\n",
      "Epoch 48/50\n",
      "899100/899100 [==============================] - 7s 8us/step - loss: 0.0161 - val_loss: 0.0164\n",
      "Epoch 49/50\n",
      "899100/899100 [==============================] - 7s 7us/step - loss: 0.0163 - val_loss: 0.0160\n",
      "Epoch 50/50\n",
      "899100/899100 [==============================] - 7s 8us/step - loss: 0.0159 - val_loss: 0.0150\n"
     ]
    }
   ],
   "source": [
    "# Train model for 100 epochs, batch size of 10: \n",
    "NUM_EPOCHS=50\n",
    "BATCH_SIZE=2000\n",
    "\n",
    "history=model.fit(X_train, X_train,\n",
    "                  batch_size=BATCH_SIZE, \n",
    "                  epochs=NUM_EPOCHS,\n",
    "                  validation_split=0.1,\n",
    "                  verbose = 1)"
   ]
  },
  {
   "cell_type": "code",
   "execution_count": 8,
   "metadata": {},
   "outputs": [],
   "source": [
    "model.save(\"./models/All-Ramp4-100mswin-100usstep.h5\")"
   ]
  },
  {
   "cell_type": "code",
   "execution_count": 9,
   "metadata": {
    "collapsed": true
   },
   "outputs": [
    {
     "data": {
      "image/png": "[encoded data removed]",
      "text/plain": [
       "<Figure size 432x288 with 1 Axes>"
      ]
     },
     "metadata": {
      "needs_background": "light"
     },
     "output_type": "display_data"
    }
   ],
   "source": [
    "plt.plot(history.history['loss'],\n",
    "         'b',\n",
    "         label='Training loss')\n",
    "plt.plot(history.history['val_loss'],\n",
    "         'r',\n",
    "         label='Validation loss')\n",
    "plt.legend(loc='upper right')\n",
    "plt.xlabel('Epochs')\n",
    "plt.ylabel('Loss, [mse]')\n",
    "plt.show()"
   ]
  },
  {
   "cell_type": "code",
   "execution_count": 10,
   "metadata": {},
   "outputs": [],
   "source": [
    "X_pred = model.predict(np.array(X_train))\n",
    "scored = pd.DataFrame()\n",
    "scored['Loss_mse'] = np.mean(np.abs(X_pred-X_train), axis = 1)"
   ]
  },
  {
   "cell_type": "code",
   "execution_count": 11,
   "metadata": {
    "scrolled": true
   },
   "outputs": [
    {
     "data": {
      "text/plain": [
       "Text(0.5, 0, 'Time (s)')"
      ]
     },
     "execution_count": 11,
     "metadata": {},
     "output_type": "execute_result"
    },
    {
     "data": {
      "image/png": "[encoded data removed]",
      "text/plain": [
       "<Figure size 1440x144 with 1 Axes>"
      ]
     },
     "metadata": {
      "needs_background": "light"
     },
     "output_type": "display_data"
    }
   ],
   "source": [
    "plt.figure(figsize=(20,2))\n",
    "plt.plot(train_time, scored['Loss_mse'])\n",
    "plt.ylim([0,15])\n",
    "plt.xlabel(\"Time (s)\")"
   ]
  },
  {
   "cell_type": "code",
   "execution_count": 12,
   "metadata": {},
   "outputs": [],
   "source": [
    "X_pred_test = model.predict(np.array(X_test))\n",
    "scored_test = pd.DataFrame()\n",
    "scored_test['Loss_mse'] = np.mean(np.abs(X_pred_test-X_test), axis = 1)"
   ]
  },
  {
   "cell_type": "code",
   "execution_count": 15,
   "metadata": {
    "scrolled": true
   },
   "outputs": [
    {
     "data": {
      "text/plain": [
       "Text(0.5, 0, 'Time (s)')"
      ]
     },
     "execution_count": 15,
     "metadata": {},
     "output_type": "execute_result"
    },
    {
     "data": {
      "image/png": "[encoded data removed]",
      "text/plain": [
       "<Figure size 1440x144 with 1 Axes>"
      ]
     },
     "metadata": {
      "needs_background": "light"
     },
     "output_type": "display_data"
    }
   ],
   "source": [
    "plt.figure(figsize=(20,2))\n",
    "plt.plot(test_time, scored_test['Loss_mse'])\n",
    "plt.ylim([0,15])\n",
    "plt.xlim([-100e-3,0])\n",
    "plt.xlabel(\"Time (s)\")"
   ]
  },
  {
   "cell_type": "markdown",
   "metadata": {},
   "source": [
    "## 3 Window size: 1s; step = 100us"
   ]
  },
  {
   "cell_type": "code",
   "execution_count": 6,
   "metadata": {
    "collapsed": true
   },
   "outputs": [
    {
     "name": "stdout",
     "output_type": "stream",
     "text": [
      "Flushing input history\n",
      "Flushing input history\n",
      "Flushing input history\n",
      "Flushing input history\n",
      "Flushing input history\n",
      "Flushing input history\n",
      "Flushing input history\n",
      "Flushing input history\n",
      "Flushing input history\n",
      "Flushing input history\n",
      "Flushing input history\n",
      "Flushing input history\n",
      "X_train's shape:  (990000, 20)\n",
      "X_test's shape:  (190000, 20)\n"
     ]
    }
   ],
   "source": [
    "X_train, train_time = generate_data_all_sensors(\"./data/Ramp4/\", time_range = (-450, -350), window = 100000, step = 10)\n",
    "X_test, test_time = generate_data_all_sensors(\"./data/Ramp4/\", time_range = (-20, 0), window = 100000, step = 10)\n",
    "print(\"X_train's shape: \", X_train.shape)\n",
    "print(\"X_test's shape: \", X_test.shape)"
   ]
  },
  {
   "cell_type": "code",
   "execution_count": 7,
   "metadata": {
    "collapsed": true
   },
   "outputs": [
    {
     "name": "stdout",
     "output_type": "stream",
     "text": [
      "Using Keras version:  2.3.1\n",
      "Model: \"sequential_1\"\n",
      "_________________________________________________________________\n",
      "Layer (type)                 Output Shape              Param #   \n",
      "=================================================================\n",
      "dense_1 (Dense)              (None, 15)                315       \n",
      "_________________________________________________________________\n",
      "dense_2 (Dense)              (None, 10)                160       \n",
      "_________________________________________________________________\n",
      "dense_3 (Dense)              (None, 7)                 77        \n",
      "_________________________________________________________________\n",
      "dense_4 (Dense)              (None, 10)                80        \n",
      "_________________________________________________________________\n",
      "dense_5 (Dense)              (None, 15)                165       \n",
      "_________________________________________________________________\n",
      "dense_6 (Dense)              (None, 20)                320       \n",
      "=================================================================\n",
      "Total params: 1,117\n",
      "Trainable params: 1,117\n",
      "Non-trainable params: 0\n",
      "_________________________________________________________________\n"
     ]
    }
   ],
   "source": [
    "#================BUILD THE MODEL====================\n",
    "print(\"Using Keras version: \", keras.__version__)\n",
    "\n",
    "# Simple model\n",
    "model = models.Sequential()\n",
    "\n",
    "model.add(Dense(15, activation = 'elu', kernel_initializer='glorot_uniform',\n",
    "                kernel_regularizer=regularizers.l2(0.0),\n",
    "                input_dim=X_train.shape[1]))\n",
    "\n",
    "model.add(Dense(10,activation='elu',\n",
    "                kernel_initializer='glorot_uniform'))\n",
    "\n",
    "model.add(Dense(7,activation='elu',\n",
    "                kernel_initializer='glorot_uniform'))\n",
    "\n",
    "model.add(Dense(10,activation='elu',\n",
    "                kernel_initializer='glorot_uniform'))\n",
    "\n",
    "model.add(Dense(15,activation='elu',\n",
    "                kernel_initializer='glorot_uniform'))\n",
    "\n",
    "model.add(Dense(X_train.shape[1],\n",
    "                kernel_initializer='glorot_uniform'))\n",
    "\n",
    "model.compile(loss='mse',optimizer='adam')\n",
    "\n",
    "model.summary()"
   ]
  },
  {
   "cell_type": "code",
   "execution_count": 8,
   "metadata": {
    "collapsed": true
   },
   "outputs": [
    {
     "name": "stdout",
     "output_type": "stream",
     "text": [
      "Train on 891000 samples, validate on 99000 samples\n",
      "Epoch 1/50\n",
      "891000/891000 [==============================] - 8s 9us/step - loss: 136.3159 - val_loss: 2.4114\n",
      "Epoch 2/50\n",
      "891000/891000 [==============================] - 8s 9us/step - loss: 1.0075 - val_loss: 0.1590\n",
      "Epoch 3/50\n",
      "891000/891000 [==============================] - 7s 8us/step - loss: 0.3527 - val_loss: 0.0928\n",
      "Epoch 4/50\n",
      "891000/891000 [==============================] - 7s 8us/step - loss: 0.3132 - val_loss: 0.0665\n",
      "Epoch 5/50\n",
      "891000/891000 [==============================] - 7s 8us/step - loss: 0.3000 - val_loss: 0.0794\n",
      "Epoch 6/50\n",
      "891000/891000 [==============================] - 7s 8us/step - loss: 0.2893 - val_loss: 0.0619\n",
      "Epoch 7/50\n",
      "891000/891000 [==============================] - 7s 8us/step - loss: 0.2797 - val_loss: 0.0859\n",
      "Epoch 8/50\n",
      "891000/891000 [==============================] - 7s 8us/step - loss: 0.2604 - val_loss: 0.0512\n",
      "Epoch 9/50\n",
      "891000/891000 [==============================] - 6s 7us/step - loss: 0.2220 - val_loss: 0.0495\n",
      "Epoch 10/50\n",
      "891000/891000 [==============================] - 7s 8us/step - loss: 0.1565 - val_loss: 0.0334\n",
      "Epoch 11/50\n",
      "891000/891000 [==============================] - 6s 7us/step - loss: 0.0935 - val_loss: 0.0219\n",
      "Epoch 12/50\n",
      "891000/891000 [==============================] - 7s 8us/step - loss: 0.0530 - val_loss: 0.0163\n",
      "Epoch 13/50\n",
      "891000/891000 [==============================] - 8s 9us/step - loss: 0.0323 - val_loss: 0.0131\n",
      "Epoch 14/50\n",
      "891000/891000 [==============================] - 7s 7us/step - loss: 0.0261 - val_loss: 0.0112\n",
      "Epoch 15/50\n",
      "891000/891000 [==============================] - 7s 8us/step - loss: 0.0207 - val_loss: 0.0122\n",
      "Epoch 16/50\n",
      "891000/891000 [==============================] - 6s 7us/step - loss: 0.0209 - val_loss: 0.0188\n",
      "Epoch 17/50\n",
      "891000/891000 [==============================] - 7s 8us/step - loss: 0.0194 - val_loss: 0.0205\n",
      "Epoch 18/50\n",
      "891000/891000 [==============================] - 7s 8us/step - loss: 0.0193 - val_loss: 0.0105\n",
      "Epoch 19/50\n",
      "891000/891000 [==============================] - 7s 7us/step - loss: 0.0194 - val_loss: 0.0105\n",
      "Epoch 20/50\n",
      "891000/891000 [==============================] - 6s 7us/step - loss: 0.0215 - val_loss: 0.0106\n",
      "Epoch 21/50\n",
      "891000/891000 [==============================] - 7s 8us/step - loss: 0.0183 - val_loss: 0.0099\n",
      "Epoch 22/50\n",
      "891000/891000 [==============================] - 7s 8us/step - loss: 0.0201 - val_loss: 0.0128\n",
      "Epoch 23/50\n",
      "891000/891000 [==============================] - 7s 8us/step - loss: 0.0185 - val_loss: 0.0115\n",
      "Epoch 24/50\n",
      "891000/891000 [==============================] - 7s 8us/step - loss: 0.0190 - val_loss: 0.0116\n",
      "Epoch 25/50\n",
      "891000/891000 [==============================] - 7s 8us/step - loss: 0.0191 - val_loss: 0.0147\n",
      "Epoch 26/50\n",
      "891000/891000 [==============================] - 7s 7us/step - loss: 0.0203 - val_loss: 0.0399\n",
      "Epoch 27/50\n",
      "891000/891000 [==============================] - 7s 7us/step - loss: 0.0192 - val_loss: 0.0185\n",
      "Epoch 28/50\n",
      "891000/891000 [==============================] - 7s 8us/step - loss: 0.0181 - val_loss: 0.0109\n",
      "Epoch 29/50\n",
      "891000/891000 [==============================] - 7s 7us/step - loss: 0.0194 - val_loss: 0.0113\n",
      "Epoch 30/50\n",
      "891000/891000 [==============================] - 7s 8us/step - loss: 0.0177 - val_loss: 0.0249\n",
      "Epoch 31/50\n",
      "891000/891000 [==============================] - 7s 8us/step - loss: 0.0191 - val_loss: 0.0127\n",
      "Epoch 32/50\n",
      "891000/891000 [==============================] - 7s 8us/step - loss: 0.0187 - val_loss: 0.0114\n",
      "Epoch 33/50\n",
      "891000/891000 [==============================] - 7s 8us/step - loss: 0.0212 - val_loss: 0.0126\n",
      "Epoch 34/50\n",
      "891000/891000 [==============================] - 7s 8us/step - loss: 0.0171 - val_loss: 0.0112\n",
      "Epoch 35/50\n",
      "891000/891000 [==============================] - 7s 7us/step - loss: 0.0185 - val_loss: 0.0109\n",
      "Epoch 36/50\n",
      "891000/891000 [==============================] - 6s 7us/step - loss: 0.0185 - val_loss: 0.0127\n",
      "Epoch 37/50\n",
      "891000/891000 [==============================] - 6s 7us/step - loss: 0.0184 - val_loss: 0.0136\n",
      "Epoch 38/50\n",
      "891000/891000 [==============================] - 6s 7us/step - loss: 0.0190 - val_loss: 0.0116\n",
      "Epoch 39/50\n",
      "891000/891000 [==============================] - 6s 7us/step - loss: 0.0189 - val_loss: 0.0107\n",
      "Epoch 40/50\n",
      "891000/891000 [==============================] - 6s 7us/step - loss: 0.0186 - val_loss: 0.0110\n",
      "Epoch 41/50\n",
      "891000/891000 [==============================] - 6s 7us/step - loss: 0.0183 - val_loss: 0.0108\n",
      "Epoch 42/50\n",
      "891000/891000 [==============================] - 6s 7us/step - loss: 0.0190 - val_loss: 0.0107\n",
      "Epoch 43/50\n",
      "891000/891000 [==============================] - 6s 7us/step - loss: 0.0188 - val_loss: 0.0102\n",
      "Epoch 44/50\n",
      "891000/891000 [==============================] - 6s 7us/step - loss: 0.0176 - val_loss: 0.0782\n",
      "Epoch 45/50\n",
      "891000/891000 [==============================] - 7s 8us/step - loss: 0.0188 - val_loss: 0.0148\n",
      "Epoch 46/50\n",
      "891000/891000 [==============================] - 7s 8us/step - loss: 0.0176 - val_loss: 0.0117\n",
      "Epoch 47/50\n",
      "891000/891000 [==============================] - 7s 8us/step - loss: 0.0185 - val_loss: 0.0100\n",
      "Epoch 48/50\n",
      "891000/891000 [==============================] - 6s 7us/step - loss: 0.0180 - val_loss: 0.0103\n",
      "Epoch 49/50\n",
      "891000/891000 [==============================] - 7s 8us/step - loss: 0.0206 - val_loss: 0.0131\n",
      "Epoch 50/50\n",
      "891000/891000 [==============================] - 8s 8us/step - loss: 0.0163 - val_loss: 0.0123\n"
     ]
    }
   ],
   "source": [
    "# Train model for 100 epochs, batch size of 10: \n",
    "NUM_EPOCHS=50\n",
    "BATCH_SIZE=2000\n",
    "\n",
    "history=model.fit(X_train, X_train,\n",
    "                  batch_size=BATCH_SIZE, \n",
    "                  epochs=NUM_EPOCHS,\n",
    "                  validation_split=0.1,\n",
    "                  verbose = 1)"
   ]
  },
  {
   "cell_type": "code",
   "execution_count": 9,
   "metadata": {},
   "outputs": [],
   "source": [
    "model.save(\"./models/All-Ramp4-1swin-100usstep.h5\")"
   ]
  },
  {
   "cell_type": "code",
   "execution_count": 10,
   "metadata": {
    "collapsed": true
   },
   "outputs": [
    {
     "data": {
      "image/png": "[encoded data removed]",
      "text/plain": [
       "<Figure size 432x288 with 1 Axes>"
      ]
     },
     "metadata": {
      "needs_background": "light"
     },
     "output_type": "display_data"
    }
   ],
   "source": [
    "plt.plot(history.history['loss'],\n",
    "         'b',\n",
    "         label='Training loss')\n",
    "plt.plot(history.history['val_loss'],\n",
    "         'r',\n",
    "         label='Validation loss')\n",
    "plt.legend(loc='upper right')\n",
    "plt.xlabel('Epochs')\n",
    "plt.ylabel('Loss, [mse]')\n",
    "plt.show()"
   ]
  },
  {
   "cell_type": "code",
   "execution_count": 11,
   "metadata": {},
   "outputs": [],
   "source": [
    "X_pred = model.predict(np.array(X_train))\n",
    "scored = pd.DataFrame()\n",
    "scored['Loss_mse'] = np.mean(np.abs(X_pred-X_train), axis = 1)"
   ]
  },
  {
   "cell_type": "code",
   "execution_count": 12,
   "metadata": {},
   "outputs": [],
   "source": [
    "X_pred_test = model.predict(np.array(X_test))\n",
    "scored_test = pd.DataFrame()\n",
    "scored_test['Loss_mse'] = np.mean(np.abs(X_pred_test-X_test), axis = 1)"
   ]
  },
  {
   "cell_type": "code",
   "execution_count": 13,
   "metadata": {
    "collapsed": true
   },
   "outputs": [
    {
     "data": {
      "text/plain": [
       "Text(0.5, 0, 'Time (s)')"
      ]
     },
     "execution_count": 13,
     "metadata": {},
     "output_type": "execute_result"
    },
    {
     "data": {
      "image/png": "[encoded data removed]",
      "text/plain": [
       "<Figure size 1440x144 with 1 Axes>"
      ]
     },
     "metadata": {
      "needs_background": "light"
     },
     "output_type": "display_data"
    }
   ],
   "source": [
    "plt.figure(figsize=(20,2))\n",
    "plt.plot(train_time, scored['Loss_mse'])\n",
    "plt.ylim([0,15])\n",
    "plt.xlabel(\"Time (s)\")"
   ]
  },
  {
   "cell_type": "code",
   "execution_count": 20,
   "metadata": {
    "collapsed": true
   },
   "outputs": [
    {
     "data": {
      "text/plain": [
       "Text(0.5, 0, 'Time (s)')"
      ]
     },
     "execution_count": 20,
     "metadata": {},
     "output_type": "execute_result"
    },
    {
     "data": {
      "image/png": "[encoded data removed]",
      "text/plain": [
       "<Figure size 1440x144 with 1 Axes>"
      ]
     },
     "metadata": {
      "needs_background": "light"
     },
     "output_type": "display_data"
    }
   ],
   "source": [
    "plt.figure(figsize=(20,2))\n",
    "plt.plot(test_time, scored_test['Loss_mse'])\n",
    "plt.ylim([0,40])\n",
    "plt.xlim([-100e-3,0])\n",
    "plt.xlabel(\"Time (s)\")"
   ]
  },
  {
   "cell_type": "markdown",
   "metadata": {},
   "source": [
    "## 4 Window size: 2s; step = 100us"
   ]
  },
  {
   "cell_type": "code",
   "execution_count": 5,
   "metadata": {},
   "outputs": [
    {
     "name": "stdout",
     "output_type": "stream",
     "text": [
      "Flushing input history\n",
      "Flushing input history\n",
      "Flushing input history\n",
      "Flushing input history\n",
      "Flushing input history\n",
      "Flushing input history\n",
      "Flushing input history\n",
      "Flushing input history\n",
      "Flushing input history\n",
      "Flushing input history\n",
      "Flushing input history\n",
      "Flushing input history\n",
      "X_train's shape:  (980000, 20)\n",
      "X_test's shape:  (180000, 20)\n"
     ]
    }
   ],
   "source": [
    "X_train, train_time = generate_data_all_sensors(\"./data/Ramp4/\", time_range = (-450, -350), window = 200000, step = 10)\n",
    "X_test, test_time = generate_data_all_sensors(\"./data/Ramp4/\", time_range = (-20, 0), window = 200000, step = 10)\n",
    "print(\"X_train's shape: \", X_train.shape)\n",
    "print(\"X_test's shape: \", X_test.shape)"
   ]
  },
  {
   "cell_type": "code",
   "execution_count": 6,
   "metadata": {},
   "outputs": [
    {
     "name": "stdout",
     "output_type": "stream",
     "text": [
      "Using Keras version:  2.3.1\n",
      "Model: \"sequential_1\"\n",
      "_________________________________________________________________\n",
      "Layer (type)                 Output Shape              Param #   \n",
      "=================================================================\n",
      "dense_1 (Dense)              (None, 15)                315       \n",
      "_________________________________________________________________\n",
      "dense_2 (Dense)              (None, 10)                160       \n",
      "_________________________________________________________________\n",
      "dense_3 (Dense)              (None, 7)                 77        \n",
      "_________________________________________________________________\n",
      "dense_4 (Dense)              (None, 10)                80        \n",
      "_________________________________________________________________\n",
      "dense_5 (Dense)              (None, 15)                165       \n",
      "_________________________________________________________________\n",
      "dense_6 (Dense)              (None, 20)                320       \n",
      "=================================================================\n",
      "Total params: 1,117\n",
      "Trainable params: 1,117\n",
      "Non-trainable params: 0\n",
      "_________________________________________________________________\n"
     ]
    }
   ],
   "source": [
    "#================BUILD THE MODEL====================\n",
    "print(\"Using Keras version: \", keras.__version__)\n",
    "\n",
    "# Simple model\n",
    "model = models.Sequential()\n",
    "\n",
    "model.add(Dense(15, activation = 'elu', kernel_initializer='glorot_uniform',\n",
    "                kernel_regularizer=regularizers.l2(0.0),\n",
    "                input_dim=X_train.shape[1]))\n",
    "\n",
    "model.add(Dense(10,activation='elu',\n",
    "                kernel_initializer='glorot_uniform'))\n",
    "\n",
    "model.add(Dense(7,activation='elu',\n",
    "                kernel_initializer='glorot_uniform'))\n",
    "\n",
    "model.add(Dense(10,activation='elu',\n",
    "                kernel_initializer='glorot_uniform'))\n",
    "\n",
    "model.add(Dense(15,activation='elu',\n",
    "                kernel_initializer='glorot_uniform'))\n",
    "\n",
    "model.add(Dense(X_train.shape[1],\n",
    "                kernel_initializer='glorot_uniform'))\n",
    "\n",
    "model.compile(loss='mse',optimizer='adam')\n",
    "\n",
    "model.summary()"
   ]
  },
  {
   "cell_type": "code",
   "execution_count": 7,
   "metadata": {},
   "outputs": [
    {
     "name": "stdout",
     "output_type": "stream",
     "text": [
      "Train on 882000 samples, validate on 98000 samples\n",
      "Epoch 1/50\n",
      "882000/882000 [==============================] - 8s 9us/step - loss: 195.7454 - val_loss: 48.7912\n",
      "Epoch 2/50\n",
      "882000/882000 [==============================] - 7s 7us/step - loss: 41.0780 - val_loss: 52.7953\n",
      "Epoch 3/50\n",
      "882000/882000 [==============================] - 6s 7us/step - loss: 38.4415 - val_loss: 50.6189\n",
      "Epoch 4/50\n",
      "882000/882000 [==============================] - 7s 8us/step - loss: 37.0514 - val_loss: 51.8642\n",
      "Epoch 5/50\n",
      "882000/882000 [==============================] - 7s 8us/step - loss: 36.2523 - val_loss: 52.0213\n",
      "Epoch 6/50\n",
      "882000/882000 [==============================] - 7s 7us/step - loss: 34.7882 - val_loss: 52.0909\n",
      "Epoch 7/50\n",
      "882000/882000 [==============================] - 7s 8us/step - loss: 31.8220 - val_loss: 46.9779\n",
      "Epoch 8/50\n",
      "882000/882000 [==============================] - 7s 8us/step - loss: 27.2794 - val_loss: 14.6833\n",
      "Epoch 9/50\n",
      "882000/882000 [==============================] - 7s 8us/step - loss: 7.2439 - val_loss: 2.0365\n",
      "Epoch 10/50\n",
      "882000/882000 [==============================] - 7s 8us/step - loss: 3.2388 - val_loss: 1.2607\n",
      "Epoch 11/50\n",
      "882000/882000 [==============================] - 7s 7us/step - loss: 2.9618 - val_loss: 1.1970\n",
      "Epoch 12/50\n",
      "882000/882000 [==============================] - 7s 8us/step - loss: 2.8454 - val_loss: 1.0693\n",
      "Epoch 13/50\n",
      "882000/882000 [==============================] - 6s 7us/step - loss: 2.7658 - val_loss: 1.1267\n",
      "Epoch 14/50\n",
      "882000/882000 [==============================] - 6s 7us/step - loss: 2.7138 - val_loss: 1.0307\n",
      "Epoch 15/50\n",
      "882000/882000 [==============================] - 6s 7us/step - loss: 2.6683 - val_loss: 1.2214\n",
      "Epoch 16/50\n",
      "882000/882000 [==============================] - 6s 7us/step - loss: 2.6275 - val_loss: 1.2981\n",
      "Epoch 17/50\n",
      "882000/882000 [==============================] - 7s 8us/step - loss: 2.5904 - val_loss: 1.1719\n",
      "Epoch 18/50\n",
      "882000/882000 [==============================] - 6s 7us/step - loss: 2.5619 - val_loss: 1.3123\n",
      "Epoch 19/50\n",
      "882000/882000 [==============================] - 6s 7us/step - loss: 2.5118 - val_loss: 1.1966\n",
      "Epoch 20/50\n",
      "882000/882000 [==============================] - 6s 7us/step - loss: 2.4702 - val_loss: 1.2079\n",
      "Epoch 21/50\n",
      "882000/882000 [==============================] - 6s 7us/step - loss: 2.4429 - val_loss: 1.0445\n",
      "Epoch 22/50\n",
      "882000/882000 [==============================] - 6s 7us/step - loss: 2.4192 - val_loss: 1.2024\n",
      "Epoch 23/50\n",
      "882000/882000 [==============================] - 7s 8us/step - loss: 2.4008 - val_loss: 1.2837\n",
      "Epoch 24/50\n",
      "882000/882000 [==============================] - 7s 8us/step - loss: 2.3846 - val_loss: 1.3443\n",
      "Epoch 25/50\n",
      "882000/882000 [==============================] - 7s 8us/step - loss: 2.3716 - val_loss: 1.2566\n",
      "Epoch 26/50\n",
      "882000/882000 [==============================] - 7s 7us/step - loss: 2.3646 - val_loss: 1.4923\n",
      "Epoch 27/50\n",
      "882000/882000 [==============================] - 7s 8us/step - loss: 2.3533 - val_loss: 1.5195\n",
      "Epoch 28/50\n",
      "882000/882000 [==============================] - 7s 8us/step - loss: 2.3463 - val_loss: 1.4366\n",
      "Epoch 29/50\n",
      "882000/882000 [==============================] - 7s 8us/step - loss: 2.3393 - val_loss: 1.3970\n",
      "Epoch 30/50\n",
      "882000/882000 [==============================] - 7s 8us/step - loss: 2.3294 - val_loss: 1.3428\n",
      "Epoch 31/50\n",
      "882000/882000 [==============================] - 6s 7us/step - loss: 2.3231 - val_loss: 1.3858\n",
      "Epoch 32/50\n",
      "882000/882000 [==============================] - 7s 8us/step - loss: 2.3159 - val_loss: 1.4688\n",
      "Epoch 33/50\n",
      "882000/882000 [==============================] - 7s 8us/step - loss: 2.3119 - val_loss: 1.4456\n",
      "Epoch 34/50\n",
      "882000/882000 [==============================] - 7s 8us/step - loss: 2.3064 - val_loss: 1.4723\n",
      "Epoch 35/50\n",
      "882000/882000 [==============================] - 8s 9us/step - loss: 2.3005 - val_loss: 1.3180\n",
      "Epoch 36/50\n",
      "882000/882000 [==============================] - 7s 8us/step - loss: 2.2971 - val_loss: 1.3495\n",
      "Epoch 37/50\n",
      "882000/882000 [==============================] - 6s 7us/step - loss: 2.2911 - val_loss: 1.3781\n",
      "Epoch 38/50\n",
      "882000/882000 [==============================] - 7s 8us/step - loss: 2.2889 - val_loss: 1.2893\n",
      "Epoch 39/50\n",
      "882000/882000 [==============================] - 7s 8us/step - loss: 2.2838 - val_loss: 1.4075\n",
      "Epoch 40/50\n",
      "882000/882000 [==============================] - 7s 8us/step - loss: 2.2819 - val_loss: 1.3663\n",
      "Epoch 41/50\n",
      "882000/882000 [==============================] - 7s 7us/step - loss: 2.2778 - val_loss: 1.4673\n",
      "Epoch 42/50\n",
      "882000/882000 [==============================] - 7s 8us/step - loss: 2.2737 - val_loss: 1.4118\n",
      "Epoch 43/50\n",
      "882000/882000 [==============================] - 6s 7us/step - loss: 2.2728 - val_loss: 1.4384\n",
      "Epoch 44/50\n",
      "882000/882000 [==============================] - 7s 8us/step - loss: 2.2679 - val_loss: 1.3689\n",
      "Epoch 45/50\n",
      "882000/882000 [==============================] - 7s 8us/step - loss: 2.2688 - val_loss: 1.3749\n",
      "Epoch 46/50\n",
      "882000/882000 [==============================] - 6s 7us/step - loss: 2.2646 - val_loss: 1.5574\n",
      "Epoch 47/50\n",
      "882000/882000 [==============================] - 7s 7us/step - loss: 2.2646 - val_loss: 1.4447\n",
      "Epoch 48/50\n",
      "882000/882000 [==============================] - 6s 7us/step - loss: 2.2621 - val_loss: 1.5633\n",
      "Epoch 49/50\n",
      "882000/882000 [==============================] - 7s 8us/step - loss: 2.2601 - val_loss: 1.5932\n",
      "Epoch 50/50\n",
      "882000/882000 [==============================] - 7s 8us/step - loss: 2.2604 - val_loss: 1.4543\n"
     ]
    }
   ],
   "source": [
    "# Train model for 100 epochs, batch size of 10: \n",
    "NUM_EPOCHS=50\n",
    "BATCH_SIZE=2000\n",
    "\n",
    "history=model.fit(X_train, X_train,\n",
    "                  batch_size=BATCH_SIZE, \n",
    "                  epochs=NUM_EPOCHS,\n",
    "                  validation_split=0.1,\n",
    "                  verbose = 1)"
   ]
  },
  {
   "cell_type": "code",
   "execution_count": 8,
   "metadata": {},
   "outputs": [],
   "source": [
    "model.save(\"./models/All-Ramp4-2swin-100usstep.h5\")"
   ]
  },
  {
   "cell_type": "code",
   "execution_count": 9,
   "metadata": {},
   "outputs": [],
   "source": [
    "X_pred = model.predict(np.array(X_train))\n",
    "scored = pd.DataFrame()\n",
    "scored['Loss_mse'] = np.mean(np.abs(X_pred-X_train), axis = 1)"
   ]
  },
  {
   "cell_type": "code",
   "execution_count": 10,
   "metadata": {},
   "outputs": [],
   "source": [
    "X_pred_test = model.predict(np.array(X_test))\n",
    "scored_test = pd.DataFrame()\n",
    "scored_test['Loss_mse'] = np.mean(np.abs(X_pred_test-X_test), axis = 1)"
   ]
  },
  {
   "cell_type": "code",
   "execution_count": 19,
   "metadata": {},
   "outputs": [
    {
     "data": {
      "text/plain": [
       "Text(0.5, 0, 'Time (s)')"
      ]
     },
     "execution_count": 19,
     "metadata": {},
     "output_type": "execute_result"
    },
    {
     "data": {
      "image/png": "[encoded data removed]",
      "text/plain": [
       "<Figure size 1440x144 with 1 Axes>"
      ]
     },
     "metadata": {
      "needs_background": "light"
     },
     "output_type": "display_data"
    }
   ],
   "source": [
    "plt.figure(figsize=(20,2))\n",
    "plt.plot(train_time, scored['Loss_mse'])\n",
    "plt.ylim([0,70])\n",
    "plt.xlabel(\"Time (s)\")"
   ]
  },
  {
   "cell_type": "code",
   "execution_count": 22,
   "metadata": {},
   "outputs": [
    {
     "data": {
      "text/plain": [
       "Text(0.5, 0, 'Time (s)')"
      ]
     },
     "execution_count": 22,
     "metadata": {},
     "output_type": "execute_result"
    },
    {
     "data": {
      "image/png": "[encoded data removed]",
      "text/plain": [
       "<Figure size 1440x144 with 1 Axes>"
      ]
     },
     "metadata": {
      "needs_background": "light"
     },
     "output_type": "display_data"
    }
   ],
   "source": [
    "plt.figure(figsize=(20,2))\n",
    "plt.plot(test_time, scored_test['Loss_mse'])\n",
    "plt.ylim([0,70])\n",
    "plt.xlim([-100e-3,0])\n",
    "plt.xlabel(\"Time (s)\")"
   ]
  },
  {
   "cell_type": "code",
   "execution_count": null,
   "metadata": {},
   "outputs": [],
   "source": []
  }
 ],
 "metadata": {
  "kernelspec": {
   "display_name": "Python 3",
   "language": "python",
   "name": "python3"
  },
  "language_info": {
   "codemirror_mode": {
    "name": "ipython",
    "version": 3
   },
   "file_extension": ".py",
   "mimetype": "text/x-python",
   "name": "python",
   "nbconvert_exporter": "python",
   "pygments_lexer": "ipython3",
   "version": "3.7.6"
  }
 },
 "nbformat": 4,
 "nbformat_minor": 4
}
